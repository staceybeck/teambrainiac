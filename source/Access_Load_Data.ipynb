{
 "cells": [
  {
   "cell_type": "markdown",
   "metadata": {},
   "source": [
    "# Access S3 Storage and Extract Paths and Subject IDs, Load Data\n",
    "- This is a demo notebook for how the function *access_load_data()* works in utils.py\n",
    "- Requires local storage of path_config.py in ./source directory\n",
    "- Saves dictionary pickle file of subject .mat data, subject IDs, mask .mat data, and labels in ./source/data directory"
   ]
  },
  {
   "cell_type": "code",
   "execution_count": 1,
   "metadata": {},
   "outputs": [],
   "source": [
    "from path_config import mat_path\n",
    "import boto3\n",
    "from collections import defaultdict\n",
    "import re\n",
    "import pickle\n",
    "from utils import *"
   ]
  },
  {
   "cell_type": "markdown",
   "metadata": {},
   "source": [
    "#### Access S3 file storage and check buckets and objects needed"
   ]
  },
  {
   "cell_type": "code",
   "execution_count": 10,
   "metadata": {},
   "outputs": [],
   "source": [
    "# Acces AWS S3 MATLAB file \n",
    "pubkey = mat_path['ACCESS_KEY']\n",
    "seckey = mat_path['SECRET_KEY']\n",
    "client = boto3.client('s3', aws_access_key_id = pubkey, aws_secret_access_key = seckey)\n",
    "#response = client.list_buckets()\n",
    "s3 = boto3.resource('s3', aws_access_key_id = pubkey, aws_secret_access_key = seckey)"
   ]
  },
  {
   "cell_type": "code",
   "execution_count": 11,
   "metadata": {},
   "outputs": [
    {
     "data": {
      "text/plain": [
       "[s3.Bucket(name='aws-cloudtrail-logs-598991111123-85ddbc5c'),\n",
       " s3.Bucket(name='clockdrawingbattery'),\n",
       " s3.Bucket(name='clockdrawingimages'),\n",
       " s3.Bucket(name='clockdrawingimages1'),\n",
       " s3.Bucket(name='clockdrawingimages2'),\n",
       " s3.Bucket(name='clockdrawingimages3'),\n",
       " s3.Bucket(name='clockimages'),\n",
       " s3.Bucket(name='healthyhomes591'),\n",
       " s3.Bucket(name='teambrainiac'),\n",
       " s3.Bucket(name='test-bucket-clockids-aicrowd')]"
      ]
     },
     "execution_count": 11,
     "metadata": {},
     "output_type": "execute_result"
    }
   ],
   "source": [
    "list(s3.buckets.all())"
   ]
  },
  {
   "cell_type": "code",
   "execution_count": 12,
   "metadata": {},
   "outputs": [
    {
     "name": "stdout",
     "output_type": "stream",
     "text": [
      "bucket name:  s3.Bucket(name='teambrainiac')\n"
     ]
    }
   ],
   "source": [
    "bucket = s3.Bucket('teambrainiac')\n",
    "print(\"bucket name: \", bucket)\n",
    "bucket_ = bucket.name # 'teambrainiac'"
   ]
  },
  {
   "cell_type": "code",
   "execution_count": 13,
   "metadata": {},
   "outputs": [
    {
     "name": "stdout",
     "output_type": "stream",
     "text": [
      "length of object list 55\n"
     ]
    }
   ],
   "source": [
    "obj_name = list(bucket.objects.all())\n",
    "obj = obj_name[0].key\n",
    "print('length of object list', len(obj_name))"
   ]
  },
  {
   "cell_type": "markdown",
   "metadata": {},
   "source": [
    "#### Extract the path names and subject IDs and store into a dictionary of lists"
   ]
  },
  {
   "cell_type": "code",
   "execution_count": 14,
   "metadata": {},
   "outputs": [],
   "source": [
    "# Create a dictionary to store data values, subject IDs\n",
    "data_path_dictionary = defaultdict(list)\n",
    "\n",
    "# String vars\n",
    "substring_data = 'svm_subj_vecs.mat'\n",
    "substring_mask = 'masks.mat'\n",
    "substring_label = 'rt_labels.mat'\n",
    "sub_ID_regex = r\"(\\d{5}_\\d{5})\" # extracts 10 digit ID separated in middle by underscore \n",
    "\n",
    "# Populate the dictionary\n",
    "for i in obj_name:\n",
    "    #print(type(i.key))\n",
    "    #print(i.key)\n",
    "    if substring_data in i.key:\n",
    "        data_path_dictionary['subject_data'].append(i.key)\n",
    "        data_path_dictionary['subject_ID'].extend(re.findall(sub_ID_regex, i.key))\n",
    "    if substring_mask in i.key:\n",
    "        data_path_dictionary['mask_data'].append(i.key)\n",
    "    if substring_label in i.key:\n",
    "        data_path_dictionary['labels'].append(i.key)\n",
    "        "
   ]
  },
  {
   "cell_type": "code",
   "execution_count": 15,
   "metadata": {},
   "outputs": [
    {
     "data": {
      "text/plain": [
       "defaultdict(list,\n",
       "            {'subject_data': ['svm_data/10004_08693/svm_subj_vecs.mat',\n",
       "              'svm_data/10008_09924/svm_subj_vecs.mat',\n",
       "              'svm_data/10009_08848/svm_subj_vecs.mat',\n",
       "              'svm_data/10016_09694/svm_subj_vecs.mat',\n",
       "              'svm_data/10017_08894/svm_subj_vecs.mat',\n",
       "              'svm_data/10018_08907/svm_subj_vecs.mat',\n",
       "              'svm_data/10021_08839/svm_subj_vecs.mat',\n",
       "              'svm_data/10022_08854/svm_subj_vecs.mat',\n",
       "              'svm_data/10023_09126/svm_subj_vecs.mat',\n",
       "              'svm_data/10027_09455/svm_subj_vecs.mat',\n",
       "              'svm_data/10033_08871/svm_subj_vecs.mat',\n",
       "              'svm_data/10034_08879/svm_subj_vecs.mat',\n",
       "              'svm_data/10035_08847/svm_subj_vecs.mat',\n",
       "              'svm_data/10036_09800/svm_subj_vecs.mat',\n",
       "              'svm_data/10037_09903/svm_subj_vecs.mat',\n",
       "              'svm_data/10038_09063/svm_subj_vecs.mat',\n",
       "              'svm_data/10039_08941/svm_subj_vecs.mat',\n",
       "              'svm_data/10042_08990/svm_subj_vecs.mat',\n",
       "              'svm_data/10043_09222/svm_subj_vecs.mat',\n",
       "              'svm_data/10045_08968/svm_subj_vecs.mat',\n",
       "              'svm_data/10046_09216/svm_subj_vecs.mat',\n",
       "              'svm_data/10047_09030/svm_subj_vecs.mat',\n",
       "              'svm_data/10050_09079/svm_subj_vecs.mat',\n",
       "              'svm_data/10053_09018/svm_subj_vecs.mat',\n",
       "              'svm_data/10056_09615/svm_subj_vecs.mat',\n",
       "              'svm_data/10057_10124/svm_subj_vecs.mat',\n",
       "              'svm_data/10060_09359/svm_subj_vecs.mat',\n",
       "              'svm_data/10061_09308/svm_subj_vecs.mat',\n",
       "              'svm_data/10065_09587/svm_subj_vecs.mat',\n",
       "              'svm_data/10066_09687/svm_subj_vecs.mat',\n",
       "              'svm_data/10069_09785/svm_subj_vecs.mat',\n",
       "              'svm_data/10080_09931/svm_subj_vecs.mat',\n",
       "              'svm_data/10084_10188/svm_subj_vecs.mat',\n",
       "              'svm_data/30004_08965/svm_subj_vecs.mat',\n",
       "              'svm_data/30008_08981/svm_subj_vecs.mat',\n",
       "              'svm_data/30009_09227/svm_subj_vecs.mat',\n",
       "              'svm_data/30011_09170/svm_subj_vecs.mat',\n",
       "              'svm_data/30012_09102/svm_subj_vecs.mat',\n",
       "              'svm_data/30014_09352/svm_subj_vecs.mat',\n",
       "              'svm_data/30017_09567/svm_subj_vecs.mat',\n",
       "              'svm_data/30020_09236/svm_subj_vecs.mat',\n",
       "              'svm_data/30024_09398/svm_subj_vecs.mat',\n",
       "              'svm_data/30025_09402/svm_subj_vecs.mat',\n",
       "              'svm_data/30026_09430/svm_subj_vecs.mat',\n",
       "              'svm_data/30027_09638/svm_subj_vecs.mat',\n",
       "              'svm_data/30033_09776/svm_subj_vecs.mat',\n",
       "              'svm_data/30035_09836/svm_subj_vecs.mat',\n",
       "              'svm_data/30036_09758/svm_subj_vecs.mat',\n",
       "              'svm_data/30038_09967/svm_subj_vecs.mat',\n",
       "              'svm_data/30044_10095/svm_subj_vecs.mat',\n",
       "              'svm_data/30045_10182/svm_subj_vecs.mat',\n",
       "              'svm_data/30053_10112/svm_subj_vecs.mat'],\n",
       "             'subject_ID': ['10004_08693',\n",
       "              '10008_09924',\n",
       "              '10009_08848',\n",
       "              '10016_09694',\n",
       "              '10017_08894',\n",
       "              '10018_08907',\n",
       "              '10021_08839',\n",
       "              '10022_08854',\n",
       "              '10023_09126',\n",
       "              '10027_09455',\n",
       "              '10033_08871',\n",
       "              '10034_08879',\n",
       "              '10035_08847',\n",
       "              '10036_09800',\n",
       "              '10037_09903',\n",
       "              '10038_09063',\n",
       "              '10039_08941',\n",
       "              '10042_08990',\n",
       "              '10043_09222',\n",
       "              '10045_08968',\n",
       "              '10046_09216',\n",
       "              '10047_09030',\n",
       "              '10050_09079',\n",
       "              '10053_09018',\n",
       "              '10056_09615',\n",
       "              '10057_10124',\n",
       "              '10060_09359',\n",
       "              '10061_09308',\n",
       "              '10065_09587',\n",
       "              '10066_09687',\n",
       "              '10069_09785',\n",
       "              '10080_09931',\n",
       "              '10084_10188',\n",
       "              '30004_08965',\n",
       "              '30008_08981',\n",
       "              '30009_09227',\n",
       "              '30011_09170',\n",
       "              '30012_09102',\n",
       "              '30014_09352',\n",
       "              '30017_09567',\n",
       "              '30020_09236',\n",
       "              '30024_09398',\n",
       "              '30025_09402',\n",
       "              '30026_09430',\n",
       "              '30027_09638',\n",
       "              '30033_09776',\n",
       "              '30035_09836',\n",
       "              '30036_09758',\n",
       "              '30038_09967',\n",
       "              '30044_10095',\n",
       "              '30045_10182',\n",
       "              '30053_10112'],\n",
       "             'mask_data': ['svm_data/masks/masks.mat'],\n",
       "             'labels': ['svm_data/rt_labels.mat']})"
      ]
     },
     "execution_count": 15,
     "metadata": {},
     "output_type": "execute_result"
    }
   ],
   "source": [
    "data_path_dictionary"
   ]
  },
  {
   "cell_type": "markdown",
   "metadata": {},
   "source": [
    "#### Save the dictionary as a pickle file in source/data\n"
   ]
  },
  {
   "cell_type": "code",
   "execution_count": 16,
   "metadata": {},
   "outputs": [],
   "source": [
    "pkl_created = True\n",
    "if pkl_created == False:\n",
    "    f = open(\"data/data_path_dictionary.pkl\", \"wb\")\n",
    "    pickle.dump(data_path_dictionary, f)\n",
    "    f.close()\n",
    "    pkl_created = True"
   ]
  },
  {
   "cell_type": "code",
   "execution_count": 17,
   "metadata": {},
   "outputs": [
    {
     "name": "stdout",
     "output_type": "stream",
     "text": [
      "Dictionary contents: \n"
     ]
    },
    {
     "data": {
      "text/plain": [
       "defaultdict(list,\n",
       "            {'subject_data': ['svm_data/10004_08693/svm_subj_vecs.mat',\n",
       "              'svm_data/10008_09924/svm_subj_vecs.mat',\n",
       "              'svm_data/10009_08848/svm_subj_vecs.mat',\n",
       "              'svm_data/10016_09694/svm_subj_vecs.mat',\n",
       "              'svm_data/10017_08894/svm_subj_vecs.mat',\n",
       "              'svm_data/10018_08907/svm_subj_vecs.mat',\n",
       "              'svm_data/10021_08839/svm_subj_vecs.mat',\n",
       "              'svm_data/10022_08854/svm_subj_vecs.mat',\n",
       "              'svm_data/10023_09126/svm_subj_vecs.mat',\n",
       "              'svm_data/10027_09455/svm_subj_vecs.mat',\n",
       "              'svm_data/10033_08871/svm_subj_vecs.mat',\n",
       "              'svm_data/10034_08879/svm_subj_vecs.mat',\n",
       "              'svm_data/10035_08847/svm_subj_vecs.mat',\n",
       "              'svm_data/10036_09800/svm_subj_vecs.mat',\n",
       "              'svm_data/10037_09903/svm_subj_vecs.mat',\n",
       "              'svm_data/10038_09063/svm_subj_vecs.mat',\n",
       "              'svm_data/10039_08941/svm_subj_vecs.mat',\n",
       "              'svm_data/10042_08990/svm_subj_vecs.mat',\n",
       "              'svm_data/10043_09222/svm_subj_vecs.mat',\n",
       "              'svm_data/10045_08968/svm_subj_vecs.mat',\n",
       "              'svm_data/10046_09216/svm_subj_vecs.mat',\n",
       "              'svm_data/10047_09030/svm_subj_vecs.mat',\n",
       "              'svm_data/10050_09079/svm_subj_vecs.mat',\n",
       "              'svm_data/10053_09018/svm_subj_vecs.mat',\n",
       "              'svm_data/10056_09615/svm_subj_vecs.mat',\n",
       "              'svm_data/10057_10124/svm_subj_vecs.mat',\n",
       "              'svm_data/10060_09359/svm_subj_vecs.mat',\n",
       "              'svm_data/10061_09308/svm_subj_vecs.mat',\n",
       "              'svm_data/10065_09587/svm_subj_vecs.mat',\n",
       "              'svm_data/10066_09687/svm_subj_vecs.mat',\n",
       "              'svm_data/10069_09785/svm_subj_vecs.mat',\n",
       "              'svm_data/10080_09931/svm_subj_vecs.mat',\n",
       "              'svm_data/10084_10188/svm_subj_vecs.mat',\n",
       "              'svm_data/30004_08965/svm_subj_vecs.mat',\n",
       "              'svm_data/30008_08981/svm_subj_vecs.mat',\n",
       "              'svm_data/30009_09227/svm_subj_vecs.mat',\n",
       "              'svm_data/30011_09170/svm_subj_vecs.mat',\n",
       "              'svm_data/30012_09102/svm_subj_vecs.mat',\n",
       "              'svm_data/30014_09352/svm_subj_vecs.mat',\n",
       "              'svm_data/30017_09567/svm_subj_vecs.mat',\n",
       "              'svm_data/30020_09236/svm_subj_vecs.mat',\n",
       "              'svm_data/30024_09398/svm_subj_vecs.mat',\n",
       "              'svm_data/30025_09402/svm_subj_vecs.mat',\n",
       "              'svm_data/30026_09430/svm_subj_vecs.mat',\n",
       "              'svm_data/30027_09638/svm_subj_vecs.mat',\n",
       "              'svm_data/30033_09776/svm_subj_vecs.mat',\n",
       "              'svm_data/30035_09836/svm_subj_vecs.mat',\n",
       "              'svm_data/30036_09758/svm_subj_vecs.mat',\n",
       "              'svm_data/30038_09967/svm_subj_vecs.mat',\n",
       "              'svm_data/30044_10095/svm_subj_vecs.mat',\n",
       "              'svm_data/30045_10182/svm_subj_vecs.mat',\n",
       "              'svm_data/30053_10112/svm_subj_vecs.mat'],\n",
       "             'subject_ID': ['10004_08693',\n",
       "              '10008_09924',\n",
       "              '10009_08848',\n",
       "              '10016_09694',\n",
       "              '10017_08894',\n",
       "              '10018_08907',\n",
       "              '10021_08839',\n",
       "              '10022_08854',\n",
       "              '10023_09126',\n",
       "              '10027_09455',\n",
       "              '10033_08871',\n",
       "              '10034_08879',\n",
       "              '10035_08847',\n",
       "              '10036_09800',\n",
       "              '10037_09903',\n",
       "              '10038_09063',\n",
       "              '10039_08941',\n",
       "              '10042_08990',\n",
       "              '10043_09222',\n",
       "              '10045_08968',\n",
       "              '10046_09216',\n",
       "              '10047_09030',\n",
       "              '10050_09079',\n",
       "              '10053_09018',\n",
       "              '10056_09615',\n",
       "              '10057_10124',\n",
       "              '10060_09359',\n",
       "              '10061_09308',\n",
       "              '10065_09587',\n",
       "              '10066_09687',\n",
       "              '10069_09785',\n",
       "              '10080_09931',\n",
       "              '10084_10188',\n",
       "              '30004_08965',\n",
       "              '30008_08981',\n",
       "              '30009_09227',\n",
       "              '30011_09170',\n",
       "              '30012_09102',\n",
       "              '30014_09352',\n",
       "              '30017_09567',\n",
       "              '30020_09236',\n",
       "              '30024_09398',\n",
       "              '30025_09402',\n",
       "              '30026_09430',\n",
       "              '30027_09638',\n",
       "              '30033_09776',\n",
       "              '30035_09836',\n",
       "              '30036_09758',\n",
       "              '30038_09967',\n",
       "              '30044_10095',\n",
       "              '30045_10182',\n",
       "              '30053_10112'],\n",
       "             'mask_data': ['svm_data/masks/masks.mat'],\n",
       "             'labels': ['svm_data/rt_labels.mat']})"
      ]
     },
     "execution_count": 17,
     "metadata": {},
     "output_type": "execute_result"
    }
   ],
   "source": [
    "#open pickle file\n",
    "path = \"data/data_path_dictionary.pkl\"\n",
    "file_names_dict = open_pickle(path)\n",
    "\n",
    "print(\"Dictionary contents: \")\n",
    "file_names_dict"
   ]
  },
  {
   "cell_type": "markdown",
   "metadata": {},
   "source": [
    "#### Define object data to get from S3, create file path to download subject data"
   ]
  },
  {
   "cell_type": "code",
   "execution_count": 18,
   "metadata": {},
   "outputs": [
    {
     "name": "stdout",
     "output_type": "stream",
     "text": [
      "local path to subject data we want: data/subject_10004_08693_data.mat\n"
     ]
    }
   ],
   "source": [
    "obj = file_names_dict['subject_data'][0] #data object\n",
    "file_name = f\"data/subject_{file_names_dict['subject_ID'][0]}_data.mat\"\n",
    "print(\"local path to subject data we want:\", file_name)"
   ]
  },
  {
   "cell_type": "markdown",
   "metadata": {},
   "source": [
    "#### Download data using bucket name, object name and path to download, call load_mat() function module to open mat file"
   ]
  },
  {
   "cell_type": "code",
   "execution_count": 19,
   "metadata": {
    "scrolled": true
   },
   "outputs": [
    {
     "data": {
      "text/plain": [
       "{'__header__': b'MATLAB 5.0 MAT-file, Platform: GLNXA64, Created on: Wed Feb 23 06:31:07 2022',\n",
       " '__version__': '1.0',\n",
       " '__globals__': [],\n",
       " 'run_04_vec': array([[0, 0, 0, ..., 0, 0, 0],\n",
       "        [0, 0, 0, ..., 0, 0, 0],\n",
       "        [0, 0, 0, ..., 0, 0, 0],\n",
       "        ...,\n",
       "        [0, 0, 0, ..., 0, 0, 0],\n",
       "        [0, 0, 0, ..., 0, 0, 0],\n",
       "        [0, 0, 0, ..., 0, 0, 0]], dtype=int16),\n",
       " 'run_03_vec': array([[0, 0, 0, ..., 0, 0, 0],\n",
       "        [0, 0, 0, ..., 0, 0, 0],\n",
       "        [0, 0, 0, ..., 0, 0, 0],\n",
       "        ...,\n",
       "        [0, 0, 0, ..., 0, 0, 0],\n",
       "        [0, 0, 0, ..., 0, 0, 0],\n",
       "        [0, 0, 0, ..., 0, 0, 0]], dtype=int16),\n",
       " 'run_02_vec': array([[0, 0, 0, ..., 0, 0, 0],\n",
       "        [0, 0, 0, ..., 0, 0, 0],\n",
       "        [0, 0, 0, ..., 0, 0, 0],\n",
       "        ...,\n",
       "        [0, 0, 0, ..., 0, 0, 0],\n",
       "        [0, 0, 0, ..., 0, 0, 0],\n",
       "        [0, 0, 0, ..., 0, 0, 0]], dtype=int16),\n",
       " 'run_01_vec': array([[0, 0, 0, ..., 0, 0, 0],\n",
       "        [0, 0, 0, ..., 0, 0, 0],\n",
       "        [0, 0, 0, ..., 0, 0, 0],\n",
       "        ...,\n",
       "        [0, 0, 0, ..., 0, 0, 0],\n",
       "        [0, 0, 0, ..., 0, 0, 0],\n",
       "        [0, 0, 0, ..., 0, 0, 0]], dtype=int16)}"
      ]
     },
     "execution_count": 19,
     "metadata": {},
     "output_type": "execute_result"
    }
   ],
   "source": [
    "client.download_file(bucket_, obj, file_name)\n",
    "data = load_mat(file_name)\n",
    "data"
   ]
  },
  {
   "cell_type": "markdown",
   "metadata": {},
   "source": [
    "#### All the above contained in this module\n",
    "- the below cell demonstrates the function that performs all the actions in this notebook above:\n",
    "    - accesses AWS\n",
    "    - defines the bucket and objects we want\n",
    "    - loads the mat data into python \n",
    "  "
   ]
  },
  {
   "cell_type": "code",
   "execution_count": 4,
   "metadata": {},
   "outputs": [
    {
     "data": {
      "text/plain": [
       "{'__header__': b'MATLAB 5.0 MAT-file, Platform: GLNXA64, Created on: Wed Feb 23 06:31:07 2022',\n",
       " '__version__': '1.0',\n",
       " '__globals__': [],\n",
       " 'run_04_vec': array([[0, 0, 0, ..., 0, 0, 0],\n",
       "        [0, 0, 0, ..., 0, 0, 0],\n",
       "        [0, 0, 0, ..., 0, 0, 0],\n",
       "        ...,\n",
       "        [0, 0, 0, ..., 0, 0, 0],\n",
       "        [0, 0, 0, ..., 0, 0, 0],\n",
       "        [0, 0, 0, ..., 0, 0, 0]], dtype=int16),\n",
       " 'run_03_vec': array([[0, 0, 0, ..., 0, 0, 0],\n",
       "        [0, 0, 0, ..., 0, 0, 0],\n",
       "        [0, 0, 0, ..., 0, 0, 0],\n",
       "        ...,\n",
       "        [0, 0, 0, ..., 0, 0, 0],\n",
       "        [0, 0, 0, ..., 0, 0, 0],\n",
       "        [0, 0, 0, ..., 0, 0, 0]], dtype=int16),\n",
       " 'run_02_vec': array([[0, 0, 0, ..., 0, 0, 0],\n",
       "        [0, 0, 0, ..., 0, 0, 0],\n",
       "        [0, 0, 0, ..., 0, 0, 0],\n",
       "        ...,\n",
       "        [0, 0, 0, ..., 0, 0, 0],\n",
       "        [0, 0, 0, ..., 0, 0, 0],\n",
       "        [0, 0, 0, ..., 0, 0, 0]], dtype=int16),\n",
       " 'run_01_vec': array([[0, 0, 0, ..., 0, 0, 0],\n",
       "        [0, 0, 0, ..., 0, 0, 0],\n",
       "        [0, 0, 0, ..., 0, 0, 0],\n",
       "        ...,\n",
       "        [0, 0, 0, ..., 0, 0, 0],\n",
       "        [0, 0, 0, ..., 0, 0, 0],\n",
       "        [0, 0, 0, ..., 0, 0, 0]], dtype=int16)}"
      ]
     },
     "execution_count": 4,
     "metadata": {},
     "output_type": "execute_result"
    }
   ],
   "source": [
    "access_load_data(obj) #saves .mat data in temp file after aws acccess, not locally"
   ]
  },
  {
   "cell_type": "code",
   "execution_count": null,
   "metadata": {},
   "outputs": [],
   "source": []
  }
 ],
 "metadata": {
  "kernelspec": {
   "display_name": "Python 3",
   "language": "python",
   "name": "python3"
  },
  "language_info": {
   "codemirror_mode": {
    "name": "ipython",
    "version": 3
   },
   "file_extension": ".py",
   "mimetype": "text/x-python",
   "name": "python",
   "nbconvert_exporter": "python",
   "pygments_lexer": "ipython3",
   "version": "3.7.3"
  }
 },
 "nbformat": 4,
 "nbformat_minor": 2
}
