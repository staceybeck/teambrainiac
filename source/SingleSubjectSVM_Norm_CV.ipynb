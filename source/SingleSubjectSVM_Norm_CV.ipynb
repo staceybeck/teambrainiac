{
 "cells": [
  {
   "cell_type": "markdown",
   "metadata": {
    "id": "view-in-github",
    "colab_type": "text"
   },
   "source": [
    "<a href=\"https://colab.research.google.com/github/yecatstevir/teambrainiac/blob/main/source/SingleSubjectSVM_Norm_CV.ipynb\" target=\"_parent\"><img src=\"https://colab.research.google.com/assets/colab-badge.svg\" alt=\"Open In Colab\"/></a>"
   ]
  },
  {
   "cell_type": "markdown",
   "metadata": {
    "id": "f_wDm122NTXY"
   },
   "source": [
    "# Data Exploration of Single Subject SVM\n",
    "- Go to 'Runtime' in Colab browser bar, select 'Change Runtime Type', select 'High-RAM' from 'Runtime Shape'. \n",
    "- This notebook runs exploration of different normalization strategies for brain data and performs cross-validation. You can visualize and analyze data in place or you can save the data and do it in a separate notebook. This will demonstrate how to do it in place. You will need to pull in single_subject.py and \n",
    "> Normalization Strategies\n",
    "  1. Choose run(s) to train on\n",
    "  2. Choose run(s) to test on\n",
    "  3. Choose from the following for normalization ['psc','zscore','nonorm'].\n",
    "    * This is a list of of normalizations to apply to the data. It will iterate through the list.\n",
    "  4. Choose params for C, kernel, gamma. If not specified, default will be used.\n",
    "  5. Choose list of subjects to save. I saved one adult and one child for visualizations\n",
    "  6. Choose output file name.\n",
    "  7. The cell for normalization will iterate over all subjects unless, you choose a subset.\n",
    "  8. Output will be a pandas dataframe with accuracy and F1 scores of the subjects.\n",
    "  9. The subject models variables are stored in a dictionary for further analysis and visualiztions.\n",
    "    * Variables Stored \n",
    "      1. clf\n",
    "      2. X-train\n",
    "      3. y-train (even though all runs have same labels, we want to store this separately in case we train on two runs where labels will be concatenated).\n",
    "      4. y_labels (since we test on single runs and all runs have the same data, we just need on set of labels)\n",
    "      5. scaled data of each run so we can look at decision function boundaries\n",
    "      6. Since the data has been transformed and stripped, we can save this locally. You can either choose to analyze immediatly or save data for analysis later.\n",
    "10. Create summary statistics for all subjects. I also chose to look at differences between adolescents and young adults.\n",
    "11. Create boxplots.\n",
    "12. Create heatmaps of brains based on normalization.\n",
    "13. Look at results of decision function scores overlaying on increase/decrease trials within a run.\n",
    "\n",
    "> Cross-validation\n",
    "  * Once we have the best normalization for our data, run the cross validation\n",
    "    1. Choose the run(s) to perform cross validation on.\n",
    "    2. Choose runs to get accuracy measures on from the cv on the subjects(?)\n",
    "    3. Choose params you want to do cross-validation on.\n",
    "    4. Choose output destination. If further analysis is needed.\n",
    "      * Output is a dictionary containing the model for each subject.\n",
    "    5. Loop through subjects to get results of cross validation.\n",
    "      * Data is stored in a data frame.\n",
    "    6. Create boxplot of results.\n",
    "\n",
    "\n",
    "\n",
    "\n"
   ]
  },
  {
   "cell_type": "markdown",
   "metadata": {
    "id": "c284FIeHNcR2"
   },
   "source": [
    "### Mount Google Drive and clone repository\n",
    "- open to source directory"
   ]
  },
  {
   "cell_type": "code",
   "execution_count": null,
   "metadata": {
    "colab": {
     "base_uri": "https://localhost:8080/"
    },
    "id": "mIfcjimGzIZo",
    "outputId": "cf89c4ff-8be0-4f2d-d06f-c7c48ab4f43d"
   },
   "outputs": [
    {
     "output_type": "stream",
     "name": "stdout",
     "text": [
      "Mounted at /content/gdrive\n"
     ]
    }
   ],
   "source": [
    "from google.colab import drive\n",
    "drive.mount('/content/gdrive')#, force_remount = True)"
   ]
  },
  {
   "cell_type": "code",
   "execution_count": null,
   "metadata": {
    "colab": {
     "base_uri": "https://localhost:8080/"
    },
    "id": "D5eq9qyKMTp_",
    "outputId": "5fb7a8ac-3797-42b5-8d2d-9d1dd30bf6f0"
   },
   "outputs": [
    {
     "output_type": "stream",
     "name": "stdout",
     "text": [
      "Mounted at /content/drive\n"
     ]
    }
   ],
   "source": [
    "\n",
    "from google.colab import drive\n",
    "drive.mount('/content/drive', force_remount=True)"
   ]
  },
  {
   "cell_type": "code",
   "execution_count": null,
   "metadata": {
    "colab": {
     "base_uri": "https://localhost:8080/"
    },
    "id": "lh0DqCU10r3n",
    "outputId": "4d29e1d8-baf3-427f-99f9-144aca0c9b32"
   },
   "outputs": [
    {
     "output_type": "stream",
     "name": "stdout",
     "text": [
      "Cloning into 'teambrainiac'...\n",
      "warning: --local is ignored\n",
      "remote: Enumerating objects: 1453, done.\u001b[K\n",
      "remote: Counting objects: 100% (1453/1453), done.\u001b[K\n",
      "remote: Compressing objects: 100% (1151/1151), done.\u001b[K\n",
      "remote: Total 1453 (delta 944), reused 557 (delta 285), pack-reused 0\u001b[K\n",
      "Receiving objects: 100% (1453/1453), 84.71 MiB | 11.91 MiB/s, done.\n",
      "Resolving deltas: 100% (944/944), done.\n",
      "/content/teambrainiac/source\n",
      "access_data.py\t\t\t    __init__.py\n",
      "AccuracyMeasures.ipynb\t\t    models\n",
      "brain_viz_single_subj.py\t    process.py\n",
      "BuildSingleSubjectSVM_Models.ipynb  single_subject.py\n",
      "data\t\t\t\t    SingleSubjectSVM.ipynb\n",
      "DataExploration_SingleSubj.ipynb    streamlit\n",
      "DataExplorationVisuals.ipynb\t    SubjectVisualization_Models_ZNORM.ipynb\n",
      "DL\t\t\t\t    TestMask.ipynb\n",
      "group_svm\t\t\t    utils.py\n",
      "helper\t\t\t\t    VisualizationPlayground.ipynb\n",
      "images\n"
     ]
    }
   ],
   "source": [
    "# Clone the entire repo.\n",
    "!git clone -l -s https://github.com/yecatstevir/teambrainiac.git\n",
    "# Change directory into cloned repo\n",
    "%cd teambrainiac/source/single_subject\n",
    "!ls\n"
   ]
  },
  {
   "cell_type": "markdown",
   "metadata": {
    "id": "zadD_dOPPjQm"
   },
   "source": [
    "### Load path_config.py \n",
    "- we are already in source so we can just load this file without changing directory"
   ]
  },
  {
   "cell_type": "code",
   "execution_count": null,
   "metadata": {
    "colab": {
     "base_uri": "https://localhost:8080/",
     "height": 93,
     "resources": {
      "http://localhost:8080/nbextensions/google.colab/files.js": {
       "data": "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",
       "headers": [
        [
         "content-type",
         "application/javascript"
        ]
       ],
       "ok": true,
       "status": 200,
       "status_text": ""
      }
     }
    },
    "id": "u_2qZqNJPLkn",
    "outputId": "d90d0612-5ff5-4c7c-ed12-1911d681be02"
   },
   "outputs": [
    {
     "output_type": "display_data",
     "data": {
      "text/plain": [
       "<IPython.core.display.HTML object>"
      ],
      "text/html": [
       "\n",
       "     <input type=\"file\" id=\"files-178759f8-7b20-4d58-88fc-2ea3ec38099e\" name=\"files[]\" multiple disabled\n",
       "        style=\"border:none\" />\n",
       "     <output id=\"result-178759f8-7b20-4d58-88fc-2ea3ec38099e\">\n",
       "      Upload widget is only available when the cell has been executed in the\n",
       "      current browser session. Please rerun this cell to enable.\n",
       "      </output>\n",
       "      <script src=\"/nbextensions/google.colab/files.js\"></script> "
      ]
     },
     "metadata": {}
    },
    {
     "output_type": "stream",
     "name": "stdout",
     "text": [
      "Saving path_config.py to path_config.py\n",
      "User uploaded file \"path_config.py\" with length 228 bytes\n"
     ]
    }
   ],
   "source": [
    "from google.colab import files\n",
    "\n",
    "uploaded = files.upload()\n",
    "\n",
    "for fn in uploaded.keys():\n",
    "  print('User uploaded file \"{name}\" with length {length} bytes'.format(\n",
    "      name=fn, length=len(uploaded[fn])))"
   ]
  },
  {
   "cell_type": "markdown",
   "metadata": {
    "id": "_cmYZ22BNj8h"
   },
   "source": [
    "### Import libraries\n"
   ]
  },
  {
   "cell_type": "code",
   "execution_count": null,
   "metadata": {
    "colab": {
     "base_uri": "https://localhost:8080/"
    },
    "id": "abHr7oUl06ED",
    "outputId": "1703bb7f-ff88-46ea-fac0-54dd35936daa"
   },
   "outputs": [
    {
     "output_type": "stream",
     "name": "stdout",
     "text": [
      "Collecting boto3\n",
      "  Downloading boto3-1.21.42-py3-none-any.whl (132 kB)\n",
      "\u001b[?25l\r\u001b[K     |██▌                             | 10 kB 25.2 MB/s eta 0:00:01\r\u001b[K     |█████                           | 20 kB 32.7 MB/s eta 0:00:01\r\u001b[K     |███████▍                        | 30 kB 13.9 MB/s eta 0:00:01\r\u001b[K     |██████████                      | 40 kB 10.1 MB/s eta 0:00:01\r\u001b[K     |████████████▍                   | 51 kB 3.7 MB/s eta 0:00:01\r\u001b[K     |██████████████▉                 | 61 kB 4.4 MB/s eta 0:00:01\r\u001b[K     |█████████████████▎              | 71 kB 4.6 MB/s eta 0:00:01\r\u001b[K     |███████████████████▉            | 81 kB 4.4 MB/s eta 0:00:01\r\u001b[K     |██████████████████████▎         | 92 kB 4.9 MB/s eta 0:00:01\r\u001b[K     |████████████████████████▊       | 102 kB 4.2 MB/s eta 0:00:01\r\u001b[K     |███████████████████████████▎    | 112 kB 4.2 MB/s eta 0:00:01\r\u001b[K     |█████████████████████████████▊  | 122 kB 4.2 MB/s eta 0:00:01\r\u001b[K     |████████████████████████████████| 132 kB 4.2 MB/s \n",
      "\u001b[?25hCollecting nilearn\n",
      "  Downloading nilearn-0.9.1-py3-none-any.whl (9.6 MB)\n",
      "\u001b[K     |████████████████████████████████| 9.6 MB 12.8 MB/s \n",
      "\u001b[?25hRequirement already satisfied: nibabel in /usr/local/lib/python3.7/dist-packages (3.0.2)\n",
      "Collecting s3transfer<0.6.0,>=0.5.0\n",
      "  Downloading s3transfer-0.5.2-py3-none-any.whl (79 kB)\n",
      "\u001b[K     |████████████████████████████████| 79 kB 6.4 MB/s \n",
      "\u001b[?25hCollecting jmespath<2.0.0,>=0.7.1\n",
      "  Downloading jmespath-1.0.0-py3-none-any.whl (23 kB)\n",
      "Collecting botocore<1.25.0,>=1.24.42\n",
      "  Downloading botocore-1.24.42-py3-none-any.whl (8.7 MB)\n",
      "\u001b[K     |████████████████████████████████| 8.7 MB 48.0 MB/s \n",
      "\u001b[?25hRequirement already satisfied: python-dateutil<3.0.0,>=2.1 in /usr/local/lib/python3.7/dist-packages (from botocore<1.25.0,>=1.24.42->boto3) (2.8.2)\n",
      "Collecting urllib3<1.27,>=1.25.4\n",
      "  Downloading urllib3-1.26.9-py2.py3-none-any.whl (138 kB)\n",
      "\u001b[K     |████████████████████████████████| 138 kB 63.1 MB/s \n",
      "\u001b[?25hRequirement already satisfied: six>=1.5 in /usr/local/lib/python3.7/dist-packages (from python-dateutil<3.0.0,>=2.1->botocore<1.25.0,>=1.24.42->boto3) (1.15.0)\n",
      "Requirement already satisfied: lxml in /usr/local/lib/python3.7/dist-packages (from nilearn) (4.2.6)\n",
      "Requirement already satisfied: requests>=2 in /usr/local/lib/python3.7/dist-packages (from nilearn) (2.23.0)\n",
      "Requirement already satisfied: scikit-learn>=0.22 in /usr/local/lib/python3.7/dist-packages (from nilearn) (1.0.2)\n",
      "Requirement already satisfied: pandas>=1.0 in /usr/local/lib/python3.7/dist-packages (from nilearn) (1.3.5)\n",
      "Collecting scipy>=1.5\n",
      "  Downloading scipy-1.7.3-cp37-cp37m-manylinux_2_12_x86_64.manylinux2010_x86_64.whl (38.1 MB)\n",
      "\u001b[K     |████████████████████████████████| 38.1 MB 359 kB/s \n",
      "\u001b[?25hRequirement already satisfied: numpy>=1.18 in /usr/local/lib/python3.7/dist-packages (from nilearn) (1.21.5)\n",
      "Requirement already satisfied: joblib>=0.15 in /usr/local/lib/python3.7/dist-packages (from nilearn) (1.1.0)\n",
      "Requirement already satisfied: pytz>=2017.3 in /usr/local/lib/python3.7/dist-packages (from pandas>=1.0->nilearn) (2018.9)\n",
      "Requirement already satisfied: idna<3,>=2.5 in /usr/local/lib/python3.7/dist-packages (from requests>=2->nilearn) (2.10)\n",
      "Requirement already satisfied: certifi>=2017.4.17 in /usr/local/lib/python3.7/dist-packages (from requests>=2->nilearn) (2021.10.8)\n",
      "Requirement already satisfied: chardet<4,>=3.0.2 in /usr/local/lib/python3.7/dist-packages (from requests>=2->nilearn) (3.0.4)\n",
      "Collecting urllib3<1.27,>=1.25.4\n",
      "  Downloading urllib3-1.25.11-py2.py3-none-any.whl (127 kB)\n",
      "\u001b[K     |████████████████████████████████| 127 kB 46.1 MB/s \n",
      "\u001b[?25hRequirement already satisfied: threadpoolctl>=2.0.0 in /usr/local/lib/python3.7/dist-packages (from scikit-learn>=0.22->nilearn) (3.1.0)\n",
      "Installing collected packages: urllib3, jmespath, scipy, botocore, s3transfer, nilearn, boto3\n",
      "  Attempting uninstall: urllib3\n",
      "    Found existing installation: urllib3 1.24.3\n",
      "    Uninstalling urllib3-1.24.3:\n",
      "      Successfully uninstalled urllib3-1.24.3\n",
      "  Attempting uninstall: scipy\n",
      "    Found existing installation: scipy 1.4.1\n",
      "    Uninstalling scipy-1.4.1:\n",
      "      Successfully uninstalled scipy-1.4.1\n",
      "\u001b[31mERROR: pip's dependency resolver does not currently take into account all the packages that are installed. This behaviour is the source of the following dependency conflicts.\n",
      "datascience 0.10.6 requires folium==0.2.1, but you have folium 0.8.3 which is incompatible.\n",
      "albumentations 0.1.12 requires imgaug<0.2.7,>=0.2.5, but you have imgaug 0.2.9 which is incompatible.\u001b[0m\n",
      "Successfully installed boto3-1.21.42 botocore-1.24.42 jmespath-1.0.0 nilearn-0.9.1 s3transfer-0.5.2 scipy-1.7.3 urllib3-1.25.11\n"
     ]
    }
   ],
   "source": [
    "\n",
    "\n",
    "# Import libraries\n",
    "!pip install boto3 nilearn nibabel #for saving data and image visualizations\n",
    "import pickle\n",
    "#sklearn packages needed\n",
    "from sklearn.preprocessing import StandardScaler\n",
    "from sklearn.model_selection import GridSearchCV\n",
    "from sklearn.svm import SVC\n",
    "from sklearn.preprocessing import StandardScaler\n",
    "from sklearn.metrics import accuracy_score, auc, recall_score, precision_score,roc_curve,f1_score\n",
    "#important utility functions for loading,masking,saving data\n",
    "from access_data import *\n",
    "#single subject model building functions\n",
    "from single_subject import *\n",
    "#for visualization(s)\n",
    "from brain_viz_single_subj import *\n",
    "\n",
    "#normal python packages we use\n",
    "import numpy as np\n",
    "import pandas as pd\n",
    "from scipy import signal\n",
    "from nilearn.signal import clean"
   ]
  },
  {
   "cell_type": "markdown",
   "metadata": {
    "id": "fZVh3WQeMk1c"
   },
   "source": [
    "### Get paths to subject data"
   ]
  },
  {
   "cell_type": "code",
   "source": [
    "\n",
    "## load and open the pickle file that contains paths to all data.\n",
    "path = \"data/data_path_dictionary.pkl\"\n",
    "data_path_dict = open_pickle(path)\n",
    "\n",
    "##get mask_dictionary\n"
   ],
   "metadata": {
    "id": "l4wpPDZh1U1X"
   },
   "execution_count": null,
   "outputs": []
  },
  {
   "cell_type": "markdown",
   "source": [
    "Run Normalization"
   ],
   "metadata": {
    "id": "B4cu86EDfpre"
   }
  },
  {
   "cell_type": "code",
   "source": [
    "\n",
    "###data exploration for different normalization strategies\n",
    "##what runs do you want to normalize on\n",
    "runs_train=['run_02'] #runs we want to train on\n",
    "runs_test=['run_03','run_04'] #runs we want to test on\n",
    "runs_list=[1,2,3,4]\n",
    "##for fMRI, we always want to detrend the data\n",
    "norm_list = ['psc','zscore','none'] #list of normalization strategies you want to test\n",
    "save_subject_data =  ['10047_09030','30017_09567'] #specify subjects you want to save for normalization visualizations\n",
    "svc_kernel='rbf' #specify kernel \n",
    "svc_c = 1 #specify c parameter\n",
    "svc_gamma='scale' #specify gamma parameter\n",
    "mask_dict = get_mask_data(data_path_dict,0) #get mask_dict\n",
    "mask = make_mask(mask_dict['mask']) #create mask\n",
    "#get subject information\n",
    "subjs_id, subjs_paths = get_subj_information(data_path_dict)\n",
    "#get mask labels to only retrieve time series we care about\n",
    "mask_labels_indices,binary_labels,label_type = get_labels(data_path_dict)\n",
    "###initialize variables to hold results\n",
    "model_dict = {}\n",
    "results = []\n",
    "df_columns = ['subject_id','norm_type']\n",
    "#loop over norm_type to get initialize model_dict norm_type dictionary\n",
    "for norm_type in norm_list:\n",
    "  model_dict[norm_type] = {}\n",
    "#for loop to loop over subjects\n",
    "for idx in range(len(subjs_id)):\n",
    "  subj_id = subjs_id[idx] #get subj_id\n",
    "  subj_path = subjs_paths[idx] #get subj_path\n",
    "  subj_data = access_load_data(subj_path,True) #get subj_data\n",
    "  masked_data = mask_subject_data(subj_data,mask,mask_labels_indices) #mask subject data\n",
    "  #loop over normalizations to do\n",
    "  for norm_type in norm_list:\n",
    "    norm_results = [subj_id,norm_type] #store subject id and normalization strategy in results list\n",
    "    scaled_data = scale_data_single_subj(masked_data,runs_list,norm=norm_type) #scale the data for runs listed in runs_lit\n",
    "    clf,X_train,y_train = run_single_subject_svm(scaled_data,runs_train,binary_labels,svc_kernel,svc_c) #run the model\n",
    "    if subj_id in save_subject_data:    #if subject in list of subjects to save\n",
    "      model_dict[norm_type][subj_id] = {} #initialize empty dictionary for the subject data\n",
    "      #store subject variables\n",
    "      model_dict[norm_type][subj_id]['model'] = clf\n",
    "      model_dict[norm_type][subj_id]['X_train'] = X_train\n",
    "      model_dict[norm_type][subj_id]['y_train'] = y_train\n",
    "      model_dict[norm_type][subj_id]['y_test'] = binary_labels\n",
    "      model_dict[norm_type][subj_id]['data'] = scaled_data\n",
    "    sub_scores,cols = get_accuracy_scores(clf,scaled_data,X_train,y_train,runs_test,binary_labels) #get accuracy scores for analysis\n",
    "    norm_results.extend(sub_scores) #append to list\n",
    "    results.append(norm_results) #append to results\n",
    "df_columns.extend(cols) #extend data frame columns\n",
    "results_df = pd.DataFrame(results,columns=df_columns) #create df\n",
    "#save results for analysis\n",
    "save_data_path = f'/content/drive/My Drive/data/dataexploration/{svc_kernel}_exploration/accuracy_results.csv'\n",
    "results_df.to_csv(save_data_path)\n",
    "#save models for visualization\n",
    "save_models_path = f'/content/drive/My Drive/data/dataexploration/{svc_kernel}_exploration/norm_models.pkl'\n",
    "filehandler = open(save_models_path,\"wb\")\n",
    "pickle.dump(model_dict,filehandler)\n",
    "filehandler.close()\n",
    "\n"
   ],
   "metadata": {
    "id": "Uzmswf5uu5uz",
    "colab": {
     "base_uri": "https://localhost:8080/"
    },
    "outputId": "b969214a-6569-42bc-cae0-92791adfc162"
   },
   "execution_count": null,
   "outputs": [
    {
     "output_type": "stream",
     "name": "stderr",
     "text": [
      "100%|██████████| 4/4 [00:01<00:00,  3.52it/s]\n",
      "/usr/local/lib/python3.7/dist-packages/nilearn/signal.py:83: RuntimeWarning: invalid value encountered in true_divide\n",
      "  signals = (signals - mean_signal) / np.absolute(mean_signal)\n",
      "/usr/local/lib/python3.7/dist-packages/nilearn/signal.py:87: UserWarning: psc standardization strategy is meaningless for features that have a mean of 0. These time series are set to 0.\n",
      "  warnings.warn('psc standardization strategy is meaningless '\n"
     ]
    },
    {
     "output_type": "stream",
     "name": "stdout",
     "text": [
      "None\n",
      "None\n",
      "None\n"
     ]
    },
    {
     "output_type": "stream",
     "name": "stderr",
     "text": [
      "100%|██████████| 4/4 [00:01<00:00,  3.68it/s]\n"
     ]
    },
    {
     "output_type": "stream",
     "name": "stdout",
     "text": [
      "None\n",
      "None\n",
      "None\n"
     ]
    },
    {
     "output_type": "stream",
     "name": "stderr",
     "text": [
      "100%|██████████| 4/4 [00:01<00:00,  3.66it/s]\n",
      "/usr/local/lib/python3.7/dist-packages/nilearn/signal.py:83: RuntimeWarning: invalid value encountered in true_divide\n",
      "  signals = (signals - mean_signal) / np.absolute(mean_signal)\n",
      "/usr/local/lib/python3.7/dist-packages/nilearn/signal.py:87: UserWarning: psc standardization strategy is meaningless for features that have a mean of 0. These time series are set to 0.\n",
      "  warnings.warn('psc standardization strategy is meaningless '\n"
     ]
    },
    {
     "output_type": "stream",
     "name": "stdout",
     "text": [
      "None\n",
      "None\n",
      "None\n"
     ]
    },
    {
     "output_type": "stream",
     "name": "stderr",
     "text": [
      "100%|██████████| 4/4 [00:01<00:00,  3.53it/s]\n",
      "/usr/local/lib/python3.7/dist-packages/nilearn/signal.py:83: RuntimeWarning: invalid value encountered in true_divide\n",
      "  signals = (signals - mean_signal) / np.absolute(mean_signal)\n",
      "/usr/local/lib/python3.7/dist-packages/nilearn/signal.py:87: UserWarning: psc standardization strategy is meaningless for features that have a mean of 0. These time series are set to 0.\n",
      "  warnings.warn('psc standardization strategy is meaningless '\n"
     ]
    },
    {
     "output_type": "stream",
     "name": "stdout",
     "text": [
      "None\n",
      "None\n",
      "None\n"
     ]
    },
    {
     "output_type": "stream",
     "name": "stderr",
     "text": [
      "100%|██████████| 4/4 [00:01<00:00,  3.89it/s]\n",
      "/usr/local/lib/python3.7/dist-packages/nilearn/signal.py:83: RuntimeWarning: invalid value encountered in true_divide\n",
      "  signals = (signals - mean_signal) / np.absolute(mean_signal)\n",
      "/usr/local/lib/python3.7/dist-packages/nilearn/signal.py:87: UserWarning: psc standardization strategy is meaningless for features that have a mean of 0. These time series are set to 0.\n",
      "  warnings.warn('psc standardization strategy is meaningless '\n"
     ]
    },
    {
     "output_type": "stream",
     "name": "stdout",
     "text": [
      "None\n",
      "None\n",
      "None\n"
     ]
    },
    {
     "output_type": "stream",
     "name": "stderr",
     "text": [
      "100%|██████████| 4/4 [00:01<00:00,  3.52it/s]\n",
      "/usr/local/lib/python3.7/dist-packages/nilearn/signal.py:83: RuntimeWarning: invalid value encountered in true_divide\n",
      "  signals = (signals - mean_signal) / np.absolute(mean_signal)\n",
      "/usr/local/lib/python3.7/dist-packages/nilearn/signal.py:87: UserWarning: psc standardization strategy is meaningless for features that have a mean of 0. These time series are set to 0.\n",
      "  warnings.warn('psc standardization strategy is meaningless '\n"
     ]
    },
    {
     "output_type": "stream",
     "name": "stdout",
     "text": [
      "None\n",
      "None\n",
      "None\n"
     ]
    },
    {
     "output_type": "stream",
     "name": "stderr",
     "text": [
      "100%|██████████| 4/4 [00:00<00:00,  4.22it/s]\n",
      "/usr/local/lib/python3.7/dist-packages/nilearn/signal.py:83: RuntimeWarning: invalid value encountered in true_divide\n",
      "  signals = (signals - mean_signal) / np.absolute(mean_signal)\n",
      "/usr/local/lib/python3.7/dist-packages/nilearn/signal.py:87: UserWarning: psc standardization strategy is meaningless for features that have a mean of 0. These time series are set to 0.\n",
      "  warnings.warn('psc standardization strategy is meaningless '\n"
     ]
    },
    {
     "output_type": "stream",
     "name": "stdout",
     "text": [
      "None\n",
      "None\n",
      "None\n"
     ]
    },
    {
     "output_type": "stream",
     "name": "stderr",
     "text": [
      "100%|██████████| 4/4 [00:00<00:00,  4.04it/s]\n",
      "/usr/local/lib/python3.7/dist-packages/nilearn/signal.py:83: RuntimeWarning: invalid value encountered in true_divide\n",
      "  signals = (signals - mean_signal) / np.absolute(mean_signal)\n",
      "/usr/local/lib/python3.7/dist-packages/nilearn/signal.py:87: UserWarning: psc standardization strategy is meaningless for features that have a mean of 0. These time series are set to 0.\n",
      "  warnings.warn('psc standardization strategy is meaningless '\n"
     ]
    },
    {
     "output_type": "stream",
     "name": "stdout",
     "text": [
      "None\n",
      "None\n",
      "None\n"
     ]
    },
    {
     "output_type": "stream",
     "name": "stderr",
     "text": [
      "100%|██████████| 4/4 [00:01<00:00,  2.32it/s]\n",
      "/usr/local/lib/python3.7/dist-packages/nilearn/signal.py:83: RuntimeWarning: invalid value encountered in true_divide\n",
      "  signals = (signals - mean_signal) / np.absolute(mean_signal)\n",
      "/usr/local/lib/python3.7/dist-packages/nilearn/signal.py:87: UserWarning: psc standardization strategy is meaningless for features that have a mean of 0. These time series are set to 0.\n",
      "  warnings.warn('psc standardization strategy is meaningless '\n"
     ]
    },
    {
     "output_type": "stream",
     "name": "stdout",
     "text": [
      "None\n",
      "None\n",
      "None\n"
     ]
    },
    {
     "output_type": "stream",
     "name": "stderr",
     "text": [
      "100%|██████████| 4/4 [00:01<00:00,  3.43it/s]\n",
      "/usr/local/lib/python3.7/dist-packages/nilearn/signal.py:83: RuntimeWarning: invalid value encountered in true_divide\n",
      "  signals = (signals - mean_signal) / np.absolute(mean_signal)\n",
      "/usr/local/lib/python3.7/dist-packages/nilearn/signal.py:87: UserWarning: psc standardization strategy is meaningless for features that have a mean of 0. These time series are set to 0.\n",
      "  warnings.warn('psc standardization strategy is meaningless '\n"
     ]
    },
    {
     "output_type": "stream",
     "name": "stdout",
     "text": [
      "None\n",
      "None\n",
      "None\n"
     ]
    },
    {
     "output_type": "stream",
     "name": "stderr",
     "text": [
      "100%|██████████| 4/4 [00:00<00:00,  4.76it/s]\n",
      "/usr/local/lib/python3.7/dist-packages/nilearn/signal.py:83: RuntimeWarning: invalid value encountered in true_divide\n",
      "  signals = (signals - mean_signal) / np.absolute(mean_signal)\n",
      "/usr/local/lib/python3.7/dist-packages/nilearn/signal.py:87: UserWarning: psc standardization strategy is meaningless for features that have a mean of 0. These time series are set to 0.\n",
      "  warnings.warn('psc standardization strategy is meaningless '\n"
     ]
    },
    {
     "output_type": "stream",
     "name": "stdout",
     "text": [
      "None\n",
      "None\n",
      "None\n"
     ]
    },
    {
     "output_type": "stream",
     "name": "stderr",
     "text": [
      "100%|██████████| 4/4 [00:00<00:00,  4.33it/s]\n",
      "/usr/local/lib/python3.7/dist-packages/nilearn/signal.py:83: RuntimeWarning: invalid value encountered in true_divide\n",
      "  signals = (signals - mean_signal) / np.absolute(mean_signal)\n",
      "/usr/local/lib/python3.7/dist-packages/nilearn/signal.py:87: UserWarning: psc standardization strategy is meaningless for features that have a mean of 0. These time series are set to 0.\n",
      "  warnings.warn('psc standardization strategy is meaningless '\n"
     ]
    },
    {
     "output_type": "stream",
     "name": "stdout",
     "text": [
      "None\n",
      "None\n",
      "None\n"
     ]
    },
    {
     "output_type": "stream",
     "name": "stderr",
     "text": [
      "100%|██████████| 4/4 [00:01<00:00,  3.21it/s]\n",
      "/usr/local/lib/python3.7/dist-packages/nilearn/signal.py:83: RuntimeWarning: invalid value encountered in true_divide\n",
      "  signals = (signals - mean_signal) / np.absolute(mean_signal)\n",
      "/usr/local/lib/python3.7/dist-packages/nilearn/signal.py:87: UserWarning: psc standardization strategy is meaningless for features that have a mean of 0. These time series are set to 0.\n",
      "  warnings.warn('psc standardization strategy is meaningless '\n"
     ]
    },
    {
     "output_type": "stream",
     "name": "stdout",
     "text": [
      "None\n",
      "None\n",
      "None\n"
     ]
    },
    {
     "output_type": "stream",
     "name": "stderr",
     "text": [
      "100%|██████████| 4/4 [00:01<00:00,  3.63it/s]\n",
      "/usr/local/lib/python3.7/dist-packages/nilearn/signal.py:83: RuntimeWarning: invalid value encountered in true_divide\n",
      "  signals = (signals - mean_signal) / np.absolute(mean_signal)\n",
      "/usr/local/lib/python3.7/dist-packages/nilearn/signal.py:87: UserWarning: psc standardization strategy is meaningless for features that have a mean of 0. These time series are set to 0.\n",
      "  warnings.warn('psc standardization strategy is meaningless '\n"
     ]
    },
    {
     "output_type": "stream",
     "name": "stdout",
     "text": [
      "None\n",
      "None\n",
      "None\n"
     ]
    },
    {
     "output_type": "stream",
     "name": "stderr",
     "text": [
      "100%|██████████| 4/4 [00:01<00:00,  3.32it/s]\n",
      "/usr/local/lib/python3.7/dist-packages/nilearn/signal.py:83: RuntimeWarning: invalid value encountered in true_divide\n",
      "  signals = (signals - mean_signal) / np.absolute(mean_signal)\n",
      "/usr/local/lib/python3.7/dist-packages/nilearn/signal.py:87: UserWarning: psc standardization strategy is meaningless for features that have a mean of 0. These time series are set to 0.\n",
      "  warnings.warn('psc standardization strategy is meaningless '\n"
     ]
    },
    {
     "output_type": "stream",
     "name": "stdout",
     "text": [
      "None\n",
      "None\n",
      "None\n"
     ]
    },
    {
     "output_type": "stream",
     "name": "stderr",
     "text": [
      "100%|██████████| 4/4 [00:02<00:00,  1.79it/s]\n",
      "/usr/local/lib/python3.7/dist-packages/nilearn/signal.py:83: RuntimeWarning: invalid value encountered in true_divide\n",
      "  signals = (signals - mean_signal) / np.absolute(mean_signal)\n",
      "/usr/local/lib/python3.7/dist-packages/nilearn/signal.py:87: UserWarning: psc standardization strategy is meaningless for features that have a mean of 0. These time series are set to 0.\n",
      "  warnings.warn('psc standardization strategy is meaningless '\n"
     ]
    },
    {
     "output_type": "stream",
     "name": "stdout",
     "text": [
      "None\n",
      "None\n",
      "None\n"
     ]
    },
    {
     "output_type": "stream",
     "name": "stderr",
     "text": [
      "100%|██████████| 4/4 [00:01<00:00,  3.20it/s]\n",
      "/usr/local/lib/python3.7/dist-packages/nilearn/signal.py:83: RuntimeWarning: invalid value encountered in true_divide\n",
      "  signals = (signals - mean_signal) / np.absolute(mean_signal)\n",
      "/usr/local/lib/python3.7/dist-packages/nilearn/signal.py:87: UserWarning: psc standardization strategy is meaningless for features that have a mean of 0. These time series are set to 0.\n",
      "  warnings.warn('psc standardization strategy is meaningless '\n"
     ]
    },
    {
     "output_type": "stream",
     "name": "stdout",
     "text": [
      "None\n",
      "None\n",
      "None\n"
     ]
    },
    {
     "output_type": "stream",
     "name": "stderr",
     "text": [
      "100%|██████████| 4/4 [00:01<00:00,  3.83it/s]\n",
      "/usr/local/lib/python3.7/dist-packages/nilearn/signal.py:83: RuntimeWarning: invalid value encountered in true_divide\n",
      "  signals = (signals - mean_signal) / np.absolute(mean_signal)\n",
      "/usr/local/lib/python3.7/dist-packages/nilearn/signal.py:87: UserWarning: psc standardization strategy is meaningless for features that have a mean of 0. These time series are set to 0.\n",
      "  warnings.warn('psc standardization strategy is meaningless '\n"
     ]
    },
    {
     "output_type": "stream",
     "name": "stdout",
     "text": [
      "None\n",
      "None\n",
      "None\n"
     ]
    },
    {
     "output_type": "stream",
     "name": "stderr",
     "text": [
      "100%|██████████| 4/4 [00:00<00:00,  5.51it/s]\n",
      "/usr/local/lib/python3.7/dist-packages/nilearn/signal.py:83: RuntimeWarning: invalid value encountered in true_divide\n",
      "  signals = (signals - mean_signal) / np.absolute(mean_signal)\n",
      "/usr/local/lib/python3.7/dist-packages/nilearn/signal.py:87: UserWarning: psc standardization strategy is meaningless for features that have a mean of 0. These time series are set to 0.\n",
      "  warnings.warn('psc standardization strategy is meaningless '\n"
     ]
    },
    {
     "output_type": "stream",
     "name": "stdout",
     "text": [
      "None\n",
      "None\n",
      "None\n"
     ]
    },
    {
     "output_type": "stream",
     "name": "stderr",
     "text": [
      "100%|██████████| 4/4 [00:01<00:00,  3.85it/s]\n",
      "/usr/local/lib/python3.7/dist-packages/nilearn/signal.py:83: RuntimeWarning: invalid value encountered in true_divide\n",
      "  signals = (signals - mean_signal) / np.absolute(mean_signal)\n",
      "/usr/local/lib/python3.7/dist-packages/nilearn/signal.py:87: UserWarning: psc standardization strategy is meaningless for features that have a mean of 0. These time series are set to 0.\n",
      "  warnings.warn('psc standardization strategy is meaningless '\n"
     ]
    },
    {
     "output_type": "stream",
     "name": "stdout",
     "text": [
      "None\n",
      "None\n",
      "None\n"
     ]
    },
    {
     "output_type": "stream",
     "name": "stderr",
     "text": [
      "100%|██████████| 4/4 [00:01<00:00,  3.42it/s]\n",
      "/usr/local/lib/python3.7/dist-packages/nilearn/signal.py:83: RuntimeWarning: invalid value encountered in true_divide\n",
      "  signals = (signals - mean_signal) / np.absolute(mean_signal)\n",
      "/usr/local/lib/python3.7/dist-packages/nilearn/signal.py:87: UserWarning: psc standardization strategy is meaningless for features that have a mean of 0. These time series are set to 0.\n",
      "  warnings.warn('psc standardization strategy is meaningless '\n"
     ]
    },
    {
     "output_type": "stream",
     "name": "stdout",
     "text": [
      "None\n",
      "None\n",
      "None\n"
     ]
    },
    {
     "output_type": "stream",
     "name": "stderr",
     "text": [
      "100%|██████████| 4/4 [00:00<00:00,  4.24it/s]\n",
      "/usr/local/lib/python3.7/dist-packages/nilearn/signal.py:83: RuntimeWarning: invalid value encountered in true_divide\n",
      "  signals = (signals - mean_signal) / np.absolute(mean_signal)\n",
      "/usr/local/lib/python3.7/dist-packages/nilearn/signal.py:87: UserWarning: psc standardization strategy is meaningless for features that have a mean of 0. These time series are set to 0.\n",
      "  warnings.warn('psc standardization strategy is meaningless '\n"
     ]
    },
    {
     "output_type": "stream",
     "name": "stdout",
     "text": [
      "None\n",
      "None\n",
      "None\n"
     ]
    },
    {
     "output_type": "stream",
     "name": "stderr",
     "text": [
      "100%|██████████| 4/4 [00:01<00:00,  3.48it/s]\n",
      "/usr/local/lib/python3.7/dist-packages/nilearn/signal.py:83: RuntimeWarning: invalid value encountered in true_divide\n",
      "  signals = (signals - mean_signal) / np.absolute(mean_signal)\n",
      "/usr/local/lib/python3.7/dist-packages/nilearn/signal.py:87: UserWarning: psc standardization strategy is meaningless for features that have a mean of 0. These time series are set to 0.\n",
      "  warnings.warn('psc standardization strategy is meaningless '\n"
     ]
    },
    {
     "output_type": "stream",
     "name": "stdout",
     "text": [
      "None\n",
      "None\n",
      "None\n"
     ]
    },
    {
     "output_type": "stream",
     "name": "stderr",
     "text": [
      "100%|██████████| 4/4 [00:01<00:00,  3.38it/s]\n",
      "/usr/local/lib/python3.7/dist-packages/nilearn/signal.py:83: RuntimeWarning: invalid value encountered in true_divide\n",
      "  signals = (signals - mean_signal) / np.absolute(mean_signal)\n",
      "/usr/local/lib/python3.7/dist-packages/nilearn/signal.py:87: UserWarning: psc standardization strategy is meaningless for features that have a mean of 0. These time series are set to 0.\n",
      "  warnings.warn('psc standardization strategy is meaningless '\n"
     ]
    },
    {
     "output_type": "stream",
     "name": "stdout",
     "text": [
      "None\n",
      "None\n",
      "None\n"
     ]
    },
    {
     "output_type": "stream",
     "name": "stderr",
     "text": [
      "100%|██████████| 4/4 [00:01<00:00,  2.76it/s]\n",
      "/usr/local/lib/python3.7/dist-packages/nilearn/signal.py:83: RuntimeWarning: invalid value encountered in true_divide\n",
      "  signals = (signals - mean_signal) / np.absolute(mean_signal)\n",
      "/usr/local/lib/python3.7/dist-packages/nilearn/signal.py:87: UserWarning: psc standardization strategy is meaningless for features that have a mean of 0. These time series are set to 0.\n",
      "  warnings.warn('psc standardization strategy is meaningless '\n"
     ]
    },
    {
     "output_type": "stream",
     "name": "stdout",
     "text": [
      "None\n",
      "None\n",
      "None\n"
     ]
    },
    {
     "output_type": "stream",
     "name": "stderr",
     "text": [
      "100%|██████████| 4/4 [00:01<00:00,  2.88it/s]\n",
      "/usr/local/lib/python3.7/dist-packages/nilearn/signal.py:83: RuntimeWarning: invalid value encountered in true_divide\n",
      "  signals = (signals - mean_signal) / np.absolute(mean_signal)\n",
      "/usr/local/lib/python3.7/dist-packages/nilearn/signal.py:87: UserWarning: psc standardization strategy is meaningless for features that have a mean of 0. These time series are set to 0.\n",
      "  warnings.warn('psc standardization strategy is meaningless '\n"
     ]
    },
    {
     "output_type": "stream",
     "name": "stdout",
     "text": [
      "None\n",
      "None\n",
      "None\n"
     ]
    },
    {
     "output_type": "stream",
     "name": "stderr",
     "text": [
      "100%|██████████| 4/4 [00:01<00:00,  2.89it/s]\n"
     ]
    },
    {
     "output_type": "stream",
     "name": "stdout",
     "text": [
      "None\n",
      "None\n",
      "None\n"
     ]
    },
    {
     "output_type": "stream",
     "name": "stderr",
     "text": [
      "100%|██████████| 4/4 [00:01<00:00,  2.87it/s]\n",
      "/usr/local/lib/python3.7/dist-packages/nilearn/signal.py:83: RuntimeWarning: invalid value encountered in true_divide\n",
      "  signals = (signals - mean_signal) / np.absolute(mean_signal)\n",
      "/usr/local/lib/python3.7/dist-packages/nilearn/signal.py:87: UserWarning: psc standardization strategy is meaningless for features that have a mean of 0. These time series are set to 0.\n",
      "  warnings.warn('psc standardization strategy is meaningless '\n"
     ]
    },
    {
     "output_type": "stream",
     "name": "stdout",
     "text": [
      "None\n",
      "None\n",
      "None\n"
     ]
    },
    {
     "output_type": "stream",
     "name": "stderr",
     "text": [
      "100%|██████████| 4/4 [00:01<00:00,  2.87it/s]\n",
      "/usr/local/lib/python3.7/dist-packages/nilearn/signal.py:83: RuntimeWarning: invalid value encountered in true_divide\n",
      "  signals = (signals - mean_signal) / np.absolute(mean_signal)\n",
      "/usr/local/lib/python3.7/dist-packages/nilearn/signal.py:87: UserWarning: psc standardization strategy is meaningless for features that have a mean of 0. These time series are set to 0.\n",
      "  warnings.warn('psc standardization strategy is meaningless '\n"
     ]
    },
    {
     "output_type": "stream",
     "name": "stdout",
     "text": [
      "None\n",
      "None\n",
      "None\n"
     ]
    },
    {
     "output_type": "stream",
     "name": "stderr",
     "text": [
      "100%|██████████| 4/4 [00:01<00:00,  2.91it/s]\n",
      "/usr/local/lib/python3.7/dist-packages/nilearn/signal.py:83: RuntimeWarning: invalid value encountered in true_divide\n",
      "  signals = (signals - mean_signal) / np.absolute(mean_signal)\n",
      "/usr/local/lib/python3.7/dist-packages/nilearn/signal.py:87: UserWarning: psc standardization strategy is meaningless for features that have a mean of 0. These time series are set to 0.\n",
      "  warnings.warn('psc standardization strategy is meaningless '\n"
     ]
    },
    {
     "output_type": "stream",
     "name": "stdout",
     "text": [
      "None\n",
      "None\n",
      "None\n"
     ]
    },
    {
     "output_type": "stream",
     "name": "stderr",
     "text": [
      "100%|██████████| 4/4 [00:01<00:00,  2.64it/s]\n",
      "/usr/local/lib/python3.7/dist-packages/nilearn/signal.py:83: RuntimeWarning: invalid value encountered in true_divide\n",
      "  signals = (signals - mean_signal) / np.absolute(mean_signal)\n",
      "/usr/local/lib/python3.7/dist-packages/nilearn/signal.py:87: UserWarning: psc standardization strategy is meaningless for features that have a mean of 0. These time series are set to 0.\n",
      "  warnings.warn('psc standardization strategy is meaningless '\n"
     ]
    },
    {
     "output_type": "stream",
     "name": "stdout",
     "text": [
      "None\n",
      "None\n",
      "None\n"
     ]
    },
    {
     "output_type": "stream",
     "name": "stderr",
     "text": [
      "100%|██████████| 4/4 [00:01<00:00,  2.56it/s]\n",
      "/usr/local/lib/python3.7/dist-packages/nilearn/signal.py:83: RuntimeWarning: invalid value encountered in true_divide\n",
      "  signals = (signals - mean_signal) / np.absolute(mean_signal)\n",
      "/usr/local/lib/python3.7/dist-packages/nilearn/signal.py:87: UserWarning: psc standardization strategy is meaningless for features that have a mean of 0. These time series are set to 0.\n",
      "  warnings.warn('psc standardization strategy is meaningless '\n"
     ]
    },
    {
     "output_type": "stream",
     "name": "stdout",
     "text": [
      "None\n",
      "None\n",
      "None\n"
     ]
    },
    {
     "output_type": "stream",
     "name": "stderr",
     "text": [
      "100%|██████████| 4/4 [00:02<00:00,  1.77it/s]\n",
      "/usr/local/lib/python3.7/dist-packages/nilearn/signal.py:83: RuntimeWarning: invalid value encountered in true_divide\n",
      "  signals = (signals - mean_signal) / np.absolute(mean_signal)\n",
      "/usr/local/lib/python3.7/dist-packages/nilearn/signal.py:87: UserWarning: psc standardization strategy is meaningless for features that have a mean of 0. These time series are set to 0.\n",
      "  warnings.warn('psc standardization strategy is meaningless '\n"
     ]
    },
    {
     "output_type": "stream",
     "name": "stdout",
     "text": [
      "None\n",
      "None\n",
      "None\n"
     ]
    },
    {
     "output_type": "stream",
     "name": "stderr",
     "text": [
      "100%|██████████| 4/4 [00:01<00:00,  2.75it/s]\n",
      "/usr/local/lib/python3.7/dist-packages/nilearn/signal.py:83: RuntimeWarning: invalid value encountered in true_divide\n",
      "  signals = (signals - mean_signal) / np.absolute(mean_signal)\n",
      "/usr/local/lib/python3.7/dist-packages/nilearn/signal.py:87: UserWarning: psc standardization strategy is meaningless for features that have a mean of 0. These time series are set to 0.\n",
      "  warnings.warn('psc standardization strategy is meaningless '\n"
     ]
    },
    {
     "output_type": "stream",
     "name": "stdout",
     "text": [
      "None\n",
      "None\n",
      "None\n"
     ]
    },
    {
     "output_type": "stream",
     "name": "stderr",
     "text": [
      "100%|██████████| 4/4 [00:01<00:00,  3.88it/s]\n",
      "/usr/local/lib/python3.7/dist-packages/nilearn/signal.py:83: RuntimeWarning: invalid value encountered in true_divide\n",
      "  signals = (signals - mean_signal) / np.absolute(mean_signal)\n",
      "/usr/local/lib/python3.7/dist-packages/nilearn/signal.py:87: UserWarning: psc standardization strategy is meaningless for features that have a mean of 0. These time series are set to 0.\n",
      "  warnings.warn('psc standardization strategy is meaningless '\n"
     ]
    },
    {
     "output_type": "stream",
     "name": "stdout",
     "text": [
      "None\n",
      "None\n",
      "None\n"
     ]
    },
    {
     "output_type": "stream",
     "name": "stderr",
     "text": [
      "100%|██████████| 4/4 [00:01<00:00,  3.86it/s]\n",
      "/usr/local/lib/python3.7/dist-packages/nilearn/signal.py:83: RuntimeWarning: invalid value encountered in true_divide\n",
      "  signals = (signals - mean_signal) / np.absolute(mean_signal)\n",
      "/usr/local/lib/python3.7/dist-packages/nilearn/signal.py:87: UserWarning: psc standardization strategy is meaningless for features that have a mean of 0. These time series are set to 0.\n",
      "  warnings.warn('psc standardization strategy is meaningless '\n"
     ]
    },
    {
     "output_type": "stream",
     "name": "stdout",
     "text": [
      "None\n",
      "None\n",
      "None\n"
     ]
    },
    {
     "output_type": "stream",
     "name": "stderr",
     "text": [
      "100%|██████████| 4/4 [00:01<00:00,  3.30it/s]\n",
      "/usr/local/lib/python3.7/dist-packages/nilearn/signal.py:83: RuntimeWarning: invalid value encountered in true_divide\n",
      "  signals = (signals - mean_signal) / np.absolute(mean_signal)\n",
      "/usr/local/lib/python3.7/dist-packages/nilearn/signal.py:87: UserWarning: psc standardization strategy is meaningless for features that have a mean of 0. These time series are set to 0.\n",
      "  warnings.warn('psc standardization strategy is meaningless '\n"
     ]
    },
    {
     "output_type": "stream",
     "name": "stdout",
     "text": [
      "None\n",
      "None\n",
      "None\n"
     ]
    },
    {
     "output_type": "stream",
     "name": "stderr",
     "text": [
      "100%|██████████| 4/4 [00:01<00:00,  3.19it/s]\n",
      "/usr/local/lib/python3.7/dist-packages/nilearn/signal.py:83: RuntimeWarning: invalid value encountered in true_divide\n",
      "  signals = (signals - mean_signal) / np.absolute(mean_signal)\n",
      "/usr/local/lib/python3.7/dist-packages/nilearn/signal.py:87: UserWarning: psc standardization strategy is meaningless for features that have a mean of 0. These time series are set to 0.\n",
      "  warnings.warn('psc standardization strategy is meaningless '\n"
     ]
    },
    {
     "output_type": "stream",
     "name": "stdout",
     "text": [
      "None\n",
      "None\n",
      "None\n"
     ]
    },
    {
     "output_type": "stream",
     "name": "stderr",
     "text": [
      "100%|██████████| 4/4 [00:01<00:00,  3.37it/s]\n",
      "/usr/local/lib/python3.7/dist-packages/nilearn/signal.py:83: RuntimeWarning: invalid value encountered in true_divide\n",
      "  signals = (signals - mean_signal) / np.absolute(mean_signal)\n",
      "/usr/local/lib/python3.7/dist-packages/nilearn/signal.py:87: UserWarning: psc standardization strategy is meaningless for features that have a mean of 0. These time series are set to 0.\n",
      "  warnings.warn('psc standardization strategy is meaningless '\n"
     ]
    },
    {
     "output_type": "stream",
     "name": "stdout",
     "text": [
      "None\n",
      "None\n",
      "None\n"
     ]
    },
    {
     "output_type": "stream",
     "name": "stderr",
     "text": [
      "100%|██████████| 4/4 [00:00<00:00,  4.01it/s]\n",
      "/usr/local/lib/python3.7/dist-packages/nilearn/signal.py:83: RuntimeWarning: invalid value encountered in true_divide\n",
      "  signals = (signals - mean_signal) / np.absolute(mean_signal)\n",
      "/usr/local/lib/python3.7/dist-packages/nilearn/signal.py:87: UserWarning: psc standardization strategy is meaningless for features that have a mean of 0. These time series are set to 0.\n",
      "  warnings.warn('psc standardization strategy is meaningless '\n"
     ]
    },
    {
     "output_type": "stream",
     "name": "stdout",
     "text": [
      "None\n",
      "None\n",
      "None\n"
     ]
    },
    {
     "output_type": "stream",
     "name": "stderr",
     "text": [
      "100%|██████████| 4/4 [00:01<00:00,  3.03it/s]\n",
      "/usr/local/lib/python3.7/dist-packages/nilearn/signal.py:83: RuntimeWarning: invalid value encountered in true_divide\n",
      "  signals = (signals - mean_signal) / np.absolute(mean_signal)\n",
      "/usr/local/lib/python3.7/dist-packages/nilearn/signal.py:87: UserWarning: psc standardization strategy is meaningless for features that have a mean of 0. These time series are set to 0.\n",
      "  warnings.warn('psc standardization strategy is meaningless '\n"
     ]
    },
    {
     "output_type": "stream",
     "name": "stdout",
     "text": [
      "None\n",
      "None\n",
      "None\n"
     ]
    },
    {
     "output_type": "stream",
     "name": "stderr",
     "text": [
      "100%|██████████| 4/4 [00:01<00:00,  3.57it/s]\n",
      "/usr/local/lib/python3.7/dist-packages/nilearn/signal.py:83: RuntimeWarning: invalid value encountered in true_divide\n",
      "  signals = (signals - mean_signal) / np.absolute(mean_signal)\n",
      "/usr/local/lib/python3.7/dist-packages/nilearn/signal.py:87: UserWarning: psc standardization strategy is meaningless for features that have a mean of 0. These time series are set to 0.\n",
      "  warnings.warn('psc standardization strategy is meaningless '\n"
     ]
    },
    {
     "output_type": "stream",
     "name": "stdout",
     "text": [
      "None\n",
      "None\n",
      "None\n"
     ]
    },
    {
     "output_type": "stream",
     "name": "stderr",
     "text": [
      "100%|██████████| 4/4 [00:01<00:00,  3.46it/s]\n",
      "/usr/local/lib/python3.7/dist-packages/nilearn/signal.py:83: RuntimeWarning: invalid value encountered in true_divide\n",
      "  signals = (signals - mean_signal) / np.absolute(mean_signal)\n",
      "/usr/local/lib/python3.7/dist-packages/nilearn/signal.py:87: UserWarning: psc standardization strategy is meaningless for features that have a mean of 0. These time series are set to 0.\n",
      "  warnings.warn('psc standardization strategy is meaningless '\n"
     ]
    },
    {
     "output_type": "stream",
     "name": "stdout",
     "text": [
      "None\n",
      "None\n",
      "None\n"
     ]
    },
    {
     "output_type": "stream",
     "name": "stderr",
     "text": [
      "100%|██████████| 4/4 [00:01<00:00,  3.40it/s]\n",
      "/usr/local/lib/python3.7/dist-packages/nilearn/signal.py:83: RuntimeWarning: invalid value encountered in true_divide\n",
      "  signals = (signals - mean_signal) / np.absolute(mean_signal)\n",
      "/usr/local/lib/python3.7/dist-packages/nilearn/signal.py:87: UserWarning: psc standardization strategy is meaningless for features that have a mean of 0. These time series are set to 0.\n",
      "  warnings.warn('psc standardization strategy is meaningless '\n"
     ]
    },
    {
     "output_type": "stream",
     "name": "stdout",
     "text": [
      "None\n",
      "None\n",
      "None\n"
     ]
    },
    {
     "output_type": "stream",
     "name": "stderr",
     "text": [
      "100%|██████████| 4/4 [00:01<00:00,  3.52it/s]\n",
      "/usr/local/lib/python3.7/dist-packages/nilearn/signal.py:83: RuntimeWarning: invalid value encountered in true_divide\n",
      "  signals = (signals - mean_signal) / np.absolute(mean_signal)\n",
      "/usr/local/lib/python3.7/dist-packages/nilearn/signal.py:87: UserWarning: psc standardization strategy is meaningless for features that have a mean of 0. These time series are set to 0.\n",
      "  warnings.warn('psc standardization strategy is meaningless '\n"
     ]
    },
    {
     "output_type": "stream",
     "name": "stdout",
     "text": [
      "None\n",
      "None\n",
      "None\n"
     ]
    },
    {
     "output_type": "stream",
     "name": "stderr",
     "text": [
      "100%|██████████| 4/4 [00:01<00:00,  3.76it/s]\n",
      "/usr/local/lib/python3.7/dist-packages/nilearn/signal.py:83: RuntimeWarning: invalid value encountered in true_divide\n",
      "  signals = (signals - mean_signal) / np.absolute(mean_signal)\n",
      "/usr/local/lib/python3.7/dist-packages/nilearn/signal.py:87: UserWarning: psc standardization strategy is meaningless for features that have a mean of 0. These time series are set to 0.\n",
      "  warnings.warn('psc standardization strategy is meaningless '\n"
     ]
    },
    {
     "output_type": "stream",
     "name": "stdout",
     "text": [
      "None\n",
      "None\n",
      "None\n"
     ]
    },
    {
     "output_type": "stream",
     "name": "stderr",
     "text": [
      "100%|██████████| 4/4 [00:01<00:00,  3.13it/s]\n",
      "/usr/local/lib/python3.7/dist-packages/nilearn/signal.py:83: RuntimeWarning: invalid value encountered in true_divide\n",
      "  signals = (signals - mean_signal) / np.absolute(mean_signal)\n",
      "/usr/local/lib/python3.7/dist-packages/nilearn/signal.py:87: UserWarning: psc standardization strategy is meaningless for features that have a mean of 0. These time series are set to 0.\n",
      "  warnings.warn('psc standardization strategy is meaningless '\n"
     ]
    },
    {
     "output_type": "stream",
     "name": "stdout",
     "text": [
      "None\n",
      "None\n",
      "None\n"
     ]
    },
    {
     "output_type": "stream",
     "name": "stderr",
     "text": [
      "100%|██████████| 4/4 [00:01<00:00,  3.30it/s]\n",
      "/usr/local/lib/python3.7/dist-packages/nilearn/signal.py:83: RuntimeWarning: invalid value encountered in true_divide\n",
      "  signals = (signals - mean_signal) / np.absolute(mean_signal)\n",
      "/usr/local/lib/python3.7/dist-packages/nilearn/signal.py:87: UserWarning: psc standardization strategy is meaningless for features that have a mean of 0. These time series are set to 0.\n",
      "  warnings.warn('psc standardization strategy is meaningless '\n"
     ]
    },
    {
     "output_type": "stream",
     "name": "stdout",
     "text": [
      "None\n",
      "None\n",
      "None\n"
     ]
    },
    {
     "output_type": "stream",
     "name": "stderr",
     "text": [
      "100%|██████████| 4/4 [00:01<00:00,  3.27it/s]\n",
      "/usr/local/lib/python3.7/dist-packages/nilearn/signal.py:83: RuntimeWarning: invalid value encountered in true_divide\n",
      "  signals = (signals - mean_signal) / np.absolute(mean_signal)\n",
      "/usr/local/lib/python3.7/dist-packages/nilearn/signal.py:87: UserWarning: psc standardization strategy is meaningless for features that have a mean of 0. These time series are set to 0.\n",
      "  warnings.warn('psc standardization strategy is meaningless '\n"
     ]
    },
    {
     "output_type": "stream",
     "name": "stdout",
     "text": [
      "None\n",
      "None\n",
      "None\n"
     ]
    },
    {
     "output_type": "stream",
     "name": "stderr",
     "text": [
      "100%|██████████| 4/4 [00:01<00:00,  3.88it/s]\n",
      "/usr/local/lib/python3.7/dist-packages/nilearn/signal.py:83: RuntimeWarning: invalid value encountered in true_divide\n",
      "  signals = (signals - mean_signal) / np.absolute(mean_signal)\n",
      "/usr/local/lib/python3.7/dist-packages/nilearn/signal.py:87: UserWarning: psc standardization strategy is meaningless for features that have a mean of 0. These time series are set to 0.\n",
      "  warnings.warn('psc standardization strategy is meaningless '\n"
     ]
    },
    {
     "output_type": "stream",
     "name": "stdout",
     "text": [
      "None\n",
      "None\n",
      "None\n"
     ]
    },
    {
     "output_type": "stream",
     "name": "stderr",
     "text": [
      "100%|██████████| 4/4 [00:00<00:00,  4.02it/s]\n",
      "/usr/local/lib/python3.7/dist-packages/nilearn/signal.py:83: RuntimeWarning: invalid value encountered in true_divide\n",
      "  signals = (signals - mean_signal) / np.absolute(mean_signal)\n",
      "/usr/local/lib/python3.7/dist-packages/nilearn/signal.py:87: UserWarning: psc standardization strategy is meaningless for features that have a mean of 0. These time series are set to 0.\n",
      "  warnings.warn('psc standardization strategy is meaningless '\n"
     ]
    },
    {
     "output_type": "stream",
     "name": "stdout",
     "text": [
      "None\n",
      "None\n",
      "None\n"
     ]
    },
    {
     "output_type": "stream",
     "name": "stderr",
     "text": [
      "100%|██████████| 4/4 [00:00<00:00,  4.05it/s]\n",
      "/usr/local/lib/python3.7/dist-packages/nilearn/signal.py:83: RuntimeWarning: invalid value encountered in true_divide\n",
      "  signals = (signals - mean_signal) / np.absolute(mean_signal)\n",
      "/usr/local/lib/python3.7/dist-packages/nilearn/signal.py:87: UserWarning: psc standardization strategy is meaningless for features that have a mean of 0. These time series are set to 0.\n",
      "  warnings.warn('psc standardization strategy is meaningless '\n"
     ]
    },
    {
     "output_type": "stream",
     "name": "stdout",
     "text": [
      "None\n",
      "None\n",
      "None\n"
     ]
    }
   ]
  },
  {
   "cell_type": "code",
   "source": [
    "cv_dict = {} #initialize the results dictionary\n",
    "destination_path = '/content/drive/My Drive/data/dataexploration/cross_validation_results/cv_results_short.pkl' #where to save data\n",
    "runs_train=['run_01','run_02'] #runs we want to train on\n",
    "runs_list=[1,2,3,4] #runs we want to do cv on\n",
    "runs_test=['run_03','run_04']\n",
    "cv_params = {'C':[1, 5, 10,1000],'gamma': ['auto','scale']} #params we want to test\n",
    "subjs_id,subjs_paths = get_subj_information(data_path_dict) #get subject information\n",
    "mask_labels_indices,binary_labels,label_type = get_labels(data_path_dict) #get labels\n",
    "mask_dict = get_mask_data(data_path_dict,0) #get mask dictionary containing mask data\n",
    "mask = make_mask(mask_dict['mask']) #mask we want to use in cv\n",
    "norm_type = 'zscore' #which normalization we want\n",
    "#iterate over subjects and perform cv single subject svm\n",
    "for idx in range(len(subject_ids)):\n",
    "  subj_id = subjs_id[idx] #get subject id\n",
    "  subj_path = subjs_paths[idx] #get path to subject data\n",
    "  subj_data = access_load_data(subj_path,True)  #load subject data\n",
    "  masked_data = mask_subject_data(subj_data,mask,mask_labels_indices) #mask the data\n",
    "  scaled_data = scale_data_single_subj(masked_data,runs_list,norm=norm_type) #normalize the data\n",
    "  clf = run_single_subject_svm(scaled_data,runs_train,binary_labels,do_cv=True,params=cv_params) #run cross validation\n",
    "  cv_dict[subj_id] = {} #initialize subject dictionary\n",
    "  cv_dict[subj_id]['model'] = clf #save cv model for further analysis\n",
    "  y_predicts = clf.predict(scaled_data['run_03'])\n",
    "  cv_dict[subj_id]['run_03_acc'] = accuracy_score(binary_labels,y_predicts)\n",
    "  y_predicts = clf.predict(scaled_data['run_04'])\n",
    "  cv_dict[subj_id]['run_04_acc'] = accuracy_score(binary_labels,y_predicts)\n",
    "#save data\n",
    "filehandler = open(destination_path,\"wb\")\n",
    "pickle.dump(cv_dict,filehandler)\n",
    "filehandler.close() "
   ],
   "metadata": {
    "colab": {
     "base_uri": "https://localhost:8080/"
    },
    "id": "ddU2mgT1DDhQ",
    "outputId": "2f3def52-cdcf-4029-c1f8-18be1e4aa012"
   },
   "execution_count": null,
   "outputs": [
    {
     "metadata": {
      "tags": null
     },
     "name": "stderr",
     "output_type": "stream",
     "text": [
      "100%|██████████| 4/4 [00:00<00:00,  4.92it/s]\n"
     ]
    },
    {
     "metadata": {
      "tags": null
     },
     "name": "stdout",
     "output_type": "stream",
     "text": [
      "{'C': [1, 5, 10, 1000], 'gamma': ['auto', 'scale']}\n",
      "Fitting 5 folds for each of 8 candidates, totalling 40 fits\n",
      "[CV 1/5] END ...................C=1, gamma=auto;, score=0.794 total time=   4.0s\n",
      "[CV 2/5] END ...................C=1, gamma=auto;, score=0.676 total time=   4.1s\n",
      "[CV 3/5] END ...................C=1, gamma=auto;, score=0.765 total time=   4.1s\n",
      "[CV 4/5] END ...................C=1, gamma=auto;, score=0.970 total time=   4.1s\n",
      "[CV 5/5] END ...................C=1, gamma=auto;, score=0.697 total time=   4.0s\n",
      "[CV 1/5] END ..................C=1, gamma=scale;, score=0.794 total time=   4.2s\n",
      "[CV 2/5] END ..................C=1, gamma=scale;, score=0.676 total time=   4.2s\n",
      "[CV 3/5] END ..................C=1, gamma=scale;, score=0.765 total time=   4.4s\n",
      "[CV 4/5] END ..................C=1, gamma=scale;, score=0.970 total time=   4.3s\n",
      "[CV 5/5] END ..................C=1, gamma=scale;, score=0.697 total time=   4.1s\n",
      "[CV 1/5] END ...................C=5, gamma=auto;, score=0.794 total time=   4.2s\n",
      "[CV 2/5] END ...................C=5, gamma=auto;, score=0.676 total time=   4.1s\n",
      "[CV 3/5] END ...................C=5, gamma=auto;, score=0.765 total time=   4.1s\n",
      "[CV 4/5] END ...................C=5, gamma=auto;, score=0.970 total time=   4.1s\n",
      "[CV 5/5] END ...................C=5, gamma=auto;, score=0.727 total time=   4.0s\n",
      "[CV 1/5] END ..................C=5, gamma=scale;, score=0.794 total time=   4.2s\n",
      "[CV 2/5] END ..................C=5, gamma=scale;, score=0.676 total time=   4.2s\n",
      "[CV 3/5] END ..................C=5, gamma=scale;, score=0.765 total time=   4.2s\n",
      "[CV 4/5] END ..................C=5, gamma=scale;, score=0.970 total time=   4.2s\n",
      "[CV 5/5] END ..................C=5, gamma=scale;, score=0.727 total time=   4.1s\n",
      "[CV 1/5] END ..................C=10, gamma=auto;, score=0.794 total time=   4.1s\n",
      "[CV 2/5] END ..................C=10, gamma=auto;, score=0.676 total time=   4.1s\n",
      "[CV 3/5] END ..................C=10, gamma=auto;, score=0.765 total time=   4.1s\n",
      "[CV 4/5] END ..................C=10, gamma=auto;, score=0.970 total time=   4.1s\n",
      "[CV 5/5] END ..................C=10, gamma=auto;, score=0.727 total time=   4.0s\n",
      "[CV 1/5] END .................C=10, gamma=scale;, score=0.794 total time=   4.2s\n",
      "[CV 2/5] END .................C=10, gamma=scale;, score=0.676 total time=   4.2s\n",
      "[CV 3/5] END .................C=10, gamma=scale;, score=0.765 total time=   4.2s\n",
      "[CV 4/5] END .................C=10, gamma=scale;, score=0.970 total time=   4.3s\n",
      "[CV 5/5] END .................C=10, gamma=scale;, score=0.727 total time=   4.2s\n",
      "[CV 1/5] END ................C=1000, gamma=auto;, score=0.794 total time=   4.3s\n",
      "[CV 2/5] END ................C=1000, gamma=auto;, score=0.676 total time=   4.1s\n",
      "[CV 3/5] END ................C=1000, gamma=auto;, score=0.765 total time=   4.1s\n",
      "[CV 4/5] END ................C=1000, gamma=auto;, score=0.970 total time=   4.1s\n",
      "[CV 5/5] END ................C=1000, gamma=auto;, score=0.727 total time=   4.0s\n",
      "[CV 1/5] END ...............C=1000, gamma=scale;, score=0.794 total time=   4.2s\n",
      "[CV 2/5] END ...............C=1000, gamma=scale;, score=0.676 total time=   4.3s\n",
      "[CV 3/5] END ...............C=1000, gamma=scale;, score=0.765 total time=   4.2s\n",
      "[CV 4/5] END ...............C=1000, gamma=scale;, score=0.970 total time=   4.3s\n",
      "[CV 5/5] END ...............C=1000, gamma=scale;, score=0.727 total time=   4.2s\n"
     ]
    },
    {
     "metadata": {
      "tags": null
     },
     "name": "stderr",
     "output_type": "stream",
     "text": [
      "100%|██████████| 4/4 [00:01<00:00,  2.86it/s]\n"
     ]
    },
    {
     "metadata": {
      "tags": null
     },
     "name": "stdout",
     "output_type": "stream",
     "text": [
      "{'C': [1, 5, 10, 1000], 'gamma': ['auto', 'scale']}\n",
      "Fitting 5 folds for each of 8 candidates, totalling 40 fits\n",
      "[CV 1/5] END ...................C=1, gamma=auto;, score=0.647 total time=   3.8s\n",
      "[CV 2/5] END ...................C=1, gamma=auto;, score=0.971 total time=   4.0s\n",
      "[CV 3/5] END ...................C=1, gamma=auto;, score=0.588 total time=   4.0s\n",
      "[CV 4/5] END ...................C=1, gamma=auto;, score=0.879 total time=   3.8s\n",
      "[CV 5/5] END ...................C=1, gamma=auto;, score=0.879 total time=   3.8s\n",
      "[CV 1/5] END ..................C=1, gamma=scale;, score=0.647 total time=   3.9s\n",
      "[CV 2/5] END ..................C=1, gamma=scale;, score=0.971 total time=   3.9s\n",
      "[CV 3/5] END ..................C=1, gamma=scale;, score=0.588 total time=   4.1s\n",
      "[CV 4/5] END ..................C=1, gamma=scale;, score=0.879 total time=   3.8s\n",
      "[CV 5/5] END ..................C=1, gamma=scale;, score=0.879 total time=   4.0s\n",
      "[CV 1/5] END ...................C=5, gamma=auto;, score=0.647 total time=   3.8s\n",
      "[CV 2/5] END ...................C=5, gamma=auto;, score=0.853 total time=   3.9s\n",
      "[CV 3/5] END ...................C=5, gamma=auto;, score=0.559 total time=   3.9s\n",
      "[CV 4/5] END ...................C=5, gamma=auto;, score=0.818 total time=   3.7s\n",
      "[CV 5/5] END ...................C=5, gamma=auto;, score=0.879 total time=   3.8s\n",
      "[CV 1/5] END ..................C=5, gamma=scale;, score=0.647 total time=   3.9s\n",
      "[CV 2/5] END ..................C=5, gamma=scale;, score=0.853 total time=   4.0s\n",
      "[CV 3/5] END ..................C=5, gamma=scale;, score=0.559 total time=   4.0s\n",
      "[CV 4/5] END ..................C=5, gamma=scale;, score=0.818 total time=   4.2s\n",
      "[CV 5/5] END ..................C=5, gamma=scale;, score=0.879 total time=   5.0s\n",
      "[CV 1/5] END ..................C=10, gamma=auto;, score=0.647 total time=   4.5s\n",
      "[CV 2/5] END ..................C=10, gamma=auto;, score=0.853 total time=   4.2s\n",
      "[CV 3/5] END ..................C=10, gamma=auto;, score=0.559 total time=   4.7s\n",
      "[CV 4/5] END ..................C=10, gamma=auto;, score=0.818 total time=   7.7s\n",
      "[CV 5/5] END ..................C=10, gamma=auto;, score=0.879 total time=   8.3s\n",
      "[CV 1/5] END .................C=10, gamma=scale;, score=0.647 total time=   6.1s\n",
      "[CV 2/5] END .................C=10, gamma=scale;, score=0.853 total time=   4.0s\n",
      "[CV 3/5] END .................C=10, gamma=scale;, score=0.559 total time=   4.0s\n",
      "[CV 4/5] END .................C=10, gamma=scale;, score=0.818 total time=   3.9s\n",
      "[CV 5/5] END .................C=10, gamma=scale;, score=0.879 total time=   4.1s\n",
      "[CV 1/5] END ................C=1000, gamma=auto;, score=0.647 total time=   3.8s\n",
      "[CV 2/5] END ................C=1000, gamma=auto;, score=0.853 total time=   3.9s\n",
      "[CV 3/5] END ................C=1000, gamma=auto;, score=0.559 total time=   3.8s\n",
      "[CV 4/5] END ................C=1000, gamma=auto;, score=0.818 total time=   3.7s\n",
      "[CV 5/5] END ................C=1000, gamma=auto;, score=0.879 total time=   3.8s\n",
      "[CV 1/5] END ...............C=1000, gamma=scale;, score=0.647 total time=   3.9s\n",
      "[CV 2/5] END ...............C=1000, gamma=scale;, score=0.853 total time=   4.0s\n",
      "[CV 3/5] END ...............C=1000, gamma=scale;, score=0.559 total time=   4.0s\n",
      "[CV 4/5] END ...............C=1000, gamma=scale;, score=0.818 total time=   3.8s\n",
      "[CV 5/5] END ...............C=1000, gamma=scale;, score=0.879 total time=   3.9s\n"
     ]
    },
    {
     "metadata": {
      "tags": null
     },
     "name": "stderr",
     "output_type": "stream",
     "text": [
      "100%|██████████| 4/4 [00:00<00:00,  7.07it/s]\n"
     ]
    },
    {
     "output_type": "stream",
     "name": "stdout",
     "text": [
      "{'C': [1, 5, 10, 1000], 'gamma': ['auto', 'scale']}\n",
      "Fitting 5 folds for each of 8 candidates, totalling 40 fits\n",
      "[CV 1/5] END ...................C=1, gamma=auto;, score=0.676 total time=   4.0s\n",
      "[CV 2/5] END ...................C=1, gamma=auto;, score=0.882 total time=   3.8s\n",
      "[CV 3/5] END ...................C=1, gamma=auto;, score=0.588 total time=   3.8s\n",
      "[CV 4/5] END ...................C=1, gamma=auto;, score=0.970 total time=   4.0s\n",
      "[CV 5/5] END ...................C=1, gamma=auto;, score=0.970 total time=   3.9s\n",
      "[CV 1/5] END ..................C=1, gamma=scale;, score=0.676 total time=   3.9s\n",
      "[CV 2/5] END ..................C=1, gamma=scale;, score=0.882 total time=   3.9s\n",
      "[CV 3/5] END ..................C=1, gamma=scale;, score=0.588 total time=   3.9s\n",
      "[CV 4/5] END ..................C=1, gamma=scale;, score=0.970 total time=   4.1s\n",
      "[CV 5/5] END ..................C=1, gamma=scale;, score=0.970 total time=   4.1s\n",
      "[CV 1/5] END ...................C=5, gamma=auto;, score=0.647 total time=   4.0s\n",
      "[CV 2/5] END ...................C=5, gamma=auto;, score=0.941 total time=   4.0s\n",
      "[CV 3/5] END ...................C=5, gamma=auto;, score=0.588 total time=   3.8s\n",
      "[CV 4/5] END ...................C=5, gamma=auto;, score=0.939 total time=   4.0s\n",
      "[CV 5/5] END ...................C=5, gamma=auto;, score=0.970 total time=   3.9s\n",
      "[CV 1/5] END ..................C=5, gamma=scale;, score=0.647 total time=   3.9s\n",
      "[CV 2/5] END ..................C=5, gamma=scale;, score=0.941 total time=   3.9s\n",
      "[CV 3/5] END ..................C=5, gamma=scale;, score=0.588 total time=   3.9s\n",
      "[CV 4/5] END ..................C=5, gamma=scale;, score=0.939 total time=   3.9s\n",
      "[CV 5/5] END ..................C=5, gamma=scale;, score=0.970 total time=   4.0s\n",
      "[CV 1/5] END ..................C=10, gamma=auto;, score=0.647 total time=   3.8s\n",
      "[CV 2/5] END ..................C=10, gamma=auto;, score=0.941 total time=   3.8s\n",
      "[CV 3/5] END ..................C=10, gamma=auto;, score=0.588 total time=   3.8s\n",
      "[CV 4/5] END ..................C=10, gamma=auto;, score=0.939 total time=   3.9s\n",
      "[CV 5/5] END ..................C=10, gamma=auto;, score=0.970 total time=   3.8s\n",
      "[CV 1/5] END .................C=10, gamma=scale;, score=0.647 total time=   3.9s\n",
      "[CV 2/5] END .................C=10, gamma=scale;, score=0.941 total time=   4.1s\n",
      "[CV 3/5] END .................C=10, gamma=scale;, score=0.588 total time=   3.8s\n",
      "[CV 4/5] END .................C=10, gamma=scale;, score=0.939 total time=   3.9s\n",
      "[CV 5/5] END .................C=10, gamma=scale;, score=0.970 total time=   3.9s\n",
      "[CV 1/5] END ................C=1000, gamma=auto;, score=0.647 total time=   3.8s\n",
      "[CV 2/5] END ................C=1000, gamma=auto;, score=0.941 total time=   3.8s\n",
      "[CV 3/5] END ................C=1000, gamma=auto;, score=0.588 total time=   3.7s\n",
      "[CV 4/5] END ................C=1000, gamma=auto;, score=0.939 total time=   3.8s\n",
      "[CV 5/5] END ................C=1000, gamma=auto;, score=0.970 total time=   3.8s\n",
      "[CV 1/5] END ...............C=1000, gamma=scale;, score=0.647 total time=   3.9s\n",
      "[CV 2/5] END ...............C=1000, gamma=scale;, score=0.941 total time=   4.0s\n",
      "[CV 3/5] END ...............C=1000, gamma=scale;, score=0.588 total time=   3.9s\n",
      "[CV 4/5] END ...............C=1000, gamma=scale;, score=0.939 total time=   3.9s\n",
      "[CV 5/5] END ...............C=1000, gamma=scale;, score=0.970 total time=   3.9s\n"
     ]
    },
    {
     "output_type": "stream",
     "name": "stderr",
     "text": [
      "100%|██████████| 4/4 [00:00<00:00,  5.80it/s]\n"
     ]
    },
    {
     "output_type": "stream",
     "name": "stdout",
     "text": [
      "{'C': [1, 5, 10, 1000], 'gamma': ['auto', 'scale']}\n",
      "Fitting 5 folds for each of 8 candidates, totalling 40 fits\n",
      "[CV 1/5] END ...................C=1, gamma=auto;, score=0.706 total time=   3.9s\n",
      "[CV 2/5] END ...................C=1, gamma=auto;, score=0.882 total time=   4.1s\n",
      "[CV 3/5] END ...................C=1, gamma=auto;, score=0.735 total time=   4.0s\n",
      "[CV 4/5] END ...................C=1, gamma=auto;, score=0.939 total time=   4.0s\n",
      "[CV 5/5] END ...................C=1, gamma=auto;, score=0.939 total time=   3.9s\n",
      "[CV 1/5] END ..................C=1, gamma=scale;, score=0.706 total time=   4.1s\n",
      "[CV 2/5] END ..................C=1, gamma=scale;, score=0.882 total time=   4.2s\n",
      "[CV 3/5] END ..................C=1, gamma=scale;, score=0.735 total time=   4.2s\n",
      "[CV 4/5] END ..................C=1, gamma=scale;, score=0.939 total time=   4.1s\n",
      "[CV 5/5] END ..................C=1, gamma=scale;, score=0.939 total time=   4.1s\n",
      "[CV 1/5] END ...................C=5, gamma=auto;, score=0.676 total time=   3.9s\n",
      "[CV 2/5] END ...................C=5, gamma=auto;, score=0.882 total time=   4.0s\n",
      "[CV 3/5] END ...................C=5, gamma=auto;, score=0.735 total time=   3.9s\n",
      "[CV 4/5] END ...................C=5, gamma=auto;, score=0.848 total time=   3.9s\n",
      "[CV 5/5] END ...................C=5, gamma=auto;, score=0.939 total time=   3.9s\n",
      "[CV 1/5] END ..................C=5, gamma=scale;, score=0.676 total time=   4.1s\n",
      "[CV 2/5] END ..................C=5, gamma=scale;, score=0.882 total time=   4.1s\n",
      "[CV 3/5] END ..................C=5, gamma=scale;, score=0.735 total time=   4.1s\n",
      "[CV 4/5] END ..................C=5, gamma=scale;, score=0.848 total time=   4.0s\n",
      "[CV 5/5] END ..................C=5, gamma=scale;, score=0.939 total time=   4.0s\n",
      "[CV 1/5] END ..................C=10, gamma=auto;, score=0.676 total time=   3.9s\n",
      "[CV 2/5] END ..................C=10, gamma=auto;, score=0.882 total time=   4.0s\n",
      "[CV 3/5] END ..................C=10, gamma=auto;, score=0.735 total time=   4.0s\n",
      "[CV 4/5] END ..................C=10, gamma=auto;, score=0.848 total time=   3.9s\n",
      "[CV 5/5] END ..................C=10, gamma=auto;, score=0.939 total time=   3.8s\n",
      "[CV 1/5] END .................C=10, gamma=scale;, score=0.676 total time=   4.0s\n",
      "[CV 2/5] END .................C=10, gamma=scale;, score=0.882 total time=   4.1s\n",
      "[CV 3/5] END .................C=10, gamma=scale;, score=0.735 total time=   4.1s\n",
      "[CV 4/5] END .................C=10, gamma=scale;, score=0.848 total time=   4.0s\n",
      "[CV 5/5] END .................C=10, gamma=scale;, score=0.939 total time=   4.0s\n",
      "[CV 1/5] END ................C=1000, gamma=auto;, score=0.676 total time=   3.9s\n",
      "[CV 2/5] END ................C=1000, gamma=auto;, score=0.882 total time=   3.9s\n",
      "[CV 3/5] END ................C=1000, gamma=auto;, score=0.735 total time=   3.9s\n",
      "[CV 4/5] END ................C=1000, gamma=auto;, score=0.848 total time=   3.9s\n",
      "[CV 5/5] END ................C=1000, gamma=auto;, score=0.939 total time=   3.9s\n",
      "[CV 1/5] END ...............C=1000, gamma=scale;, score=0.676 total time=   4.0s\n",
      "[CV 2/5] END ...............C=1000, gamma=scale;, score=0.882 total time=   4.1s\n",
      "[CV 3/5] END ...............C=1000, gamma=scale;, score=0.735 total time=   4.1s\n",
      "[CV 4/5] END ...............C=1000, gamma=scale;, score=0.848 total time=   4.1s\n",
      "[CV 5/5] END ...............C=1000, gamma=scale;, score=0.939 total time=   4.0s\n"
     ]
    },
    {
     "output_type": "stream",
     "name": "stderr",
     "text": [
      "100%|██████████| 4/4 [00:00<00:00,  4.45it/s]\n"
     ]
    },
    {
     "output_type": "stream",
     "name": "stdout",
     "text": [
      "{'C': [1, 5, 10, 1000], 'gamma': ['auto', 'scale']}\n",
      "Fitting 5 folds for each of 8 candidates, totalling 40 fits\n",
      "[CV 1/5] END ...................C=1, gamma=auto;, score=0.647 total time=   3.9s\n",
      "[CV 2/5] END ...................C=1, gamma=auto;, score=0.676 total time=   3.9s\n",
      "[CV 3/5] END ...................C=1, gamma=auto;, score=0.588 total time=   3.8s\n",
      "[CV 4/5] END ...................C=1, gamma=auto;, score=0.545 total time=   3.9s\n",
      "[CV 5/5] END ...................C=1, gamma=auto;, score=0.697 total time=   3.9s\n",
      "[CV 1/5] END ..................C=1, gamma=scale;, score=0.647 total time=   4.0s\n",
      "[CV 2/5] END ..................C=1, gamma=scale;, score=0.676 total time=   4.0s\n",
      "[CV 3/5] END ..................C=1, gamma=scale;, score=0.588 total time=   3.9s\n",
      "[CV 4/5] END ..................C=1, gamma=scale;, score=0.545 total time=   4.1s\n",
      "[CV 5/5] END ..................C=1, gamma=scale;, score=0.697 total time=   4.0s\n",
      "[CV 1/5] END ...................C=5, gamma=auto;, score=0.676 total time=   3.9s\n",
      "[CV 2/5] END ...................C=5, gamma=auto;, score=0.706 total time=   3.8s\n",
      "[CV 3/5] END ...................C=5, gamma=auto;, score=0.500 total time=   3.9s\n",
      "[CV 4/5] END ...................C=5, gamma=auto;, score=0.606 total time=   4.0s\n",
      "[CV 5/5] END ...................C=5, gamma=auto;, score=0.636 total time=   3.9s\n",
      "[CV 1/5] END ..................C=5, gamma=scale;, score=0.676 total time=   4.0s\n",
      "[CV 2/5] END ..................C=5, gamma=scale;, score=0.706 total time=   3.9s\n",
      "[CV 3/5] END ..................C=5, gamma=scale;, score=0.500 total time=   4.1s\n",
      "[CV 4/5] END ..................C=5, gamma=scale;, score=0.606 total time=   4.1s\n",
      "[CV 5/5] END ..................C=5, gamma=scale;, score=0.636 total time=   4.0s\n",
      "[CV 1/5] END ..................C=10, gamma=auto;, score=0.676 total time=   3.9s\n",
      "[CV 2/5] END ..................C=10, gamma=auto;, score=0.706 total time=   3.8s\n",
      "[CV 3/5] END ..................C=10, gamma=auto;, score=0.500 total time=   3.9s\n",
      "[CV 4/5] END ..................C=10, gamma=auto;, score=0.606 total time=   3.9s\n",
      "[CV 5/5] END ..................C=10, gamma=auto;, score=0.636 total time=   3.9s\n",
      "[CV 1/5] END .................C=10, gamma=scale;, score=0.676 total time=   4.0s\n",
      "[CV 2/5] END .................C=10, gamma=scale;, score=0.706 total time=   4.0s\n",
      "[CV 3/5] END .................C=10, gamma=scale;, score=0.500 total time=   4.0s\n",
      "[CV 4/5] END .................C=10, gamma=scale;, score=0.606 total time=   4.1s\n",
      "[CV 5/5] END .................C=10, gamma=scale;, score=0.636 total time=   4.3s\n",
      "[CV 1/5] END ................C=1000, gamma=auto;, score=0.676 total time=   7.1s\n",
      "[CV 2/5] END ................C=1000, gamma=auto;, score=0.706 total time=   6.7s\n",
      "[CV 3/5] END ................C=1000, gamma=auto;, score=0.500 total time=   6.1s\n",
      "[CV 4/5] END ................C=1000, gamma=auto;, score=0.606 total time=   6.7s\n",
      "[CV 5/5] END ................C=1000, gamma=auto;, score=0.636 total time=   6.7s\n",
      "[CV 1/5] END ...............C=1000, gamma=scale;, score=0.676 total time=   9.2s\n",
      "[CV 2/5] END ...............C=1000, gamma=scale;, score=0.706 total time=   7.0s\n",
      "[CV 3/5] END ...............C=1000, gamma=scale;, score=0.500 total time=   5.8s\n",
      "[CV 4/5] END ...............C=1000, gamma=scale;, score=0.606 total time=   4.1s\n",
      "[CV 5/5] END ...............C=1000, gamma=scale;, score=0.636 total time=   4.0s\n"
     ]
    },
    {
     "output_type": "stream",
     "name": "stderr",
     "text": [
      "100%|██████████| 4/4 [00:00<00:00,  5.43it/s]\n"
     ]
    },
    {
     "output_type": "stream",
     "name": "stdout",
     "text": [
      "{'C': [1, 5, 10, 1000], 'gamma': ['auto', 'scale']}\n",
      "Fitting 5 folds for each of 8 candidates, totalling 40 fits\n",
      "[CV 1/5] END ...................C=1, gamma=auto;, score=0.500 total time=   4.0s\n",
      "[CV 2/5] END ...................C=1, gamma=auto;, score=0.941 total time=   4.0s\n",
      "[CV 3/5] END ...................C=1, gamma=auto;, score=0.824 total time=   4.0s\n",
      "[CV 4/5] END ...................C=1, gamma=auto;, score=0.606 total time=   3.9s\n",
      "[CV 5/5] END ...................C=1, gamma=auto;, score=0.879 total time=   4.0s\n",
      "[CV 1/5] END ..................C=1, gamma=scale;, score=0.500 total time=   4.1s\n",
      "[CV 2/5] END ..................C=1, gamma=scale;, score=0.941 total time=   4.1s\n",
      "[CV 3/5] END ..................C=1, gamma=scale;, score=0.824 total time=   4.2s\n",
      "[CV 4/5] END ..................C=1, gamma=scale;, score=0.576 total time=   4.1s\n",
      "[CV 5/5] END ..................C=1, gamma=scale;, score=0.879 total time=   4.1s\n",
      "[CV 1/5] END ...................C=5, gamma=auto;, score=0.559 total time=   4.0s\n",
      "[CV 2/5] END ...................C=5, gamma=auto;, score=0.941 total time=   4.0s\n",
      "[CV 3/5] END ...................C=5, gamma=auto;, score=0.824 total time=   4.0s\n",
      "[CV 4/5] END ...................C=5, gamma=auto;, score=0.606 total time=   4.0s\n",
      "[CV 5/5] END ...................C=5, gamma=auto;, score=0.879 total time=   3.9s\n",
      "[CV 1/5] END ..................C=5, gamma=scale;, score=0.559 total time=   4.1s\n",
      "[CV 2/5] END ..................C=5, gamma=scale;, score=0.941 total time=   4.2s\n",
      "[CV 3/5] END ..................C=5, gamma=scale;, score=0.824 total time=   4.1s\n",
      "[CV 4/5] END ..................C=5, gamma=scale;, score=0.606 total time=   4.1s\n",
      "[CV 5/5] END ..................C=5, gamma=scale;, score=0.879 total time=   4.1s\n",
      "[CV 1/5] END ..................C=10, gamma=auto;, score=0.559 total time=   3.9s\n",
      "[CV 2/5] END ..................C=10, gamma=auto;, score=0.941 total time=   4.0s\n",
      "[CV 3/5] END ..................C=10, gamma=auto;, score=0.824 total time=   4.0s\n",
      "[CV 4/5] END ..................C=10, gamma=auto;, score=0.606 total time=   4.0s\n",
      "[CV 5/5] END ..................C=10, gamma=auto;, score=0.879 total time=   3.9s\n",
      "[CV 1/5] END .................C=10, gamma=scale;, score=0.559 total time=   4.1s\n",
      "[CV 2/5] END .................C=10, gamma=scale;, score=0.941 total time=   4.1s\n",
      "[CV 3/5] END .................C=10, gamma=scale;, score=0.824 total time=   4.1s\n",
      "[CV 4/5] END .................C=10, gamma=scale;, score=0.606 total time=   4.1s\n",
      "[CV 5/5] END .................C=10, gamma=scale;, score=0.879 total time=   4.1s\n",
      "[CV 1/5] END ................C=1000, gamma=auto;, score=0.559 total time=   4.0s\n",
      "[CV 2/5] END ................C=1000, gamma=auto;, score=0.941 total time=   4.0s\n",
      "[CV 3/5] END ................C=1000, gamma=auto;, score=0.824 total time=   4.0s\n",
      "[CV 4/5] END ................C=1000, gamma=auto;, score=0.606 total time=   3.9s\n",
      "[CV 5/5] END ................C=1000, gamma=auto;, score=0.879 total time=   3.9s\n",
      "[CV 1/5] END ...............C=1000, gamma=scale;, score=0.559 total time=   4.1s\n",
      "[CV 2/5] END ...............C=1000, gamma=scale;, score=0.941 total time=   4.2s\n",
      "[CV 3/5] END ...............C=1000, gamma=scale;, score=0.824 total time=   4.2s\n",
      "[CV 4/5] END ...............C=1000, gamma=scale;, score=0.606 total time=   4.1s\n",
      "[CV 5/5] END ...............C=1000, gamma=scale;, score=0.879 total time=   4.1s\n"
     ]
    },
    {
     "output_type": "stream",
     "name": "stderr",
     "text": [
      "100%|██████████| 4/4 [00:00<00:00,  4.80it/s]\n"
     ]
    },
    {
     "output_type": "stream",
     "name": "stdout",
     "text": [
      "{'C': [1, 5, 10, 1000], 'gamma': ['auto', 'scale']}\n",
      "Fitting 5 folds for each of 8 candidates, totalling 40 fits\n",
      "[CV 1/5] END ...................C=1, gamma=auto;, score=0.765 total time=   3.8s\n",
      "[CV 2/5] END ...................C=1, gamma=auto;, score=0.647 total time=   3.8s\n",
      "[CV 3/5] END ...................C=1, gamma=auto;, score=0.588 total time=   3.8s\n",
      "[CV 4/5] END ...................C=1, gamma=auto;, score=0.758 total time=   3.8s\n",
      "[CV 5/5] END ...................C=1, gamma=auto;, score=0.606 total time=   3.8s\n",
      "[CV 1/5] END ..................C=1, gamma=scale;, score=0.765 total time=   3.9s\n",
      "[CV 2/5] END ..................C=1, gamma=scale;, score=0.647 total time=   3.9s\n",
      "[CV 3/5] END ..................C=1, gamma=scale;, score=0.588 total time=   3.9s\n",
      "[CV 4/5] END ..................C=1, gamma=scale;, score=0.758 total time=   4.0s\n",
      "[CV 5/5] END ..................C=1, gamma=scale;, score=0.606 total time=   3.9s\n",
      "[CV 1/5] END ...................C=5, gamma=auto;, score=0.706 total time=   3.7s\n",
      "[CV 2/5] END ...................C=5, gamma=auto;, score=0.676 total time=   3.8s\n",
      "[CV 3/5] END ...................C=5, gamma=auto;, score=0.559 total time=   3.9s\n",
      "[CV 4/5] END ...................C=5, gamma=auto;, score=0.697 total time=   3.8s\n",
      "[CV 5/5] END ...................C=5, gamma=auto;, score=0.545 total time=   3.8s\n",
      "[CV 1/5] END ..................C=5, gamma=scale;, score=0.706 total time=   3.9s\n",
      "[CV 2/5] END ..................C=5, gamma=scale;, score=0.676 total time=   3.9s\n",
      "[CV 3/5] END ..................C=5, gamma=scale;, score=0.559 total time=   4.0s\n",
      "[CV 4/5] END ..................C=5, gamma=scale;, score=0.636 total time=   4.1s\n",
      "[CV 5/5] END ..................C=5, gamma=scale;, score=0.545 total time=   4.0s\n",
      "[CV 1/5] END ..................C=10, gamma=auto;, score=0.706 total time=   3.7s\n",
      "[CV 2/5] END ..................C=10, gamma=auto;, score=0.676 total time=   3.8s\n",
      "[CV 3/5] END ..................C=10, gamma=auto;, score=0.559 total time=   3.8s\n",
      "[CV 4/5] END ..................C=10, gamma=auto;, score=0.697 total time=   3.8s\n",
      "[CV 5/5] END ..................C=10, gamma=auto;, score=0.545 total time=   3.8s\n",
      "[CV 1/5] END .................C=10, gamma=scale;, score=0.706 total time=   3.9s\n",
      "[CV 2/5] END .................C=10, gamma=scale;, score=0.676 total time=   3.9s\n",
      "[CV 3/5] END .................C=10, gamma=scale;, score=0.559 total time=   4.0s\n",
      "[CV 4/5] END .................C=10, gamma=scale;, score=0.636 total time=   4.0s\n",
      "[CV 5/5] END .................C=10, gamma=scale;, score=0.545 total time=   4.0s\n",
      "[CV 1/5] END ................C=1000, gamma=auto;, score=0.706 total time=   3.8s\n",
      "[CV 2/5] END ................C=1000, gamma=auto;, score=0.676 total time=   3.8s\n",
      "[CV 3/5] END ................C=1000, gamma=auto;, score=0.559 total time=   3.8s\n",
      "[CV 4/5] END ................C=1000, gamma=auto;, score=0.697 total time=   3.9s\n",
      "[CV 5/5] END ................C=1000, gamma=auto;, score=0.545 total time=   3.9s\n",
      "[CV 1/5] END ...............C=1000, gamma=scale;, score=0.706 total time=   3.9s\n",
      "[CV 2/5] END ...............C=1000, gamma=scale;, score=0.676 total time=   3.9s\n",
      "[CV 3/5] END ...............C=1000, gamma=scale;, score=0.559 total time=   4.0s\n",
      "[CV 4/5] END ...............C=1000, gamma=scale;, score=0.636 total time=   4.0s\n",
      "[CV 5/5] END ...............C=1000, gamma=scale;, score=0.545 total time=   4.0s\n"
     ]
    },
    {
     "output_type": "stream",
     "name": "stderr",
     "text": [
      "100%|██████████| 4/4 [00:00<00:00,  7.71it/s]\n"
     ]
    },
    {
     "output_type": "stream",
     "name": "stdout",
     "text": [
      "{'C': [1, 5, 10, 1000], 'gamma': ['auto', 'scale']}\n",
      "Fitting 5 folds for each of 8 candidates, totalling 40 fits\n",
      "[CV 1/5] END ...................C=1, gamma=auto;, score=0.559 total time=   3.9s\n",
      "[CV 2/5] END ...................C=1, gamma=auto;, score=0.706 total time=   3.8s\n",
      "[CV 3/5] END ...................C=1, gamma=auto;, score=0.735 total time=   3.9s\n",
      "[CV 4/5] END ...................C=1, gamma=auto;, score=0.879 total time=   3.8s\n",
      "[CV 5/5] END ...................C=1, gamma=auto;, score=0.848 total time=   3.8s\n",
      "[CV 1/5] END ..................C=1, gamma=scale;, score=0.559 total time=   3.9s\n",
      "[CV 2/5] END ..................C=1, gamma=scale;, score=0.706 total time=   4.4s\n",
      "[CV 3/5] END ..................C=1, gamma=scale;, score=0.735 total time=   5.7s\n",
      "[CV 4/5] END ..................C=1, gamma=scale;, score=0.879 total time=   5.4s\n",
      "[CV 5/5] END ..................C=1, gamma=scale;, score=0.848 total time=   4.6s\n",
      "[CV 1/5] END ...................C=5, gamma=auto;, score=0.559 total time=   3.9s\n",
      "[CV 2/5] END ...................C=5, gamma=auto;, score=0.735 total time=   4.2s\n",
      "[CV 3/5] END ...................C=5, gamma=auto;, score=0.794 total time=   3.9s\n",
      "[CV 4/5] END ...................C=5, gamma=auto;, score=0.879 total time=   3.8s\n",
      "[CV 5/5] END ...................C=5, gamma=auto;, score=0.848 total time=   3.8s\n",
      "[CV 1/5] END ..................C=5, gamma=scale;, score=0.559 total time=   4.0s\n",
      "[CV 2/5] END ..................C=5, gamma=scale;, score=0.735 total time=   3.9s\n",
      "[CV 3/5] END ..................C=5, gamma=scale;, score=0.794 total time=   4.0s\n",
      "[CV 4/5] END ..................C=5, gamma=scale;, score=0.879 total time=   4.0s\n",
      "[CV 5/5] END ..................C=5, gamma=scale;, score=0.848 total time=   4.0s\n",
      "[CV 1/5] END ..................C=10, gamma=auto;, score=0.559 total time=   3.8s\n",
      "[CV 2/5] END ..................C=10, gamma=auto;, score=0.735 total time=   3.8s\n",
      "[CV 3/5] END ..................C=10, gamma=auto;, score=0.794 total time=   3.9s\n",
      "[CV 4/5] END ..................C=10, gamma=auto;, score=0.879 total time=   3.8s\n",
      "[CV 5/5] END ..................C=10, gamma=auto;, score=0.848 total time=   3.8s\n",
      "[CV 1/5] END .................C=10, gamma=scale;, score=0.559 total time=   4.0s\n",
      "[CV 2/5] END .................C=10, gamma=scale;, score=0.735 total time=   3.9s\n",
      "[CV 3/5] END .................C=10, gamma=scale;, score=0.794 total time=   4.0s\n",
      "[CV 4/5] END .................C=10, gamma=scale;, score=0.879 total time=   4.0s\n",
      "[CV 5/5] END .................C=10, gamma=scale;, score=0.848 total time=   4.0s\n",
      "[CV 1/5] END ................C=1000, gamma=auto;, score=0.559 total time=   3.9s\n",
      "[CV 2/5] END ................C=1000, gamma=auto;, score=0.735 total time=   3.8s\n",
      "[CV 3/5] END ................C=1000, gamma=auto;, score=0.794 total time=   3.9s\n",
      "[CV 4/5] END ................C=1000, gamma=auto;, score=0.879 total time=   3.8s\n",
      "[CV 5/5] END ................C=1000, gamma=auto;, score=0.848 total time=   3.9s\n",
      "[CV 1/5] END ...............C=1000, gamma=scale;, score=0.559 total time=   3.9s\n",
      "[CV 2/5] END ...............C=1000, gamma=scale;, score=0.735 total time=   3.9s\n",
      "[CV 3/5] END ...............C=1000, gamma=scale;, score=0.794 total time=   4.0s\n",
      "[CV 4/5] END ...............C=1000, gamma=scale;, score=0.879 total time=   4.0s\n",
      "[CV 5/5] END ...............C=1000, gamma=scale;, score=0.848 total time=   4.0s\n"
     ]
    },
    {
     "output_type": "stream",
     "name": "stderr",
     "text": [
      "100%|██████████| 4/4 [00:01<00:00,  3.49it/s]\n"
     ]
    },
    {
     "output_type": "stream",
     "name": "stdout",
     "text": [
      "{'C': [1, 5, 10, 1000], 'gamma': ['auto', 'scale']}\n",
      "Fitting 5 folds for each of 8 candidates, totalling 40 fits\n",
      "[CV 1/5] END ...................C=1, gamma=auto;, score=0.529 total time=   3.5s\n",
      "[CV 2/5] END ...................C=1, gamma=auto;, score=0.735 total time=   3.6s\n",
      "[CV 3/5] END ...................C=1, gamma=auto;, score=0.706 total time=   3.6s\n",
      "[CV 4/5] END ...................C=1, gamma=auto;, score=0.939 total time=   3.8s\n",
      "[CV 5/5] END ...................C=1, gamma=auto;, score=0.970 total time=   3.8s\n",
      "[CV 1/5] END ..................C=1, gamma=scale;, score=0.529 total time=   3.7s\n",
      "[CV 2/5] END ..................C=1, gamma=scale;, score=0.735 total time=   3.7s\n",
      "[CV 3/5] END ..................C=1, gamma=scale;, score=0.706 total time=   3.7s\n",
      "[CV 4/5] END ..................C=1, gamma=scale;, score=0.939 total time=   3.9s\n",
      "[CV 5/5] END ..................C=1, gamma=scale;, score=0.970 total time=   3.9s\n",
      "[CV 1/5] END ...................C=5, gamma=auto;, score=0.529 total time=   3.6s\n",
      "[CV 2/5] END ...................C=5, gamma=auto;, score=0.735 total time=   3.7s\n",
      "[CV 3/5] END ...................C=5, gamma=auto;, score=0.706 total time=   3.7s\n",
      "[CV 4/5] END ...................C=5, gamma=auto;, score=0.909 total time=   3.8s\n",
      "[CV 5/5] END ...................C=5, gamma=auto;, score=0.939 total time=   3.8s\n",
      "[CV 1/5] END ..................C=5, gamma=scale;, score=0.529 total time=   3.7s\n",
      "[CV 2/5] END ..................C=5, gamma=scale;, score=0.735 total time=   3.8s\n",
      "[CV 3/5] END ..................C=5, gamma=scale;, score=0.676 total time=   3.8s\n",
      "[CV 4/5] END ..................C=5, gamma=scale;, score=0.909 total time=   4.0s\n",
      "[CV 5/5] END ..................C=5, gamma=scale;, score=0.939 total time=   3.8s\n",
      "[CV 1/5] END ..................C=10, gamma=auto;, score=0.529 total time=   3.7s\n",
      "[CV 2/5] END ..................C=10, gamma=auto;, score=0.735 total time=   3.6s\n",
      "[CV 3/5] END ..................C=10, gamma=auto;, score=0.706 total time=   3.6s\n",
      "[CV 4/5] END ..................C=10, gamma=auto;, score=0.909 total time=   3.8s\n",
      "[CV 5/5] END ..................C=10, gamma=auto;, score=0.939 total time=   3.7s\n",
      "[CV 1/5] END .................C=10, gamma=scale;, score=0.529 total time=   3.8s\n",
      "[CV 2/5] END .................C=10, gamma=scale;, score=0.735 total time=   3.9s\n",
      "[CV 3/5] END .................C=10, gamma=scale;, score=0.676 total time=   3.8s\n",
      "[CV 4/5] END .................C=10, gamma=scale;, score=0.909 total time=   4.0s\n",
      "[CV 5/5] END .................C=10, gamma=scale;, score=0.939 total time=   3.9s\n",
      "[CV 1/5] END ................C=1000, gamma=auto;, score=0.529 total time=   3.7s\n",
      "[CV 2/5] END ................C=1000, gamma=auto;, score=0.735 total time=   3.7s\n",
      "[CV 3/5] END ................C=1000, gamma=auto;, score=0.706 total time=   3.6s\n",
      "[CV 4/5] END ................C=1000, gamma=auto;, score=0.909 total time=   3.8s\n",
      "[CV 5/5] END ................C=1000, gamma=auto;, score=0.939 total time=   3.8s\n",
      "[CV 1/5] END ...............C=1000, gamma=scale;, score=0.529 total time=   3.7s\n",
      "[CV 2/5] END ...............C=1000, gamma=scale;, score=0.735 total time=   3.8s\n",
      "[CV 3/5] END ...............C=1000, gamma=scale;, score=0.676 total time=   3.9s\n",
      "[CV 4/5] END ...............C=1000, gamma=scale;, score=0.909 total time=   3.9s\n",
      "[CV 5/5] END ...............C=1000, gamma=scale;, score=0.939 total time=   3.9s\n"
     ]
    },
    {
     "output_type": "stream",
     "name": "stderr",
     "text": [
      "100%|██████████| 4/4 [00:00<00:00,  4.23it/s]\n"
     ]
    },
    {
     "output_type": "stream",
     "name": "stdout",
     "text": [
      "{'C': [1, 5, 10, 1000], 'gamma': ['auto', 'scale']}\n",
      "Fitting 5 folds for each of 8 candidates, totalling 40 fits\n",
      "[CV 1/5] END ...................C=1, gamma=auto;, score=0.588 total time=   3.9s\n",
      "[CV 2/5] END ...................C=1, gamma=auto;, score=0.765 total time=   3.9s\n",
      "[CV 3/5] END ...................C=1, gamma=auto;, score=0.794 total time=   3.9s\n",
      "[CV 4/5] END ...................C=1, gamma=auto;, score=0.545 total time=   3.9s\n",
      "[CV 5/5] END ...................C=1, gamma=auto;, score=0.576 total time=   3.8s\n",
      "[CV 1/5] END ..................C=1, gamma=scale;, score=0.588 total time=   4.0s\n",
      "[CV 2/5] END ..................C=1, gamma=scale;, score=0.765 total time=   4.0s\n",
      "[CV 3/5] END ..................C=1, gamma=scale;, score=0.794 total time=   4.0s\n",
      "[CV 4/5] END ..................C=1, gamma=scale;, score=0.545 total time=   3.9s\n",
      "[CV 5/5] END ..................C=1, gamma=scale;, score=0.576 total time=   4.0s\n",
      "[CV 1/5] END ...................C=5, gamma=auto;, score=0.529 total time=   4.0s\n",
      "[CV 2/5] END ...................C=5, gamma=auto;, score=0.735 total time=   3.9s\n",
      "[CV 3/5] END ...................C=5, gamma=auto;, score=0.794 total time=   3.9s\n",
      "[CV 4/5] END ...................C=5, gamma=auto;, score=0.515 total time=   3.9s\n",
      "[CV 5/5] END ...................C=5, gamma=auto;, score=0.576 total time=   3.8s\n",
      "[CV 1/5] END ..................C=5, gamma=scale;, score=0.529 total time=   4.0s\n",
      "[CV 2/5] END ..................C=5, gamma=scale;, score=0.735 total time=   4.0s\n",
      "[CV 3/5] END ..................C=5, gamma=scale;, score=0.794 total time=   4.1s\n",
      "[CV 4/5] END ..................C=5, gamma=scale;, score=0.515 total time=   4.1s\n",
      "[CV 5/5] END ..................C=5, gamma=scale;, score=0.576 total time=   4.3s\n",
      "[CV 1/5] END ..................C=10, gamma=auto;, score=0.529 total time=   4.9s\n",
      "[CV 2/5] END ..................C=10, gamma=auto;, score=0.735 total time=   3.9s\n",
      "[CV 3/5] END ..................C=10, gamma=auto;, score=0.794 total time=   3.9s\n",
      "[CV 4/5] END ..................C=10, gamma=auto;, score=0.515 total time=   3.9s\n",
      "[CV 5/5] END ..................C=10, gamma=auto;, score=0.576 total time=   3.9s\n",
      "[CV 1/5] END .................C=10, gamma=scale;, score=0.529 total time=   4.1s\n",
      "[CV 2/5] END .................C=10, gamma=scale;, score=0.735 total time=   4.0s\n",
      "[CV 3/5] END .................C=10, gamma=scale;, score=0.794 total time=   4.0s\n",
      "[CV 4/5] END .................C=10, gamma=scale;, score=0.515 total time=   4.0s\n",
      "[CV 5/5] END .................C=10, gamma=scale;, score=0.576 total time=   3.9s\n",
      "[CV 1/5] END ................C=1000, gamma=auto;, score=0.529 total time=   3.9s\n",
      "[CV 2/5] END ................C=1000, gamma=auto;, score=0.735 total time=   3.9s\n",
      "[CV 3/5] END ................C=1000, gamma=auto;, score=0.794 total time=   3.9s\n",
      "[CV 4/5] END ................C=1000, gamma=auto;, score=0.515 total time=   3.9s\n",
      "[CV 5/5] END ................C=1000, gamma=auto;, score=0.576 total time=   3.8s\n",
      "[CV 1/5] END ...............C=1000, gamma=scale;, score=0.529 total time=   4.0s\n",
      "[CV 2/5] END ...............C=1000, gamma=scale;, score=0.735 total time=   4.0s\n",
      "[CV 3/5] END ...............C=1000, gamma=scale;, score=0.794 total time=   4.0s\n",
      "[CV 4/5] END ...............C=1000, gamma=scale;, score=0.515 total time=   3.9s\n",
      "[CV 5/5] END ...............C=1000, gamma=scale;, score=0.576 total time=   4.0s\n"
     ]
    },
    {
     "output_type": "stream",
     "name": "stderr",
     "text": [
      "100%|██████████| 4/4 [00:00<00:00,  5.11it/s]\n"
     ]
    },
    {
     "output_type": "stream",
     "name": "stdout",
     "text": [
      "{'C': [1, 5, 10, 1000], 'gamma': ['auto', 'scale']}\n",
      "Fitting 5 folds for each of 8 candidates, totalling 40 fits\n",
      "[CV 1/5] END ...................C=1, gamma=auto;, score=0.794 total time=   4.0s\n",
      "[CV 2/5] END ...................C=1, gamma=auto;, score=0.618 total time=   3.8s\n",
      "[CV 3/5] END ...................C=1, gamma=auto;, score=0.765 total time=   3.8s\n",
      "[CV 4/5] END ...................C=1, gamma=auto;, score=0.848 total time=   3.8s\n",
      "[CV 5/5] END ...................C=1, gamma=auto;, score=0.636 total time=   3.9s\n",
      "[CV 1/5] END ..................C=1, gamma=scale;, score=0.765 total time=   4.0s\n",
      "[CV 2/5] END ..................C=1, gamma=scale;, score=0.618 total time=   3.9s\n",
      "[CV 3/5] END ..................C=1, gamma=scale;, score=0.765 total time=   3.9s\n",
      "[CV 4/5] END ..................C=1, gamma=scale;, score=0.848 total time=   4.0s\n",
      "[CV 5/5] END ..................C=1, gamma=scale;, score=0.636 total time=   4.0s\n",
      "[CV 1/5] END ...................C=5, gamma=auto;, score=0.706 total time=   3.8s\n",
      "[CV 2/5] END ...................C=5, gamma=auto;, score=0.706 total time=   3.8s\n",
      "[CV 3/5] END ...................C=5, gamma=auto;, score=0.765 total time=   3.8s\n",
      "[CV 4/5] END ...................C=5, gamma=auto;, score=0.848 total time=   3.9s\n",
      "[CV 5/5] END ...................C=5, gamma=auto;, score=0.576 total time=   3.8s\n",
      "[CV 1/5] END ..................C=5, gamma=scale;, score=0.735 total time=   3.9s\n",
      "[CV 2/5] END ..................C=5, gamma=scale;, score=0.706 total time=   3.9s\n",
      "[CV 3/5] END ..................C=5, gamma=scale;, score=0.765 total time=   3.9s\n",
      "[CV 4/5] END ..................C=5, gamma=scale;, score=0.848 total time=   4.0s\n",
      "[CV 5/5] END ..................C=5, gamma=scale;, score=0.576 total time=   4.0s\n",
      "[CV 1/5] END ..................C=10, gamma=auto;, score=0.706 total time=   3.8s\n",
      "[CV 2/5] END ..................C=10, gamma=auto;, score=0.706 total time=   3.8s\n",
      "[CV 3/5] END ..................C=10, gamma=auto;, score=0.765 total time=   3.7s\n",
      "[CV 4/5] END ..................C=10, gamma=auto;, score=0.848 total time=   3.9s\n",
      "[CV 5/5] END ..................C=10, gamma=auto;, score=0.576 total time=   3.8s\n",
      "[CV 1/5] END .................C=10, gamma=scale;, score=0.735 total time=   3.9s\n",
      "[CV 2/5] END .................C=10, gamma=scale;, score=0.706 total time=   3.8s\n",
      "[CV 3/5] END .................C=10, gamma=scale;, score=0.765 total time=   3.9s\n",
      "[CV 4/5] END .................C=10, gamma=scale;, score=0.848 total time=   4.0s\n",
      "[CV 5/5] END .................C=10, gamma=scale;, score=0.576 total time=   4.0s\n",
      "[CV 1/5] END ................C=1000, gamma=auto;, score=0.706 total time=   3.8s\n",
      "[CV 2/5] END ................C=1000, gamma=auto;, score=0.706 total time=   3.7s\n",
      "[CV 3/5] END ................C=1000, gamma=auto;, score=0.765 total time=   3.8s\n",
      "[CV 4/5] END ................C=1000, gamma=auto;, score=0.848 total time=   3.9s\n",
      "[CV 5/5] END ................C=1000, gamma=auto;, score=0.576 total time=   3.9s\n",
      "[CV 1/5] END ...............C=1000, gamma=scale;, score=0.735 total time=   3.9s\n",
      "[CV 2/5] END ...............C=1000, gamma=scale;, score=0.706 total time=   3.9s\n",
      "[CV 3/5] END ...............C=1000, gamma=scale;, score=0.765 total time=   3.9s\n",
      "[CV 4/5] END ...............C=1000, gamma=scale;, score=0.848 total time=   4.1s\n",
      "[CV 5/5] END ...............C=1000, gamma=scale;, score=0.576 total time=   4.0s\n"
     ]
    },
    {
     "output_type": "stream",
     "name": "stderr",
     "text": [
      "100%|██████████| 4/4 [00:00<00:00,  7.37it/s]\n"
     ]
    },
    {
     "output_type": "stream",
     "name": "stdout",
     "text": [
      "{'C': [1, 5, 10, 1000], 'gamma': ['auto', 'scale']}\n",
      "Fitting 5 folds for each of 8 candidates, totalling 40 fits\n",
      "[CV 1/5] END ...................C=1, gamma=auto;, score=0.559 total time=   3.9s\n",
      "[CV 2/5] END ...................C=1, gamma=auto;, score=0.500 total time=   4.3s\n",
      "[CV 3/5] END ...................C=1, gamma=auto;, score=0.529 total time=   5.1s\n",
      "[CV 4/5] END ...................C=1, gamma=auto;, score=0.636 total time=   4.9s\n",
      "[CV 5/5] END ...................C=1, gamma=auto;, score=0.758 total time=   4.3s\n",
      "[CV 1/5] END ..................C=1, gamma=scale;, score=0.559 total time=   4.4s\n",
      "[CV 2/5] END ..................C=1, gamma=scale;, score=0.500 total time=   5.7s\n",
      "[CV 3/5] END ..................C=1, gamma=scale;, score=0.529 total time=   7.6s\n",
      "[CV 4/5] END ..................C=1, gamma=scale;, score=0.636 total time=   6.6s\n",
      "[CV 5/5] END ..................C=1, gamma=scale;, score=0.758 total time=   4.0s\n",
      "[CV 1/5] END ...................C=5, gamma=auto;, score=0.559 total time=   3.9s\n",
      "[CV 2/5] END ...................C=5, gamma=auto;, score=0.500 total time=   3.8s\n",
      "[CV 3/5] END ...................C=5, gamma=auto;, score=0.500 total time=   3.8s\n",
      "[CV 4/5] END ...................C=5, gamma=auto;, score=0.788 total time=   3.9s\n",
      "[CV 5/5] END ...................C=5, gamma=auto;, score=0.788 total time=   3.9s\n",
      "[CV 1/5] END ..................C=5, gamma=scale;, score=0.559 total time=   4.0s\n",
      "[CV 2/5] END ..................C=5, gamma=scale;, score=0.500 total time=   4.0s\n",
      "[CV 3/5] END ..................C=5, gamma=scale;, score=0.500 total time=   3.9s\n",
      "[CV 4/5] END ..................C=5, gamma=scale;, score=0.788 total time=   4.0s\n",
      "[CV 5/5] END ..................C=5, gamma=scale;, score=0.788 total time=   4.0s\n",
      "[CV 1/5] END ..................C=10, gamma=auto;, score=0.559 total time=   3.8s\n",
      "[CV 2/5] END ..................C=10, gamma=auto;, score=0.500 total time=   3.8s\n",
      "[CV 3/5] END ..................C=10, gamma=auto;, score=0.500 total time=   3.8s\n",
      "[CV 4/5] END ..................C=10, gamma=auto;, score=0.788 total time=   3.8s\n",
      "[CV 5/5] END ..................C=10, gamma=auto;, score=0.788 total time=   3.9s\n",
      "[CV 1/5] END .................C=10, gamma=scale;, score=0.559 total time=   4.0s\n",
      "[CV 2/5] END .................C=10, gamma=scale;, score=0.500 total time=   3.9s\n",
      "[CV 3/5] END .................C=10, gamma=scale;, score=0.500 total time=   3.9s\n",
      "[CV 4/5] END .................C=10, gamma=scale;, score=0.788 total time=   4.0s\n",
      "[CV 5/5] END .................C=10, gamma=scale;, score=0.788 total time=   4.0s\n",
      "[CV 1/5] END ................C=1000, gamma=auto;, score=0.559 total time=   3.9s\n",
      "[CV 2/5] END ................C=1000, gamma=auto;, score=0.500 total time=   3.9s\n",
      "[CV 3/5] END ................C=1000, gamma=auto;, score=0.500 total time=   3.8s\n",
      "[CV 4/5] END ................C=1000, gamma=auto;, score=0.788 total time=   3.8s\n",
      "[CV 5/5] END ................C=1000, gamma=auto;, score=0.788 total time=   3.8s\n",
      "[CV 1/5] END ...............C=1000, gamma=scale;, score=0.559 total time=   4.0s\n",
      "[CV 2/5] END ...............C=1000, gamma=scale;, score=0.500 total time=   4.0s\n",
      "[CV 3/5] END ...............C=1000, gamma=scale;, score=0.500 total time=   4.0s\n",
      "[CV 4/5] END ...............C=1000, gamma=scale;, score=0.788 total time=   4.0s\n",
      "[CV 5/5] END ...............C=1000, gamma=scale;, score=0.788 total time=   4.0s\n"
     ]
    },
    {
     "output_type": "stream",
     "name": "stderr",
     "text": [
      "100%|██████████| 4/4 [00:01<00:00,  3.83it/s]\n"
     ]
    },
    {
     "output_type": "stream",
     "name": "stdout",
     "text": [
      "{'C': [1, 5, 10, 1000], 'gamma': ['auto', 'scale']}\n",
      "Fitting 5 folds for each of 8 candidates, totalling 40 fits\n",
      "[CV 1/5] END ...................C=1, gamma=auto;, score=0.706 total time=   3.9s\n",
      "[CV 2/5] END ...................C=1, gamma=auto;, score=0.882 total time=   3.9s\n",
      "[CV 3/5] END ...................C=1, gamma=auto;, score=0.500 total time=   3.9s\n",
      "[CV 4/5] END ...................C=1, gamma=auto;, score=0.667 total time=   3.9s\n",
      "[CV 5/5] END ...................C=1, gamma=auto;, score=0.848 total time=   3.9s\n",
      "[CV 1/5] END ..................C=1, gamma=scale;, score=0.706 total time=   4.0s\n",
      "[CV 2/5] END ..................C=1, gamma=scale;, score=0.882 total time=   4.1s\n",
      "[CV 3/5] END ..................C=1, gamma=scale;, score=0.500 total time=   4.0s\n",
      "[CV 4/5] END ..................C=1, gamma=scale;, score=0.667 total time=   4.0s\n",
      "[CV 5/5] END ..................C=1, gamma=scale;, score=0.848 total time=   4.0s\n",
      "[CV 1/5] END ...................C=5, gamma=auto;, score=0.676 total time=   3.9s\n",
      "[CV 2/5] END ...................C=5, gamma=auto;, score=0.912 total time=   4.0s\n",
      "[CV 3/5] END ...................C=5, gamma=auto;, score=0.559 total time=   3.9s\n",
      "[CV 4/5] END ...................C=5, gamma=auto;, score=0.727 total time=   3.9s\n",
      "[CV 5/5] END ...................C=5, gamma=auto;, score=0.818 total time=   3.9s\n",
      "[CV 1/5] END ..................C=5, gamma=scale;, score=0.676 total time=   4.0s\n",
      "[CV 2/5] END ..................C=5, gamma=scale;, score=0.912 total time=   4.0s\n",
      "[CV 3/5] END ..................C=5, gamma=scale;, score=0.529 total time=   4.0s\n",
      "[CV 4/5] END ..................C=5, gamma=scale;, score=0.727 total time=   4.0s\n",
      "[CV 5/5] END ..................C=5, gamma=scale;, score=0.818 total time=   4.0s\n",
      "[CV 1/5] END ..................C=10, gamma=auto;, score=0.676 total time=   3.9s\n",
      "[CV 2/5] END ..................C=10, gamma=auto;, score=0.912 total time=   4.0s\n",
      "[CV 3/5] END ..................C=10, gamma=auto;, score=0.559 total time=   3.9s\n",
      "[CV 4/5] END ..................C=10, gamma=auto;, score=0.727 total time=   3.9s\n",
      "[CV 5/5] END ..................C=10, gamma=auto;, score=0.818 total time=   3.9s\n",
      "[CV 1/5] END .................C=10, gamma=scale;, score=0.676 total time=   4.0s\n",
      "[CV 2/5] END .................C=10, gamma=scale;, score=0.912 total time=   4.1s\n",
      "[CV 3/5] END .................C=10, gamma=scale;, score=0.529 total time=   4.0s\n",
      "[CV 4/5] END .................C=10, gamma=scale;, score=0.727 total time=   4.0s\n",
      "[CV 5/5] END .................C=10, gamma=scale;, score=0.818 total time=   4.0s\n",
      "[CV 1/5] END ................C=1000, gamma=auto;, score=0.676 total time=   3.9s\n",
      "[CV 2/5] END ................C=1000, gamma=auto;, score=0.912 total time=   3.9s\n",
      "[CV 3/5] END ................C=1000, gamma=auto;, score=0.559 total time=   3.8s\n",
      "[CV 4/5] END ................C=1000, gamma=auto;, score=0.727 total time=   3.9s\n",
      "[CV 5/5] END ................C=1000, gamma=auto;, score=0.818 total time=   3.9s\n",
      "[CV 1/5] END ...............C=1000, gamma=scale;, score=0.676 total time=   4.0s\n",
      "[CV 2/5] END ...............C=1000, gamma=scale;, score=0.912 total time=   4.1s\n",
      "[CV 3/5] END ...............C=1000, gamma=scale;, score=0.529 total time=   4.0s\n",
      "[CV 4/5] END ...............C=1000, gamma=scale;, score=0.727 total time=   4.0s\n",
      "[CV 5/5] END ...............C=1000, gamma=scale;, score=0.818 total time=   4.0s\n"
     ]
    },
    {
     "output_type": "stream",
     "name": "stderr",
     "text": [
      "100%|██████████| 4/4 [00:00<00:00,  5.02it/s]\n"
     ]
    },
    {
     "output_type": "stream",
     "name": "stdout",
     "text": [
      "{'C': [1, 5, 10, 1000], 'gamma': ['auto', 'scale']}\n",
      "Fitting 5 folds for each of 8 candidates, totalling 40 fits\n",
      "[CV 1/5] END ...................C=1, gamma=auto;, score=0.765 total time=   4.5s\n",
      "[CV 2/5] END ...................C=1, gamma=auto;, score=0.853 total time=   4.0s\n",
      "[CV 3/5] END ...................C=1, gamma=auto;, score=0.765 total time=   4.0s\n",
      "[CV 4/5] END ...................C=1, gamma=auto;, score=0.636 total time=   4.0s\n",
      "[CV 5/5] END ...................C=1, gamma=auto;, score=0.485 total time=   3.9s\n",
      "[CV 1/5] END ..................C=1, gamma=scale;, score=0.765 total time=   4.1s\n",
      "[CV 2/5] END ..................C=1, gamma=scale;, score=0.853 total time=   4.1s\n",
      "[CV 3/5] END ..................C=1, gamma=scale;, score=0.765 total time=   4.1s\n",
      "[CV 4/5] END ..................C=1, gamma=scale;, score=0.636 total time=   4.1s\n",
      "[CV 5/5] END ..................C=1, gamma=scale;, score=0.485 total time=   4.0s\n",
      "[CV 1/5] END ...................C=5, gamma=auto;, score=0.765 total time=   4.0s\n",
      "[CV 2/5] END ...................C=5, gamma=auto;, score=0.882 total time=   4.0s\n",
      "[CV 3/5] END ...................C=5, gamma=auto;, score=0.794 total time=   4.0s\n",
      "[CV 4/5] END ...................C=5, gamma=auto;, score=0.636 total time=   3.9s\n",
      "[CV 5/5] END ...................C=5, gamma=auto;, score=0.515 total time=   3.9s\n",
      "[CV 1/5] END ..................C=5, gamma=scale;, score=0.765 total time=   4.1s\n",
      "[CV 2/5] END ..................C=5, gamma=scale;, score=0.882 total time=   4.2s\n",
      "[CV 3/5] END ..................C=5, gamma=scale;, score=0.794 total time=   4.5s\n",
      "[CV 4/5] END ..................C=5, gamma=scale;, score=0.636 total time=   4.4s\n",
      "[CV 5/5] END ..................C=5, gamma=scale;, score=0.515 total time=   4.2s\n",
      "[CV 1/5] END ..................C=10, gamma=auto;, score=0.765 total time=   4.1s\n",
      "[CV 2/5] END ..................C=10, gamma=auto;, score=0.882 total time=   4.0s\n",
      "[CV 3/5] END ..................C=10, gamma=auto;, score=0.794 total time=   4.1s\n",
      "[CV 4/5] END ..................C=10, gamma=auto;, score=0.636 total time=   4.0s\n",
      "[CV 5/5] END ..................C=10, gamma=auto;, score=0.515 total time=   3.9s\n",
      "[CV 1/5] END .................C=10, gamma=scale;, score=0.765 total time=   4.1s\n",
      "[CV 2/5] END .................C=10, gamma=scale;, score=0.882 total time=   4.1s\n",
      "[CV 3/5] END .................C=10, gamma=scale;, score=0.794 total time=   4.1s\n",
      "[CV 4/5] END .................C=10, gamma=scale;, score=0.636 total time=   4.1s\n",
      "[CV 5/5] END .................C=10, gamma=scale;, score=0.515 total time=   4.0s\n",
      "[CV 1/5] END ................C=1000, gamma=auto;, score=0.765 total time=   4.0s\n",
      "[CV 2/5] END ................C=1000, gamma=auto;, score=0.882 total time=   4.0s\n",
      "[CV 3/5] END ................C=1000, gamma=auto;, score=0.794 total time=   4.0s\n",
      "[CV 4/5] END ................C=1000, gamma=auto;, score=0.636 total time=   3.9s\n",
      "[CV 5/5] END ................C=1000, gamma=auto;, score=0.515 total time=   3.9s\n",
      "[CV 1/5] END ...............C=1000, gamma=scale;, score=0.765 total time=   4.1s\n",
      "[CV 2/5] END ...............C=1000, gamma=scale;, score=0.882 total time=   4.1s\n",
      "[CV 3/5] END ...............C=1000, gamma=scale;, score=0.794 total time=   4.1s\n",
      "[CV 4/5] END ...............C=1000, gamma=scale;, score=0.636 total time=   4.1s\n",
      "[CV 5/5] END ...............C=1000, gamma=scale;, score=0.515 total time=   4.0s\n"
     ]
    },
    {
     "output_type": "stream",
     "name": "stderr",
     "text": [
      "100%|██████████| 4/4 [00:00<00:00,  5.36it/s]\n"
     ]
    },
    {
     "output_type": "stream",
     "name": "stdout",
     "text": [
      "{'C': [1, 5, 10, 1000], 'gamma': ['auto', 'scale']}\n",
      "Fitting 5 folds for each of 8 candidates, totalling 40 fits\n",
      "[CV 1/5] END ...................C=1, gamma=auto;, score=0.735 total time=   3.8s\n",
      "[CV 2/5] END ...................C=1, gamma=auto;, score=0.794 total time=   3.7s\n",
      "[CV 3/5] END ...................C=1, gamma=auto;, score=0.647 total time=   4.4s\n",
      "[CV 4/5] END ...................C=1, gamma=auto;, score=1.000 total time=   4.0s\n",
      "[CV 5/5] END ...................C=1, gamma=auto;, score=0.788 total time=   3.9s\n",
      "[CV 1/5] END ..................C=1, gamma=scale;, score=0.735 total time=   3.9s\n",
      "[CV 2/5] END ..................C=1, gamma=scale;, score=0.794 total time=   3.9s\n",
      "[CV 3/5] END ..................C=1, gamma=scale;, score=0.676 total time=   3.8s\n",
      "[CV 4/5] END ..................C=1, gamma=scale;, score=1.000 total time=   4.0s\n",
      "[CV 5/5] END ..................C=1, gamma=scale;, score=0.788 total time=   4.1s\n",
      "[CV 1/5] END ...................C=5, gamma=auto;, score=0.735 total time=   3.9s\n",
      "[CV 2/5] END ...................C=5, gamma=auto;, score=0.735 total time=   3.9s\n",
      "[CV 3/5] END ...................C=5, gamma=auto;, score=0.559 total time=   3.7s\n",
      "[CV 4/5] END ...................C=5, gamma=auto;, score=1.000 total time=   3.9s\n",
      "[CV 5/5] END ...................C=5, gamma=auto;, score=0.818 total time=   3.8s\n",
      "[CV 1/5] END ..................C=5, gamma=scale;, score=0.735 total time=   4.1s\n",
      "[CV 2/5] END ..................C=5, gamma=scale;, score=0.735 total time=   4.0s\n",
      "[CV 3/5] END ..................C=5, gamma=scale;, score=0.559 total time=   3.9s\n",
      "[CV 4/5] END ..................C=5, gamma=scale;, score=1.000 total time=   4.2s\n",
      "[CV 5/5] END ..................C=5, gamma=scale;, score=0.818 total time=   4.0s\n",
      "[CV 1/5] END ..................C=10, gamma=auto;, score=0.735 total time=   3.9s\n",
      "[CV 2/5] END ..................C=10, gamma=auto;, score=0.735 total time=   3.9s\n",
      "[CV 3/5] END ..................C=10, gamma=auto;, score=0.559 total time=   3.7s\n",
      "[CV 4/5] END ..................C=10, gamma=auto;, score=1.000 total time=   3.8s\n",
      "[CV 5/5] END ..................C=10, gamma=auto;, score=0.818 total time=   3.8s\n",
      "[CV 1/5] END .................C=10, gamma=scale;, score=0.735 total time=   4.0s\n",
      "[CV 2/5] END .................C=10, gamma=scale;, score=0.735 total time=   4.0s\n",
      "[CV 3/5] END .................C=10, gamma=scale;, score=0.559 total time=   3.9s\n",
      "[CV 4/5] END .................C=10, gamma=scale;, score=1.000 total time=   4.1s\n",
      "[CV 5/5] END .................C=10, gamma=scale;, score=0.818 total time=   4.0s\n",
      "[CV 1/5] END ................C=1000, gamma=auto;, score=0.735 total time=   3.9s\n",
      "[CV 2/5] END ................C=1000, gamma=auto;, score=0.735 total time=   3.8s\n",
      "[CV 3/5] END ................C=1000, gamma=auto;, score=0.559 total time=   3.7s\n",
      "[CV 4/5] END ................C=1000, gamma=auto;, score=1.000 total time=   3.9s\n",
      "[CV 5/5] END ................C=1000, gamma=auto;, score=0.818 total time=   3.8s\n",
      "[CV 1/5] END ...............C=1000, gamma=scale;, score=0.735 total time=   4.0s\n",
      "[CV 2/5] END ...............C=1000, gamma=scale;, score=0.735 total time=   4.0s\n",
      "[CV 3/5] END ...............C=1000, gamma=scale;, score=0.559 total time=   3.8s\n",
      "[CV 4/5] END ...............C=1000, gamma=scale;, score=1.000 total time=   4.0s\n",
      "[CV 5/5] END ...............C=1000, gamma=scale;, score=0.818 total time=   4.0s\n"
     ]
    },
    {
     "output_type": "stream",
     "name": "stderr",
     "text": [
      "100%|██████████| 4/4 [00:00<00:00,  4.64it/s]\n"
     ]
    },
    {
     "output_type": "stream",
     "name": "stdout",
     "text": [
      "{'C': [1, 5, 10, 1000], 'gamma': ['auto', 'scale']}\n",
      "Fitting 5 folds for each of 8 candidates, totalling 40 fits\n",
      "[CV 1/5] END ...................C=1, gamma=auto;, score=0.265 total time=   4.3s\n",
      "[CV 2/5] END ...................C=1, gamma=auto;, score=0.735 total time=   4.0s\n",
      "[CV 3/5] END ...................C=1, gamma=auto;, score=0.088 total time=   3.9s\n",
      "[CV 4/5] END ...................C=1, gamma=auto;, score=0.515 total time=   4.0s\n",
      "[CV 5/5] END ...................C=1, gamma=auto;, score=0.394 total time=   4.0s\n",
      "[CV 1/5] END ..................C=1, gamma=scale;, score=0.265 total time=   4.1s\n",
      "[CV 2/5] END ..................C=1, gamma=scale;, score=0.794 total time=   4.1s\n",
      "[CV 3/5] END ..................C=1, gamma=scale;, score=0.088 total time=   4.1s\n",
      "[CV 4/5] END ..................C=1, gamma=scale;, score=0.515 total time=   4.2s\n",
      "[CV 5/5] END ..................C=1, gamma=scale;, score=0.394 total time=   4.0s\n",
      "[CV 1/5] END ...................C=5, gamma=auto;, score=0.235 total time=   4.0s\n",
      "[CV 2/5] END ...................C=5, gamma=auto;, score=0.529 total time=   4.0s\n",
      "[CV 3/5] END ...................C=5, gamma=auto;, score=0.118 total time=   4.0s\n",
      "[CV 4/5] END ...................C=5, gamma=auto;, score=0.515 total time=   3.9s\n",
      "[CV 5/5] END ...................C=5, gamma=auto;, score=0.364 total time=   3.9s\n",
      "[CV 1/5] END ..................C=5, gamma=scale;, score=0.265 total time=   4.2s\n",
      "[CV 2/5] END ..................C=5, gamma=scale;, score=0.559 total time=   4.1s\n",
      "[CV 3/5] END ..................C=5, gamma=scale;, score=0.118 total time=   4.1s\n",
      "[CV 4/5] END ..................C=5, gamma=scale;, score=0.515 total time=   4.1s\n",
      "[CV 5/5] END ..................C=5, gamma=scale;, score=0.364 total time=   4.1s\n",
      "[CV 1/5] END ..................C=10, gamma=auto;, score=0.235 total time=   3.9s\n",
      "[CV 2/5] END ..................C=10, gamma=auto;, score=0.529 total time=   4.0s\n",
      "[CV 3/5] END ..................C=10, gamma=auto;, score=0.118 total time=   4.0s\n",
      "[CV 4/5] END ..................C=10, gamma=auto;, score=0.515 total time=   4.0s\n",
      "[CV 5/5] END ..................C=10, gamma=auto;, score=0.364 total time=   3.9s\n",
      "[CV 1/5] END .................C=10, gamma=scale;, score=0.265 total time=   4.1s\n",
      "[CV 2/5] END .................C=10, gamma=scale;, score=0.559 total time=   4.1s\n",
      "[CV 3/5] END .................C=10, gamma=scale;, score=0.118 total time=   4.1s\n",
      "[CV 4/5] END .................C=10, gamma=scale;, score=0.515 total time=   4.1s\n",
      "[CV 5/5] END .................C=10, gamma=scale;, score=0.364 total time=   4.1s\n",
      "[CV 1/5] END ................C=1000, gamma=auto;, score=0.235 total time=   4.1s\n",
      "[CV 2/5] END ................C=1000, gamma=auto;, score=0.529 total time=   4.0s\n",
      "[CV 3/5] END ................C=1000, gamma=auto;, score=0.118 total time=   4.0s\n",
      "[CV 4/5] END ................C=1000, gamma=auto;, score=0.515 total time=   3.9s\n",
      "[CV 5/5] END ................C=1000, gamma=auto;, score=0.364 total time=   3.9s\n",
      "[CV 1/5] END ...............C=1000, gamma=scale;, score=0.265 total time=   4.1s\n",
      "[CV 2/5] END ...............C=1000, gamma=scale;, score=0.559 total time=   4.1s\n",
      "[CV 3/5] END ...............C=1000, gamma=scale;, score=0.118 total time=   4.1s\n",
      "[CV 4/5] END ...............C=1000, gamma=scale;, score=0.515 total time=   4.1s\n",
      "[CV 5/5] END ...............C=1000, gamma=scale;, score=0.364 total time=   4.1s\n"
     ]
    },
    {
     "output_type": "stream",
     "name": "stderr",
     "text": [
      "100%|██████████| 4/4 [00:00<00:00,  7.40it/s]\n"
     ]
    },
    {
     "output_type": "stream",
     "name": "stdout",
     "text": [
      "{'C': [1, 5, 10, 1000], 'gamma': ['auto', 'scale']}\n",
      "Fitting 5 folds for each of 8 candidates, totalling 40 fits\n",
      "[CV 1/5] END ...................C=1, gamma=auto;, score=0.647 total time=   4.0s\n",
      "[CV 2/5] END ...................C=1, gamma=auto;, score=0.559 total time=   3.9s\n",
      "[CV 3/5] END ...................C=1, gamma=auto;, score=0.647 total time=   4.0s\n",
      "[CV 4/5] END ...................C=1, gamma=auto;, score=0.939 total time=   3.9s\n",
      "[CV 5/5] END ...................C=1, gamma=auto;, score=0.606 total time=   3.9s\n",
      "[CV 1/5] END ..................C=1, gamma=scale;, score=0.647 total time=   4.0s\n",
      "[CV 2/5] END ..................C=1, gamma=scale;, score=0.559 total time=   4.0s\n",
      "[CV 3/5] END ..................C=1, gamma=scale;, score=0.647 total time=   4.0s\n",
      "[CV 4/5] END ..................C=1, gamma=scale;, score=0.939 total time=   4.1s\n",
      "[CV 5/5] END ..................C=1, gamma=scale;, score=0.606 total time=   4.0s\n",
      "[CV 1/5] END ...................C=5, gamma=auto;, score=0.618 total time=   4.0s\n",
      "[CV 2/5] END ...................C=5, gamma=auto;, score=0.618 total time=   3.9s\n",
      "[CV 3/5] END ...................C=5, gamma=auto;, score=0.647 total time=   4.0s\n",
      "[CV 4/5] END ...................C=5, gamma=auto;, score=0.939 total time=   3.9s\n",
      "[CV 5/5] END ...................C=5, gamma=auto;, score=0.576 total time=   3.9s\n",
      "[CV 1/5] END ..................C=5, gamma=scale;, score=0.618 total time=   4.1s\n",
      "[CV 2/5] END ..................C=5, gamma=scale;, score=0.618 total time=   4.0s\n",
      "[CV 3/5] END ..................C=5, gamma=scale;, score=0.647 total time=   4.0s\n",
      "[CV 4/5] END ..................C=5, gamma=scale;, score=0.939 total time=   4.0s\n",
      "[CV 5/5] END ..................C=5, gamma=scale;, score=0.576 total time=   4.1s\n",
      "[CV 1/5] END ..................C=10, gamma=auto;, score=0.618 total time=   4.0s\n",
      "[CV 2/5] END ..................C=10, gamma=auto;, score=0.618 total time=   4.0s\n",
      "[CV 3/5] END ..................C=10, gamma=auto;, score=0.647 total time=   4.0s\n",
      "[CV 4/5] END ..................C=10, gamma=auto;, score=0.939 total time=   4.0s\n",
      "[CV 5/5] END ..................C=10, gamma=auto;, score=0.576 total time=   3.9s\n",
      "[CV 1/5] END .................C=10, gamma=scale;, score=0.618 total time=   4.1s\n",
      "[CV 2/5] END .................C=10, gamma=scale;, score=0.618 total time=   4.1s\n",
      "[CV 3/5] END .................C=10, gamma=scale;, score=0.647 total time=   4.1s\n",
      "[CV 4/5] END .................C=10, gamma=scale;, score=0.939 total time=   4.1s\n",
      "[CV 5/5] END .................C=10, gamma=scale;, score=0.576 total time=   4.0s\n",
      "[CV 1/5] END ................C=1000, gamma=auto;, score=0.618 total time=   3.9s\n",
      "[CV 2/5] END ................C=1000, gamma=auto;, score=0.618 total time=   3.9s\n",
      "[CV 3/5] END ................C=1000, gamma=auto;, score=0.647 total time=   4.0s\n",
      "[CV 4/5] END ................C=1000, gamma=auto;, score=0.939 total time=   3.9s\n",
      "[CV 5/5] END ................C=1000, gamma=auto;, score=0.576 total time=   3.9s\n",
      "[CV 1/5] END ...............C=1000, gamma=scale;, score=0.618 total time=   4.1s\n",
      "[CV 2/5] END ...............C=1000, gamma=scale;, score=0.618 total time=   4.0s\n",
      "[CV 3/5] END ...............C=1000, gamma=scale;, score=0.647 total time=   4.0s\n",
      "[CV 4/5] END ...............C=1000, gamma=scale;, score=0.939 total time=   4.0s\n",
      "[CV 5/5] END ...............C=1000, gamma=scale;, score=0.576 total time=   4.0s\n"
     ]
    },
    {
     "output_type": "stream",
     "name": "stderr",
     "text": [
      "100%|██████████| 4/4 [00:00<00:00,  5.30it/s]\n"
     ]
    },
    {
     "output_type": "stream",
     "name": "stdout",
     "text": [
      "{'C': [1, 5, 10, 1000], 'gamma': ['auto', 'scale']}\n",
      "Fitting 5 folds for each of 8 candidates, totalling 40 fits\n",
      "[CV 1/5] END ...................C=1, gamma=auto;, score=0.441 total time=   4.1s\n",
      "[CV 2/5] END ...................C=1, gamma=auto;, score=0.794 total time=   4.0s\n",
      "[CV 3/5] END ...................C=1, gamma=auto;, score=0.500 total time=   4.0s\n",
      "[CV 4/5] END ...................C=1, gamma=auto;, score=0.818 total time=   3.9s\n",
      "[CV 5/5] END ...................C=1, gamma=auto;, score=0.636 total time=   4.0s\n",
      "[CV 1/5] END ..................C=1, gamma=scale;, score=0.471 total time=   4.2s\n",
      "[CV 2/5] END ..................C=1, gamma=scale;, score=0.794 total time=   4.2s\n",
      "[CV 3/5] END ..................C=1, gamma=scale;, score=0.500 total time=   4.1s\n",
      "[CV 4/5] END ..................C=1, gamma=scale;, score=0.818 total time=   4.1s\n",
      "[CV 5/5] END ..................C=1, gamma=scale;, score=0.636 total time=   4.2s\n",
      "[CV 1/5] END ...................C=5, gamma=auto;, score=0.471 total time=   4.0s\n",
      "[CV 2/5] END ...................C=5, gamma=auto;, score=0.794 total time=   4.0s\n",
      "[CV 3/5] END ...................C=5, gamma=auto;, score=0.471 total time=   4.0s\n",
      "[CV 4/5] END ...................C=5, gamma=auto;, score=0.818 total time=   4.0s\n",
      "[CV 5/5] END ...................C=5, gamma=auto;, score=0.727 total time=   4.0s\n",
      "[CV 1/5] END ..................C=5, gamma=scale;, score=0.471 total time=   4.2s\n",
      "[CV 2/5] END ..................C=5, gamma=scale;, score=0.794 total time=   4.2s\n",
      "[CV 3/5] END ..................C=5, gamma=scale;, score=0.500 total time=   4.2s\n",
      "[CV 4/5] END ..................C=5, gamma=scale;, score=0.818 total time=   4.2s\n",
      "[CV 5/5] END ..................C=5, gamma=scale;, score=0.727 total time=   4.2s\n",
      "[CV 1/5] END ..................C=10, gamma=auto;, score=0.471 total time=   4.1s\n",
      "[CV 2/5] END ..................C=10, gamma=auto;, score=0.794 total time=   4.1s\n",
      "[CV 3/5] END ..................C=10, gamma=auto;, score=0.471 total time=   4.0s\n",
      "[CV 4/5] END ..................C=10, gamma=auto;, score=0.818 total time=   4.1s\n",
      "[CV 5/5] END ..................C=10, gamma=auto;, score=0.727 total time=   4.0s\n",
      "[CV 1/5] END .................C=10, gamma=scale;, score=0.471 total time=   4.2s\n",
      "[CV 2/5] END .................C=10, gamma=scale;, score=0.794 total time=   4.2s\n",
      "[CV 3/5] END .................C=10, gamma=scale;, score=0.500 total time=   4.1s\n",
      "[CV 4/5] END .................C=10, gamma=scale;, score=0.818 total time=   4.2s\n",
      "[CV 5/5] END .................C=10, gamma=scale;, score=0.727 total time=   4.3s\n",
      "[CV 1/5] END ................C=1000, gamma=auto;, score=0.471 total time=   4.0s\n",
      "[CV 2/5] END ................C=1000, gamma=auto;, score=0.794 total time=   4.0s\n",
      "[CV 3/5] END ................C=1000, gamma=auto;, score=0.471 total time=   4.0s\n",
      "[CV 4/5] END ................C=1000, gamma=auto;, score=0.818 total time=   4.0s\n",
      "[CV 5/5] END ................C=1000, gamma=auto;, score=0.727 total time=   4.2s\n",
      "[CV 1/5] END ...............C=1000, gamma=scale;, score=0.471 total time=   4.3s\n",
      "[CV 2/5] END ...............C=1000, gamma=scale;, score=0.794 total time=   4.2s\n",
      "[CV 3/5] END ...............C=1000, gamma=scale;, score=0.500 total time=   4.2s\n",
      "[CV 4/5] END ...............C=1000, gamma=scale;, score=0.818 total time=   4.2s\n",
      "[CV 5/5] END ...............C=1000, gamma=scale;, score=0.727 total time=   4.2s\n"
     ]
    },
    {
     "output_type": "stream",
     "name": "stderr",
     "text": [
      "100%|██████████| 4/4 [00:00<00:00,  4.64it/s]\n"
     ]
    },
    {
     "output_type": "stream",
     "name": "stdout",
     "text": [
      "{'C': [1, 5, 10, 1000], 'gamma': ['auto', 'scale']}\n",
      "Fitting 5 folds for each of 8 candidates, totalling 40 fits\n",
      "[CV 1/5] END ...................C=1, gamma=auto;, score=0.706 total time=   3.7s\n",
      "[CV 2/5] END ...................C=1, gamma=auto;, score=0.971 total time=   3.7s\n",
      "[CV 3/5] END ...................C=1, gamma=auto;, score=0.882 total time=   3.6s\n",
      "[CV 4/5] END ...................C=1, gamma=auto;, score=1.000 total time=   3.7s\n",
      "[CV 5/5] END ...................C=1, gamma=auto;, score=0.788 total time=   3.6s\n",
      "[CV 1/5] END ..................C=1, gamma=scale;, score=0.706 total time=   3.6s\n",
      "[CV 2/5] END ..................C=1, gamma=scale;, score=0.941 total time=   3.7s\n",
      "[CV 3/5] END ..................C=1, gamma=scale;, score=0.882 total time=   3.7s\n",
      "[CV 4/5] END ..................C=1, gamma=scale;, score=1.000 total time=   3.8s\n",
      "[CV 5/5] END ..................C=1, gamma=scale;, score=0.788 total time=   3.8s\n",
      "[CV 1/5] END ...................C=5, gamma=auto;, score=0.735 total time=   3.5s\n",
      "[CV 2/5] END ...................C=5, gamma=auto;, score=0.912 total time=   3.7s\n",
      "[CV 3/5] END ...................C=5, gamma=auto;, score=0.912 total time=   3.6s\n",
      "[CV 4/5] END ...................C=5, gamma=auto;, score=1.000 total time=   3.7s\n",
      "[CV 5/5] END ...................C=5, gamma=auto;, score=0.758 total time=   3.6s\n",
      "[CV 1/5] END ..................C=5, gamma=scale;, score=0.735 total time=   3.7s\n",
      "[CV 2/5] END ..................C=5, gamma=scale;, score=0.912 total time=   3.8s\n",
      "[CV 3/5] END ..................C=5, gamma=scale;, score=0.912 total time=   3.8s\n",
      "[CV 4/5] END ..................C=5, gamma=scale;, score=1.000 total time=   3.8s\n",
      "[CV 5/5] END ..................C=5, gamma=scale;, score=0.758 total time=   3.8s\n",
      "[CV 1/5] END ..................C=10, gamma=auto;, score=0.735 total time=   3.5s\n",
      "[CV 2/5] END ..................C=10, gamma=auto;, score=0.912 total time=   3.6s\n",
      "[CV 3/5] END ..................C=10, gamma=auto;, score=0.912 total time=   3.6s\n",
      "[CV 4/5] END ..................C=10, gamma=auto;, score=1.000 total time=   3.7s\n",
      "[CV 5/5] END ..................C=10, gamma=auto;, score=0.758 total time=   3.6s\n",
      "[CV 1/5] END .................C=10, gamma=scale;, score=0.735 total time=   3.7s\n",
      "[CV 2/5] END .................C=10, gamma=scale;, score=0.912 total time=   3.8s\n",
      "[CV 3/5] END .................C=10, gamma=scale;, score=0.912 total time=   3.7s\n",
      "[CV 4/5] END .................C=10, gamma=scale;, score=1.000 total time=   3.8s\n",
      "[CV 5/5] END .................C=10, gamma=scale;, score=0.758 total time=   3.8s\n",
      "[CV 1/5] END ................C=1000, gamma=auto;, score=0.735 total time=   3.5s\n",
      "[CV 2/5] END ................C=1000, gamma=auto;, score=0.912 total time=   3.6s\n",
      "[CV 3/5] END ................C=1000, gamma=auto;, score=0.912 total time=   3.7s\n",
      "[CV 4/5] END ................C=1000, gamma=auto;, score=1.000 total time=   3.7s\n",
      "[CV 5/5] END ................C=1000, gamma=auto;, score=0.758 total time=   3.6s\n",
      "[CV 1/5] END ...............C=1000, gamma=scale;, score=0.735 total time=   3.7s\n",
      "[CV 2/5] END ...............C=1000, gamma=scale;, score=0.912 total time=   3.7s\n",
      "[CV 3/5] END ...............C=1000, gamma=scale;, score=0.912 total time=   3.7s\n",
      "[CV 4/5] END ...............C=1000, gamma=scale;, score=1.000 total time=   3.8s\n",
      "[CV 5/5] END ...............C=1000, gamma=scale;, score=0.758 total time=   3.8s\n"
     ]
    },
    {
     "output_type": "stream",
     "name": "stderr",
     "text": [
      "100%|██████████| 4/4 [00:00<00:00,  4.21it/s]\n"
     ]
    },
    {
     "output_type": "stream",
     "name": "stdout",
     "text": [
      "{'C': [1, 5, 10, 1000], 'gamma': ['auto', 'scale']}\n",
      "Fitting 5 folds for each of 8 candidates, totalling 40 fits\n",
      "[CV 1/5] END ...................C=1, gamma=auto;, score=0.412 total time=   4.1s\n",
      "[CV 2/5] END ...................C=1, gamma=auto;, score=0.647 total time=   3.9s\n",
      "[CV 3/5] END ...................C=1, gamma=auto;, score=0.618 total time=   4.0s\n",
      "[CV 4/5] END ...................C=1, gamma=auto;, score=0.727 total time=   3.9s\n",
      "[CV 5/5] END ...................C=1, gamma=auto;, score=0.939 total time=   3.9s\n",
      "[CV 1/5] END ..................C=1, gamma=scale;, score=0.412 total time=   4.1s\n",
      "[CV 2/5] END ..................C=1, gamma=scale;, score=0.647 total time=   4.1s\n",
      "[CV 3/5] END ..................C=1, gamma=scale;, score=0.618 total time=   4.1s\n",
      "[CV 4/5] END ..................C=1, gamma=scale;, score=0.727 total time=   4.1s\n",
      "[CV 5/5] END ..................C=1, gamma=scale;, score=0.939 total time=   4.0s\n",
      "[CV 1/5] END ...................C=5, gamma=auto;, score=0.412 total time=   4.0s\n",
      "[CV 2/5] END ...................C=5, gamma=auto;, score=0.676 total time=   3.9s\n",
      "[CV 3/5] END ...................C=5, gamma=auto;, score=0.647 total time=   4.0s\n",
      "[CV 4/5] END ...................C=5, gamma=auto;, score=0.758 total time=   3.9s\n",
      "[CV 5/5] END ...................C=5, gamma=auto;, score=0.939 total time=   3.9s\n",
      "[CV 1/5] END ..................C=5, gamma=scale;, score=0.412 total time=   4.2s\n",
      "[CV 2/5] END ..................C=5, gamma=scale;, score=0.676 total time=   4.1s\n",
      "[CV 3/5] END ..................C=5, gamma=scale;, score=0.647 total time=   4.1s\n",
      "[CV 4/5] END ..................C=5, gamma=scale;, score=0.758 total time=   4.0s\n",
      "[CV 5/5] END ..................C=5, gamma=scale;, score=0.939 total time=   4.0s\n",
      "[CV 1/5] END ..................C=10, gamma=auto;, score=0.412 total time=   4.0s\n",
      "[CV 2/5] END ..................C=10, gamma=auto;, score=0.676 total time=   4.0s\n",
      "[CV 3/5] END ..................C=10, gamma=auto;, score=0.647 total time=   3.9s\n",
      "[CV 4/5] END ..................C=10, gamma=auto;, score=0.758 total time=   3.9s\n",
      "[CV 5/5] END ..................C=10, gamma=auto;, score=0.939 total time=   3.9s\n",
      "[CV 1/5] END .................C=10, gamma=scale;, score=0.412 total time=   4.1s\n",
      "[CV 2/5] END .................C=10, gamma=scale;, score=0.676 total time=   4.1s\n",
      "[CV 3/5] END .................C=10, gamma=scale;, score=0.647 total time=   4.1s\n",
      "[CV 4/5] END .................C=10, gamma=scale;, score=0.758 total time=   4.0s\n",
      "[CV 5/5] END .................C=10, gamma=scale;, score=0.939 total time=   4.0s\n",
      "[CV 1/5] END ................C=1000, gamma=auto;, score=0.412 total time=   4.0s\n",
      "[CV 2/5] END ................C=1000, gamma=auto;, score=0.676 total time=   4.0s\n",
      "[CV 3/5] END ................C=1000, gamma=auto;, score=0.647 total time=   4.0s\n",
      "[CV 4/5] END ................C=1000, gamma=auto;, score=0.758 total time=   3.8s\n",
      "[CV 5/5] END ................C=1000, gamma=auto;, score=0.939 total time=   3.8s\n",
      "[CV 1/5] END ...............C=1000, gamma=scale;, score=0.412 total time=   4.1s\n",
      "[CV 2/5] END ...............C=1000, gamma=scale;, score=0.676 total time=   4.1s\n",
      "[CV 3/5] END ...............C=1000, gamma=scale;, score=0.647 total time=   4.1s\n",
      "[CV 4/5] END ...............C=1000, gamma=scale;, score=0.758 total time=   4.0s\n",
      "[CV 5/5] END ...............C=1000, gamma=scale;, score=0.939 total time=   4.0s\n"
     ]
    },
    {
     "output_type": "stream",
     "name": "stderr",
     "text": [
      "100%|██████████| 4/4 [00:00<00:00,  7.09it/s]\n"
     ]
    },
    {
     "output_type": "stream",
     "name": "stdout",
     "text": [
      "{'C': [1, 5, 10, 1000], 'gamma': ['auto', 'scale']}\n",
      "Fitting 5 folds for each of 8 candidates, totalling 40 fits\n",
      "[CV 1/5] END ...................C=1, gamma=auto;, score=0.618 total time=   4.3s\n",
      "[CV 2/5] END ...................C=1, gamma=auto;, score=0.824 total time=   5.0s\n",
      "[CV 3/5] END ...................C=1, gamma=auto;, score=0.618 total time=   4.4s\n",
      "[CV 4/5] END ...................C=1, gamma=auto;, score=0.788 total time=   4.4s\n",
      "[CV 5/5] END ...................C=1, gamma=auto;, score=0.697 total time=   4.3s\n",
      "[CV 1/5] END ..................C=1, gamma=scale;, score=0.618 total time=   6.4s\n",
      "[CV 2/5] END ..................C=1, gamma=scale;, score=0.824 total time=  10.4s\n",
      "[CV 3/5] END ..................C=1, gamma=scale;, score=0.618 total time=   6.6s\n",
      "[CV 4/5] END ..................C=1, gamma=scale;, score=0.788 total time=   4.0s\n",
      "[CV 5/5] END ..................C=1, gamma=scale;, score=0.667 total time=   4.0s\n",
      "[CV 1/5] END ...................C=5, gamma=auto;, score=0.618 total time=   3.9s\n",
      "[CV 2/5] END ...................C=5, gamma=auto;, score=0.794 total time=   3.9s\n",
      "[CV 3/5] END ...................C=5, gamma=auto;, score=0.647 total time=   3.9s\n",
      "[CV 4/5] END ...................C=5, gamma=auto;, score=0.788 total time=   3.9s\n",
      "[CV 5/5] END ...................C=5, gamma=auto;, score=0.667 total time=   3.9s\n",
      "[CV 1/5] END ..................C=5, gamma=scale;, score=0.618 total time=   4.1s\n",
      "[CV 2/5] END ..................C=5, gamma=scale;, score=0.794 total time=   4.1s\n",
      "[CV 3/5] END ..................C=5, gamma=scale;, score=0.647 total time=   4.0s\n",
      "[CV 4/5] END ..................C=5, gamma=scale;, score=0.788 total time=   4.1s\n",
      "[CV 5/5] END ..................C=5, gamma=scale;, score=0.667 total time=   4.1s\n",
      "[CV 1/5] END ..................C=10, gamma=auto;, score=0.618 total time=   3.9s\n",
      "[CV 2/5] END ..................C=10, gamma=auto;, score=0.794 total time=   4.0s\n",
      "[CV 3/5] END ..................C=10, gamma=auto;, score=0.647 total time=   4.0s\n",
      "[CV 4/5] END ..................C=10, gamma=auto;, score=0.788 total time=   4.0s\n",
      "[CV 5/5] END ..................C=10, gamma=auto;, score=0.667 total time=   4.0s\n",
      "[CV 1/5] END .................C=10, gamma=scale;, score=0.618 total time=   4.1s\n",
      "[CV 2/5] END .................C=10, gamma=scale;, score=0.794 total time=   4.1s\n",
      "[CV 3/5] END .................C=10, gamma=scale;, score=0.647 total time=   4.1s\n",
      "[CV 4/5] END .................C=10, gamma=scale;, score=0.788 total time=   4.1s\n",
      "[CV 5/5] END .................C=10, gamma=scale;, score=0.667 total time=   4.1s\n",
      "[CV 1/5] END ................C=1000, gamma=auto;, score=0.618 total time=   3.9s\n",
      "[CV 2/5] END ................C=1000, gamma=auto;, score=0.794 total time=   3.9s\n",
      "[CV 3/5] END ................C=1000, gamma=auto;, score=0.647 total time=   3.9s\n",
      "[CV 4/5] END ................C=1000, gamma=auto;, score=0.788 total time=   4.0s\n",
      "[CV 5/5] END ................C=1000, gamma=auto;, score=0.667 total time=   3.9s\n",
      "[CV 1/5] END ...............C=1000, gamma=scale;, score=0.618 total time=   4.1s\n",
      "[CV 2/5] END ...............C=1000, gamma=scale;, score=0.794 total time=   4.1s\n",
      "[CV 3/5] END ...............C=1000, gamma=scale;, score=0.647 total time=   4.1s\n",
      "[CV 4/5] END ...............C=1000, gamma=scale;, score=0.788 total time=   4.1s\n",
      "[CV 5/5] END ...............C=1000, gamma=scale;, score=0.667 total time=   4.1s\n"
     ]
    },
    {
     "output_type": "stream",
     "name": "stderr",
     "text": [
      "100%|██████████| 4/4 [00:01<00:00,  3.98it/s]\n"
     ]
    },
    {
     "output_type": "stream",
     "name": "stdout",
     "text": [
      "{'C': [1, 5, 10, 1000], 'gamma': ['auto', 'scale']}\n",
      "Fitting 5 folds for each of 8 candidates, totalling 40 fits\n",
      "[CV 1/5] END ...................C=1, gamma=auto;, score=0.559 total time=   3.7s\n",
      "[CV 2/5] END ...................C=1, gamma=auto;, score=0.882 total time=   4.5s\n",
      "[CV 3/5] END ...................C=1, gamma=auto;, score=0.794 total time=   4.1s\n",
      "[CV 4/5] END ...................C=1, gamma=auto;, score=1.000 total time=   4.1s\n",
      "[CV 5/5] END ...................C=1, gamma=auto;, score=0.909 total time=   4.0s\n",
      "[CV 1/5] END ..................C=1, gamma=scale;, score=0.559 total time=   3.9s\n",
      "[CV 2/5] END ..................C=1, gamma=scale;, score=0.882 total time=   4.2s\n",
      "[CV 3/5] END ..................C=1, gamma=scale;, score=0.794 total time=   4.2s\n",
      "[CV 4/5] END ..................C=1, gamma=scale;, score=1.000 total time=   4.2s\n",
      "[CV 5/5] END ..................C=1, gamma=scale;, score=0.909 total time=   4.2s\n",
      "[CV 1/5] END ...................C=5, gamma=auto;, score=0.559 total time=   3.7s\n",
      "[CV 2/5] END ...................C=5, gamma=auto;, score=0.912 total time=   4.1s\n",
      "[CV 3/5] END ...................C=5, gamma=auto;, score=0.824 total time=   4.0s\n",
      "[CV 4/5] END ...................C=5, gamma=auto;, score=1.000 total time=   4.0s\n",
      "[CV 5/5] END ...................C=5, gamma=auto;, score=0.939 total time=   4.0s\n",
      "[CV 1/5] END ..................C=5, gamma=scale;, score=0.559 total time=   3.9s\n",
      "[CV 2/5] END ..................C=5, gamma=scale;, score=0.912 total time=   4.3s\n",
      "[CV 3/5] END ..................C=5, gamma=scale;, score=0.824 total time=   4.2s\n",
      "[CV 4/5] END ..................C=5, gamma=scale;, score=1.000 total time=   4.2s\n",
      "[CV 5/5] END ..................C=5, gamma=scale;, score=0.939 total time=   4.2s\n",
      "[CV 1/5] END ..................C=10, gamma=auto;, score=0.559 total time=   3.7s\n",
      "[CV 2/5] END ..................C=10, gamma=auto;, score=0.912 total time=   4.1s\n",
      "[CV 3/5] END ..................C=10, gamma=auto;, score=0.824 total time=   4.0s\n",
      "[CV 4/5] END ..................C=10, gamma=auto;, score=1.000 total time=   4.0s\n",
      "[CV 5/5] END ..................C=10, gamma=auto;, score=0.939 total time=   4.1s\n",
      "[CV 1/5] END .................C=10, gamma=scale;, score=0.559 total time=   3.9s\n",
      "[CV 2/5] END .................C=10, gamma=scale;, score=0.912 total time=   4.3s\n",
      "[CV 3/5] END .................C=10, gamma=scale;, score=0.824 total time=   4.2s\n",
      "[CV 4/5] END .................C=10, gamma=scale;, score=1.000 total time=   4.2s\n",
      "[CV 5/5] END .................C=10, gamma=scale;, score=0.939 total time=   4.2s\n",
      "[CV 1/5] END ................C=1000, gamma=auto;, score=0.559 total time=   3.7s\n",
      "[CV 2/5] END ................C=1000, gamma=auto;, score=0.912 total time=   4.1s\n",
      "[CV 3/5] END ................C=1000, gamma=auto;, score=0.824 total time=   4.1s\n",
      "[CV 4/5] END ................C=1000, gamma=auto;, score=1.000 total time=   4.0s\n",
      "[CV 5/5] END ................C=1000, gamma=auto;, score=0.939 total time=   4.0s\n",
      "[CV 1/5] END ...............C=1000, gamma=scale;, score=0.559 total time=   3.8s\n",
      "[CV 2/5] END ...............C=1000, gamma=scale;, score=0.912 total time=   4.2s\n",
      "[CV 3/5] END ...............C=1000, gamma=scale;, score=0.824 total time=   4.2s\n",
      "[CV 4/5] END ...............C=1000, gamma=scale;, score=1.000 total time=   4.2s\n",
      "[CV 5/5] END ...............C=1000, gamma=scale;, score=0.939 total time=   4.2s\n"
     ]
    },
    {
     "output_type": "stream",
     "name": "stderr",
     "text": [
      "100%|██████████| 4/4 [00:00<00:00,  5.08it/s]\n"
     ]
    },
    {
     "output_type": "stream",
     "name": "stdout",
     "text": [
      "{'C': [1, 5, 10, 1000], 'gamma': ['auto', 'scale']}\n",
      "Fitting 5 folds for each of 8 candidates, totalling 40 fits\n",
      "[CV 1/5] END ...................C=1, gamma=auto;, score=0.588 total time=   3.7s\n",
      "[CV 2/5] END ...................C=1, gamma=auto;, score=0.912 total time=   3.6s\n",
      "[CV 3/5] END ...................C=1, gamma=auto;, score=0.853 total time=   3.7s\n",
      "[CV 4/5] END ...................C=1, gamma=auto;, score=0.879 total time=   3.8s\n",
      "[CV 5/5] END ...................C=1, gamma=auto;, score=0.939 total time=   3.8s\n",
      "[CV 1/5] END ..................C=1, gamma=scale;, score=0.588 total time=   3.8s\n",
      "[CV 2/5] END ..................C=1, gamma=scale;, score=0.912 total time=   3.8s\n",
      "[CV 3/5] END ..................C=1, gamma=scale;, score=0.853 total time=   3.9s\n",
      "[CV 4/5] END ..................C=1, gamma=scale;, score=0.879 total time=   3.9s\n",
      "[CV 5/5] END ..................C=1, gamma=scale;, score=0.939 total time=   3.9s\n",
      "[CV 1/5] END ...................C=5, gamma=auto;, score=0.588 total time=   3.8s\n",
      "[CV 2/5] END ...................C=5, gamma=auto;, score=0.882 total time=   3.8s\n",
      "[CV 3/5] END ...................C=5, gamma=auto;, score=0.853 total time=   3.7s\n",
      "[CV 4/5] END ...................C=5, gamma=auto;, score=0.848 total time=   3.8s\n",
      "[CV 5/5] END ...................C=5, gamma=auto;, score=0.939 total time=   3.8s\n",
      "[CV 1/5] END ..................C=5, gamma=scale;, score=0.588 total time=   3.8s\n",
      "[CV 2/5] END ..................C=5, gamma=scale;, score=0.912 total time=   3.9s\n",
      "[CV 3/5] END ..................C=5, gamma=scale;, score=0.853 total time=   3.9s\n",
      "[CV 4/5] END ..................C=5, gamma=scale;, score=0.848 total time=   3.9s\n",
      "[CV 5/5] END ..................C=5, gamma=scale;, score=0.939 total time=   3.9s\n",
      "[CV 1/5] END ..................C=10, gamma=auto;, score=0.588 total time=   3.7s\n",
      "[CV 2/5] END ..................C=10, gamma=auto;, score=0.882 total time=   3.7s\n",
      "[CV 3/5] END ..................C=10, gamma=auto;, score=0.853 total time=   3.8s\n",
      "[CV 4/5] END ..................C=10, gamma=auto;, score=0.848 total time=   3.7s\n",
      "[CV 5/5] END ..................C=10, gamma=auto;, score=0.939 total time=   3.9s\n",
      "[CV 1/5] END .................C=10, gamma=scale;, score=0.588 total time=   3.9s\n",
      "[CV 2/5] END .................C=10, gamma=scale;, score=0.912 total time=   3.9s\n",
      "[CV 3/5] END .................C=10, gamma=scale;, score=0.853 total time=   3.9s\n",
      "[CV 4/5] END .................C=10, gamma=scale;, score=0.848 total time=   3.9s\n",
      "[CV 5/5] END .................C=10, gamma=scale;, score=0.939 total time=   4.0s\n",
      "[CV 1/5] END ................C=1000, gamma=auto;, score=0.588 total time=   3.7s\n",
      "[CV 2/5] END ................C=1000, gamma=auto;, score=0.882 total time=   3.8s\n",
      "[CV 3/5] END ................C=1000, gamma=auto;, score=0.853 total time=   3.8s\n",
      "[CV 4/5] END ................C=1000, gamma=auto;, score=0.848 total time=   3.7s\n",
      "[CV 5/5] END ................C=1000, gamma=auto;, score=0.939 total time=   3.7s\n",
      "[CV 1/5] END ...............C=1000, gamma=scale;, score=0.588 total time=   3.8s\n",
      "[CV 2/5] END ...............C=1000, gamma=scale;, score=0.912 total time=   3.8s\n",
      "[CV 3/5] END ...............C=1000, gamma=scale;, score=0.853 total time=   3.9s\n",
      "[CV 4/5] END ...............C=1000, gamma=scale;, score=0.848 total time=   3.9s\n",
      "[CV 5/5] END ...............C=1000, gamma=scale;, score=0.939 total time=   3.9s\n"
     ]
    },
    {
     "output_type": "stream",
     "name": "stderr",
     "text": [
      "100%|██████████| 4/4 [00:00<00:00,  4.21it/s]\n"
     ]
    },
    {
     "output_type": "stream",
     "name": "stdout",
     "text": [
      "{'C': [1, 5, 10, 1000], 'gamma': ['auto', 'scale']}\n",
      "Fitting 5 folds for each of 8 candidates, totalling 40 fits\n",
      "[CV 1/5] END ...................C=1, gamma=auto;, score=0.471 total time=   4.3s\n",
      "[CV 2/5] END ...................C=1, gamma=auto;, score=0.853 total time=   4.0s\n",
      "[CV 3/5] END ...................C=1, gamma=auto;, score=0.588 total time=   3.9s\n",
      "[CV 4/5] END ...................C=1, gamma=auto;, score=0.939 total time=   3.9s\n",
      "[CV 5/5] END ...................C=1, gamma=auto;, score=0.818 total time=   3.9s\n",
      "[CV 1/5] END ..................C=1, gamma=scale;, score=0.471 total time=   4.0s\n",
      "[CV 2/5] END ..................C=1, gamma=scale;, score=0.853 total time=   4.0s\n",
      "[CV 3/5] END ..................C=1, gamma=scale;, score=0.588 total time=   4.0s\n",
      "[CV 4/5] END ..................C=1, gamma=scale;, score=0.939 total time=   4.0s\n",
      "[CV 5/5] END ..................C=1, gamma=scale;, score=0.818 total time=   4.0s\n",
      "[CV 1/5] END ...................C=5, gamma=auto;, score=0.529 total time=   5.2s\n",
      "[CV 2/5] END ...................C=5, gamma=auto;, score=0.853 total time=   5.1s\n",
      "[CV 3/5] END ...................C=5, gamma=auto;, score=0.618 total time=   4.6s\n",
      "[CV 4/5] END ...................C=5, gamma=auto;, score=0.818 total time=   5.1s\n",
      "[CV 5/5] END ...................C=5, gamma=auto;, score=0.818 total time=   5.6s\n",
      "[CV 1/5] END ..................C=5, gamma=scale;, score=0.529 total time=   5.9s\n",
      "[CV 2/5] END ..................C=5, gamma=scale;, score=0.853 total time=   6.2s\n",
      "[CV 3/5] END ..................C=5, gamma=scale;, score=0.618 total time=   6.2s\n",
      "[CV 4/5] END ..................C=5, gamma=scale;, score=0.818 total time=   4.3s\n",
      "[CV 5/5] END ..................C=5, gamma=scale;, score=0.818 total time=   4.0s\n",
      "[CV 1/5] END ..................C=10, gamma=auto;, score=0.529 total time=   3.9s\n",
      "[CV 2/5] END ..................C=10, gamma=auto;, score=0.853 total time=   4.0s\n",
      "[CV 3/5] END ..................C=10, gamma=auto;, score=0.618 total time=   3.9s\n",
      "[CV 4/5] END ..................C=10, gamma=auto;, score=0.818 total time=   3.8s\n",
      "[CV 5/5] END ..................C=10, gamma=auto;, score=0.818 total time=   3.8s\n",
      "[CV 1/5] END .................C=10, gamma=scale;, score=0.529 total time=   4.0s\n",
      "[CV 2/5] END .................C=10, gamma=scale;, score=0.853 total time=   4.0s\n",
      "[CV 3/5] END .................C=10, gamma=scale;, score=0.618 total time=   4.0s\n",
      "[CV 4/5] END .................C=10, gamma=scale;, score=0.818 total time=   4.0s\n",
      "[CV 5/5] END .................C=10, gamma=scale;, score=0.818 total time=   4.0s\n",
      "[CV 1/5] END ................C=1000, gamma=auto;, score=0.529 total time=   3.9s\n",
      "[CV 2/5] END ................C=1000, gamma=auto;, score=0.853 total time=   3.9s\n",
      "[CV 3/5] END ................C=1000, gamma=auto;, score=0.618 total time=   3.9s\n",
      "[CV 4/5] END ................C=1000, gamma=auto;, score=0.818 total time=   3.8s\n",
      "[CV 5/5] END ................C=1000, gamma=auto;, score=0.818 total time=   3.8s\n",
      "[CV 1/5] END ...............C=1000, gamma=scale;, score=0.529 total time=   4.0s\n",
      "[CV 2/5] END ...............C=1000, gamma=scale;, score=0.853 total time=   4.1s\n",
      "[CV 3/5] END ...............C=1000, gamma=scale;, score=0.618 total time=   4.1s\n",
      "[CV 4/5] END ...............C=1000, gamma=scale;, score=0.818 total time=   4.0s\n",
      "[CV 5/5] END ...............C=1000, gamma=scale;, score=0.818 total time=   4.0s\n"
     ]
    },
    {
     "output_type": "stream",
     "name": "stderr",
     "text": [
      "100%|██████████| 4/4 [00:00<00:00,  4.42it/s]\n"
     ]
    },
    {
     "output_type": "stream",
     "name": "stdout",
     "text": [
      "{'C': [1, 5, 10, 1000], 'gamma': ['auto', 'scale']}\n",
      "Fitting 5 folds for each of 8 candidates, totalling 40 fits\n",
      "[CV 1/5] END ...................C=1, gamma=auto;, score=0.471 total time=   4.3s\n",
      "[CV 2/5] END ...................C=1, gamma=auto;, score=0.559 total time=   4.1s\n",
      "[CV 3/5] END ...................C=1, gamma=auto;, score=0.500 total time=   4.1s\n",
      "[CV 4/5] END ...................C=1, gamma=auto;, score=0.636 total time=   4.2s\n",
      "[CV 5/5] END ...................C=1, gamma=auto;, score=0.667 total time=   4.1s\n",
      "[CV 1/5] END ..................C=1, gamma=scale;, score=0.471 total time=   4.2s\n",
      "[CV 2/5] END ..................C=1, gamma=scale;, score=0.559 total time=   4.2s\n",
      "[CV 3/5] END ..................C=1, gamma=scale;, score=0.500 total time=   4.2s\n",
      "[CV 4/5] END ..................C=1, gamma=scale;, score=0.636 total time=   4.2s\n",
      "[CV 5/5] END ..................C=1, gamma=scale;, score=0.667 total time=   4.2s\n",
      "[CV 1/5] END ...................C=5, gamma=auto;, score=0.618 total time=   4.1s\n",
      "[CV 2/5] END ...................C=5, gamma=auto;, score=0.706 total time=   4.1s\n",
      "[CV 3/5] END ...................C=5, gamma=auto;, score=0.618 total time=   4.1s\n",
      "[CV 4/5] END ...................C=5, gamma=auto;, score=0.727 total time=   4.1s\n",
      "[CV 5/5] END ...................C=5, gamma=auto;, score=0.606 total time=   4.1s\n",
      "[CV 1/5] END ..................C=5, gamma=scale;, score=0.618 total time=   4.3s\n",
      "[CV 2/5] END ..................C=5, gamma=scale;, score=0.706 total time=   4.3s\n",
      "[CV 3/5] END ..................C=5, gamma=scale;, score=0.618 total time=   4.2s\n",
      "[CV 4/5] END ..................C=5, gamma=scale;, score=0.727 total time=   4.2s\n",
      "[CV 5/5] END ..................C=5, gamma=scale;, score=0.606 total time=   4.2s\n",
      "[CV 1/5] END ..................C=10, gamma=auto;, score=0.618 total time=   4.0s\n",
      "[CV 2/5] END ..................C=10, gamma=auto;, score=0.706 total time=   4.1s\n",
      "[CV 3/5] END ..................C=10, gamma=auto;, score=0.618 total time=   4.0s\n",
      "[CV 4/5] END ..................C=10, gamma=auto;, score=0.727 total time=   4.0s\n",
      "[CV 5/5] END ..................C=10, gamma=auto;, score=0.606 total time=   3.9s\n",
      "[CV 1/5] END .................C=10, gamma=scale;, score=0.618 total time=   4.3s\n",
      "[CV 2/5] END .................C=10, gamma=scale;, score=0.706 total time=   4.2s\n",
      "[CV 3/5] END .................C=10, gamma=scale;, score=0.618 total time=   4.3s\n",
      "[CV 4/5] END .................C=10, gamma=scale;, score=0.727 total time=   4.2s\n",
      "[CV 5/5] END .................C=10, gamma=scale;, score=0.606 total time=   4.3s\n",
      "[CV 1/5] END ................C=1000, gamma=auto;, score=0.618 total time=   4.1s\n",
      "[CV 2/5] END ................C=1000, gamma=auto;, score=0.706 total time=   4.1s\n",
      "[CV 3/5] END ................C=1000, gamma=auto;, score=0.618 total time=   4.1s\n",
      "[CV 4/5] END ................C=1000, gamma=auto;, score=0.727 total time=   4.0s\n",
      "[CV 5/5] END ................C=1000, gamma=auto;, score=0.606 total time=   4.0s\n",
      "[CV 1/5] END ...............C=1000, gamma=scale;, score=0.618 total time=   4.2s\n",
      "[CV 2/5] END ...............C=1000, gamma=scale;, score=0.706 total time=   4.3s\n",
      "[CV 3/5] END ...............C=1000, gamma=scale;, score=0.618 total time=   4.2s\n",
      "[CV 4/5] END ...............C=1000, gamma=scale;, score=0.727 total time=   4.2s\n",
      "[CV 5/5] END ...............C=1000, gamma=scale;, score=0.606 total time=   4.3s\n"
     ]
    },
    {
     "output_type": "stream",
     "name": "stderr",
     "text": [
      "100%|██████████| 4/4 [00:01<00:00,  3.09it/s]\n"
     ]
    },
    {
     "output_type": "stream",
     "name": "stdout",
     "text": [
      "{'C': [1, 5, 10, 1000], 'gamma': ['auto', 'scale']}\n",
      "Fitting 5 folds for each of 8 candidates, totalling 40 fits\n",
      "[CV 1/5] END ...................C=1, gamma=auto;, score=0.324 total time=   4.0s\n",
      "[CV 2/5] END ...................C=1, gamma=auto;, score=0.412 total time=   3.7s\n",
      "[CV 3/5] END ...................C=1, gamma=auto;, score=0.441 total time=   3.1s\n",
      "[CV 4/5] END ...................C=1, gamma=auto;, score=0.364 total time=   3.9s\n",
      "[CV 5/5] END ...................C=1, gamma=auto;, score=0.576 total time=   3.7s\n",
      "[CV 1/5] END ..................C=1, gamma=scale;, score=0.324 total time=   3.9s\n",
      "[CV 2/5] END ..................C=1, gamma=scale;, score=0.412 total time=   3.8s\n",
      "[CV 3/5] END ..................C=1, gamma=scale;, score=0.412 total time=   3.9s\n",
      "[CV 4/5] END ..................C=1, gamma=scale;, score=0.364 total time=   3.8s\n",
      "[CV 5/5] END ..................C=1, gamma=scale;, score=0.576 total time=   3.8s\n",
      "[CV 1/5] END ...................C=5, gamma=auto;, score=0.412 total time=   3.7s\n",
      "[CV 2/5] END ...................C=5, gamma=auto;, score=0.441 total time=   3.8s\n",
      "[CV 3/5] END ...................C=5, gamma=auto;, score=0.353 total time=   3.8s\n",
      "[CV 4/5] END ...................C=5, gamma=auto;, score=0.394 total time=   3.6s\n",
      "[CV 5/5] END ...................C=5, gamma=auto;, score=0.636 total time=   3.7s\n",
      "[CV 1/5] END ..................C=5, gamma=scale;, score=0.441 total time=   3.8s\n",
      "[CV 2/5] END ..................C=5, gamma=scale;, score=0.441 total time=   3.9s\n",
      "[CV 3/5] END ..................C=5, gamma=scale;, score=0.353 total time=   3.9s\n",
      "[CV 4/5] END ..................C=5, gamma=scale;, score=0.394 total time=   3.9s\n",
      "[CV 5/5] END ..................C=5, gamma=scale;, score=0.636 total time=   3.9s\n",
      "[CV 1/5] END ..................C=10, gamma=auto;, score=0.412 total time=   3.7s\n",
      "[CV 2/5] END ..................C=10, gamma=auto;, score=0.441 total time=   3.8s\n",
      "[CV 3/5] END ..................C=10, gamma=auto;, score=0.353 total time=   3.7s\n",
      "[CV 4/5] END ..................C=10, gamma=auto;, score=0.394 total time=   3.7s\n",
      "[CV 5/5] END ..................C=10, gamma=auto;, score=0.636 total time=   3.7s\n",
      "[CV 1/5] END .................C=10, gamma=scale;, score=0.441 total time=   3.7s\n",
      "[CV 2/5] END .................C=10, gamma=scale;, score=0.441 total time=   3.9s\n",
      "[CV 3/5] END .................C=10, gamma=scale;, score=0.353 total time=   3.9s\n",
      "[CV 4/5] END .................C=10, gamma=scale;, score=0.394 total time=   3.8s\n",
      "[CV 5/5] END .................C=10, gamma=scale;, score=0.636 total time=   3.9s\n",
      "[CV 1/5] END ................C=1000, gamma=auto;, score=0.412 total time=   3.7s\n",
      "[CV 2/5] END ................C=1000, gamma=auto;, score=0.441 total time=   3.7s\n",
      "[CV 3/5] END ................C=1000, gamma=auto;, score=0.353 total time=   3.7s\n",
      "[CV 4/5] END ................C=1000, gamma=auto;, score=0.394 total time=   3.6s\n",
      "[CV 5/5] END ................C=1000, gamma=auto;, score=0.636 total time=   3.7s\n",
      "[CV 1/5] END ...............C=1000, gamma=scale;, score=0.441 total time=   3.7s\n",
      "[CV 2/5] END ...............C=1000, gamma=scale;, score=0.441 total time=   3.9s\n",
      "[CV 3/5] END ...............C=1000, gamma=scale;, score=0.353 total time=   3.9s\n",
      "[CV 4/5] END ...............C=1000, gamma=scale;, score=0.394 total time=   3.8s\n",
      "[CV 5/5] END ...............C=1000, gamma=scale;, score=0.636 total time=   3.9s\n"
     ]
    },
    {
     "output_type": "stream",
     "name": "stderr",
     "text": [
      "100%|██████████| 4/4 [00:00<00:00,  5.81it/s]\n"
     ]
    },
    {
     "output_type": "stream",
     "name": "stdout",
     "text": [
      "{'C': [1, 5, 10, 1000], 'gamma': ['auto', 'scale']}\n",
      "Fitting 5 folds for each of 8 candidates, totalling 40 fits\n",
      "[CV 1/5] END ...................C=1, gamma=auto;, score=0.794 total time=   3.3s\n",
      "[CV 2/5] END ...................C=1, gamma=auto;, score=0.882 total time=   3.4s\n",
      "[CV 3/5] END ...................C=1, gamma=auto;, score=0.559 total time=   3.2s\n",
      "[CV 4/5] END ...................C=1, gamma=auto;, score=0.576 total time=   3.3s\n",
      "[CV 5/5] END ...................C=1, gamma=auto;, score=0.697 total time=   3.2s\n",
      "[CV 1/5] END ..................C=1, gamma=scale;, score=0.794 total time=   3.6s\n",
      "[CV 2/5] END ..................C=1, gamma=scale;, score=0.882 total time=   3.5s\n",
      "[CV 3/5] END ..................C=1, gamma=scale;, score=0.588 total time=   3.4s\n",
      "[CV 4/5] END ..................C=1, gamma=scale;, score=0.576 total time=   3.4s\n",
      "[CV 5/5] END ..................C=1, gamma=scale;, score=0.697 total time=   3.3s\n",
      "[CV 1/5] END ...................C=5, gamma=auto;, score=0.706 total time=   3.6s\n",
      "[CV 2/5] END ...................C=5, gamma=auto;, score=0.882 total time=   3.6s\n",
      "[CV 3/5] END ...................C=5, gamma=auto;, score=0.529 total time=   3.4s\n",
      "[CV 4/5] END ...................C=5, gamma=auto;, score=0.667 total time=   3.5s\n",
      "[CV 5/5] END ...................C=5, gamma=auto;, score=0.727 total time=   3.4s\n",
      "[CV 1/5] END ..................C=5, gamma=scale;, score=0.706 total time=   3.7s\n",
      "[CV 2/5] END ..................C=5, gamma=scale;, score=0.882 total time=   3.6s\n",
      "[CV 3/5] END ..................C=5, gamma=scale;, score=0.559 total time=   3.5s\n",
      "[CV 4/5] END ..................C=5, gamma=scale;, score=0.667 total time=   3.6s\n",
      "[CV 5/5] END ..................C=5, gamma=scale;, score=0.727 total time=   3.5s\n",
      "[CV 1/5] END ..................C=10, gamma=auto;, score=0.706 total time=   3.6s\n",
      "[CV 2/5] END ..................C=10, gamma=auto;, score=0.882 total time=   3.6s\n",
      "[CV 3/5] END ..................C=10, gamma=auto;, score=0.529 total time=   3.3s\n",
      "[CV 4/5] END ..................C=10, gamma=auto;, score=0.667 total time=   3.5s\n",
      "[CV 5/5] END ..................C=10, gamma=auto;, score=0.727 total time=   3.4s\n",
      "[CV 1/5] END .................C=10, gamma=scale;, score=0.706 total time=   3.7s\n",
      "[CV 2/5] END .................C=10, gamma=scale;, score=0.882 total time=   3.6s\n",
      "[CV 3/5] END .................C=10, gamma=scale;, score=0.559 total time=   3.5s\n",
      "[CV 4/5] END .................C=10, gamma=scale;, score=0.667 total time=   3.6s\n",
      "[CV 5/5] END .................C=10, gamma=scale;, score=0.727 total time=   3.5s\n",
      "[CV 1/5] END ................C=1000, gamma=auto;, score=0.706 total time=   3.6s\n",
      "[CV 2/5] END ................C=1000, gamma=auto;, score=0.882 total time=   3.5s\n",
      "[CV 3/5] END ................C=1000, gamma=auto;, score=0.529 total time=   3.3s\n",
      "[CV 4/5] END ................C=1000, gamma=auto;, score=0.667 total time=   3.5s\n",
      "[CV 5/5] END ................C=1000, gamma=auto;, score=0.727 total time=   3.4s\n",
      "[CV 1/5] END ...............C=1000, gamma=scale;, score=0.706 total time=   3.7s\n",
      "[CV 2/5] END ...............C=1000, gamma=scale;, score=0.882 total time=   3.6s\n",
      "[CV 3/5] END ...............C=1000, gamma=scale;, score=0.559 total time=   3.5s\n",
      "[CV 4/5] END ...............C=1000, gamma=scale;, score=0.667 total time=   3.6s\n",
      "[CV 5/5] END ...............C=1000, gamma=scale;, score=0.727 total time=   3.5s\n"
     ]
    },
    {
     "output_type": "stream",
     "name": "stderr",
     "text": [
      "100%|██████████| 4/4 [00:00<00:00,  4.84it/s]\n"
     ]
    },
    {
     "output_type": "stream",
     "name": "stdout",
     "text": [
      "{'C': [1, 5, 10, 1000], 'gamma': ['auto', 'scale']}\n",
      "Fitting 5 folds for each of 8 candidates, totalling 40 fits\n",
      "[CV 1/5] END ...................C=1, gamma=auto;, score=0.882 total time=   3.6s\n",
      "[CV 2/5] END ...................C=1, gamma=auto;, score=0.912 total time=   3.7s\n",
      "[CV 3/5] END ...................C=1, gamma=auto;, score=0.912 total time=   3.7s\n",
      "[CV 4/5] END ...................C=1, gamma=auto;, score=1.000 total time=   3.7s\n",
      "[CV 5/5] END ...................C=1, gamma=auto;, score=0.909 total time=   3.7s\n",
      "[CV 1/5] END ..................C=1, gamma=scale;, score=0.882 total time=   4.0s\n",
      "[CV 2/5] END ..................C=1, gamma=scale;, score=0.912 total time=   3.9s\n",
      "[CV 3/5] END ..................C=1, gamma=scale;, score=0.912 total time=   4.0s\n",
      "[CV 4/5] END ..................C=1, gamma=scale;, score=1.000 total time=   3.8s\n",
      "[CV 5/5] END ..................C=1, gamma=scale;, score=0.909 total time=   3.9s\n",
      "[CV 1/5] END ...................C=5, gamma=auto;, score=0.853 total time=   3.8s\n",
      "[CV 2/5] END ...................C=5, gamma=auto;, score=0.912 total time=   3.8s\n",
      "[CV 3/5] END ...................C=5, gamma=auto;, score=0.912 total time=   3.7s\n",
      "[CV 4/5] END ...................C=5, gamma=auto;, score=1.000 total time=   3.8s\n",
      "[CV 5/5] END ...................C=5, gamma=auto;, score=0.939 total time=   3.7s\n",
      "[CV 1/5] END ..................C=5, gamma=scale;, score=0.853 total time=   4.5s\n",
      "[CV 2/5] END ..................C=5, gamma=scale;, score=0.912 total time=   4.3s\n",
      "[CV 3/5] END ..................C=5, gamma=scale;, score=0.912 total time=   4.2s\n",
      "[CV 4/5] END ..................C=5, gamma=scale;, score=1.000 total time=   4.3s\n",
      "[CV 5/5] END ..................C=5, gamma=scale;, score=0.939 total time=   4.2s\n",
      "[CV 1/5] END ..................C=10, gamma=auto;, score=0.853 total time=   4.9s\n",
      "[CV 2/5] END ..................C=10, gamma=auto;, score=0.912 total time=   6.9s\n",
      "[CV 3/5] END ..................C=10, gamma=auto;, score=0.912 total time=   5.1s\n",
      "[CV 4/5] END ..................C=10, gamma=auto;, score=1.000 total time=   3.7s\n",
      "[CV 5/5] END ..................C=10, gamma=auto;, score=0.939 total time=   3.7s\n",
      "[CV 1/5] END .................C=10, gamma=scale;, score=0.853 total time=   3.8s\n",
      "[CV 2/5] END .................C=10, gamma=scale;, score=0.912 total time=   3.8s\n",
      "[CV 3/5] END .................C=10, gamma=scale;, score=0.912 total time=   3.8s\n",
      "[CV 4/5] END .................C=10, gamma=scale;, score=1.000 total time=   3.8s\n",
      "[CV 5/5] END .................C=10, gamma=scale;, score=0.939 total time=   3.8s\n",
      "[CV 1/5] END ................C=1000, gamma=auto;, score=0.853 total time=   3.6s\n",
      "[CV 2/5] END ................C=1000, gamma=auto;, score=0.912 total time=   3.6s\n",
      "[CV 3/5] END ................C=1000, gamma=auto;, score=0.912 total time=   3.6s\n",
      "[CV 4/5] END ................C=1000, gamma=auto;, score=1.000 total time=   3.6s\n",
      "[CV 5/5] END ................C=1000, gamma=auto;, score=0.939 total time=   3.9s\n",
      "[CV 1/5] END ...............C=1000, gamma=scale;, score=0.853 total time=   3.9s\n",
      "[CV 2/5] END ...............C=1000, gamma=scale;, score=0.912 total time=   3.8s\n",
      "[CV 3/5] END ...............C=1000, gamma=scale;, score=0.912 total time=   3.7s\n",
      "[CV 4/5] END ...............C=1000, gamma=scale;, score=1.000 total time=   3.8s\n",
      "[CV 5/5] END ...............C=1000, gamma=scale;, score=0.939 total time=   3.8s\n"
     ]
    },
    {
     "output_type": "stream",
     "name": "stderr",
     "text": [
      "100%|██████████| 4/4 [00:00<00:00,  4.13it/s]\n"
     ]
    },
    {
     "output_type": "stream",
     "name": "stdout",
     "text": [
      "{'C': [1, 5, 10, 1000], 'gamma': ['auto', 'scale']}\n",
      "Fitting 5 folds for each of 8 candidates, totalling 40 fits\n",
      "[CV 1/5] END ...................C=1, gamma=auto;, score=0.618 total time=   4.4s\n",
      "[CV 2/5] END ...................C=1, gamma=auto;, score=0.618 total time=   4.0s\n",
      "[CV 3/5] END ...................C=1, gamma=auto;, score=0.529 total time=   4.1s\n",
      "[CV 4/5] END ...................C=1, gamma=auto;, score=0.424 total time=   3.9s\n",
      "[CV 5/5] END ...................C=1, gamma=auto;, score=0.545 total time=   3.9s\n",
      "[CV 1/5] END ..................C=1, gamma=scale;, score=0.618 total time=   4.2s\n",
      "[CV 2/5] END ..................C=1, gamma=scale;, score=0.618 total time=   4.1s\n",
      "[CV 3/5] END ..................C=1, gamma=scale;, score=0.529 total time=   4.2s\n",
      "[CV 4/5] END ..................C=1, gamma=scale;, score=0.394 total time=   4.1s\n",
      "[CV 5/5] END ..................C=1, gamma=scale;, score=0.545 total time=   4.1s\n",
      "[CV 1/5] END ...................C=5, gamma=auto;, score=0.706 total time=   4.1s\n",
      "[CV 2/5] END ...................C=5, gamma=auto;, score=0.559 total time=   4.1s\n",
      "[CV 3/5] END ...................C=5, gamma=auto;, score=0.382 total time=   4.1s\n",
      "[CV 4/5] END ...................C=5, gamma=auto;, score=0.424 total time=   3.9s\n",
      "[CV 5/5] END ...................C=5, gamma=auto;, score=0.697 total time=   3.9s\n",
      "[CV 1/5] END ..................C=5, gamma=scale;, score=0.706 total time=   4.2s\n",
      "[CV 2/5] END ..................C=5, gamma=scale;, score=0.559 total time=   4.2s\n",
      "[CV 3/5] END ..................C=5, gamma=scale;, score=0.382 total time=   4.2s\n",
      "[CV 4/5] END ..................C=5, gamma=scale;, score=0.424 total time=   4.1s\n",
      "[CV 5/5] END ..................C=5, gamma=scale;, score=0.697 total time=   4.1s\n",
      "[CV 1/5] END ..................C=10, gamma=auto;, score=0.706 total time=   4.1s\n",
      "[CV 2/5] END ..................C=10, gamma=auto;, score=0.559 total time=   4.1s\n",
      "[CV 3/5] END ..................C=10, gamma=auto;, score=0.382 total time=   4.1s\n",
      "[CV 4/5] END ..................C=10, gamma=auto;, score=0.424 total time=   3.9s\n",
      "[CV 5/5] END ..................C=10, gamma=auto;, score=0.697 total time=   3.9s\n",
      "[CV 1/5] END .................C=10, gamma=scale;, score=0.706 total time=   4.2s\n",
      "[CV 2/5] END .................C=10, gamma=scale;, score=0.559 total time=   4.2s\n",
      "[CV 3/5] END .................C=10, gamma=scale;, score=0.382 total time=   4.1s\n",
      "[CV 4/5] END .................C=10, gamma=scale;, score=0.424 total time=   4.1s\n",
      "[CV 5/5] END .................C=10, gamma=scale;, score=0.697 total time=   4.1s\n",
      "[CV 1/5] END ................C=1000, gamma=auto;, score=0.706 total time=   4.1s\n",
      "[CV 2/5] END ................C=1000, gamma=auto;, score=0.559 total time=   4.2s\n",
      "[CV 3/5] END ................C=1000, gamma=auto;, score=0.382 total time=   4.1s\n",
      "[CV 4/5] END ................C=1000, gamma=auto;, score=0.424 total time=   3.9s\n",
      "[CV 5/5] END ................C=1000, gamma=auto;, score=0.697 total time=   3.9s\n",
      "[CV 1/5] END ...............C=1000, gamma=scale;, score=0.706 total time=   4.2s\n",
      "[CV 2/5] END ...............C=1000, gamma=scale;, score=0.559 total time=   4.2s\n",
      "[CV 3/5] END ...............C=1000, gamma=scale;, score=0.382 total time=   4.2s\n",
      "[CV 4/5] END ...............C=1000, gamma=scale;, score=0.424 total time=   4.1s\n",
      "[CV 5/5] END ...............C=1000, gamma=scale;, score=0.697 total time=   4.1s\n"
     ]
    },
    {
     "output_type": "stream",
     "name": "stderr",
     "text": [
      "100%|██████████| 4/4 [00:00<00:00,  5.64it/s]\n"
     ]
    },
    {
     "output_type": "stream",
     "name": "stdout",
     "text": [
      "{'C': [1, 5, 10, 1000], 'gamma': ['auto', 'scale']}\n",
      "Fitting 5 folds for each of 8 candidates, totalling 40 fits\n",
      "[CV 1/5] END ...................C=1, gamma=auto;, score=0.500 total time=   3.5s\n",
      "[CV 2/5] END ...................C=1, gamma=auto;, score=0.765 total time=   3.7s\n",
      "[CV 3/5] END ...................C=1, gamma=auto;, score=0.735 total time=   3.9s\n",
      "[CV 4/5] END ...................C=1, gamma=auto;, score=0.818 total time=   3.9s\n",
      "[CV 5/5] END ...................C=1, gamma=auto;, score=0.879 total time=   4.0s\n",
      "[CV 1/5] END ..................C=1, gamma=scale;, score=0.500 total time=   3.6s\n",
      "[CV 2/5] END ..................C=1, gamma=scale;, score=0.765 total time=   3.9s\n",
      "[CV 3/5] END ..................C=1, gamma=scale;, score=0.735 total time=   4.0s\n",
      "[CV 4/5] END ..................C=1, gamma=scale;, score=0.848 total time=   4.0s\n",
      "[CV 5/5] END ..................C=1, gamma=scale;, score=0.879 total time=   3.9s\n",
      "[CV 1/5] END ...................C=5, gamma=auto;, score=0.559 total time=   3.6s\n",
      "[CV 2/5] END ...................C=5, gamma=auto;, score=0.765 total time=   3.8s\n",
      "[CV 3/5] END ...................C=5, gamma=auto;, score=0.794 total time=   4.0s\n",
      "[CV 4/5] END ...................C=5, gamma=auto;, score=0.848 total time=   3.9s\n",
      "[CV 5/5] END ...................C=5, gamma=auto;, score=0.818 total time=   3.9s\n",
      "[CV 1/5] END ..................C=5, gamma=scale;, score=0.559 total time=   3.7s\n",
      "[CV 2/5] END ..................C=5, gamma=scale;, score=0.765 total time=   4.0s\n",
      "[CV 3/5] END ..................C=5, gamma=scale;, score=0.794 total time=   4.2s\n",
      "[CV 4/5] END ..................C=5, gamma=scale;, score=0.848 total time=   4.2s\n",
      "[CV 5/5] END ..................C=5, gamma=scale;, score=0.818 total time=   4.2s\n",
      "[CV 1/5] END ..................C=10, gamma=auto;, score=0.559 total time=   3.6s\n",
      "[CV 2/5] END ..................C=10, gamma=auto;, score=0.765 total time=   3.9s\n",
      "[CV 3/5] END ..................C=10, gamma=auto;, score=0.794 total time=   4.0s\n",
      "[CV 4/5] END ..................C=10, gamma=auto;, score=0.848 total time=   3.9s\n",
      "[CV 5/5] END ..................C=10, gamma=auto;, score=0.818 total time=   3.9s\n",
      "[CV 1/5] END .................C=10, gamma=scale;, score=0.559 total time=   3.7s\n",
      "[CV 2/5] END .................C=10, gamma=scale;, score=0.765 total time=   4.0s\n",
      "[CV 3/5] END .................C=10, gamma=scale;, score=0.794 total time=   4.2s\n",
      "[CV 4/5] END .................C=10, gamma=scale;, score=0.848 total time=   4.1s\n",
      "[CV 5/5] END .................C=10, gamma=scale;, score=0.818 total time=   4.1s\n",
      "[CV 1/5] END ................C=1000, gamma=auto;, score=0.559 total time=   3.6s\n",
      "[CV 2/5] END ................C=1000, gamma=auto;, score=0.765 total time=   3.8s\n",
      "[CV 3/5] END ................C=1000, gamma=auto;, score=0.794 total time=   4.0s\n",
      "[CV 4/5] END ................C=1000, gamma=auto;, score=0.848 total time=   4.1s\n",
      "[CV 5/5] END ................C=1000, gamma=auto;, score=0.818 total time=   4.2s\n",
      "[CV 1/5] END ...............C=1000, gamma=scale;, score=0.559 total time=   3.8s\n",
      "[CV 2/5] END ...............C=1000, gamma=scale;, score=0.765 total time=   4.0s\n",
      "[CV 3/5] END ...............C=1000, gamma=scale;, score=0.794 total time=   4.1s\n",
      "[CV 4/5] END ...............C=1000, gamma=scale;, score=0.848 total time=   4.1s\n",
      "[CV 5/5] END ...............C=1000, gamma=scale;, score=0.818 total time=   4.1s\n"
     ]
    },
    {
     "output_type": "stream",
     "name": "stderr",
     "text": [
      "100%|██████████| 4/4 [00:00<00:00,  4.12it/s]\n"
     ]
    },
    {
     "output_type": "stream",
     "name": "stdout",
     "text": [
      "{'C': [1, 5, 10, 1000], 'gamma': ['auto', 'scale']}\n",
      "Fitting 5 folds for each of 8 candidates, totalling 40 fits\n",
      "[CV 1/5] END ...................C=1, gamma=auto;, score=0.765 total time=   4.2s\n",
      "[CV 2/5] END ...................C=1, gamma=auto;, score=0.794 total time=   4.0s\n",
      "[CV 3/5] END ...................C=1, gamma=auto;, score=0.706 total time=   4.0s\n",
      "[CV 4/5] END ...................C=1, gamma=auto;, score=0.848 total time=   4.1s\n",
      "[CV 5/5] END ...................C=1, gamma=auto;, score=0.970 total time=   3.9s\n",
      "[CV 1/5] END ..................C=1, gamma=scale;, score=0.765 total time=   4.1s\n",
      "[CV 2/5] END ..................C=1, gamma=scale;, score=0.794 total time=   4.1s\n",
      "[CV 3/5] END ..................C=1, gamma=scale;, score=0.706 total time=   4.1s\n",
      "[CV 4/5] END ..................C=1, gamma=scale;, score=0.848 total time=   4.2s\n",
      "[CV 5/5] END ..................C=1, gamma=scale;, score=0.970 total time=   4.0s\n",
      "[CV 1/5] END ...................C=5, gamma=auto;, score=0.735 total time=   4.0s\n",
      "[CV 2/5] END ...................C=5, gamma=auto;, score=0.853 total time=   3.9s\n",
      "[CV 3/5] END ...................C=5, gamma=auto;, score=0.765 total time=   3.9s\n",
      "[CV 4/5] END ...................C=5, gamma=auto;, score=0.848 total time=   4.0s\n",
      "[CV 5/5] END ...................C=5, gamma=auto;, score=0.970 total time=   3.9s\n",
      "[CV 1/5] END ..................C=5, gamma=scale;, score=0.735 total time=   4.2s\n",
      "[CV 2/5] END ..................C=5, gamma=scale;, score=0.853 total time=   4.1s\n",
      "[CV 3/5] END ..................C=5, gamma=scale;, score=0.765 total time=   4.0s\n",
      "[CV 4/5] END ..................C=5, gamma=scale;, score=0.848 total time=   4.1s\n",
      "[CV 5/5] END ..................C=5, gamma=scale;, score=0.970 total time=   4.0s\n",
      "[CV 1/5] END ..................C=10, gamma=auto;, score=0.735 total time=   3.9s\n",
      "[CV 2/5] END ..................C=10, gamma=auto;, score=0.853 total time=   3.9s\n",
      "[CV 3/5] END ..................C=10, gamma=auto;, score=0.765 total time=   3.9s\n",
      "[CV 4/5] END ..................C=10, gamma=auto;, score=0.848 total time=   4.0s\n",
      "[CV 5/5] END ..................C=10, gamma=auto;, score=0.970 total time=   3.9s\n",
      "[CV 1/5] END .................C=10, gamma=scale;, score=0.735 total time=   4.1s\n",
      "[CV 2/5] END .................C=10, gamma=scale;, score=0.853 total time=   4.0s\n",
      "[CV 3/5] END .................C=10, gamma=scale;, score=0.765 total time=   4.0s\n",
      "[CV 4/5] END .................C=10, gamma=scale;, score=0.848 total time=   4.1s\n",
      "[CV 5/5] END .................C=10, gamma=scale;, score=0.970 total time=   4.1s\n",
      "[CV 1/5] END ................C=1000, gamma=auto;, score=0.735 total time=   4.0s\n",
      "[CV 2/5] END ................C=1000, gamma=auto;, score=0.853 total time=   3.9s\n",
      "[CV 3/5] END ................C=1000, gamma=auto;, score=0.765 total time=   3.9s\n",
      "[CV 4/5] END ................C=1000, gamma=auto;, score=0.848 total time=   4.0s\n",
      "[CV 5/5] END ................C=1000, gamma=auto;, score=0.970 total time=   3.9s\n",
      "[CV 1/5] END ...............C=1000, gamma=scale;, score=0.735 total time=   4.0s\n",
      "[CV 2/5] END ...............C=1000, gamma=scale;, score=0.853 total time=   4.0s\n",
      "[CV 3/5] END ...............C=1000, gamma=scale;, score=0.765 total time=   4.1s\n",
      "[CV 4/5] END ...............C=1000, gamma=scale;, score=0.848 total time=   4.1s\n",
      "[CV 5/5] END ...............C=1000, gamma=scale;, score=0.970 total time=   4.1s\n"
     ]
    },
    {
     "output_type": "stream",
     "name": "stderr",
     "text": [
      "100%|██████████| 4/4 [00:00<00:00,  5.71it/s]\n"
     ]
    },
    {
     "output_type": "stream",
     "name": "stdout",
     "text": [
      "{'C': [1, 5, 10, 1000], 'gamma': ['auto', 'scale']}\n",
      "Fitting 5 folds for each of 8 candidates, totalling 40 fits\n",
      "[CV 1/5] END ...................C=1, gamma=auto;, score=0.676 total time=   3.5s\n",
      "[CV 2/5] END ...................C=1, gamma=auto;, score=0.882 total time=   3.7s\n",
      "[CV 3/5] END ...................C=1, gamma=auto;, score=0.735 total time=   3.2s\n",
      "[CV 4/5] END ...................C=1, gamma=auto;, score=0.939 total time=   3.6s\n",
      "[CV 5/5] END ...................C=1, gamma=auto;, score=0.788 total time=   3.7s\n",
      "[CV 1/5] END ..................C=1, gamma=scale;, score=0.676 total time=   3.6s\n",
      "[CV 2/5] END ..................C=1, gamma=scale;, score=0.882 total time=   3.8s\n",
      "[CV 3/5] END ..................C=1, gamma=scale;, score=0.735 total time=   3.6s\n",
      "[CV 4/5] END ..................C=1, gamma=scale;, score=0.939 total time=   3.8s\n",
      "[CV 5/5] END ..................C=1, gamma=scale;, score=0.788 total time=   3.8s\n",
      "[CV 1/5] END ...................C=5, gamma=auto;, score=0.618 total time=   3.6s\n",
      "[CV 2/5] END ...................C=5, gamma=auto;, score=0.941 total time=   3.8s\n",
      "[CV 3/5] END ...................C=5, gamma=auto;, score=0.735 total time=   3.5s\n",
      "[CV 4/5] END ...................C=5, gamma=auto;, score=0.939 total time=   3.7s\n",
      "[CV 5/5] END ...................C=5, gamma=auto;, score=0.818 total time=   3.7s\n",
      "[CV 1/5] END ..................C=5, gamma=scale;, score=0.618 total time=   3.8s\n",
      "[CV 2/5] END ..................C=5, gamma=scale;, score=0.941 total time=   3.9s\n",
      "[CV 3/5] END ..................C=5, gamma=scale;, score=0.735 total time=   3.6s\n",
      "[CV 4/5] END ..................C=5, gamma=scale;, score=0.939 total time=   3.8s\n",
      "[CV 5/5] END ..................C=5, gamma=scale;, score=0.818 total time=   3.8s\n",
      "[CV 1/5] END ..................C=10, gamma=auto;, score=0.618 total time=   3.6s\n",
      "[CV 2/5] END ..................C=10, gamma=auto;, score=0.941 total time=   3.8s\n",
      "[CV 3/5] END ..................C=10, gamma=auto;, score=0.735 total time=   3.4s\n",
      "[CV 4/5] END ..................C=10, gamma=auto;, score=0.939 total time=   3.7s\n",
      "[CV 5/5] END ..................C=10, gamma=auto;, score=0.818 total time=   3.7s\n",
      "[CV 1/5] END .................C=10, gamma=scale;, score=0.618 total time=   3.7s\n",
      "[CV 2/5] END .................C=10, gamma=scale;, score=0.941 total time=   3.9s\n",
      "[CV 3/5] END .................C=10, gamma=scale;, score=0.735 total time=   3.6s\n",
      "[CV 4/5] END .................C=10, gamma=scale;, score=0.939 total time=   3.9s\n",
      "[CV 5/5] END .................C=10, gamma=scale;, score=0.818 total time=   3.9s\n",
      "[CV 1/5] END ................C=1000, gamma=auto;, score=0.618 total time=   3.5s\n",
      "[CV 2/5] END ................C=1000, gamma=auto;, score=0.941 total time=   3.7s\n",
      "[CV 3/5] END ................C=1000, gamma=auto;, score=0.735 total time=   3.4s\n",
      "[CV 4/5] END ................C=1000, gamma=auto;, score=0.939 total time=   3.7s\n",
      "[CV 5/5] END ................C=1000, gamma=auto;, score=0.818 total time=   3.8s\n",
      "[CV 1/5] END ...............C=1000, gamma=scale;, score=0.618 total time=   3.7s\n",
      "[CV 2/5] END ...............C=1000, gamma=scale;, score=0.941 total time=   3.9s\n",
      "[CV 3/5] END ...............C=1000, gamma=scale;, score=0.735 total time=   3.8s\n",
      "[CV 4/5] END ...............C=1000, gamma=scale;, score=0.939 total time=   4.1s\n",
      "[CV 5/5] END ...............C=1000, gamma=scale;, score=0.818 total time=   4.1s\n"
     ]
    },
    {
     "output_type": "stream",
     "name": "stderr",
     "text": [
      "100%|██████████| 4/4 [00:00<00:00,  4.83it/s]\n"
     ]
    },
    {
     "output_type": "stream",
     "name": "stdout",
     "text": [
      "{'C': [1, 5, 10, 1000], 'gamma': ['auto', 'scale']}\n",
      "Fitting 5 folds for each of 8 candidates, totalling 40 fits\n",
      "[CV 1/5] END ...................C=1, gamma=auto;, score=0.824 total time=   3.6s\n",
      "[CV 2/5] END ...................C=1, gamma=auto;, score=0.794 total time=   3.7s\n",
      "[CV 3/5] END ...................C=1, gamma=auto;, score=0.794 total time=   3.6s\n",
      "[CV 4/5] END ...................C=1, gamma=auto;, score=0.758 total time=   3.3s\n",
      "[CV 5/5] END ...................C=1, gamma=auto;, score=0.909 total time=   3.7s\n",
      "[CV 1/5] END ..................C=1, gamma=scale;, score=0.824 total time=   3.8s\n",
      "[CV 2/5] END ..................C=1, gamma=scale;, score=0.794 total time=   3.7s\n",
      "[CV 3/5] END ..................C=1, gamma=scale;, score=0.794 total time=   3.7s\n",
      "[CV 4/5] END ..................C=1, gamma=scale;, score=0.758 total time=   3.6s\n",
      "[CV 5/5] END ..................C=1, gamma=scale;, score=0.909 total time=   3.7s\n",
      "[CV 1/5] END ...................C=5, gamma=auto;, score=0.824 total time=   3.8s\n",
      "[CV 2/5] END ...................C=5, gamma=auto;, score=0.794 total time=   3.7s\n",
      "[CV 3/5] END ...................C=5, gamma=auto;, score=0.735 total time=   3.7s\n",
      "[CV 4/5] END ...................C=5, gamma=auto;, score=0.758 total time=   3.5s\n",
      "[CV 5/5] END ...................C=5, gamma=auto;, score=0.879 total time=   3.7s\n",
      "[CV 1/5] END ..................C=5, gamma=scale;, score=0.824 total time=   3.9s\n",
      "[CV 2/5] END ..................C=5, gamma=scale;, score=0.794 total time=   4.0s\n",
      "[CV 3/5] END ..................C=5, gamma=scale;, score=0.735 total time=   3.8s\n",
      "[CV 4/5] END ..................C=5, gamma=scale;, score=0.758 total time=   3.6s\n",
      "[CV 5/5] END ..................C=5, gamma=scale;, score=0.879 total time=   3.9s\n",
      "[CV 1/5] END ..................C=10, gamma=auto;, score=0.824 total time=   3.8s\n",
      "[CV 2/5] END ..................C=10, gamma=auto;, score=0.794 total time=   3.8s\n",
      "[CV 3/5] END ..................C=10, gamma=auto;, score=0.735 total time=   3.7s\n",
      "[CV 4/5] END ..................C=10, gamma=auto;, score=0.758 total time=   3.5s\n",
      "[CV 5/5] END ..................C=10, gamma=auto;, score=0.879 total time=   3.8s\n",
      "[CV 1/5] END .................C=10, gamma=scale;, score=0.824 total time=   3.8s\n",
      "[CV 2/5] END .................C=10, gamma=scale;, score=0.794 total time=   4.0s\n",
      "[CV 3/5] END .................C=10, gamma=scale;, score=0.735 total time=   3.8s\n",
      "[CV 4/5] END .................C=10, gamma=scale;, score=0.758 total time=   3.6s\n",
      "[CV 5/5] END .................C=10, gamma=scale;, score=0.879 total time=   3.9s\n",
      "[CV 1/5] END ................C=1000, gamma=auto;, score=0.824 total time=   3.7s\n",
      "[CV 2/5] END ................C=1000, gamma=auto;, score=0.794 total time=   3.8s\n",
      "[CV 3/5] END ................C=1000, gamma=auto;, score=0.735 total time=   3.7s\n",
      "[CV 4/5] END ................C=1000, gamma=auto;, score=0.758 total time=   3.4s\n",
      "[CV 5/5] END ................C=1000, gamma=auto;, score=0.879 total time=   3.8s\n",
      "[CV 1/5] END ...............C=1000, gamma=scale;, score=0.824 total time=   3.8s\n",
      "[CV 2/5] END ...............C=1000, gamma=scale;, score=0.794 total time=   4.0s\n",
      "[CV 3/5] END ...............C=1000, gamma=scale;, score=0.735 total time=   3.8s\n",
      "[CV 4/5] END ...............C=1000, gamma=scale;, score=0.758 total time=   3.6s\n",
      "[CV 5/5] END ...............C=1000, gamma=scale;, score=0.879 total time=   4.0s\n"
     ]
    },
    {
     "output_type": "stream",
     "name": "stderr",
     "text": [
      "100%|██████████| 4/4 [00:00<00:00,  5.95it/s]\n"
     ]
    },
    {
     "output_type": "stream",
     "name": "stdout",
     "text": [
      "{'C': [1, 5, 10, 1000], 'gamma': ['auto', 'scale']}\n",
      "Fitting 5 folds for each of 8 candidates, totalling 40 fits\n",
      "[CV 1/5] END ...................C=1, gamma=auto;, score=0.618 total time=   4.0s\n",
      "[CV 2/5] END ...................C=1, gamma=auto;, score=0.588 total time=   3.8s\n",
      "[CV 3/5] END ...................C=1, gamma=auto;, score=0.735 total time=   3.8s\n",
      "[CV 4/5] END ...................C=1, gamma=auto;, score=0.818 total time=   4.0s\n",
      "[CV 5/5] END ...................C=1, gamma=auto;, score=0.970 total time=   4.0s\n",
      "[CV 1/5] END ..................C=1, gamma=scale;, score=0.618 total time=   3.9s\n",
      "[CV 2/5] END ..................C=1, gamma=scale;, score=0.588 total time=   3.9s\n",
      "[CV 3/5] END ..................C=1, gamma=scale;, score=0.735 total time=   4.0s\n",
      "[CV 4/5] END ..................C=1, gamma=scale;, score=0.818 total time=   4.1s\n",
      "[CV 5/5] END ..................C=1, gamma=scale;, score=0.970 total time=   4.2s\n",
      "[CV 1/5] END ...................C=5, gamma=auto;, score=0.647 total time=   3.9s\n",
      "[CV 2/5] END ...................C=5, gamma=auto;, score=0.735 total time=   3.8s\n",
      "[CV 3/5] END ...................C=5, gamma=auto;, score=0.706 total time=   3.8s\n",
      "[CV 4/5] END ...................C=5, gamma=auto;, score=0.848 total time=   4.0s\n",
      "[CV 5/5] END ...................C=5, gamma=auto;, score=0.909 total time=   4.0s\n",
      "[CV 1/5] END ..................C=5, gamma=scale;, score=0.647 total time=   4.1s\n",
      "[CV 2/5] END ..................C=5, gamma=scale;, score=0.735 total time=   4.1s\n",
      "[CV 3/5] END ..................C=5, gamma=scale;, score=0.706 total time=   4.1s\n",
      "[CV 4/5] END ..................C=5, gamma=scale;, score=0.848 total time=   4.3s\n",
      "[CV 5/5] END ..................C=5, gamma=scale;, score=0.909 total time=   4.4s\n",
      "[CV 1/5] END ..................C=10, gamma=auto;, score=0.647 total time=   5.2s\n",
      "[CV 2/5] END ..................C=10, gamma=auto;, score=0.735 total time=   4.5s\n",
      "[CV 3/5] END ..................C=10, gamma=auto;, score=0.706 total time=   4.1s\n",
      "[CV 4/5] END ..................C=10, gamma=auto;, score=0.848 total time=   5.4s\n",
      "[CV 5/5] END ..................C=10, gamma=auto;, score=0.909 total time=   6.1s\n",
      "[CV 1/5] END .................C=10, gamma=scale;, score=0.647 total time=   5.5s\n",
      "[CV 2/5] END .................C=10, gamma=scale;, score=0.735 total time=   5.7s\n",
      "[CV 3/5] END .................C=10, gamma=scale;, score=0.706 total time=   5.7s\n",
      "[CV 4/5] END .................C=10, gamma=scale;, score=0.848 total time=   5.9s\n",
      "[CV 5/5] END .................C=10, gamma=scale;, score=0.909 total time=   5.2s\n",
      "[CV 1/5] END ................C=1000, gamma=auto;, score=0.647 total time=   4.1s\n",
      "[CV 2/5] END ................C=1000, gamma=auto;, score=0.735 total time=   3.8s\n",
      "[CV 3/5] END ................C=1000, gamma=auto;, score=0.706 total time=   3.9s\n",
      "[CV 4/5] END ................C=1000, gamma=auto;, score=0.848 total time=   4.0s\n",
      "[CV 5/5] END ................C=1000, gamma=auto;, score=0.909 total time=   4.0s\n",
      "[CV 1/5] END ...............C=1000, gamma=scale;, score=0.647 total time=   4.0s\n",
      "[CV 2/5] END ...............C=1000, gamma=scale;, score=0.735 total time=   4.0s\n",
      "[CV 3/5] END ...............C=1000, gamma=scale;, score=0.706 total time=   4.0s\n",
      "[CV 4/5] END ...............C=1000, gamma=scale;, score=0.848 total time=   4.1s\n",
      "[CV 5/5] END ...............C=1000, gamma=scale;, score=0.909 total time=   4.1s\n"
     ]
    },
    {
     "output_type": "stream",
     "name": "stderr",
     "text": [
      "100%|██████████| 4/4 [00:01<00:00,  3.41it/s]\n"
     ]
    },
    {
     "output_type": "stream",
     "name": "stdout",
     "text": [
      "{'C': [1, 5, 10, 1000], 'gamma': ['auto', 'scale']}\n",
      "Fitting 5 folds for each of 8 candidates, totalling 40 fits\n",
      "[CV 1/5] END ...................C=1, gamma=auto;, score=0.588 total time=   4.1s\n",
      "[CV 2/5] END ...................C=1, gamma=auto;, score=0.853 total time=   4.1s\n",
      "[CV 3/5] END ...................C=1, gamma=auto;, score=0.529 total time=   4.1s\n",
      "[CV 4/5] END ...................C=1, gamma=auto;, score=0.788 total time=   4.0s\n",
      "[CV 5/5] END ...................C=1, gamma=auto;, score=0.606 total time=   4.0s\n",
      "[CV 1/5] END ..................C=1, gamma=scale;, score=0.588 total time=   4.2s\n",
      "[CV 2/5] END ..................C=1, gamma=scale;, score=0.853 total time=   4.2s\n",
      "[CV 3/5] END ..................C=1, gamma=scale;, score=0.529 total time=   4.1s\n",
      "[CV 4/5] END ..................C=1, gamma=scale;, score=0.788 total time=   4.1s\n",
      "[CV 5/5] END ..................C=1, gamma=scale;, score=0.606 total time=   4.1s\n",
      "[CV 1/5] END ...................C=5, gamma=auto;, score=0.588 total time=   4.1s\n",
      "[CV 2/5] END ...................C=5, gamma=auto;, score=0.882 total time=   4.1s\n",
      "[CV 3/5] END ...................C=5, gamma=auto;, score=0.529 total time=   4.0s\n",
      "[CV 4/5] END ...................C=5, gamma=auto;, score=0.788 total time=   4.0s\n",
      "[CV 5/5] END ...................C=5, gamma=auto;, score=0.636 total time=   4.0s\n",
      "[CV 1/5] END ..................C=5, gamma=scale;, score=0.588 total time=   4.5s\n",
      "[CV 2/5] END ..................C=5, gamma=scale;, score=0.882 total time=   4.7s\n",
      "[CV 3/5] END ..................C=5, gamma=scale;, score=0.529 total time=   4.5s\n",
      "[CV 4/5] END ..................C=5, gamma=scale;, score=0.788 total time=   4.6s\n",
      "[CV 5/5] END ..................C=5, gamma=scale;, score=0.636 total time=   4.5s\n",
      "[CV 1/5] END ..................C=10, gamma=auto;, score=0.588 total time=   6.0s\n",
      "[CV 2/5] END ..................C=10, gamma=auto;, score=0.882 total time=   5.8s\n",
      "[CV 3/5] END ..................C=10, gamma=auto;, score=0.529 total time=   5.3s\n",
      "[CV 4/5] END ..................C=10, gamma=auto;, score=0.788 total time=   3.9s\n",
      "[CV 5/5] END ..................C=10, gamma=auto;, score=0.636 total time=   3.9s\n",
      "[CV 1/5] END .................C=10, gamma=scale;, score=0.588 total time=   4.1s\n",
      "[CV 2/5] END .................C=10, gamma=scale;, score=0.882 total time=   4.1s\n",
      "[CV 3/5] END .................C=10, gamma=scale;, score=0.529 total time=   4.1s\n",
      "[CV 4/5] END .................C=10, gamma=scale;, score=0.788 total time=   4.1s\n",
      "[CV 5/5] END .................C=10, gamma=scale;, score=0.636 total time=   4.1s\n",
      "[CV 1/5] END ................C=1000, gamma=auto;, score=0.588 total time=   3.9s\n",
      "[CV 2/5] END ................C=1000, gamma=auto;, score=0.882 total time=   4.0s\n",
      "[CV 3/5] END ................C=1000, gamma=auto;, score=0.529 total time=   4.0s\n",
      "[CV 4/5] END ................C=1000, gamma=auto;, score=0.788 total time=   3.9s\n",
      "[CV 5/5] END ................C=1000, gamma=auto;, score=0.636 total time=   4.0s\n",
      "[CV 1/5] END ...............C=1000, gamma=scale;, score=0.588 total time=   4.1s\n",
      "[CV 2/5] END ...............C=1000, gamma=scale;, score=0.882 total time=   4.1s\n",
      "[CV 3/5] END ...............C=1000, gamma=scale;, score=0.529 total time=   4.2s\n",
      "[CV 4/5] END ...............C=1000, gamma=scale;, score=0.788 total time=   4.2s\n",
      "[CV 5/5] END ...............C=1000, gamma=scale;, score=0.636 total time=   4.2s\n"
     ]
    },
    {
     "output_type": "stream",
     "name": "stderr",
     "text": [
      "100%|██████████| 4/4 [00:01<00:00,  3.39it/s]\n"
     ]
    },
    {
     "output_type": "stream",
     "name": "stdout",
     "text": [
      "{'C': [1, 5, 10, 1000], 'gamma': ['auto', 'scale']}\n",
      "Fitting 5 folds for each of 8 candidates, totalling 40 fits\n",
      "[CV 1/5] END ...................C=1, gamma=auto;, score=0.676 total time=   4.1s\n",
      "[CV 2/5] END ...................C=1, gamma=auto;, score=0.794 total time=   4.0s\n",
      "[CV 3/5] END ...................C=1, gamma=auto;, score=0.706 total time=   4.1s\n",
      "[CV 4/5] END ...................C=1, gamma=auto;, score=0.818 total time=   4.1s\n",
      "[CV 5/5] END ...................C=1, gamma=auto;, score=0.939 total time=   4.0s\n",
      "[CV 1/5] END ..................C=1, gamma=scale;, score=0.676 total time=   4.2s\n",
      "[CV 2/5] END ..................C=1, gamma=scale;, score=0.794 total time=   4.2s\n",
      "[CV 3/5] END ..................C=1, gamma=scale;, score=0.706 total time=   4.2s\n",
      "[CV 4/5] END ..................C=1, gamma=scale;, score=0.818 total time=   4.2s\n",
      "[CV 5/5] END ..................C=1, gamma=scale;, score=0.939 total time=   4.2s\n",
      "[CV 1/5] END ...................C=5, gamma=auto;, score=0.618 total time=   4.1s\n",
      "[CV 2/5] END ...................C=5, gamma=auto;, score=0.824 total time=   4.0s\n",
      "[CV 3/5] END ...................C=5, gamma=auto;, score=0.735 total time=   4.0s\n",
      "[CV 4/5] END ...................C=5, gamma=auto;, score=0.788 total time=   4.0s\n",
      "[CV 5/5] END ...................C=5, gamma=auto;, score=0.909 total time=   4.0s\n",
      "[CV 1/5] END ..................C=5, gamma=scale;, score=0.618 total time=   4.2s\n",
      "[CV 2/5] END ..................C=5, gamma=scale;, score=0.824 total time=   4.2s\n",
      "[CV 3/5] END ..................C=5, gamma=scale;, score=0.735 total time=   4.2s\n",
      "[CV 4/5] END ..................C=5, gamma=scale;, score=0.788 total time=   4.2s\n",
      "[CV 5/5] END ..................C=5, gamma=scale;, score=0.909 total time=   4.1s\n",
      "[CV 1/5] END ..................C=10, gamma=auto;, score=0.618 total time=   4.0s\n",
      "[CV 2/5] END ..................C=10, gamma=auto;, score=0.824 total time=   4.1s\n",
      "[CV 3/5] END ..................C=10, gamma=auto;, score=0.735 total time=   4.0s\n",
      "[CV 4/5] END ..................C=10, gamma=auto;, score=0.788 total time=   4.1s\n",
      "[CV 5/5] END ..................C=10, gamma=auto;, score=0.909 total time=   4.0s\n",
      "[CV 1/5] END .................C=10, gamma=scale;, score=0.618 total time=   4.2s\n",
      "[CV 2/5] END .................C=10, gamma=scale;, score=0.824 total time=   4.2s\n",
      "[CV 3/5] END .................C=10, gamma=scale;, score=0.735 total time=   4.1s\n",
      "[CV 4/5] END .................C=10, gamma=scale;, score=0.788 total time=   4.1s\n",
      "[CV 5/5] END .................C=10, gamma=scale;, score=0.909 total time=   4.2s\n",
      "[CV 1/5] END ................C=1000, gamma=auto;, score=0.618 total time=   4.0s\n",
      "[CV 2/5] END ................C=1000, gamma=auto;, score=0.824 total time=   4.0s\n",
      "[CV 3/5] END ................C=1000, gamma=auto;, score=0.735 total time=   4.0s\n",
      "[CV 4/5] END ................C=1000, gamma=auto;, score=0.788 total time=   4.1s\n",
      "[CV 5/5] END ................C=1000, gamma=auto;, score=0.909 total time=   4.1s\n",
      "[CV 1/5] END ...............C=1000, gamma=scale;, score=0.618 total time=   4.2s\n",
      "[CV 2/5] END ...............C=1000, gamma=scale;, score=0.824 total time=   4.2s\n",
      "[CV 3/5] END ...............C=1000, gamma=scale;, score=0.735 total time=   4.1s\n",
      "[CV 4/5] END ...............C=1000, gamma=scale;, score=0.788 total time=   4.3s\n",
      "[CV 5/5] END ...............C=1000, gamma=scale;, score=0.909 total time=   4.2s\n"
     ]
    },
    {
     "output_type": "stream",
     "name": "stderr",
     "text": [
      "100%|██████████| 4/4 [00:01<00:00,  3.93it/s]\n"
     ]
    },
    {
     "output_type": "stream",
     "name": "stdout",
     "text": [
      "{'C': [1, 5, 10, 1000], 'gamma': ['auto', 'scale']}\n",
      "Fitting 5 folds for each of 8 candidates, totalling 40 fits\n",
      "[CV 1/5] END ...................C=1, gamma=auto;, score=0.853 total time=   4.1s\n",
      "[CV 2/5] END ...................C=1, gamma=auto;, score=0.941 total time=   4.0s\n",
      "[CV 3/5] END ...................C=1, gamma=auto;, score=0.765 total time=   3.9s\n",
      "[CV 4/5] END ...................C=1, gamma=auto;, score=0.909 total time=   4.0s\n",
      "[CV 5/5] END ...................C=1, gamma=auto;, score=1.000 total time=   4.0s\n",
      "[CV 1/5] END ..................C=1, gamma=scale;, score=0.853 total time=   4.1s\n",
      "[CV 2/5] END ..................C=1, gamma=scale;, score=0.941 total time=   4.1s\n",
      "[CV 3/5] END ..................C=1, gamma=scale;, score=0.765 total time=   4.1s\n",
      "[CV 4/5] END ..................C=1, gamma=scale;, score=0.909 total time=   4.1s\n",
      "[CV 5/5] END ..................C=1, gamma=scale;, score=1.000 total time=   4.2s\n",
      "[CV 1/5] END ...................C=5, gamma=auto;, score=0.853 total time=   4.0s\n",
      "[CV 2/5] END ...................C=5, gamma=auto;, score=0.912 total time=   4.0s\n",
      "[CV 3/5] END ...................C=5, gamma=auto;, score=0.765 total time=   4.1s\n",
      "[CV 4/5] END ...................C=5, gamma=auto;, score=0.848 total time=   4.0s\n",
      "[CV 5/5] END ...................C=5, gamma=auto;, score=1.000 total time=   4.1s\n",
      "[CV 1/5] END ..................C=5, gamma=scale;, score=0.853 total time=   4.2s\n",
      "[CV 2/5] END ..................C=5, gamma=scale;, score=0.912 total time=   4.1s\n",
      "[CV 3/5] END ..................C=5, gamma=scale;, score=0.735 total time=   4.2s\n",
      "[CV 4/5] END ..................C=5, gamma=scale;, score=0.848 total time=   4.2s\n",
      "[CV 5/5] END ..................C=5, gamma=scale;, score=1.000 total time=   4.3s\n",
      "[CV 1/5] END ..................C=10, gamma=auto;, score=0.853 total time=   4.0s\n",
      "[CV 2/5] END ..................C=10, gamma=auto;, score=0.912 total time=   4.0s\n",
      "[CV 3/5] END ..................C=10, gamma=auto;, score=0.765 total time=   4.0s\n",
      "[CV 4/5] END ..................C=10, gamma=auto;, score=0.848 total time=   4.0s\n",
      "[CV 5/5] END ..................C=10, gamma=auto;, score=1.000 total time=   4.0s\n",
      "[CV 1/5] END .................C=10, gamma=scale;, score=0.853 total time=   4.1s\n",
      "[CV 2/5] END .................C=10, gamma=scale;, score=0.912 total time=   4.1s\n",
      "[CV 3/5] END .................C=10, gamma=scale;, score=0.735 total time=   4.2s\n",
      "[CV 4/5] END .................C=10, gamma=scale;, score=0.848 total time=   4.1s\n",
      "[CV 5/5] END .................C=10, gamma=scale;, score=1.000 total time=   4.2s\n",
      "[CV 1/5] END ................C=1000, gamma=auto;, score=0.853 total time=   4.0s\n",
      "[CV 2/5] END ................C=1000, gamma=auto;, score=0.912 total time=   4.0s\n",
      "[CV 3/5] END ................C=1000, gamma=auto;, score=0.765 total time=   4.0s\n",
      "[CV 4/5] END ................C=1000, gamma=auto;, score=0.848 total time=   4.0s\n",
      "[CV 5/5] END ................C=1000, gamma=auto;, score=1.000 total time=   4.0s\n",
      "[CV 1/5] END ...............C=1000, gamma=scale;, score=0.853 total time=   4.1s\n",
      "[CV 2/5] END ...............C=1000, gamma=scale;, score=0.912 total time=   4.1s\n",
      "[CV 3/5] END ...............C=1000, gamma=scale;, score=0.735 total time=   4.1s\n",
      "[CV 4/5] END ...............C=1000, gamma=scale;, score=0.848 total time=   4.1s\n",
      "[CV 5/5] END ...............C=1000, gamma=scale;, score=1.000 total time=   4.2s\n"
     ]
    },
    {
     "output_type": "stream",
     "name": "stderr",
     "text": [
      "100%|██████████| 4/4 [00:00<00:00,  4.54it/s]\n"
     ]
    },
    {
     "output_type": "stream",
     "name": "stdout",
     "text": [
      "{'C': [1, 5, 10, 1000], 'gamma': ['auto', 'scale']}\n",
      "Fitting 5 folds for each of 8 candidates, totalling 40 fits\n",
      "[CV 1/5] END ...................C=1, gamma=auto;, score=0.559 total time=   4.2s\n",
      "[CV 2/5] END ...................C=1, gamma=auto;, score=0.588 total time=   4.1s\n",
      "[CV 3/5] END ...................C=1, gamma=auto;, score=0.529 total time=   4.1s\n",
      "[CV 4/5] END ...................C=1, gamma=auto;, score=0.485 total time=   4.0s\n",
      "[CV 5/5] END ...................C=1, gamma=auto;, score=0.667 total time=   4.0s\n",
      "[CV 1/5] END ..................C=1, gamma=scale;, score=0.588 total time=   4.2s\n",
      "[CV 2/5] END ..................C=1, gamma=scale;, score=0.588 total time=   4.2s\n",
      "[CV 3/5] END ..................C=1, gamma=scale;, score=0.529 total time=   4.2s\n",
      "[CV 4/5] END ..................C=1, gamma=scale;, score=0.485 total time=   4.2s\n",
      "[CV 5/5] END ..................C=1, gamma=scale;, score=0.667 total time=   4.1s\n",
      "[CV 1/5] END ...................C=5, gamma=auto;, score=0.500 total time=   4.1s\n",
      "[CV 2/5] END ...................C=5, gamma=auto;, score=0.559 total time=   4.1s\n",
      "[CV 3/5] END ...................C=5, gamma=auto;, score=0.588 total time=   4.1s\n",
      "[CV 4/5] END ...................C=5, gamma=auto;, score=0.485 total time=   4.1s\n",
      "[CV 5/5] END ...................C=5, gamma=auto;, score=0.545 total time=   4.1s\n",
      "[CV 1/5] END ..................C=5, gamma=scale;, score=0.500 total time=   4.2s\n",
      "[CV 2/5] END ..................C=5, gamma=scale;, score=0.559 total time=   4.2s\n",
      "[CV 3/5] END ..................C=5, gamma=scale;, score=0.588 total time=   4.2s\n",
      "[CV 4/5] END ..................C=5, gamma=scale;, score=0.485 total time=   4.2s\n",
      "[CV 5/5] END ..................C=5, gamma=scale;, score=0.545 total time=   4.2s\n",
      "[CV 1/5] END ..................C=10, gamma=auto;, score=0.500 total time=   4.1s\n",
      "[CV 2/5] END ..................C=10, gamma=auto;, score=0.559 total time=   4.1s\n",
      "[CV 3/5] END ..................C=10, gamma=auto;, score=0.588 total time=   4.2s\n",
      "[CV 4/5] END ..................C=10, gamma=auto;, score=0.485 total time=   4.1s\n",
      "[CV 5/5] END ..................C=10, gamma=auto;, score=0.545 total time=   4.2s\n",
      "[CV 1/5] END .................C=10, gamma=scale;, score=0.500 total time=   4.3s\n",
      "[CV 2/5] END .................C=10, gamma=scale;, score=0.559 total time=   4.3s\n",
      "[CV 3/5] END .................C=10, gamma=scale;, score=0.588 total time=   4.3s\n",
      "[CV 4/5] END .................C=10, gamma=scale;, score=0.485 total time=   4.3s\n",
      "[CV 5/5] END .................C=10, gamma=scale;, score=0.545 total time=   4.2s\n",
      "[CV 1/5] END ................C=1000, gamma=auto;, score=0.500 total time=   4.2s\n",
      "[CV 2/5] END ................C=1000, gamma=auto;, score=0.559 total time=   4.1s\n",
      "[CV 3/5] END ................C=1000, gamma=auto;, score=0.588 total time=   4.1s\n",
      "[CV 4/5] END ................C=1000, gamma=auto;, score=0.485 total time=   4.2s\n",
      "[CV 5/5] END ................C=1000, gamma=auto;, score=0.545 total time=   4.1s\n",
      "[CV 1/5] END ...............C=1000, gamma=scale;, score=0.500 total time=   4.2s\n",
      "[CV 2/5] END ...............C=1000, gamma=scale;, score=0.559 total time=   4.4s\n",
      "[CV 3/5] END ...............C=1000, gamma=scale;, score=0.588 total time=   4.3s\n",
      "[CV 4/5] END ...............C=1000, gamma=scale;, score=0.485 total time=   4.3s\n",
      "[CV 5/5] END ...............C=1000, gamma=scale;, score=0.545 total time=   4.2s\n"
     ]
    },
    {
     "output_type": "stream",
     "name": "stderr",
     "text": [
      "100%|██████████| 4/4 [00:00<00:00,  5.38it/s]\n"
     ]
    },
    {
     "output_type": "stream",
     "name": "stdout",
     "text": [
      "{'C': [1, 5, 10, 1000], 'gamma': ['auto', 'scale']}\n",
      "Fitting 5 folds for each of 8 candidates, totalling 40 fits\n",
      "[CV 1/5] END ...................C=1, gamma=auto;, score=0.735 total time=   4.0s\n",
      "[CV 2/5] END ...................C=1, gamma=auto;, score=0.588 total time=   4.0s\n",
      "[CV 3/5] END ...................C=1, gamma=auto;, score=0.588 total time=   4.0s\n",
      "[CV 4/5] END ...................C=1, gamma=auto;, score=0.636 total time=   4.1s\n",
      "[CV 5/5] END ...................C=1, gamma=auto;, score=0.667 total time=   4.2s\n",
      "[CV 1/5] END ..................C=1, gamma=scale;, score=0.735 total time=   4.1s\n",
      "[CV 2/5] END ..................C=1, gamma=scale;, score=0.588 total time=   4.2s\n",
      "[CV 3/5] END ..................C=1, gamma=scale;, score=0.588 total time=   4.2s\n",
      "[CV 4/5] END ..................C=1, gamma=scale;, score=0.636 total time=   4.3s\n",
      "[CV 5/5] END ..................C=1, gamma=scale;, score=0.667 total time=   4.2s\n",
      "[CV 1/5] END ...................C=5, gamma=auto;, score=0.765 total time=   4.0s\n",
      "[CV 2/5] END ...................C=5, gamma=auto;, score=0.559 total time=   4.0s\n",
      "[CV 3/5] END ...................C=5, gamma=auto;, score=0.618 total time=   4.1s\n",
      "[CV 4/5] END ...................C=5, gamma=auto;, score=0.727 total time=   4.1s\n",
      "[CV 5/5] END ...................C=5, gamma=auto;, score=0.788 total time=   4.1s\n",
      "[CV 1/5] END ..................C=5, gamma=scale;, score=0.765 total time=   4.2s\n",
      "[CV 2/5] END ..................C=5, gamma=scale;, score=0.559 total time=   4.2s\n",
      "[CV 3/5] END ..................C=5, gamma=scale;, score=0.618 total time=   4.2s\n",
      "[CV 4/5] END ..................C=5, gamma=scale;, score=0.727 total time=   4.2s\n",
      "[CV 5/5] END ..................C=5, gamma=scale;, score=0.788 total time=   4.2s\n",
      "[CV 1/5] END ..................C=10, gamma=auto;, score=0.765 total time=   4.0s\n",
      "[CV 2/5] END ..................C=10, gamma=auto;, score=0.559 total time=   4.1s\n",
      "[CV 3/5] END ..................C=10, gamma=auto;, score=0.618 total time=   4.1s\n",
      "[CV 4/5] END ..................C=10, gamma=auto;, score=0.727 total time=   4.1s\n",
      "[CV 5/5] END ..................C=10, gamma=auto;, score=0.788 total time=   4.1s\n",
      "[CV 1/5] END .................C=10, gamma=scale;, score=0.765 total time=   4.2s\n",
      "[CV 2/5] END .................C=10, gamma=scale;, score=0.559 total time=   4.2s\n",
      "[CV 3/5] END .................C=10, gamma=scale;, score=0.618 total time=   4.1s\n",
      "[CV 4/5] END .................C=10, gamma=scale;, score=0.727 total time=   4.2s\n",
      "[CV 5/5] END .................C=10, gamma=scale;, score=0.788 total time=   4.2s\n",
      "[CV 1/5] END ................C=1000, gamma=auto;, score=0.765 total time=   4.1s\n",
      "[CV 2/5] END ................C=1000, gamma=auto;, score=0.559 total time=   4.0s\n",
      "[CV 3/5] END ................C=1000, gamma=auto;, score=0.618 total time=   4.1s\n",
      "[CV 4/5] END ................C=1000, gamma=auto;, score=0.727 total time=   4.1s\n",
      "[CV 5/5] END ................C=1000, gamma=auto;, score=0.788 total time=   4.1s\n",
      "[CV 1/5] END ...............C=1000, gamma=scale;, score=0.765 total time=   4.2s\n",
      "[CV 2/5] END ...............C=1000, gamma=scale;, score=0.559 total time=   4.2s\n",
      "[CV 3/5] END ...............C=1000, gamma=scale;, score=0.618 total time=   4.3s\n",
      "[CV 4/5] END ...............C=1000, gamma=scale;, score=0.727 total time=   4.2s\n",
      "[CV 5/5] END ...............C=1000, gamma=scale;, score=0.788 total time=   4.2s\n"
     ]
    },
    {
     "output_type": "stream",
     "name": "stderr",
     "text": [
      "100%|██████████| 4/4 [00:00<00:00,  5.07it/s]\n"
     ]
    },
    {
     "output_type": "stream",
     "name": "stdout",
     "text": [
      "{'C': [1, 5, 10, 1000], 'gamma': ['auto', 'scale']}\n",
      "Fitting 5 folds for each of 8 candidates, totalling 40 fits\n",
      "[CV 1/5] END ...................C=1, gamma=auto;, score=0.853 total time=   3.1s\n",
      "[CV 2/5] END ...................C=1, gamma=auto;, score=0.941 total time=   3.3s\n",
      "[CV 3/5] END ...................C=1, gamma=auto;, score=0.765 total time=   3.2s\n",
      "[CV 4/5] END ...................C=1, gamma=auto;, score=1.000 total time=   3.5s\n",
      "[CV 5/5] END ...................C=1, gamma=auto;, score=0.909 total time=   3.3s\n",
      "[CV 1/5] END ..................C=1, gamma=scale;, score=0.853 total time=   3.3s\n",
      "[CV 2/5] END ..................C=1, gamma=scale;, score=0.941 total time=   3.4s\n",
      "[CV 3/5] END ..................C=1, gamma=scale;, score=0.765 total time=   3.3s\n",
      "[CV 4/5] END ..................C=1, gamma=scale;, score=1.000 total time=   3.5s\n",
      "[CV 5/5] END ..................C=1, gamma=scale;, score=0.909 total time=   3.6s\n",
      "[CV 1/5] END ...................C=5, gamma=auto;, score=0.853 total time=   3.2s\n",
      "[CV 2/5] END ...................C=5, gamma=auto;, score=0.971 total time=   3.4s\n",
      "[CV 3/5] END ...................C=5, gamma=auto;, score=0.765 total time=   3.1s\n",
      "[CV 4/5] END ...................C=5, gamma=auto;, score=1.000 total time=   3.6s\n",
      "[CV 5/5] END ...................C=5, gamma=auto;, score=0.909 total time=   3.3s\n",
      "[CV 1/5] END ..................C=5, gamma=scale;, score=0.853 total time=   3.4s\n",
      "[CV 2/5] END ..................C=5, gamma=scale;, score=0.971 total time=   3.6s\n",
      "[CV 3/5] END ..................C=5, gamma=scale;, score=0.765 total time=   3.2s\n",
      "[CV 4/5] END ..................C=5, gamma=scale;, score=1.000 total time=   3.6s\n",
      "[CV 5/5] END ..................C=5, gamma=scale;, score=0.909 total time=   3.7s\n",
      "[CV 1/5] END ..................C=10, gamma=auto;, score=0.853 total time=   3.2s\n",
      "[CV 2/5] END ..................C=10, gamma=auto;, score=0.971 total time=   3.4s\n",
      "[CV 3/5] END ..................C=10, gamma=auto;, score=0.765 total time=   3.1s\n",
      "[CV 4/5] END ..................C=10, gamma=auto;, score=1.000 total time=   3.4s\n",
      "[CV 5/5] END ..................C=10, gamma=auto;, score=0.909 total time=   3.4s\n",
      "[CV 1/5] END .................C=10, gamma=scale;, score=0.853 total time=   3.3s\n",
      "[CV 2/5] END .................C=10, gamma=scale;, score=0.971 total time=   3.5s\n",
      "[CV 3/5] END .................C=10, gamma=scale;, score=0.765 total time=   3.2s\n",
      "[CV 4/5] END .................C=10, gamma=scale;, score=1.000 total time=   3.6s\n",
      "[CV 5/5] END .................C=10, gamma=scale;, score=0.909 total time=   3.5s\n",
      "[CV 1/5] END ................C=1000, gamma=auto;, score=0.853 total time=   3.1s\n",
      "[CV 2/5] END ................C=1000, gamma=auto;, score=0.971 total time=   3.4s\n",
      "[CV 3/5] END ................C=1000, gamma=auto;, score=0.765 total time=   3.1s\n",
      "[CV 4/5] END ................C=1000, gamma=auto;, score=1.000 total time=   3.5s\n",
      "[CV 5/5] END ................C=1000, gamma=auto;, score=0.909 total time=   3.3s\n",
      "[CV 1/5] END ...............C=1000, gamma=scale;, score=0.853 total time=   3.3s\n",
      "[CV 2/5] END ...............C=1000, gamma=scale;, score=0.971 total time=   3.5s\n",
      "[CV 3/5] END ...............C=1000, gamma=scale;, score=0.765 total time=   3.3s\n",
      "[CV 4/5] END ...............C=1000, gamma=scale;, score=1.000 total time=   3.6s\n",
      "[CV 5/5] END ...............C=1000, gamma=scale;, score=0.909 total time=   3.5s\n"
     ]
    },
    {
     "output_type": "stream",
     "name": "stderr",
     "text": [
      "100%|██████████| 4/4 [00:00<00:00,  4.15it/s]\n"
     ]
    },
    {
     "output_type": "stream",
     "name": "stdout",
     "text": [
      "{'C': [1, 5, 10, 1000], 'gamma': ['auto', 'scale']}\n",
      "Fitting 5 folds for each of 8 candidates, totalling 40 fits\n",
      "[CV 1/5] END ...................C=1, gamma=auto;, score=0.765 total time=   4.0s\n",
      "[CV 2/5] END ...................C=1, gamma=auto;, score=0.882 total time=   3.9s\n",
      "[CV 3/5] END ...................C=1, gamma=auto;, score=0.853 total time=   3.9s\n",
      "[CV 4/5] END ...................C=1, gamma=auto;, score=0.818 total time=   3.9s\n",
      "[CV 5/5] END ...................C=1, gamma=auto;, score=0.697 total time=   3.9s\n",
      "[CV 1/5] END ..................C=1, gamma=scale;, score=0.765 total time=   4.2s\n",
      "[CV 2/5] END ..................C=1, gamma=scale;, score=0.882 total time=   4.2s\n",
      "[CV 3/5] END ..................C=1, gamma=scale;, score=0.853 total time=   4.1s\n",
      "[CV 4/5] END ..................C=1, gamma=scale;, score=0.818 total time=   4.0s\n",
      "[CV 5/5] END ..................C=1, gamma=scale;, score=0.697 total time=   4.0s\n",
      "[CV 1/5] END ...................C=5, gamma=auto;, score=0.765 total time=   3.9s\n",
      "[CV 2/5] END ...................C=5, gamma=auto;, score=0.882 total time=   4.0s\n",
      "[CV 3/5] END ...................C=5, gamma=auto;, score=0.824 total time=   3.9s\n",
      "[CV 4/5] END ...................C=5, gamma=auto;, score=0.848 total time=   3.8s\n",
      "[CV 5/5] END ...................C=5, gamma=auto;, score=0.727 total time=   4.0s\n",
      "[CV 1/5] END ..................C=5, gamma=scale;, score=0.765 total time=   4.1s\n",
      "[CV 2/5] END ..................C=5, gamma=scale;, score=0.882 total time=   4.1s\n",
      "[CV 3/5] END ..................C=5, gamma=scale;, score=0.824 total time=   4.1s\n",
      "[CV 4/5] END ..................C=5, gamma=scale;, score=0.848 total time=   4.1s\n",
      "[CV 5/5] END ..................C=5, gamma=scale;, score=0.727 total time=   4.2s\n",
      "[CV 1/5] END ..................C=10, gamma=auto;, score=0.765 total time=   4.2s\n",
      "[CV 2/5] END ..................C=10, gamma=auto;, score=0.882 total time=   4.1s\n",
      "[CV 3/5] END ..................C=10, gamma=auto;, score=0.824 total time=   4.0s\n",
      "[CV 4/5] END ..................C=10, gamma=auto;, score=0.848 total time=   3.9s\n",
      "[CV 5/5] END ..................C=10, gamma=auto;, score=0.727 total time=   4.0s\n",
      "[CV 1/5] END .................C=10, gamma=scale;, score=0.765 total time=   4.1s\n",
      "[CV 2/5] END .................C=10, gamma=scale;, score=0.882 total time=   4.1s\n",
      "[CV 3/5] END .................C=10, gamma=scale;, score=0.824 total time=   4.1s\n",
      "[CV 4/5] END .................C=10, gamma=scale;, score=0.848 total time=   4.1s\n",
      "[CV 5/5] END .................C=10, gamma=scale;, score=0.727 total time=   4.1s\n",
      "[CV 1/5] END ................C=1000, gamma=auto;, score=0.765 total time=   4.1s\n",
      "[CV 2/5] END ................C=1000, gamma=auto;, score=0.882 total time=   4.0s\n",
      "[CV 3/5] END ................C=1000, gamma=auto;, score=0.824 total time=   4.0s\n",
      "[CV 4/5] END ................C=1000, gamma=auto;, score=0.848 total time=   4.0s\n",
      "[CV 5/5] END ................C=1000, gamma=auto;, score=0.727 total time=   4.1s\n",
      "[CV 1/5] END ...............C=1000, gamma=scale;, score=0.765 total time=   4.3s\n",
      "[CV 2/5] END ...............C=1000, gamma=scale;, score=0.882 total time=   4.2s\n",
      "[CV 3/5] END ...............C=1000, gamma=scale;, score=0.824 total time=   4.2s\n",
      "[CV 4/5] END ...............C=1000, gamma=scale;, score=0.848 total time=   4.1s\n",
      "[CV 5/5] END ...............C=1000, gamma=scale;, score=0.727 total time=   4.1s\n"
     ]
    },
    {
     "output_type": "stream",
     "name": "stderr",
     "text": [
      "100%|██████████| 4/4 [00:01<00:00,  3.39it/s]\n"
     ]
    },
    {
     "output_type": "stream",
     "name": "stdout",
     "text": [
      "{'C': [1, 5, 10, 1000], 'gamma': ['auto', 'scale']}\n",
      "Fitting 5 folds for each of 8 candidates, totalling 40 fits\n",
      "[CV 1/5] END ...................C=1, gamma=auto;, score=0.765 total time=   4.0s\n",
      "[CV 2/5] END ...................C=1, gamma=auto;, score=0.912 total time=   3.9s\n",
      "[CV 3/5] END ...................C=1, gamma=auto;, score=0.853 total time=   4.0s\n",
      "[CV 4/5] END ...................C=1, gamma=auto;, score=0.970 total time=   4.0s\n",
      "[CV 5/5] END ...................C=1, gamma=auto;, score=1.000 total time=   3.9s\n",
      "[CV 1/5] END ..................C=1, gamma=scale;, score=0.765 total time=   4.0s\n",
      "[CV 2/5] END ..................C=1, gamma=scale;, score=0.912 total time=   4.0s\n",
      "[CV 3/5] END ..................C=1, gamma=scale;, score=0.853 total time=   4.0s\n",
      "[CV 4/5] END ..................C=1, gamma=scale;, score=0.970 total time=   4.1s\n",
      "[CV 5/5] END ..................C=1, gamma=scale;, score=1.000 total time=   4.1s\n",
      "[CV 1/5] END ...................C=5, gamma=auto;, score=0.765 total time=   4.0s\n",
      "[CV 2/5] END ...................C=5, gamma=auto;, score=0.971 total time=   3.9s\n",
      "[CV 3/5] END ...................C=5, gamma=auto;, score=0.853 total time=   4.0s\n",
      "[CV 4/5] END ...................C=5, gamma=auto;, score=0.970 total time=   4.0s\n",
      "[CV 5/5] END ...................C=5, gamma=auto;, score=1.000 total time=   4.0s\n",
      "[CV 1/5] END ..................C=5, gamma=scale;, score=0.765 total time=   4.2s\n",
      "[CV 2/5] END ..................C=5, gamma=scale;, score=0.971 total time=   4.2s\n",
      "[CV 3/5] END ..................C=5, gamma=scale;, score=0.853 total time=   4.0s\n",
      "[CV 4/5] END ..................C=5, gamma=scale;, score=0.970 total time=   4.1s\n",
      "[CV 5/5] END ..................C=5, gamma=scale;, score=1.000 total time=   4.2s\n",
      "[CV 1/5] END ..................C=10, gamma=auto;, score=0.765 total time=   3.9s\n",
      "[CV 2/5] END ..................C=10, gamma=auto;, score=0.971 total time=   3.9s\n",
      "[CV 3/5] END ..................C=10, gamma=auto;, score=0.853 total time=   3.9s\n",
      "[CV 4/5] END ..................C=10, gamma=auto;, score=0.970 total time=   3.9s\n",
      "[CV 5/5] END ..................C=10, gamma=auto;, score=1.000 total time=   4.1s\n",
      "[CV 1/5] END .................C=10, gamma=scale;, score=0.765 total time=   4.1s\n",
      "[CV 2/5] END .................C=10, gamma=scale;, score=0.971 total time=   3.9s\n",
      "[CV 3/5] END .................C=10, gamma=scale;, score=0.853 total time=   4.1s\n",
      "[CV 4/5] END .................C=10, gamma=scale;, score=0.970 total time=   4.1s\n",
      "[CV 5/5] END .................C=10, gamma=scale;, score=1.000 total time=   4.1s\n",
      "[CV 1/5] END ................C=1000, gamma=auto;, score=0.765 total time=   4.0s\n",
      "[CV 2/5] END ................C=1000, gamma=auto;, score=0.971 total time=   3.9s\n",
      "[CV 3/5] END ................C=1000, gamma=auto;, score=0.853 total time=   3.8s\n",
      "[CV 4/5] END ................C=1000, gamma=auto;, score=0.970 total time=   3.9s\n",
      "[CV 5/5] END ................C=1000, gamma=auto;, score=1.000 total time=   3.9s\n",
      "[CV 1/5] END ...............C=1000, gamma=scale;, score=0.765 total time=   4.0s\n",
      "[CV 2/5] END ...............C=1000, gamma=scale;, score=0.971 total time=   4.0s\n",
      "[CV 3/5] END ...............C=1000, gamma=scale;, score=0.853 total time=   4.0s\n",
      "[CV 4/5] END ...............C=1000, gamma=scale;, score=0.970 total time=   4.0s\n",
      "[CV 5/5] END ...............C=1000, gamma=scale;, score=1.000 total time=   4.1s\n"
     ]
    },
    {
     "output_type": "stream",
     "name": "stderr",
     "text": [
      "100%|██████████| 4/4 [00:01<00:00,  3.60it/s]\n"
     ]
    },
    {
     "output_type": "stream",
     "name": "stdout",
     "text": [
      "{'C': [1, 5, 10, 1000], 'gamma': ['auto', 'scale']}\n",
      "Fitting 5 folds for each of 8 candidates, totalling 40 fits\n",
      "[CV 1/5] END ...................C=1, gamma=auto;, score=0.647 total time=   4.1s\n",
      "[CV 2/5] END ...................C=1, gamma=auto;, score=0.735 total time=   4.2s\n",
      "[CV 3/5] END ...................C=1, gamma=auto;, score=0.647 total time=   4.1s\n",
      "[CV 4/5] END ...................C=1, gamma=auto;, score=0.485 total time=   4.1s\n",
      "[CV 5/5] END ...................C=1, gamma=auto;, score=0.667 total time=   4.0s\n",
      "[CV 1/5] END ..................C=1, gamma=scale;, score=0.647 total time=   4.3s\n",
      "[CV 2/5] END ..................C=1, gamma=scale;, score=0.735 total time=   4.3s\n",
      "[CV 3/5] END ..................C=1, gamma=scale;, score=0.647 total time=   4.2s\n",
      "[CV 4/5] END ..................C=1, gamma=scale;, score=0.485 total time=   4.2s\n",
      "[CV 5/5] END ..................C=1, gamma=scale;, score=0.667 total time=   4.2s\n",
      "[CV 1/5] END ...................C=5, gamma=auto;, score=0.706 total time=   4.1s\n",
      "[CV 2/5] END ...................C=5, gamma=auto;, score=0.735 total time=   4.1s\n",
      "[CV 3/5] END ...................C=5, gamma=auto;, score=0.676 total time=   4.0s\n",
      "[CV 4/5] END ...................C=5, gamma=auto;, score=0.515 total time=   4.0s\n",
      "[CV 5/5] END ...................C=5, gamma=auto;, score=0.545 total time=   4.0s\n",
      "[CV 1/5] END ..................C=5, gamma=scale;, score=0.706 total time=   4.2s\n",
      "[CV 2/5] END ..................C=5, gamma=scale;, score=0.735 total time=   4.3s\n",
      "[CV 3/5] END ..................C=5, gamma=scale;, score=0.676 total time=   4.2s\n",
      "[CV 4/5] END ..................C=5, gamma=scale;, score=0.515 total time=   4.2s\n",
      "[CV 5/5] END ..................C=5, gamma=scale;, score=0.545 total time=   4.2s\n",
      "[CV 1/5] END ..................C=10, gamma=auto;, score=0.706 total time=   4.1s\n",
      "[CV 2/5] END ..................C=10, gamma=auto;, score=0.735 total time=   4.2s\n",
      "[CV 3/5] END ..................C=10, gamma=auto;, score=0.676 total time=   4.1s\n",
      "[CV 4/5] END ..................C=10, gamma=auto;, score=0.515 total time=   4.1s\n",
      "[CV 5/5] END ..................C=10, gamma=auto;, score=0.545 total time=   4.1s\n",
      "[CV 1/5] END .................C=10, gamma=scale;, score=0.706 total time=   4.3s\n",
      "[CV 2/5] END .................C=10, gamma=scale;, score=0.735 total time=   4.2s\n",
      "[CV 3/5] END .................C=10, gamma=scale;, score=0.676 total time=   4.2s\n",
      "[CV 4/5] END .................C=10, gamma=scale;, score=0.515 total time=   4.2s\n",
      "[CV 5/5] END .................C=10, gamma=scale;, score=0.545 total time=   4.1s\n",
      "[CV 1/5] END ................C=1000, gamma=auto;, score=0.706 total time=   4.1s\n",
      "[CV 2/5] END ................C=1000, gamma=auto;, score=0.735 total time=   4.1s\n",
      "[CV 3/5] END ................C=1000, gamma=auto;, score=0.676 total time=   4.1s\n",
      "[CV 4/5] END ................C=1000, gamma=auto;, score=0.515 total time=   4.0s\n",
      "[CV 5/5] END ................C=1000, gamma=auto;, score=0.545 total time=   4.0s\n",
      "[CV 1/5] END ...............C=1000, gamma=scale;, score=0.706 total time=   4.2s\n",
      "[CV 2/5] END ...............C=1000, gamma=scale;, score=0.735 total time=   4.2s\n",
      "[CV 3/5] END ...............C=1000, gamma=scale;, score=0.676 total time=   4.2s\n",
      "[CV 4/5] END ...............C=1000, gamma=scale;, score=0.515 total time=   4.2s\n",
      "[CV 5/5] END ...............C=1000, gamma=scale;, score=0.545 total time=   4.2s\n"
     ]
    },
    {
     "output_type": "stream",
     "name": "stderr",
     "text": [
      "100%|██████████| 4/4 [00:01<00:00,  3.67it/s]\n"
     ]
    },
    {
     "output_type": "stream",
     "name": "stdout",
     "text": [
      "{'C': [1, 5, 10, 1000], 'gamma': ['auto', 'scale']}\n",
      "Fitting 5 folds for each of 8 candidates, totalling 40 fits\n",
      "[CV 1/5] END ...................C=1, gamma=auto;, score=0.647 total time=   3.9s\n",
      "[CV 2/5] END ...................C=1, gamma=auto;, score=0.971 total time=   3.9s\n",
      "[CV 3/5] END ...................C=1, gamma=auto;, score=0.853 total time=   3.8s\n",
      "[CV 4/5] END ...................C=1, gamma=auto;, score=0.636 total time=   3.7s\n",
      "[CV 5/5] END ...................C=1, gamma=auto;, score=0.879 total time=   3.8s\n",
      "[CV 1/5] END ..................C=1, gamma=scale;, score=0.647 total time=   4.0s\n",
      "[CV 2/5] END ..................C=1, gamma=scale;, score=0.971 total time=   4.1s\n",
      "[CV 3/5] END ..................C=1, gamma=scale;, score=0.853 total time=   4.0s\n",
      "[CV 4/5] END ..................C=1, gamma=scale;, score=0.636 total time=   3.9s\n",
      "[CV 5/5] END ..................C=1, gamma=scale;, score=0.879 total time=   3.9s\n",
      "[CV 1/5] END ...................C=5, gamma=auto;, score=0.647 total time=   3.8s\n",
      "[CV 2/5] END ...................C=5, gamma=auto;, score=0.941 total time=   3.9s\n",
      "[CV 3/5] END ...................C=5, gamma=auto;, score=0.853 total time=   3.9s\n",
      "[CV 4/5] END ...................C=5, gamma=auto;, score=0.636 total time=   3.8s\n",
      "[CV 5/5] END ...................C=5, gamma=auto;, score=0.879 total time=   3.9s\n",
      "[CV 1/5] END ..................C=5, gamma=scale;, score=0.647 total time=   4.3s\n",
      "[CV 2/5] END ..................C=5, gamma=scale;, score=0.941 total time=   6.8s\n",
      "[CV 3/5] END ..................C=5, gamma=scale;, score=0.853 total time=   4.6s\n",
      "[CV 4/5] END ..................C=5, gamma=scale;, score=0.636 total time=   5.3s\n",
      "[CV 5/5] END ..................C=5, gamma=scale;, score=0.879 total time=   5.8s\n",
      "[CV 1/5] END ..................C=10, gamma=auto;, score=0.647 total time=   6.0s\n",
      "[CV 2/5] END ..................C=10, gamma=auto;, score=0.941 total time=   5.9s\n",
      "[CV 3/5] END ..................C=10, gamma=auto;, score=0.853 total time=   5.9s\n",
      "[CV 4/5] END ..................C=10, gamma=auto;, score=0.636 total time=   5.2s\n",
      "[CV 5/5] END ..................C=10, gamma=auto;, score=0.879 total time=   5.4s\n",
      "[CV 1/5] END .................C=10, gamma=scale;, score=0.647 total time=   6.1s\n",
      "[CV 2/5] END .................C=10, gamma=scale;, score=0.941 total time=   5.7s\n",
      "[CV 3/5] END .................C=10, gamma=scale;, score=0.853 total time=   4.0s\n",
      "[CV 4/5] END .................C=10, gamma=scale;, score=0.636 total time=   4.0s\n",
      "[CV 5/5] END .................C=10, gamma=scale;, score=0.879 total time=   4.0s\n",
      "[CV 1/5] END ................C=1000, gamma=auto;, score=0.647 total time=   3.8s\n",
      "[CV 2/5] END ................C=1000, gamma=auto;, score=0.941 total time=   4.0s\n",
      "[CV 3/5] END ................C=1000, gamma=auto;, score=0.853 total time=   4.0s\n",
      "[CV 4/5] END ................C=1000, gamma=auto;, score=0.636 total time=   3.8s\n",
      "[CV 5/5] END ................C=1000, gamma=auto;, score=0.879 total time=   3.9s\n",
      "[CV 1/5] END ...............C=1000, gamma=scale;, score=0.647 total time=   3.9s\n",
      "[CV 2/5] END ...............C=1000, gamma=scale;, score=0.941 total time=   4.1s\n",
      "[CV 3/5] END ...............C=1000, gamma=scale;, score=0.853 total time=   4.1s\n",
      "[CV 4/5] END ...............C=1000, gamma=scale;, score=0.636 total time=   4.1s\n",
      "[CV 5/5] END ...............C=1000, gamma=scale;, score=0.879 total time=   3.9s\n"
     ]
    },
    {
     "output_type": "stream",
     "name": "stderr",
     "text": [
      "100%|██████████| 4/4 [00:01<00:00,  3.39it/s]\n"
     ]
    },
    {
     "output_type": "stream",
     "name": "stdout",
     "text": [
      "{'C': [1, 5, 10, 1000], 'gamma': ['auto', 'scale']}\n",
      "Fitting 5 folds for each of 8 candidates, totalling 40 fits\n",
      "[CV 1/5] END ...................C=1, gamma=auto;, score=0.794 total time=   3.8s\n",
      "[CV 2/5] END ...................C=1, gamma=auto;, score=0.912 total time=   3.8s\n",
      "[CV 3/5] END ...................C=1, gamma=auto;, score=0.676 total time=   4.0s\n",
      "[CV 4/5] END ...................C=1, gamma=auto;, score=1.000 total time=   4.2s\n",
      "[CV 5/5] END ...................C=1, gamma=auto;, score=0.909 total time=   4.0s\n",
      "[CV 1/5] END ..................C=1, gamma=scale;, score=0.794 total time=   4.0s\n",
      "[CV 2/5] END ..................C=1, gamma=scale;, score=0.882 total time=   4.1s\n",
      "[CV 3/5] END ..................C=1, gamma=scale;, score=0.676 total time=   3.9s\n",
      "[CV 4/5] END ..................C=1, gamma=scale;, score=1.000 total time=   4.0s\n",
      "[CV 5/5] END ..................C=1, gamma=scale;, score=0.909 total time=   4.0s\n",
      "[CV 1/5] END ...................C=5, gamma=auto;, score=0.794 total time=   3.8s\n",
      "[CV 2/5] END ...................C=5, gamma=auto;, score=0.882 total time=   4.0s\n",
      "[CV 3/5] END ...................C=5, gamma=auto;, score=0.618 total time=   3.9s\n",
      "[CV 4/5] END ...................C=5, gamma=auto;, score=0.970 total time=   3.9s\n",
      "[CV 5/5] END ...................C=5, gamma=auto;, score=0.909 total time=   3.8s\n",
      "[CV 1/5] END ..................C=5, gamma=scale;, score=0.765 total time=   4.0s\n",
      "[CV 2/5] END ..................C=5, gamma=scale;, score=0.882 total time=   4.0s\n",
      "[CV 3/5] END ..................C=5, gamma=scale;, score=0.618 total time=   3.8s\n",
      "[CV 4/5] END ..................C=5, gamma=scale;, score=0.970 total time=   4.1s\n",
      "[CV 5/5] END ..................C=5, gamma=scale;, score=0.909 total time=   4.1s\n",
      "[CV 1/5] END ..................C=10, gamma=auto;, score=0.794 total time=   3.9s\n",
      "[CV 2/5] END ..................C=10, gamma=auto;, score=0.882 total time=   3.9s\n",
      "[CV 3/5] END ..................C=10, gamma=auto;, score=0.618 total time=   3.7s\n",
      "[CV 4/5] END ..................C=10, gamma=auto;, score=0.970 total time=   3.9s\n",
      "[CV 5/5] END ..................C=10, gamma=auto;, score=0.909 total time=   3.8s\n",
      "[CV 1/5] END .................C=10, gamma=scale;, score=0.765 total time=   4.0s\n",
      "[CV 2/5] END .................C=10, gamma=scale;, score=0.882 total time=   4.1s\n",
      "[CV 3/5] END .................C=10, gamma=scale;, score=0.618 total time=   3.9s\n",
      "[CV 4/5] END .................C=10, gamma=scale;, score=0.970 total time=   4.1s\n",
      "[CV 5/5] END .................C=10, gamma=scale;, score=0.909 total time=   3.9s\n",
      "[CV 1/5] END ................C=1000, gamma=auto;, score=0.794 total time=   3.8s\n",
      "[CV 2/5] END ................C=1000, gamma=auto;, score=0.882 total time=   3.9s\n",
      "[CV 3/5] END ................C=1000, gamma=auto;, score=0.618 total time=   3.7s\n",
      "[CV 4/5] END ................C=1000, gamma=auto;, score=0.970 total time=   3.9s\n",
      "[CV 5/5] END ................C=1000, gamma=auto;, score=0.909 total time=   3.8s\n",
      "[CV 1/5] END ...............C=1000, gamma=scale;, score=0.765 total time=   4.0s\n",
      "[CV 2/5] END ...............C=1000, gamma=scale;, score=0.882 total time=   4.1s\n",
      "[CV 3/5] END ...............C=1000, gamma=scale;, score=0.618 total time=   3.9s\n",
      "[CV 4/5] END ...............C=1000, gamma=scale;, score=0.970 total time=   4.1s\n",
      "[CV 5/5] END ...............C=1000, gamma=scale;, score=0.909 total time=   4.0s\n"
     ]
    },
    {
     "output_type": "stream",
     "name": "stderr",
     "text": [
      "100%|██████████| 4/4 [00:01<00:00,  3.46it/s]\n"
     ]
    },
    {
     "output_type": "stream",
     "name": "stdout",
     "text": [
      "{'C': [1, 5, 10, 1000], 'gamma': ['auto', 'scale']}\n",
      "Fitting 5 folds for each of 8 candidates, totalling 40 fits\n",
      "[CV 1/5] END ...................C=1, gamma=auto;, score=0.588 total time=   4.1s\n",
      "[CV 2/5] END ...................C=1, gamma=auto;, score=0.676 total time=   4.1s\n",
      "[CV 3/5] END ...................C=1, gamma=auto;, score=0.735 total time=   4.0s\n",
      "[CV 4/5] END ...................C=1, gamma=auto;, score=0.636 total time=   4.0s\n",
      "[CV 5/5] END ...................C=1, gamma=auto;, score=0.636 total time=   4.0s\n",
      "[CV 1/5] END ..................C=1, gamma=scale;, score=0.588 total time=   4.1s\n",
      "[CV 2/5] END ..................C=1, gamma=scale;, score=0.676 total time=   4.2s\n",
      "[CV 3/5] END ..................C=1, gamma=scale;, score=0.735 total time=   4.2s\n",
      "[CV 4/5] END ..................C=1, gamma=scale;, score=0.636 total time=   4.3s\n",
      "[CV 5/5] END ..................C=1, gamma=scale;, score=0.636 total time=   4.3s\n",
      "[CV 1/5] END ...................C=5, gamma=auto;, score=0.618 total time=   4.0s\n",
      "[CV 2/5] END ...................C=5, gamma=auto;, score=0.618 total time=   4.1s\n",
      "[CV 3/5] END ...................C=5, gamma=auto;, score=0.676 total time=   4.0s\n",
      "[CV 4/5] END ...................C=5, gamma=auto;, score=0.667 total time=   4.0s\n",
      "[CV 5/5] END ...................C=5, gamma=auto;, score=0.636 total time=   4.1s\n",
      "[CV 1/5] END ..................C=5, gamma=scale;, score=0.588 total time=   4.2s\n",
      "[CV 2/5] END ..................C=5, gamma=scale;, score=0.618 total time=   4.2s\n",
      "[CV 3/5] END ..................C=5, gamma=scale;, score=0.676 total time=   4.3s\n",
      "[CV 4/5] END ..................C=5, gamma=scale;, score=0.667 total time=   4.2s\n",
      "[CV 5/5] END ..................C=5, gamma=scale;, score=0.667 total time=   4.2s\n",
      "[CV 1/5] END ..................C=10, gamma=auto;, score=0.618 total time=   4.1s\n",
      "[CV 2/5] END ..................C=10, gamma=auto;, score=0.618 total time=   4.2s\n",
      "[CV 3/5] END ..................C=10, gamma=auto;, score=0.676 total time=   4.2s\n",
      "[CV 4/5] END ..................C=10, gamma=auto;, score=0.667 total time=   4.4s\n",
      "[CV 5/5] END ..................C=10, gamma=auto;, score=0.636 total time=   4.2s\n",
      "[CV 1/5] END .................C=10, gamma=scale;, score=0.588 total time=   4.3s\n",
      "[CV 2/5] END .................C=10, gamma=scale;, score=0.618 total time=   4.3s\n",
      "[CV 3/5] END .................C=10, gamma=scale;, score=0.676 total time=   4.2s\n",
      "[CV 4/5] END .................C=10, gamma=scale;, score=0.667 total time=   4.2s\n",
      "[CV 5/5] END .................C=10, gamma=scale;, score=0.667 total time=   4.1s\n",
      "[CV 1/5] END ................C=1000, gamma=auto;, score=0.618 total time=   4.2s\n",
      "[CV 2/5] END ................C=1000, gamma=auto;, score=0.618 total time=   4.2s\n",
      "[CV 3/5] END ................C=1000, gamma=auto;, score=0.676 total time=   4.0s\n",
      "[CV 4/5] END ................C=1000, gamma=auto;, score=0.667 total time=   4.0s\n",
      "[CV 5/5] END ................C=1000, gamma=auto;, score=0.636 total time=   4.0s\n",
      "[CV 1/5] END ...............C=1000, gamma=scale;, score=0.588 total time=   4.2s\n",
      "[CV 2/5] END ...............C=1000, gamma=scale;, score=0.618 total time=   4.3s\n",
      "[CV 3/5] END ...............C=1000, gamma=scale;, score=0.676 total time=   4.2s\n",
      "[CV 4/5] END ...............C=1000, gamma=scale;, score=0.667 total time=   4.1s\n",
      "[CV 5/5] END ...............C=1000, gamma=scale;, score=0.667 total time=   4.2s\n"
     ]
    },
    {
     "output_type": "stream",
     "name": "stderr",
     "text": [
      "100%|██████████| 4/4 [00:00<00:00,  4.61it/s]\n"
     ]
    },
    {
     "output_type": "stream",
     "name": "stdout",
     "text": [
      "{'C': [1, 5, 10, 1000], 'gamma': ['auto', 'scale']}\n",
      "Fitting 5 folds for each of 8 candidates, totalling 40 fits\n",
      "[CV 1/5] END ...................C=1, gamma=auto;, score=0.647 total time=   4.1s\n",
      "[CV 2/5] END ...................C=1, gamma=auto;, score=0.765 total time=   3.9s\n",
      "[CV 3/5] END ...................C=1, gamma=auto;, score=0.676 total time=   4.1s\n",
      "[CV 4/5] END ...................C=1, gamma=auto;, score=0.788 total time=   4.1s\n",
      "[CV 5/5] END ...................C=1, gamma=auto;, score=0.909 total time=   4.0s\n",
      "[CV 1/5] END ..................C=1, gamma=scale;, score=0.647 total time=   4.2s\n",
      "[CV 2/5] END ..................C=1, gamma=scale;, score=0.765 total time=   4.1s\n",
      "[CV 3/5] END ..................C=1, gamma=scale;, score=0.676 total time=   4.0s\n",
      "[CV 4/5] END ..................C=1, gamma=scale;, score=0.788 total time=   4.2s\n",
      "[CV 5/5] END ..................C=1, gamma=scale;, score=0.909 total time=   4.1s\n",
      "[CV 1/5] END ...................C=5, gamma=auto;, score=0.647 total time=   3.9s\n",
      "[CV 2/5] END ...................C=5, gamma=auto;, score=0.706 total time=   4.0s\n",
      "[CV 3/5] END ...................C=5, gamma=auto;, score=0.676 total time=   3.9s\n",
      "[CV 4/5] END ...................C=5, gamma=auto;, score=0.788 total time=   4.1s\n",
      "[CV 5/5] END ...................C=5, gamma=auto;, score=0.788 total time=   3.9s\n",
      "[CV 1/5] END ..................C=5, gamma=scale;, score=0.647 total time=   4.1s\n",
      "[CV 2/5] END ..................C=5, gamma=scale;, score=0.706 total time=   4.0s\n",
      "[CV 3/5] END ..................C=5, gamma=scale;, score=0.676 total time=   4.2s\n",
      "[CV 4/5] END ..................C=5, gamma=scale;, score=0.788 total time=   4.3s\n",
      "[CV 5/5] END ..................C=5, gamma=scale;, score=0.788 total time=   4.1s\n",
      "[CV 1/5] END ..................C=10, gamma=auto;, score=0.647 total time=   3.9s\n",
      "[CV 2/5] END ..................C=10, gamma=auto;, score=0.706 total time=   3.9s\n",
      "[CV 3/5] END ..................C=10, gamma=auto;, score=0.676 total time=   3.9s\n",
      "[CV 4/5] END ..................C=10, gamma=auto;, score=0.788 total time=   4.0s\n",
      "[CV 5/5] END ..................C=10, gamma=auto;, score=0.788 total time=   4.0s\n",
      "[CV 1/5] END .................C=10, gamma=scale;, score=0.647 total time=   4.1s\n",
      "[CV 2/5] END .................C=10, gamma=scale;, score=0.706 total time=   4.2s\n",
      "[CV 3/5] END .................C=10, gamma=scale;, score=0.676 total time=   4.2s\n",
      "[CV 4/5] END .................C=10, gamma=scale;, score=0.788 total time=   4.2s\n",
      "[CV 5/5] END .................C=10, gamma=scale;, score=0.788 total time=   4.2s\n",
      "[CV 1/5] END ................C=1000, gamma=auto;, score=0.647 total time=   4.0s\n",
      "[CV 2/5] END ................C=1000, gamma=auto;, score=0.706 total time=   4.0s\n",
      "[CV 3/5] END ................C=1000, gamma=auto;, score=0.676 total time=   4.1s\n",
      "[CV 4/5] END ................C=1000, gamma=auto;, score=0.788 total time=   4.2s\n",
      "[CV 5/5] END ................C=1000, gamma=auto;, score=0.788 total time=   4.1s\n",
      "[CV 1/5] END ...............C=1000, gamma=scale;, score=0.647 total time=   4.2s\n",
      "[CV 2/5] END ...............C=1000, gamma=scale;, score=0.706 total time=   4.1s\n",
      "[CV 3/5] END ...............C=1000, gamma=scale;, score=0.676 total time=   4.2s\n",
      "[CV 4/5] END ...............C=1000, gamma=scale;, score=0.788 total time=   4.3s\n",
      "[CV 5/5] END ...............C=1000, gamma=scale;, score=0.788 total time=   4.2s\n"
     ]
    },
    {
     "output_type": "stream",
     "name": "stderr",
     "text": [
      "100%|██████████| 4/4 [00:01<00:00,  3.78it/s]\n"
     ]
    },
    {
     "output_type": "stream",
     "name": "stdout",
     "text": [
      "{'C': [1, 5, 10, 1000], 'gamma': ['auto', 'scale']}\n",
      "Fitting 5 folds for each of 8 candidates, totalling 40 fits\n",
      "[CV 1/5] END ...................C=1, gamma=auto;, score=0.265 total time=   4.1s\n",
      "[CV 2/5] END ...................C=1, gamma=auto;, score=0.765 total time=   4.0s\n",
      "[CV 3/5] END ...................C=1, gamma=auto;, score=0.471 total time=   4.0s\n",
      "[CV 4/5] END ...................C=1, gamma=auto;, score=0.697 total time=   4.1s\n",
      "[CV 5/5] END ...................C=1, gamma=auto;, score=0.606 total time=   4.0s\n",
      "[CV 1/5] END ..................C=1, gamma=scale;, score=0.265 total time=   4.1s\n",
      "[CV 2/5] END ..................C=1, gamma=scale;, score=0.735 total time=   4.4s\n",
      "[CV 3/5] END ..................C=1, gamma=scale;, score=0.500 total time=   4.2s\n",
      "[CV 4/5] END ..................C=1, gamma=scale;, score=0.697 total time=   4.3s\n",
      "[CV 5/5] END ..................C=1, gamma=scale;, score=0.606 total time=   4.2s\n",
      "[CV 1/5] END ...................C=5, gamma=auto;, score=0.265 total time=   4.0s\n",
      "[CV 2/5] END ...................C=5, gamma=auto;, score=0.706 total time=   4.1s\n",
      "[CV 3/5] END ...................C=5, gamma=auto;, score=0.412 total time=   4.1s\n",
      "[CV 4/5] END ...................C=5, gamma=auto;, score=0.758 total time=   4.2s\n",
      "[CV 5/5] END ...................C=5, gamma=auto;, score=0.697 total time=   4.0s\n",
      "[CV 1/5] END ..................C=5, gamma=scale;, score=0.324 total time=   4.1s\n",
      "[CV 2/5] END ..................C=5, gamma=scale;, score=0.706 total time=   4.2s\n",
      "[CV 3/5] END ..................C=5, gamma=scale;, score=0.441 total time=   4.1s\n",
      "[CV 4/5] END ..................C=5, gamma=scale;, score=0.758 total time=   4.1s\n",
      "[CV 5/5] END ..................C=5, gamma=scale;, score=0.697 total time=   4.1s\n",
      "[CV 1/5] END ..................C=10, gamma=auto;, score=0.265 total time=   4.0s\n",
      "[CV 2/5] END ..................C=10, gamma=auto;, score=0.706 total time=   4.2s\n",
      "[CV 3/5] END ..................C=10, gamma=auto;, score=0.412 total time=   4.1s\n",
      "[CV 4/5] END ..................C=10, gamma=auto;, score=0.758 total time=   4.0s\n",
      "[CV 5/5] END ..................C=10, gamma=auto;, score=0.697 total time=   4.1s\n",
      "[CV 1/5] END .................C=10, gamma=scale;, score=0.324 total time=   4.2s\n",
      "[CV 2/5] END .................C=10, gamma=scale;, score=0.706 total time=   4.3s\n",
      "[CV 3/5] END .................C=10, gamma=scale;, score=0.441 total time=   4.3s\n",
      "[CV 4/5] END .................C=10, gamma=scale;, score=0.758 total time=   4.2s\n",
      "[CV 5/5] END .................C=10, gamma=scale;, score=0.697 total time=   4.1s\n",
      "[CV 1/5] END ................C=1000, gamma=auto;, score=0.265 total time=   4.0s\n",
      "[CV 2/5] END ................C=1000, gamma=auto;, score=0.706 total time=   4.0s\n",
      "[CV 3/5] END ................C=1000, gamma=auto;, score=0.412 total time=   4.0s\n",
      "[CV 4/5] END ................C=1000, gamma=auto;, score=0.758 total time=   4.0s\n",
      "[CV 5/5] END ................C=1000, gamma=auto;, score=0.697 total time=   4.0s\n",
      "[CV 1/5] END ...............C=1000, gamma=scale;, score=0.324 total time=   4.1s\n",
      "[CV 2/5] END ...............C=1000, gamma=scale;, score=0.706 total time=   4.2s\n",
      "[CV 3/5] END ...............C=1000, gamma=scale;, score=0.441 total time=   4.2s\n",
      "[CV 4/5] END ...............C=1000, gamma=scale;, score=0.758 total time=   4.1s\n",
      "[CV 5/5] END ...............C=1000, gamma=scale;, score=0.697 total time=   4.2s\n"
     ]
    },
    {
     "output_type": "stream",
     "name": "stderr",
     "text": [
      "100%|██████████| 4/4 [00:00<00:00,  5.08it/s]\n"
     ]
    },
    {
     "output_type": "stream",
     "name": "stdout",
     "text": [
      "{'C': [1, 5, 10, 1000], 'gamma': ['auto', 'scale']}\n",
      "Fitting 5 folds for each of 8 candidates, totalling 40 fits\n",
      "[CV 1/5] END ...................C=1, gamma=auto;, score=0.706 total time=   3.6s\n",
      "[CV 2/5] END ...................C=1, gamma=auto;, score=1.000 total time=   4.4s\n",
      "[CV 3/5] END ...................C=1, gamma=auto;, score=0.735 total time=   3.9s\n",
      "[CV 4/5] END ...................C=1, gamma=auto;, score=0.939 total time=   4.2s\n",
      "[CV 5/5] END ...................C=1, gamma=auto;, score=1.000 total time=   4.5s\n",
      "[CV 1/5] END ..................C=1, gamma=scale;, score=0.706 total time=   6.3s\n",
      "[CV 2/5] END ..................C=1, gamma=scale;, score=1.000 total time=   6.3s\n",
      "[CV 3/5] END ..................C=1, gamma=scale;, score=0.735 total time=   3.6s\n",
      "[CV 4/5] END ..................C=1, gamma=scale;, score=0.939 total time=   3.8s\n",
      "[CV 5/5] END ..................C=1, gamma=scale;, score=1.000 total time=   3.8s\n",
      "[CV 1/5] END ...................C=5, gamma=auto;, score=0.706 total time=   3.4s\n",
      "[CV 2/5] END ...................C=5, gamma=auto;, score=1.000 total time=   3.6s\n",
      "[CV 3/5] END ...................C=5, gamma=auto;, score=0.735 total time=   3.5s\n",
      "[CV 4/5] END ...................C=5, gamma=auto;, score=0.939 total time=   3.7s\n",
      "[CV 5/5] END ...................C=5, gamma=auto;, score=1.000 total time=   3.6s\n",
      "[CV 1/5] END ..................C=5, gamma=scale;, score=0.706 total time=   3.6s\n",
      "[CV 2/5] END ..................C=5, gamma=scale;, score=1.000 total time=   3.7s\n",
      "[CV 3/5] END ..................C=5, gamma=scale;, score=0.735 total time=   3.7s\n",
      "[CV 4/5] END ..................C=5, gamma=scale;, score=0.939 total time=   3.9s\n",
      "[CV 5/5] END ..................C=5, gamma=scale;, score=1.000 total time=   3.8s\n",
      "[CV 1/5] END ..................C=10, gamma=auto;, score=0.706 total time=   3.4s\n",
      "[CV 2/5] END ..................C=10, gamma=auto;, score=1.000 total time=   3.6s\n",
      "[CV 3/5] END ..................C=10, gamma=auto;, score=0.735 total time=   3.6s\n",
      "[CV 4/5] END ..................C=10, gamma=auto;, score=0.939 total time=   3.8s\n",
      "[CV 5/5] END ..................C=10, gamma=auto;, score=1.000 total time=   3.7s\n",
      "[CV 1/5] END .................C=10, gamma=scale;, score=0.706 total time=   3.6s\n",
      "[CV 2/5] END .................C=10, gamma=scale;, score=1.000 total time=   3.7s\n",
      "[CV 3/5] END .................C=10, gamma=scale;, score=0.735 total time=   3.6s\n",
      "[CV 4/5] END .................C=10, gamma=scale;, score=0.939 total time=   3.9s\n",
      "[CV 5/5] END .................C=10, gamma=scale;, score=1.000 total time=   3.8s\n",
      "[CV 1/5] END ................C=1000, gamma=auto;, score=0.706 total time=   3.5s\n",
      "[CV 2/5] END ................C=1000, gamma=auto;, score=1.000 total time=   3.5s\n",
      "[CV 3/5] END ................C=1000, gamma=auto;, score=0.735 total time=   3.5s\n",
      "[CV 4/5] END ................C=1000, gamma=auto;, score=0.939 total time=   3.9s\n",
      "[CV 5/5] END ................C=1000, gamma=auto;, score=1.000 total time=   3.7s\n",
      "[CV 1/5] END ...............C=1000, gamma=scale;, score=0.706 total time=   3.6s\n",
      "[CV 2/5] END ...............C=1000, gamma=scale;, score=1.000 total time=   3.7s\n",
      "[CV 3/5] END ...............C=1000, gamma=scale;, score=0.735 total time=   3.7s\n",
      "[CV 4/5] END ...............C=1000, gamma=scale;, score=0.939 total time=   4.0s\n",
      "[CV 5/5] END ...............C=1000, gamma=scale;, score=1.000 total time=   3.9s\n"
     ]
    },
    {
     "output_type": "stream",
     "name": "stderr",
     "text": [
      "100%|██████████| 4/4 [00:01<00:00,  3.56it/s]\n"
     ]
    },
    {
     "output_type": "stream",
     "name": "stdout",
     "text": [
      "{'C': [1, 5, 10, 1000], 'gamma': ['auto', 'scale']}\n",
      "Fitting 5 folds for each of 8 candidates, totalling 40 fits\n",
      "[CV 1/5] END ...................C=1, gamma=auto;, score=0.853 total time=   4.6s\n",
      "[CV 2/5] END ...................C=1, gamma=auto;, score=0.941 total time=   4.5s\n",
      "[CV 3/5] END ...................C=1, gamma=auto;, score=0.794 total time=   4.4s\n",
      "[CV 4/5] END ...................C=1, gamma=auto;, score=0.970 total time=   4.2s\n",
      "[CV 5/5] END ...................C=1, gamma=auto;, score=0.970 total time=   4.4s\n",
      "[CV 1/5] END ..................C=1, gamma=scale;, score=0.853 total time=   4.7s\n",
      "[CV 2/5] END ..................C=1, gamma=scale;, score=0.941 total time=   4.6s\n",
      "[CV 3/5] END ..................C=1, gamma=scale;, score=0.794 total time=   4.7s\n",
      "[CV 4/5] END ..................C=1, gamma=scale;, score=0.970 total time=   4.3s\n",
      "[CV 5/5] END ..................C=1, gamma=scale;, score=0.970 total time=   4.4s\n",
      "[CV 1/5] END ...................C=5, gamma=auto;, score=0.824 total time=   4.2s\n",
      "[CV 2/5] END ...................C=5, gamma=auto;, score=0.971 total time=   4.3s\n",
      "[CV 3/5] END ...................C=5, gamma=auto;, score=0.794 total time=   4.4s\n",
      "[CV 4/5] END ...................C=5, gamma=auto;, score=0.939 total time=   4.2s\n",
      "[CV 5/5] END ...................C=5, gamma=auto;, score=0.939 total time=   4.3s\n",
      "[CV 1/5] END ..................C=5, gamma=scale;, score=0.824 total time=   4.4s\n",
      "[CV 2/5] END ..................C=5, gamma=scale;, score=0.971 total time=   4.5s\n",
      "[CV 3/5] END ..................C=5, gamma=scale;, score=0.794 total time=   4.5s\n",
      "[CV 4/5] END ..................C=5, gamma=scale;, score=0.939 total time=   4.6s\n",
      "[CV 5/5] END ..................C=5, gamma=scale;, score=0.939 total time=   4.5s\n",
      "[CV 1/5] END ..................C=10, gamma=auto;, score=0.824 total time=   4.3s\n",
      "[CV 2/5] END ..................C=10, gamma=auto;, score=0.971 total time=   4.3s\n",
      "[CV 3/5] END ..................C=10, gamma=auto;, score=0.794 total time=   4.3s\n",
      "[CV 4/5] END ..................C=10, gamma=auto;, score=0.939 total time=   4.3s\n",
      "[CV 5/5] END ..................C=10, gamma=auto;, score=0.939 total time=   4.2s\n",
      "[CV 1/5] END .................C=10, gamma=scale;, score=0.824 total time=   4.3s\n",
      "[CV 2/5] END .................C=10, gamma=scale;, score=0.971 total time=   4.5s\n",
      "[CV 3/5] END .................C=10, gamma=scale;, score=0.794 total time=   4.5s\n",
      "[CV 4/5] END .................C=10, gamma=scale;, score=0.939 total time=   4.4s\n",
      "[CV 5/5] END .................C=10, gamma=scale;, score=0.939 total time=   4.5s\n",
      "[CV 1/5] END ................C=1000, gamma=auto;, score=0.824 total time=   4.3s\n",
      "[CV 2/5] END ................C=1000, gamma=auto;, score=0.971 total time=   4.4s\n",
      "[CV 3/5] END ................C=1000, gamma=auto;, score=0.794 total time=   4.5s\n",
      "[CV 4/5] END ................C=1000, gamma=auto;, score=0.939 total time=   4.3s\n",
      "[CV 5/5] END ................C=1000, gamma=auto;, score=0.939 total time=   4.4s\n",
      "[CV 1/5] END ...............C=1000, gamma=scale;, score=0.824 total time=   4.3s\n",
      "[CV 2/5] END ...............C=1000, gamma=scale;, score=0.971 total time=   4.4s\n",
      "[CV 3/5] END ...............C=1000, gamma=scale;, score=0.794 total time=   4.5s\n",
      "[CV 4/5] END ...............C=1000, gamma=scale;, score=0.939 total time=   4.4s\n",
      "[CV 5/5] END ...............C=1000, gamma=scale;, score=0.939 total time=   4.5s\n"
     ]
    },
    {
     "output_type": "stream",
     "name": "stderr",
     "text": [
      "100%|██████████| 4/4 [00:01<00:00,  3.64it/s]\n"
     ]
    },
    {
     "output_type": "stream",
     "name": "stdout",
     "text": [
      "{'C': [1, 5, 10, 1000], 'gamma': ['auto', 'scale']}\n",
      "Fitting 5 folds for each of 8 candidates, totalling 40 fits\n",
      "[CV 1/5] END ...................C=1, gamma=auto;, score=0.647 total time=   3.9s\n",
      "[CV 2/5] END ...................C=1, gamma=auto;, score=0.676 total time=   4.1s\n",
      "[CV 3/5] END ...................C=1, gamma=auto;, score=0.559 total time=   4.0s\n",
      "[CV 4/5] END ...................C=1, gamma=auto;, score=0.939 total time=   4.1s\n",
      "[CV 5/5] END ...................C=1, gamma=auto;, score=1.000 total time=   4.1s\n",
      "[CV 1/5] END ..................C=1, gamma=scale;, score=0.647 total time=   4.3s\n",
      "[CV 2/5] END ..................C=1, gamma=scale;, score=0.676 total time=   4.3s\n",
      "[CV 3/5] END ..................C=1, gamma=scale;, score=0.559 total time=   4.2s\n",
      "[CV 4/5] END ..................C=1, gamma=scale;, score=0.939 total time=   4.3s\n",
      "[CV 5/5] END ..................C=1, gamma=scale;, score=1.000 total time=   4.4s\n",
      "[CV 1/5] END ...................C=5, gamma=auto;, score=0.647 total time=   4.4s\n",
      "[CV 2/5] END ...................C=5, gamma=auto;, score=0.676 total time=   4.3s\n",
      "[CV 3/5] END ...................C=5, gamma=auto;, score=0.588 total time=   4.1s\n",
      "[CV 4/5] END ...................C=5, gamma=auto;, score=0.939 total time=   4.1s\n",
      "[CV 5/5] END ...................C=5, gamma=auto;, score=1.000 total time=   4.1s\n",
      "[CV 1/5] END ..................C=5, gamma=scale;, score=0.647 total time=   4.1s\n",
      "[CV 2/5] END ..................C=5, gamma=scale;, score=0.676 total time=   4.2s\n",
      "[CV 3/5] END ..................C=5, gamma=scale;, score=0.588 total time=   4.2s\n",
      "[CV 4/5] END ..................C=5, gamma=scale;, score=0.939 total time=   4.3s\n",
      "[CV 5/5] END ..................C=5, gamma=scale;, score=1.000 total time=   4.3s\n",
      "[CV 1/5] END ..................C=10, gamma=auto;, score=0.647 total time=   4.1s\n",
      "[CV 2/5] END ..................C=10, gamma=auto;, score=0.676 total time=   4.1s\n",
      "[CV 3/5] END ..................C=10, gamma=auto;, score=0.588 total time=   4.0s\n",
      "[CV 4/5] END ..................C=10, gamma=auto;, score=0.939 total time=   4.1s\n",
      "[CV 5/5] END ..................C=10, gamma=auto;, score=1.000 total time=   4.0s\n",
      "[CV 1/5] END .................C=10, gamma=scale;, score=0.647 total time=   4.2s\n",
      "[CV 2/5] END .................C=10, gamma=scale;, score=0.676 total time=   4.3s\n",
      "[CV 3/5] END .................C=10, gamma=scale;, score=0.588 total time=   4.1s\n",
      "[CV 4/5] END .................C=10, gamma=scale;, score=0.939 total time=   4.3s\n",
      "[CV 5/5] END .................C=10, gamma=scale;, score=1.000 total time=   4.2s\n",
      "[CV 1/5] END ................C=1000, gamma=auto;, score=0.647 total time=   4.0s\n",
      "[CV 2/5] END ................C=1000, gamma=auto;, score=0.676 total time=   4.0s\n",
      "[CV 3/5] END ................C=1000, gamma=auto;, score=0.588 total time=   4.0s\n",
      "[CV 4/5] END ................C=1000, gamma=auto;, score=0.939 total time=   4.1s\n",
      "[CV 5/5] END ................C=1000, gamma=auto;, score=1.000 total time=   4.1s\n",
      "[CV 1/5] END ...............C=1000, gamma=scale;, score=0.647 total time=   4.2s\n",
      "[CV 2/5] END ...............C=1000, gamma=scale;, score=0.676 total time=   4.1s\n",
      "[CV 3/5] END ...............C=1000, gamma=scale;, score=0.588 total time=   4.1s\n",
      "[CV 4/5] END ...............C=1000, gamma=scale;, score=0.939 total time=   4.2s\n",
      "[CV 5/5] END ...............C=1000, gamma=scale;, score=1.000 total time=   4.3s\n"
     ]
    },
    {
     "output_type": "stream",
     "name": "stderr",
     "text": [
      "100%|██████████| 4/4 [00:01<00:00,  3.72it/s]\n"
     ]
    },
    {
     "output_type": "stream",
     "name": "stdout",
     "text": [
      "{'C': [1, 5, 10, 1000], 'gamma': ['auto', 'scale']}\n",
      "Fitting 5 folds for each of 8 candidates, totalling 40 fits\n",
      "[CV 1/5] END ...................C=1, gamma=auto;, score=0.500 total time=   4.1s\n",
      "[CV 2/5] END ...................C=1, gamma=auto;, score=0.706 total time=   4.1s\n",
      "[CV 3/5] END ...................C=1, gamma=auto;, score=0.676 total time=   4.1s\n",
      "[CV 4/5] END ...................C=1, gamma=auto;, score=0.788 total time=   4.1s\n",
      "[CV 5/5] END ...................C=1, gamma=auto;, score=0.545 total time=   4.0s\n",
      "[CV 1/5] END ..................C=1, gamma=scale;, score=0.500 total time=   4.2s\n",
      "[CV 2/5] END ..................C=1, gamma=scale;, score=0.706 total time=   4.3s\n",
      "[CV 3/5] END ..................C=1, gamma=scale;, score=0.676 total time=   4.1s\n",
      "[CV 4/5] END ..................C=1, gamma=scale;, score=0.818 total time=   4.2s\n",
      "[CV 5/5] END ..................C=1, gamma=scale;, score=0.545 total time=   4.1s\n",
      "[CV 1/5] END ...................C=5, gamma=auto;, score=0.588 total time=   4.0s\n",
      "[CV 2/5] END ...................C=5, gamma=auto;, score=0.735 total time=   4.1s\n",
      "[CV 3/5] END ...................C=5, gamma=auto;, score=0.706 total time=   4.0s\n",
      "[CV 4/5] END ...................C=5, gamma=auto;, score=0.788 total time=   4.0s\n",
      "[CV 5/5] END ...................C=5, gamma=auto;, score=0.636 total time=   4.1s\n",
      "[CV 1/5] END ..................C=5, gamma=scale;, score=0.588 total time=   4.2s\n",
      "[CV 2/5] END ..................C=5, gamma=scale;, score=0.735 total time=   4.2s\n",
      "[CV 3/5] END ..................C=5, gamma=scale;, score=0.706 total time=   4.1s\n",
      "[CV 4/5] END ..................C=5, gamma=scale;, score=0.788 total time=   4.1s\n",
      "[CV 5/5] END ..................C=5, gamma=scale;, score=0.636 total time=   4.2s\n",
      "[CV 1/5] END ..................C=10, gamma=auto;, score=0.588 total time=   4.2s\n",
      "[CV 2/5] END ..................C=10, gamma=auto;, score=0.735 total time=   4.1s\n",
      "[CV 3/5] END ..................C=10, gamma=auto;, score=0.706 total time=   4.1s\n",
      "[CV 4/5] END ..................C=10, gamma=auto;, score=0.788 total time=   4.1s\n",
      "[CV 5/5] END ..................C=10, gamma=auto;, score=0.636 total time=   4.1s\n",
      "[CV 1/5] END .................C=10, gamma=scale;, score=0.588 total time=   4.3s\n",
      "[CV 2/5] END .................C=10, gamma=scale;, score=0.735 total time=   4.1s\n",
      "[CV 3/5] END .................C=10, gamma=scale;, score=0.706 total time=   4.2s\n",
      "[CV 4/5] END .................C=10, gamma=scale;, score=0.788 total time=   4.2s\n",
      "[CV 5/5] END .................C=10, gamma=scale;, score=0.636 total time=   4.2s\n",
      "[CV 1/5] END ................C=1000, gamma=auto;, score=0.588 total time=   4.1s\n",
      "[CV 2/5] END ................C=1000, gamma=auto;, score=0.735 total time=   4.1s\n",
      "[CV 3/5] END ................C=1000, gamma=auto;, score=0.706 total time=   4.1s\n",
      "[CV 4/5] END ................C=1000, gamma=auto;, score=0.788 total time=   4.1s\n",
      "[CV 5/5] END ................C=1000, gamma=auto;, score=0.636 total time=   4.2s\n",
      "[CV 1/5] END ...............C=1000, gamma=scale;, score=0.588 total time=   4.4s\n",
      "[CV 2/5] END ...............C=1000, gamma=scale;, score=0.735 total time=   4.2s\n",
      "[CV 3/5] END ...............C=1000, gamma=scale;, score=0.706 total time=   4.2s\n",
      "[CV 4/5] END ...............C=1000, gamma=scale;, score=0.788 total time=   4.1s\n",
      "[CV 5/5] END ...............C=1000, gamma=scale;, score=0.636 total time=   4.2s\n"
     ]
    }
   ]
  },
  {
   "cell_type": "code",
   "source": [
    "scaled_data"
   ],
   "metadata": {
    "colab": {
     "base_uri": "https://localhost:8080/"
    },
    "id": "SH1Ijy402Vah",
    "outputId": "579f937c-0339-4db5-9891-532b7961db06"
   },
   "execution_count": null,
   "outputs": [
    {
     "output_type": "execute_result",
     "data": {
      "text/plain": [
       "{'run_02': array([[ 0.        ,  0.        ,  0.        , ..., -0.35537407,\n",
       "         -0.28912827, -0.15646337],\n",
       "        [ 0.        ,  0.        ,  0.        , ..., -0.3566215 ,\n",
       "         -0.29077935, -0.16021122],\n",
       "        [ 0.        ,  0.        ,  0.        , ...,  2.8391807 ,\n",
       "          2.9680855 ,  1.7116985 ],\n",
       "        ...,\n",
       "        [ 0.        ,  0.        ,  0.        , ...,  2.7306352 ,\n",
       "          2.807277  ,  1.3825058 ],\n",
       "        [ 0.        ,  0.        ,  0.        , ...,  2.780192  ,\n",
       "          2.8530087 ,  1.4065295 ],\n",
       "        [ 0.        ,  0.        ,  0.        , ...,  1.2044214 ,\n",
       "          0.02133828, -0.35965276]], dtype=float32),\n",
       " 'run_03': array([[ 0.        ,  0.        ,  0.        , ...,  0.1804529 ,\n",
       "          0.2650536 , -0.84340256],\n",
       "        [ 0.        ,  0.        ,  0.        , ..., -1.8602828 ,\n",
       "         -2.2273705 , -1.2860752 ],\n",
       "        [ 0.        ,  0.        ,  0.        , ..., -1.5041631 ,\n",
       "         -1.92538   , -1.2338098 ],\n",
       "        ...,\n",
       "        [ 0.        ,  0.        ,  0.        , ..., -0.6854952 ,\n",
       "         -1.2833894 , -1.1471124 ],\n",
       "        [ 0.        ,  0.        ,  0.        , ..., -1.8705071 ,\n",
       "         -1.597529  , -1.1982994 ],\n",
       "        [ 0.        ,  0.        ,  0.        , ...,  0.97612095,\n",
       "          0.9045747 , -0.17412587]], dtype=float32),\n",
       " 'run_04': array([[ 0.        ,  0.        ,  0.        , ..., -0.06717072,\n",
       "         -0.06717072,  0.        ],\n",
       "        [ 0.        ,  0.        ,  0.        , ..., -0.06819788,\n",
       "         -0.06819788,  0.        ],\n",
       "        [ 0.        ,  0.        ,  0.        , ..., -0.06922506,\n",
       "         -0.06922505,  0.        ],\n",
       "        ...,\n",
       "        [ 0.        ,  0.        ,  0.        , ..., -0.15037154,\n",
       "         -0.15037154,  0.        ],\n",
       "        [ 0.        ,  0.        ,  0.        , ..., -0.15139872,\n",
       "         -0.1513987 ,  0.        ],\n",
       "        [ 0.        ,  0.        ,  0.        , ..., -0.15242589,\n",
       "         -0.15242587,  0.        ]], dtype=float32)}"
      ]
     },
     "metadata": {},
     "execution_count": 25
    }
   ]
  }
 ],
 "metadata": {
  "colab": {
   "collapsed_sections": [],
   "machine_shape": "hm",
   "name": "SingleSubjectSVM_Norm_CV",
   "provenance": [],
   "include_colab_link": true
  },
  "kernelspec": {
   "display_name": "Python 3",
   "name": "python3"
  },
  "language_info": {
   "name": "python"
  },
  "pycharm": {
   "stem_cell": {
    "cell_type": "raw",
    "source": [],
    "metadata": {
     "collapsed": false
    }
   }
  }
 },
 "nbformat": 4,
 "nbformat_minor": 0
}