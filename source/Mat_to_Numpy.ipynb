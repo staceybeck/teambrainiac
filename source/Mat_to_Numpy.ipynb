{
 "cells": [
  {
   "cell_type": "markdown",
   "metadata": {},
   "source": [
    "## Load Data and Convert MATLAB data files to Numpy Array from S3 Storage\n",
    "- This is a demonstration for how we can access our data from AWS using our data path dictionary pickle file and convert the .mat data to numpy arrays\n",
    "- Option to save the numpy array data in ./source/data directory "
   ]
  },
  {
   "cell_type": "code",
   "execution_count": 1,
   "metadata": {
    "pycharm": {
     "is_executing": false,
     "name": "#%%\n"
    }
   },
   "outputs": [],
   "source": [
    "# Import libraries\n",
    "import pickle\n",
    "from utils import *\n",
    "import numpy as np\n",
    "import matplotlib.pyplot as plt"
   ]
  },
  {
   "cell_type": "code",
   "execution_count": 2,
   "metadata": {},
   "outputs": [
    {
     "name": "stdout",
     "output_type": "stream",
     "text": [
      "Dictionary contents: \n"
     ]
    },
    {
     "data": {
      "text/plain": [
       "defaultdict(list,\n",
       "            {'subject_data': ['svm_data/10004_08693/svm_subj_vecs.mat',\n",
       "              'svm_data/10008_09924/svm_subj_vecs.mat',\n",
       "              'svm_data/10009_08848/svm_subj_vecs.mat',\n",
       "              'svm_data/10016_09694/svm_subj_vecs.mat',\n",
       "              'svm_data/10017_08894/svm_subj_vecs.mat',\n",
       "              'svm_data/10018_08907/svm_subj_vecs.mat',\n",
       "              'svm_data/10021_08839/svm_subj_vecs.mat',\n",
       "              'svm_data/10022_08854/svm_subj_vecs.mat',\n",
       "              'svm_data/10023_09126/svm_subj_vecs.mat',\n",
       "              'svm_data/10027_09455/svm_subj_vecs.mat',\n",
       "              'svm_data/10033_08871/svm_subj_vecs.mat',\n",
       "              'svm_data/10034_08879/svm_subj_vecs.mat',\n",
       "              'svm_data/10035_08847/svm_subj_vecs.mat',\n",
       "              'svm_data/10036_09800/svm_subj_vecs.mat',\n",
       "              'svm_data/10037_09903/svm_subj_vecs.mat',\n",
       "              'svm_data/10038_09063/svm_subj_vecs.mat',\n",
       "              'svm_data/10039_08941/svm_subj_vecs.mat',\n",
       "              'svm_data/10042_08990/svm_subj_vecs.mat',\n",
       "              'svm_data/10043_09222/svm_subj_vecs.mat',\n",
       "              'svm_data/10045_08968/svm_subj_vecs.mat',\n",
       "              'svm_data/10046_09216/svm_subj_vecs.mat',\n",
       "              'svm_data/10047_09030/svm_subj_vecs.mat',\n",
       "              'svm_data/10050_09079/svm_subj_vecs.mat',\n",
       "              'svm_data/10053_09018/svm_subj_vecs.mat',\n",
       "              'svm_data/10056_09615/svm_subj_vecs.mat',\n",
       "              'svm_data/10057_10124/svm_subj_vecs.mat',\n",
       "              'svm_data/10060_09359/svm_subj_vecs.mat',\n",
       "              'svm_data/10061_09308/svm_subj_vecs.mat',\n",
       "              'svm_data/10065_09587/svm_subj_vecs.mat',\n",
       "              'svm_data/10066_09687/svm_subj_vecs.mat',\n",
       "              'svm_data/10069_09785/svm_subj_vecs.mat',\n",
       "              'svm_data/10080_09931/svm_subj_vecs.mat',\n",
       "              'svm_data/10084_10188/svm_subj_vecs.mat',\n",
       "              'svm_data/30004_08965/svm_subj_vecs.mat',\n",
       "              'svm_data/30008_08981/svm_subj_vecs.mat',\n",
       "              'svm_data/30009_09227/svm_subj_vecs.mat',\n",
       "              'svm_data/30011_09170/svm_subj_vecs.mat',\n",
       "              'svm_data/30012_09102/svm_subj_vecs.mat',\n",
       "              'svm_data/30014_09352/svm_subj_vecs.mat',\n",
       "              'svm_data/30017_09567/svm_subj_vecs.mat',\n",
       "              'svm_data/30020_09236/svm_subj_vecs.mat',\n",
       "              'svm_data/30024_09398/svm_subj_vecs.mat',\n",
       "              'svm_data/30025_09402/svm_subj_vecs.mat',\n",
       "              'svm_data/30026_09430/svm_subj_vecs.mat',\n",
       "              'svm_data/30027_09638/svm_subj_vecs.mat',\n",
       "              'svm_data/30033_09776/svm_subj_vecs.mat',\n",
       "              'svm_data/30035_09836/svm_subj_vecs.mat',\n",
       "              'svm_data/30036_09758/svm_subj_vecs.mat',\n",
       "              'svm_data/30038_09967/svm_subj_vecs.mat',\n",
       "              'svm_data/30044_10095/svm_subj_vecs.mat',\n",
       "              'svm_data/30045_10182/svm_subj_vecs.mat',\n",
       "              'svm_data/30053_10112/svm_subj_vecs.mat'],\n",
       "             'subject_ID': ['10004_08693',\n",
       "              '10008_09924',\n",
       "              '10009_08848',\n",
       "              '10016_09694',\n",
       "              '10017_08894',\n",
       "              '10018_08907',\n",
       "              '10021_08839',\n",
       "              '10022_08854',\n",
       "              '10023_09126',\n",
       "              '10027_09455',\n",
       "              '10033_08871',\n",
       "              '10034_08879',\n",
       "              '10035_08847',\n",
       "              '10036_09800',\n",
       "              '10037_09903',\n",
       "              '10038_09063',\n",
       "              '10039_08941',\n",
       "              '10042_08990',\n",
       "              '10043_09222',\n",
       "              '10045_08968',\n",
       "              '10046_09216',\n",
       "              '10047_09030',\n",
       "              '10050_09079',\n",
       "              '10053_09018',\n",
       "              '10056_09615',\n",
       "              '10057_10124',\n",
       "              '10060_09359',\n",
       "              '10061_09308',\n",
       "              '10065_09587',\n",
       "              '10066_09687',\n",
       "              '10069_09785',\n",
       "              '10080_09931',\n",
       "              '10084_10188',\n",
       "              '30004_08965',\n",
       "              '30008_08981',\n",
       "              '30009_09227',\n",
       "              '30011_09170',\n",
       "              '30012_09102',\n",
       "              '30014_09352',\n",
       "              '30017_09567',\n",
       "              '30020_09236',\n",
       "              '30024_09398',\n",
       "              '30025_09402',\n",
       "              '30026_09430',\n",
       "              '30027_09638',\n",
       "              '30033_09776',\n",
       "              '30035_09836',\n",
       "              '30036_09758',\n",
       "              '30038_09967',\n",
       "              '30044_10095',\n",
       "              '30045_10182',\n",
       "              '30053_10112'],\n",
       "             'mask_data': ['svm_data/masks/masks.mat'],\n",
       "             'labels': ['svm_data/rt_labels.mat']})"
      ]
     },
     "execution_count": 2,
     "metadata": {},
     "output_type": "execute_result"
    }
   ],
   "source": [
    "#open pickle file\n",
    "path = \"data/data_path_dictionary.pkl\"\n",
    "file_names_dict = open_pickle(path)\n",
    "\n",
    "print(\"Dictionary contents: \")\n",
    "file_names_dict"
   ]
  },
  {
   "cell_type": "code",
   "execution_count": 3,
   "metadata": {},
   "outputs": [
    {
     "name": "stdout",
     "output_type": "stream",
     "text": [
      "path to subject data we want: data/subject_10004_08693_data.mat\n"
     ]
    }
   ],
   "source": [
    "## SUBJECT DATA - one subject\n",
    "# Define object data to get from S3, create file path to download subject data\n",
    "\n",
    "obj = file_names_dict['subject_data'][0]\n",
    "file_name = f\"data/subject_{file_names_dict['subject_ID'][0]}_data.mat\"\n",
    "print(\"path to subject data we want:\", file_name)"
   ]
  },
  {
   "cell_type": "code",
   "execution_count": 9,
   "metadata": {},
   "outputs": [
    {
     "name": "stdout",
     "output_type": "stream",
     "text": [
      "CPU times: user 5.14 s, sys: 2.01 s, total: 7.15 s\n",
      "Wall time: 43.5 s\n"
     ]
    },
    {
     "data": {
      "text/plain": [
       "{'__header__': b'MATLAB 5.0 MAT-file, Platform: GLNXA64, Created on: Wed Feb 23 06:31:07 2022',\n",
       " '__version__': '1.0',\n",
       " '__globals__': [],\n",
       " 'run_04_vec': array([[0, 0, 0, ..., 0, 0, 0],\n",
       "        [0, 0, 0, ..., 0, 0, 0],\n",
       "        [0, 0, 0, ..., 0, 0, 0],\n",
       "        ...,\n",
       "        [0, 0, 0, ..., 0, 0, 0],\n",
       "        [0, 0, 0, ..., 0, 0, 0],\n",
       "        [0, 0, 0, ..., 0, 0, 0]], dtype=int16),\n",
       " 'run_03_vec': array([[0, 0, 0, ..., 0, 0, 0],\n",
       "        [0, 0, 0, ..., 0, 0, 0],\n",
       "        [0, 0, 0, ..., 0, 0, 0],\n",
       "        ...,\n",
       "        [0, 0, 0, ..., 0, 0, 0],\n",
       "        [0, 0, 0, ..., 0, 0, 0],\n",
       "        [0, 0, 0, ..., 0, 0, 0]], dtype=int16),\n",
       " 'run_02_vec': array([[0, 0, 0, ..., 0, 0, 0],\n",
       "        [0, 0, 0, ..., 0, 0, 0],\n",
       "        [0, 0, 0, ..., 0, 0, 0],\n",
       "        ...,\n",
       "        [0, 0, 0, ..., 0, 0, 0],\n",
       "        [0, 0, 0, ..., 0, 0, 0],\n",
       "        [0, 0, 0, ..., 0, 0, 0]], dtype=int16),\n",
       " 'run_01_vec': array([[0, 0, 0, ..., 0, 0, 0],\n",
       "        [0, 0, 0, ..., 0, 0, 0],\n",
       "        [0, 0, 0, ..., 0, 0, 0],\n",
       "        ...,\n",
       "        [0, 0, 0, ..., 0, 0, 0],\n",
       "        [0, 0, 0, ..., 0, 0, 0],\n",
       "        [0, 0, 0, ..., 0, 0, 0]], dtype=int16)}"
      ]
     },
     "execution_count": 9,
     "metadata": {},
     "output_type": "execute_result"
    }
   ],
   "source": [
    "%%time\n",
    "# Get mat data from aws, download to local then load and save as mat_data\n",
    "mat_data = access_load_data(obj, file_name)\n",
    "mat_data"
   ]
  },
  {
   "cell_type": "code",
   "execution_count": 10,
   "metadata": {},
   "outputs": [
    {
     "name": "stdout",
     "output_type": "stream",
     "text": [
      "path to label data we want: data/labels.mat\n"
     ]
    },
    {
     "data": {
      "text/plain": [
       "{'__header__': b'MATLAB 5.0 MAT-file, Platform: GLNXA64, Created on: Wed Feb 23 10:28:26 2022',\n",
       " '__version__': '1.0',\n",
       " '__globals__': [],\n",
       " 'decrease_onsets': array([[ 24,  48,  60,  72,  96, 132]], dtype=uint8),\n",
       " 'increase_onsets': array([[  0,  12,  36,  84, 108, 120]], dtype=uint8),\n",
       " 'rest_ons': array([[  8,  20,  32,  44,  56,  68,  80,  92, 104, 116, 128, 140]],\n",
       "       dtype=uint8),\n",
       " 'rt_labels': array([[9999],\n",
       "        [9999],\n",
       "        [9999],\n",
       "        [   1],\n",
       "        [   1],\n",
       "        [   1],\n",
       "        [   1],\n",
       "        [   1],\n",
       "        [   1],\n",
       "        [   1],\n",
       "        [9999],\n",
       "        [9999],\n",
       "        [9999],\n",
       "        [9999],\n",
       "        [9999],\n",
       "        [   1],\n",
       "        [   1],\n",
       "        [   1],\n",
       "        [   1],\n",
       "        [   1],\n",
       "        [   1],\n",
       "        [   1],\n",
       "        [9999],\n",
       "        [9999],\n",
       "        [9999],\n",
       "        [9999],\n",
       "        [9999],\n",
       "        [   0],\n",
       "        [   0],\n",
       "        [   0],\n",
       "        [   0],\n",
       "        [   0],\n",
       "        [   0],\n",
       "        [   0],\n",
       "        [9999],\n",
       "        [9999],\n",
       "        [9999],\n",
       "        [9999],\n",
       "        [9999],\n",
       "        [   1],\n",
       "        [   1],\n",
       "        [   1],\n",
       "        [   1],\n",
       "        [   1],\n",
       "        [   1],\n",
       "        [   1],\n",
       "        [9999],\n",
       "        [9999],\n",
       "        [9999],\n",
       "        [9999],\n",
       "        [9999],\n",
       "        [   0],\n",
       "        [   0],\n",
       "        [   0],\n",
       "        [   0],\n",
       "        [   0],\n",
       "        [   0],\n",
       "        [   0],\n",
       "        [9999],\n",
       "        [9999],\n",
       "        [9999],\n",
       "        [9999],\n",
       "        [9999],\n",
       "        [   0],\n",
       "        [   0],\n",
       "        [   0],\n",
       "        [   0],\n",
       "        [   0],\n",
       "        [   0],\n",
       "        [   0],\n",
       "        [9999],\n",
       "        [9999],\n",
       "        [9999],\n",
       "        [9999],\n",
       "        [9999],\n",
       "        [   0],\n",
       "        [   0],\n",
       "        [   0],\n",
       "        [   0],\n",
       "        [   0],\n",
       "        [   0],\n",
       "        [   0],\n",
       "        [9999],\n",
       "        [9999],\n",
       "        [9999],\n",
       "        [9999],\n",
       "        [9999],\n",
       "        [   1],\n",
       "        [   1],\n",
       "        [   1],\n",
       "        [   1],\n",
       "        [   1],\n",
       "        [   1],\n",
       "        [   1],\n",
       "        [9999],\n",
       "        [9999],\n",
       "        [9999],\n",
       "        [9999],\n",
       "        [9999],\n",
       "        [   0],\n",
       "        [   0],\n",
       "        [   0],\n",
       "        [   0],\n",
       "        [   0],\n",
       "        [   0],\n",
       "        [   0],\n",
       "        [9999],\n",
       "        [9999],\n",
       "        [9999],\n",
       "        [9999],\n",
       "        [9999],\n",
       "        [   1],\n",
       "        [   1],\n",
       "        [   1],\n",
       "        [   1],\n",
       "        [   1],\n",
       "        [   1],\n",
       "        [   1],\n",
       "        [9999],\n",
       "        [9999],\n",
       "        [9999],\n",
       "        [9999],\n",
       "        [9999],\n",
       "        [   1],\n",
       "        [   1],\n",
       "        [   1],\n",
       "        [   1],\n",
       "        [   1],\n",
       "        [   1],\n",
       "        [   1],\n",
       "        [9999],\n",
       "        [9999],\n",
       "        [9999],\n",
       "        [9999],\n",
       "        [9999],\n",
       "        [   0],\n",
       "        [   0],\n",
       "        [   0],\n",
       "        [   0],\n",
       "        [   0],\n",
       "        [   0],\n",
       "        [   0],\n",
       "        [9999],\n",
       "        [9999]], dtype=uint16)}"
      ]
     },
     "execution_count": 10,
     "metadata": {},
     "output_type": "execute_result"
    }
   ],
   "source": [
    "##LABEL DATA\n",
    "# Define object data to get from S3, create file path to download LABELS\n",
    "\n",
    "obj = file_names_dict['labels'][0]\n",
    "file_name = \"data/labels.mat\"\n",
    "print(\"path to label data we want:\", file_name)\n",
    "\n",
    "label_data = access_load_data(obj, file_name)\n",
    "label_data"
   ]
  },
  {
   "cell_type": "markdown",
   "metadata": {},
   "source": [
    "### Take a look at the Training data and Labels\n",
    "- our mat file is now converted to np.array.\n",
    "- Reshape 2D to 4D\n",
    "- need to know the x, y, z dimensions of the image to reshape"
   ]
  },
  {
   "cell_type": "code",
   "execution_count": 25,
   "metadata": {},
   "outputs": [
    {
     "name": "stdout",
     "output_type": "stream",
     "text": [
      "type:  <class 'numpy.ndarray'>\n",
      "shape: (144, 592895), time points = 144, x,y,z = 592895 \n",
      "This data is represented as voxels by time, where x, y, z are combined\n"
     ]
    },
    {
     "data": {
      "text/plain": [
       "array([[0, 0, 0, ..., 0, 0, 0],\n",
       "       [0, 0, 0, ..., 0, 0, 0],\n",
       "       [0, 0, 0, ..., 0, 0, 0],\n",
       "       ...,\n",
       "       [0, 0, 0, ..., 0, 0, 0],\n",
       "       [0, 0, 0, ..., 0, 0, 0],\n",
       "       [0, 0, 0, ..., 0, 0, 0]], dtype=int16)"
      ]
     },
     "execution_count": 25,
     "metadata": {},
     "output_type": "execute_result"
    }
   ],
   "source": [
    "img_2d = mat_data['run_01_vec']\n",
    "print(\"type: \", type(img_2d))\n",
    "print(f\"shape: {img_2d.shape}, time points = {img_2d.shape[0]}, x,y,z = {img_2d.shape[1]} \")\n",
    "print(\"This data is represented as voxels by time, where x, y, z are combined\")\n",
    "img_2d"
   ]
  },
  {
   "cell_type": "code",
   "execution_count": 26,
   "metadata": {},
   "outputs": [
    {
     "name": "stdout",
     "output_type": "stream",
     "text": [
      "type: <class 'numpy.ndarray'>\n",
      "Label data shape:  (144, 1)\n"
     ]
    }
   ],
   "source": [
    "rt_label = label_data['rt_labels']\n",
    "print(\"type:\", type(rt_label))\n",
    "print(\"Label data shape: \", rt_label.shape)"
   ]
  },
  {
   "cell_type": "markdown",
   "metadata": {},
   "source": [
    "#### Reshape the 2d image to 4d for visualization"
   ]
  },
  {
   "cell_type": "code",
   "execution_count": null,
   "metadata": {},
   "outputs": [],
   "source": [
    "#img_4d = np.reshape(img_2d,(64,64,30,img_2d.shape[0]))\n",
    "#img_4d.shape"
   ]
  },
  {
   "cell_type": "code",
   "execution_count": null,
   "metadata": {},
   "outputs": [],
   "source": [
    "\"Plotting the image after Converting from 2D to 4D\"\n",
    "#plt.imshow(img_4d[:,:,layer, time_point], cmap = 'gray')\n",
    "#plt.axis('off')"
   ]
  },
  {
   "cell_type": "markdown",
   "metadata": {},
   "source": [
    "### Take a look at the 4d data \n",
    "- print shapes\n",
    "- reshape the 4D data into 2D array\n",
    "- Depth represents slices/layers through the brain"
   ]
  },
  {
   "cell_type": "code",
   "execution_count": 22,
   "metadata": {},
   "outputs": [],
   "source": [
    "#height, width, depth, ch =  img_4d\n",
    "#print(f\"Train data shape: height {height}, width {width}, depth {depth}, time points {ch}\")"
   ]
  },
  {
   "cell_type": "code",
   "execution_count": null,
   "metadata": {},
   "outputs": [],
   "source": [
    "# x, y, z of image\n",
    "#print(\"x, y, z, of the image: \", img_4d.shape[:-1])"
   ]
  },
  {
   "cell_type": "code",
   "execution_count": null,
   "metadata": {},
   "outputs": [],
   "source": [
    "# num time points\n",
    "#n_time_points = img_4d.shape[-1]\n",
    "#n_time_points"
   ]
  },
  {
   "cell_type": "code",
   "execution_count": null,
   "metadata": {},
   "outputs": [],
   "source": [
    "# get num of voxels\n",
    "#num_voxels = np.prod(img_4d.shape[:-1])\n",
    "#print(\"number of voxels: \", num_voxels)"
   ]
  },
  {
   "cell_type": "code",
   "execution_count": null,
   "metadata": {},
   "outputs": [],
   "source": [
    "#reshape 4d to 2d\n",
    "#voxels_by_time = img_4d.reshape((num_voxels, n_time_points))\n",
    "#voxels_by_time"
   ]
  },
  {
   "cell_type": "code",
   "execution_count": null,
   "metadata": {},
   "outputs": [],
   "source": [
    "#voxels_by_time.shape"
   ]
  },
  {
   "cell_type": "markdown",
   "metadata": {},
   "source": [
    "### Save numpy image data locally"
   ]
  },
  {
   "cell_type": "code",
   "execution_count": 31,
   "metadata": {},
   "outputs": [],
   "source": [
    "path = f\"data/subject_{file_names_dict['subject_ID'][0]}_2d.npy\"\n",
    "with open(path, 'wb') as f:\n",
    "    np.save(f, img_2d)\n",
    "    \n",
    "f.close()"
   ]
  },
  {
   "cell_type": "code",
   "execution_count": 32,
   "metadata": {},
   "outputs": [],
   "source": [
    "with open('data/rt_label.npy', 'wb') as f:\n",
    "    np.save(f, rt_label)\n",
    "    \n",
    "f.close()"
   ]
  },
  {
   "cell_type": "code",
   "execution_count": null,
   "metadata": {},
   "outputs": [],
   "source": [
    "# Save 4d img for visual exploratory analysis\n",
    "#path = f\"data/subject_{file_names_dict['subject_ID'][0]}_4d.npy\"\n",
    "#with open('img_4d.npy', 'wb') as f:\n",
    "    #np.save(f, img)\n",
    "    \n",
    "#f.close()"
   ]
  },
  {
   "cell_type": "code",
   "execution_count": null,
   "metadata": {},
   "outputs": [],
   "source": []
  }
 ],
 "metadata": {
  "kernelspec": {
   "display_name": "Python 3",
   "language": "python",
   "name": "python3"
  },
  "language_info": {
   "codemirror_mode": {
    "name": "ipython",
    "version": 3
   },
   "file_extension": ".py",
   "mimetype": "text/x-python",
   "name": "python",
   "nbconvert_exporter": "python",
   "pygments_lexer": "ipython3",
   "version": "3.7.3"
  },
  "pycharm": {
   "stem_cell": {
    "cell_type": "raw",
    "metadata": {
     "collapsed": false
    },
    "source": []
   }
  }
 },
 "nbformat": 4,
 "nbformat_minor": 1
}
