{
  "nbformat": 4,
  "nbformat_minor": 0,
  "metadata": {
    "colab": {
      "name": "SVM_Whole_Brain.ipynb",
      "provenance": [],
      "collapsed_sections": [],
      "machine_shape": "hm",
      "authorship_tag": "ABX9TyOwhKZqGnOmUO2hsDeslDj/",
      "include_colab_link": true
    },
    "kernelspec": {
      "name": "python3",
      "display_name": "Python 3"
    },
    "language_info": {
      "name": "python"
    }
  },
  "cells": [
    {
      "cell_type": "markdown",
      "metadata": {
        "id": "view-in-github",
        "colab_type": "text"
      },
      "source": [
        "<a href=\"https://colab.research.google.com/github/yecatstevir/teambrainiac/blob/main/source/SVM_Whole_Brain.ipynb\" target=\"_parent\"><img src=\"https://colab.research.google.com/assets/colab-badge.svg\" alt=\"Open In Colab\"/></a>"
      ]
    },
    {
      "cell_type": "markdown",
      "source": [
        "# Whole Brain Support Vector Machine Training\n",
        "- Go to 'Runtime' in Colab browser bar, select 'Change Runtime Type', select 'High-RAM' from 'Runtime Shape'. \n",
        "- load local pickle file containing all masked, normalized Whole Brain subject data in numpy matrix format\n",
        "- SVM training all subjects\n",
        "- SVM training per subject"
      ],
      "metadata": {
        "id": "f_wDm122NTXY"
      }
    },
    {
      "cell_type": "markdown",
      "source": [
        "### Mount Google Drive and clone repository\n",
        "- open to source directory"
      ],
      "metadata": {
        "id": "c284FIeHNcR2"
      }
    },
    {
      "cell_type": "code",
      "execution_count": 1,
      "metadata": {
        "id": "mIfcjimGzIZo",
        "colab": {
          "base_uri": "https://localhost:8080/"
        },
        "outputId": "04a16261-53b3-4912-8bd5-228dd8af0074"
      },
      "outputs": [
        {
          "output_type": "stream",
          "name": "stdout",
          "text": [
            "Mounted at /content/gdrive\n"
          ]
        }
      ],
      "source": [
        "from google.colab import drive\n",
        "drive.mount('/content/gdrive') #, force_remount = True)"
      ]
    },
    {
      "cell_type": "code",
      "source": [
        "# Clone the entire repo.\n",
        "!git clone -l -s https://github.com/yecatstevir/teambrainiac.git\n",
        "# Change directory into cloned repo\n",
        "%cd teambrainiac/source\n",
        "!ls\n"
      ],
      "metadata": {
        "id": "lh0DqCU10r3n",
        "outputId": "e2894eb5-7863-4a9c-cc36-61c401cbf791",
        "colab": {
          "base_uri": "https://localhost:8080/"
        }
      },
      "execution_count": 5,
      "outputs": [
        {
          "output_type": "stream",
          "name": "stdout",
          "text": [
            "Cloning into 'teambrainiac'...\n",
            "warning: --local is ignored\n",
            "remote: Enumerating objects: 308, done.\u001b[K\n",
            "remote: Counting objects:   0% (1/308)\u001b[K\rremote: Counting objects:   1% (4/308)\u001b[K\rremote: Counting objects:   2% (7/308)\u001b[K\rremote: Counting objects:   3% (10/308)\u001b[K\rremote: Counting objects:   4% (13/308)\u001b[K\rremote: Counting objects:   5% (16/308)\u001b[K\rremote: Counting objects:   6% (19/308)\u001b[K\rremote: Counting objects:   7% (22/308)\u001b[K\rremote: Counting objects:   8% (25/308)\u001b[K\rremote: Counting objects:   9% (28/308)\u001b[K\rremote: Counting objects:  10% (31/308)\u001b[K\rremote: Counting objects:  11% (34/308)\u001b[K\rremote: Counting objects:  12% (37/308)\u001b[K\rremote: Counting objects:  13% (41/308)\u001b[K\rremote: Counting objects:  14% (44/308)\u001b[K\rremote: Counting objects:  15% (47/308)\u001b[K\rremote: Counting objects:  16% (50/308)\u001b[K\rremote: Counting objects:  17% (53/308)\u001b[K\rremote: Counting objects:  18% (56/308)\u001b[K\rremote: Counting objects:  19% (59/308)\u001b[K\rremote: Counting objects:  20% (62/308)\u001b[K\rremote: Counting objects:  21% (65/308)\u001b[K\rremote: Counting objects:  22% (68/308)\u001b[K\rremote: Counting objects:  23% (71/308)\u001b[K\rremote: Counting objects:  24% (74/308)\u001b[K\rremote: Counting objects:  25% (77/308)\u001b[K\rremote: Counting objects:  26% (81/308)\u001b[K\rremote: Counting objects:  27% (84/308)\u001b[K\rremote: Counting objects:  28% (87/308)\u001b[K\rremote: Counting objects:  29% (90/308)\u001b[K\rremote: Counting objects:  30% (93/308)\u001b[K\rremote: Counting objects:  31% (96/308)\u001b[K\rremote: Counting objects:  32% (99/308)\u001b[K\rremote: Counting objects:  33% (102/308)\u001b[K\rremote: Counting objects:  34% (105/308)\u001b[K\rremote: Counting objects:  35% (108/308)\u001b[K\rremote: Counting objects:  36% (111/308)\u001b[K\rremote: Counting objects:  37% (114/308)\u001b[K\rremote: Counting objects:  38% (118/308)\u001b[K\rremote: Counting objects:  39% (121/308)\u001b[K\rremote: Counting objects:  40% (124/308)\u001b[K\rremote: Counting objects:  41% (127/308)\u001b[K\rremote: Counting objects:  42% (130/308)\u001b[K\rremote: Counting objects:  43% (133/308)\u001b[K\rremote: Counting objects:  44% (136/308)\u001b[K\rremote: Counting objects:  45% (139/308)\u001b[K\rremote: Counting objects:  46% (142/308)\u001b[K\rremote: Counting objects:  47% (145/308)\u001b[K\rremote: Counting objects:  48% (148/308)\u001b[K\rremote: Counting objects:  49% (151/308)\u001b[K\rremote: Counting objects:  50% (154/308)\u001b[K\rremote: Counting objects:  51% (158/308)\u001b[K\rremote: Counting objects:  52% (161/308)\u001b[K\rremote: Counting objects:  53% (164/308)\u001b[K\rremote: Counting objects:  54% (167/308)\u001b[K\rremote: Counting objects:  55% (170/308)\u001b[K\rremote: Counting objects:  56% (173/308)\u001b[K\rremote: Counting objects:  57% (176/308)\u001b[K\rremote: Counting objects:  58% (179/308)\u001b[K\rremote: Counting objects:  59% (182/308)\u001b[K\rremote: Counting objects:  60% (185/308)\u001b[K\rremote: Counting objects:  61% (188/308)\u001b[K\rremote: Counting objects:  62% (191/308)\u001b[K\rremote: Counting objects:  63% (195/308)\u001b[K\rremote: Counting objects:  64% (198/308)\u001b[K\rremote: Counting objects:  65% (201/308)\u001b[K\rremote: Counting objects:  66% (204/308)\u001b[K\rremote: Counting objects:  67% (207/308)\u001b[K\rremote: Counting objects:  68% (210/308)\u001b[K\rremote: Counting objects:  69% (213/308)\u001b[K\rremote: Counting objects:  70% (216/308)\u001b[K\rremote: Counting objects:  71% (219/308)\u001b[K\rremote: Counting objects:  72% (222/308)\u001b[K\rremote: Counting objects:  73% (225/308)\u001b[K\rremote: Counting objects:  74% (228/308)\u001b[K\rremote: Counting objects:  75% (231/308)\u001b[K\rremote: Counting objects:  76% (235/308)\u001b[K\rremote: Counting objects:  77% (238/308)\u001b[K\rremote: Counting objects:  78% (241/308)\u001b[K\rremote: Counting objects:  79% (244/308)\u001b[K\rremote: Counting objects:  80% (247/308)\u001b[K\rremote: Counting objects:  81% (250/308)\u001b[K\rremote: Counting objects:  82% (253/308)\u001b[K\rremote: Counting objects:  83% (256/308)\u001b[K\rremote: Counting objects:  84% (259/308)\u001b[K\rremote: Counting objects:  85% (262/308)\u001b[K\rremote: Counting objects:  86% (265/308)\u001b[K\rremote: Counting objects:  87% (268/308)\u001b[K\rremote: Counting objects:  88% (272/308)\u001b[K\rremote: Counting objects:  89% (275/308)\u001b[K\rremote: Counting objects:  90% (278/308)\u001b[K\rremote: Counting objects:  91% (281/308)\u001b[K\rremote: Counting objects:  92% (284/308)\u001b[K\rremote: Counting objects:  93% (287/308)\u001b[K\rremote: Counting objects:  94% (290/308)\u001b[K\rremote: Counting objects:  95% (293/308)\u001b[K\rremote: Counting objects:  96% (296/308)\u001b[K\rremote: Counting objects:  97% (299/308)\u001b[K\rremote: Counting objects:  98% (302/308)\u001b[K\rremote: Counting objects:  99% (305/308)\u001b[K\rremote: Counting objects: 100% (308/308)\u001b[K\rremote: Counting objects: 100% (308/308), done.\u001b[K\n",
            "remote: Compressing objects: 100% (179/179), done.\u001b[K\n",
            "remote: Total 308 (delta 177), reused 241 (delta 117), pack-reused 0\u001b[K\n",
            "Receiving objects: 100% (308/308), 57.14 MiB | 47.69 MiB/s, done.\n",
            "Resolving deltas: 100% (177/177), done.\n",
            "/content/teambrainiac/source/teambrainiac/source\n",
            "Access_Load_Data.ipynb\t\t  percent_signal_change.ipynb\n",
            "All_subject_masked_labeled.ipynb  SVM.ipynb\n",
            "data\t\t\t\t  SVM_Whole_Brain.ipynb\n",
            "__init__.py\t\t\t  utils.py\n",
            "Masking.ipynb\t\t\t  Visualize_Data.ipynb\n",
            "Mat_to_Numpy.ipynb\n"
          ]
        }
      ]
    },
    {
      "cell_type": "markdown",
      "source": [
        "### Load path_config.py \n",
        "- we are already in source so we can just load this file without chanding directory"
      ],
      "metadata": {
        "id": "zadD_dOPPjQm"
      }
    },
    {
      "cell_type": "code",
      "source": [
        "from google.colab import files\n",
        "\n",
        "uploaded = files.upload()\n",
        "\n",
        "for fn in uploaded.keys():\n",
        "  print('User uploaded file \"{name}\" with length {length} bytes'.format(\n",
        "      name=fn, length=len(uploaded[fn])))"
      ],
      "metadata": {
        "colab": {
          "resources": {
            "http://localhost:8080/nbextensions/google.colab/files.js": {
              "data": "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",
              "ok": true,
              "headers": [
                [
                  "content-type",
                  "application/javascript"
                ]
              ],
              "status": 200,
              "status_text": ""
            }
          },
          "base_uri": "https://localhost:8080/",
          "height": 90
        },
        "id": "u_2qZqNJPLkn",
        "outputId": "d7a88f54-20c3-46d0-9ea3-56ddfd471fa6"
      },
      "execution_count": 3,
      "outputs": [
        {
          "output_type": "display_data",
          "data": {
            "text/plain": [
              "<IPython.core.display.HTML object>"
            ],
            "text/html": [
              "\n",
              "     <input type=\"file\" id=\"files-910865a1-3f95-4b32-9a21-d3e6e9bafdce\" name=\"files[]\" multiple disabled\n",
              "        style=\"border:none\" />\n",
              "     <output id=\"result-910865a1-3f95-4b32-9a21-d3e6e9bafdce\">\n",
              "      Upload widget is only available when the cell has been executed in the\n",
              "      current browser session. Please rerun this cell to enable.\n",
              "      </output>\n",
              "      <script src=\"/nbextensions/google.colab/files.js\"></script> "
            ]
          },
          "metadata": {}
        },
        {
          "output_type": "stream",
          "name": "stdout",
          "text": [
            "Saving path_config.py to path_config.py\n",
            "User uploaded file \"path_config.py\" with length 228 bytes\n"
          ]
        }
      ]
    },
    {
      "cell_type": "markdown",
      "source": [
        "### Load the Whole brain normalized masked all subject 2d pickle file \n",
        "- go to Drive outside of this notebook\n",
        "  - Go to MyDrive and open Colab Notebooks\n",
        "  - upload 'whole_brain_all_norm_2d.pkl' here - will take 5 hours but should remain on system without need to upload again\n",
        "  - once uploaded, drag the file to the repo source/data directory"
      ],
      "metadata": {
        "id": "8cxzhagpPuBk"
      }
    },
    {
      "cell_type": "code",
      "source": [
        "!ls"
      ],
      "metadata": {
        "colab": {
          "base_uri": "https://localhost:8080/"
        },
        "id": "xkpIEgroQTZX",
        "outputId": "77d9b23e-cfa0-41d4-d126-4abac9eba935"
      },
      "execution_count": 9,
      "outputs": [
        {
          "output_type": "stream",
          "name": "stdout",
          "text": [
            "Access_Load_Data.ipynb\t\t  percent_signal_change.ipynb\n",
            "All_subject_masked_labeled.ipynb  __pycache__\n",
            "data\t\t\t\t  SVM.ipynb\n",
            "__init__.py\t\t\t  SVM_Whole_Brain.ipynb\n",
            "Masking.ipynb\t\t\t  utils.py\n",
            "Mat_to_Numpy.ipynb\t\t  Visualize_Data.ipynb\n"
          ]
        }
      ]
    },
    {
      "cell_type": "markdown",
      "source": [
        "### Import libraries\n",
        "- need to load path_config.py to source directory\n",
        "- load 'whole_brain_all_norm_2d.pkl' to source/data directory"
      ],
      "metadata": {
        "id": "_cmYZ22BNj8h"
      }
    },
    {
      "cell_type": "code",
      "source": [
        "# Import libraries\n",
        "!pip install boto3 nilearn\n",
        "import pickle\n",
        "from utils import *\n",
        "from sklearn.svm import SVC\n",
        "import numpy as np\n",
        "import random"
      ],
      "metadata": {
        "id": "abHr7oUl06ED",
        "outputId": "84bee898-79a2-46e4-9ba7-2439a559fd83",
        "colab": {
          "base_uri": "https://localhost:8080/"
        }
      },
      "execution_count": 6,
      "outputs": [
        {
          "output_type": "stream",
          "name": "stdout",
          "text": [
            "Requirement already satisfied: boto3 in /usr/local/lib/python3.7/dist-packages (1.21.22)\n",
            "Requirement already satisfied: nilearn in /usr/local/lib/python3.7/dist-packages (0.9.0)\n",
            "Requirement already satisfied: s3transfer<0.6.0,>=0.5.0 in /usr/local/lib/python3.7/dist-packages (from boto3) (0.5.2)\n",
            "Requirement already satisfied: jmespath<2.0.0,>=0.7.1 in /usr/local/lib/python3.7/dist-packages (from boto3) (1.0.0)\n",
            "Requirement already satisfied: botocore<1.25.0,>=1.24.22 in /usr/local/lib/python3.7/dist-packages (from boto3) (1.24.22)\n",
            "Requirement already satisfied: python-dateutil<3.0.0,>=2.1 in /usr/local/lib/python3.7/dist-packages (from botocore<1.25.0,>=1.24.22->boto3) (2.8.2)\n",
            "Requirement already satisfied: urllib3<1.27,>=1.25.4 in /usr/local/lib/python3.7/dist-packages (from botocore<1.25.0,>=1.24.22->boto3) (1.25.11)\n",
            "Requirement already satisfied: six>=1.5 in /usr/local/lib/python3.7/dist-packages (from python-dateutil<3.0.0,>=2.1->botocore<1.25.0,>=1.24.22->boto3) (1.15.0)\n",
            "Requirement already satisfied: requests>=2 in /usr/local/lib/python3.7/dist-packages (from nilearn) (2.23.0)\n",
            "Requirement already satisfied: nibabel>=2.5 in /usr/local/lib/python3.7/dist-packages (from nilearn) (3.0.2)\n",
            "Requirement already satisfied: numpy>=1.16 in /usr/local/lib/python3.7/dist-packages (from nilearn) (1.21.5)\n",
            "Requirement already satisfied: scikit-learn>=0.21 in /usr/local/lib/python3.7/dist-packages (from nilearn) (1.0.2)\n",
            "Requirement already satisfied: pandas>=0.24.0 in /usr/local/lib/python3.7/dist-packages (from nilearn) (1.3.5)\n",
            "Requirement already satisfied: joblib>=0.12 in /usr/local/lib/python3.7/dist-packages (from nilearn) (1.1.0)\n",
            "Requirement already satisfied: scipy>=1.2 in /usr/local/lib/python3.7/dist-packages (from nilearn) (1.4.1)\n",
            "Requirement already satisfied: pytz>=2017.3 in /usr/local/lib/python3.7/dist-packages (from pandas>=0.24.0->nilearn) (2018.9)\n",
            "Requirement already satisfied: chardet<4,>=3.0.2 in /usr/local/lib/python3.7/dist-packages (from requests>=2->nilearn) (3.0.4)\n",
            "Requirement already satisfied: idna<3,>=2.5 in /usr/local/lib/python3.7/dist-packages (from requests>=2->nilearn) (2.10)\n",
            "Requirement already satisfied: certifi>=2017.4.17 in /usr/local/lib/python3.7/dist-packages (from requests>=2->nilearn) (2021.10.8)\n",
            "Requirement already satisfied: threadpoolctl>=2.0.0 in /usr/local/lib/python3.7/dist-packages (from scikit-learn>=0.21->nilearn) (3.1.0)\n"
          ]
        }
      ]
    },
    {
      "cell_type": "markdown",
      "source": [
        "### Move the 'whole_brain_all_norm_2d.pkl' into source/data from where this file is saved in drive. Just click and drag to source/data in repo"
      ],
      "metadata": {
        "id": "iiZ_9uLsfOwF"
      }
    },
    {
      "cell_type": "code",
      "source": [
        "%%time \n",
        "\n",
        "#Load all subject data + labels\n",
        "local_data_path = \"/content/teambrainiac/source/data/single_sub_norm_2d.pkl\"#data/single_sub_norm_2d.pkl\"\n",
        "#local_data_path = \"data/all_data_dictionary.pkl\" # unnormalized\n",
        "#local_data_path = \"data/whole_brain_all_norm_2d.pkl\" # normalized\n",
        "#local_data_path = \"data/all_data_norm_dict.pkl\" #normalized on subject run\n",
        "all_data = open_pickle(local_data_path)\n"
      ],
      "metadata": {
        "colab": {
          "base_uri": "https://localhost:8080/"
        },
        "id": "LmBiQ459JNTb",
        "outputId": "4fbac2d9-ebaa-41bd-837e-8466a25cf636"
      },
      "execution_count": 11,
      "outputs": [
        {
          "output_type": "stream",
          "name": "stdout",
          "text": [
            "CPU times: user 68.9 ms, sys: 280 ms, total: 349 ms\n",
            "Wall time: 348 ms\n"
          ]
        }
      ]
    },
    {
      "cell_type": "code",
      "source": [
        "#open path dictionary file to get subject ids\n",
        "path = \"data/data_path_dictionary.pkl\"\n",
        "data_path_dict = open_pickle(path)\n",
        "subject_ids = data_path_dict['subject_ID']\n",
        "\n",
        "# Randomly shuffle ids for train test val splits\n",
        "random.seed(42)\n",
        "random.shuffle(subject_ids)"
      ],
      "metadata": {
        "id": "L70QYcxnM3q8"
      },
      "execution_count": 12,
      "outputs": []
    },
    {
      "cell_type": "code",
      "source": [
        "# get train, test val data\n",
        "train_ids = subject_ids[:36]\n",
        "val_ids = subject_ids[36:44]\n",
        "test_ids = subject_ids[44:53]\n",
        "\n",
        "print(len(train_ids))\n",
        "print(len(val_ids))\n",
        "print(len(test_ids))\n",
        "len(subject_ids)"
      ],
      "metadata": {
        "colab": {
          "base_uri": "https://localhost:8080/"
        },
        "id": "Gc4Z82sJM35a",
        "outputId": "d9c98376-b006-41cc-eb9d-5e48425facd2"
      },
      "execution_count": 13,
      "outputs": [
        {
          "output_type": "stream",
          "name": "stdout",
          "text": [
            "36\n",
            "8\n",
            "8\n"
          ]
        },
        {
          "output_type": "execute_result",
          "data": {
            "text/plain": [
              "52"
            ]
          },
          "metadata": {},
          "execution_count": 13
        }
      ]
    },
    {
      "cell_type": "code",
      "source": [
        "# Get train test val data \n",
        "X_train = []\n",
        "y_train = []\n",
        "\n",
        "X_val = []\n",
        "y_val = []\n",
        "\n",
        "X_test = []\n",
        "y_test = []\n",
        "\n",
        "# Get X data from dictionary\n",
        "for id_ in train_ids:\n",
        "    for matrix in all_data[id_]:\n",
        "        #print(matrix)\n",
        "        X_train.append(matrix)\n",
        "        \n",
        "        \n",
        "# Get y label from dictioanry\n",
        "for id_ in train_ids:\n",
        "    for label in all_data[f\"{id_}_rt_labels\"]:\n",
        "        #print(matrix)\n",
        "        y_train.append(label)\n",
        "        \n",
        "\n",
        "\n",
        "# Get X data from dictionary\n",
        "for id_ in val_ids:\n",
        "    for matrix in all_data[id_]:\n",
        "        #print(matrix)\n",
        "        X_val.append(matrix)\n",
        "        \n",
        "        \n",
        "# Get y label from dictioanry\n",
        "for id_ in val_ids:\n",
        "    for label in all_data[f\"{id_}_rt_labels\"]:\n",
        "        #print(matrix)\n",
        "        y_val.append(label)\n",
        "        \n",
        "    \n",
        "\n",
        "# Get X data from dictionary\n",
        "for id_ in test_ids:\n",
        "    for matrix in all_data[id_]:\n",
        "        #print(matrix)\n",
        "        X_test.append(matrix)\n",
        "        \n",
        "        \n",
        "# Get y label from dictioanry\n",
        "for id_ in test_ids:\n",
        "    for label in all_data[f\"{id_}_rt_labels\"]:\n",
        "        #print(matrix)\n",
        "        y_test.append(label)\n",
        "        \n",
        "      "
      ],
      "metadata": {
        "id": "XymCaXpZM4CZ"
      },
      "execution_count": 14,
      "outputs": []
    },
    {
      "cell_type": "code",
      "source": [
        "#4 runs * 52 subjects = 208\n",
        "print(f\"length of Xtrain data: {len(X_train)} and length of ytrain data: {len(y_train)}\")\n",
        "print(f\"length of Xval data: {len(X_val)} and length of yval data: {len(y_val)}\")\n",
        "print(f\"length of Xtest data: {len(X_test)} and length of ytest data: {len(y_test)}\")\n",
        "#print(f\"length of X data: {len(X)} and length of y data: {len(y)}\")"
      ],
      "metadata": {
        "colab": {
          "base_uri": "https://localhost:8080/"
        },
        "id": "bu_QeXF2M4KV",
        "outputId": "a75a1e68-0491-4483-8643-ba8542eaec45"
      },
      "execution_count": 15,
      "outputs": [
        {
          "output_type": "stream",
          "name": "stdout",
          "text": [
            "length of Xtrain data: 4 and length of ytrain data: 4\n",
            "length of Xval data: 0 and length of yval data: 0\n",
            "length of Xtest data: 0 and length of ytest data: 0\n"
          ]
        }
      ]
    },
    {
      "cell_type": "code",
      "source": [
        "X_train = np.array(X_train)\n",
        "y_train = np.array(y_train)\n",
        "print( \"Xtrain data shape \", X_train.shape)\n",
        "print( \"ytrain data shape \", y_train.shape)\n"
      ],
      "metadata": {
        "colab": {
          "base_uri": "https://localhost:8080/"
        },
        "id": "CNGCOYzVNHTe",
        "outputId": "94a9f485-e332-4796-eda6-a5899e611572"
      },
      "execution_count": 16,
      "outputs": [
        {
          "output_type": "stream",
          "name": "stdout",
          "text": [
            "Xtrain data shape  (4, 84, 237979)\n",
            "ytrain data shape  (4, 84)\n"
          ]
        }
      ]
    },
    {
      "cell_type": "code",
      "source": [
        "X_train = np.concatenate(X_train)\n",
        "y_train = np.concatenate(y_train)\n",
        "print( \"Xtrain data shape after concantenation \", X_train.shape)\n",
        "print( \"ytrain data shape after concantenation \", y_train.shape)"
      ],
      "metadata": {
        "colab": {
          "base_uri": "https://localhost:8080/"
        },
        "id": "lbHLxtLtNHZM",
        "outputId": "5659124d-f08f-441b-dac4-199cf41bdeff"
      },
      "execution_count": 17,
      "outputs": [
        {
          "output_type": "stream",
          "name": "stdout",
          "text": [
            "Xtrain data shape after concantenation  (336, 237979)\n",
            "ytrain data shape after concantenation  (336,)\n"
          ]
        }
      ]
    },
    {
      "cell_type": "markdown",
      "source": [
        "## Set up SVM Model"
      ],
      "metadata": {
        "id": "o-ulIQfZNOar"
      }
    },
    {
      "cell_type": "code",
      "source": [
        "%%time\n",
        "clf = SVC()\n",
        "clf.fit(X_train, y_train)"
      ],
      "metadata": {
        "colab": {
          "base_uri": "https://localhost:8080/"
        },
        "id": "mqlf156pNHd0",
        "outputId": "c44c9ff8-6946-4b32-f79c-257c2b5eef2c"
      },
      "execution_count": 18,
      "outputs": [
        {
          "output_type": "stream",
          "name": "stdout",
          "text": [
            "CPU times: user 38.2 s, sys: 7.29 s, total: 45.5 s\n",
            "Wall time: 6.36 s\n"
          ]
        }
      ]
    },
    {
      "cell_type": "code",
      "source": [
        ""
      ],
      "metadata": {
        "id": "2jhw_bnXZ-JK"
      },
      "execution_count": null,
      "outputs": []
    }
  ]
}