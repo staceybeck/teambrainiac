{
 "cells": [
  {
   "cell_type": "markdown",
   "metadata": {},
   "source": [
    "# Brings Everything together\n",
    "- Fetching data from AWS\n",
    "- Loading as numpy\n",
    "- applying the mask\n",
    "- cleaning the labels\n",
    "- putting all the masked subject data and labels into a dictionary\n",
    "- saving dictionary as a pickle file "
   ]
  },
  {
   "cell_type": "code",
   "execution_count": 1,
   "metadata": {
    "pycharm": {
     "is_executing": false
    }
   },
   "outputs": [],
   "source": [
    "# Import libraries\n",
    "import pickle\n",
    "from utils import *\n",
    "import numpy as np\n",
    "import matplotlib.pyplot as plt\n",
    "from collections import defaultdict\n"
   ]
  },
  {
   "cell_type": "code",
   "execution_count": 2,
   "metadata": {
    "pycharm": {
     "is_executing": false
    }
   },
   "outputs": [
    {
     "name": "stdout",
     "output_type": "stream",
     "text": [
      "Dictionary contents: \n"
     ]
    },
    {
     "data": {
      "text/plain": [
       "dict_keys(['subject_data', 'subject_ID', 'mask_data', 'labels'])"
      ]
     },
     "execution_count": 2,
     "metadata": {},
     "output_type": "execute_result"
    }
   ],
   "source": [
    "#open pickle file\n",
    "path = \"data/data_path_dictionary.pkl\"\n",
    "data_path_dict = open_pickle(path)\n",
    "\n",
    "print(\"Dictionary contents: \")\n",
    "data_path_dict.keys()\n"
   ]
  },
  {
   "cell_type": "code",
   "execution_count": 3,
   "metadata": {
    "pycharm": {
     "is_executing": false
    }
   },
   "outputs": [
    {
     "name": "stderr",
     "output_type": "stream",
     "text": [
      "0it [00:00, ?it/s]\n",
      "  0%|          | 0/4 [00:00<?, ?it/s]\u001b[A/Users/staceyrivet/Library/Python/3.7/lib/python/site-packages/nilearn/signal.py:83: RuntimeWarning: invalid value encountered in true_divide\n",
      "  signals = (signals - mean_signal) / np.absolute(mean_signal)\n",
      "/Users/staceyrivet/Library/Python/3.7/lib/python/site-packages/nilearn/signal.py:87: UserWarning: psc standardization strategy is meaningless for features that have a mean of 0. These time series are set to 0.\n",
      "  warnings.warn('psc standardization strategy is meaningless '\n",
      "\n",
      " 25%|██▌       | 1/4 [00:00<00:01,  1.56it/s]\u001b[A\n",
      " 50%|█████     | 2/4 [00:01<00:01,  1.73it/s]\u001b[A\n",
      " 75%|███████▌  | 3/4 [00:01<00:00,  1.87it/s]\u001b[A\n",
      "100%|██████████| 4/4 [00:01<00:00,  2.07it/s]\u001b[A\n",
      "1it [00:34, 34.75s/it]"
     ]
    },
    {
     "name": "stdout",
     "output_type": "stream",
     "text": [
      "CPU times: user 10.1 s, sys: 3.46 s, total: 13.5 s\n",
      "Wall time: 37.1 s\n"
     ]
    },
    {
     "name": "stderr",
     "output_type": "stream",
     "text": [
      "\n"
     ]
    }
   ],
   "source": [
    "%%time\n",
    "mask_type = 'mask'\n",
    "label_type = 'rt_labels' \n",
    "do_norm = True\n",
    "\n",
    "all_data_dict = masked_data_n_labels(mask_type, label_type, data_path_dict, do_norm)"
   ]
  },
  {
   "cell_type": "code",
   "execution_count": 4,
   "metadata": {},
   "outputs": [
    {
     "data": {
      "text/plain": [
       "defaultdict(list,\n",
       "            {'10004_08693': [array([[ 0.       ,  0.       ,  0.       , ...,  3.4595332, -2.7081203,\n",
       "                      -4.08065  ],\n",
       "                     [ 0.       ,  0.       ,  0.       , ...,  3.0718458, -2.8591168,\n",
       "                      -2.5701163],\n",
       "                     [ 0.       ,  0.       ,  0.       , ...,  1.8663439, -4.98893  ,\n",
       "                      -3.2585096],\n",
       "                     ...,\n",
       "                     [ 0.       ,  0.       ,  0.       , ...,  3.3766582,  4.5196137,\n",
       "                       6.078048 ],\n",
       "                     [ 0.       ,  0.       ,  0.       , ..., -2.0088224, -1.2887629,\n",
       "                      -3.3319068],\n",
       "                     [ 0.       ,  0.       ,  0.       , ...,  1.0262262, -3.976704 ,\n",
       "                      -2.5131683]], dtype=float32),\n",
       "              array([[ 0.        ,  0.        ,  0.        , ...,  3.8679485 ,\n",
       "                       0.96662223, -2.143643  ],\n",
       "                     [ 0.        ,  0.        ,  0.        , ...,  1.5796369 ,\n",
       "                       6.191506  ,  6.2866488 ],\n",
       "                     [ 0.        ,  0.        ,  0.        , ...,  5.3922853 ,\n",
       "                      -1.475869  , -2.6557198 ],\n",
       "                     ...,\n",
       "                     [ 0.        ,  0.        ,  0.        , ..., -0.14052449,\n",
       "                      -5.5511603 , -5.964241  ],\n",
       "                     [ 0.        ,  0.        ,  0.        , ...,  2.9267578 ,\n",
       "                       2.0878115 , -0.49422505],\n",
       "                     [ 0.        ,  0.        ,  0.        , ...,  2.018754  ,\n",
       "                       5.6177034 ,  5.0406246 ]], dtype=float32),\n",
       "              array([[ 0.       ,  0.       ,  0.       , ...,  0.6110767, -0.6227848,\n",
       "                      -3.0108976],\n",
       "                     [ 0.       ,  0.       ,  0.       , ...,  1.4106447,  4.643394 ,\n",
       "                       5.667002 ],\n",
       "                     [ 0.       ,  0.       ,  0.       , ...,  1.6520433,  4.3542213,\n",
       "                       4.2527275],\n",
       "                     ...,\n",
       "                     [ 0.       ,  0.       ,  0.       , ...,  1.2703732,  0.8560784,\n",
       "                       4.5501976],\n",
       "                     [ 0.       ,  0.       ,  0.       , ...,  1.1768703,  3.6102786,\n",
       "                       2.521272 ],\n",
       "                     [ 0.       ,  0.       ,  0.       , ..., -4.5541415, -3.6110334,\n",
       "                      -3.4533172]], dtype=float32),\n",
       "              array([[ 0.        ,  0.        ,  0.        , ...,  0.87739676,\n",
       "                       0.5096822 ,  0.95011127],\n",
       "                     [ 0.        ,  0.        ,  0.        , ...,  0.02644482,\n",
       "                       6.5783443 ,  2.023963  ],\n",
       "                     [ 0.        ,  0.        ,  0.        , ..., -2.8620498 ,\n",
       "                      -4.250445  , -4.562573  ],\n",
       "                     ...,\n",
       "                     [ 0.        ,  0.        ,  0.        , ...,  1.7517365 ,\n",
       "                       7.6955943 ,  3.9276936 ],\n",
       "                     [ 0.        ,  0.        ,  0.        , ..., -0.93957734,\n",
       "                      -1.2136453 ,  0.26249573],\n",
       "                     [ 0.        ,  0.        ,  0.        , ..., -0.9360792 ,\n",
       "                       0.47520083, -0.82760686]], dtype=float32)],\n",
       "             '10004_08693_rt_labels': [array([1, 1, 1, 1, 1, 1, 1, 1, 1, 1, 1, 1, 1, 1, 0, 0, 0, 0, 0, 0, 0, 1,\n",
       "                     1, 1, 1, 1, 1, 1, 0, 0, 0, 0, 0, 0, 0, 0, 0, 0, 0, 0, 0, 0, 0, 0,\n",
       "                     0, 0, 0, 0, 0, 1, 1, 1, 1, 1, 1, 1, 0, 0, 0, 0, 0, 0, 0, 1, 1, 1,\n",
       "                     1, 1, 1, 1, 1, 1, 1, 1, 1, 1, 1, 0, 0, 0, 0, 0, 0, 0], dtype=uint16),\n",
       "              array([1, 1, 1, 1, 1, 1, 1, 1, 1, 1, 1, 1, 1, 1, 0, 0, 0, 0, 0, 0, 0, 1,\n",
       "                     1, 1, 1, 1, 1, 1, 0, 0, 0, 0, 0, 0, 0, 0, 0, 0, 0, 0, 0, 0, 0, 0,\n",
       "                     0, 0, 0, 0, 0, 1, 1, 1, 1, 1, 1, 1, 0, 0, 0, 0, 0, 0, 0, 1, 1, 1,\n",
       "                     1, 1, 1, 1, 1, 1, 1, 1, 1, 1, 1, 0, 0, 0, 0, 0, 0, 0], dtype=uint16),\n",
       "              array([1, 1, 1, 1, 1, 1, 1, 1, 1, 1, 1, 1, 1, 1, 0, 0, 0, 0, 0, 0, 0, 1,\n",
       "                     1, 1, 1, 1, 1, 1, 0, 0, 0, 0, 0, 0, 0, 0, 0, 0, 0, 0, 0, 0, 0, 0,\n",
       "                     0, 0, 0, 0, 0, 1, 1, 1, 1, 1, 1, 1, 0, 0, 0, 0, 0, 0, 0, 1, 1, 1,\n",
       "                     1, 1, 1, 1, 1, 1, 1, 1, 1, 1, 1, 0, 0, 0, 0, 0, 0, 0], dtype=uint16),\n",
       "              array([1, 1, 1, 1, 1, 1, 1, 1, 1, 1, 1, 1, 1, 1, 0, 0, 0, 0, 0, 0, 0, 1,\n",
       "                     1, 1, 1, 1, 1, 1, 0, 0, 0, 0, 0, 0, 0, 0, 0, 0, 0, 0, 0, 0, 0, 0,\n",
       "                     0, 0, 0, 0, 0, 1, 1, 1, 1, 1, 1, 1, 0, 0, 0, 0, 0, 0, 0, 1, 1, 1,\n",
       "                     1, 1, 1, 1, 1, 1, 1, 1, 1, 1, 1, 0, 0, 0, 0, 0, 0, 0], dtype=uint16)]})"
      ]
     },
     "execution_count": 4,
     "metadata": {},
     "output_type": "execute_result"
    }
   ],
   "source": [
    "all_data_dict"
   ]
  },
  {
   "cell_type": "code",
   "execution_count": null,
   "metadata": {
    "pycharm": {
     "is_executing": false
    }
   },
   "outputs": [],
   "source": [
    "len(all_data_dict['10004_08693_rt_labels'][0])\n"
   ]
  },
  {
   "cell_type": "code",
   "execution_count": null,
   "metadata": {
    "pycharm": {
     "is_executing": false
    }
   },
   "outputs": [],
   "source": [
    "all_data_dict['10004_08693'][0].shape"
   ]
  },
  {
   "cell_type": "code",
   "execution_count": 5,
   "metadata": {
    "pycharm": {
     "is_executing": true
    }
   },
   "outputs": [],
   "source": [
    "# Create pickle of dictionary\n",
    "pkl_created = False\n",
    "\n",
    "if pkl_created == False:\n",
    "    f = open(\"data/single_sub_norm_2d.pkl\", \"wb\")\n",
    "    pickle.dump(all_data_dict, f)\n",
    "    f.close()\n",
    "\n",
    "    \n"
   ]
  },
  {
   "cell_type": "code",
   "execution_count": null,
   "metadata": {
    "pycharm": {
     "name": "#%%\n"
    }
   },
   "outputs": [],
   "source": [
    "\n"
   ]
  }
 ],
 "metadata": {
  "kernelspec": {
   "display_name": "Python 3",
   "language": "python",
   "name": "python3"
  },
  "language_info": {
   "codemirror_mode": {
    "name": "ipython",
    "version": 3
   },
   "file_extension": ".py",
   "mimetype": "text/x-python",
   "name": "python",
   "nbconvert_exporter": "python",
   "pygments_lexer": "ipython3",
   "version": "3.7.3"
  },
  "pycharm": {
   "stem_cell": {
    "cell_type": "raw",
    "metadata": {
     "collapsed": false
    },
    "source": []
   }
  }
 },
 "nbformat": 4,
 "nbformat_minor": 2
}
