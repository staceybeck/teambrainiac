{
 "cells": [
  {
   "cell_type": "code",
   "execution_count": 22,
   "metadata": {
    "collapsed": true
   },
   "outputs": [],
   "source": [
    "from utils import *"
   ]
  },
  {
   "cell_type": "code",
   "execution_count": 3,
   "outputs": [],
   "source": [
    "from nilearn.signal import clean"
   ],
   "metadata": {
    "collapsed": false,
    "pycharm": {
     "name": "#%%\n"
    }
   }
  },
  {
   "cell_type": "code",
   "execution_count": 4,
   "outputs": [
    {
     "name": "stdout",
     "output_type": "stream",
     "text": [
      "Dictionary contents: \n"
     ]
    },
    {
     "data": {
      "text/plain": "defaultdict(list,\n            {'subject_data': ['svm_data/10004_08693/svm_subj_vecs.mat',\n              'svm_data/10008_09924/svm_subj_vecs.mat',\n              'svm_data/10009_08848/svm_subj_vecs.mat',\n              'svm_data/10016_09694/svm_subj_vecs.mat',\n              'svm_data/10017_08894/svm_subj_vecs.mat',\n              'svm_data/10018_08907/svm_subj_vecs.mat',\n              'svm_data/10021_08839/svm_subj_vecs.mat',\n              'svm_data/10022_08854/svm_subj_vecs.mat',\n              'svm_data/10023_09126/svm_subj_vecs.mat',\n              'svm_data/10027_09455/svm_subj_vecs.mat',\n              'svm_data/10033_08871/svm_subj_vecs.mat',\n              'svm_data/10034_08879/svm_subj_vecs.mat',\n              'svm_data/10035_08847/svm_subj_vecs.mat',\n              'svm_data/10036_09800/svm_subj_vecs.mat',\n              'svm_data/10037_09903/svm_subj_vecs.mat',\n              'svm_data/10038_09063/svm_subj_vecs.mat',\n              'svm_data/10039_08941/svm_subj_vecs.mat',\n              'svm_data/10042_08990/svm_subj_vecs.mat',\n              'svm_data/10043_09222/svm_subj_vecs.mat',\n              'svm_data/10045_08968/svm_subj_vecs.mat',\n              'svm_data/10046_09216/svm_subj_vecs.mat',\n              'svm_data/10047_09030/svm_subj_vecs.mat',\n              'svm_data/10050_09079/svm_subj_vecs.mat',\n              'svm_data/10053_09018/svm_subj_vecs.mat',\n              'svm_data/10056_09615/svm_subj_vecs.mat',\n              'svm_data/10057_10124/svm_subj_vecs.mat',\n              'svm_data/10060_09359/svm_subj_vecs.mat',\n              'svm_data/10061_09308/svm_subj_vecs.mat',\n              'svm_data/10065_09587/svm_subj_vecs.mat',\n              'svm_data/10066_09687/svm_subj_vecs.mat',\n              'svm_data/10069_09785/svm_subj_vecs.mat',\n              'svm_data/10080_09931/svm_subj_vecs.mat',\n              'svm_data/10084_10188/svm_subj_vecs.mat',\n              'svm_data/30004_08965/svm_subj_vecs.mat',\n              'svm_data/30008_08981/svm_subj_vecs.mat',\n              'svm_data/30009_09227/svm_subj_vecs.mat',\n              'svm_data/30011_09170/svm_subj_vecs.mat',\n              'svm_data/30012_09102/svm_subj_vecs.mat',\n              'svm_data/30014_09352/svm_subj_vecs.mat',\n              'svm_data/30017_09567/svm_subj_vecs.mat',\n              'svm_data/30020_09236/svm_subj_vecs.mat',\n              'svm_data/30024_09398/svm_subj_vecs.mat',\n              'svm_data/30025_09402/svm_subj_vecs.mat',\n              'svm_data/30026_09430/svm_subj_vecs.mat',\n              'svm_data/30027_09638/svm_subj_vecs.mat',\n              'svm_data/30033_09776/svm_subj_vecs.mat',\n              'svm_data/30035_09836/svm_subj_vecs.mat',\n              'svm_data/30036_09758/svm_subj_vecs.mat',\n              'svm_data/30038_09967/svm_subj_vecs.mat',\n              'svm_data/30044_10095/svm_subj_vecs.mat',\n              'svm_data/30045_10182/svm_subj_vecs.mat',\n              'svm_data/30053_10112/svm_subj_vecs.mat'],\n             'subject_ID': ['10004_08693',\n              '10008_09924',\n              '10009_08848',\n              '10016_09694',\n              '10017_08894',\n              '10018_08907',\n              '10021_08839',\n              '10022_08854',\n              '10023_09126',\n              '10027_09455',\n              '10033_08871',\n              '10034_08879',\n              '10035_08847',\n              '10036_09800',\n              '10037_09903',\n              '10038_09063',\n              '10039_08941',\n              '10042_08990',\n              '10043_09222',\n              '10045_08968',\n              '10046_09216',\n              '10047_09030',\n              '10050_09079',\n              '10053_09018',\n              '10056_09615',\n              '10057_10124',\n              '10060_09359',\n              '10061_09308',\n              '10065_09587',\n              '10066_09687',\n              '10069_09785',\n              '10080_09931',\n              '10084_10188',\n              '30004_08965',\n              '30008_08981',\n              '30009_09227',\n              '30011_09170',\n              '30012_09102',\n              '30014_09352',\n              '30017_09567',\n              '30020_09236',\n              '30024_09398',\n              '30025_09402',\n              '30026_09430',\n              '30027_09638',\n              '30033_09776',\n              '30035_09836',\n              '30036_09758',\n              '30038_09967',\n              '30044_10095',\n              '30045_10182',\n              '30053_10112'],\n             'mask_data': ['svm_data/masks/masks.mat'],\n             'labels': ['svm_data/rt_labels.mat']})"
     },
     "execution_count": 4,
     "metadata": {},
     "output_type": "execute_result"
    }
   ],
   "source": [
    "#open pickle file\n",
    "path = \"data/data_path_dictionary.pkl\"\n",
    "data_path_dictionary = open_pickle(path)\n",
    "\n",
    "print(\"Dictionary contents: \")\n",
    "data_path_dictionary"
   ],
   "metadata": {
    "collapsed": false,
    "pycharm": {
     "name": "#%%\n"
    }
   }
  },
  {
   "cell_type": "code",
   "execution_count": 5,
   "outputs": [],
   "source": [
    "# single subject data paths from S3\n",
    "masks_path = data_path_dictionary['mask_data'][0]\n",
    "label_path = data_path_dictionary['labels'][0]"
   ],
   "metadata": {
    "collapsed": false,
    "pycharm": {
     "name": "#%%\n"
    }
   }
  },
  {
   "cell_type": "code",
   "execution_count": 6,
   "outputs": [
    {
     "name": "stdout",
     "output_type": "stream",
     "text": [
      "CPU times: total: 375 ms\n",
      "Wall time: 1.82 s\n"
     ]
    },
    {
     "data": {
      "text/plain": "dict_keys(['__header__', '__version__', '__globals__', 'mask', 'masksubACC', 'masksubAI', 'masksubNAcc', 'masksubmPFC'])"
     },
     "execution_count": 6,
     "metadata": {},
     "output_type": "execute_result"
    }
   ],
   "source": [
    "%%time\n",
    "# Get mat data from aws\n",
    "mask_data = access_load_data(masks_path)\n",
    "mask_data.keys()"
   ],
   "metadata": {
    "collapsed": false,
    "pycharm": {
     "name": "#%%\n"
    }
   }
  },
  {
   "cell_type": "code",
   "execution_count": 7,
   "outputs": [
    {
     "name": "stdout",
     "output_type": "stream",
     "text": [
      "CPU times: total: 78.1 ms\n",
      "Wall time: 1.31 s\n"
     ]
    },
    {
     "data": {
      "text/plain": "dict_keys(['__header__', '__version__', '__globals__', 'decrease_onsets', 'increase_onsets', 'rest_ons', 'rt_labels'])"
     },
     "execution_count": 7,
     "metadata": {},
     "output_type": "execute_result"
    }
   ],
   "source": [
    "%%time\n",
    "# Get label data from aws\n",
    "label_data = access_load_data(label_path)\n",
    "label_data.keys()"
   ],
   "metadata": {
    "collapsed": false,
    "pycharm": {
     "name": "#%%\n"
    }
   }
  },
  {
   "cell_type": "code",
   "execution_count": 9,
   "outputs": [
    {
     "data": {
      "text/plain": "array([False, False, False, ..., False, False, False])"
     },
     "execution_count": 9,
     "metadata": {},
     "output_type": "execute_result"
    }
   ],
   "source": [
    "# Takes in filepaths and mask type and returns a numpy-compatible mask\n",
    "\n",
    "mask_data_filepath = data_path_dictionary['mask_data'][0]\n",
    "mask_type = 'mask'\n",
    "\n",
    "mask = create_mask(mask_data_filepath, mask_type)\n",
    "mask"
   ],
   "metadata": {
    "collapsed": false,
    "pycharm": {
     "name": "#%%\n"
    }
   }
  },
  {
   "cell_type": "code",
   "execution_count": 20,
   "outputs": [],
   "source": [
    "def labels_mask_binary_update(label_data_path, label_type = 'rt_labels'):\n",
    "    \"\"\"\n",
    "\n",
    "    \"\"\"\n",
    "    # Get Mask data\n",
    "    label_data_dict = access_load_data(label_data_path)\n",
    "    labels = label_data_dict[label_type]\n",
    "    mask_labels_indices = np.where(labels != 9999)\n",
    "    mask_labels_indices = mask_labels_indices[0]\n",
    "\n",
    "    # Get Binary Labels\n",
    "    label_mask = np.all(labels != 9999, axis=1)\n",
    "    binary_labels = labels.reshape(-1)[label_mask]\n",
    "    binary_labels\n",
    "\n",
    "    return mask_labels_indices, binary_labels\n",
    "\n",
    "\n",
    "\n",
    "masked_indices,binary_labels = labels_mask_binary_update(label_path)"
   ],
   "metadata": {
    "collapsed": false,
    "pycharm": {
     "name": "#%%\n"
    }
   }
  },
  {
   "cell_type": "code",
   "execution_count": 28,
   "outputs": [
    {
     "data": {
      "text/plain": "{'__header__': b'MATLAB 5.0 MAT-file, Platform: GLNXA64, Created on: Wed Feb 23 06:31:07 2022',\n '__version__': '1.0',\n '__globals__': [],\n 'run_04_vec': array([[0, 0, 0, ..., 0, 0, 0],\n        [0, 0, 0, ..., 0, 0, 0],\n        [0, 0, 0, ..., 0, 0, 0],\n        ...,\n        [0, 0, 0, ..., 0, 0, 0],\n        [0, 0, 0, ..., 0, 0, 0],\n        [0, 0, 0, ..., 0, 0, 0]], dtype=int16),\n 'run_03_vec': array([[0, 0, 0, ..., 0, 0, 0],\n        [0, 0, 0, ..., 0, 0, 0],\n        [0, 0, 0, ..., 0, 0, 0],\n        ...,\n        [0, 0, 0, ..., 0, 0, 0],\n        [0, 0, 0, ..., 0, 0, 0],\n        [0, 0, 0, ..., 0, 0, 0]], dtype=int16),\n 'run_02_vec': array([[0, 0, 0, ..., 0, 0, 0],\n        [0, 0, 0, ..., 0, 0, 0],\n        [0, 0, 0, ..., 0, 0, 0],\n        ...,\n        [0, 0, 0, ..., 0, 0, 0],\n        [0, 0, 0, ..., 0, 0, 0],\n        [0, 0, 0, ..., 0, 0, 0]], dtype=int16),\n 'run_01_vec': array([[0, 0, 0, ..., 0, 0, 0],\n        [0, 0, 0, ..., 0, 0, 0],\n        [0, 0, 0, ..., 0, 0, 0],\n        ...,\n        [0, 0, 0, ..., 0, 0, 0],\n        [0, 0, 0, ..., 0, 0, 0],\n        [0, 0, 0, ..., 0, 0, 0]], dtype=int16)}"
     },
     "execution_count": 28,
     "metadata": {},
     "output_type": "execute_result"
    }
   ],
   "source": [
    "subject_path = data_path_dictionary['subject_data'][0] #'svm_data/10004_08693/svm_subj_vecs.mat'\n",
    "subject = access_load_data(subject_path)\n",
    "subject"
   ],
   "metadata": {
    "collapsed": false,
    "pycharm": {
     "name": "#%%\n"
    }
   }
  },
  {
   "cell_type": "code",
   "execution_count": 33,
   "outputs": [],
   "source": [
    "def masking_data_me(subject, mask, mask_labels, binary_labels,do_norm):\n",
    "    \"\"\"\n",
    "\n",
    "\n",
    "    \"\"\"\n",
    "\n",
    "    arr = []\n",
    "    label_arr = []\n",
    "    for i in tqdm.tqdm(range(4)):\n",
    "        user_key = 'run_0' + str(i+1) + '_vec'\n",
    "        array = subject[user_key]\n",
    "        array_masked = array[:, mask]\n",
    "        array_masked = array_masked[mask_labels]\n",
    "\n",
    "        # Add function for standard scaler z-score normalization\n",
    "        # across each run\n",
    "        #scaler = StandardScaler.fit(array_masked[mask_labels])\n",
    "        #masked_norm_data = scaler.transform(array_masked[mask_labels])\n",
    "\n",
    "\n",
    "        #arr.append(masked_norm_data)\n",
    "        if do_norm:\n",
    "            array_masked = clean(array_masked,standardize='psc')\n",
    "\n",
    "        arr.append(array_masked)\n",
    "        label_arr.append(binary_labels)\n",
    "\n",
    "    return arr, label_arr"
   ],
   "metadata": {
    "collapsed": false,
    "pycharm": {
     "name": "#%%\n"
    }
   }
  },
  {
   "cell_type": "code",
   "execution_count": 35,
   "outputs": [
    {
     "name": "stderr",
     "output_type": "stream",
     "text": [
      "100%|██████████| 4/4 [00:01<00:00,  2.04it/s]\n"
     ]
    }
   ],
   "source": [
    "subj_mask_data = masking_data_me(subject,mask,masked_indices,binary_labels,True)"
   ],
   "metadata": {
    "collapsed": false,
    "pycharm": {
     "name": "#%%\n"
    }
   }
  },
  {
   "cell_type": "code",
   "execution_count": 36,
   "outputs": [
    {
     "data": {
      "text/plain": "([array([[ 0.       ,  0.       ,  0.       , ...,  3.4595332, -2.7081203,\n          -4.08065  ],\n         [ 0.       ,  0.       ,  0.       , ...,  3.0718458, -2.8591168,\n          -2.5701163],\n         [ 0.       ,  0.       ,  0.       , ...,  1.8663439, -4.98893  ,\n          -3.2585096],\n         ...,\n         [ 0.       ,  0.       ,  0.       , ...,  3.3766582,  4.5196137,\n           6.078048 ],\n         [ 0.       ,  0.       ,  0.       , ..., -2.0088224, -1.2887629,\n          -3.3319068],\n         [ 0.       ,  0.       ,  0.       , ...,  1.0262262, -3.976704 ,\n          -2.5131683]], dtype=float32),\n  array([[ 0.        ,  0.        ,  0.        , ...,  3.8679485 ,\n           0.96662223, -2.143643  ],\n         [ 0.        ,  0.        ,  0.        , ...,  1.5796369 ,\n           6.191506  ,  6.2866488 ],\n         [ 0.        ,  0.        ,  0.        , ...,  5.3922853 ,\n          -1.475869  , -2.6557198 ],\n         ...,\n         [ 0.        ,  0.        ,  0.        , ..., -0.14052449,\n          -5.5511603 , -5.964241  ],\n         [ 0.        ,  0.        ,  0.        , ...,  2.9267578 ,\n           2.0878115 , -0.49422505],\n         [ 0.        ,  0.        ,  0.        , ...,  2.018754  ,\n           5.6177034 ,  5.0406246 ]], dtype=float32),\n  array([[ 0.       ,  0.       ,  0.       , ...,  0.6110767, -0.6227848,\n          -3.0108976],\n         [ 0.       ,  0.       ,  0.       , ...,  1.4106447,  4.643394 ,\n           5.667002 ],\n         [ 0.       ,  0.       ,  0.       , ...,  1.6520433,  4.3542213,\n           4.2527275],\n         ...,\n         [ 0.       ,  0.       ,  0.       , ...,  1.2703732,  0.8560784,\n           4.5501976],\n         [ 0.       ,  0.       ,  0.       , ...,  1.1768703,  3.6102786,\n           2.521272 ],\n         [ 0.       ,  0.       ,  0.       , ..., -4.5541415, -3.6110334,\n          -3.4533172]], dtype=float32),\n  array([[ 0.        ,  0.        ,  0.        , ...,  0.87739676,\n           0.5096822 ,  0.95011127],\n         [ 0.        ,  0.        ,  0.        , ...,  0.02644482,\n           6.5783443 ,  2.023963  ],\n         [ 0.        ,  0.        ,  0.        , ..., -2.8620498 ,\n          -4.250445  , -4.562573  ],\n         ...,\n         [ 0.        ,  0.        ,  0.        , ...,  1.7517365 ,\n           7.6955943 ,  3.9276936 ],\n         [ 0.        ,  0.        ,  0.        , ..., -0.93957734,\n          -1.2136453 ,  0.26249573],\n         [ 0.        ,  0.        ,  0.        , ..., -0.9360792 ,\n           0.47520083, -0.82760686]], dtype=float32)],\n [array([1, 1, 1, 1, 1, 1, 1, 1, 1, 1, 1, 1, 1, 1, 0, 0, 0, 0, 0, 0, 0, 1,\n         1, 1, 1, 1, 1, 1, 0, 0, 0, 0, 0, 0, 0, 0, 0, 0, 0, 0, 0, 0, 0, 0,\n         0, 0, 0, 0, 0, 1, 1, 1, 1, 1, 1, 1, 0, 0, 0, 0, 0, 0, 0, 1, 1, 1,\n         1, 1, 1, 1, 1, 1, 1, 1, 1, 1, 1, 0, 0, 0, 0, 0, 0, 0], dtype=uint16),\n  array([1, 1, 1, 1, 1, 1, 1, 1, 1, 1, 1, 1, 1, 1, 0, 0, 0, 0, 0, 0, 0, 1,\n         1, 1, 1, 1, 1, 1, 0, 0, 0, 0, 0, 0, 0, 0, 0, 0, 0, 0, 0, 0, 0, 0,\n         0, 0, 0, 0, 0, 1, 1, 1, 1, 1, 1, 1, 0, 0, 0, 0, 0, 0, 0, 1, 1, 1,\n         1, 1, 1, 1, 1, 1, 1, 1, 1, 1, 1, 0, 0, 0, 0, 0, 0, 0], dtype=uint16),\n  array([1, 1, 1, 1, 1, 1, 1, 1, 1, 1, 1, 1, 1, 1, 0, 0, 0, 0, 0, 0, 0, 1,\n         1, 1, 1, 1, 1, 1, 0, 0, 0, 0, 0, 0, 0, 0, 0, 0, 0, 0, 0, 0, 0, 0,\n         0, 0, 0, 0, 0, 1, 1, 1, 1, 1, 1, 1, 0, 0, 0, 0, 0, 0, 0, 1, 1, 1,\n         1, 1, 1, 1, 1, 1, 1, 1, 1, 1, 1, 0, 0, 0, 0, 0, 0, 0], dtype=uint16),\n  array([1, 1, 1, 1, 1, 1, 1, 1, 1, 1, 1, 1, 1, 1, 0, 0, 0, 0, 0, 0, 0, 1,\n         1, 1, 1, 1, 1, 1, 0, 0, 0, 0, 0, 0, 0, 0, 0, 0, 0, 0, 0, 0, 0, 0,\n         0, 0, 0, 0, 0, 1, 1, 1, 1, 1, 1, 1, 0, 0, 0, 0, 0, 0, 0, 1, 1, 1,\n         1, 1, 1, 1, 1, 1, 1, 1, 1, 1, 1, 0, 0, 0, 0, 0, 0, 0], dtype=uint16)])"
     },
     "execution_count": 36,
     "metadata": {},
     "output_type": "execute_result"
    }
   ],
   "source": [
    "subj_mask_data"
   ],
   "metadata": {
    "collapsed": false,
    "pycharm": {
     "name": "#%%\n"
    }
   }
  },
  {
   "cell_type": "code",
   "execution_count": null,
   "outputs": [],
   "source": [],
   "metadata": {
    "collapsed": false,
    "pycharm": {
     "name": "#%%\n"
    }
   }
  }
 ],
 "metadata": {
  "kernelspec": {
   "display_name": "Python 3",
   "language": "python",
   "name": "python3"
  },
  "language_info": {
   "codemirror_mode": {
    "name": "ipython",
    "version": 2
   },
   "file_extension": ".py",
   "mimetype": "text/x-python",
   "name": "python",
   "nbconvert_exporter": "python",
   "pygments_lexer": "ipython2",
   "version": "2.7.6"
  }
 },
 "nbformat": 4,
 "nbformat_minor": 0
}