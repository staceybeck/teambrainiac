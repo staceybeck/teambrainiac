{
  "nbformat": 4,
  "nbformat_minor": 0,
  "metadata": {
    "colab": {
      "name": "Timeseries_Cross_Validation.ipynb",
      "provenance": [],
      "machine_shape": "hm",
      "authorship_tag": "ABX9TyNQetJw46CdU8JQnSjznm2e",
      "include_colab_link": true
    },
    "kernelspec": {
      "name": "python3",
      "display_name": "Python 3"
    },
    "language_info": {
      "name": "python"
    }
  },
  "cells": [
    {
      "cell_type": "markdown",
      "metadata": {
        "id": "view-in-github",
        "colab_type": "text"
      },
      "source": [
        "<a href=\"https://colab.research.google.com/github/yecatstevir/teambrainiac/blob/main/source/Timeseries_Cross_Validation.ipynb\" target=\"_parent\"><img src=\"https://colab.research.google.com/assets/colab-badge.svg\" alt=\"Open In Colab\"/></a>"
      ]
    },
    {
      "cell_type": "markdown",
      "source": [
        "# Adolescent and Young Adult Group Whole Brain Cross Validation\n",
        "- Go to 'Runtime' in Colab browser bar, select 'Change Runtime Type', select 'High-RAM' from 'Runtime Shape'. \n",
        "- load local pickle file containing all masked, normalized Whole Brain subject data in numpy matrix format\n",
        "- SVM training per group (subject ids of '100XX-XXXXX' for Adolescent (child) and '300XX-XXXXX' for Young Adult)"
      ],
      "metadata": {
        "id": "rnoEMUzVxTtn"
      }
    },
    {
      "cell_type": "markdown",
      "source": [
        "## Adolescent Time Series Cross Validation\n",
        "### Organize Data Adolescent for Cross Validation\n",
        "If we are performing cross validation, we need to get the data without custom splitting"
      ],
      "metadata": {
        "id": "cXx6btZOxLoV"
      }
    },
    {
      "cell_type": "code",
      "execution_count": 1,
      "metadata": {
        "id": "dy_BNU-Hwd54",
        "colab": {
          "base_uri": "https://localhost:8080/"
        },
        "outputId": "ffcbdc48-8556-4e6d-eb6a-9eec1553b885"
      },
      "outputs": [
        {
          "output_type": "stream",
          "name": "stdout",
          "text": [
            "Mounted at /content/gdrive\n"
          ]
        }
      ],
      "source": [
        "from google.colab import drive\n",
        "drive.mount('/content/gdrive')#, force_remount = True)"
      ]
    },
    {
      "cell_type": "code",
      "source": [
        "# Clone the entire repo.\n",
        "!git clone -l -s https://github.com/yecatstevir/teambrainiac.git\n",
        "# Change directory into cloned repo\n",
        "%cd teambrainiac/source\n",
        "!ls"
      ],
      "metadata": {
        "id": "FoPUKHOkwffF",
        "colab": {
          "base_uri": "https://localhost:8080/"
        },
        "outputId": "892232ad-1a46-45f5-fcfb-90646a016c7b"
      },
      "execution_count": 2,
      "outputs": [
        {
          "output_type": "stream",
          "name": "stdout",
          "text": [
            "Cloning into 'teambrainiac'...\n",
            "warning: --local is ignored\n",
            "remote: Enumerating objects: 819, done.\u001b[K\n",
            "remote: Counting objects: 100% (819/819), done.\u001b[K\n",
            "remote: Compressing objects: 100% (605/605), done.\u001b[K\n",
            "remote: Total 819 (delta 514), reused 399 (delta 198), pack-reused 0\u001b[K\n",
            "Receiving objects: 100% (819/819), 73.28 MiB | 30.02 MiB/s, done.\n",
            "Resolving deltas: 100% (514/514), done.\n",
            "/content/teambrainiac/source\n",
            "access_data.py\t\t\t  models\n",
            "AccuracyMeasures.ipynb\t\t  process.py\n",
            "analysis.py\t\t\t  SingleSubjectSVM.ipynb\n",
            "cross_validation.py\t\t  SubjectVisualization_Models_ZNORM.ipynb\n",
            "data\t\t\t\t  SVM_Group_Adolescent_Whole_brain.ipynb\n",
            "DataExploration_SingleSubj.ipynb  SVM_Group_YA_Whole_brain.ipynb\n",
            "DL\t\t\t\t  TestMask.ipynb\n",
            "Explore_data.ipynb\t\t  train.py\n",
            "Group_All_MASK_SVM.ipynb\t  utils.py\n",
            "helper\t\t\t\t  VisualizationPlayground.ipynb\n",
            "Images\t\t\t\t  Visualize_Data.ipynb\n",
            "__init__.py\t\t\t  visualize.py\n"
          ]
        }
      ]
    },
    {
      "cell_type": "code",
      "source": [
        "from google.colab import files\n",
        "\n",
        "uploaded = files.upload()\n",
        "\n",
        "for fn in uploaded.keys():\n",
        "  print('User uploaded file \"{name}\" with length {length} bytes'.format(\n",
        "      name=fn, length=len(uploaded[fn])))"
      ],
      "metadata": {
        "id": "2f-KKz4gwfhv",
        "colab": {
          "resources": {
            "http://localhost:8080/nbextensions/google.colab/files.js": {
              "data": "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",
              "ok": true,
              "headers": [
                [
                  "content-type",
                  "application/javascript"
                ]
              ],
              "status": 200,
              "status_text": ""
            }
          },
          "base_uri": "https://localhost:8080/",
          "height": 91
        },
        "outputId": "229338dd-0a36-4a3e-f0c6-9d84d1f8cb76"
      },
      "execution_count": 3,
      "outputs": [
        {
          "output_type": "display_data",
          "data": {
            "text/plain": [
              "<IPython.core.display.HTML object>"
            ],
            "text/html": [
              "\n",
              "     <input type=\"file\" id=\"files-8e5985dd-fc7b-4cdc-9481-414b9ab1cf50\" name=\"files[]\" multiple disabled\n",
              "        style=\"border:none\" />\n",
              "     <output id=\"result-8e5985dd-fc7b-4cdc-9481-414b9ab1cf50\">\n",
              "      Upload widget is only available when the cell has been executed in the\n",
              "      current browser session. Please rerun this cell to enable.\n",
              "      </output>\n",
              "      <script src=\"/nbextensions/google.colab/files.js\"></script> "
            ]
          },
          "metadata": {}
        },
        {
          "output_type": "stream",
          "name": "stdout",
          "text": [
            "Saving path_config.py to path_config.py\n",
            "User uploaded file \"path_config.py\" with length 228 bytes\n"
          ]
        }
      ]
    },
    {
      "cell_type": "code",
      "source": [
        "# Import libraries\n",
        "!pip install boto3 nilearn\n",
        "import pickle\n",
        "from visualize import plot_alphas\n",
        "from train import run_grp_svm_model\n",
        "from analysis import create_bmaps, get_threshold_image, metrics\n",
        "from process import *\n",
        "from access_data import *\n",
        "from sklearn.experimental import enable_halving_search_cv\n",
        "from cross_validation import time_series_cv\n",
        "from sklearn.model_selection import TimeSeriesSplit, HalvingGridSearchCV\n",
        "\n",
        "from sklearn.svm import SVC\n",
        "import numpy as np\n",
        "from collections import defaultdict\n",
        "import nibabel as nib\n",
        "from nilearn import plotting\n",
        "import matplotlib.pyplot as plt"
      ],
      "metadata": {
        "id": "5G13f4R3wfkL",
        "colab": {
          "base_uri": "https://localhost:8080/"
        },
        "outputId": "58dc3461-a038-4d41-ff98-9aad6a74c32b"
      },
      "execution_count": 9,
      "outputs": [
        {
          "output_type": "stream",
          "name": "stdout",
          "text": [
            "Requirement already satisfied: boto3 in /usr/local/lib/python3.7/dist-packages (1.21.37)\n",
            "Requirement already satisfied: nilearn in /usr/local/lib/python3.7/dist-packages (0.9.0)\n",
            "Requirement already satisfied: s3transfer<0.6.0,>=0.5.0 in /usr/local/lib/python3.7/dist-packages (from boto3) (0.5.2)\n",
            "Requirement already satisfied: botocore<1.25.0,>=1.24.37 in /usr/local/lib/python3.7/dist-packages (from boto3) (1.24.37)\n",
            "Requirement already satisfied: jmespath<2.0.0,>=0.7.1 in /usr/local/lib/python3.7/dist-packages (from boto3) (1.0.0)\n",
            "Requirement already satisfied: urllib3<1.27,>=1.25.4 in /usr/local/lib/python3.7/dist-packages (from botocore<1.25.0,>=1.24.37->boto3) (1.25.11)\n",
            "Requirement already satisfied: python-dateutil<3.0.0,>=2.1 in /usr/local/lib/python3.7/dist-packages (from botocore<1.25.0,>=1.24.37->boto3) (2.8.2)\n",
            "Requirement already satisfied: six>=1.5 in /usr/local/lib/python3.7/dist-packages (from python-dateutil<3.0.0,>=2.1->botocore<1.25.0,>=1.24.37->boto3) (1.15.0)\n",
            "Requirement already satisfied: scikit-learn>=0.21 in /usr/local/lib/python3.7/dist-packages (from nilearn) (1.0.2)\n",
            "Requirement already satisfied: numpy>=1.16 in /usr/local/lib/python3.7/dist-packages (from nilearn) (1.21.5)\n",
            "Requirement already satisfied: scipy>=1.2 in /usr/local/lib/python3.7/dist-packages (from nilearn) (1.4.1)\n",
            "Requirement already satisfied: pandas>=0.24.0 in /usr/local/lib/python3.7/dist-packages (from nilearn) (1.3.5)\n",
            "Requirement already satisfied: requests>=2 in /usr/local/lib/python3.7/dist-packages (from nilearn) (2.23.0)\n",
            "Requirement already satisfied: joblib>=0.12 in /usr/local/lib/python3.7/dist-packages (from nilearn) (1.1.0)\n",
            "Requirement already satisfied: nibabel>=2.5 in /usr/local/lib/python3.7/dist-packages (from nilearn) (3.0.2)\n",
            "Requirement already satisfied: pytz>=2017.3 in /usr/local/lib/python3.7/dist-packages (from pandas>=0.24.0->nilearn) (2018.9)\n",
            "Requirement already satisfied: chardet<4,>=3.0.2 in /usr/local/lib/python3.7/dist-packages (from requests>=2->nilearn) (3.0.4)\n",
            "Requirement already satisfied: certifi>=2017.4.17 in /usr/local/lib/python3.7/dist-packages (from requests>=2->nilearn) (2021.10.8)\n",
            "Requirement already satisfied: idna<3,>=2.5 in /usr/local/lib/python3.7/dist-packages (from requests>=2->nilearn) (2.10)\n",
            "Requirement already satisfied: threadpoolctl>=2.0.0 in /usr/local/lib/python3.7/dist-packages (from scikit-learn>=0.21->nilearn) (3.1.0)\n"
          ]
        }
      ]
    },
    {
      "cell_type": "code",
      "source": [
        "%%time\n",
        "# Get mat file \n",
        "mask_type = 'mask' #'mask', 'masksubACC', 'masksubAI', 'masksubNAcc', 'masksubmPFC'\n",
        "label_type = 'rt_labels' \n",
        "psc_norm = False\n",
        "from_mat = 'unnorm' #unnorm\n",
        "data_type = \"AD_AD\"\n",
        "m_path_ind = 0 #get sub_mask data in mask_data key\n",
        "l_path_ind = 0 #get data in data from rt_label key\n",
        "\n",
        "#filename to save data in as a pickle, locally\n",
        "filename = f\"all_data_{mask_type}_{from_mat}_2d.pkl\"\n",
        "\n",
        "#open path dictionary file to get subject ids\n",
        "dict_path = \"data/data_path_dictionary.pkl\"\n",
        "data_path_dict = open_pickle(dict_path)\n",
        "data_path = \"data/\"\n",
        "subject_ids = data_path_dict['subject_ID']\n",
        "\n",
        "# process data if not in AWS already\n",
        "obj_name, _, _ = access_aws()\n",
        "statement = False\n",
        "for i in obj_name:\n",
        "  if filename in i.key:\n",
        "    statement = True\n",
        "\n",
        "if statement == False:\n",
        "  print(\"Masking mat data...\")\n",
        "  data = masked_data_n_labels(mask_type, label_type, data_path_dict, psc_norm, m_path_ind, l_path_ind)\n",
        "  print(f\"Saving data to local path {data_path}{filename}\")\n",
        "  f = open(f\"{data_path}{filename}\", \"wb\")\n",
        "  pickle.dump(data, f)\n",
        "  f.close()\n",
        "else:\n",
        "  print(\"Loading in masked data\")\n",
        "  data = access_load_data(filename, False)\n"
      ],
      "metadata": {
        "id": "KgW6g4CKwfmh",
        "colab": {
          "base_uri": "https://localhost:8080/"
        },
        "outputId": "8aa7a3fc-e93c-47bb-a576-b740a4a3d5fa"
      },
      "execution_count": 12,
      "outputs": [
        {
          "output_type": "stream",
          "name": "stdout",
          "text": [
            "Loading in masked data\n",
            "CPU times: user 41.9 s, sys: 1min 9s, total: 1min 50s\n",
            "Wall time: 1min 19s\n"
          ]
        }
      ]
    },
    {
      "cell_type": "code",
      "source": [
        "%%time \n",
        "# Split dataset into Adolescents adults\n",
        "ad = subject_ids[:33]\n",
        "print(\"Number of subjects for Adolescent \", len(ad))\n",
        "\n",
        "#Function Calls\n",
        "znorm = \"RUNS\" \n",
        "x_id = ad[:13]\n",
        "xt_id = ad[13:]\n",
        "group_sub_ids = (x_id, xt_id)\n",
        "runs_train = [1,2] # Grab run 2, 3 (0 indexing)\n",
        "runs_test = [1,2] \n",
        "\n",
        "\n",
        "X, y = data_for_cv(data, group_sub_ids, runs_train, runs_test, znorm)"
      ],
      "metadata": {
        "id": "K8x-0pnAwfo1",
        "colab": {
          "base_uri": "https://localhost:8080/"
        },
        "outputId": "b66e3fed-1017-427a-926a-eb607d729385"
      },
      "execution_count": 13,
      "outputs": [
        {
          "output_type": "stream",
          "name": "stdout",
          "text": [
            "Number of subjects for Adolescent  33\n",
            "Normalizing Each based on RUNS...\n",
            "Final X data shape to feed into Time Series Cross Validation (5544, 237979)\n",
            "Final y data shape to feed into Time Series Cross Validation (5544,)\n",
            "CPU times: user 34 s, sys: 52.6 s, total: 1min 26s\n",
            "Wall time: 1min 26s\n"
          ]
        }
      ]
    },
    {
      "cell_type": "markdown",
      "source": [
        "### Run the Adolescent Time Series Cross Validation"
      ],
      "metadata": {
        "id": "5SxPUHJfxfW4"
      }
    },
    {
      "cell_type": "code",
      "source": [
        "max_train = 2500\n",
        "test_size = None\n",
        "splits = 5\n",
        "\n",
        "directory = 'metrics/group_svm/whole/'\n",
        "#directory = 'metrics/group_svm/subpfc/'\n",
        "param_dict = {'C': [1, 5, 10],\n",
        "              'gamma': [0.01, 'auto', 'scale'],\n",
        "              'max_iter': [1000]}\n",
        "gd_srch = True\n",
        "file_name = f'{directory}{data_type}_{mask_type}_grdsrchcv_1.csv'\n",
        "\n",
        "time_series_cv(X, y, max_train, test_size, splits, gd_srch, param_dict, file_name)"
      ],
      "metadata": {
        "id": "ckbGRHebwfq7",
        "colab": {
          "base_uri": "https://localhost:8080/"
        },
        "outputId": "c95c1ec3-14e6-47de-eb1d-c96bcb055d84"
      },
      "execution_count": 15,
      "outputs": [
        {
          "output_type": "stream",
          "name": "stderr",
          "text": [
            "/usr/local/lib/python3.7/dist-packages/sklearn/svm/_base.py:289: ConvergenceWarning: Solver terminated early (max_iter=1000).  Consider pre-processing your data with StandardScaler or MinMaxScaler.\n",
            "  ConvergenceWarning,\n",
            "/usr/local/lib/python3.7/dist-packages/sklearn/svm/_base.py:289: ConvergenceWarning: Solver terminated early (max_iter=1000).  Consider pre-processing your data with StandardScaler or MinMaxScaler.\n",
            "  ConvergenceWarning,\n",
            "/usr/local/lib/python3.7/dist-packages/sklearn/svm/_base.py:289: ConvergenceWarning: Solver terminated early (max_iter=1000).  Consider pre-processing your data with StandardScaler or MinMaxScaler.\n",
            "  ConvergenceWarning,\n",
            "/usr/local/lib/python3.7/dist-packages/sklearn/svm/_base.py:289: ConvergenceWarning: Solver terminated early (max_iter=1000).  Consider pre-processing your data with StandardScaler or MinMaxScaler.\n",
            "  ConvergenceWarning,\n",
            "/usr/local/lib/python3.7/dist-packages/sklearn/svm/_base.py:289: ConvergenceWarning: Solver terminated early (max_iter=1000).  Consider pre-processing your data with StandardScaler or MinMaxScaler.\n",
            "  ConvergenceWarning,\n",
            "/usr/local/lib/python3.7/dist-packages/sklearn/svm/_base.py:289: ConvergenceWarning: Solver terminated early (max_iter=1000).  Consider pre-processing your data with StandardScaler or MinMaxScaler.\n",
            "  ConvergenceWarning,\n",
            "/usr/local/lib/python3.7/dist-packages/sklearn/svm/_base.py:289: ConvergenceWarning: Solver terminated early (max_iter=1000).  Consider pre-processing your data with StandardScaler or MinMaxScaler.\n",
            "  ConvergenceWarning,\n",
            "/usr/local/lib/python3.7/dist-packages/sklearn/svm/_base.py:289: ConvergenceWarning: Solver terminated early (max_iter=1000).  Consider pre-processing your data with StandardScaler or MinMaxScaler.\n",
            "  ConvergenceWarning,\n",
            "/usr/local/lib/python3.7/dist-packages/sklearn/svm/_base.py:289: ConvergenceWarning: Solver terminated early (max_iter=1000).  Consider pre-processing your data with StandardScaler or MinMaxScaler.\n",
            "  ConvergenceWarning,\n",
            "/usr/local/lib/python3.7/dist-packages/sklearn/svm/_base.py:289: ConvergenceWarning: Solver terminated early (max_iter=1000).  Consider pre-processing your data with StandardScaler or MinMaxScaler.\n",
            "  ConvergenceWarning,\n",
            "/usr/local/lib/python3.7/dist-packages/sklearn/svm/_base.py:289: ConvergenceWarning: Solver terminated early (max_iter=1000).  Consider pre-processing your data with StandardScaler or MinMaxScaler.\n",
            "  ConvergenceWarning,\n",
            "/usr/local/lib/python3.7/dist-packages/sklearn/svm/_base.py:289: ConvergenceWarning: Solver terminated early (max_iter=1000).  Consider pre-processing your data with StandardScaler or MinMaxScaler.\n",
            "  ConvergenceWarning,\n",
            "/usr/local/lib/python3.7/dist-packages/sklearn/svm/_base.py:289: ConvergenceWarning: Solver terminated early (max_iter=1000).  Consider pre-processing your data with StandardScaler or MinMaxScaler.\n",
            "  ConvergenceWarning,\n",
            "/usr/local/lib/python3.7/dist-packages/sklearn/svm/_base.py:289: ConvergenceWarning: Solver terminated early (max_iter=1000).  Consider pre-processing your data with StandardScaler or MinMaxScaler.\n",
            "  ConvergenceWarning,\n",
            "/usr/local/lib/python3.7/dist-packages/sklearn/svm/_base.py:289: ConvergenceWarning: Solver terminated early (max_iter=1000).  Consider pre-processing your data with StandardScaler or MinMaxScaler.\n",
            "  ConvergenceWarning,\n",
            "/usr/local/lib/python3.7/dist-packages/sklearn/svm/_base.py:289: ConvergenceWarning: Solver terminated early (max_iter=1000).  Consider pre-processing your data with StandardScaler or MinMaxScaler.\n",
            "  ConvergenceWarning,\n",
            "/usr/local/lib/python3.7/dist-packages/sklearn/svm/_base.py:289: ConvergenceWarning: Solver terminated early (max_iter=1000).  Consider pre-processing your data with StandardScaler or MinMaxScaler.\n",
            "  ConvergenceWarning,\n"
          ]
        },
        {
          "output_type": "stream",
          "name": "stdout",
          "text": [
            "Uploading gridsearch results to cloud...\n",
            "upload complete for metrics/group_svm/whole/AD_AD_mask_grdsrchcv_1.csv\n",
            "Best parameters:  {'C': 10, 'gamma': 'scale'}\n",
            "Best estimator:  SVC(C=10, class_weight='balanced', max_iter=1000, random_state=42)\n",
            "Best score:  0.7064935064935065\n"
          ]
        }
      ]
    },
    {
      "cell_type": "code",
      "source": [
        "## Cross Validation accuracy scores recorded\n",
        "\n",
        "dictionary = {\"Cross Validation Adolescent Train run 2/Test run 3\": [\"1\",\"2\",\"3\",\"4\",\"5\",\"Average\"], \n",
        "              \"Unnormalized\": [.50, .51, .50, .50, .50, .50],\n",
        "              \"PSC per run\": [.53, .63, .50, .50, .59, .55 ], \n",
        "              \"PSC + Z Norm per Subject\": [.63, .72, .62, .58, .52, .61], \n",
        "              \"PSC + Z Norm per Run\": [.68, .75, .73, .71, .77, .73], \n",
        "              \"Z Norm per Run (No PSC)\": [.62, .71, .72, .65, .63, .67]\n",
        "              }\n",
        "\n",
        "df = pd.DataFrame(dictionary)\n",
        "df.set_index(\"Cross Validation Adolescent Train run 2/Test run 3\", inplace = True)\n",
        "df"
      ],
      "metadata": {
        "id": "SBR7K4xbwftx",
        "colab": {
          "base_uri": "https://localhost:8080/",
          "height": 347
        },
        "outputId": "71df37d8-0e1e-4fa3-d613-cebd91f90318"
      },
      "execution_count": 16,
      "outputs": [
        {
          "output_type": "execute_result",
          "data": {
            "text/plain": [
              "                                                    Unnormalized  PSC per run  \\\n",
              "Cross Validation Adolescent Train run 2/Test run 3                              \n",
              "1                                                           0.50         0.53   \n",
              "2                                                           0.51         0.63   \n",
              "3                                                           0.50         0.50   \n",
              "4                                                           0.50         0.50   \n",
              "5                                                           0.50         0.59   \n",
              "Average                                                     0.50         0.55   \n",
              "\n",
              "                                                    PSC + Z Norm per Subject  \\\n",
              "Cross Validation Adolescent Train run 2/Test run 3                             \n",
              "1                                                                       0.63   \n",
              "2                                                                       0.72   \n",
              "3                                                                       0.62   \n",
              "4                                                                       0.58   \n",
              "5                                                                       0.52   \n",
              "Average                                                                 0.61   \n",
              "\n",
              "                                                    PSC + Z Norm per Run  \\\n",
              "Cross Validation Adolescent Train run 2/Test run 3                         \n",
              "1                                                                   0.68   \n",
              "2                                                                   0.75   \n",
              "3                                                                   0.73   \n",
              "4                                                                   0.71   \n",
              "5                                                                   0.77   \n",
              "Average                                                             0.73   \n",
              "\n",
              "                                                    Z Norm per Run (No PSC)  \n",
              "Cross Validation Adolescent Train run 2/Test run 3                           \n",
              "1                                                                      0.62  \n",
              "2                                                                      0.71  \n",
              "3                                                                      0.72  \n",
              "4                                                                      0.65  \n",
              "5                                                                      0.63  \n",
              "Average                                                                0.67  "
            ],
            "text/html": [
              "\n",
              "  <div id=\"df-03623900-1073-49f9-b544-0d894f7b65a3\">\n",
              "    <div class=\"colab-df-container\">\n",
              "      <div>\n",
              "<style scoped>\n",
              "    .dataframe tbody tr th:only-of-type {\n",
              "        vertical-align: middle;\n",
              "    }\n",
              "\n",
              "    .dataframe tbody tr th {\n",
              "        vertical-align: top;\n",
              "    }\n",
              "\n",
              "    .dataframe thead th {\n",
              "        text-align: right;\n",
              "    }\n",
              "</style>\n",
              "<table border=\"1\" class=\"dataframe\">\n",
              "  <thead>\n",
              "    <tr style=\"text-align: right;\">\n",
              "      <th></th>\n",
              "      <th>Unnormalized</th>\n",
              "      <th>PSC per run</th>\n",
              "      <th>PSC + Z Norm per Subject</th>\n",
              "      <th>PSC + Z Norm per Run</th>\n",
              "      <th>Z Norm per Run (No PSC)</th>\n",
              "    </tr>\n",
              "    <tr>\n",
              "      <th>Cross Validation Adolescent Train run 2/Test run 3</th>\n",
              "      <th></th>\n",
              "      <th></th>\n",
              "      <th></th>\n",
              "      <th></th>\n",
              "      <th></th>\n",
              "    </tr>\n",
              "  </thead>\n",
              "  <tbody>\n",
              "    <tr>\n",
              "      <th>1</th>\n",
              "      <td>0.50</td>\n",
              "      <td>0.53</td>\n",
              "      <td>0.63</td>\n",
              "      <td>0.68</td>\n",
              "      <td>0.62</td>\n",
              "    </tr>\n",
              "    <tr>\n",
              "      <th>2</th>\n",
              "      <td>0.51</td>\n",
              "      <td>0.63</td>\n",
              "      <td>0.72</td>\n",
              "      <td>0.75</td>\n",
              "      <td>0.71</td>\n",
              "    </tr>\n",
              "    <tr>\n",
              "      <th>3</th>\n",
              "      <td>0.50</td>\n",
              "      <td>0.50</td>\n",
              "      <td>0.62</td>\n",
              "      <td>0.73</td>\n",
              "      <td>0.72</td>\n",
              "    </tr>\n",
              "    <tr>\n",
              "      <th>4</th>\n",
              "      <td>0.50</td>\n",
              "      <td>0.50</td>\n",
              "      <td>0.58</td>\n",
              "      <td>0.71</td>\n",
              "      <td>0.65</td>\n",
              "    </tr>\n",
              "    <tr>\n",
              "      <th>5</th>\n",
              "      <td>0.50</td>\n",
              "      <td>0.59</td>\n",
              "      <td>0.52</td>\n",
              "      <td>0.77</td>\n",
              "      <td>0.63</td>\n",
              "    </tr>\n",
              "    <tr>\n",
              "      <th>Average</th>\n",
              "      <td>0.50</td>\n",
              "      <td>0.55</td>\n",
              "      <td>0.61</td>\n",
              "      <td>0.73</td>\n",
              "      <td>0.67</td>\n",
              "    </tr>\n",
              "  </tbody>\n",
              "</table>\n",
              "</div>\n",
              "      <button class=\"colab-df-convert\" onclick=\"convertToInteractive('df-03623900-1073-49f9-b544-0d894f7b65a3')\"\n",
              "              title=\"Convert this dataframe to an interactive table.\"\n",
              "              style=\"display:none;\">\n",
              "        \n",
              "  <svg xmlns=\"http://www.w3.org/2000/svg\" height=\"24px\"viewBox=\"0 0 24 24\"\n",
              "       width=\"24px\">\n",
              "    <path d=\"M0 0h24v24H0V0z\" fill=\"none\"/>\n",
              "    <path d=\"M18.56 5.44l.94 2.06.94-2.06 2.06-.94-2.06-.94-.94-2.06-.94 2.06-2.06.94zm-11 1L8.5 8.5l.94-2.06 2.06-.94-2.06-.94L8.5 2.5l-.94 2.06-2.06.94zm10 10l.94 2.06.94-2.06 2.06-.94-2.06-.94-.94-2.06-.94 2.06-2.06.94z\"/><path d=\"M17.41 7.96l-1.37-1.37c-.4-.4-.92-.59-1.43-.59-.52 0-1.04.2-1.43.59L10.3 9.45l-7.72 7.72c-.78.78-.78 2.05 0 2.83L4 21.41c.39.39.9.59 1.41.59.51 0 1.02-.2 1.41-.59l7.78-7.78 2.81-2.81c.8-.78.8-2.07 0-2.86zM5.41 20L4 18.59l7.72-7.72 1.47 1.35L5.41 20z\"/>\n",
              "  </svg>\n",
              "      </button>\n",
              "      \n",
              "  <style>\n",
              "    .colab-df-container {\n",
              "      display:flex;\n",
              "      flex-wrap:wrap;\n",
              "      gap: 12px;\n",
              "    }\n",
              "\n",
              "    .colab-df-convert {\n",
              "      background-color: #E8F0FE;\n",
              "      border: none;\n",
              "      border-radius: 50%;\n",
              "      cursor: pointer;\n",
              "      display: none;\n",
              "      fill: #1967D2;\n",
              "      height: 32px;\n",
              "      padding: 0 0 0 0;\n",
              "      width: 32px;\n",
              "    }\n",
              "\n",
              "    .colab-df-convert:hover {\n",
              "      background-color: #E2EBFA;\n",
              "      box-shadow: 0px 1px 2px rgba(60, 64, 67, 0.3), 0px 1px 3px 1px rgba(60, 64, 67, 0.15);\n",
              "      fill: #174EA6;\n",
              "    }\n",
              "\n",
              "    [theme=dark] .colab-df-convert {\n",
              "      background-color: #3B4455;\n",
              "      fill: #D2E3FC;\n",
              "    }\n",
              "\n",
              "    [theme=dark] .colab-df-convert:hover {\n",
              "      background-color: #434B5C;\n",
              "      box-shadow: 0px 1px 3px 1px rgba(0, 0, 0, 0.15);\n",
              "      filter: drop-shadow(0px 1px 2px rgba(0, 0, 0, 0.3));\n",
              "      fill: #FFFFFF;\n",
              "    }\n",
              "  </style>\n",
              "\n",
              "      <script>\n",
              "        const buttonEl =\n",
              "          document.querySelector('#df-03623900-1073-49f9-b544-0d894f7b65a3 button.colab-df-convert');\n",
              "        buttonEl.style.display =\n",
              "          google.colab.kernel.accessAllowed ? 'block' : 'none';\n",
              "\n",
              "        async function convertToInteractive(key) {\n",
              "          const element = document.querySelector('#df-03623900-1073-49f9-b544-0d894f7b65a3');\n",
              "          const dataTable =\n",
              "            await google.colab.kernel.invokeFunction('convertToInteractive',\n",
              "                                                     [key], {});\n",
              "          if (!dataTable) return;\n",
              "\n",
              "          const docLinkHtml = 'Like what you see? Visit the ' +\n",
              "            '<a target=\"_blank\" href=https://colab.research.google.com/notebooks/data_table.ipynb>data table notebook</a>'\n",
              "            + ' to learn more about interactive tables.';\n",
              "          element.innerHTML = '';\n",
              "          dataTable['output_type'] = 'display_data';\n",
              "          await google.colab.output.renderOutput(dataTable, element);\n",
              "          const docLink = document.createElement('div');\n",
              "          docLink.innerHTML = docLinkHtml;\n",
              "          element.appendChild(docLink);\n",
              "        }\n",
              "      </script>\n",
              "    </div>\n",
              "  </div>\n",
              "  "
            ]
          },
          "metadata": {},
          "execution_count": 16
        }
      ]
    },
    {
      "cell_type": "code",
      "source": [
        ""
      ],
      "metadata": {
        "id": "5V89S6LmhCmE"
      },
      "execution_count": null,
      "outputs": []
    },
    {
      "cell_type": "code",
      "source": [
        ""
      ],
      "metadata": {
        "id": "IeC-xSGdw0bw"
      },
      "execution_count": null,
      "outputs": []
    },
    {
      "cell_type": "markdown",
      "source": [
        "## Young Adult Time Series Cross Validation\n",
        "### Organize Data Young Adult for Cross Validation\n",
        "If we are performing cross validation, we need to get the data without custom splitting"
      ],
      "metadata": {
        "id": "VYaRNs_Lw0uS"
      }
    },
    {
      "cell_type": "code",
      "source": [
        "%%time\n",
        "# Get mat file \n",
        "mask_type = 'mask' #'mask', 'masksubACC', 'masksubAI', 'masksubNAcc', 'masksubmPFC'\n",
        "label_type = 'rt_labels' \n",
        "psc_norm = False\n",
        "from_mat = 'unnorm' #'psc' 'unnorm'\n",
        "data_type = \"YA_YA\"\n",
        "m_path_ind = 0 #get sub_mask data in mask_data key\n",
        "l_path_ind = 0 #get data in data from rt_label key\n",
        "\n",
        "\n",
        "\n",
        "#open path dictionary file to get subject ids\n",
        "dict_path = \"data/data_path_dictionary.pkl\"\n",
        "data_path_dict = open_pickle(dict_path)\n",
        "data_path = \"data/\"\n",
        "filename2 = f\"all_data_{mask_type}_{from_mat}_2d.pkl\"\n",
        "subject_ids = data_path_dict['subject_ID']\n",
        "\n",
        "\n",
        "\n",
        "# process data if not in AWS already\n",
        "obj_name, _, _ = access_aws()\n",
        "statement = False\n",
        "for i in obj_name:\n",
        "  if filename2 in i.key:\n",
        "    statement = True\n",
        "\n",
        "if statement == False:\n",
        "  print(\"Masking mat data...\")\n",
        "  data = masked_data_n_labels(mask_type, label_type, data_path_dict, psc_norm, m_path_ind, l_path_ind)\n",
        "  print(f\"Saving data to local path {data_path}{filename2}\")\n",
        "  f = open(f\"{data_path}{filename2}\", \"wb\")\n",
        "  pickle.dump(data, f)\n",
        "  f.close()\n",
        "elif statement == True:\n",
        "  print(\"Loading in masked data\")\n",
        "  data = access_load_data(filename2, False)\n"
      ],
      "metadata": {
        "colab": {
          "base_uri": "https://localhost:8080/"
        },
        "id": "FwgjMy1rNYP0",
        "outputId": "7a9d40a4-0b05-468e-a814-9fc4d5f599ae"
      },
      "execution_count": 5,
      "outputs": [
        {
          "output_type": "stream",
          "name": "stdout",
          "text": [
            "Loading in masked data\n",
            "CPU times: user 30.7 s, sys: 41.2 s, total: 1min 11s\n",
            "Wall time: 1min 5s\n"
          ]
        }
      ]
    },
    {
      "cell_type": "code",
      "source": [
        "%%time \n",
        "# Split dataset into young adults\n",
        "ya = subject_ids[33:]\n",
        "print(\"Number of subjects for Adolescent \", len(ya))\n",
        "\n",
        "#Function Calls\n",
        "znorm = \"RUNS\" \n",
        "x_id = ya[:13]\n",
        "xt_id = ya[13:]\n",
        "group_sub_ids = (x_id, xt_id)\n",
        "runs_train = [1,2] # Grab run 2, 3 (0 indexing)\n",
        "runs_test = [1,2] \n",
        "\n",
        "X, y = data_for_cv(data, group_sub_ids, runs_train, runs_test, znorm)"
      ],
      "metadata": {
        "id": "24kBpBxMxBL-",
        "colab": {
          "base_uri": "https://localhost:8080/"
        },
        "outputId": "c18490a6-7e67-4cc3-efb3-718d44e0080c"
      },
      "execution_count": 6,
      "outputs": [
        {
          "output_type": "stream",
          "name": "stdout",
          "text": [
            "Number of subjects for Adolescent  19\n",
            "Normalizing Each based on RUNS...\n",
            "Final X data shape to feed into Time Series Cross Validation (3192, 237979)\n",
            "Final y data shape to feed into Time Series Cross Validation (3192,)\n",
            "CPU times: user 15.8 s, sys: 13.5 s, total: 29.4 s\n",
            "Wall time: 29.3 s\n"
          ]
        }
      ]
    },
    {
      "cell_type": "markdown",
      "source": [
        "### Run the Time Series Cross Validation"
      ],
      "metadata": {
        "id": "uhCfh1Qkxy6D"
      }
    },
    {
      "cell_type": "code",
      "source": [
        "max_train = 1000\n",
        "test_size = None\n",
        "splits = 5\n",
        "\n",
        "directory = 'metrics/group_svm/whole/'\n",
        "#directory = 'metrics/group_svm/subpfc/'\n",
        "param_dict = {'C': [1, 5, 10],\n",
        "              'gamma': [0.01, 'auto', 'scale'],\n",
        "              'max_iter': [1000]}\n",
        "gd_srch = True\n",
        "file_name2 = f'{directory}{data_type}_{mask_type}_grdsrchcv.pkl'\n",
        "\n",
        "time_series_cv(X, y, max_train, test_size, splits, gd_srch, param_dict, file_name2)"
      ],
      "metadata": {
        "id": "4OXbFDjoxzeD",
        "colab": {
          "base_uri": "https://localhost:8080/"
        },
        "outputId": "65116b16-934c-44fb-db9c-c5322619b957"
      },
      "execution_count": 11,
      "outputs": [
        {
          "output_type": "stream",
          "name": "stderr",
          "text": [
            "/usr/local/lib/python3.7/dist-packages/sklearn/svm/_base.py:289: ConvergenceWarning: Solver terminated early (max_iter=1000).  Consider pre-processing your data with StandardScaler or MinMaxScaler.\n",
            "  ConvergenceWarning,\n",
            "/usr/local/lib/python3.7/dist-packages/sklearn/svm/_base.py:289: ConvergenceWarning: Solver terminated early (max_iter=1000).  Consider pre-processing your data with StandardScaler or MinMaxScaler.\n",
            "  ConvergenceWarning,\n",
            "/usr/local/lib/python3.7/dist-packages/sklearn/svm/_base.py:289: ConvergenceWarning: Solver terminated early (max_iter=1000).  Consider pre-processing your data with StandardScaler or MinMaxScaler.\n",
            "  ConvergenceWarning,\n",
            "/usr/local/lib/python3.7/dist-packages/sklearn/svm/_base.py:289: ConvergenceWarning: Solver terminated early (max_iter=1000).  Consider pre-processing your data with StandardScaler or MinMaxScaler.\n",
            "  ConvergenceWarning,\n",
            "/usr/local/lib/python3.7/dist-packages/sklearn/svm/_base.py:289: ConvergenceWarning: Solver terminated early (max_iter=1000).  Consider pre-processing your data with StandardScaler or MinMaxScaler.\n",
            "  ConvergenceWarning,\n"
          ]
        },
        {
          "output_type": "stream",
          "name": "stdout",
          "text": [
            "Uploading gridsearch results to cloud...\n",
            "upload complete for metrics/group_svm/whole/YA_YA_mask_grdsrchcv.pkl\n",
            "Best parameters:  {'C': 10, 'gamma': 'scale'}\n",
            "Best estimator:  SVC(C=10, class_weight='balanced', max_iter=1000, random_state=42)\n",
            "Best score:  0.7408662900188323\n"
          ]
        }
      ]
    },
    {
      "cell_type": "code",
      "source": [
        "## Cross Validation accuracy scores recorded\n",
        "\n",
        "dictionary = {\"Cross Validation Young Adult Train run 2/Test run 3\": [\"1\",\"2\",\"3\",\"4\",\"5\",\"Average\"], \"Unnormalized\": [.49, .54, .51, .49, .50, .51],\n",
        "              \"PSC per run\": [.49, .61, .60, .62, .50, .56 ], \"PSC + Z Norm per Run\": [.77, .76, .82, .79, .80, .79],\n",
        "              \"Z Norm per Run (No PSC)\": [.77, .75, .82, .81, .80, .79]}\n",
        "\n",
        "df = pd.DataFrame(dictionary)\n",
        "df.set_index(\"Cross Validation Young Adult Train run 2/Test run 3\", inplace = True)\n",
        "df"
      ],
      "metadata": {
        "id": "ZVbzu78i7wXu"
      },
      "execution_count": null,
      "outputs": []
    },
    {
      "cell_type": "code",
      "source": [
        "# For YA znorm whole mask\n",
        "\"\"\"\n",
        "Predicting...\n",
        "1it [03:17, 197.81s/it]Cross Validation Split 1 Accuracy score: 0.6898496240601504\n",
        "Fitting Classifier for iteration number 2\n",
        "Predicting...\n",
        "2it [10:07, 322.61s/it]Cross Validation Split 2 Accuracy score: 0.8120300751879699\n",
        "Fitting Classifier for iteration number 3\n",
        "Predicting...\n",
        "3it [20:03, 447.25s/it]Cross Validation Split 3 Accuracy score: 0.6917293233082706\n",
        "Fitting Classifier for iteration number 4\n",
        "Predicting...\n",
        "4it [31:52, 550.50s/it]Cross Validation Split 4 Accuracy score: 0.7612781954887218\n",
        "Fitting Classifier for iteration number 5\n",
        "Predicting...\n",
        "5it [46:36, 559.36s/it]Cross Validation Split 5 Accuracy score: 0.7800751879699248\n",
        "Mean Accuracy: 0.7469924812030075\"\"\""
      ],
      "metadata": {
        "id": "Ruv5XdsQifwP"
      },
      "execution_count": null,
      "outputs": []
    }
  ]
}