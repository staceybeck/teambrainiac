{
  "nbformat": 4,
  "nbformat_minor": 0,
  "metadata": {
    "colab": {
      "name": "SingleSubjSVM_Analysis.ipynb",
      "provenance": [],
      "machine_shape": "hm",
      "authorship_tag": "ABX9TyNWrwMQXPpLx3Dq8O3xO/4G",
      "include_colab_link": true
    },
    "kernelspec": {
      "name": "python3",
      "display_name": "Python 3"
    },
    "language_info": {
      "name": "python"
    }
  },
  "cells": [
    {
      "cell_type": "markdown",
      "metadata": {
        "id": "view-in-github",
        "colab_type": "text"
      },
      "source": [
        "<a href=\"https://colab.research.google.com/github/yecatstevir/teambrainiac/blob/main/source/SingleSubjSVM_Analysis.ipynb\" target=\"_parent\"><img src=\"https://colab.research.google.com/assets/colab-badge.svg\" alt=\"Open In Colab\"/></a>"
      ]
    },
    {
      "cell_type": "code",
      "execution_count": null,
      "metadata": {
        "id": "ZY2ZnpQ4qy1S"
      },
      "outputs": [],
      "source": [
        ""
      ]
    },
    {
      "cell_type": "code",
      "execution_count": 1,
      "metadata": {
        "colab": {
          "base_uri": "https://localhost:8080/"
        },
        "id": "nEljtKXBF017",
        "outputId": "af2ed0d2-f420-4a94-a950-962d858792f8"
      },
      "outputs": [
        {
          "output_type": "stream",
          "name": "stdout",
          "text": [
            "Mounted at /content/gdrive\n"
          ]
        }
      ],
      "source": [
        "from google.colab import drive\n",
        "drive.mount('/content/gdrive')#, force_remount = True)"
      ]
    },
    {
      "cell_type": "code",
      "source": [
        "from google.colab import drive\n",
        "drive.mount('/content/drive', force_remount=True)"
      ],
      "metadata": {
        "id": "WSXI6A9OF6uV",
        "colab": {
          "base_uri": "https://localhost:8080/"
        },
        "outputId": "5300f1d6-8591-4910-e031-d125973ca7d8"
      },
      "execution_count": 2,
      "outputs": [
        {
          "output_type": "stream",
          "name": "stdout",
          "text": [
            "Mounted at /content/drive\n"
          ]
        }
      ]
    },
    {
      "cell_type": "code",
      "source": [
        "# Clone the entire repo.\n",
        "!git clone -l -s https://github.com/yecatstevir/teambrainiac.git\n",
        "# Change directory into cloned repo\n",
        "%cd teambrainiac/source\n",
        "!ls"
      ],
      "metadata": {
        "colab": {
          "base_uri": "https://localhost:8080/"
        },
        "id": "jnpfOAn7F9EN",
        "outputId": "0b619024-352f-46fd-d5b2-df9b5f4c7e11"
      },
      "execution_count": 3,
      "outputs": [
        {
          "output_type": "stream",
          "name": "stdout",
          "text": [
            "Cloning into 'teambrainiac'...\n",
            "warning: --local is ignored\n",
            "remote: Enumerating objects: 1855, done.\u001b[K\n",
            "remote: Counting objects: 100% (1855/1855), done.\u001b[K\n",
            "remote: Compressing objects: 100% (1474/1474), done.\u001b[K\n",
            "remote: Total 1855 (delta 1213), reused 718 (delta 364), pack-reused 0\u001b[K\n",
            "Receiving objects: 100% (1855/1855), 93.50 MiB | 23.63 MiB/s, done.\n",
            "Resolving deltas: 100% (1213/1213), done.\n",
            "/content/teambrainiac/source\n",
            "access_data.py\t\t\t    process.py\n",
            "brain_viz_single_subj.py\t    single_subject.py\n",
            "BuildSingleSubjectSVM_Models.ipynb  SingleSubjectSVM.ipynb\n",
            "data\t\t\t\t    streamlit\n",
            "DL\t\t\t\t    utils.py\n",
            "group_svm\t\t\t    VisualizationPlayground.ipynb\n",
            "helper\t\t\t\t    VisualizationsNotebook.ipynb\n",
            "__init__.py\n"
          ]
        }
      ]
    },
    {
      "cell_type": "code",
      "source": [
        "from google.colab import files\n",
        "\n",
        "uploaded = files.upload()\n",
        "\n",
        "for fn in uploaded.keys():\n",
        "  print('User uploaded file \"{name}\" with length {length} bytes'.format(\n",
        "      name=fn, length=len(uploaded[fn])))"
      ],
      "metadata": {
        "colab": {
          "resources": {
            "http://localhost:8080/nbextensions/google.colab/files.js": {
              "data": "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",
              "ok": true,
              "headers": [
                [
                  "content-type",
                  "application/javascript"
                ]
              ],
              "status": 200,
              "status_text": ""
            }
          },
          "base_uri": "https://localhost:8080/",
          "height": 93
        },
        "id": "i6NrC81-F_fX",
        "outputId": "0871a39f-dde8-4232-a58a-b417f882cc1d"
      },
      "execution_count": 4,
      "outputs": [
        {
          "output_type": "display_data",
          "data": {
            "text/plain": [
              "<IPython.core.display.HTML object>"
            ],
            "text/html": [
              "\n",
              "     <input type=\"file\" id=\"files-b100a5dd-b532-4b15-9ee6-360494084d88\" name=\"files[]\" multiple disabled\n",
              "        style=\"border:none\" />\n",
              "     <output id=\"result-b100a5dd-b532-4b15-9ee6-360494084d88\">\n",
              "      Upload widget is only available when the cell has been executed in the\n",
              "      current browser session. Please rerun this cell to enable.\n",
              "      </output>\n",
              "      <script src=\"/nbextensions/google.colab/files.js\"></script> "
            ]
          },
          "metadata": {}
        },
        {
          "output_type": "stream",
          "name": "stdout",
          "text": [
            "Saving path_config.py to path_config.py\n",
            "User uploaded file \"path_config.py\" with length 228 bytes\n"
          ]
        }
      ]
    },
    {
      "cell_type": "code",
      "source": [
        "# Import libraries\n",
        "!pip install boto3 nilearn nibabel\n",
        "#to load data\n",
        "import pickle\n",
        "#common packages we need\n",
        "import numpy as np\n",
        "import pandas as pd\n",
        "#for brain imaging\n",
        "import nibabel as nib\n",
        "from nilearn import plotting, image\n",
        "#for making graphs\n",
        "from ipywidgets import interact, interactive, IntSlider, ToggleButtons\n",
        "import matplotlib.pyplot as plt\n",
        "from matplotlib.collections import LineCollection\n",
        "from matplotlib.colors import ListedColormap, BoundaryNorm\n",
        "%matplotlib inline\n",
        "import seaborn as sns\n",
        "from nilearn.image import threshold_img\n",
        "#sklearn packages needed\n",
        "from sklearn.metrics import accuracy_score,confusion_matrix,classification_report,auc,roc_auc_score,precision_recall_curve,precision_score,recall_score\n",
        "from sklearn.svm import SVC\n",
        "#import code for processing and visualizing data\n",
        "from single_subject import *\n",
        "from access_data import *\n",
        "from brain_viz_single_subj import *"
      ],
      "metadata": {
        "colab": {
          "base_uri": "https://localhost:8080/"
        },
        "id": "u0VdinG5GD_m",
        "outputId": "5fb763ab-25fb-44e6-953d-e2574e3d921b"
      },
      "execution_count": 11,
      "outputs": [
        {
          "output_type": "stream",
          "name": "stdout",
          "text": [
            "Requirement already satisfied: boto3 in /usr/local/lib/python3.7/dist-packages (1.21.43)\n",
            "Requirement already satisfied: nilearn in /usr/local/lib/python3.7/dist-packages (0.9.1)\n",
            "Requirement already satisfied: nibabel in /usr/local/lib/python3.7/dist-packages (3.0.2)\n",
            "Requirement already satisfied: s3transfer<0.6.0,>=0.5.0 in /usr/local/lib/python3.7/dist-packages (from boto3) (0.5.2)\n",
            "Requirement already satisfied: botocore<1.25.0,>=1.24.43 in /usr/local/lib/python3.7/dist-packages (from boto3) (1.24.43)\n",
            "Requirement already satisfied: jmespath<2.0.0,>=0.7.1 in /usr/local/lib/python3.7/dist-packages (from boto3) (1.0.0)\n",
            "Requirement already satisfied: urllib3<1.27,>=1.25.4 in /usr/local/lib/python3.7/dist-packages (from botocore<1.25.0,>=1.24.43->boto3) (1.25.11)\n",
            "Requirement already satisfied: python-dateutil<3.0.0,>=2.1 in /usr/local/lib/python3.7/dist-packages (from botocore<1.25.0,>=1.24.43->boto3) (2.8.2)\n",
            "Requirement already satisfied: six>=1.5 in /usr/local/lib/python3.7/dist-packages (from python-dateutil<3.0.0,>=2.1->botocore<1.25.0,>=1.24.43->boto3) (1.15.0)\n",
            "Requirement already satisfied: pandas>=1.0 in /usr/local/lib/python3.7/dist-packages (from nilearn) (1.3.5)\n",
            "Requirement already satisfied: numpy>=1.18 in /usr/local/lib/python3.7/dist-packages (from nilearn) (1.21.6)\n",
            "Requirement already satisfied: scipy>=1.5 in /usr/local/lib/python3.7/dist-packages (from nilearn) (1.7.3)\n",
            "Requirement already satisfied: requests>=2 in /usr/local/lib/python3.7/dist-packages (from nilearn) (2.23.0)\n",
            "Requirement already satisfied: scikit-learn>=0.22 in /usr/local/lib/python3.7/dist-packages (from nilearn) (1.0.2)\n",
            "Requirement already satisfied: joblib>=0.15 in /usr/local/lib/python3.7/dist-packages (from nilearn) (1.1.0)\n",
            "Requirement already satisfied: lxml in /usr/local/lib/python3.7/dist-packages (from nilearn) (4.2.6)\n",
            "Requirement already satisfied: pytz>=2017.3 in /usr/local/lib/python3.7/dist-packages (from pandas>=1.0->nilearn) (2022.1)\n",
            "Requirement already satisfied: idna<3,>=2.5 in /usr/local/lib/python3.7/dist-packages (from requests>=2->nilearn) (2.10)\n",
            "Requirement already satisfied: certifi>=2017.4.17 in /usr/local/lib/python3.7/dist-packages (from requests>=2->nilearn) (2021.10.8)\n",
            "Requirement already satisfied: chardet<4,>=3.0.2 in /usr/local/lib/python3.7/dist-packages (from requests>=2->nilearn) (3.0.4)\n",
            "Requirement already satisfied: threadpoolctl>=2.0.0 in /usr/local/lib/python3.7/dist-packages (from scikit-learn>=0.22->nilearn) (3.1.0)\n"
          ]
        }
      ]
    },
    {
      "cell_type": "code",
      "source": [
        "#get common variables we need across multiple cells\n",
        "data_path_dict = get_data_dict()\n",
        "subj_ids, _ = get_subj_information(data_path_dict)\n",
        "_ , y_test,_= get_labels(data_path_dict)\n",
        "##get brain images\n",
        "affine_image,t1_image,mni_image = get_brain_templates()"
      ],
      "metadata": {
        "id": "8lmyk47Htpjb"
      },
      "execution_count": 7,
      "outputs": []
    },
    {
      "cell_type": "code",
      "source": [
        "##setting mask list\n",
        "#masks we want to run model on, needs to be nested list for cell to run\n",
        "#indices of the masks we want 0 = whole brain mask and masks minus ROIs, 1 = ROIs\n",
        "mask_indices = [0,1]\n",
        "mask_list = []\n",
        "# for ind in mask_indices:\n",
        "#   mask_dict = get_mask_data(data_path_dict,ind)  \n",
        "#   masks = list(mask_dict.keys())[3:]\n",
        "#   mask_list.append(masks)\n",
        "#Example of building your own\n",
        "mask_dict = get_mask_data(data_path_dict,0)\n",
        "mask_list = [['mask']]\n"
      ],
      "metadata": {
        "id": "IdPpMXw1fsxJ"
      },
      "execution_count": null,
      "outputs": []
    },
    {
      "cell_type": "code",
      "source": [
        "#grab results\n",
        "data_path = '/content/drive/My Drive/data/singlesubjectmodels/mask_tr_1_2_subject_models.pkl'"
      ],
      "metadata": {
        "id": "f70bf1rFq_Pd"
      },
      "execution_count": 8,
      "outputs": []
    },
    {
      "cell_type": "code",
      "source": [
        "data = open_pickle(data_path)"
      ],
      "metadata": {
        "id": "9J12AVrjtdRd"
      },
      "execution_count": 9,
      "outputs": []
    },
    {
      "cell_type": "code",
      "source": [
        "labels = ['Decrease','Increase']"
      ],
      "metadata": {
        "id": "cMcE3t2sm0Wh"
      },
      "execution_count": 21,
      "outputs": []
    },
    {
      "cell_type": "code",
      "source": [
        "subj_id = subj_ids[0]\n",
        "subj_data = data['mask'][subj_id]\n",
        "subj_report = classification_report(y_test,subj_data['predicts']['run_03']['predicts'],target_names=labels,output_dict=True)"
      ],
      "metadata": {
        "id": "cuPsQYeSgc0i"
      },
      "execution_count": 32,
      "outputs": []
    },
    {
      "cell_type": "code",
      "source": [
        "subj_df = pd.DataFrame(subj_report)\n",
        "subj_df"
      ],
      "metadata": {
        "colab": {
          "base_uri": "https://localhost:8080/",
          "height": 174
        },
        "id": "QTApIt23mhOy",
        "outputId": "23f78e59-0383-4b48-9436-9c2caebac58f"
      },
      "execution_count": 35,
      "outputs": [
        {
          "output_type": "execute_result",
          "data": {
            "text/plain": [
              "            Decrease   Increase  accuracy  macro avg  weighted avg\n",
              "precision   0.680851   0.729730  0.702381   0.705290      0.705290\n",
              "recall      0.761905   0.642857  0.702381   0.702381      0.702381\n",
              "f1-score    0.719101   0.683544  0.702381   0.701323      0.701323\n",
              "support    42.000000  42.000000  0.702381  84.000000     84.000000"
            ],
            "text/html": [
              "\n",
              "  <div id=\"df-76eaf790-5e1d-49d7-a202-79e063e2d0b2\">\n",
              "    <div class=\"colab-df-container\">\n",
              "      <div>\n",
              "<style scoped>\n",
              "    .dataframe tbody tr th:only-of-type {\n",
              "        vertical-align: middle;\n",
              "    }\n",
              "\n",
              "    .dataframe tbody tr th {\n",
              "        vertical-align: top;\n",
              "    }\n",
              "\n",
              "    .dataframe thead th {\n",
              "        text-align: right;\n",
              "    }\n",
              "</style>\n",
              "<table border=\"1\" class=\"dataframe\">\n",
              "  <thead>\n",
              "    <tr style=\"text-align: right;\">\n",
              "      <th></th>\n",
              "      <th>Decrease</th>\n",
              "      <th>Increase</th>\n",
              "      <th>accuracy</th>\n",
              "      <th>macro avg</th>\n",
              "      <th>weighted avg</th>\n",
              "    </tr>\n",
              "  </thead>\n",
              "  <tbody>\n",
              "    <tr>\n",
              "      <th>precision</th>\n",
              "      <td>0.680851</td>\n",
              "      <td>0.729730</td>\n",
              "      <td>0.702381</td>\n",
              "      <td>0.705290</td>\n",
              "      <td>0.705290</td>\n",
              "    </tr>\n",
              "    <tr>\n",
              "      <th>recall</th>\n",
              "      <td>0.761905</td>\n",
              "      <td>0.642857</td>\n",
              "      <td>0.702381</td>\n",
              "      <td>0.702381</td>\n",
              "      <td>0.702381</td>\n",
              "    </tr>\n",
              "    <tr>\n",
              "      <th>f1-score</th>\n",
              "      <td>0.719101</td>\n",
              "      <td>0.683544</td>\n",
              "      <td>0.702381</td>\n",
              "      <td>0.701323</td>\n",
              "      <td>0.701323</td>\n",
              "    </tr>\n",
              "    <tr>\n",
              "      <th>support</th>\n",
              "      <td>42.000000</td>\n",
              "      <td>42.000000</td>\n",
              "      <td>0.702381</td>\n",
              "      <td>84.000000</td>\n",
              "      <td>84.000000</td>\n",
              "    </tr>\n",
              "  </tbody>\n",
              "</table>\n",
              "</div>\n",
              "      <button class=\"colab-df-convert\" onclick=\"convertToInteractive('df-76eaf790-5e1d-49d7-a202-79e063e2d0b2')\"\n",
              "              title=\"Convert this dataframe to an interactive table.\"\n",
              "              style=\"display:none;\">\n",
              "        \n",
              "  <svg xmlns=\"http://www.w3.org/2000/svg\" height=\"24px\"viewBox=\"0 0 24 24\"\n",
              "       width=\"24px\">\n",
              "    <path d=\"M0 0h24v24H0V0z\" fill=\"none\"/>\n",
              "    <path d=\"M18.56 5.44l.94 2.06.94-2.06 2.06-.94-2.06-.94-.94-2.06-.94 2.06-2.06.94zm-11 1L8.5 8.5l.94-2.06 2.06-.94-2.06-.94L8.5 2.5l-.94 2.06-2.06.94zm10 10l.94 2.06.94-2.06 2.06-.94-2.06-.94-.94-2.06-.94 2.06-2.06.94z\"/><path d=\"M17.41 7.96l-1.37-1.37c-.4-.4-.92-.59-1.43-.59-.52 0-1.04.2-1.43.59L10.3 9.45l-7.72 7.72c-.78.78-.78 2.05 0 2.83L4 21.41c.39.39.9.59 1.41.59.51 0 1.02-.2 1.41-.59l7.78-7.78 2.81-2.81c.8-.78.8-2.07 0-2.86zM5.41 20L4 18.59l7.72-7.72 1.47 1.35L5.41 20z\"/>\n",
              "  </svg>\n",
              "      </button>\n",
              "      \n",
              "  <style>\n",
              "    .colab-df-container {\n",
              "      display:flex;\n",
              "      flex-wrap:wrap;\n",
              "      gap: 12px;\n",
              "    }\n",
              "\n",
              "    .colab-df-convert {\n",
              "      background-color: #E8F0FE;\n",
              "      border: none;\n",
              "      border-radius: 50%;\n",
              "      cursor: pointer;\n",
              "      display: none;\n",
              "      fill: #1967D2;\n",
              "      height: 32px;\n",
              "      padding: 0 0 0 0;\n",
              "      width: 32px;\n",
              "    }\n",
              "\n",
              "    .colab-df-convert:hover {\n",
              "      background-color: #E2EBFA;\n",
              "      box-shadow: 0px 1px 2px rgba(60, 64, 67, 0.3), 0px 1px 3px 1px rgba(60, 64, 67, 0.15);\n",
              "      fill: #174EA6;\n",
              "    }\n",
              "\n",
              "    [theme=dark] .colab-df-convert {\n",
              "      background-color: #3B4455;\n",
              "      fill: #D2E3FC;\n",
              "    }\n",
              "\n",
              "    [theme=dark] .colab-df-convert:hover {\n",
              "      background-color: #434B5C;\n",
              "      box-shadow: 0px 1px 3px 1px rgba(0, 0, 0, 0.15);\n",
              "      filter: drop-shadow(0px 1px 2px rgba(0, 0, 0, 0.3));\n",
              "      fill: #FFFFFF;\n",
              "    }\n",
              "  </style>\n",
              "\n",
              "      <script>\n",
              "        const buttonEl =\n",
              "          document.querySelector('#df-76eaf790-5e1d-49d7-a202-79e063e2d0b2 button.colab-df-convert');\n",
              "        buttonEl.style.display =\n",
              "          google.colab.kernel.accessAllowed ? 'block' : 'none';\n",
              "\n",
              "        async function convertToInteractive(key) {\n",
              "          const element = document.querySelector('#df-76eaf790-5e1d-49d7-a202-79e063e2d0b2');\n",
              "          const dataTable =\n",
              "            await google.colab.kernel.invokeFunction('convertToInteractive',\n",
              "                                                     [key], {});\n",
              "          if (!dataTable) return;\n",
              "\n",
              "          const docLinkHtml = 'Like what you see? Visit the ' +\n",
              "            '<a target=\"_blank\" href=https://colab.research.google.com/notebooks/data_table.ipynb>data table notebook</a>'\n",
              "            + ' to learn more about interactive tables.';\n",
              "          element.innerHTML = '';\n",
              "          dataTable['output_type'] = 'display_data';\n",
              "          await google.colab.output.renderOutput(dataTable, element);\n",
              "          const docLink = document.createElement('div');\n",
              "          docLink.innerHTML = docLinkHtml;\n",
              "          element.appendChild(docLink);\n",
              "        }\n",
              "      </script>\n",
              "    </div>\n",
              "  </div>\n",
              "  "
            ]
          },
          "metadata": {},
          "execution_count": 35
        }
      ]
    },
    {
      "cell_type": "code",
      "source": [
        "subj_id = subj_ids[0]"
      ],
      "metadata": {
        "id": "E7_cyYqtt4X7"
      },
      "execution_count": 40,
      "outputs": []
    },
    {
      "cell_type": "code",
      "source": [
        "subj_predicts=data['mask'][subj_id]['predicts']\n",
        "for run in list(subj_predicts.keys()):\n",
        "  subjs_acc_list.append(run)\n",
        "  subjs_acc_list.append(accuracy_score(y_test,subj_predicts[run]['predicts']))\n",
        "  subjs_acc_list.append(accuracy_score(y_test[dec_trials],subj_predicts[run]['predicts'][dec_trials]))"
      ],
      "metadata": {
        "id": "fZyO2v5UuEON"
      },
      "execution_count": 44,
      "outputs": []
    },
    {
      "cell_type": "code",
      "source": [
        "subjs_acc_list"
      ],
      "metadata": {
        "colab": {
          "base_uri": "https://localhost:8080/"
        },
        "id": "lDJJn88NuVb2",
        "outputId": "38c27d66-ad75-4f64-e22a-56286544b309"
      },
      "execution_count": 45,
      "outputs": [
        {
          "output_type": "execute_result",
          "data": {
            "text/plain": [
              "['1',\n",
              " 'run_03',\n",
              " 0.7023809523809523,\n",
              " 0.35714285714285715,\n",
              " 'run_04',\n",
              " 0.8333333333333334,\n",
              " 0.19047619047619047,\n",
              " 'run_03',\n",
              " 0.7023809523809523,\n",
              " 0.7619047619047619,\n",
              " 'run_04',\n",
              " 0.8333333333333334,\n",
              " 0.8571428571428571]"
            ]
          },
          "metadata": {},
          "execution_count": 45
        }
      ]
    },
    {
      "cell_type": "code",
      "source": [
        "accuracy_scores_list = pd.DataFrame(columns=['subj_id','run','total_acc','acc_increase','acc_decrease','precision_all','precision_decrease','precision_increase',\n",
        "                                    'recall_all','recall_increase','recall_decrease','f1_all','f1_increase','f1_decrease','auc_all','auc_increase','auc_decrease'])\n",
        "dec_trials = np.where(y_test==0)\n",
        "inc_trials = np.where(y_test==1)\n",
        "for subj_id in subj_ids[0]:\n",
        "  subjs_acc_list = [subj_id]\n",
        "  subj_predicts=data['mask'][subj_id]['predicts']\n",
        "  for run in list(subj_predicts.keys()):\n",
        "    subjs_acc_list.append(run)\n",
        "    subjs_acc_list.append(accuracy_score(y_test,subj_predicts[run]['predicts']))\n",
        "    subjs_acc_list.append(accuracy_score(y_test[dec_trials],subj_predicts[run]['predicts'][inc_trials]))\n",
        "  \n"
      ],
      "metadata": {
        "id": "0cp9LorexeAV",
        "colab": {
          "base_uri": "https://localhost:8080/",
          "height": 245
        },
        "outputId": "2bb5603e-37f7-4e84-8089-813284e648f3"
      },
      "execution_count": 39,
      "outputs": [
        {
          "output_type": "error",
          "ename": "KeyError",
          "evalue": "ignored",
          "traceback": [
            "\u001b[0;31m---------------------------------------------------------------------------\u001b[0m",
            "\u001b[0;31mKeyError\u001b[0m                                  Traceback (most recent call last)",
            "\u001b[0;32m<ipython-input-39-53a45208aa3b>\u001b[0m in \u001b[0;36m<module>\u001b[0;34m()\u001b[0m\n\u001b[1;32m      5\u001b[0m \u001b[0;32mfor\u001b[0m \u001b[0msubj_id\u001b[0m \u001b[0;32min\u001b[0m \u001b[0msubj_ids\u001b[0m\u001b[0;34m[\u001b[0m\u001b[0;36m0\u001b[0m\u001b[0;34m]\u001b[0m\u001b[0;34m:\u001b[0m\u001b[0;34m\u001b[0m\u001b[0;34m\u001b[0m\u001b[0m\n\u001b[1;32m      6\u001b[0m   \u001b[0msubjs_acc_list\u001b[0m \u001b[0;34m=\u001b[0m \u001b[0;34m[\u001b[0m\u001b[0msubj_id\u001b[0m\u001b[0;34m]\u001b[0m\u001b[0;34m\u001b[0m\u001b[0;34m\u001b[0m\u001b[0m\n\u001b[0;32m----> 7\u001b[0;31m   \u001b[0msubj_predicts\u001b[0m\u001b[0;34m=\u001b[0m\u001b[0mdata\u001b[0m\u001b[0;34m[\u001b[0m\u001b[0;34m'mask'\u001b[0m\u001b[0;34m]\u001b[0m\u001b[0;34m[\u001b[0m\u001b[0msubj_id\u001b[0m\u001b[0;34m]\u001b[0m\u001b[0;34m[\u001b[0m\u001b[0;34m'predicts'\u001b[0m\u001b[0;34m]\u001b[0m\u001b[0;34m\u001b[0m\u001b[0;34m\u001b[0m\u001b[0m\n\u001b[0m\u001b[1;32m      8\u001b[0m   \u001b[0;32mfor\u001b[0m \u001b[0mrun\u001b[0m \u001b[0;32min\u001b[0m \u001b[0mlist\u001b[0m\u001b[0;34m(\u001b[0m\u001b[0msubj_predicts\u001b[0m\u001b[0;34m.\u001b[0m\u001b[0mkeys\u001b[0m\u001b[0;34m(\u001b[0m\u001b[0;34m)\u001b[0m\u001b[0;34m)\u001b[0m\u001b[0;34m:\u001b[0m\u001b[0;34m\u001b[0m\u001b[0;34m\u001b[0m\u001b[0m\n\u001b[1;32m      9\u001b[0m     \u001b[0msubjs_acc_list\u001b[0m\u001b[0;34m.\u001b[0m\u001b[0mappend\u001b[0m\u001b[0;34m(\u001b[0m\u001b[0mrun\u001b[0m\u001b[0;34m)\u001b[0m\u001b[0;34m\u001b[0m\u001b[0;34m\u001b[0m\u001b[0m\n",
            "\u001b[0;31mKeyError\u001b[0m: '1'"
          ]
        }
      ]
    },
    {
      "cell_type": "code",
      "source": [
        "data"
      ],
      "metadata": {
        "id": "XYCIcGkB2SmC"
      },
      "execution_count": null,
      "outputs": []
    },
    {
      "cell_type": "code",
      "source": [
        "subj_data"
      ],
      "metadata": {
        "colab": {
          "base_uri": "https://localhost:8080/"
        },
        "id": "ruuIkF8_0ASp",
        "outputId": "b76c99b7-54e9-4d22-e417-e7f0827fe24d"
      },
      "execution_count": 16,
      "outputs": [
        {
          "output_type": "execute_result",
          "data": {
            "text/plain": [
              "{'X_train': array([[ 0.        ,  0.        ,  0.        , ..., -0.35537407,\n",
              "         -0.28912827, -0.15646337],\n",
              "        [ 0.        ,  0.        ,  0.        , ..., -0.3566215 ,\n",
              "         -0.29077935, -0.16021122],\n",
              "        [ 0.        ,  0.        ,  0.        , ...,  2.8391807 ,\n",
              "          2.9680855 ,  1.7116985 ],\n",
              "        ...,\n",
              "        [ 0.        ,  0.        ,  0.        , ...,  2.7306352 ,\n",
              "          2.807277  ,  1.3825058 ],\n",
              "        [ 0.        ,  0.        ,  0.        , ...,  2.780192  ,\n",
              "          2.8530087 ,  1.4065295 ],\n",
              "        [ 0.        ,  0.        ,  0.        , ...,  1.2044214 ,\n",
              "          0.02133828, -0.35965276]], dtype=float32),\n",
              " 'model': SVC(C=5, gamma='auto', probability=True),\n",
              " 'predicts': {'run_03': {'decision_function': array([-0.18765468, -0.13211306,  0.04130328, -0.39873928, -0.46211708,\n",
              "          -0.03996567, -0.0808285 , -0.06877901,  0.07424389,  0.21023356,\n",
              "           0.06699925, -0.21993965, -0.4195237 , -0.02650632, -0.4374867 ,\n",
              "          -0.178503  , -0.18751166, -0.64050154, -0.34277121, -0.21929493,\n",
              "          -0.50771226,  0.41829766,  0.50652325,  0.47652447,  0.61643854,\n",
              "           0.56039545,  0.63085369,  0.36015688,  0.13065781,  0.07850528,\n",
              "          -0.24034719, -0.34220877, -0.07194683, -0.04195836, -0.28342573,\n",
              "          -0.20076903, -0.06610904, -0.0072288 ,  0.11522277,  0.25712513,\n",
              "          -0.12427784, -0.63832094, -0.47583265, -0.62225098, -0.04350785,\n",
              "          -0.11232403, -0.49329242, -0.45881101, -0.40028448,  0.13412643,\n",
              "          -0.00475277,  0.43577766,  0.31706715,  0.23942394,  0.27673012,\n",
              "           0.23191416,  0.20496871,  0.15443344,  0.09760286, -0.05143412,\n",
              "          -0.2842196 , -0.25548303, -0.33994846,  0.03920281,  0.1391941 ,\n",
              "           0.37845282,  0.46664925,  0.31361942,  0.03313907,  0.05373894,\n",
              "          -0.08886861,  0.00793197, -0.00797568, -0.23461117,  0.03183777,\n",
              "          -0.02347909,  0.07188291,  0.13038339,  0.31636992, -0.03058786,\n",
              "           0.13242553, -0.01643237, -0.24205904, -0.73963645]),\n",
              "   'predicts': array([0, 0, 1, 0, 0, 0, 0, 0, 1, 1, 1, 0, 0, 0, 0, 0, 0, 0, 0, 0, 0, 1,\n",
              "          1, 1, 1, 1, 1, 1, 1, 1, 0, 0, 0, 0, 0, 0, 0, 0, 1, 1, 0, 0, 0, 0,\n",
              "          0, 0, 0, 0, 0, 1, 0, 1, 1, 1, 1, 1, 1, 1, 1, 0, 0, 0, 0, 1, 1, 1,\n",
              "          1, 1, 1, 1, 0, 1, 0, 0, 1, 0, 1, 1, 1, 0, 1, 0, 0, 0], dtype=uint16),\n",
              "   'proba': array([[0.72962142, 0.27037858],\n",
              "          [0.65666594, 0.34333406],\n",
              "          [0.40653239, 0.59346761],\n",
              "          [0.90501006, 0.09498994],\n",
              "          [0.93295113, 0.06704887],\n",
              "          [0.52749073, 0.47250927],\n",
              "          [0.58729426, 0.41270574],\n",
              "          [0.56994682, 0.43005318],\n",
              "          [0.3573326 , 0.6426674 ],\n",
              "          [0.2001508 , 0.7998492 ],\n",
              "          [0.36822899, 0.63177101],\n",
              "          [0.76596072, 0.23403928],\n",
              "          [0.91516423, 0.08483577],\n",
              "          [0.50741344, 0.49258656],\n",
              "          [0.92313579, 0.07686421],\n",
              "          [0.71869771, 0.28130229],\n",
              "          [0.72945277, 0.27054723],\n",
              "          [0.97532298, 0.02467702],\n",
              "          [0.87210503, 0.12789497],\n",
              "          [0.76526932, 0.23473068],\n",
              "          [0.94599422, 0.05400578],\n",
              "          [0.0672223 , 0.9327777 ],\n",
              "          [0.04082602, 0.95917398],\n",
              "          [0.04844339, 0.95155661],\n",
              "          [0.02160408, 0.97839592],\n",
              "          [0.02993433, 0.97006567],\n",
              "          [0.0198572 , 0.9801428 ],\n",
              "          [0.0925516 , 0.9074484 ],\n",
              "          [0.2870852 , 0.7129148 ],\n",
              "          [0.35482221, 0.64517779],\n",
              "          [0.78711126, 0.21288874],\n",
              "          [0.87172965, 0.12827035],\n",
              "          [0.57453731, 0.42546269],\n",
              "          [0.53045575, 0.46954425],\n",
              "          [0.82707578, 0.17292422],\n",
              "          [0.74480145, 0.25519855],\n",
              "          [0.56606287, 0.43393713],\n",
              "          [0.47862397, 0.52137603],\n",
              "          [0.30632882, 0.69367118],\n",
              "          [0.15894361, 0.84105639],\n",
              "          [0.64660058, 0.35339942],\n",
              "          [0.97500115, 0.02499885],\n",
              "          [0.93790001, 0.06209999],\n",
              "          [0.97249805, 0.02750195],\n",
              "          [0.53275936, 0.46724064],\n",
              "          [0.63085938, 0.36914062],\n",
              "          [0.94127006, 0.05872994],\n",
              "          [0.93170461, 0.06829539],\n",
              "          [0.90580095, 0.09419905],\n",
              "          [0.28286129, 0.71713871],\n",
              "          [0.47493112, 0.52506888],\n",
              "          [0.06096759, 0.93903241],\n",
              "          [0.11659091, 0.88340909],\n",
              "          [0.17363376, 0.82636624],\n",
              "          [0.14386502, 0.85613498],\n",
              "          [0.18018094, 0.81981906],\n",
              "          [0.20524143, 0.79475857],\n",
              "          [0.25890238, 0.74109762],\n",
              "          [0.32914841, 0.67085159],\n",
              "          [0.54451051, 0.45548949],\n",
              "          [0.82775325, 0.17224675],\n",
              "          [0.80187484, 0.19812516],\n",
              "          [0.87021163, 0.12978837],\n",
              "          [0.40964872, 0.59035128],\n",
              "          [0.27675819, 0.72324181],\n",
              "          [0.0837688 , 0.9162312 ],\n",
              "          [0.0512337 , 0.9487663 ],\n",
              "          [0.11873352, 0.88126648],\n",
              "          [0.41864038, 0.58135962],\n",
              "          [0.38804801, 0.61195199],\n",
              "          [0.59868033, 0.40131967],\n",
              "          [0.45604351, 0.54395649],\n",
              "          [0.47973824, 0.52026176],\n",
              "          [0.78131068, 0.21868932],\n",
              "          [0.4205695 , 0.5794305 ],\n",
              "          [0.5       , 0.5       ],\n",
              "          [0.36088974, 0.63911026],\n",
              "          [0.28742098, 0.71257902],\n",
              "          [0.11702147, 0.88297853],\n",
              "          [0.51350843, 0.48649157],\n",
              "          [0.28492786, 0.71507214],\n",
              "          [0.49236371, 0.50763629],\n",
              "          [0.78882048, 0.21117952],\n",
              "          [0.98632707, 0.01367293]])},\n",
              "  'run_04': {'decision_function': array([-0.42619283, -0.40042272, -0.03676134,  0.12820862, -0.0147388 ,\n",
              "          -0.03143674,  0.06386392,  0.11103013,  0.12456506,  0.05013627,\n",
              "           0.06465209,  0.30078226,  0.03046672,  0.13545924, -0.34009694,\n",
              "          -0.56322821, -0.39596594, -0.3638697 , -0.29927889,  0.07216782,\n",
              "          -0.24647619,  0.03772541,  0.0476598 ,  0.49652617,  0.32668636,\n",
              "           0.49574697,  0.48020837,  0.46595233,  0.02211104,  0.18708897,\n",
              "          -0.12245274, -0.32236681, -0.33200617, -0.34949822, -0.18676993,\n",
              "           0.04031779, -0.02875312, -0.04678932, -0.43679692, -0.30796025,\n",
              "           0.038454  , -0.20140174, -0.22761684, -0.32217929, -0.35165986,\n",
              "          -0.22452334, -0.11847372, -0.14263345,  0.37415368,  0.05737477,\n",
              "           0.18814333,  0.38876601,  0.49428785,  0.54599668,  0.49644264,\n",
              "           0.30357092, -0.2772464 , -0.29500906, -0.26207745, -0.09267126,\n",
              "          -0.39793979, -0.32183086, -0.73653198,  0.07153941,  0.07586438,\n",
              "           0.21147966,  0.04578623,  0.29325197,  0.31900596,  0.00895216,\n",
              "           0.03330241,  0.08245987, -0.04363085, -0.11739507,  0.04056235,\n",
              "          -0.0916896 ,  0.12027995, -0.34240769, -0.31405901, -0.30929816,\n",
              "          -0.3024025 , -0.20098493, -0.11645354, -0.25847013]),\n",
              "   'predicts': array([0, 0, 0, 1, 0, 0, 1, 1, 1, 1, 1, 1, 1, 1, 0, 0, 0, 0, 0, 1, 0, 1,\n",
              "          1, 1, 1, 1, 1, 1, 1, 1, 0, 0, 0, 0, 0, 1, 0, 0, 0, 0, 1, 0, 0, 0,\n",
              "          0, 0, 0, 0, 1, 1, 1, 1, 1, 1, 1, 1, 0, 0, 0, 0, 0, 0, 0, 1, 1, 1,\n",
              "          1, 1, 1, 1, 1, 1, 0, 0, 1, 0, 1, 0, 0, 0, 0, 0, 0, 0], dtype=uint16),\n",
              "   'proba': array([[0.91820782, 0.08179218],\n",
              "          [0.90587142, 0.09412858],\n",
              "          [0.52271771, 0.47728229],\n",
              "          [0.29009026, 0.70990974],\n",
              "          [0.48983421, 0.51016579],\n",
              "          [0.51477557, 0.48522443],\n",
              "          [0.37292844, 0.62707156],\n",
              "          [0.3116787 , 0.6883213 ],\n",
              "          [0.29459498, 0.70540502],\n",
              "          [0.39341072, 0.60658928],\n",
              "          [0.37174793, 0.62825207],\n",
              "          [0.12701466, 0.87298534],\n",
              "          [0.42260195, 0.57739805],\n",
              "          [0.28124829, 0.71875171],\n",
              "          [0.87031182, 0.12968818],\n",
              "          [0.96100232, 0.03899768],\n",
              "          [0.90357565, 0.09642435],\n",
              "          [0.88552139, 0.11447861],\n",
              "          [0.84020894, 0.15979106],\n",
              "          [0.36046081, 0.63953919],\n",
              "          [0.79318431, 0.20681569],\n",
              "          [0.41184003, 0.58815997],\n",
              "          [0.39709293, 0.60290707],\n",
              "          [0.04322775, 0.95677225],\n",
              "          [0.11079088, 0.88920912],\n",
              "          [0.04342051, 0.95657949],\n",
              "          [0.04743987, 0.95256013],\n",
              "          [0.05143626, 0.94856374],\n",
              "          [0.4349904 , 0.5650096 ],\n",
              "          [0.22323612, 0.77676388],\n",
              "          [0.64422721, 0.35577279],\n",
              "          [0.8578761 , 0.1421239 ],\n",
              "          [0.864756  , 0.135244  ],\n",
              "          [0.87652237, 0.12347763],\n",
              "          [0.72857709, 0.27142291],\n",
              "          [0.40799463, 0.59200537],\n",
              "          [0.51076904, 0.48923096],\n",
              "          [0.53763151, 0.46236849],\n",
              "          [0.92284279, 0.07715721],\n",
              "          [0.84705207, 0.15294793],\n",
              "          [0.41075943, 0.58924057],\n",
              "          [0.74551948, 0.25448052],\n",
              "          [0.77408481, 0.22591519],\n",
              "          [0.85773941, 0.14226059],\n",
              "          [0.87791375, 0.12208625],\n",
              "          [0.77083546, 0.22916454],\n",
              "          [0.63901528, 0.36098472],\n",
              "          [0.66986691, 0.33013309],\n",
              "          [0.08576151, 0.91423849],\n",
              "          [0.38262759, 0.61737241],\n",
              "          [0.22214469, 0.77785531],\n",
              "          [0.07915987, 0.92084013],\n",
              "          [0.04378368, 0.95621632],\n",
              "          [0.03253413, 0.96746587],\n",
              "          [0.04324838, 0.95675162],\n",
              "          [0.12517453, 0.87482547],\n",
              "          [0.82173025, 0.17826975],\n",
              "          [0.83675326, 0.16324674],\n",
              "          [0.80806143, 0.19193857],\n",
              "          [0.60400631, 0.39599369],\n",
              "          [0.90459853, 0.09540147],\n",
              "          [0.85748514, 0.14251486],\n",
              "          [0.98607151, 0.01392849],\n",
              "          [0.36140677, 0.63859323],\n",
              "          [0.35488753, 0.64511247],\n",
              "          [0.19895977, 0.80104023],\n",
              "          [0.3998768 , 0.6001232 ],\n",
              "          [0.13209989, 0.86790011],\n",
              "          [0.11540092, 0.88459908],\n",
              "          [0.45452679, 0.54547321],\n",
              "          [0.41839822, 0.58160178],\n",
              "          [0.34943075, 0.65056925],\n",
              "          [0.53294214, 0.46705786],\n",
              "          [0.63759356, 0.36240644],\n",
              "          [0.40763179, 0.59236821],\n",
              "          [0.60263519, 0.39736481],\n",
              "          [0.29994458, 0.70005542],\n",
              "          [0.87186252, 0.12813748],\n",
              "          [0.85171448, 0.14828552],\n",
              "          [0.84808506, 0.15191494],\n",
              "          [0.84269926, 0.15730074],\n",
              "          [0.74504661, 0.25495339],\n",
              "          [0.63634949, 0.36365051],\n",
              "          [0.80469562, 0.19530438]])}},\n",
              " 'y_train': array([1, 1, 1, 1, 1, 1, 1, 1, 1, 1, 1, 1, 1, 1, 0, 0, 0, 0, 0, 0, 0, 1,\n",
              "        1, 1, 1, 1, 1, 1, 0, 0, 0, 0, 0, 0, 0, 0, 0, 0, 0, 0, 0, 0, 0, 0,\n",
              "        0, 0, 0, 0, 0, 1, 1, 1, 1, 1, 1, 1, 0, 0, 0, 0, 0, 0, 0, 1, 1, 1,\n",
              "        1, 1, 1, 1, 1, 1, 1, 1, 1, 1, 1, 0, 0, 0, 0, 0, 0, 0], dtype=uint16)}"
            ]
          },
          "metadata": {},
          "execution_count": 16
        }
      ]
    }
  ]
}