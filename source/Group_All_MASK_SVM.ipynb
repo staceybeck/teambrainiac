{
  "nbformat": 4,
  "nbformat_minor": 0,
  "metadata": {
    "colab": {
      "name": "Group_All_MASK_SVM.ipynb",
      "provenance": [],
      "collapsed_sections": [
        "C8CyP3qSKW9V"
      ],
      "machine_shape": "hm",
      "authorship_tag": "ABX9TyN25cWjbyB84w8Tt20jjmTM",
      "include_colab_link": true
    },
    "kernelspec": {
      "name": "python3",
      "display_name": "Python 3"
    },
    "language_info": {
      "name": "python"
    }
  },
  "cells": [
    {
      "cell_type": "markdown",
      "metadata": {
        "id": "view-in-github",
        "colab_type": "text"
      },
      "source": [
        "<a href=\"https://colab.research.google.com/github/yecatstevir/teambrainiac/blob/main/source/Group_All_MASK_SVM.ipynb\" target=\"_parent\"><img src=\"https://colab.research.google.com/assets/colab-badge.svg\" alt=\"Open In Colab\"/></a>"
      ]
    },
    {
      "cell_type": "markdown",
      "source": [
        "# Group Masked Brain Support Vector Machine Training\n",
        "## Young Adult and Adolescent \n",
        "### whole brain, subACC, subAI, N.Accumbens, Prefrontal Cortex\n",
        "- Go to 'Runtime' in Colab browser bar, select 'Change Runtime Type', select 'High-RAM' from 'Runtime Shape'. \n",
        "- load local pickle file containing all masked, normalized Whole Brain subject data in numpy matrix format\n",
        "- SVM training per group (subject ids of '100XX-XXXXX' for Adolescent (child) and '300XX-XXXXX' for Young Adult)"
      ],
      "metadata": {
        "id": "f_wDm122NTXY"
      }
    },
    {
      "cell_type": "markdown",
      "source": [
        "### Mount Google Drive and clone repository\n",
        "- open to source directory"
      ],
      "metadata": {
        "id": "c284FIeHNcR2"
      }
    },
    {
      "cell_type": "code",
      "execution_count": 1,
      "metadata": {
        "id": "mIfcjimGzIZo",
        "colab": {
          "base_uri": "https://localhost:8080/"
        },
        "outputId": "e8af9188-06c8-4bc2-bb70-65f49e474bd0"
      },
      "outputs": [
        {
          "output_type": "stream",
          "name": "stdout",
          "text": [
            "Mounted at /content/gdrive\n"
          ]
        }
      ],
      "source": [
        "from google.colab import drive\n",
        "drive.mount('/content/gdrive')#, force_remount = True)"
      ]
    },
    {
      "cell_type": "code",
      "source": [
        "# Clone the entire repo.\n",
        "!git clone -l -s https://github.com/yecatstevir/teambrainiac.git\n",
        "# Change directory into cloned repo\n",
        "%cd teambrainiac/source\n",
        "!ls\n"
      ],
      "metadata": {
        "id": "lh0DqCU10r3n",
        "outputId": "8bda1816-2958-4e04-c11a-5666de5c2798",
        "colab": {
          "base_uri": "https://localhost:8080/"
        }
      },
      "execution_count": 2,
      "outputs": [
        {
          "output_type": "stream",
          "name": "stdout",
          "text": [
            "Cloning into 'teambrainiac'...\n",
            "warning: --local is ignored\n",
            "remote: Enumerating objects: 534, done.\u001b[K\n",
            "remote: Counting objects: 100% (534/534), done.\u001b[K\n",
            "remote: Compressing objects: 100% (365/365), done.\u001b[K\n",
            "remote: Total 534 (delta 321), reused 322 (delta 155), pack-reused 0\u001b[K\n",
            "Receiving objects: 100% (534/534), 60.88 MiB | 13.35 MiB/s, done.\n",
            "Resolving deltas: 100% (321/321), done.\n",
            "/content/teambrainiac/source\n",
            "Access_Load_Data.ipynb\t\t  Mat_to_Numpy.ipynb\n",
            "AccuracyMeasures.ipynb\t\t  models\n",
            "All_subject_masked_labeled.ipynb  percent_signal_change.ipynb\n",
            "cross_validation.py\t\t  process.py\n",
            "data\t\t\t\t  SingleSubjectSVM.ipynb\n",
            "Explore_data.ipynb\t\t  SVM_Group_Child_Whole_Brain.ipynb\n",
            "explore.py\t\t\t  SVM_Group_YA_Whole_brain.ipynb\n",
            "Images\t\t\t\t  utils.py\n",
            "__init__.py\t\t\t  Visualize_Data.ipynb\n",
            "Masking.ipynb\n"
          ]
        }
      ]
    },
    {
      "cell_type": "markdown",
      "source": [
        "### Load path_config.py \n",
        "- we are already in source so we can just load this file without chanding directory"
      ],
      "metadata": {
        "id": "zadD_dOPPjQm"
      }
    },
    {
      "cell_type": "code",
      "source": [
        "from google.colab import files\n",
        "\n",
        "uploaded = files.upload()\n",
        "\n",
        "for fn in uploaded.keys():\n",
        "  print('User uploaded file \"{name}\" with length {length} bytes'.format(\n",
        "      name=fn, length=len(uploaded[fn])))"
      ],
      "metadata": {
        "colab": {
          "resources": {
            "http://localhost:8080/nbextensions/google.colab/files.js": {
              "data": "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",
              "ok": true,
              "headers": [
                [
                  "content-type",
                  "application/javascript"
                ]
              ],
              "status": 200,
              "status_text": ""
            }
          },
          "base_uri": "https://localhost:8080/",
          "height": 90
        },
        "id": "u_2qZqNJPLkn",
        "outputId": "f0a8d243-118f-4a62-d447-7637d8306ad6"
      },
      "execution_count": 3,
      "outputs": [
        {
          "output_type": "display_data",
          "data": {
            "text/plain": [
              "<IPython.core.display.HTML object>"
            ],
            "text/html": [
              "\n",
              "     <input type=\"file\" id=\"files-5fc76329-41e1-4adf-896a-a4ce9a72284b\" name=\"files[]\" multiple disabled\n",
              "        style=\"border:none\" />\n",
              "     <output id=\"result-5fc76329-41e1-4adf-896a-a4ce9a72284b\">\n",
              "      Upload widget is only available when the cell has been executed in the\n",
              "      current browser session. Please rerun this cell to enable.\n",
              "      </output>\n",
              "      <script src=\"/nbextensions/google.colab/files.js\"></script> "
            ]
          },
          "metadata": {}
        },
        {
          "output_type": "stream",
          "name": "stdout",
          "text": [
            "Saving path_config.py to path_config.py\n",
            "User uploaded file \"path_config.py\" with length 228 bytes\n"
          ]
        }
      ]
    },
    {
      "cell_type": "markdown",
      "source": [
        "#### Import libraries\n"
      ],
      "metadata": {
        "id": "_cmYZ22BNj8h"
      }
    },
    {
      "cell_type": "code",
      "source": [
        "# Import libraries\n",
        "!pip install boto3 nilearn\n",
        "import pickle\n",
        "from utils import *\n",
        "from process import *\n",
        "from cross_validation import *\n",
        "from sklearn.svm import SVC\n",
        "import numpy as np\n",
        "from sklearn.metrics import accuracy_score\n",
        "import pandas as pd\n",
        "import tqdm\n",
        "\n",
        "\n",
        "from botocore.exceptions import ClientError\n",
        "from tempfile import TemporaryFile\n",
        "from collections import defaultdict"
      ],
      "metadata": {
        "id": "abHr7oUl06ED",
        "colab": {
          "base_uri": "https://localhost:8080/"
        },
        "outputId": "e59a0302-b34f-4615-989d-da75d37b77f9"
      },
      "execution_count": 4,
      "outputs": [
        {
          "output_type": "stream",
          "name": "stdout",
          "text": [
            "Collecting boto3\n",
            "  Downloading boto3-1.21.33-py3-none-any.whl (132 kB)\n",
            "\u001b[?25l\r\u001b[K     |██▌                             | 10 kB 23.9 MB/s eta 0:00:01\r\u001b[K     |█████                           | 20 kB 9.7 MB/s eta 0:00:01\r\u001b[K     |███████▍                        | 30 kB 7.9 MB/s eta 0:00:01\r\u001b[K     |██████████                      | 40 kB 3.5 MB/s eta 0:00:01\r\u001b[K     |████████████▍                   | 51 kB 3.5 MB/s eta 0:00:01\r\u001b[K     |██████████████▉                 | 61 kB 4.2 MB/s eta 0:00:01\r\u001b[K     |█████████████████▎              | 71 kB 4.5 MB/s eta 0:00:01\r\u001b[K     |███████████████████▉            | 81 kB 4.5 MB/s eta 0:00:01\r\u001b[K     |██████████████████████▎         | 92 kB 5.0 MB/s eta 0:00:01\r\u001b[K     |████████████████████████▊       | 102 kB 4.2 MB/s eta 0:00:01\r\u001b[K     |███████████████████████████▏    | 112 kB 4.2 MB/s eta 0:00:01\r\u001b[K     |█████████████████████████████▊  | 122 kB 4.2 MB/s eta 0:00:01\r\u001b[K     |████████████████████████████████| 132 kB 4.2 MB/s \n",
            "\u001b[?25hCollecting nilearn\n",
            "  Downloading nilearn-0.9.0-py3-none-any.whl (10.1 MB)\n",
            "\u001b[K     |████████████████████████████████| 10.1 MB 37.2 MB/s \n",
            "\u001b[?25hCollecting botocore<1.25.0,>=1.24.33\n",
            "  Downloading botocore-1.24.33-py3-none-any.whl (8.6 MB)\n",
            "\u001b[K     |████████████████████████████████| 8.6 MB 52.3 MB/s \n",
            "\u001b[?25hCollecting jmespath<2.0.0,>=0.7.1\n",
            "  Downloading jmespath-1.0.0-py3-none-any.whl (23 kB)\n",
            "Collecting s3transfer<0.6.0,>=0.5.0\n",
            "  Downloading s3transfer-0.5.2-py3-none-any.whl (79 kB)\n",
            "\u001b[K     |████████████████████████████████| 79 kB 8.0 MB/s \n",
            "\u001b[?25hCollecting urllib3<1.27,>=1.25.4\n",
            "  Downloading urllib3-1.26.9-py2.py3-none-any.whl (138 kB)\n",
            "\u001b[K     |████████████████████████████████| 138 kB 76.7 MB/s \n",
            "\u001b[?25hRequirement already satisfied: python-dateutil<3.0.0,>=2.1 in /usr/local/lib/python3.7/dist-packages (from botocore<1.25.0,>=1.24.33->boto3) (2.8.2)\n",
            "Requirement already satisfied: six>=1.5 in /usr/local/lib/python3.7/dist-packages (from python-dateutil<3.0.0,>=2.1->botocore<1.25.0,>=1.24.33->boto3) (1.15.0)\n",
            "Requirement already satisfied: joblib>=0.12 in /usr/local/lib/python3.7/dist-packages (from nilearn) (1.1.0)\n",
            "Requirement already satisfied: scipy>=1.2 in /usr/local/lib/python3.7/dist-packages (from nilearn) (1.4.1)\n",
            "Requirement already satisfied: pandas>=0.24.0 in /usr/local/lib/python3.7/dist-packages (from nilearn) (1.3.5)\n",
            "Requirement already satisfied: numpy>=1.16 in /usr/local/lib/python3.7/dist-packages (from nilearn) (1.21.5)\n",
            "Requirement already satisfied: scikit-learn>=0.21 in /usr/local/lib/python3.7/dist-packages (from nilearn) (1.0.2)\n",
            "Requirement already satisfied: nibabel>=2.5 in /usr/local/lib/python3.7/dist-packages (from nilearn) (3.0.2)\n",
            "Requirement already satisfied: requests>=2 in /usr/local/lib/python3.7/dist-packages (from nilearn) (2.23.0)\n",
            "Requirement already satisfied: pytz>=2017.3 in /usr/local/lib/python3.7/dist-packages (from pandas>=0.24.0->nilearn) (2018.9)\n",
            "Requirement already satisfied: chardet<4,>=3.0.2 in /usr/local/lib/python3.7/dist-packages (from requests>=2->nilearn) (3.0.4)\n",
            "Requirement already satisfied: idna<3,>=2.5 in /usr/local/lib/python3.7/dist-packages (from requests>=2->nilearn) (2.10)\n",
            "  Downloading urllib3-1.25.11-py2.py3-none-any.whl (127 kB)\n",
            "\u001b[K     |████████████████████████████████| 127 kB 75.5 MB/s \n",
            "\u001b[?25hRequirement already satisfied: certifi>=2017.4.17 in /usr/local/lib/python3.7/dist-packages (from requests>=2->nilearn) (2021.10.8)\n",
            "Requirement already satisfied: threadpoolctl>=2.0.0 in /usr/local/lib/python3.7/dist-packages (from scikit-learn>=0.21->nilearn) (3.1.0)\n",
            "Installing collected packages: urllib3, jmespath, botocore, s3transfer, nilearn, boto3\n",
            "  Attempting uninstall: urllib3\n",
            "    Found existing installation: urllib3 1.24.3\n",
            "    Uninstalling urllib3-1.24.3:\n",
            "      Successfully uninstalled urllib3-1.24.3\n",
            "\u001b[31mERROR: pip's dependency resolver does not currently take into account all the packages that are installed. This behaviour is the source of the following dependency conflicts.\n",
            "datascience 0.10.6 requires folium==0.2.1, but you have folium 0.8.3 which is incompatible.\u001b[0m\n",
            "Successfully installed boto3-1.21.33 botocore-1.24.33 jmespath-1.0.0 nilearn-0.9.0 s3transfer-0.5.2 urllib3-1.25.11\n"
          ]
        }
      ]
    },
    {
      "cell_type": "markdown",
      "source": [
        "# Young Adults\n",
        "- Create function to upload classifers to AWS\n",
        "- Create function to transform the data into train, validation, test sets that are z-score normalized and concatenated to be ready for SVM\n",
        "- Perform SVM()"
      ],
      "metadata": {
        "id": "HDeiQf1CreBs"
      }
    },
    {
      "cell_type": "code",
      "source": [
        "# modified from S3 boto3 documentation: https://boto3.amazonaws.com/v1/documentation/api/latest/guide/s3-uploading-files.html\n",
        "\n",
        "def s3_upload(data, object_name, data_type):\n",
        "    \"\"\"Upload a file to an S3 bucket\n",
        "\n",
        "    :param data_file: File to upload\n",
        "    :param bucket: Bucket to upload to\n",
        "    :param object_name: S3 object name. If not specified then data_file is used\n",
        "    :return: True if file was uploaded, else False\n",
        "    \"\"\"\n",
        "\n",
        "    # Upload the file\n",
        "    # Connect to AWS client\n",
        "    pubkey = mat_path['ACCESS_KEY']\n",
        "    seckey = mat_path['SECRET_KEY']\n",
        "    client = boto3.client('s3', aws_access_key_id = pubkey, aws_secret_access_key =seckey)\n",
        "    s3 = boto3.resource('s3', aws_access_key_id = pubkey, aws_secret_access_key = seckey)\n",
        "    \n",
        "    # Grab bucket name\n",
        "    bucket = s3.Bucket('teambrainiac')\n",
        "    bucket_name = bucket.name  # 'teambrainiac'\n",
        "    try:\n",
        "        \n",
        "        with tempfile.NamedTemporaryFile(delete=False) as temp:\n",
        "          if data_type == \"pickle\":\n",
        "            pickle.dump(data, temp)\n",
        "\n",
        "          elif data_type == \"numpy\":\n",
        "            np.save(temp, data)\n",
        "            _ = temp.seek(0)\n",
        "          elif data_type == \"csv\":\n",
        "            data.to_csv(temp, index=False)\n",
        "\n",
        "        client.upload_file(temp.name, bucket_name, object_name)\n",
        "        temp.close()\n",
        "        print(f\"upload complete for {object_name}\")\n",
        "\n",
        "    except ClientError as e:\n",
        "        logging.error(e)\n",
        "        return False\n",
        "    \n",
        "    return True"
      ],
      "metadata": {
        "id": "ZP4_t4Gg9D3z"
      },
      "execution_count": 22,
      "outputs": []
    },
    {
      "cell_type": "code",
      "source": [
        "def run_model(data, mask_type, group_sub_ids, runs_train, runs_val, runs_test, norm, svm_type):\n",
        "\n",
        "  X, y, X_v, y_v, X_t, y_t = transform_data(data, group_sub_ids, runs_train, runs_val, runs_test, norm)\n",
        "\n",
        "  model_name = f\"{svm_type}_{runs_train}_{runs_val}_{runs_test}_{mask_type}\"\n",
        "  clf = SVC(C = 5.0 , class_weight= 'balanced', max_iter = 1000, random_state = 42) #probability = True\n",
        "  print(f\"Fitting the model for {mask_type}...\")\n",
        "  clf.fit(X, y)\n",
        "  s3_upload(clf, \"%s.pkl\"%model_name, 'pickle')\n",
        " \n",
        "  print(\"Predicting on Validation set...\")\n",
        "  yval_pred = clf.predict(X_v)\n",
        "  val_acc = accuracy_score(y_v, yval_pred)\n",
        "  print(\"Validation Accuracy:\", val_acc)\n",
        "\n",
        "  print(\"Predicting on Test set...\")\n",
        "  ytest_pred = clf.predict(X_t)\n",
        "  test_acc = accuracy_score(y_t, ytest_pred)\n",
        "  print(\"Test Accuracy:\", test_acc)\n",
        "\n",
        "  return val_acc, test_acc\n"
      ],
      "metadata": {
        "id": "4gpHgA-OQ8Fn"
      },
      "execution_count": 12,
      "outputs": []
    },
    {
      "cell_type": "markdown",
      "source": [
        "## Run all Young Adult Train/Val/Test \n",
        "- Loop through all the masks\n",
        "- fit to train\n",
        "- upload clf to AWS\n",
        "- calculate the accuracies on Validation and Test sets\n",
        "- store accuracies in a dictionary, load in pandas and save as csv"
      ],
      "metadata": {
        "id": "eU289WY0of1F"
      }
    },
    {
      "cell_type": "code",
      "source": [
        "file_name = [('whole_brain_all_norm_2d.pkl', \"mask\"),\n",
        "            ('all_data_masksubACC_norm_2d.pkl', \"subacc\"),\n",
        "            ('all_data_masksubAI_norm_2d.pkl', \"subAI\"),\n",
        "            ('all_data_masksubNAcc_norm_2d.pkl', \"Naccumb\"),\n",
        "            ('all_data_masksubmPFC_norm_2d.pkl', \"PFC\")\n",
        "            ]\n",
        "\n",
        "#open path dictionary file to get subject ids\n",
        "path = \"data/data_path_dictionary.pkl\"\n",
        "data_path_dict = open_pickle(path)\n",
        "subject_ids = data_path_dict['subject_ID']\n",
        "\n",
        "\n",
        "bool_mat = False\n",
        "ya = subject_ids[33:]\n",
        "print(\"Number of YA subjects: \", len(ya))\n",
        "group_sub_ids = (ya, ya, ya) # This is not a joke\n",
        "svm_type = \"YA_svm_runs\" #other: \"Adolescent_svm_runs\"\n",
        "runs_train = 1 #train on run 2\n",
        "runs_val = 2 #val on run 3\n",
        "runs_test = 3 #test on run 4 (zero indexing)\n",
        "norm = \"RUNS\"\n",
        "\n",
        "acc_dict = defaultdict(list)\n",
        "\n",
        "for pkl_file, mask_type in tqdm.tqdm(file_name):\n",
        "  print(\"Running\", pkl_file, mask_type)\n",
        "  data = access_load_data(pkl_file, bool_mat)\n",
        "  val_acc, test_acc = run_model(data, mask_type, group_sub_ids, runs_train, runs_val, runs_test, norm, svm_type)\n",
        "  data = 0 #conserve RAM space\n",
        "  acc_dict[f\"{svm_type} Mask Type\"].append(mask_type)\n",
        "  acc_dict[\"Validation Accuracy\"].append(val_acc)\n",
        "  acc_dict['Test Accuracy'].append(test_acc)\n",
        "  acc_dict['Normalize on'].append(norm)\n",
        "  acc_dict['Train/Val/Test Runs'].append(f\"run {runs_train}/run {runs_val}/run {runs_test}\")\n",
        "\n",
        "\n",
        "# Upload to S3\n",
        "s3_upload(acc_dict, f\"{svm_type}_acc_score.pkl\", \"pickle\")"
      ],
      "metadata": {
        "colab": {
          "base_uri": "https://localhost:8080/"
        },
        "id": "aw9DLXlrYcGJ",
        "outputId": "82b4689d-ebec-46cb-e6b9-5269f9cb106e"
      },
      "execution_count": 18,
      "outputs": [
        {
          "output_type": "stream",
          "name": "stderr",
          "text": [
            "\r  0%|          | 0/5 [00:00<?, ?it/s]"
          ]
        },
        {
          "output_type": "stream",
          "name": "stdout",
          "text": [
            "Running whole_brain_all_norm_2d.pkl mask\n",
            "Normalizing Each based on RUNS...\n",
            "X train data shape after concantenation (84, 237979)\n",
            "y train data shape after concantenation (84,)\n",
            "X test data shape after concantenation (84, 237979)\n",
            "y test data shape after concantenation (84,)\n",
            "X val data shape after concantenation (84, 237979)\n",
            "y val data shape after concantenation (84,)\n",
            "Final X Train data shape (84, 237979)\n",
            "Final y Train data shape  (84,)\n",
            "Final X Val data shape (84, 237979)\n",
            "Final y Val data shape  (84,)\n",
            "Final X Test data shape (84, 237979)\n",
            "Final y Test data shape  (84,)\n",
            "Fitting the model for mask...\n",
            "upload complete for YA_svm_runs_1_2_3_mask.pkl\n",
            "Predicting on Validation set...\n",
            "Validation Accuracy: 0.8571428571428571\n",
            "Predicting on Test set...\n"
          ]
        },
        {
          "output_type": "stream",
          "name": "stderr",
          "text": [
            "\r 20%|██        | 1/5 [02:51<11:25, 171.41s/it]"
          ]
        },
        {
          "output_type": "stream",
          "name": "stdout",
          "text": [
            "Test Accuracy: 0.7619047619047619\n",
            "Running all_data_masksubACC_norm_2d.pkl subacc\n",
            "Normalizing Each based on RUNS...\n",
            "X train data shape after concantenation (84, 235266)\n",
            "y train data shape after concantenation (84,)\n",
            "X test data shape after concantenation (84, 235266)\n",
            "y test data shape after concantenation (84,)\n",
            "X val data shape after concantenation (84, 235266)\n",
            "y val data shape after concantenation (84,)\n",
            "Final X Train data shape (84, 235266)\n",
            "Final y Train data shape  (84,)\n",
            "Final X Val data shape (84, 235266)\n",
            "Final y Val data shape  (84,)\n",
            "Final X Test data shape (84, 235266)\n",
            "Final y Test data shape  (84,)\n",
            "Fitting the model for subacc...\n",
            "upload complete for YA_svm_runs_1_2_3_subacc.pkl\n",
            "Predicting on Validation set...\n",
            "Validation Accuracy: 0.8571428571428571\n",
            "Predicting on Test set...\n"
          ]
        },
        {
          "output_type": "stream",
          "name": "stderr",
          "text": [
            "\r 40%|████      | 2/5 [05:54<08:55, 178.54s/it]"
          ]
        },
        {
          "output_type": "stream",
          "name": "stdout",
          "text": [
            "Test Accuracy: 0.7619047619047619\n",
            "Running all_data_masksubAI_norm_2d.pkl subAI\n",
            "Normalizing Each based on RUNS...\n",
            "X train data shape after concantenation (84, 237722)\n",
            "y train data shape after concantenation (84,)\n",
            "X test data shape after concantenation (84, 237722)\n",
            "y test data shape after concantenation (84,)\n",
            "X val data shape after concantenation (84, 237722)\n",
            "y val data shape after concantenation (84,)\n",
            "Final X Train data shape (84, 237722)\n",
            "Final y Train data shape  (84,)\n",
            "Final X Val data shape (84, 237722)\n",
            "Final y Val data shape  (84,)\n",
            "Final X Test data shape (84, 237722)\n",
            "Final y Test data shape  (84,)\n",
            "Fitting the model for subAI...\n",
            "upload complete for YA_svm_runs_1_2_3_subAI.pkl\n",
            "Predicting on Validation set...\n",
            "Validation Accuracy: 0.8571428571428571\n",
            "Predicting on Test set...\n"
          ]
        },
        {
          "output_type": "stream",
          "name": "stderr",
          "text": [
            "\r 60%|██████    | 3/5 [08:58<06:01, 180.83s/it]"
          ]
        },
        {
          "output_type": "stream",
          "name": "stdout",
          "text": [
            "Test Accuracy: 0.7619047619047619\n",
            "Running all_data_masksubNAcc_norm_2d.pkl Naccumb\n",
            "Normalizing Each based on RUNS...\n",
            "X train data shape after concantenation (84, 237252)\n",
            "y train data shape after concantenation (84,)\n",
            "X test data shape after concantenation (84, 237252)\n",
            "y test data shape after concantenation (84,)\n",
            "X val data shape after concantenation (84, 237252)\n",
            "y val data shape after concantenation (84,)\n",
            "Final X Train data shape (84, 237252)\n",
            "Final y Train data shape  (84,)\n",
            "Final X Val data shape (84, 237252)\n",
            "Final y Val data shape  (84,)\n",
            "Final X Test data shape (84, 237252)\n",
            "Final y Test data shape  (84,)\n",
            "Fitting the model for Naccumb...\n",
            "upload complete for YA_svm_runs_1_2_3_Naccumb.pkl\n",
            "Predicting on Validation set...\n",
            "Validation Accuracy: 0.8571428571428571\n",
            "Predicting on Test set...\n"
          ]
        },
        {
          "output_type": "stream",
          "name": "stderr",
          "text": [
            "\r 80%|████████  | 4/5 [12:16<03:07, 187.45s/it]"
          ]
        },
        {
          "output_type": "stream",
          "name": "stdout",
          "text": [
            "Test Accuracy: 0.7619047619047619\n",
            "Running all_data_masksubmPFC_norm_2d.pkl PFC\n",
            "Normalizing Each based on RUNS...\n",
            "X train data shape after concantenation (84, 237722)\n",
            "y train data shape after concantenation (84,)\n",
            "X test data shape after concantenation (84, 237722)\n",
            "y test data shape after concantenation (84,)\n",
            "X val data shape after concantenation (84, 237722)\n",
            "y val data shape after concantenation (84,)\n",
            "Final X Train data shape (84, 237722)\n",
            "Final y Train data shape  (84,)\n",
            "Final X Val data shape (84, 237722)\n",
            "Final y Val data shape  (84,)\n",
            "Final X Test data shape (84, 237722)\n",
            "Final y Test data shape  (84,)\n",
            "Fitting the model for PFC...\n",
            "upload complete for YA_svm_runs_1_2_3_PFC.pkl\n",
            "Predicting on Validation set...\n",
            "Validation Accuracy: 0.8571428571428571\n",
            "Predicting on Test set...\n"
          ]
        },
        {
          "output_type": "stream",
          "name": "stderr",
          "text": [
            "100%|██████████| 5/5 [15:26<00:00, 185.36s/it]"
          ]
        },
        {
          "output_type": "stream",
          "name": "stdout",
          "text": [
            "Test Accuracy: 0.7619047619047619\n"
          ]
        },
        {
          "output_type": "stream",
          "name": "stderr",
          "text": [
            "\n"
          ]
        }
      ]
    },
    {
      "cell_type": "code",
      "source": [
        "access_load_data(f'{svm_type}_acc_score.csv', False)"
      ],
      "metadata": {
        "id": "KGIzq4AjyGDb"
      },
      "execution_count": null,
      "outputs": []
    },
    {
      "cell_type": "markdown",
      "source": [
        "## Run all Adolescent Train/Val/Test \n",
        "- Loop through all the masks\n",
        "- fit to train\n",
        "- upload clf to AWS\n",
        "- calculate the accuracies on Validation and Test sets\n",
        "- store accuracies in a dictionary, load in pandas and save as csv"
      ],
      "metadata": {
        "id": "Wt1-bVGpxKFd"
      }
    },
    {
      "cell_type": "code",
      "source": [
        "file_name = [('whole_brain_all_norm_2d.pkl', \"mask\"),\n",
        "            ('all_data_masksubACC_norm_2d.pkl', \"subacc\"),\n",
        "            ('all_data_masksubAI_norm_2d.pkl', \"subAI\"),\n",
        "            ('all_data_masksubNAcc_norm_2d.pkl', \"Naccumb\"),\n",
        "            ('all_data_masksubmPFC_norm_2d.pkl', \"PFC\")\n",
        "            ]\n",
        "\n",
        "#open path dictionary file to get subject ids\n",
        "path = \"data/data_path_dictionary.pkl\"\n",
        "data_path_dict = open_pickle(path)\n",
        "subject_ids = data_path_dict['subject_ID']\n",
        "\n",
        "\n",
        "bool_mat = False\n",
        "adol = subject_ids[:33]\n",
        "print(\"Number of Adolescent subjects: \", len(adol))\n",
        "group_sub_ids = (adol, adol, adol) \n",
        "svm_type = \"Adolescent_svm_runs\" #\"YA_svm_runs\" \"Adolescent_svm_runs\"\n",
        "runs_train = 1 #train on run 2\n",
        "runs_val = 2 #val on run 3\n",
        "runs_test = 3 #test on run 4 (zero indexing)\n",
        "norm = \"RUNS\"\n",
        "\n",
        "acc_dict = defaultdict(list)\n",
        "\n",
        "for pkl_file, mask_type in tqdm.tqdm(file_name):\n",
        "  print(\"Running\", pkl_file, mask_type)\n",
        "  data = access_load_data(pkl_file, bool_mat)\n",
        "  val_acc, test_acc = run_model(data, mask_type, group_sub_ids, runs_train, runs_val, runs_test, norm, svm_type)\n",
        "  data = 0 #conserve RAM space\n",
        "  acc_dict[f\"{svm_type} Mask Type\"].append(mask_type)\n",
        "  acc_dict[\"Validation Accuracy\"].append(val_acc)\n",
        "  acc_dict['Test Accuracy'].append(test_acc)\n",
        "  acc_dict['Normalize on'].append(norm)\n",
        "  acc_dict['Train/Val/Test Runs'].append(f\"run {runs_train}/run {runs_val}/run {runs_test}\")\n",
        "\n",
        "\n",
        "# Upload to S3\n",
        "s3_upload(acc_dict, f\"{svm_type}_acc_score.csv\", \"csv\")"
      ],
      "metadata": {
        "id": "xB2XjSTVxRNo"
      },
      "execution_count": null,
      "outputs": []
    },
    {
      "cell_type": "code",
      "source": [
        "access_load_data(f'{svm_type}_acc_score.csv', False)\n"
      ],
      "metadata": {
        "colab": {
          "base_uri": "https://localhost:8080/",
          "height": 206
        },
        "id": "Z5PcDdJRrFXA",
        "outputId": "735cef17-a99b-482b-cade-2834eecbb614"
      },
      "execution_count": 5,
      "outputs": [
        {
          "output_type": "execute_result",
          "data": {
            "text/plain": [
              "  YA_svm_runs Mask Type  Validation Accuracy  Test Accuracy Normalize on  \\\n",
              "0                  mask             0.857143       0.761905         RUNS   \n",
              "1                subacc             0.857143       0.761905         RUNS   \n",
              "2                 subAI             0.857143       0.761905         RUNS   \n",
              "3               Naccumb             0.857143       0.761905         RUNS   \n",
              "4                   PFC             0.857143       0.761905         RUNS   \n",
              "\n",
              "  Train/Val/Test Runs  \n",
              "0   run 1/run 2/run 3  \n",
              "1   run 1/run 2/run 3  \n",
              "2   run 1/run 2/run 3  \n",
              "3   run 1/run 2/run 3  \n",
              "4   run 1/run 2/run 3  "
            ],
            "text/html": [
              "\n",
              "  <div id=\"df-44a98021-a3e2-4e36-8ca3-9ba2659659fc\">\n",
              "    <div class=\"colab-df-container\">\n",
              "      <div>\n",
              "<style scoped>\n",
              "    .dataframe tbody tr th:only-of-type {\n",
              "        vertical-align: middle;\n",
              "    }\n",
              "\n",
              "    .dataframe tbody tr th {\n",
              "        vertical-align: top;\n",
              "    }\n",
              "\n",
              "    .dataframe thead th {\n",
              "        text-align: right;\n",
              "    }\n",
              "</style>\n",
              "<table border=\"1\" class=\"dataframe\">\n",
              "  <thead>\n",
              "    <tr style=\"text-align: right;\">\n",
              "      <th></th>\n",
              "      <th>YA_svm_runs Mask Type</th>\n",
              "      <th>Validation Accuracy</th>\n",
              "      <th>Test Accuracy</th>\n",
              "      <th>Normalize on</th>\n",
              "      <th>Train/Val/Test Runs</th>\n",
              "    </tr>\n",
              "  </thead>\n",
              "  <tbody>\n",
              "    <tr>\n",
              "      <th>0</th>\n",
              "      <td>mask</td>\n",
              "      <td>0.857143</td>\n",
              "      <td>0.761905</td>\n",
              "      <td>RUNS</td>\n",
              "      <td>run 1/run 2/run 3</td>\n",
              "    </tr>\n",
              "    <tr>\n",
              "      <th>1</th>\n",
              "      <td>subacc</td>\n",
              "      <td>0.857143</td>\n",
              "      <td>0.761905</td>\n",
              "      <td>RUNS</td>\n",
              "      <td>run 1/run 2/run 3</td>\n",
              "    </tr>\n",
              "    <tr>\n",
              "      <th>2</th>\n",
              "      <td>subAI</td>\n",
              "      <td>0.857143</td>\n",
              "      <td>0.761905</td>\n",
              "      <td>RUNS</td>\n",
              "      <td>run 1/run 2/run 3</td>\n",
              "    </tr>\n",
              "    <tr>\n",
              "      <th>3</th>\n",
              "      <td>Naccumb</td>\n",
              "      <td>0.857143</td>\n",
              "      <td>0.761905</td>\n",
              "      <td>RUNS</td>\n",
              "      <td>run 1/run 2/run 3</td>\n",
              "    </tr>\n",
              "    <tr>\n",
              "      <th>4</th>\n",
              "      <td>PFC</td>\n",
              "      <td>0.857143</td>\n",
              "      <td>0.761905</td>\n",
              "      <td>RUNS</td>\n",
              "      <td>run 1/run 2/run 3</td>\n",
              "    </tr>\n",
              "  </tbody>\n",
              "</table>\n",
              "</div>\n",
              "      <button class=\"colab-df-convert\" onclick=\"convertToInteractive('df-44a98021-a3e2-4e36-8ca3-9ba2659659fc')\"\n",
              "              title=\"Convert this dataframe to an interactive table.\"\n",
              "              style=\"display:none;\">\n",
              "        \n",
              "  <svg xmlns=\"http://www.w3.org/2000/svg\" height=\"24px\"viewBox=\"0 0 24 24\"\n",
              "       width=\"24px\">\n",
              "    <path d=\"M0 0h24v24H0V0z\" fill=\"none\"/>\n",
              "    <path d=\"M18.56 5.44l.94 2.06.94-2.06 2.06-.94-2.06-.94-.94-2.06-.94 2.06-2.06.94zm-11 1L8.5 8.5l.94-2.06 2.06-.94-2.06-.94L8.5 2.5l-.94 2.06-2.06.94zm10 10l.94 2.06.94-2.06 2.06-.94-2.06-.94-.94-2.06-.94 2.06-2.06.94z\"/><path d=\"M17.41 7.96l-1.37-1.37c-.4-.4-.92-.59-1.43-.59-.52 0-1.04.2-1.43.59L10.3 9.45l-7.72 7.72c-.78.78-.78 2.05 0 2.83L4 21.41c.39.39.9.59 1.41.59.51 0 1.02-.2 1.41-.59l7.78-7.78 2.81-2.81c.8-.78.8-2.07 0-2.86zM5.41 20L4 18.59l7.72-7.72 1.47 1.35L5.41 20z\"/>\n",
              "  </svg>\n",
              "      </button>\n",
              "      \n",
              "  <style>\n",
              "    .colab-df-container {\n",
              "      display:flex;\n",
              "      flex-wrap:wrap;\n",
              "      gap: 12px;\n",
              "    }\n",
              "\n",
              "    .colab-df-convert {\n",
              "      background-color: #E8F0FE;\n",
              "      border: none;\n",
              "      border-radius: 50%;\n",
              "      cursor: pointer;\n",
              "      display: none;\n",
              "      fill: #1967D2;\n",
              "      height: 32px;\n",
              "      padding: 0 0 0 0;\n",
              "      width: 32px;\n",
              "    }\n",
              "\n",
              "    .colab-df-convert:hover {\n",
              "      background-color: #E2EBFA;\n",
              "      box-shadow: 0px 1px 2px rgba(60, 64, 67, 0.3), 0px 1px 3px 1px rgba(60, 64, 67, 0.15);\n",
              "      fill: #174EA6;\n",
              "    }\n",
              "\n",
              "    [theme=dark] .colab-df-convert {\n",
              "      background-color: #3B4455;\n",
              "      fill: #D2E3FC;\n",
              "    }\n",
              "\n",
              "    [theme=dark] .colab-df-convert:hover {\n",
              "      background-color: #434B5C;\n",
              "      box-shadow: 0px 1px 3px 1px rgba(0, 0, 0, 0.15);\n",
              "      filter: drop-shadow(0px 1px 2px rgba(0, 0, 0, 0.3));\n",
              "      fill: #FFFFFF;\n",
              "    }\n",
              "  </style>\n",
              "\n",
              "      <script>\n",
              "        const buttonEl =\n",
              "          document.querySelector('#df-44a98021-a3e2-4e36-8ca3-9ba2659659fc button.colab-df-convert');\n",
              "        buttonEl.style.display =\n",
              "          google.colab.kernel.accessAllowed ? 'block' : 'none';\n",
              "\n",
              "        async function convertToInteractive(key) {\n",
              "          const element = document.querySelector('#df-44a98021-a3e2-4e36-8ca3-9ba2659659fc');\n",
              "          const dataTable =\n",
              "            await google.colab.kernel.invokeFunction('convertToInteractive',\n",
              "                                                     [key], {});\n",
              "          if (!dataTable) return;\n",
              "\n",
              "          const docLinkHtml = 'Like what you see? Visit the ' +\n",
              "            '<a target=\"_blank\" href=https://colab.research.google.com/notebooks/data_table.ipynb>data table notebook</a>'\n",
              "            + ' to learn more about interactive tables.';\n",
              "          element.innerHTML = '';\n",
              "          dataTable['output_type'] = 'display_data';\n",
              "          await google.colab.output.renderOutput(dataTable, element);\n",
              "          const docLink = document.createElement('div');\n",
              "          docLink.innerHTML = docLinkHtml;\n",
              "          element.appendChild(docLink);\n",
              "        }\n",
              "      </script>\n",
              "    </div>\n",
              "  </div>\n",
              "  "
            ]
          },
          "metadata": {},
          "execution_count": 5
        }
      ]
    },
    {
      "cell_type": "code",
      "source": [
        ""
      ],
      "metadata": {
        "id": "JnBJT84iyPEh"
      },
      "execution_count": null,
      "outputs": []
    },
    {
      "cell_type": "code",
      "source": [
        ""
      ],
      "metadata": {
        "id": "RmmY9u9uyPMz"
      },
      "execution_count": null,
      "outputs": []
    },
    {
      "cell_type": "code",
      "source": [
        ""
      ],
      "metadata": {
        "id": "q-ngBfG4yPUm"
      },
      "execution_count": null,
      "outputs": []
    },
    {
      "cell_type": "code",
      "source": [
        ""
      ],
      "metadata": {
        "id": "ttmG6w4myPa9"
      },
      "execution_count": null,
      "outputs": []
    },
    {
      "cell_type": "code",
      "source": [
        "## Cross Validation accuracy scores recorded\n",
        "\n",
        "dictionary = {\"Mask Type Young Adult\": [\"Whole Brain\",\"SubACC\",\"SubAI\",\"Nucleus Accumbens\",\"Prefrontal Cortex\"], \n",
        "              \"Validation\": [0.753968253968254, 0.753968253968254, 0.753968253968254, 0.7579365079365079, 0.7619047619047619],\n",
        "              \"Test\": [0.800125313283208, 0.8020050125313283 , 0.7969924812030075, 0.7994987468671679, 0.7976190476190477]}\n",
        "\n",
        "df = pd.DataFrame(dictionary)\n",
        "df.set_index(\"Mask Type Young Adult\", inplace = True)\n",
        "df"
      ],
      "metadata": {
        "colab": {
          "base_uri": "https://localhost:8080/",
          "height": 237
        },
        "id": "-f0WM7ZlwOKi",
        "outputId": "84e9618f-5052-4545-9fec-24b558a9713f"
      },
      "execution_count": null,
      "outputs": [
        {
          "output_type": "execute_result",
          "data": {
            "text/plain": [
              "                       Validation      Test\n",
              "Mask Type Young Adult                      \n",
              "Whole Brain              0.753968  0.800125\n",
              "SubACC                   0.753968  0.802005\n",
              "SubAI                    0.753968  0.796992\n",
              "Nucleus Accumbens        0.757937  0.799499\n",
              "Prefrontal Cortex        0.761905  0.797619"
            ],
            "text/html": [
              "\n",
              "  <div id=\"df-17dab70a-5612-45ac-8320-d1fbd00522d6\">\n",
              "    <div class=\"colab-df-container\">\n",
              "      <div>\n",
              "<style scoped>\n",
              "    .dataframe tbody tr th:only-of-type {\n",
              "        vertical-align: middle;\n",
              "    }\n",
              "\n",
              "    .dataframe tbody tr th {\n",
              "        vertical-align: top;\n",
              "    }\n",
              "\n",
              "    .dataframe thead th {\n",
              "        text-align: right;\n",
              "    }\n",
              "</style>\n",
              "<table border=\"1\" class=\"dataframe\">\n",
              "  <thead>\n",
              "    <tr style=\"text-align: right;\">\n",
              "      <th></th>\n",
              "      <th>Validation</th>\n",
              "      <th>Test</th>\n",
              "    </tr>\n",
              "    <tr>\n",
              "      <th>Mask Type Young Adult</th>\n",
              "      <th></th>\n",
              "      <th></th>\n",
              "    </tr>\n",
              "  </thead>\n",
              "  <tbody>\n",
              "    <tr>\n",
              "      <th>Whole Brain</th>\n",
              "      <td>0.753968</td>\n",
              "      <td>0.800125</td>\n",
              "    </tr>\n",
              "    <tr>\n",
              "      <th>SubACC</th>\n",
              "      <td>0.753968</td>\n",
              "      <td>0.802005</td>\n",
              "    </tr>\n",
              "    <tr>\n",
              "      <th>SubAI</th>\n",
              "      <td>0.753968</td>\n",
              "      <td>0.796992</td>\n",
              "    </tr>\n",
              "    <tr>\n",
              "      <th>Nucleus Accumbens</th>\n",
              "      <td>0.757937</td>\n",
              "      <td>0.799499</td>\n",
              "    </tr>\n",
              "    <tr>\n",
              "      <th>Prefrontal Cortex</th>\n",
              "      <td>0.761905</td>\n",
              "      <td>0.797619</td>\n",
              "    </tr>\n",
              "  </tbody>\n",
              "</table>\n",
              "</div>\n",
              "      <button class=\"colab-df-convert\" onclick=\"convertToInteractive('df-17dab70a-5612-45ac-8320-d1fbd00522d6')\"\n",
              "              title=\"Convert this dataframe to an interactive table.\"\n",
              "              style=\"display:none;\">\n",
              "        \n",
              "  <svg xmlns=\"http://www.w3.org/2000/svg\" height=\"24px\"viewBox=\"0 0 24 24\"\n",
              "       width=\"24px\">\n",
              "    <path d=\"M0 0h24v24H0V0z\" fill=\"none\"/>\n",
              "    <path d=\"M18.56 5.44l.94 2.06.94-2.06 2.06-.94-2.06-.94-.94-2.06-.94 2.06-2.06.94zm-11 1L8.5 8.5l.94-2.06 2.06-.94-2.06-.94L8.5 2.5l-.94 2.06-2.06.94zm10 10l.94 2.06.94-2.06 2.06-.94-2.06-.94-.94-2.06-.94 2.06-2.06.94z\"/><path d=\"M17.41 7.96l-1.37-1.37c-.4-.4-.92-.59-1.43-.59-.52 0-1.04.2-1.43.59L10.3 9.45l-7.72 7.72c-.78.78-.78 2.05 0 2.83L4 21.41c.39.39.9.59 1.41.59.51 0 1.02-.2 1.41-.59l7.78-7.78 2.81-2.81c.8-.78.8-2.07 0-2.86zM5.41 20L4 18.59l7.72-7.72 1.47 1.35L5.41 20z\"/>\n",
              "  </svg>\n",
              "      </button>\n",
              "      \n",
              "  <style>\n",
              "    .colab-df-container {\n",
              "      display:flex;\n",
              "      flex-wrap:wrap;\n",
              "      gap: 12px;\n",
              "    }\n",
              "\n",
              "    .colab-df-convert {\n",
              "      background-color: #E8F0FE;\n",
              "      border: none;\n",
              "      border-radius: 50%;\n",
              "      cursor: pointer;\n",
              "      display: none;\n",
              "      fill: #1967D2;\n",
              "      height: 32px;\n",
              "      padding: 0 0 0 0;\n",
              "      width: 32px;\n",
              "    }\n",
              "\n",
              "    .colab-df-convert:hover {\n",
              "      background-color: #E2EBFA;\n",
              "      box-shadow: 0px 1px 2px rgba(60, 64, 67, 0.3), 0px 1px 3px 1px rgba(60, 64, 67, 0.15);\n",
              "      fill: #174EA6;\n",
              "    }\n",
              "\n",
              "    [theme=dark] .colab-df-convert {\n",
              "      background-color: #3B4455;\n",
              "      fill: #D2E3FC;\n",
              "    }\n",
              "\n",
              "    [theme=dark] .colab-df-convert:hover {\n",
              "      background-color: #434B5C;\n",
              "      box-shadow: 0px 1px 3px 1px rgba(0, 0, 0, 0.15);\n",
              "      filter: drop-shadow(0px 1px 2px rgba(0, 0, 0, 0.3));\n",
              "      fill: #FFFFFF;\n",
              "    }\n",
              "  </style>\n",
              "\n",
              "      <script>\n",
              "        const buttonEl =\n",
              "          document.querySelector('#df-17dab70a-5612-45ac-8320-d1fbd00522d6 button.colab-df-convert');\n",
              "        buttonEl.style.display =\n",
              "          google.colab.kernel.accessAllowed ? 'block' : 'none';\n",
              "\n",
              "        async function convertToInteractive(key) {\n",
              "          const element = document.querySelector('#df-17dab70a-5612-45ac-8320-d1fbd00522d6');\n",
              "          const dataTable =\n",
              "            await google.colab.kernel.invokeFunction('convertToInteractive',\n",
              "                                                     [key], {});\n",
              "          if (!dataTable) return;\n",
              "\n",
              "          const docLinkHtml = 'Like what you see? Visit the ' +\n",
              "            '<a target=\"_blank\" href=https://colab.research.google.com/notebooks/data_table.ipynb>data table notebook</a>'\n",
              "            + ' to learn more about interactive tables.';\n",
              "          element.innerHTML = '';\n",
              "          dataTable['output_type'] = 'display_data';\n",
              "          await google.colab.output.renderOutput(dataTable, element);\n",
              "          const docLink = document.createElement('div');\n",
              "          docLink.innerHTML = docLinkHtml;\n",
              "          element.appendChild(docLink);\n",
              "        }\n",
              "      </script>\n",
              "    </div>\n",
              "  </div>\n",
              "  "
            ]
          },
          "metadata": {},
          "execution_count": 11
        }
      ]
    },
    {
      "cell_type": "code",
      "source": [
        ""
      ],
      "metadata": {
        "id": "ux8UE7S8xOkP"
      },
      "execution_count": null,
      "outputs": []
    }
  ]
}