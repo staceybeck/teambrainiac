{
  "cells": [
    {
      "cell_type": "markdown",
      "metadata": {
        "id": "view-in-github",
        "colab_type": "text"
      },
      "source": [
        "<a href=\"https://colab.research.google.com/github/yecatstevir/teambrainiac/blob/main/source/SingleSubjectSVM.ipynb\" target=\"_parent\"><img src=\"https://colab.research.google.com/assets/colab-badge.svg\" alt=\"Open In Colab\"/></a>"
      ]
    },
    {
      "cell_type": "markdown",
      "metadata": {
        "id": "f_wDm122NTXY"
      },
      "source": [
        "# Whole Brain Support Vector Machine Training\n",
        "- Go to 'Runtime' in Colab browser bar, select 'Change Runtime Type', select 'High-RAM' from 'Runtime Shape'. \n",
        "- load local pickle file containing all masked, normalized Whole Brain subject data in numpy matrix format\n",
        "- SVM training all subjects\n",
        "- SVM training per subject"
      ]
    },
    {
      "cell_type": "markdown",
      "metadata": {
        "id": "c284FIeHNcR2"
      },
      "source": [
        "### Mount Google Drive and clone repository\n",
        "- open to source directory"
      ]
    },
    {
      "cell_type": "code",
      "execution_count": 1,
      "metadata": {
        "colab": {
          "base_uri": "https://localhost:8080/"
        },
        "id": "mIfcjimGzIZo",
        "outputId": "64845805-9dbe-4a69-a132-a1f1dec0e666"
      },
      "outputs": [
        {
          "output_type": "stream",
          "name": "stdout",
          "text": [
            "Mounted at /content/gdrive\n"
          ]
        }
      ],
      "source": [
        "from google.colab import drive\n",
        "drive.mount('/content/gdrive')#, force_remount = True)"
      ]
    },
    {
      "cell_type": "code",
      "execution_count": 2,
      "metadata": {
        "colab": {
          "base_uri": "https://localhost:8080/"
        },
        "id": "D5eq9qyKMTp_",
        "outputId": "abff0ca5-9cfd-4cbc-a94c-f2bee2425aaf"
      },
      "outputs": [
        {
          "output_type": "stream",
          "name": "stdout",
          "text": [
            "Mounted at /content/drive\n"
          ]
        }
      ],
      "source": [
        "\n",
        "from google.colab import drive\n",
        "drive.mount('/content/drive', force_remount=True)"
      ]
    },
    {
      "cell_type": "code",
      "execution_count": 3,
      "metadata": {
        "colab": {
          "base_uri": "https://localhost:8080/"
        },
        "id": "lh0DqCU10r3n",
        "outputId": "c279b724-16ad-46bb-d945-3873e9354f7d"
      },
      "outputs": [
        {
          "output_type": "stream",
          "name": "stdout",
          "text": [
            "fatal: destination path 'teambrainiac' already exists and is not an empty directory.\n",
            "/content/teambrainiac/source\n",
            "Access_Load_Data.ipynb\t\t  Mat_to_Numpy.ipynb\n",
            "AccuracyMeasures.ipynb\t\t  models\n",
            "All_subject_masked_labeled.ipynb  path_config.py\n",
            "cross_validation.py\t\t  percent_signal_change.ipynb\n",
            "data\t\t\t\t  process.py\n",
            "Explore_data.ipynb\t\t  __pycache__\n",
            "explore.py\t\t\t  SingleSubjectSVM.ipynb\n",
            "Group_All_MASK_SVM.ipynb\t  SVM_Group_Child_Whole_Brain.ipynb\n",
            "Images\t\t\t\t  SVM_Group_YA_Whole_brain.ipynb\n",
            "__init__.py\t\t\t  utils.py\n",
            "Masking.ipynb\t\t\t  Visualize_Data.ipynb\n"
          ]
        }
      ],
      "source": [
        "# Clone the entire repo.\n",
        "!git clone -l -s https://github.com/yecatstevir/teambrainiac.git\n",
        "# Change directory into cloned repo\n",
        "%cd teambrainiac/source\n",
        "!ls\n"
      ]
    },
    {
      "cell_type": "markdown",
      "metadata": {
        "id": "zadD_dOPPjQm"
      },
      "source": [
        "### Load path_config.py \n",
        "- we are already in source so we can just load this file without chanding directory"
      ]
    },
    {
      "cell_type": "code",
      "execution_count": 4,
      "metadata": {
        "colab": {
          "base_uri": "https://localhost:8080/",
          "height": 90,
          "resources": {
            "http://localhost:8080/nbextensions/google.colab/files.js": {
              "data": "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",
              "headers": [
                [
                  "content-type",
                  "application/javascript"
                ]
              ],
              "ok": true,
              "status": 200,
              "status_text": ""
            }
          }
        },
        "id": "u_2qZqNJPLkn",
        "outputId": "db4d3066-72d5-4b49-8a40-8936462a17ea"
      },
      "outputs": [
        {
          "output_type": "display_data",
          "data": {
            "text/plain": [
              "<IPython.core.display.HTML object>"
            ],
            "text/html": [
              "\n",
              "     <input type=\"file\" id=\"files-070f2426-e53b-48c4-87f1-ad68f8e3c3de\" name=\"files[]\" multiple disabled\n",
              "        style=\"border:none\" />\n",
              "     <output id=\"result-070f2426-e53b-48c4-87f1-ad68f8e3c3de\">\n",
              "      Upload widget is only available when the cell has been executed in the\n",
              "      current browser session. Please rerun this cell to enable.\n",
              "      </output>\n",
              "      <script src=\"/nbextensions/google.colab/files.js\"></script> "
            ]
          },
          "metadata": {}
        },
        {
          "output_type": "stream",
          "name": "stdout",
          "text": [
            "Saving path_config.py to path_config (1).py\n",
            "User uploaded file \"path_config.py\" with length 228 bytes\n"
          ]
        }
      ],
      "source": [
        "from google.colab import files\n",
        "\n",
        "uploaded = files.upload()\n",
        "\n",
        "for fn in uploaded.keys():\n",
        "  print('User uploaded file \"{name}\" with length {length} bytes'.format(\n",
        "      name=fn, length=len(uploaded[fn])))"
      ]
    },
    {
      "cell_type": "code",
      "execution_count": null,
      "metadata": {
        "id": "rbjm476H-rN9"
      },
      "outputs": [],
      "source": [
        ""
      ]
    },
    {
      "cell_type": "markdown",
      "metadata": {
        "id": "8cxzhagpPuBk"
      },
      "source": [
        "### Load the Whole brain normalized masked all subject 2d pickle file \n",
        "- go to Drive outside of this notebook\n",
        "  - create a folder named data\n",
        "  - upload 'whole_brain_all_norm_2d.pkl' - will take 5 hours but should remain on system without need to upload again\n",
        "  - once uploaded, drag the file to the repo source/data directory"
      ]
    },
    {
      "cell_type": "code",
      "execution_count": null,
      "metadata": {
        "colab": {
          "base_uri": "https://localhost:8080/"
        },
        "id": "xkpIEgroQTZX",
        "outputId": "ec5e8601-7711-462d-8d18-13bfa4326df1"
      },
      "outputs": [
        {
          "name": "stdout",
          "output_type": "stream",
          "text": [
            " Access_Load_Data.ipynb\t\t   'path_config (2).py'\n",
            " All_subject_masked_labeled.ipynb  'path_config (3).py'\n",
            " cross_validation.py\t\t    path_config.py\n",
            " data\t\t\t\t    percent_signal_change.ipynb\n",
            " Explore_data.ipynb\t\t    process.py\n",
            " explore.py\t\t\t    __pycache__\n",
            " Images\t\t\t\t    SVM_Group_Child_Whole_Brain.ipynb\n",
            " __init__.py\t\t\t    SVM_Group_YA_Whole_brain.ipynb\n",
            " Masking.ipynb\t\t\t    teambrainiac\n",
            " Mat_to_Numpy.ipynb\t\t    utils.py\n",
            " models\t\t\t\t    Visualize_Data.ipynb\n",
            "'path_config (1).py'\n"
          ]
        }
      ],
      "source": [
        "!ls"
      ]
    },
    {
      "cell_type": "markdown",
      "metadata": {
        "id": "_cmYZ22BNj8h"
      },
      "source": [
        "### Import libraries\n"
      ]
    },
    {
      "cell_type": "code",
      "execution_count": 7,
      "metadata": {
        "colab": {
          "base_uri": "https://localhost:8080/"
        },
        "id": "abHr7oUl06ED",
        "outputId": "a4a84655-5082-4099-a0ed-e852c4d26589"
      },
      "outputs": [
        {
          "output_type": "stream",
          "name": "stdout",
          "text": [
            "Requirement already satisfied: boto3 in /usr/local/lib/python3.7/dist-packages (1.21.33)\n",
            "Requirement already satisfied: nilearn in /usr/local/lib/python3.7/dist-packages (0.9.0)\n",
            "Requirement already satisfied: nibabel in /usr/local/lib/python3.7/dist-packages (3.0.2)\n",
            "Requirement already satisfied: jmespath<2.0.0,>=0.7.1 in /usr/local/lib/python3.7/dist-packages (from boto3) (1.0.0)\n",
            "Requirement already satisfied: botocore<1.25.0,>=1.24.33 in /usr/local/lib/python3.7/dist-packages (from boto3) (1.24.33)\n",
            "Requirement already satisfied: s3transfer<0.6.0,>=0.5.0 in /usr/local/lib/python3.7/dist-packages (from boto3) (0.5.2)\n",
            "Requirement already satisfied: urllib3<1.27,>=1.25.4 in /usr/local/lib/python3.7/dist-packages (from botocore<1.25.0,>=1.24.33->boto3) (1.25.11)\n",
            "Requirement already satisfied: python-dateutil<3.0.0,>=2.1 in /usr/local/lib/python3.7/dist-packages (from botocore<1.25.0,>=1.24.33->boto3) (2.8.2)\n",
            "Requirement already satisfied: six>=1.5 in /usr/local/lib/python3.7/dist-packages (from python-dateutil<3.0.0,>=2.1->botocore<1.25.0,>=1.24.33->boto3) (1.15.0)\n",
            "Requirement already satisfied: scipy>=1.2 in /usr/local/lib/python3.7/dist-packages (from nilearn) (1.4.1)\n",
            "Requirement already satisfied: joblib>=0.12 in /usr/local/lib/python3.7/dist-packages (from nilearn) (1.1.0)\n",
            "Requirement already satisfied: numpy>=1.16 in /usr/local/lib/python3.7/dist-packages (from nilearn) (1.21.5)\n",
            "Requirement already satisfied: requests>=2 in /usr/local/lib/python3.7/dist-packages (from nilearn) (2.23.0)\n",
            "Requirement already satisfied: pandas>=0.24.0 in /usr/local/lib/python3.7/dist-packages (from nilearn) (1.3.5)\n",
            "Requirement already satisfied: scikit-learn>=0.21 in /usr/local/lib/python3.7/dist-packages (from nilearn) (1.0.2)\n",
            "Requirement already satisfied: pytz>=2017.3 in /usr/local/lib/python3.7/dist-packages (from pandas>=0.24.0->nilearn) (2018.9)\n",
            "Requirement already satisfied: certifi>=2017.4.17 in /usr/local/lib/python3.7/dist-packages (from requests>=2->nilearn) (2021.10.8)\n",
            "Requirement already satisfied: chardet<4,>=3.0.2 in /usr/local/lib/python3.7/dist-packages (from requests>=2->nilearn) (3.0.4)\n",
            "Requirement already satisfied: idna<3,>=2.5 in /usr/local/lib/python3.7/dist-packages (from requests>=2->nilearn) (2.10)\n",
            "Requirement already satisfied: threadpoolctl>=2.0.0 in /usr/local/lib/python3.7/dist-packages (from scikit-learn>=0.21->nilearn) (3.1.0)\n"
          ]
        }
      ],
      "source": [
        "\n",
        "# Import libraries\n",
        "!pip install boto3 nilearn nibabel\n",
        "from sklearn.model_selection import GridSearchCV\n",
        "import pickle\n",
        "from utils import data_to_nib, load_mat, open_pickle, access_load_data, save_data, create_mask, labels_mask_binary, masking_data, masked_data_n_labels\n",
        "from sklearn.svm import SVC\n",
        "import numpy as np\n",
        "import pandas as pd\n",
        "import random\n",
        "import cv2 as cv"
      ]
    },
    {
      "cell_type": "markdown",
      "metadata": {
        "id": "fZVh3WQeMk1c"
      },
      "source": [
        "### Load Data from AWS and create Train/Val/Test splits"
      ]
    },
    {
      "cell_type": "code",
      "execution_count": 7,
      "metadata": {
        "colab": {
          "base_uri": "https://localhost:8080/"
        },
        "id": "o7bAfdj7K7Md",
        "outputId": "0c74d4f2-30a1-4362-90d3-c4f45c0186e8"
      },
      "outputs": [
        {
          "output_type": "stream",
          "name": "stdout",
          "text": [
            "CPU times: user 2 µs, sys: 0 ns, total: 2 µs\n",
            "Wall time: 5.72 µs\n"
          ]
        }
      ],
      "source": [
        "%%time\n",
        "# pkl_file = \"whole_brain_all_norm_2d.pkl\" # normalized\n",
        "# pkl_file_all = 'all_data_dictionary.pkl' #Unnormalized\n",
        "# bool_mat = False\n",
        "# data = access_load_data(pkl_file, bool_mat)\n",
        "# #data_unnorm = access_load_data(pkl_file_all,bool_mat)"
      ]
    },
    {
      "cell_type": "code",
      "execution_count": null,
      "metadata": {
        "id": "L70QYcxnM3q8"
      },
      "outputs": [],
      "source": [
        "#open path dictionary file to get subject ids\n",
        "# path = \"data/data_path_dictionary.pkl\"\n",
        "# data_path_dict = open_pickle(path)\n",
        "# subject_ids = data_path_dict['subject_ID']\n",
        "\n",
        "# # Randomly shuffle ids for train test val splits\n",
        "# random.seed(42)\n",
        "# random.shuffle(subject_ids)"
      ]
    },
    {
      "cell_type": "code",
      "execution_count": null,
      "metadata": {
        "id": "3hZYRXMy8w-2"
      },
      "outputs": [],
      "source": [
        "# mask_data_path = data_path_dict['mask_data'][0]\n",
        "# mask_type_dict = access_load_data(mask_data_path,True)\n",
        "# np_array_mask = mask_type_dict['mask']"
      ]
    },
    {
      "cell_type": "code",
      "execution_count": null,
      "metadata": {
        "colab": {
          "base_uri": "https://localhost:8080/"
        },
        "id": "_XiVJGI99vfv",
        "outputId": "617c11d7-0dbc-40de-94a9-31c31edd21e2"
      },
      "outputs": [
        {
          "data": {
            "text/plain": [
              "(array([ 3,  3,  3, ..., 75, 75, 75]),\n",
              " array([36, 36, 36, ..., 47, 47, 47]),\n",
              " array([33, 34, 35, ..., 28, 29, 30]))"
            ]
          },
          "execution_count": 8,
          "metadata": {},
          "output_type": "execute_result"
        }
      ],
      "source": [
        "# indices_mask = np.where(np_array_mask==1)\n",
        "# indices_mask"
      ]
    },
    {
      "cell_type": "code",
      "execution_count": 8,
      "metadata": {
        "id": "YwJQ-eCGifbH"
      },
      "outputs": [],
      "source": [
        "path = \"data/data_path_dictionary.pkl\"\n",
        "data_path_dict = open_pickle(path)\n",
        "subject_ids = data_path_dict['subject_ID']\n",
        "subj_paths = data_path_dict['subject_data']\n",
        "label_data_path = data_path_dict['labels'][0]\n",
        "label_type = 'rt_labels'\n",
        "mask_labels_indices, binary_labels = labels_mask_binary(label_data_path, label_type)\n",
        "\n",
        "mask_data_path = data_path_dict['mask_data'][0]\n",
        "mask = create_mask(mask_data_path,mask_type='mask')\n"
      ]
    },
    {
      "cell_type": "code",
      "execution_count": 9,
      "metadata": {
        "id": "k5fhMjF0AKD0"
      },
      "outputs": [],
      "source": [
        "from utils import *\n",
        "import numpy as np\n",
        "from sklearn.preprocessing import StandardScaler\n",
        "def scale_data_single_subj(sub_data,sub_labels, runs_train,runs_test,norm):\n",
        "  \"\"\"\n",
        "    data         : (1 subject data, keys as subject ID for frmi data or labels)\n",
        "    runs_train   : tuple , (which run are we using for the training data)\n",
        "    runs_test    : tuple, (which run are we using for the test data)\n",
        "    norm         : string, (\"RUNS\": normalizing separately on each run;\n",
        "                            \"SUBJECT\": Normalizing separately by each subject)\n",
        "    returns      : nd.arrays, Concatenated X data of (time points, x*y*z) x = 79, y = 95, z = 75\n",
        "                   and Concatenated y labels of (time points,)\n",
        "    \"\"\"\n",
        "\n",
        "    # train and labels\n",
        "  X = []\n",
        "  y = []\n",
        "  ##val and labels\n",
        "  Xv = []\n",
        "  yv = []\n",
        "  # TEST and labels\n",
        "  Xt = []\n",
        "  yt = []\n",
        "  if len(runs_train)>1:\n",
        "      for run in runs_train:\n",
        "        X.append(sub_data[run])\n",
        "        y.append(sub_labels[run])\n",
        "      \n",
        "      X = np.concatenate(np.array(X))\n",
        "      y = np.concatenate(np.array(y))\n",
        "  else:\n",
        "      X = sub_data[runs_train[0]-1]\n",
        "      y = sub_labels[runs_train[0]-1]\n",
        "  if len(runs_test)> 1:\n",
        "      Xv = sub_data[runs_test[0]-1]\n",
        "      yv = sub_labels[runs_test[0]-1]\n",
        "      Xt = sub_data[runs_test[1]-1]\n",
        "      yt = sub_labels[runs_test[1]-1]\n",
        "  else:\n",
        "      Xt = sub_data[runs_test[0]-1]\n",
        "      yt = sub_labels[runs_test[0]-1]\n",
        "  if norm == \"RUNS\":\n",
        "      scalar = StandardScaler()\n",
        "      X = scalar.fit_transform(X)\n",
        "\n",
        "      scalarT = StandardScaler()\n",
        "      Xt = scalarT.fit_transform(Xt)\n",
        "      if len(Xv)>0:\n",
        "        Xv = scalarT.fit_transform(Xv)\n",
        "  elif norm == \"SUBJECT\":\n",
        "      #print(f\"Normalizing Each Subject Data for group {group_sub_ids}\")\n",
        "      scalar = StandardScaler().fit(X)\n",
        "      X = scalar.transform(X)\n",
        "      \n",
        "\n",
        "      Xt = scalar.transform(Xt)\n",
        "      if len(Xv)>0:\n",
        "        Xv = scalar.transform(Xv)\n",
        "  else:\n",
        "      print('Not doing standardization')      \n",
        "  return X, y, Xt, yt, Xv, yv"
      ]
    },
    {
      "cell_type": "code",
      "execution_count": 24,
      "metadata": {
        "id": "OAtPV7sKNyhc"
      },
      "outputs": [],
      "source": [
        "from sklearn.metrics import accuracy_score\n",
        "def run_single_subject_svm(sub_data,sub_labels,runs_train,runs_test,norm=\"none\",do_cv=False):\n",
        "  #if norm!=\"none\":\n",
        "  X_train, y_train, X_test, y_test, X_val, y_val = scale_data_single_subj(sub_data,sub_labels,runs_train,runs_test,norm)\n",
        "  # else:\n",
        "  #   X_train = sub_data[1]\n",
        "  #   y_train = sub_labels[1]\n",
        "  #   X_val = sub_data[2]\n",
        "  #   y_val = sub_labels[2]\n",
        "  #   X_test = sub_data[3]\n",
        "  #   y_test = sub_labels[3]\n",
        "  if do_cv:\n",
        "    c_params = {'C':[0.7, 1, 5, 10],  'random_state':[111,222],'kernel':['linear', 'rbf']}\n",
        "    svc = SVC()\n",
        "    clf = GridSearchCV(svc, c_params)\n",
        "    clf.fit(X_train, y_train)\n",
        "    if len(X_val)>0:\n",
        "      y_val_predicts = clf.predict(X_val)\n",
        "      val_acc = accuracy_score(y_val,y_val_predicts)\n",
        "    else:\n",
        "      val_acc = 0\n",
        "    y_test_predicts = clf.predict(X_test)\n",
        "    test_acc = accuracy_score(y_test,y_test_predicts)\n",
        "    return clf,val_acc,test_acc\n",
        "  else:\n",
        "    clf = SVC(C=1.0,kernel='linear')\n",
        "    clf.fit(X_train,y_train)\n",
        "\n",
        "  return clf,X_train,y_train,X_test,y_test,X_val,y_val"
      ]
    },
    {
      "cell_type": "code",
      "execution_count": 11,
      "metadata": {
        "id": "ht76lcUXUURm"
      },
      "outputs": [],
      "source": [
        "def load_subject_data(idx,dopsc):\n",
        "  mat_path = subj_paths[idx]\n",
        "  sub_id = subject_ids[idx]\n",
        "  data = access_load_data(mat_path,True)\n",
        "  user_data_dict = {}\n",
        "  user_data_dict[sub_id], bi_lb = masking_data(data, mask, mask_labels_indices, binary_labels, dopsc)\n",
        "  user_data_dict[f\"{sub_id}_{label_type}\"] = bi_lb\n",
        "  return user_data_dict, sub_id\n",
        "#mask_labels_indices, binary_labels = labels_mask_binary(label_data_path, label_type)\n"
      ]
    },
    {
      "cell_type": "code",
      "execution_count": 25,
      "metadata": {
        "id": "cUIIWq3GsvNb"
      },
      "outputs": [],
      "source": [
        "\n",
        "def run_subject_model(subject_ids, runs_train,runs_test,path,do_psc=True,norm='none'):\n",
        "  file_name_path = []\n",
        "  for idx in range(len(subject_ids)):\n",
        "    model_dict = {}\n",
        "    user_data_dict, sub_id = load_subject_data(idx,do_psc)\n",
        "    sub_data = user_data_dict[sub_id]\n",
        "    sub_labels = user_data_dict[f\"{sub_id}_rt_labels\"]\n",
        "    clf,X_train, y_train, X_test, y_test, X_val, y_val = run_single_subject_svm(sub_data,sub_labels,runs_train,runs_test,norm)\n",
        "    model_dict[sub_id] = {}\n",
        "    model_dict[sub_id]['model'] = clf\n",
        "    model_dict[sub_id]['X_train'] = X_train\n",
        "    model_dict[sub_id]['y_train'] = y_train\n",
        "    model_dict[sub_id]['X_test'] = X_test\n",
        "    model_dict[sub_id]['y_test'] = y_test\n",
        "    if len(X_val)>0:\n",
        "      model_dict[sub_id]['X_val'] = X_val\n",
        "      model_dict[sub_id]['y_val'] = y_val\n",
        "    destination_path = f\"{path}/sub_id_one_run_model_psconly{sub_id}.pkl\"\n",
        "    file_name_path.append([sub_id,destination_path])\n",
        "    f = open(destination_path, \"wb\")\n",
        "    pickle.dump(model_dict, f)\n",
        "    f.close()\n",
        "  return file_name_path"
      ]
    },
    {
      "cell_type": "code",
      "execution_count": null,
      "metadata": {
        "id": "ir45grRN_6n7"
      },
      "outputs": [],
      "source": [
        "file_name_pd = pd.DataFrame(file_name_path,columns= ['sub_id','pickle_path'])\n",
        "file_name_pd.to_csv(\"/content/drive/My Drive/data/model_one_run_zcoreonly/subject_paths.csv\")\n"
      ]
    },
    {
      "cell_type": "code",
      "execution_count": null,
      "metadata": {
        "id": "iCwlDG3wM7H0"
      },
      "outputs": [],
      "source": [
        "file_name_path = run_subject_model(subject_ids,(2,),(3,4),\"/content/drive/My Drive/data/model_one_run_psc_only\",do_psc=True,norm='none')"
      ]
    },
    {
      "cell_type": "code",
      "execution_count": 13,
      "metadata": {
        "colab": {
          "base_uri": "https://localhost:8080/",
          "height": 200
        },
        "id": "aUhx9vLPIdxo",
        "outputId": "5fc4e609-51ad-4d7e-cbdf-ae63116b5f4e"
      },
      "outputs": [
        {
          "output_type": "error",
          "ename": "NameError",
          "evalue": "ignored",
          "traceback": [
            "\u001b[0;31m---------------------------------------------------------------------------\u001b[0m",
            "\u001b[0;31mNameError\u001b[0m                                 Traceback (most recent call last)",
            "\u001b[0;32m<ipython-input-13-1fe82a13e7e6>\u001b[0m in \u001b[0;36m<module>\u001b[0;34m()\u001b[0m\n\u001b[1;32m      2\u001b[0m \u001b[0msvc\u001b[0m \u001b[0;34m=\u001b[0m \u001b[0mSVC\u001b[0m\u001b[0;34m(\u001b[0m\u001b[0;34m)\u001b[0m\u001b[0;34m\u001b[0m\u001b[0;34m\u001b[0m\u001b[0m\n\u001b[1;32m      3\u001b[0m \u001b[0mclf\u001b[0m \u001b[0;34m=\u001b[0m \u001b[0mGridSearchCV\u001b[0m\u001b[0;34m(\u001b[0m\u001b[0msvc\u001b[0m\u001b[0;34m,\u001b[0m \u001b[0mc_params\u001b[0m\u001b[0;34m)\u001b[0m\u001b[0;34m\u001b[0m\u001b[0;34m\u001b[0m\u001b[0m\n\u001b[0;32m----> 4\u001b[0;31m \u001b[0mclf\u001b[0m\u001b[0;34m.\u001b[0m\u001b[0mfit\u001b[0m\u001b[0;34m(\u001b[0m\u001b[0mX_train\u001b[0m\u001b[0;34m,\u001b[0m \u001b[0my_train\u001b[0m\u001b[0;34m)\u001b[0m\u001b[0;34m\u001b[0m\u001b[0;34m\u001b[0m\u001b[0m\n\u001b[0m",
            "\u001b[0;31mNameError\u001b[0m: name 'X_train' is not defined"
          ]
        }
      ],
      "source": [
        "c_params = {'C':[0.7, 1, 5, 10],  'random_state':[111,222],'kernel':['linear', 'rbf']}\n",
        "svc = SVC()\n",
        "clf = GridSearchCV(svc, c_params)\n",
        "clf.fit(X_train, y_train)"
      ]
    },
    {
      "cell_type": "code",
      "execution_count": 26,
      "metadata": {
        "id": "m41fuwsALmlH"
      },
      "outputs": [],
      "source": [
        "def run_subject_model_cv(subject_ids, runs_train,runs_test,do_psc=True,norm='none'):\n",
        "  cv_dict = {}\n",
        "  for idx in range(len(subject_ids)):\n",
        "    model_dict = {}\n",
        "    user_data_dict, sub_id = load_subject_data(idx,do_psc)\n",
        "    sub_data = user_data_dict[sub_id]\n",
        "    sub_labels = user_data_dict[f\"{sub_id}_rt_labels\"]\n",
        "    clf,val_acc,test_acc = run_single_subject_svm(sub_data,sub_labels,runs_train,runs_test,norm,do_cv=True)\n",
        "    cv_dict[sub_id] = {}\n",
        "    cv_dict[sub_id]['model'] = clf\n",
        "    cv_dict[sub_id]['val_acc'] = val_acc\n",
        "    cv_dict[sub_id]['test_acc'] = test_acc\n",
        "   \n",
        "  return cv_dict"
      ]
    },
    {
      "cell_type": "code",
      "source": [
        "cv_results = run_subject_model_cv(subject_ids,(2,),(3,4),do_psc=False,norm='RUNS')"
      ],
      "metadata": {
        "colab": {
          "base_uri": "https://localhost:8080/"
        },
        "id": "8mTSbgo41nl0",
        "outputId": "ee8d6e5d-b4d5-4783-d966-ee613214a069"
      },
      "execution_count": 27,
      "outputs": [
        {
          "output_type": "stream",
          "name": "stderr",
          "text": [
            "100%|██████████| 4/4 [00:00<00:00,  5.34it/s]\n",
            "100%|██████████| 4/4 [00:00<00:00,  5.57it/s]\n",
            "100%|██████████| 4/4 [00:00<00:00,  6.54it/s]\n",
            "100%|██████████| 4/4 [00:00<00:00,  6.40it/s]\n",
            "100%|██████████| 4/4 [00:00<00:00,  6.34it/s]\n",
            "100%|██████████| 4/4 [00:00<00:00,  6.56it/s]\n",
            "100%|██████████| 4/4 [00:00<00:00,  6.13it/s]\n",
            "100%|██████████| 4/4 [00:00<00:00,  6.33it/s]\n",
            "100%|██████████| 4/4 [00:00<00:00,  6.47it/s]\n",
            "100%|██████████| 4/4 [00:00<00:00,  6.09it/s]\n",
            "100%|██████████| 4/4 [00:00<00:00,  6.24it/s]\n",
            "100%|██████████| 4/4 [00:00<00:00,  6.34it/s]\n",
            "100%|██████████| 4/4 [00:00<00:00,  6.14it/s]\n",
            "100%|██████████| 4/4 [00:00<00:00,  6.69it/s]\n",
            "100%|██████████| 4/4 [00:00<00:00,  6.58it/s]\n",
            "100%|██████████| 4/4 [00:00<00:00,  6.58it/s]\n",
            "100%|██████████| 4/4 [00:00<00:00,  6.34it/s]\n",
            "100%|██████████| 4/4 [00:00<00:00,  6.69it/s]\n",
            "100%|██████████| 4/4 [00:00<00:00,  6.59it/s]\n",
            "100%|██████████| 4/4 [00:00<00:00,  6.01it/s]\n",
            "100%|██████████| 4/4 [00:00<00:00,  6.13it/s]\n",
            "100%|██████████| 4/4 [00:00<00:00,  6.21it/s]\n",
            "100%|██████████| 4/4 [00:00<00:00,  5.99it/s]\n",
            "100%|██████████| 4/4 [00:00<00:00,  6.31it/s]\n",
            "100%|██████████| 4/4 [00:00<00:00,  6.47it/s]\n",
            "100%|██████████| 4/4 [00:00<00:00,  5.99it/s]\n",
            "100%|██████████| 4/4 [00:00<00:00,  6.11it/s]\n",
            "100%|██████████| 4/4 [00:00<00:00,  6.06it/s]\n",
            "100%|██████████| 4/4 [00:00<00:00,  6.34it/s]\n",
            "100%|██████████| 4/4 [00:00<00:00,  6.12it/s]\n",
            "100%|██████████| 4/4 [00:00<00:00,  5.85it/s]\n",
            "100%|██████████| 4/4 [00:00<00:00,  5.83it/s]\n",
            "100%|██████████| 4/4 [00:00<00:00,  6.48it/s]\n",
            "100%|██████████| 4/4 [00:00<00:00,  7.31it/s]\n",
            "100%|██████████| 4/4 [00:00<00:00,  6.03it/s]\n",
            "100%|██████████| 4/4 [00:00<00:00,  7.11it/s]\n",
            "100%|██████████| 4/4 [00:00<00:00,  6.41it/s]\n",
            "100%|██████████| 4/4 [00:00<00:00,  6.89it/s]\n",
            "100%|██████████| 4/4 [00:00<00:00,  5.95it/s]\n",
            "100%|██████████| 4/4 [00:00<00:00,  6.98it/s]\n",
            "100%|██████████| 4/4 [00:00<00:00,  6.36it/s]\n",
            "100%|██████████| 4/4 [00:00<00:00,  6.51it/s]\n",
            "100%|██████████| 4/4 [00:00<00:00,  6.27it/s]\n",
            "100%|██████████| 4/4 [00:00<00:00,  6.51it/s]\n",
            "100%|██████████| 4/4 [00:00<00:00,  6.49it/s]\n",
            "100%|██████████| 4/4 [00:00<00:00,  6.10it/s]\n",
            "100%|██████████| 4/4 [00:00<00:00,  6.05it/s]\n",
            "100%|██████████| 4/4 [00:00<00:00,  6.32it/s]\n",
            "100%|██████████| 4/4 [00:00<00:00,  6.64it/s]\n",
            "100%|██████████| 4/4 [00:00<00:00,  6.36it/s]\n",
            "100%|██████████| 4/4 [00:00<00:00,  6.42it/s]\n",
            "100%|██████████| 4/4 [00:00<00:00,  6.36it/s]\n"
          ]
        }
      ]
    },
    {
      "cell_type": "code",
      "source": [
        "path = \"/content/drive/My Drive/data/cv_results.pkl\"\n",
        "f = open(path, \"wb\")\n",
        "pickle.dump(cv_results, f)\n",
        "f.close()"
      ],
      "metadata": {
        "id": "wiNueFJK-oIj"
      },
      "execution_count": 19,
      "outputs": []
    },
    {
      "cell_type": "markdown",
      "metadata": {
        "id": "o-ulIQfZNOar"
      },
      "source": [
        "## Set up SVM Model"
      ]
    },
    {
      "cell_type": "markdown",
      "metadata": {
        "id": "hkhpSZBKKR14"
      },
      "source": [
        "#### SKlearn model"
      ]
    },
    {
      "cell_type": "code",
      "execution_count": 28,
      "metadata": {
        "id": "WrC0MKVTbHpp",
        "colab": {
          "base_uri": "https://localhost:8080/"
        },
        "outputId": "833e014b-c91a-4705-f4a2-ff1e0dcc9685"
      },
      "outputs": [
        {
          "output_type": "execute_result",
          "data": {
            "text/plain": [
              "{'10004_08693': {'model': GridSearchCV(estimator=SVC(),\n",
              "               param_grid={'C': [0.7, 1, 5, 10], 'kernel': ['linear', 'rbf'],\n",
              "                           'random_state': [111, 222]}),\n",
              "  'test_acc': 0.8333333333333334,\n",
              "  'val_acc': 0.7142857142857143},\n",
              " '10008_09924': {'model': GridSearchCV(estimator=SVC(),\n",
              "               param_grid={'C': [0.7, 1, 5, 10], 'kernel': ['linear', 'rbf'],\n",
              "                           'random_state': [111, 222]}),\n",
              "  'test_acc': 0.7380952380952381,\n",
              "  'val_acc': 0.6666666666666666},\n",
              " '10009_08848': {'model': GridSearchCV(estimator=SVC(),\n",
              "               param_grid={'C': [0.7, 1, 5, 10], 'kernel': ['linear', 'rbf'],\n",
              "                           'random_state': [111, 222]}),\n",
              "  'test_acc': 0.7380952380952381,\n",
              "  'val_acc': 0.8214285714285714},\n",
              " '10016_09694': {'model': GridSearchCV(estimator=SVC(),\n",
              "               param_grid={'C': [0.7, 1, 5, 10], 'kernel': ['linear', 'rbf'],\n",
              "                           'random_state': [111, 222]}),\n",
              "  'test_acc': 0.7857142857142857,\n",
              "  'val_acc': 0.8928571428571429},\n",
              " '10017_08894': {'model': GridSearchCV(estimator=SVC(),\n",
              "               param_grid={'C': [0.7, 1, 5, 10], 'kernel': ['linear', 'rbf'],\n",
              "                           'random_state': [111, 222]}),\n",
              "  'test_acc': 0.6547619047619048,\n",
              "  'val_acc': 0.5952380952380952},\n",
              " '10018_08907': {'model': GridSearchCV(estimator=SVC(),\n",
              "               param_grid={'C': [0.7, 1, 5, 10], 'kernel': ['linear', 'rbf'],\n",
              "                           'random_state': [111, 222]}),\n",
              "  'test_acc': 0.6547619047619048,\n",
              "  'val_acc': 0.5714285714285714},\n",
              " '10021_08839': {'model': GridSearchCV(estimator=SVC(),\n",
              "               param_grid={'C': [0.7, 1, 5, 10], 'kernel': ['linear', 'rbf'],\n",
              "                           'random_state': [111, 222]}),\n",
              "  'test_acc': 0.5833333333333334,\n",
              "  'val_acc': 0.8809523809523809},\n",
              " '10022_08854': {'model': GridSearchCV(estimator=SVC(),\n",
              "               param_grid={'C': [0.7, 1, 5, 10], 'kernel': ['linear', 'rbf'],\n",
              "                           'random_state': [111, 222]}),\n",
              "  'test_acc': 0.7142857142857143,\n",
              "  'val_acc': 0.8095238095238095},\n",
              " '10023_09126': {'model': GridSearchCV(estimator=SVC(),\n",
              "               param_grid={'C': [0.7, 1, 5, 10], 'kernel': ['linear', 'rbf'],\n",
              "                           'random_state': [111, 222]}),\n",
              "  'test_acc': 0.5952380952380952,\n",
              "  'val_acc': 0.6428571428571429},\n",
              " '10027_09455': {'model': GridSearchCV(estimator=SVC(),\n",
              "               param_grid={'C': [0.7, 1, 5, 10], 'kernel': ['linear', 'rbf'],\n",
              "                           'random_state': [111, 222]}),\n",
              "  'test_acc': 0.7380952380952381,\n",
              "  'val_acc': 0.6904761904761905},\n",
              " '10033_08871': {'model': GridSearchCV(estimator=SVC(),\n",
              "               param_grid={'C': [0.7, 1, 5, 10], 'kernel': ['linear', 'rbf'],\n",
              "                           'random_state': [111, 222]}),\n",
              "  'test_acc': 0.7619047619047619,\n",
              "  'val_acc': 0.7261904761904762},\n",
              " '10034_08879': {'model': GridSearchCV(estimator=SVC(),\n",
              "               param_grid={'C': [0.7, 1, 5, 10], 'kernel': ['linear', 'rbf'],\n",
              "                           'random_state': [111, 222]}),\n",
              "  'test_acc': 0.5595238095238095,\n",
              "  'val_acc': 0.6666666666666666},\n",
              " '10035_08847': {'model': GridSearchCV(estimator=SVC(),\n",
              "               param_grid={'C': [0.7, 1, 5, 10], 'kernel': ['linear', 'rbf'],\n",
              "                           'random_state': [111, 222]}),\n",
              "  'test_acc': 0.4642857142857143,\n",
              "  'val_acc': 0.6666666666666666},\n",
              " '10036_09800': {'model': GridSearchCV(estimator=SVC(),\n",
              "               param_grid={'C': [0.7, 1, 5, 10], 'kernel': ['linear', 'rbf'],\n",
              "                           'random_state': [111, 222]}),\n",
              "  'test_acc': 0.40476190476190477,\n",
              "  'val_acc': 0.4880952380952381},\n",
              " '10037_09903': {'model': GridSearchCV(estimator=SVC(),\n",
              "               param_grid={'C': [0.7, 1, 5, 10], 'kernel': ['linear', 'rbf'],\n",
              "                           'random_state': [111, 222]}),\n",
              "  'test_acc': 0.6785714285714286,\n",
              "  'val_acc': 0.6190476190476191},\n",
              " '10038_09063': {'model': GridSearchCV(estimator=SVC(),\n",
              "               param_grid={'C': [0.7, 1, 5, 10], 'kernel': ['linear', 'rbf'],\n",
              "                           'random_state': [111, 222]}),\n",
              "  'test_acc': 0.6666666666666666,\n",
              "  'val_acc': 0.6071428571428571},\n",
              " '10039_08941': {'model': GridSearchCV(estimator=SVC(),\n",
              "               param_grid={'C': [0.7, 1, 5, 10], 'kernel': ['linear', 'rbf'],\n",
              "                           'random_state': [111, 222]}),\n",
              "  'test_acc': 0.5833333333333334,\n",
              "  'val_acc': 0.6666666666666666},\n",
              " '10042_08990': {'model': GridSearchCV(estimator=SVC(),\n",
              "               param_grid={'C': [0.7, 1, 5, 10], 'kernel': ['linear', 'rbf'],\n",
              "                           'random_state': [111, 222]}),\n",
              "  'test_acc': 0.5357142857142857,\n",
              "  'val_acc': 0.47619047619047616},\n",
              " '10043_09222': {'model': GridSearchCV(estimator=SVC(),\n",
              "               param_grid={'C': [0.7, 1, 5, 10], 'kernel': ['linear', 'rbf'],\n",
              "                           'random_state': [111, 222]}),\n",
              "  'test_acc': 0.6666666666666666,\n",
              "  'val_acc': 0.8571428571428571},\n",
              " '10045_08968': {'model': GridSearchCV(estimator=SVC(),\n",
              "               param_grid={'C': [0.7, 1, 5, 10], 'kernel': ['linear', 'rbf'],\n",
              "                           'random_state': [111, 222]}),\n",
              "  'test_acc': 0.6666666666666666,\n",
              "  'val_acc': 0.7976190476190477},\n",
              " '10046_09216': {'model': GridSearchCV(estimator=SVC(),\n",
              "               param_grid={'C': [0.7, 1, 5, 10], 'kernel': ['linear', 'rbf'],\n",
              "                           'random_state': [111, 222]}),\n",
              "  'test_acc': 0.6666666666666666,\n",
              "  'val_acc': 0.7619047619047619},\n",
              " '10047_09030': {'model': GridSearchCV(estimator=SVC(),\n",
              "               param_grid={'C': [0.7, 1, 5, 10], 'kernel': ['linear', 'rbf'],\n",
              "                           'random_state': [111, 222]}),\n",
              "  'test_acc': 0.9642857142857143,\n",
              "  'val_acc': 0.8928571428571429},\n",
              " '10050_09079': {'model': GridSearchCV(estimator=SVC(),\n",
              "               param_grid={'C': [0.7, 1, 5, 10], 'kernel': ['linear', 'rbf'],\n",
              "                           'random_state': [111, 222]}),\n",
              "  'test_acc': 0.7261904761904762,\n",
              "  'val_acc': 0.8809523809523809},\n",
              " '10053_09018': {'model': GridSearchCV(estimator=SVC(),\n",
              "               param_grid={'C': [0.7, 1, 5, 10], 'kernel': ['linear', 'rbf'],\n",
              "                           'random_state': [111, 222]}),\n",
              "  'test_acc': 0.4880952380952381,\n",
              "  'val_acc': 0.75},\n",
              " '10056_09615': {'model': GridSearchCV(estimator=SVC(),\n",
              "               param_grid={'C': [0.7, 1, 5, 10], 'kernel': ['linear', 'rbf'],\n",
              "                           'random_state': [111, 222]}),\n",
              "  'test_acc': 0.34523809523809523,\n",
              "  'val_acc': 0.4880952380952381},\n",
              " '10057_10124': {'model': GridSearchCV(estimator=SVC(),\n",
              "               param_grid={'C': [0.7, 1, 5, 10], 'kernel': ['linear', 'rbf'],\n",
              "                           'random_state': [111, 222]}),\n",
              "  'test_acc': 0.47619047619047616,\n",
              "  'val_acc': 0.6547619047619048},\n",
              " '10060_09359': {'model': GridSearchCV(estimator=SVC(),\n",
              "               param_grid={'C': [0.7, 1, 5, 10], 'kernel': ['linear', 'rbf'],\n",
              "                           'random_state': [111, 222]}),\n",
              "  'test_acc': 0.5714285714285714,\n",
              "  'val_acc': 0.6666666666666666},\n",
              " '10061_09308': {'model': GridSearchCV(estimator=SVC(),\n",
              "               param_grid={'C': [0.7, 1, 5, 10], 'kernel': ['linear', 'rbf'],\n",
              "                           'random_state': [111, 222]}),\n",
              "  'test_acc': 0.5238095238095238,\n",
              "  'val_acc': 0.8809523809523809},\n",
              " '10065_09587': {'model': GridSearchCV(estimator=SVC(),\n",
              "               param_grid={'C': [0.7, 1, 5, 10], 'kernel': ['linear', 'rbf'],\n",
              "                           'random_state': [111, 222]}),\n",
              "  'test_acc': 0.5714285714285714,\n",
              "  'val_acc': 0.5833333333333334},\n",
              " '10066_09687': {'model': GridSearchCV(estimator=SVC(),\n",
              "               param_grid={'C': [0.7, 1, 5, 10], 'kernel': ['linear', 'rbf'],\n",
              "                           'random_state': [111, 222]}),\n",
              "  'test_acc': 0.7023809523809523,\n",
              "  'val_acc': 0.7619047619047619},\n",
              " '10069_09785': {'model': GridSearchCV(estimator=SVC(),\n",
              "               param_grid={'C': [0.7, 1, 5, 10], 'kernel': ['linear', 'rbf'],\n",
              "                           'random_state': [111, 222]}),\n",
              "  'test_acc': 0.8452380952380952,\n",
              "  'val_acc': 0.8452380952380952},\n",
              " '10080_09931': {'model': GridSearchCV(estimator=SVC(),\n",
              "               param_grid={'C': [0.7, 1, 5, 10], 'kernel': ['linear', 'rbf'],\n",
              "                           'random_state': [111, 222]}),\n",
              "  'test_acc': 0.5714285714285714,\n",
              "  'val_acc': 0.8571428571428571},\n",
              " '10084_10188': {'model': GridSearchCV(estimator=SVC(),\n",
              "               param_grid={'C': [0.7, 1, 5, 10], 'kernel': ['linear', 'rbf'],\n",
              "                           'random_state': [111, 222]}),\n",
              "  'test_acc': 0.5119047619047619,\n",
              "  'val_acc': 0.7380952380952381},\n",
              " '30004_08965': {'model': GridSearchCV(estimator=SVC(),\n",
              "               param_grid={'C': [0.7, 1, 5, 10], 'kernel': ['linear', 'rbf'],\n",
              "                           'random_state': [111, 222]}),\n",
              "  'test_acc': 0.7261904761904762,\n",
              "  'val_acc': 0.8452380952380952},\n",
              " '30008_08981': {'model': GridSearchCV(estimator=SVC(),\n",
              "               param_grid={'C': [0.7, 1, 5, 10], 'kernel': ['linear', 'rbf'],\n",
              "                           'random_state': [111, 222]}),\n",
              "  'test_acc': 0.6547619047619048,\n",
              "  'val_acc': 0.8690476190476191},\n",
              " '30009_09227': {'model': GridSearchCV(estimator=SVC(),\n",
              "               param_grid={'C': [0.7, 1, 5, 10], 'kernel': ['linear', 'rbf'],\n",
              "                           'random_state': [111, 222]}),\n",
              "  'test_acc': 0.7857142857142857,\n",
              "  'val_acc': 0.7976190476190477},\n",
              " '30011_09170': {'model': GridSearchCV(estimator=SVC(),\n",
              "               param_grid={'C': [0.7, 1, 5, 10], 'kernel': ['linear', 'rbf'],\n",
              "                           'random_state': [111, 222]}),\n",
              "  'test_acc': 0.8452380952380952,\n",
              "  'val_acc': 0.8095238095238095},\n",
              " '30012_09102': {'model': GridSearchCV(estimator=SVC(),\n",
              "               param_grid={'C': [0.7, 1, 5, 10], 'kernel': ['linear', 'rbf'],\n",
              "                           'random_state': [111, 222]}),\n",
              "  'test_acc': 0.47619047619047616,\n",
              "  'val_acc': 0.6428571428571429},\n",
              " '30014_09352': {'model': GridSearchCV(estimator=SVC(),\n",
              "               param_grid={'C': [0.7, 1, 5, 10], 'kernel': ['linear', 'rbf'],\n",
              "                           'random_state': [111, 222]}),\n",
              "  'test_acc': 0.44047619047619047,\n",
              "  'val_acc': 0.7142857142857143},\n",
              " '30017_09567': {'model': GridSearchCV(estimator=SVC(),\n",
              "               param_grid={'C': [0.7, 1, 5, 10], 'kernel': ['linear', 'rbf'],\n",
              "                           'random_state': [111, 222]}),\n",
              "  'test_acc': 0.7261904761904762,\n",
              "  'val_acc': 0.9523809523809523},\n",
              " '30020_09236': {'model': GridSearchCV(estimator=SVC(),\n",
              "               param_grid={'C': [0.7, 1, 5, 10], 'kernel': ['linear', 'rbf'],\n",
              "                           'random_state': [111, 222]}),\n",
              "  'test_acc': 0.6190476190476191,\n",
              "  'val_acc': 0.7142857142857143},\n",
              " '30024_09398': {'model': GridSearchCV(estimator=SVC(),\n",
              "               param_grid={'C': [0.7, 1, 5, 10], 'kernel': ['linear', 'rbf'],\n",
              "                           'random_state': [111, 222]}),\n",
              "  'test_acc': 0.8452380952380952,\n",
              "  'val_acc': 0.9404761904761905},\n",
              " '30025_09402': {'model': GridSearchCV(estimator=SVC(),\n",
              "               param_grid={'C': [0.7, 1, 5, 10], 'kernel': ['linear', 'rbf'],\n",
              "                           'random_state': [111, 222]}),\n",
              "  'test_acc': 0.5952380952380952,\n",
              "  'val_acc': 0.4642857142857143},\n",
              " '30026_09430': {'model': GridSearchCV(estimator=SVC(),\n",
              "               param_grid={'C': [0.7, 1, 5, 10], 'kernel': ['linear', 'rbf'],\n",
              "                           'random_state': [111, 222]}),\n",
              "  'test_acc': 0.6309523809523809,\n",
              "  'val_acc': 0.75},\n",
              " '30027_09638': {'model': GridSearchCV(estimator=SVC(),\n",
              "               param_grid={'C': [0.7, 1, 5, 10], 'kernel': ['linear', 'rbf'],\n",
              "                           'random_state': [111, 222]}),\n",
              "  'test_acc': 0.5238095238095238,\n",
              "  'val_acc': 0.7976190476190477},\n",
              " '30033_09776': {'model': GridSearchCV(estimator=SVC(),\n",
              "               param_grid={'C': [0.7, 1, 5, 10], 'kernel': ['linear', 'rbf'],\n",
              "                           'random_state': [111, 222]}),\n",
              "  'test_acc': 0.6428571428571429,\n",
              "  'val_acc': 0.7023809523809523},\n",
              " '30035_09836': {'model': GridSearchCV(estimator=SVC(),\n",
              "               param_grid={'C': [0.7, 1, 5, 10], 'kernel': ['linear', 'rbf'],\n",
              "                           'random_state': [111, 222]}),\n",
              "  'test_acc': 0.6904761904761905,\n",
              "  'val_acc': 0.8333333333333334},\n",
              " '30036_09758': {'model': GridSearchCV(estimator=SVC(),\n",
              "               param_grid={'C': [0.7, 1, 5, 10], 'kernel': ['linear', 'rbf'],\n",
              "                           'random_state': [111, 222]}),\n",
              "  'test_acc': 0.5,\n",
              "  'val_acc': 0.7023809523809523},\n",
              " '30038_09967': {'model': GridSearchCV(estimator=SVC(),\n",
              "               param_grid={'C': [0.7, 1, 5, 10], 'kernel': ['linear', 'rbf'],\n",
              "                           'random_state': [111, 222]}),\n",
              "  'test_acc': 0.9404761904761905,\n",
              "  'val_acc': 0.9047619047619048},\n",
              " '30044_10095': {'model': GridSearchCV(estimator=SVC(),\n",
              "               param_grid={'C': [0.7, 1, 5, 10], 'kernel': ['linear', 'rbf'],\n",
              "                           'random_state': [111, 222]}),\n",
              "  'test_acc': 0.8571428571428571,\n",
              "  'val_acc': 0.8928571428571429},\n",
              " '30045_10182': {'model': GridSearchCV(estimator=SVC(),\n",
              "               param_grid={'C': [0.7, 1, 5, 10], 'kernel': ['linear', 'rbf'],\n",
              "                           'random_state': [111, 222]}),\n",
              "  'test_acc': 0.7261904761904762,\n",
              "  'val_acc': 0.9285714285714286},\n",
              " '30053_10112': {'model': GridSearchCV(estimator=SVC(),\n",
              "               param_grid={'C': [0.7, 1, 5, 10], 'kernel': ['linear', 'rbf'],\n",
              "                           'random_state': [111, 222]}),\n",
              "  'test_acc': 0.6547619047619048,\n",
              "  'val_acc': 0.6547619047619048}}"
            ]
          },
          "metadata": {},
          "execution_count": 28
        }
      ],
      "source": [
        "cv_results"
      ]
    }
  ],
  "metadata": {
    "colab": {
      "collapsed_sections": [],
      "machine_shape": "hm",
      "name": "SingleSubjectSVM.ipynb",
      "provenance": [],
      "include_colab_link": true
    },
    "kernelspec": {
      "display_name": "Python 3",
      "name": "python3"
    },
    "language_info": {
      "name": "python"
    }
  },
  "nbformat": 4,
  "nbformat_minor": 0
}