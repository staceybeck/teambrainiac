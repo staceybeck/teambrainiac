{
 "cells": [
  {
   "cell_type": "markdown",
   "id": "6f5324ae",
   "metadata": {},
   "source": [
    "## Visualize MRI Brain Slices\n",
    "\n"
   ]
  },
  {
   "cell_type": "code",
   "execution_count": 10,
   "id": "052e071d",
   "metadata": {},
   "outputs": [],
   "source": [
    "import numpy as np\n",
    "from ipywidgets import interact, interactive, IntSlider, ToggleButtons\n",
    "import matplotlib.pyplot as plt\n",
    "%matplotlib inline\n"
   ]
  },
  {
   "cell_type": "code",
   "execution_count": 4,
   "id": "238adc72",
   "metadata": {},
   "outputs": [
    {
     "data": {
      "text/plain": [
       "(64, 64, 30, 180)"
      ]
     },
     "execution_count": 4,
     "metadata": {},
     "output_type": "execute_result"
    }
   ],
   "source": [
    "#Load in numpy data\n",
    "\n",
    "img_4d = np.load('img_4d.npy')\n",
    "img_4d.shape"
   ]
  },
  {
   "cell_type": "code",
   "execution_count": 11,
   "id": "413321e3",
   "metadata": {},
   "outputs": [
    {
     "name": "stdout",
     "output_type": "stream",
     "text": [
      "plotting layer 1 at time point 50 of Image\n"
     ]
    },
    {
     "data": {
      "text/plain": [
       "(-0.5, 63.5, 63.5, -0.5)"
      ]
     },
     "execution_count": 11,
     "metadata": {},
     "output_type": "execute_result"
    },
    {
     "data": {
      "image/png": "[encoded data removed]",
      "text/plain": [
       "<Figure size 432x288 with 1 Axes>"
      ]
     },
     "metadata": {
      "needs_background": "light"
     },
     "output_type": "display_data"
    }
   ],
   "source": [
    "# Visualize a layer of the image\n",
    "\n",
    "maxval = 29\n",
    "\n",
    "i = np.random.randint(0, maxval)\n",
    "\n",
    "time_point = 50\n",
    "print(f\"plotting layer {i} at time point {time_point} of Image\")\n",
    "plt.imshow(img_4d[:,:,i, time_point], cmap = 'gray')\n",
    "plt.axis('off')"
   ]
  },
  {
   "cell_type": "code",
   "execution_count": 12,
   "id": "0d5f8e2b",
   "metadata": {},
   "outputs": [
    {
     "data": {
      "application/vnd.jupyter.widget-view+json": {
       "model_id": "905f0a1736ab406495e3258f79a428e6",
       "version_major": 2,
       "version_minor": 0
      },
      "text/plain": [
       "interactive(children=(IntSlider(value=14, description='layer', max=29), Output()), _dom_classes=('widget-inter…"
      ]
     },
     "metadata": {},
     "output_type": "display_data"
    },
    {
     "data": {
      "text/plain": [
       "<function __main__.explore_4d_img(layer)>"
      ]
     },
     "execution_count": 12,
     "metadata": {},
     "output_type": "execute_result"
    }
   ],
   "source": [
    "def explore_4d_img(layer):\n",
    "    plt.figure(figsize = (10, 5))\n",
    "    plt.imshow(img_4d[:, :, layer, 179], cmap = 'gray')\n",
    "    plt.title(\"Layers of the brain\")\n",
    "    plt.axis('off')\n",
    "    return layer\n",
    "\n",
    "interact(explore_4d_img, layer = (0, img_4d.shape[2] - 1))"
   ]
  },
  {
   "cell_type": "markdown",
   "id": "03867cad",
   "metadata": {},
   "source": [
    "### Visualize voxel distributions"
   ]
  },
  {
   "cell_type": "markdown",
   "id": "d08bde90",
   "metadata": {},
   "source": [
    "### Explore Data labels\n",
    "- check balance of classes\n"
   ]
  },
  {
   "cell_type": "code",
   "execution_count": null,
   "id": "4df9df20",
   "metadata": {},
   "outputs": [],
   "source": []
  }
 ],
 "metadata": {
  "kernelspec": {
   "display_name": "Python 3 (ipykernel)",
   "language": "python",
   "name": "python3"
  },
  "language_info": {
   "codemirror_mode": {
    "name": "ipython",
    "version": 3
   },
   "file_extension": ".py",
   "mimetype": "text/x-python",
   "name": "python",
   "nbconvert_exporter": "python",
   "pygments_lexer": "ipython3",
   "version": "3.7.3"
  },
  "pycharm": {
   "stem_cell": {
    "cell_type": "raw",
    "source": [],
    "metadata": {
     "collapsed": false
    }
   }
  }
 },
 "nbformat": 4,
 "nbformat_minor": 5
}