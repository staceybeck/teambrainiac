{
  "nbformat": 4,
  "nbformat_minor": 0,
  "metadata": {
    "colab": {
      "name": "SVM_Group_Whole_Brain.ipynb",
      "provenance": [],
      "collapsed_sections": [],
      "machine_shape": "hm",
      "authorship_tag": "ABX9TyMSVs+C/XSp5ojJr0zohmDQ",
      "include_colab_link": true
    },
    "kernelspec": {
      "name": "python3",
      "display_name": "Python 3"
    },
    "language_info": {
      "name": "python"
    }
  },
  "cells": [
    {
      "cell_type": "markdown",
      "metadata": {
        "id": "view-in-github",
        "colab_type": "text"
      },
      "source": [
        "<a href=\"https://colab.research.google.com/github/yecatstevir/teambrainiac/blob/main/source/SVM_Group_Whole_Brain.ipynb\" target=\"_parent\"><img src=\"https://colab.research.google.com/assets/colab-badge.svg\" alt=\"Open In Colab\"/></a>"
      ]
    },
    {
      "cell_type": "markdown",
      "source": [
        "# Group Whole Brain Support Vector Machine Training\n",
        "- Go to 'Runtime' in Colab browser bar, select 'Change Runtime Type', select 'High-RAM' from 'Runtime Shape'. \n",
        "- load local pickle file containing all masked, normalized Whole Brain subject data in numpy matrix format\n",
        "- SVM training per group (subject ids of '100XX-XXXXX' for child and '300XX-XXXXX' for Youth)"
      ],
      "metadata": {
        "id": "f_wDm122NTXY"
      }
    },
    {
      "cell_type": "markdown",
      "source": [
        "### Mount Google Drive and clone repository\n",
        "- open to source directory"
      ],
      "metadata": {
        "id": "c284FIeHNcR2"
      }
    },
    {
      "cell_type": "code",
      "execution_count": 1,
      "metadata": {
        "id": "mIfcjimGzIZo",
        "colab": {
          "base_uri": "https://localhost:8080/"
        },
        "outputId": "35966607-bcba-4eac-c986-8ca55e954bd9"
      },
      "outputs": [
        {
          "output_type": "stream",
          "name": "stdout",
          "text": [
            "Mounted at /content/gdrive\n"
          ]
        }
      ],
      "source": [
        "from google.colab import drive\n",
        "drive.mount('/content/gdrive')#, force_remount = True)"
      ]
    },
    {
      "cell_type": "code",
      "source": [
        "# Clone the entire repo.\n",
        "!git clone -l -s https://github.com/yecatstevir/teambrainiac.git\n",
        "# Change directory into cloned repo\n",
        "%cd teambrainiac/source\n",
        "!ls\n"
      ],
      "metadata": {
        "id": "lh0DqCU10r3n",
        "outputId": "3ea37762-b010-4f4a-c42e-318edfec558c",
        "colab": {
          "base_uri": "https://localhost:8080/"
        }
      },
      "execution_count": 2,
      "outputs": [
        {
          "output_type": "stream",
          "name": "stdout",
          "text": [
            "Cloning into 'teambrainiac'...\n",
            "warning: --local is ignored\n",
            "remote: Enumerating objects: 356, done.\u001b[K\n",
            "remote: Counting objects: 100% (356/356), done.\u001b[K\n",
            "remote: Compressing objects: 100% (212/212), done.\u001b[K\n",
            "remote: Total 356 (delta 211), reused 262 (delta 130), pack-reused 0\u001b[K\n",
            "Receiving objects: 100% (356/356), 57.15 MiB | 47.46 MiB/s, done.\n",
            "Resolving deltas: 100% (211/211), done.\n",
            "/content/teambrainiac/source\n",
            "Access_Load_Data.ipynb\t\t  percent_signal_change.ipynb\n",
            "All_subject_masked_labeled.ipynb  SVM_Group_Whole_Brain.ipynb\n",
            "data\t\t\t\t  SVM.ipynb\n",
            "__init__.py\t\t\t  SVM_Whole_Brain.ipynb\n",
            "Masking.ipynb\t\t\t  utils.py\n",
            "Mat_to_Numpy.ipynb\t\t  Visualize_Data.ipynb\n",
            "models\n"
          ]
        }
      ]
    },
    {
      "cell_type": "markdown",
      "source": [
        "### Load path_config.py \n",
        "- we are already in source so we can just load this file without chanding directory"
      ],
      "metadata": {
        "id": "zadD_dOPPjQm"
      }
    },
    {
      "cell_type": "code",
      "source": [
        "from google.colab import files\n",
        "\n",
        "uploaded = files.upload()\n",
        "\n",
        "for fn in uploaded.keys():\n",
        "  print('User uploaded file \"{name}\" with length {length} bytes'.format(\n",
        "      name=fn, length=len(uploaded[fn])))"
      ],
      "metadata": {
        "colab": {
          "resources": {
            "http://localhost:8080/nbextensions/google.colab/files.js": {
              "data": "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",
              "ok": true,
              "headers": [
                [
                  "content-type",
                  "application/javascript"
                ]
              ],
              "status": 200,
              "status_text": ""
            }
          },
          "base_uri": "https://localhost:8080/",
          "height": 90
        },
        "id": "u_2qZqNJPLkn",
        "outputId": "b453955a-08a1-4fe4-9a28-8367f6469743"
      },
      "execution_count": 3,
      "outputs": [
        {
          "output_type": "display_data",
          "data": {
            "text/plain": [
              "<IPython.core.display.HTML object>"
            ],
            "text/html": [
              "\n",
              "     <input type=\"file\" id=\"files-c7e2626b-5c59-460f-9823-10b520828d52\" name=\"files[]\" multiple disabled\n",
              "        style=\"border:none\" />\n",
              "     <output id=\"result-c7e2626b-5c59-460f-9823-10b520828d52\">\n",
              "      Upload widget is only available when the cell has been executed in the\n",
              "      current browser session. Please rerun this cell to enable.\n",
              "      </output>\n",
              "      <script src=\"/nbextensions/google.colab/files.js\"></script> "
            ]
          },
          "metadata": {}
        },
        {
          "output_type": "stream",
          "name": "stdout",
          "text": [
            "Saving path_config.py to path_config.py\n",
            "User uploaded file \"path_config.py\" with length 228 bytes\n"
          ]
        }
      ]
    },
    {
      "cell_type": "markdown",
      "source": [
        "### Load the Whole brain normalized masked all subject 2d pickle file \n"
      ],
      "metadata": {
        "id": "8cxzhagpPuBk"
      }
    },
    {
      "cell_type": "code",
      "source": [
        "!ls"
      ],
      "metadata": {
        "colab": {
          "base_uri": "https://localhost:8080/"
        },
        "id": "xkpIEgroQTZX",
        "outputId": "6adb6da7-49f4-4aaa-cd69-93f5e0b553db"
      },
      "execution_count": null,
      "outputs": [
        {
          "output_type": "stream",
          "name": "stdout",
          "text": [
            "Access_Load_Data.ipynb\t\t  path_config.py\n",
            "All_subject_masked_labeled.ipynb  percent_signal_change.ipynb\n",
            "data\t\t\t\t  SVM.ipynb\n",
            "__init__.py\t\t\t  SVM_Whole_Brain.ipynb\n",
            "Masking.ipynb\t\t\t  utils.py\n",
            "Mat_to_Numpy.ipynb\t\t  Visualize_Data.ipynb\n"
          ]
        }
      ]
    },
    {
      "cell_type": "markdown",
      "source": [
        "#### Import libraries\n"
      ],
      "metadata": {
        "id": "_cmYZ22BNj8h"
      }
    },
    {
      "cell_type": "code",
      "source": [
        "# Import libraries\n",
        "!pip install boto3 nilearn\n",
        "import pickle\n",
        "from utils import *\n",
        "from sklearn.svm import SVC\n",
        "import numpy as np\n",
        "import random\n",
        "import cv2 as cv"
      ],
      "metadata": {
        "id": "abHr7oUl06ED",
        "colab": {
          "base_uri": "https://localhost:8080/"
        },
        "outputId": "43f9e915-3dfb-4ea9-ab89-38eb15d64a4a"
      },
      "execution_count": 4,
      "outputs": [
        {
          "output_type": "stream",
          "name": "stdout",
          "text": [
            "Collecting boto3\n",
            "  Downloading boto3-1.21.23-py3-none-any.whl (132 kB)\n",
            "\u001b[?25l\r\u001b[K     |██▌                             | 10 kB 31.6 MB/s eta 0:00:01\r\u001b[K     |█████                           | 20 kB 33.5 MB/s eta 0:00:01\r\u001b[K     |███████▍                        | 30 kB 39.4 MB/s eta 0:00:01\r\u001b[K     |██████████                      | 40 kB 26.2 MB/s eta 0:00:01\r\u001b[K     |████████████▍                   | 51 kB 20.5 MB/s eta 0:00:01\r\u001b[K     |██████████████▉                 | 61 kB 23.3 MB/s eta 0:00:01\r\u001b[K     |█████████████████▍              | 71 kB 23.4 MB/s eta 0:00:01\r\u001b[K     |███████████████████▉            | 81 kB 24.9 MB/s eta 0:00:01\r\u001b[K     |██████████████████████▎         | 92 kB 27.0 MB/s eta 0:00:01\r\u001b[K     |████████████████████████▊       | 102 kB 25.9 MB/s eta 0:00:01\r\u001b[K     |███████████████████████████▎    | 112 kB 25.9 MB/s eta 0:00:01\r\u001b[K     |█████████████████████████████▊  | 122 kB 25.9 MB/s eta 0:00:01\r\u001b[K     |████████████████████████████████| 132 kB 25.9 MB/s \n",
            "\u001b[?25hCollecting nilearn\n",
            "  Downloading nilearn-0.9.0-py3-none-any.whl (10.1 MB)\n",
            "\u001b[K     |████████████████████████████████| 10.1 MB 23.3 MB/s \n",
            "\u001b[?25hCollecting botocore<1.25.0,>=1.24.23\n",
            "  Downloading botocore-1.24.23-py3-none-any.whl (8.6 MB)\n",
            "\u001b[K     |████████████████████████████████| 8.6 MB 60.5 MB/s \n",
            "\u001b[?25hCollecting jmespath<2.0.0,>=0.7.1\n",
            "  Downloading jmespath-1.0.0-py3-none-any.whl (23 kB)\n",
            "Collecting s3transfer<0.6.0,>=0.5.0\n",
            "  Downloading s3transfer-0.5.2-py3-none-any.whl (79 kB)\n",
            "\u001b[K     |████████████████████████████████| 79 kB 7.7 MB/s \n",
            "\u001b[?25hRequirement already satisfied: python-dateutil<3.0.0,>=2.1 in /usr/local/lib/python3.7/dist-packages (from botocore<1.25.0,>=1.24.23->boto3) (2.8.2)\n",
            "Collecting urllib3<1.27,>=1.25.4\n",
            "  Downloading urllib3-1.26.9-py2.py3-none-any.whl (138 kB)\n",
            "\u001b[K     |████████████████████████████████| 138 kB 78.6 MB/s \n",
            "\u001b[?25hRequirement already satisfied: six>=1.5 in /usr/local/lib/python3.7/dist-packages (from python-dateutil<3.0.0,>=2.1->botocore<1.25.0,>=1.24.23->boto3) (1.15.0)\n",
            "Requirement already satisfied: requests>=2 in /usr/local/lib/python3.7/dist-packages (from nilearn) (2.23.0)\n",
            "Requirement already satisfied: numpy>=1.16 in /usr/local/lib/python3.7/dist-packages (from nilearn) (1.21.5)\n",
            "Requirement already satisfied: scikit-learn>=0.21 in /usr/local/lib/python3.7/dist-packages (from nilearn) (1.0.2)\n",
            "Requirement already satisfied: scipy>=1.2 in /usr/local/lib/python3.7/dist-packages (from nilearn) (1.4.1)\n",
            "Requirement already satisfied: nibabel>=2.5 in /usr/local/lib/python3.7/dist-packages (from nilearn) (3.0.2)\n",
            "Requirement already satisfied: pandas>=0.24.0 in /usr/local/lib/python3.7/dist-packages (from nilearn) (1.3.5)\n",
            "Requirement already satisfied: joblib>=0.12 in /usr/local/lib/python3.7/dist-packages (from nilearn) (1.1.0)\n",
            "Requirement already satisfied: pytz>=2017.3 in /usr/local/lib/python3.7/dist-packages (from pandas>=0.24.0->nilearn) (2018.9)\n",
            "  Downloading urllib3-1.25.11-py2.py3-none-any.whl (127 kB)\n",
            "\u001b[K     |████████████████████████████████| 127 kB 74.7 MB/s \n",
            "\u001b[?25hRequirement already satisfied: idna<3,>=2.5 in /usr/local/lib/python3.7/dist-packages (from requests>=2->nilearn) (2.10)\n",
            "Requirement already satisfied: chardet<4,>=3.0.2 in /usr/local/lib/python3.7/dist-packages (from requests>=2->nilearn) (3.0.4)\n",
            "Requirement already satisfied: certifi>=2017.4.17 in /usr/local/lib/python3.7/dist-packages (from requests>=2->nilearn) (2021.10.8)\n",
            "Requirement already satisfied: threadpoolctl>=2.0.0 in /usr/local/lib/python3.7/dist-packages (from scikit-learn>=0.21->nilearn) (3.1.0)\n",
            "Installing collected packages: urllib3, jmespath, botocore, s3transfer, nilearn, boto3\n",
            "  Attempting uninstall: urllib3\n",
            "    Found existing installation: urllib3 1.24.3\n",
            "    Uninstalling urllib3-1.24.3:\n",
            "      Successfully uninstalled urllib3-1.24.3\n",
            "\u001b[31mERROR: pip's dependency resolver does not currently take into account all the packages that are installed. This behaviour is the source of the following dependency conflicts.\n",
            "datascience 0.10.6 requires folium==0.2.1, but you have folium 0.8.3 which is incompatible.\u001b[0m\n",
            "Successfully installed boto3-1.21.23 botocore-1.24.23 jmespath-1.0.0 nilearn-0.9.0 s3transfer-0.5.2 urllib3-1.25.11\n"
          ]
        }
      ]
    },
    {
      "cell_type": "markdown",
      "source": [
        "### Load Data from AWS and create Train/Val/Test splits"
      ],
      "metadata": {
        "id": "fZVh3WQeMk1c"
      }
    },
    {
      "cell_type": "code",
      "source": [
        "%%time\n",
        "pkl_file = \"whole_brain_all_norm_2d.pkl\" # normalized\n",
        "#pkl_file = 'all_data_dictionary.pkl' #Unnormalized\n",
        "bool_mat = False\n",
        "data = access_load_data(pkl_file, bool_mat)"
      ],
      "metadata": {
        "id": "o7bAfdj7K7Md",
        "outputId": "86840616-7aae-40cc-d2db-e577d5a50015",
        "colab": {
          "base_uri": "https://localhost:8080/"
        }
      },
      "execution_count": 5,
      "outputs": [
        {
          "output_type": "stream",
          "name": "stdout",
          "text": [
            "CPU times: user 1min 2s, sys: 1min 15s, total: 2min 17s\n",
            "Wall time: 2min 4s\n"
          ]
        }
      ]
    },
    {
      "cell_type": "code",
      "source": [
        " #open path dictionary file to get subject ids\n",
        "path = \"data/data_path_dictionary.pkl\"\n",
        "data_path_dict = open_pickle(path)\n",
        "subject_ids = data_path_dict['subject_ID']\n",
        "\n"
      ],
      "metadata": {
        "id": "L70QYcxnM3q8"
      },
      "execution_count": 6,
      "outputs": []
    },
    {
      "cell_type": "code",
      "source": [
        "# Split dataset into young children and older children/young adults\n",
        "child = subject_ids[:33]\n",
        "teen_plus = subject_ids[33:]\n",
        "print(\"Number of subjects for child and teens\", len(child), len(teen_plus))"
      ],
      "metadata": {
        "colab": {
          "base_uri": "https://localhost:8080/"
        },
        "id": "7cJeU3D9ohxJ",
        "outputId": "9cadf256-bf84-4918-d16f-3307fe770ad9"
      },
      "execution_count": 7,
      "outputs": [
        {
          "output_type": "stream",
          "name": "stdout",
          "text": [
            "Number of subjects for child and teens 33 19\n"
          ]
        }
      ]
    },
    {
      "cell_type": "markdown",
      "source": [
        "#### Get Child data Train, Test, Split"
      ],
      "metadata": {
        "id": "FD62qSxMqxjR"
      }
    },
    {
      "cell_type": "code",
      "source": [
        "# get train, test val data\n",
        "c_train_ids = child[:23]\n",
        "c_val_ids = child[23:28]\n",
        "c_test_ids = child[28:34]\n",
        "\n",
        "print(\"Number of child training examples: \", len(c_train_ids))\n",
        "print(\"Number of child validation examples: \", len(c_val_ids))\n",
        "print(\"Number of child testing examples: \", len(c_test_ids))\n",
        "len(child)"
      ],
      "metadata": {
        "colab": {
          "base_uri": "https://localhost:8080/"
        },
        "id": "Gc4Z82sJM35a",
        "outputId": "71b8803f-4d2e-470c-8257-4ed33ee315e2"
      },
      "execution_count": 8,
      "outputs": [
        {
          "output_type": "stream",
          "name": "stdout",
          "text": [
            "Number of child training examples:  23\n",
            "Number of child validation examples:  5\n",
            "Number of child testing examples:  5\n"
          ]
        },
        {
          "output_type": "execute_result",
          "data": {
            "text/plain": [
              "33"
            ]
          },
          "metadata": {},
          "execution_count": 8
        }
      ]
    },
    {
      "cell_type": "code",
      "source": [
        "# Get train test val data \n",
        "X_trainc = []\n",
        "y_trainc = []\n",
        "\n",
        "X_valc = []\n",
        "y_valc = []\n",
        "\n",
        "X_testc = []\n",
        "y_testc = []\n",
        "\n",
        "run = 1 # Get data from run #2\n",
        "\n",
        "# Get X data from dictionary\n",
        "for id_ in c_train_ids:\n",
        "  X_trainc.append(data[id_][run])\n",
        "        \n",
        "        \n",
        "# Get y label from dictioanry\n",
        "for id_ in c_train_ids:\n",
        "  y_trainc.append(data[f\"{id_}_rt_labels\"][run])\n",
        "        \n",
        "\n",
        "\n",
        "# Get X data from dictionary\n",
        "for id_ in c_val_ids:\n",
        "  X_valc.append(data[id_][run])\n",
        " \n",
        "\n",
        "# Get y label from dictioanry\n",
        "for id_ in c_val_ids:\n",
        "  y_valc.append(data[f\"{id_}_rt_labels\"][run])\n",
        "        \n",
        "    \n",
        "\n",
        "# Get X data from dictionary\n",
        "for id_ in c_test_ids:\n",
        "  X_testc.append(data[id_][run])\n",
        "        \n",
        "        \n",
        "# Get y label from dictioanry\n",
        "for id_ in c_test_ids:\n",
        "  y_testc.append(data[f\"{id_}_rt_labels\"][run])"
      ],
      "metadata": {
        "id": "2IWKTcurrsRw"
      },
      "execution_count": 9,
      "outputs": []
    },
    {
      "cell_type": "code",
      "source": [
        "# 1 run * 33 * 84 = 2772 total time points\n",
        "print(f\"length of Child Xtrain data: {len(X_trainc)} and length of ytrain data: {len(y_trainc)}\")\n",
        "print(f\"length of Child Xval data: {len(X_valc)} and length of yval data: {len(y_valc)}\")\n",
        "print(f\"length of Child Xtest data: {len(X_testc)} and length of ytest data: {len(y_testc)}\")\n",
        "#print(f\"length of X data: {len(X)} and length of y data: {len(y)}\")"
      ],
      "metadata": {
        "colab": {
          "base_uri": "https://localhost:8080/"
        },
        "id": "7dSow2bAtyPV",
        "outputId": "1fce2caa-20d6-4413-f223-be7dfe072c38"
      },
      "execution_count": 10,
      "outputs": [
        {
          "output_type": "stream",
          "name": "stdout",
          "text": [
            "length of Child Xtrain data: 23 and length of ytrain data: 23\n",
            "length of Child Xval data: 5 and length of yval data: 5\n",
            "length of Child Xtest data: 5 and length of ytest data: 5\n"
          ]
        }
      ]
    },
    {
      "cell_type": "code",
      "source": [
        "%%time\n",
        "X_trainc = np.array(X_trainc)\n",
        "y_trainc = np.array(y_trainc)\n",
        "print( \"Child Xtrain data shape \", X_trainc.shape)\n",
        "print( \"Child ytrain data shape \", y_trainc.shape)\n",
        "\n",
        "X_valc = np.array(X_valc)\n",
        "y_valc = np.array(y_valc)\n",
        "print( \"Child Xval data shape \", X_valc.shape)\n",
        "print( \"Child yval data shape \", y_valc.shape)\n",
        "\n",
        "X_testc = np.array(X_testc)\n",
        "y_testc = np.array(y_testc)\n",
        "print( \"Child Xtest data shape \", X_testc.shape)\n",
        "print( \"Child ytest data shape \", y_testc.shape)"
      ],
      "metadata": {
        "colab": {
          "base_uri": "https://localhost:8080/"
        },
        "id": "Zg17tzStuxGc",
        "outputId": "de13655d-2b18-4ee9-e3aa-6aac30794a73"
      },
      "execution_count": 11,
      "outputs": [
        {
          "output_type": "stream",
          "name": "stdout",
          "text": [
            "Child Xtrain data shape  (23, 84, 237979)\n",
            "Child ytrain data shape  (23, 84)\n",
            "Child Xval data shape  (5, 84, 237979)\n",
            "Child yval data shape  (5, 84)\n",
            "Child Xtest data shape  (5, 84, 237979)\n",
            "Child ytest data shape  (5, 84)\n",
            "CPU times: user 785 ms, sys: 708 ms, total: 1.49 s\n",
            "Wall time: 1.48 s\n"
          ]
        }
      ]
    },
    {
      "cell_type": "code",
      "source": [
        "%%time\n",
        "X_trainc = np.concatenate(X_trainc)\n",
        "y_trainc = np.concatenate(y_trainc)\n",
        "print( \"Child Xtrain data shape after concantenation \", X_trainc.shape)\n",
        "print( \"Child ytrain data shape after concantenation \", y_trainc.shape)\n",
        "\n",
        "X_valc = np.concatenate(X_valc)\n",
        "y_valc = np.concatenate(y_valc)\n",
        "print( \"Child Xval data shape after concantenation \", X_valc.shape)\n",
        "print( \"Child yval data shape after concantenation \", y_valc.shape)\n",
        "\n",
        "X_testc = np.concatenate(X_testc)\n",
        "y_testc = np.concatenate(y_testc)\n",
        "print( \"Child Xtest data shape after concantenation \", X_testc.shape)\n",
        "print( \"Child ytest data shape after concantenation \", y_testc.shape)"
      ],
      "metadata": {
        "colab": {
          "base_uri": "https://localhost:8080/"
        },
        "id": "cRcALvff4k3N",
        "outputId": "073c414d-1a15-4ac4-b60a-3fd64e4e2969"
      },
      "execution_count": 12,
      "outputs": [
        {
          "output_type": "stream",
          "name": "stdout",
          "text": [
            "Child Xtrain data shape after concantenation  (1932, 237979)\n",
            "Child ytrain data shape after concantenation  (1932,)\n",
            "Child Xval data shape after concantenation  (420, 237979)\n",
            "Child yval data shape after concantenation  (420,)\n",
            "Child Xtest data shape after concantenation  (420, 237979)\n",
            "Child ytest data shape after concantenation  (420,)\n",
            "CPU times: user 551 ms, sys: 442 ms, total: 993 ms\n",
            "Wall time: 983 ms\n"
          ]
        }
      ]
    },
    {
      "cell_type": "markdown",
      "source": [
        "#### Get Teen+ data Train, Test, Split"
      ],
      "metadata": {
        "id": "HDeiQf1CreBs"
      }
    },
    {
      "cell_type": "code",
      "source": [
        "# get train, test val data\n",
        "y_train_ids = teen_plus[:13]\n",
        "y_val_ids = teen_plus[13:16]\n",
        "y_test_ids = teen_plus[16:20]\n",
        "\n",
        "print(\"Number of Youth training examples: \", len(y_train_ids))\n",
        "print(\"Number of Youth validation examples: \", len(y_val_ids))\n",
        "print(\"Number of Youth testing examples: \", len(y_test_ids))\n",
        "len(teen_plus)"
      ],
      "metadata": {
        "colab": {
          "base_uri": "https://localhost:8080/"
        },
        "id": "CQKdz4krq2jd",
        "outputId": "8171b299-709a-4777-d72a-ef9badbc08d9"
      },
      "execution_count": 40,
      "outputs": [
        {
          "output_type": "stream",
          "name": "stdout",
          "text": [
            "Number of Youth training examples:  13\n",
            "Number of Youth validation examples:  3\n",
            "Number of Youth testing examples:  3\n"
          ]
        },
        {
          "output_type": "execute_result",
          "data": {
            "text/plain": [
              "19"
            ]
          },
          "metadata": {},
          "execution_count": 40
        }
      ]
    },
    {
      "cell_type": "code",
      "source": [
        "# Get train test val data \n",
        "X_trainy = []\n",
        "y_trainy = []\n",
        "\n",
        "X_valy = []\n",
        "y_valy = []\n",
        "\n",
        "X_testy = []\n",
        "y_testy = []\n",
        "\n",
        "run = 1 # get run #2\n",
        "\n",
        "# Get X data from dictionary\n",
        "for id_ in y_train_ids:\n",
        "    for matrix in data[id_][run]:\n",
        "        #print(matrix)\n",
        "        X_trainy.append(matrix)\n",
        "        \n",
        "        \n",
        "# Get y label from dictioanry\n",
        "for id_ in y_train_ids:\n",
        "    for label in data[f\"{id_}_rt_labels\"][run]:\n",
        "        #print(matrix)\n",
        "        y_trainy.append(label)\n",
        "        \n",
        "\n",
        "\n",
        "# Get X data from dictionary\n",
        "for id_ in y_val_ids:\n",
        "    for matrix in data[id_][run]:\n",
        "        #print(matrix)\n",
        "        X_valy.append(matrix)\n",
        "        \n",
        "        \n",
        "# Get y label from dictioanry\n",
        "for id_ in y_val_ids:\n",
        "    for label in data[f\"{id_}_rt_labels\"][run]:\n",
        "        #print(matrix)\n",
        "        y_valy.append(label)\n",
        "        \n",
        "    \n",
        "\n",
        "# Get X data from dictionary\n",
        "for id_ in y_test_ids:\n",
        "    for matrix in data[id_][run]:\n",
        "        #print(matrix)\n",
        "        X_testy.append(matrix)\n",
        "        \n",
        "        \n",
        "# Get y label from dictioanry\n",
        "for id_ in y_test_ids:\n",
        "    for label in data[f\"{id_}_rt_labels\"][run]:\n",
        "        #print(matrix)\n",
        "        y_testy.append(label)\n",
        "        \n",
        "      "
      ],
      "metadata": {
        "id": "XymCaXpZM4CZ"
      },
      "execution_count": 41,
      "outputs": []
    },
    {
      "cell_type": "code",
      "source": [
        "# 1 * 19 * 84 = 1596 time points total\n",
        "print(f\"length of Youth Xtrain data: {len(X_trainy)} and length of ytrain data: {len(y_trainy)}\")\n",
        "print(f\"length of Youth Xval data: {len(X_valy)} and length of yval data: {len(y_valy)}\")\n",
        "print(f\"length of Youth Xtest data: {len(X_testy)} and length of ytest data: {len(y_testy)}\")\n",
        "#print(f\"length of X data: {len(X)} and length of y data: {len(y)}\")"
      ],
      "metadata": {
        "colab": {
          "base_uri": "https://localhost:8080/"
        },
        "id": "bu_QeXF2M4KV",
        "outputId": "ae98fe59-27ef-43dd-aa3e-9e3c5cc688a0"
      },
      "execution_count": 42,
      "outputs": [
        {
          "output_type": "stream",
          "name": "stdout",
          "text": [
            "length of Youth Xtrain data: 1092 and length of ytrain data: 1092\n",
            "length of Youth Xval data: 252 and length of yval data: 252\n",
            "length of Youth Xtest data: 252 and length of ytest data: 252\n"
          ]
        }
      ]
    },
    {
      "cell_type": "code",
      "source": [
        "%%time\n",
        "X_trainy = np.array(X_trainy)\n",
        "y_trainy = np.array(y_trainy)\n",
        "print( \"Youth Xtrain data shape \", X_trainy.shape)\n",
        "print( \"Youth ytrain data shape \", y_trainy.shape)\n",
        "\n",
        "X_valy = np.array(X_valy)\n",
        "y_valy = np.array(y_valy)\n",
        "print( \"Youth Xval data shape \", X_valy.shape)\n",
        "print( \"Youth yval data shape \", y_valy.shape)\n",
        "\n",
        "X_testy = np.array(X_testy)\n",
        "y_testy = np.array(y_testy)\n",
        "print( \"Youth Xtest data shape \", X_testy.shape)\n",
        "print( \"Youth ytest data shape \", y_testy.shape)"
      ],
      "metadata": {
        "colab": {
          "base_uri": "https://localhost:8080/"
        },
        "id": "CNGCOYzVNHTe",
        "outputId": "2ea25803-5d95-4b16-b915-d5e147a39eb7"
      },
      "execution_count": 47,
      "outputs": [
        {
          "output_type": "stream",
          "name": "stdout",
          "text": [
            "Youth Xtrain data shape  (1092, 237979)\n",
            "Youth ytrain data shape  (1092,)\n",
            "Youth Xval data shape  (252, 237979)\n",
            "Youth yval data shape  (252,)\n",
            "Youth Xtest data shape  (252, 237979)\n",
            "Youth ytest data shape  (252,)\n",
            "CPU times: user 748 ms, sys: 0 ns, total: 748 ms\n",
            "Wall time: 743 ms\n"
          ]
        }
      ]
    },
    {
      "cell_type": "markdown",
      "source": [
        "## Set up SVM Model"
      ],
      "metadata": {
        "id": "o-ulIQfZNOar"
      }
    },
    {
      "cell_type": "markdown",
      "source": [
        "#### SKlearn model training on Group data for Child"
      ],
      "metadata": {
        "id": "hkhpSZBKKR14"
      }
    },
    {
      "cell_type": "code",
      "source": [
        "%%time\n",
        "\n",
        "model_name = \"group_child_svm_10000\"\n",
        "clf = SVC(max_iter = 10000, random_state = 42)\n",
        "clf.fit(X_trainc, y_trainc)\n",
        "f = open(\"models/%s.pkl\"%model_name,\"wb\")\n",
        "pickle.dump(clf, f)\n",
        "f.close()"
      ],
      "metadata": {
        "id": "mqlf156pNHd0",
        "outputId": "d7675102-0583-45d0-a0ef-e1f6e12497a1",
        "colab": {
          "base_uri": "https://localhost:8080/"
        }
      },
      "execution_count": 22,
      "outputs": [
        {
          "output_type": "stream",
          "name": "stdout",
          "text": [
            "CPU times: user 22min 16s, sys: 5min 54s, total: 28min 11s\n",
            "Wall time: 3min 56s\n"
          ]
        }
      ]
    },
    {
      "cell_type": "code",
      "source": [
        "%%time\n",
        "yval_pred = clf.predict(X_valc)\n"
      ],
      "metadata": {
        "id": "ddTF1I755r7p",
        "colab": {
          "base_uri": "https://localhost:8080/"
        },
        "outputId": "28e40739-a3f1-4173-d4a3-5c6df3e38eaf"
      },
      "execution_count": 23,
      "outputs": [
        {
          "output_type": "stream",
          "name": "stdout",
          "text": [
            "CPU times: user 17min 36s, sys: 44min 21s, total: 1h 1min 58s\n",
            "Wall time: 7min 49s\n"
          ]
        }
      ]
    },
    {
      "cell_type": "code",
      "source": [
        "from sklearn.metrics import accuracy_score\n",
        "\n",
        "# Model Accuracy\n",
        "print(\"Accuracy:\", accuracy_score(y_valc, yval_pred))"
      ],
      "metadata": {
        "id": "Y_S-rrKv6LNc",
        "colab": {
          "base_uri": "https://localhost:8080/"
        },
        "outputId": "18598156-6500-4566-e094-17d9c1bcc7cb"
      },
      "execution_count": 24,
      "outputs": [
        {
          "output_type": "stream",
          "name": "stdout",
          "text": [
            "Accuracy: 0.5857142857142857\n"
          ]
        }
      ]
    },
    {
      "cell_type": "code",
      "source": [
        "%%time\n",
        "ytest_pred = clf.predict(X_testc)\n",
        "\n",
        "# Model Accuracy\n",
        "print(\"Accuracy:\", accuracy_score(y_testc, ytest_pred))"
      ],
      "metadata": {
        "colab": {
          "base_uri": "https://localhost:8080/"
        },
        "id": "3YSKj1llM11L",
        "outputId": "c4f80023-9a32-4841-9a8b-14a5b89804c5"
      },
      "execution_count": 25,
      "outputs": [
        {
          "output_type": "stream",
          "name": "stdout",
          "text": [
            "Accuracy: 0.5571428571428572\n",
            "CPU times: user 17min 48s, sys: 45min 2s, total: 1h 2min 51s\n",
            "Wall time: 7min 58s\n"
          ]
        }
      ]
    },
    {
      "cell_type": "markdown",
      "source": [
        "#### LibSVM"
      ],
      "metadata": {
        "id": "T5HXKgVT6W0U"
      }
    },
    {
      "cell_type": "markdown",
      "source": [
        "#### OpenCV library\n",
        "- https://docs.opencv.org/3.4/d1/d73/tutorial_introduction_to_svm.html\n"
      ],
      "metadata": {
        "id": "C8CyP3qSKW9V"
      }
    },
    {
      "cell_type": "code",
      "source": [
        "%%time\n",
        "\n",
        "# Train the SVM using openCV\n",
        "svm = cv.ml.SVM_create()\n",
        "svm.setType(cv.ml.SVM_C_SVC)\n",
        "svm.setKernel(cv.ml.SVM_LINEAR)\n",
        "svm.setTermCriteria((cv.TERM_CRITERIA_MAX_ITER, 100, 1e-6))\n",
        "svm.train(X_train, cv.ml.ROW_SAMPLE, y_train)\n"
      ],
      "metadata": {
        "id": "2jhw_bnXZ-JK"
      },
      "execution_count": null,
      "outputs": []
    },
    {
      "cell_type": "code",
      "source": [
        ""
      ],
      "metadata": {
        "id": "SRjoGug6M-a_"
      },
      "execution_count": null,
      "outputs": []
    }
  ]
}