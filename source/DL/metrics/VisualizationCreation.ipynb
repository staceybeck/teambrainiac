{
  "cells": [
    {
      "cell_type": "markdown",
      "metadata": {
        "id": "view-in-github",
        "colab_type": "text"
      },
      "source": [
        "<a href=\"https://colab.research.google.com/github/yecatstevir/teambrainiac/blob/main/source/DL/visualization_playground.ipynb\" target=\"_parent\"><img src=\"https://colab.research.google.com/assets/colab-badge.svg\" alt=\"Open In Colab\"/></a>"
      ]
    },
    {
      "cell_type": "markdown",
      "metadata": {
        "id": "ssBXn9lhG9du"
      },
      "source": [
        "# Visualization Playground\n",
        "## For 3D Convolutional Neural Network on Group Brain fMRI\n",
        "\n",
        "This notebook turns fMRI brain images from flat matlab files into 4D tensor objects for CNN training.\n",
        "\n",
        "To start:\n",
        "- Mount Google Colab, clone fMRI repository locally, and create path to AWS for saving and loading\n",
        "- Select desired brain images by subject id, splitting into train, validation, and test sets\n",
        "\n",
        "Pipeline flow for each batch of images:\n",
        "- Import desired brain images from AWS paths from data_path_dict\n",
        "- Drop brain images that are unlabeled\n",
        "- Mask out the brain, normalize the pixel values, and cast into 4D space\n",
        "- Aggregate images into tensor-compatible objects for model use\n",
        "- Upload tensor object dictionary of labels and images to AWS S3\n",
        "        \n",
        "  "
      ]
    },
    {
      "cell_type": "markdown",
      "metadata": {
        "id": "bjOMBc929Vpp"
      },
      "source": [
        "## Mount Colab in Google Drive and Import Images"
      ]
    },
    {
      "cell_type": "code",
      "execution_count": 72,
      "metadata": {
        "colab": {
          "base_uri": "https://localhost:8080/"
        },
        "id": "KWlULVj79acH",
        "outputId": "6ac12cd9-2f56-4a0a-a4b1-dfaf00540db0"
      },
      "outputs": [
        {
          "output_type": "stream",
          "name": "stdout",
          "text": [
            "Drive already mounted at /content/gdrive; to attempt to forcibly remount, call drive.mount(\"/content/gdrive\", force_remount=True).\n"
          ]
        }
      ],
      "source": [
        "# Mount Google Drive\n",
        "from google.colab import drive\n",
        "drive.mount('/content/gdrive')  "
      ]
    },
    {
      "cell_type": "code",
      "execution_count": 73,
      "metadata": {
        "colab": {
          "base_uri": "https://localhost:8080/"
        },
        "id": "TFAZrJHL9a6f",
        "outputId": "2805474c-7e8e-416e-aca1-5f17989f6dc9"
      },
      "outputs": [
        {
          "output_type": "stream",
          "name": "stdout",
          "text": [
            "Cloning into 'teambrainiac'...\n",
            "warning: --local is ignored\n",
            "remote: Enumerating objects: 2004, done.\u001b[K\n",
            "remote: Counting objects: 100% (189/189), done.\u001b[K\n",
            "remote: Compressing objects: 100% (160/160), done.\u001b[K\n",
            "remote: Total 2004 (delta 101), reused 75 (delta 29), pack-reused 1815\u001b[K\n",
            "Receiving objects: 100% (2004/2004), 110.41 MiB | 41.14 MiB/s, done.\n",
            "Resolving deltas: 100% (1292/1292), done.\n",
            "/content/teambrainiac/source/DL/teambrainiac/source/DL\n"
          ]
        }
      ],
      "source": [
        "# Clone the entire repo.\n",
        "!git clone -l -s https://github.com/yecatstevir/teambrainiac.git\n",
        "\n",
        "# Change directory into cloned repo DL folder\n",
        "%cd teambrainiac/source/DL\n",
        "\n",
        "# !ls"
      ]
    },
    {
      "cell_type": "markdown",
      "metadata": {
        "id": "YjLsWQoxMLZt"
      },
      "source": [
        "### Load path_config.py to access AWS credentials"
      ]
    },
    {
      "cell_type": "code",
      "execution_count": 74,
      "metadata": {
        "colab": {
          "base_uri": "https://localhost:8080/",
          "height": 90,
          "resources": {
            "http://localhost:8080/nbextensions/google.colab/files.js": {
              "data": "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",
              "headers": [
                [
                  "content-type",
                  "application/javascript"
                ]
              ],
              "ok": true,
              "status": 200,
              "status_text": ""
            }
          }
        },
        "id": "NJ5q46JZMTPc",
        "outputId": "4651f1d8-922b-423e-aef2-8dae57f62cd9"
      },
      "outputs": [
        {
          "output_type": "display_data",
          "data": {
            "text/plain": [
              "<IPython.core.display.HTML object>"
            ],
            "text/html": [
              "\n",
              "     <input type=\"file\" id=\"files-145a50c6-c101-46c7-818e-6979b4fecaf7\" name=\"files[]\" multiple disabled\n",
              "        style=\"border:none\" />\n",
              "     <output id=\"result-145a50c6-c101-46c7-818e-6979b4fecaf7\">\n",
              "      Upload widget is only available when the cell has been executed in the\n",
              "      current browser session. Please rerun this cell to enable.\n",
              "      </output>\n",
              "      <script src=\"/nbextensions/google.colab/files.js\"></script> "
            ]
          },
          "metadata": {}
        },
        {
          "output_type": "stream",
          "name": "stdout",
          "text": [
            "Saving path_config.py to path_config.py\n",
            "User uploaded file \"path_config.py\" with length 196 bytes\n"
          ]
        }
      ],
      "source": [
        "from google.colab import files\n",
        "\n",
        "uploaded = files.upload()\n",
        "\n",
        "for fn in uploaded.keys():\n",
        "  print('User uploaded file \"{name}\" with length {length} bytes'.format(\n",
        "      name=fn, length=len(uploaded[fn])))"
      ]
    },
    {
      "cell_type": "markdown",
      "metadata": {
        "id": "giqBoQS0MWFi"
      },
      "source": [
        "## Import Packages"
      ]
    },
    {
      "cell_type": "code",
      "execution_count": 75,
      "metadata": {
        "id": "lAhQQqpqMYNT",
        "colab": {
          "base_uri": "https://localhost:8080/"
        },
        "outputId": "bd0111c3-9c6c-4601-bb4a-e50675db736b"
      },
      "outputs": [
        {
          "output_type": "stream",
          "name": "stdout",
          "text": [
            "Requirement already satisfied: boto3 in /usr/local/lib/python3.7/dist-packages (1.21.44)\n",
            "Requirement already satisfied: s3transfer<0.6.0,>=0.5.0 in /usr/local/lib/python3.7/dist-packages (from boto3) (0.5.2)\n",
            "Requirement already satisfied: botocore<1.25.0,>=1.24.44 in /usr/local/lib/python3.7/dist-packages (from boto3) (1.24.44)\n",
            "Requirement already satisfied: jmespath<2.0.0,>=0.7.1 in /usr/local/lib/python3.7/dist-packages (from boto3) (1.0.0)\n",
            "Requirement already satisfied: urllib3<1.27,>=1.25.4 in /usr/local/lib/python3.7/dist-packages (from botocore<1.25.0,>=1.24.44->boto3) (1.25.11)\n",
            "Requirement already satisfied: python-dateutil<3.0.0,>=2.1 in /usr/local/lib/python3.7/dist-packages (from botocore<1.25.0,>=1.24.44->boto3) (2.8.2)\n",
            "Requirement already satisfied: six>=1.5 in /usr/local/lib/python3.7/dist-packages (from python-dateutil<3.0.0,>=2.1->botocore<1.25.0,>=1.24.44->boto3) (1.15.0)\n",
            "Requirement already satisfied: nilearn in /usr/local/lib/python3.7/dist-packages (0.9.1)\n",
            "Requirement already satisfied: lxml in /usr/local/lib/python3.7/dist-packages (from nilearn) (4.2.6)\n",
            "Requirement already satisfied: scipy>=1.5 in /usr/local/lib/python3.7/dist-packages (from nilearn) (1.7.3)\n",
            "Requirement already satisfied: joblib>=0.15 in /usr/local/lib/python3.7/dist-packages (from nilearn) (1.1.0)\n",
            "Requirement already satisfied: scikit-learn>=0.22 in /usr/local/lib/python3.7/dist-packages (from nilearn) (1.0.2)\n",
            "Requirement already satisfied: nibabel>=3.0.0 in /usr/local/lib/python3.7/dist-packages (from nilearn) (3.0.2)\n",
            "Requirement already satisfied: requests>=2 in /usr/local/lib/python3.7/dist-packages (from nilearn) (2.23.0)\n",
            "Requirement already satisfied: pandas>=1.0 in /usr/local/lib/python3.7/dist-packages (from nilearn) (1.3.5)\n",
            "Requirement already satisfied: numpy>=1.18 in /usr/local/lib/python3.7/dist-packages (from nilearn) (1.21.6)\n",
            "Requirement already satisfied: python-dateutil>=2.7.3 in /usr/local/lib/python3.7/dist-packages (from pandas>=1.0->nilearn) (2.8.2)\n",
            "Requirement already satisfied: pytz>=2017.3 in /usr/local/lib/python3.7/dist-packages (from pandas>=1.0->nilearn) (2022.1)\n",
            "Requirement already satisfied: six>=1.5 in /usr/local/lib/python3.7/dist-packages (from python-dateutil>=2.7.3->pandas>=1.0->nilearn) (1.15.0)\n",
            "Requirement already satisfied: urllib3!=1.25.0,!=1.25.1,<1.26,>=1.21.1 in /usr/local/lib/python3.7/dist-packages (from requests>=2->nilearn) (1.25.11)\n",
            "Requirement already satisfied: idna<3,>=2.5 in /usr/local/lib/python3.7/dist-packages (from requests>=2->nilearn) (2.10)\n",
            "Requirement already satisfied: chardet<4,>=3.0.2 in /usr/local/lib/python3.7/dist-packages (from requests>=2->nilearn) (3.0.4)\n",
            "Requirement already satisfied: certifi>=2017.4.17 in /usr/local/lib/python3.7/dist-packages (from requests>=2->nilearn) (2021.10.8)\n",
            "Requirement already satisfied: threadpoolctl>=2.0.0 in /usr/local/lib/python3.7/dist-packages (from scikit-learn>=0.22->nilearn) (3.1.0)\n"
          ]
        }
      ],
      "source": [
        "# Possible Missing Packages\n",
        "!pip install boto3\n",
        "!pip install nilearn\n",
        "\n",
        "# General Library Imports\n",
        "import re\n",
        "import scipy.io\n",
        "import os\n",
        "import pickle\n",
        "import numpy as np\n",
        "import nibabel as nib\n",
        "import pandas as pd\n",
        "import boto3\n",
        "import tempfile\n",
        "import tqdm\n",
        "import random\n",
        "from path_config import mat_path\n",
        "from botocore.exceptions import ClientError\n",
        "from collections import defaultdict\n",
        "from sklearn.preprocessing import StandardScaler\n",
        "\n",
        "# From Local Directory\n",
        "from access_data_dl import *\n",
        "from process_dl import *\n",
        "\n",
        "# Pytroch Libraries\n",
        "import torch\n",
        "\n",
        "import altair as alt"
      ]
    },
    {
      "cell_type": "markdown",
      "metadata": {
        "id": "eYG_gfx5sDHc"
      },
      "source": [
        "## Import Dictionary of Paths to Flat Matlab Images"
      ]
    },
    {
      "cell_type": "code",
      "execution_count": 5,
      "metadata": {
        "id": "wWYt1ci4sTgk"
      },
      "outputs": [],
      "source": [
        "# Open path dictionary file to get subject ids\n",
        "path = \"../data/data_path_dictionary.pkl\"\n",
        "data_path_dict = open_pickle(path)"
      ]
    },
    {
      "cell_type": "code",
      "source": [
        "label_data_dict = access_load_data(data_path_dict['labels'][0], True)\n",
        "input = np.array(label_data_dict['rt_labels']).T[0]\n"
      ],
      "metadata": {
        "id": "kSmPKd6opjnn"
      },
      "execution_count": 6,
      "outputs": []
    },
    {
      "cell_type": "code",
      "source": [
        "input = np.array(label_data_dict['rt_labels']).T[0]\n",
        "df = pd.DataFrame(data=input, columns=['Patient Status'])\n",
        "df['image_index'] = [x+1 for x in df.index]\n",
        "\n",
        "reg_type = ['Up Regulation' if x==1 else 'Down Regulation' if x==0 else 'Buffer (No Regulation)' for x in df['Patient Status']]\n",
        "df['Patient Status'] = reg_type\n",
        "\n",
        "df.head()"
      ],
      "metadata": {
        "colab": {
          "base_uri": "https://localhost:8080/",
          "height": 206
        },
        "id": "1n8Qp6O-vl2C",
        "outputId": "aed2c6dd-4d08-45ec-9cb6-d4227062a5be"
      },
      "execution_count": 7,
      "outputs": [
        {
          "output_type": "execute_result",
          "data": {
            "text/plain": [
              "           Patient Status  image_index\n",
              "0  Buffer (No Regulation)            1\n",
              "1  Buffer (No Regulation)            2\n",
              "2  Buffer (No Regulation)            3\n",
              "3           Up Regulation            4\n",
              "4           Up Regulation            5"
            ],
            "text/html": [
              "\n",
              "  <div id=\"df-e018ce1f-818a-4175-8fb9-f836b6a8183f\">\n",
              "    <div class=\"colab-df-container\">\n",
              "      <div>\n",
              "<style scoped>\n",
              "    .dataframe tbody tr th:only-of-type {\n",
              "        vertical-align: middle;\n",
              "    }\n",
              "\n",
              "    .dataframe tbody tr th {\n",
              "        vertical-align: top;\n",
              "    }\n",
              "\n",
              "    .dataframe thead th {\n",
              "        text-align: right;\n",
              "    }\n",
              "</style>\n",
              "<table border=\"1\" class=\"dataframe\">\n",
              "  <thead>\n",
              "    <tr style=\"text-align: right;\">\n",
              "      <th></th>\n",
              "      <th>Patient Status</th>\n",
              "      <th>image_index</th>\n",
              "    </tr>\n",
              "  </thead>\n",
              "  <tbody>\n",
              "    <tr>\n",
              "      <th>0</th>\n",
              "      <td>Buffer (No Regulation)</td>\n",
              "      <td>1</td>\n",
              "    </tr>\n",
              "    <tr>\n",
              "      <th>1</th>\n",
              "      <td>Buffer (No Regulation)</td>\n",
              "      <td>2</td>\n",
              "    </tr>\n",
              "    <tr>\n",
              "      <th>2</th>\n",
              "      <td>Buffer (No Regulation)</td>\n",
              "      <td>3</td>\n",
              "    </tr>\n",
              "    <tr>\n",
              "      <th>3</th>\n",
              "      <td>Up Regulation</td>\n",
              "      <td>4</td>\n",
              "    </tr>\n",
              "    <tr>\n",
              "      <th>4</th>\n",
              "      <td>Up Regulation</td>\n",
              "      <td>5</td>\n",
              "    </tr>\n",
              "  </tbody>\n",
              "</table>\n",
              "</div>\n",
              "      <button class=\"colab-df-convert\" onclick=\"convertToInteractive('df-e018ce1f-818a-4175-8fb9-f836b6a8183f')\"\n",
              "              title=\"Convert this dataframe to an interactive table.\"\n",
              "              style=\"display:none;\">\n",
              "        \n",
              "  <svg xmlns=\"http://www.w3.org/2000/svg\" height=\"24px\"viewBox=\"0 0 24 24\"\n",
              "       width=\"24px\">\n",
              "    <path d=\"M0 0h24v24H0V0z\" fill=\"none\"/>\n",
              "    <path d=\"M18.56 5.44l.94 2.06.94-2.06 2.06-.94-2.06-.94-.94-2.06-.94 2.06-2.06.94zm-11 1L8.5 8.5l.94-2.06 2.06-.94-2.06-.94L8.5 2.5l-.94 2.06-2.06.94zm10 10l.94 2.06.94-2.06 2.06-.94-2.06-.94-.94-2.06-.94 2.06-2.06.94z\"/><path d=\"M17.41 7.96l-1.37-1.37c-.4-.4-.92-.59-1.43-.59-.52 0-1.04.2-1.43.59L10.3 9.45l-7.72 7.72c-.78.78-.78 2.05 0 2.83L4 21.41c.39.39.9.59 1.41.59.51 0 1.02-.2 1.41-.59l7.78-7.78 2.81-2.81c.8-.78.8-2.07 0-2.86zM5.41 20L4 18.59l7.72-7.72 1.47 1.35L5.41 20z\"/>\n",
              "  </svg>\n",
              "      </button>\n",
              "      \n",
              "  <style>\n",
              "    .colab-df-container {\n",
              "      display:flex;\n",
              "      flex-wrap:wrap;\n",
              "      gap: 12px;\n",
              "    }\n",
              "\n",
              "    .colab-df-convert {\n",
              "      background-color: #E8F0FE;\n",
              "      border: none;\n",
              "      border-radius: 50%;\n",
              "      cursor: pointer;\n",
              "      display: none;\n",
              "      fill: #1967D2;\n",
              "      height: 32px;\n",
              "      padding: 0 0 0 0;\n",
              "      width: 32px;\n",
              "    }\n",
              "\n",
              "    .colab-df-convert:hover {\n",
              "      background-color: #E2EBFA;\n",
              "      box-shadow: 0px 1px 2px rgba(60, 64, 67, 0.3), 0px 1px 3px 1px rgba(60, 64, 67, 0.15);\n",
              "      fill: #174EA6;\n",
              "    }\n",
              "\n",
              "    [theme=dark] .colab-df-convert {\n",
              "      background-color: #3B4455;\n",
              "      fill: #D2E3FC;\n",
              "    }\n",
              "\n",
              "    [theme=dark] .colab-df-convert:hover {\n",
              "      background-color: #434B5C;\n",
              "      box-shadow: 0px 1px 3px 1px rgba(0, 0, 0, 0.15);\n",
              "      filter: drop-shadow(0px 1px 2px rgba(0, 0, 0, 0.3));\n",
              "      fill: #FFFFFF;\n",
              "    }\n",
              "  </style>\n",
              "\n",
              "      <script>\n",
              "        const buttonEl =\n",
              "          document.querySelector('#df-e018ce1f-818a-4175-8fb9-f836b6a8183f button.colab-df-convert');\n",
              "        buttonEl.style.display =\n",
              "          google.colab.kernel.accessAllowed ? 'block' : 'none';\n",
              "\n",
              "        async function convertToInteractive(key) {\n",
              "          const element = document.querySelector('#df-e018ce1f-818a-4175-8fb9-f836b6a8183f');\n",
              "          const dataTable =\n",
              "            await google.colab.kernel.invokeFunction('convertToInteractive',\n",
              "                                                     [key], {});\n",
              "          if (!dataTable) return;\n",
              "\n",
              "          const docLinkHtml = 'Like what you see? Visit the ' +\n",
              "            '<a target=\"_blank\" href=https://colab.research.google.com/notebooks/data_table.ipynb>data table notebook</a>'\n",
              "            + ' to learn more about interactive tables.';\n",
              "          element.innerHTML = '';\n",
              "          dataTable['output_type'] = 'display_data';\n",
              "          await google.colab.output.renderOutput(dataTable, element);\n",
              "          const docLink = document.createElement('div');\n",
              "          docLink.innerHTML = docLinkHtml;\n",
              "          element.appendChild(docLink);\n",
              "        }\n",
              "      </script>\n",
              "    </div>\n",
              "  </div>\n",
              "  "
            ]
          },
          "metadata": {},
          "execution_count": 7
        }
      ]
    },
    {
      "cell_type": "code",
      "source": [
        "reg_in_scanner = alt.Chart(df).mark_tick(thickness=5).encode(\n",
        "    x = 'image_index:Q',\n",
        "    color = alt.Color('Patient Status:N', scale=alt.Scale(scheme='dark2'))\n",
        ").properties(\n",
        "    width = 800,\n",
        "    title = 'Patient Regulation in Scanner'\n",
        ")\n",
        "\n",
        "\n",
        "# c='#446CCF' = blue\n",
        "# 11:00\n",
        "# '#F58518' = yellow\n",
        "\n",
        "\n",
        "\n",
        "\n",
        "\n",
        "reg_in_scanner"
      ],
      "metadata": {
        "id": "VJ9Az5Tvget-",
        "colab": {
          "base_uri": "https://localhost:8080/",
          "height": 101
        },
        "outputId": "a1736db6-7219-4221-ce5e-94adc03e7b94"
      },
      "execution_count": 8,
      "outputs": [
        {
          "output_type": "execute_result",
          "data": {
            "text/html": [
              "\n",
              "<div id=\"altair-viz-3ac85f65adc64f378bbfa61f4df87fc7\"></div>\n",
              "<script type=\"text/javascript\">\n",
              "  var VEGA_DEBUG = (typeof VEGA_DEBUG == \"undefined\") ? {} : VEGA_DEBUG;\n",
              "  (function(spec, embedOpt){\n",
              "    let outputDiv = document.currentScript.previousElementSibling;\n",
              "    if (outputDiv.id !== \"altair-viz-3ac85f65adc64f378bbfa61f4df87fc7\") {\n",
              "      outputDiv = document.getElementById(\"altair-viz-3ac85f65adc64f378bbfa61f4df87fc7\");\n",
              "    }\n",
              "    const paths = {\n",
              "      \"vega\": \"https://cdn.jsdelivr.net/npm//vega@5?noext\",\n",
              "      \"vega-lib\": \"https://cdn.jsdelivr.net/npm//vega-lib?noext\",\n",
              "      \"vega-lite\": \"https://cdn.jsdelivr.net/npm//vega-lite@4.17.0?noext\",\n",
              "      \"vega-embed\": \"https://cdn.jsdelivr.net/npm//vega-embed@6?noext\",\n",
              "    };\n",
              "\n",
              "    function maybeLoadScript(lib, version) {\n",
              "      var key = `${lib.replace(\"-\", \"\")}_version`;\n",
              "      return (VEGA_DEBUG[key] == version) ?\n",
              "        Promise.resolve(paths[lib]) :\n",
              "        new Promise(function(resolve, reject) {\n",
              "          var s = document.createElement('script');\n",
              "          document.getElementsByTagName(\"head\")[0].appendChild(s);\n",
              "          s.async = true;\n",
              "          s.onload = () => {\n",
              "            VEGA_DEBUG[key] = version;\n",
              "            return resolve(paths[lib]);\n",
              "          };\n",
              "          s.onerror = () => reject(`Error loading script: ${paths[lib]}`);\n",
              "          s.src = paths[lib];\n",
              "        });\n",
              "    }\n",
              "\n",
              "    function showError(err) {\n",
              "      outputDiv.innerHTML = `<div class=\"error\" style=\"color:red;\">${err}</div>`;\n",
              "      throw err;\n",
              "    }\n",
              "\n",
              "    function displayChart(vegaEmbed) {\n",
              "      vegaEmbed(outputDiv, spec, embedOpt)\n",
              "        .catch(err => showError(`Javascript Error: ${err.message}<br>This usually means there's a typo in your chart specification. See the javascript console for the full traceback.`));\n",
              "    }\n",
              "\n",
              "    if(typeof define === \"function\" && define.amd) {\n",
              "      requirejs.config({paths});\n",
              "      require([\"vega-embed\"], displayChart, err => showError(`Error loading script: ${err.message}`));\n",
              "    } else {\n",
              "      maybeLoadScript(\"vega\", \"5\")\n",
              "        .then(() => maybeLoadScript(\"vega-lite\", \"4.17.0\"))\n",
              "        .then(() => maybeLoadScript(\"vega-embed\", \"6\"))\n",
              "        .catch(showError)\n",
              "        .then(() => displayChart(vegaEmbed));\n",
              "    }\n",
              "  })({\"config\": {\"view\": {\"continuousWidth\": 400, \"continuousHeight\": 300}}, \"data\": {\"name\": \"data-22af0d6bb4a2ac2757134e212d6b1e2d\"}, \"mark\": {\"type\": \"tick\", \"thickness\": 5}, \"encoding\": {\"color\": {\"field\": \"Patient Status\", \"scale\": {\"scheme\": \"dark2\"}, \"type\": \"nominal\"}, \"x\": {\"field\": \"image_index\", \"type\": \"quantitative\"}}, \"title\": \"Patient Regulation in Scanner\", \"width\": 800, \"$schema\": \"https://vega.github.io/schema/vega-lite/v4.17.0.json\", \"datasets\": {\"data-22af0d6bb4a2ac2757134e212d6b1e2d\": [{\"Patient Status\": \"Buffer (No Regulation)\", \"image_index\": 1}, {\"Patient Status\": \"Buffer (No Regulation)\", \"image_index\": 2}, {\"Patient Status\": \"Buffer (No Regulation)\", \"image_index\": 3}, {\"Patient Status\": \"Up Regulation\", \"image_index\": 4}, {\"Patient Status\": \"Up Regulation\", \"image_index\": 5}, {\"Patient Status\": \"Up Regulation\", \"image_index\": 6}, {\"Patient Status\": \"Up Regulation\", \"image_index\": 7}, {\"Patient Status\": \"Up Regulation\", \"image_index\": 8}, {\"Patient Status\": \"Up Regulation\", \"image_index\": 9}, {\"Patient Status\": \"Up Regulation\", \"image_index\": 10}, {\"Patient Status\": \"Buffer (No Regulation)\", \"image_index\": 11}, {\"Patient Status\": \"Buffer (No Regulation)\", \"image_index\": 12}, {\"Patient Status\": \"Buffer (No Regulation)\", \"image_index\": 13}, {\"Patient Status\": \"Buffer (No Regulation)\", \"image_index\": 14}, {\"Patient Status\": \"Buffer (No Regulation)\", \"image_index\": 15}, {\"Patient Status\": \"Up Regulation\", \"image_index\": 16}, {\"Patient Status\": \"Up Regulation\", \"image_index\": 17}, {\"Patient Status\": \"Up Regulation\", \"image_index\": 18}, {\"Patient Status\": \"Up Regulation\", \"image_index\": 19}, {\"Patient Status\": \"Up Regulation\", \"image_index\": 20}, {\"Patient Status\": \"Up Regulation\", \"image_index\": 21}, {\"Patient Status\": \"Up Regulation\", \"image_index\": 22}, {\"Patient Status\": \"Buffer (No Regulation)\", \"image_index\": 23}, {\"Patient Status\": \"Buffer (No Regulation)\", \"image_index\": 24}, {\"Patient Status\": \"Buffer (No Regulation)\", \"image_index\": 25}, {\"Patient Status\": \"Buffer (No Regulation)\", \"image_index\": 26}, {\"Patient Status\": \"Buffer (No Regulation)\", \"image_index\": 27}, {\"Patient Status\": \"Down Regulation\", \"image_index\": 28}, {\"Patient Status\": \"Down Regulation\", \"image_index\": 29}, {\"Patient Status\": \"Down Regulation\", \"image_index\": 30}, {\"Patient Status\": \"Down Regulation\", \"image_index\": 31}, {\"Patient Status\": \"Down Regulation\", \"image_index\": 32}, {\"Patient Status\": \"Down Regulation\", \"image_index\": 33}, {\"Patient Status\": \"Down Regulation\", \"image_index\": 34}, {\"Patient Status\": \"Buffer (No Regulation)\", \"image_index\": 35}, {\"Patient Status\": \"Buffer (No Regulation)\", \"image_index\": 36}, {\"Patient Status\": \"Buffer (No Regulation)\", \"image_index\": 37}, {\"Patient Status\": \"Buffer (No Regulation)\", \"image_index\": 38}, {\"Patient Status\": \"Buffer (No Regulation)\", \"image_index\": 39}, {\"Patient Status\": \"Up Regulation\", \"image_index\": 40}, {\"Patient Status\": \"Up Regulation\", \"image_index\": 41}, {\"Patient Status\": \"Up Regulation\", \"image_index\": 42}, {\"Patient Status\": \"Up Regulation\", \"image_index\": 43}, {\"Patient Status\": \"Up Regulation\", \"image_index\": 44}, {\"Patient Status\": \"Up Regulation\", \"image_index\": 45}, {\"Patient Status\": \"Up Regulation\", \"image_index\": 46}, {\"Patient Status\": \"Buffer (No Regulation)\", \"image_index\": 47}, {\"Patient Status\": \"Buffer (No Regulation)\", \"image_index\": 48}, {\"Patient Status\": \"Buffer (No Regulation)\", \"image_index\": 49}, {\"Patient Status\": \"Buffer (No Regulation)\", \"image_index\": 50}, {\"Patient Status\": \"Buffer (No Regulation)\", \"image_index\": 51}, {\"Patient Status\": \"Down Regulation\", \"image_index\": 52}, {\"Patient Status\": \"Down Regulation\", \"image_index\": 53}, {\"Patient Status\": \"Down Regulation\", \"image_index\": 54}, {\"Patient Status\": \"Down Regulation\", \"image_index\": 55}, {\"Patient Status\": \"Down Regulation\", \"image_index\": 56}, {\"Patient Status\": \"Down Regulation\", \"image_index\": 57}, {\"Patient Status\": \"Down Regulation\", \"image_index\": 58}, {\"Patient Status\": \"Buffer (No Regulation)\", \"image_index\": 59}, {\"Patient Status\": \"Buffer (No Regulation)\", \"image_index\": 60}, {\"Patient Status\": \"Buffer (No Regulation)\", \"image_index\": 61}, {\"Patient Status\": \"Buffer (No Regulation)\", \"image_index\": 62}, {\"Patient Status\": \"Buffer (No Regulation)\", \"image_index\": 63}, {\"Patient Status\": \"Down Regulation\", \"image_index\": 64}, {\"Patient Status\": \"Down Regulation\", \"image_index\": 65}, {\"Patient Status\": \"Down Regulation\", \"image_index\": 66}, {\"Patient Status\": \"Down Regulation\", \"image_index\": 67}, {\"Patient Status\": \"Down Regulation\", \"image_index\": 68}, {\"Patient Status\": \"Down Regulation\", \"image_index\": 69}, {\"Patient Status\": \"Down Regulation\", \"image_index\": 70}, {\"Patient Status\": \"Buffer (No Regulation)\", \"image_index\": 71}, {\"Patient Status\": \"Buffer (No Regulation)\", \"image_index\": 72}, {\"Patient Status\": \"Buffer (No Regulation)\", \"image_index\": 73}, {\"Patient Status\": \"Buffer (No Regulation)\", \"image_index\": 74}, {\"Patient Status\": \"Buffer (No Regulation)\", \"image_index\": 75}, {\"Patient Status\": \"Down Regulation\", \"image_index\": 76}, {\"Patient Status\": \"Down Regulation\", \"image_index\": 77}, {\"Patient Status\": \"Down Regulation\", \"image_index\": 78}, {\"Patient Status\": \"Down Regulation\", \"image_index\": 79}, {\"Patient Status\": \"Down Regulation\", \"image_index\": 80}, {\"Patient Status\": \"Down Regulation\", \"image_index\": 81}, {\"Patient Status\": \"Down Regulation\", \"image_index\": 82}, {\"Patient Status\": \"Buffer (No Regulation)\", \"image_index\": 83}, {\"Patient Status\": \"Buffer (No Regulation)\", \"image_index\": 84}, {\"Patient Status\": \"Buffer (No Regulation)\", \"image_index\": 85}, {\"Patient Status\": \"Buffer (No Regulation)\", \"image_index\": 86}, {\"Patient Status\": \"Buffer (No Regulation)\", \"image_index\": 87}, {\"Patient Status\": \"Up Regulation\", \"image_index\": 88}, {\"Patient Status\": \"Up Regulation\", \"image_index\": 89}, {\"Patient Status\": \"Up Regulation\", \"image_index\": 90}, {\"Patient Status\": \"Up Regulation\", \"image_index\": 91}, {\"Patient Status\": \"Up Regulation\", \"image_index\": 92}, {\"Patient Status\": \"Up Regulation\", \"image_index\": 93}, {\"Patient Status\": \"Up Regulation\", \"image_index\": 94}, {\"Patient Status\": \"Buffer (No Regulation)\", \"image_index\": 95}, {\"Patient Status\": \"Buffer (No Regulation)\", \"image_index\": 96}, {\"Patient Status\": \"Buffer (No Regulation)\", \"image_index\": 97}, {\"Patient Status\": \"Buffer (No Regulation)\", \"image_index\": 98}, {\"Patient Status\": \"Buffer (No Regulation)\", \"image_index\": 99}, {\"Patient Status\": \"Down Regulation\", \"image_index\": 100}, {\"Patient Status\": \"Down Regulation\", \"image_index\": 101}, {\"Patient Status\": \"Down Regulation\", \"image_index\": 102}, {\"Patient Status\": \"Down Regulation\", \"image_index\": 103}, {\"Patient Status\": \"Down Regulation\", \"image_index\": 104}, {\"Patient Status\": \"Down Regulation\", \"image_index\": 105}, {\"Patient Status\": \"Down Regulation\", \"image_index\": 106}, {\"Patient Status\": \"Buffer (No Regulation)\", \"image_index\": 107}, {\"Patient Status\": \"Buffer (No Regulation)\", \"image_index\": 108}, {\"Patient Status\": \"Buffer (No Regulation)\", \"image_index\": 109}, {\"Patient Status\": \"Buffer (No Regulation)\", \"image_index\": 110}, {\"Patient Status\": \"Buffer (No Regulation)\", \"image_index\": 111}, {\"Patient Status\": \"Up Regulation\", \"image_index\": 112}, {\"Patient Status\": \"Up Regulation\", \"image_index\": 113}, {\"Patient Status\": \"Up Regulation\", \"image_index\": 114}, {\"Patient Status\": \"Up Regulation\", \"image_index\": 115}, {\"Patient Status\": \"Up Regulation\", \"image_index\": 116}, {\"Patient Status\": \"Up Regulation\", \"image_index\": 117}, {\"Patient Status\": \"Up Regulation\", \"image_index\": 118}, {\"Patient Status\": \"Buffer (No Regulation)\", \"image_index\": 119}, {\"Patient Status\": \"Buffer (No Regulation)\", \"image_index\": 120}, {\"Patient Status\": \"Buffer (No Regulation)\", \"image_index\": 121}, {\"Patient Status\": \"Buffer (No Regulation)\", \"image_index\": 122}, {\"Patient Status\": \"Buffer (No Regulation)\", \"image_index\": 123}, {\"Patient Status\": \"Up Regulation\", \"image_index\": 124}, {\"Patient Status\": \"Up Regulation\", \"image_index\": 125}, {\"Patient Status\": \"Up Regulation\", \"image_index\": 126}, {\"Patient Status\": \"Up Regulation\", \"image_index\": 127}, {\"Patient Status\": \"Up Regulation\", \"image_index\": 128}, {\"Patient Status\": \"Up Regulation\", \"image_index\": 129}, {\"Patient Status\": \"Up Regulation\", \"image_index\": 130}, {\"Patient Status\": \"Buffer (No Regulation)\", \"image_index\": 131}, {\"Patient Status\": \"Buffer (No Regulation)\", \"image_index\": 132}, {\"Patient Status\": \"Buffer (No Regulation)\", \"image_index\": 133}, {\"Patient Status\": \"Buffer (No Regulation)\", \"image_index\": 134}, {\"Patient Status\": \"Buffer (No Regulation)\", \"image_index\": 135}, {\"Patient Status\": \"Down Regulation\", \"image_index\": 136}, {\"Patient Status\": \"Down Regulation\", \"image_index\": 137}, {\"Patient Status\": \"Down Regulation\", \"image_index\": 138}, {\"Patient Status\": \"Down Regulation\", \"image_index\": 139}, {\"Patient Status\": \"Down Regulation\", \"image_index\": 140}, {\"Patient Status\": \"Down Regulation\", \"image_index\": 141}, {\"Patient Status\": \"Down Regulation\", \"image_index\": 142}, {\"Patient Status\": \"Buffer (No Regulation)\", \"image_index\": 143}, {\"Patient Status\": \"Buffer (No Regulation)\", \"image_index\": 144}]}}, {\"mode\": \"vega-lite\"});\n",
              "</script>"
            ],
            "text/plain": [
              "alt.Chart(...)"
            ]
          },
          "metadata": {},
          "execution_count": 8
        }
      ]
    },
    {
      "cell_type": "markdown",
      "source": [
        "## Pulling the output all together"
      ],
      "metadata": {
        "id": "eV0wFmge5QBR"
      }
    },
    {
      "cell_type": "code",
      "source": [
        "def avg_tensors(nested_tensors):\n",
        "  metric_list = []\n",
        "  for tensor_list in nested_tensors:\n",
        "    temp_sum = 0\n",
        "    for tensor in tensor_list:\n",
        "      temp_sum += tensor.item()\n",
        "    metric_list.append(temp_sum/len(tensor_list))\n",
        "  \n",
        "  if len(metric_list) < 10:\n",
        "    new_metrics = []\n",
        "    for i in range(10):\n",
        "      try:\n",
        "        new_metrics.append(metric_list[i])\n",
        "      except:\n",
        "        if nested_tensors.name == 'accuracy':\n",
        "          new_metrics.append(1)\n",
        "        else:\n",
        "          new_metrics.append(0)\n",
        "    metric_list = new_metrics\n",
        "\n",
        "  return metric_list"
      ],
      "metadata": {
        "id": "D7GKu1fVmwjE"
      },
      "execution_count": 69,
      "outputs": []
    },
    {
      "cell_type": "code",
      "source": [
        "filenames = ['metrics_batch_1_1', 'metrics_batch_1_2', 'metrics_batch_2_1', 'metrics_batch_4_1']\n",
        "train_error = []\n",
        "\n",
        "\n",
        "for i,file in enumerate(filenames):\n",
        "  print('/content/gdrive/My Drive/%s.pkl'%(file))\n",
        "  metrics_dict = open_pickle('/content/gdrive/My Drive/%s.pkl'%(file))['round_0']\n",
        "  df = pd.DataFrame(metrics_dict).T\n",
        "  try:\n",
        "    train_error['accuracy_'+str(i)] = avg_tensors(df['accuracy'])\n",
        "    train_error['loss_'+str(i)] = avg_tensors(df['loss'])\n",
        "  except:\n",
        "    train_error = df.copy()\n",
        "    train_error['accuracy_'+str(i)] = avg_tensors(df['accuracy'])\n",
        "    train_error['loss_'+str(i)] = avg_tensors(df['loss'])\n",
        "    train_error = train_error.drop(list(df.columns), axis=1)\n",
        "  \n",
        "train_error"
      ],
      "metadata": {
        "colab": {
          "base_uri": "https://localhost:8080/",
          "height": 432
        },
        "id": "aeHBVFAU5S3L",
        "outputId": "c0b022d2-f233-48ef-9c10-b291455d2795"
      },
      "execution_count": 71,
      "outputs": [
        {
          "output_type": "stream",
          "name": "stdout",
          "text": [
            "/content/gdrive/My Drive/metrics_batch_1_1.pkl\n",
            "/content/gdrive/My Drive/metrics_batch_1_2.pkl\n",
            "/content/gdrive/My Drive/metrics_batch_2_1.pkl\n",
            "/content/gdrive/My Drive/metrics_batch_4_1.pkl\n"
          ]
        },
        {
          "output_type": "execute_result",
          "data": {
            "text/plain": [
              "          accuracy_0    loss_0  accuracy_1    loss_1  accuracy_2    loss_2  \\\n",
              "epoch_1     0.507937  0.710441    0.507937  0.710441    0.588624  1.039068   \n",
              "epoch_2     0.529762  0.686388    0.529762  0.686388    0.832011  0.448916   \n",
              "epoch_3     0.521825  0.691642    0.521825  0.691642    0.916667  0.333925   \n",
              "epoch_4     0.569444  0.682483    0.569444  0.682483    0.950617  0.182544   \n",
              "epoch_5     0.533730  0.684524    0.533730  0.684524    1.000000  0.000000   \n",
              "epoch_6     0.543651  0.681526    0.543651  0.681526    1.000000  0.000000   \n",
              "epoch_7     0.555556  0.675290    0.555556  0.675290    1.000000  0.000000   \n",
              "epoch_8     0.621032  0.664600    0.621032  0.664600    1.000000  0.000000   \n",
              "epoch_9     0.619048  0.657988    0.619048  0.657988    1.000000  0.000000   \n",
              "epoch_10    0.658730  0.643300    0.658730  0.643300    1.000000  0.000000   \n",
              "\n",
              "          accuracy_3    loss_3  \n",
              "epoch_1     0.679894  0.618380  \n",
              "epoch_2     0.878307  0.353280  \n",
              "epoch_3     0.955026  0.150648  \n",
              "epoch_4     1.000000  0.000000  \n",
              "epoch_5     1.000000  0.000000  \n",
              "epoch_6     1.000000  0.000000  \n",
              "epoch_7     1.000000  0.000000  \n",
              "epoch_8     1.000000  0.000000  \n",
              "epoch_9     1.000000  0.000000  \n",
              "epoch_10    1.000000  0.000000  "
            ],
            "text/html": [
              "\n",
              "  <div id=\"df-049cef39-5a01-4a43-9c28-7bbc2254c7d6\">\n",
              "    <div class=\"colab-df-container\">\n",
              "      <div>\n",
              "<style scoped>\n",
              "    .dataframe tbody tr th:only-of-type {\n",
              "        vertical-align: middle;\n",
              "    }\n",
              "\n",
              "    .dataframe tbody tr th {\n",
              "        vertical-align: top;\n",
              "    }\n",
              "\n",
              "    .dataframe thead th {\n",
              "        text-align: right;\n",
              "    }\n",
              "</style>\n",
              "<table border=\"1\" class=\"dataframe\">\n",
              "  <thead>\n",
              "    <tr style=\"text-align: right;\">\n",
              "      <th></th>\n",
              "      <th>accuracy_0</th>\n",
              "      <th>loss_0</th>\n",
              "      <th>accuracy_1</th>\n",
              "      <th>loss_1</th>\n",
              "      <th>accuracy_2</th>\n",
              "      <th>loss_2</th>\n",
              "      <th>accuracy_3</th>\n",
              "      <th>loss_3</th>\n",
              "    </tr>\n",
              "  </thead>\n",
              "  <tbody>\n",
              "    <tr>\n",
              "      <th>epoch_1</th>\n",
              "      <td>0.507937</td>\n",
              "      <td>0.710441</td>\n",
              "      <td>0.507937</td>\n",
              "      <td>0.710441</td>\n",
              "      <td>0.588624</td>\n",
              "      <td>1.039068</td>\n",
              "      <td>0.679894</td>\n",
              "      <td>0.618380</td>\n",
              "    </tr>\n",
              "    <tr>\n",
              "      <th>epoch_2</th>\n",
              "      <td>0.529762</td>\n",
              "      <td>0.686388</td>\n",
              "      <td>0.529762</td>\n",
              "      <td>0.686388</td>\n",
              "      <td>0.832011</td>\n",
              "      <td>0.448916</td>\n",
              "      <td>0.878307</td>\n",
              "      <td>0.353280</td>\n",
              "    </tr>\n",
              "    <tr>\n",
              "      <th>epoch_3</th>\n",
              "      <td>0.521825</td>\n",
              "      <td>0.691642</td>\n",
              "      <td>0.521825</td>\n",
              "      <td>0.691642</td>\n",
              "      <td>0.916667</td>\n",
              "      <td>0.333925</td>\n",
              "      <td>0.955026</td>\n",
              "      <td>0.150648</td>\n",
              "    </tr>\n",
              "    <tr>\n",
              "      <th>epoch_4</th>\n",
              "      <td>0.569444</td>\n",
              "      <td>0.682483</td>\n",
              "      <td>0.569444</td>\n",
              "      <td>0.682483</td>\n",
              "      <td>0.950617</td>\n",
              "      <td>0.182544</td>\n",
              "      <td>1.000000</td>\n",
              "      <td>0.000000</td>\n",
              "    </tr>\n",
              "    <tr>\n",
              "      <th>epoch_5</th>\n",
              "      <td>0.533730</td>\n",
              "      <td>0.684524</td>\n",
              "      <td>0.533730</td>\n",
              "      <td>0.684524</td>\n",
              "      <td>1.000000</td>\n",
              "      <td>0.000000</td>\n",
              "      <td>1.000000</td>\n",
              "      <td>0.000000</td>\n",
              "    </tr>\n",
              "    <tr>\n",
              "      <th>epoch_6</th>\n",
              "      <td>0.543651</td>\n",
              "      <td>0.681526</td>\n",
              "      <td>0.543651</td>\n",
              "      <td>0.681526</td>\n",
              "      <td>1.000000</td>\n",
              "      <td>0.000000</td>\n",
              "      <td>1.000000</td>\n",
              "      <td>0.000000</td>\n",
              "    </tr>\n",
              "    <tr>\n",
              "      <th>epoch_7</th>\n",
              "      <td>0.555556</td>\n",
              "      <td>0.675290</td>\n",
              "      <td>0.555556</td>\n",
              "      <td>0.675290</td>\n",
              "      <td>1.000000</td>\n",
              "      <td>0.000000</td>\n",
              "      <td>1.000000</td>\n",
              "      <td>0.000000</td>\n",
              "    </tr>\n",
              "    <tr>\n",
              "      <th>epoch_8</th>\n",
              "      <td>0.621032</td>\n",
              "      <td>0.664600</td>\n",
              "      <td>0.621032</td>\n",
              "      <td>0.664600</td>\n",
              "      <td>1.000000</td>\n",
              "      <td>0.000000</td>\n",
              "      <td>1.000000</td>\n",
              "      <td>0.000000</td>\n",
              "    </tr>\n",
              "    <tr>\n",
              "      <th>epoch_9</th>\n",
              "      <td>0.619048</td>\n",
              "      <td>0.657988</td>\n",
              "      <td>0.619048</td>\n",
              "      <td>0.657988</td>\n",
              "      <td>1.000000</td>\n",
              "      <td>0.000000</td>\n",
              "      <td>1.000000</td>\n",
              "      <td>0.000000</td>\n",
              "    </tr>\n",
              "    <tr>\n",
              "      <th>epoch_10</th>\n",
              "      <td>0.658730</td>\n",
              "      <td>0.643300</td>\n",
              "      <td>0.658730</td>\n",
              "      <td>0.643300</td>\n",
              "      <td>1.000000</td>\n",
              "      <td>0.000000</td>\n",
              "      <td>1.000000</td>\n",
              "      <td>0.000000</td>\n",
              "    </tr>\n",
              "  </tbody>\n",
              "</table>\n",
              "</div>\n",
              "      <button class=\"colab-df-convert\" onclick=\"convertToInteractive('df-049cef39-5a01-4a43-9c28-7bbc2254c7d6')\"\n",
              "              title=\"Convert this dataframe to an interactive table.\"\n",
              "              style=\"display:none;\">\n",
              "        \n",
              "  <svg xmlns=\"http://www.w3.org/2000/svg\" height=\"24px\"viewBox=\"0 0 24 24\"\n",
              "       width=\"24px\">\n",
              "    <path d=\"M0 0h24v24H0V0z\" fill=\"none\"/>\n",
              "    <path d=\"M18.56 5.44l.94 2.06.94-2.06 2.06-.94-2.06-.94-.94-2.06-.94 2.06-2.06.94zm-11 1L8.5 8.5l.94-2.06 2.06-.94-2.06-.94L8.5 2.5l-.94 2.06-2.06.94zm10 10l.94 2.06.94-2.06 2.06-.94-2.06-.94-.94-2.06-.94 2.06-2.06.94z\"/><path d=\"M17.41 7.96l-1.37-1.37c-.4-.4-.92-.59-1.43-.59-.52 0-1.04.2-1.43.59L10.3 9.45l-7.72 7.72c-.78.78-.78 2.05 0 2.83L4 21.41c.39.39.9.59 1.41.59.51 0 1.02-.2 1.41-.59l7.78-7.78 2.81-2.81c.8-.78.8-2.07 0-2.86zM5.41 20L4 18.59l7.72-7.72 1.47 1.35L5.41 20z\"/>\n",
              "  </svg>\n",
              "      </button>\n",
              "      \n",
              "  <style>\n",
              "    .colab-df-container {\n",
              "      display:flex;\n",
              "      flex-wrap:wrap;\n",
              "      gap: 12px;\n",
              "    }\n",
              "\n",
              "    .colab-df-convert {\n",
              "      background-color: #E8F0FE;\n",
              "      border: none;\n",
              "      border-radius: 50%;\n",
              "      cursor: pointer;\n",
              "      display: none;\n",
              "      fill: #1967D2;\n",
              "      height: 32px;\n",
              "      padding: 0 0 0 0;\n",
              "      width: 32px;\n",
              "    }\n",
              "\n",
              "    .colab-df-convert:hover {\n",
              "      background-color: #E2EBFA;\n",
              "      box-shadow: 0px 1px 2px rgba(60, 64, 67, 0.3), 0px 1px 3px 1px rgba(60, 64, 67, 0.15);\n",
              "      fill: #174EA6;\n",
              "    }\n",
              "\n",
              "    [theme=dark] .colab-df-convert {\n",
              "      background-color: #3B4455;\n",
              "      fill: #D2E3FC;\n",
              "    }\n",
              "\n",
              "    [theme=dark] .colab-df-convert:hover {\n",
              "      background-color: #434B5C;\n",
              "      box-shadow: 0px 1px 3px 1px rgba(0, 0, 0, 0.15);\n",
              "      filter: drop-shadow(0px 1px 2px rgba(0, 0, 0, 0.3));\n",
              "      fill: #FFFFFF;\n",
              "    }\n",
              "  </style>\n",
              "\n",
              "      <script>\n",
              "        const buttonEl =\n",
              "          document.querySelector('#df-049cef39-5a01-4a43-9c28-7bbc2254c7d6 button.colab-df-convert');\n",
              "        buttonEl.style.display =\n",
              "          google.colab.kernel.accessAllowed ? 'block' : 'none';\n",
              "\n",
              "        async function convertToInteractive(key) {\n",
              "          const element = document.querySelector('#df-049cef39-5a01-4a43-9c28-7bbc2254c7d6');\n",
              "          const dataTable =\n",
              "            await google.colab.kernel.invokeFunction('convertToInteractive',\n",
              "                                                     [key], {});\n",
              "          if (!dataTable) return;\n",
              "\n",
              "          const docLinkHtml = 'Like what you see? Visit the ' +\n",
              "            '<a target=\"_blank\" href=https://colab.research.google.com/notebooks/data_table.ipynb>data table notebook</a>'\n",
              "            + ' to learn more about interactive tables.';\n",
              "          element.innerHTML = '';\n",
              "          dataTable['output_type'] = 'display_data';\n",
              "          await google.colab.output.renderOutput(dataTable, element);\n",
              "          const docLink = document.createElement('div');\n",
              "          docLink.innerHTML = docLinkHtml;\n",
              "          element.appendChild(docLink);\n",
              "        }\n",
              "      </script>\n",
              "    </div>\n",
              "  </div>\n",
              "  "
            ]
          },
          "metadata": {},
          "execution_count": 71
        }
      ]
    },
    {
      "cell_type": "code",
      "source": [
        "alt.Chart(source).mark_line(\n",
        "    point=alt.OverlayMarkDef(color=\"red\")\n",
        ").encode(\n",
        "    x='x',\n",
        "    y='f(x)'\n",
        ")"
      ],
      "metadata": {
        "colab": {
          "base_uri": "https://localhost:8080/",
          "height": 35
        },
        "id": "gzUOy-99mFao",
        "outputId": "c8c8fc46-51ce-4299-db55-8044937a604f"
      },
      "execution_count": 65,
      "outputs": [
        {
          "output_type": "execute_result",
          "data": {
            "text/plain": [
              "'accuracy'"
            ],
            "application/vnd.google.colaboratory.intrinsic+json": {
              "type": "string"
            }
          },
          "metadata": {},
          "execution_count": 65
        }
      ]
    },
    {
      "cell_type": "code",
      "source": [
        ""
      ],
      "metadata": {
        "id": "40Ybfr8gjMM_"
      },
      "execution_count": 47,
      "outputs": []
    },
    {
      "cell_type": "code",
      "source": [
        "\n",
        "\n",
        "\n"
      ],
      "metadata": {
        "colab": {
          "base_uri": "https://localhost:8080/",
          "height": 363
        },
        "id": "t0ITOVAf62WZ",
        "outputId": "2f315048-3ce9-458d-c7df-95c1fdc09a13"
      },
      "execution_count": 55,
      "outputs": [
        {
          "output_type": "execute_result",
          "data": {
            "text/plain": [
              "          accuracy_1    loss_1\n",
              "epoch_1     0.507937  0.710441\n",
              "epoch_2     0.529762  0.686388\n",
              "epoch_3     0.521825  0.691642\n",
              "epoch_4     0.569444  0.682483\n",
              "epoch_5     0.533730  0.684524\n",
              "epoch_6     0.543651  0.681526\n",
              "epoch_7     0.555556  0.675290\n",
              "epoch_8     0.621032  0.664600\n",
              "epoch_9     0.619048  0.657988\n",
              "epoch_10    0.658730  0.643300"
            ],
            "text/html": [
              "\n",
              "  <div id=\"df-09c7e374-0060-4abf-ad56-b37b4d0d19f8\">\n",
              "    <div class=\"colab-df-container\">\n",
              "      <div>\n",
              "<style scoped>\n",
              "    .dataframe tbody tr th:only-of-type {\n",
              "        vertical-align: middle;\n",
              "    }\n",
              "\n",
              "    .dataframe tbody tr th {\n",
              "        vertical-align: top;\n",
              "    }\n",
              "\n",
              "    .dataframe thead th {\n",
              "        text-align: right;\n",
              "    }\n",
              "</style>\n",
              "<table border=\"1\" class=\"dataframe\">\n",
              "  <thead>\n",
              "    <tr style=\"text-align: right;\">\n",
              "      <th></th>\n",
              "      <th>accuracy_1</th>\n",
              "      <th>loss_1</th>\n",
              "    </tr>\n",
              "  </thead>\n",
              "  <tbody>\n",
              "    <tr>\n",
              "      <th>epoch_1</th>\n",
              "      <td>0.507937</td>\n",
              "      <td>0.710441</td>\n",
              "    </tr>\n",
              "    <tr>\n",
              "      <th>epoch_2</th>\n",
              "      <td>0.529762</td>\n",
              "      <td>0.686388</td>\n",
              "    </tr>\n",
              "    <tr>\n",
              "      <th>epoch_3</th>\n",
              "      <td>0.521825</td>\n",
              "      <td>0.691642</td>\n",
              "    </tr>\n",
              "    <tr>\n",
              "      <th>epoch_4</th>\n",
              "      <td>0.569444</td>\n",
              "      <td>0.682483</td>\n",
              "    </tr>\n",
              "    <tr>\n",
              "      <th>epoch_5</th>\n",
              "      <td>0.533730</td>\n",
              "      <td>0.684524</td>\n",
              "    </tr>\n",
              "    <tr>\n",
              "      <th>epoch_6</th>\n",
              "      <td>0.543651</td>\n",
              "      <td>0.681526</td>\n",
              "    </tr>\n",
              "    <tr>\n",
              "      <th>epoch_7</th>\n",
              "      <td>0.555556</td>\n",
              "      <td>0.675290</td>\n",
              "    </tr>\n",
              "    <tr>\n",
              "      <th>epoch_8</th>\n",
              "      <td>0.621032</td>\n",
              "      <td>0.664600</td>\n",
              "    </tr>\n",
              "    <tr>\n",
              "      <th>epoch_9</th>\n",
              "      <td>0.619048</td>\n",
              "      <td>0.657988</td>\n",
              "    </tr>\n",
              "    <tr>\n",
              "      <th>epoch_10</th>\n",
              "      <td>0.658730</td>\n",
              "      <td>0.643300</td>\n",
              "    </tr>\n",
              "  </tbody>\n",
              "</table>\n",
              "</div>\n",
              "      <button class=\"colab-df-convert\" onclick=\"convertToInteractive('df-09c7e374-0060-4abf-ad56-b37b4d0d19f8')\"\n",
              "              title=\"Convert this dataframe to an interactive table.\"\n",
              "              style=\"display:none;\">\n",
              "        \n",
              "  <svg xmlns=\"http://www.w3.org/2000/svg\" height=\"24px\"viewBox=\"0 0 24 24\"\n",
              "       width=\"24px\">\n",
              "    <path d=\"M0 0h24v24H0V0z\" fill=\"none\"/>\n",
              "    <path d=\"M18.56 5.44l.94 2.06.94-2.06 2.06-.94-2.06-.94-.94-2.06-.94 2.06-2.06.94zm-11 1L8.5 8.5l.94-2.06 2.06-.94-2.06-.94L8.5 2.5l-.94 2.06-2.06.94zm10 10l.94 2.06.94-2.06 2.06-.94-2.06-.94-.94-2.06-.94 2.06-2.06.94z\"/><path d=\"M17.41 7.96l-1.37-1.37c-.4-.4-.92-.59-1.43-.59-.52 0-1.04.2-1.43.59L10.3 9.45l-7.72 7.72c-.78.78-.78 2.05 0 2.83L4 21.41c.39.39.9.59 1.41.59.51 0 1.02-.2 1.41-.59l7.78-7.78 2.81-2.81c.8-.78.8-2.07 0-2.86zM5.41 20L4 18.59l7.72-7.72 1.47 1.35L5.41 20z\"/>\n",
              "  </svg>\n",
              "      </button>\n",
              "      \n",
              "  <style>\n",
              "    .colab-df-container {\n",
              "      display:flex;\n",
              "      flex-wrap:wrap;\n",
              "      gap: 12px;\n",
              "    }\n",
              "\n",
              "    .colab-df-convert {\n",
              "      background-color: #E8F0FE;\n",
              "      border: none;\n",
              "      border-radius: 50%;\n",
              "      cursor: pointer;\n",
              "      display: none;\n",
              "      fill: #1967D2;\n",
              "      height: 32px;\n",
              "      padding: 0 0 0 0;\n",
              "      width: 32px;\n",
              "    }\n",
              "\n",
              "    .colab-df-convert:hover {\n",
              "      background-color: #E2EBFA;\n",
              "      box-shadow: 0px 1px 2px rgba(60, 64, 67, 0.3), 0px 1px 3px 1px rgba(60, 64, 67, 0.15);\n",
              "      fill: #174EA6;\n",
              "    }\n",
              "\n",
              "    [theme=dark] .colab-df-convert {\n",
              "      background-color: #3B4455;\n",
              "      fill: #D2E3FC;\n",
              "    }\n",
              "\n",
              "    [theme=dark] .colab-df-convert:hover {\n",
              "      background-color: #434B5C;\n",
              "      box-shadow: 0px 1px 3px 1px rgba(0, 0, 0, 0.15);\n",
              "      filter: drop-shadow(0px 1px 2px rgba(0, 0, 0, 0.3));\n",
              "      fill: #FFFFFF;\n",
              "    }\n",
              "  </style>\n",
              "\n",
              "      <script>\n",
              "        const buttonEl =\n",
              "          document.querySelector('#df-09c7e374-0060-4abf-ad56-b37b4d0d19f8 button.colab-df-convert');\n",
              "        buttonEl.style.display =\n",
              "          google.colab.kernel.accessAllowed ? 'block' : 'none';\n",
              "\n",
              "        async function convertToInteractive(key) {\n",
              "          const element = document.querySelector('#df-09c7e374-0060-4abf-ad56-b37b4d0d19f8');\n",
              "          const dataTable =\n",
              "            await google.colab.kernel.invokeFunction('convertToInteractive',\n",
              "                                                     [key], {});\n",
              "          if (!dataTable) return;\n",
              "\n",
              "          const docLinkHtml = 'Like what you see? Visit the ' +\n",
              "            '<a target=\"_blank\" href=https://colab.research.google.com/notebooks/data_table.ipynb>data table notebook</a>'\n",
              "            + ' to learn more about interactive tables.';\n",
              "          element.innerHTML = '';\n",
              "          dataTable['output_type'] = 'display_data';\n",
              "          await google.colab.output.renderOutput(dataTable, element);\n",
              "          const docLink = document.createElement('div');\n",
              "          docLink.innerHTML = docLinkHtml;\n",
              "          element.appendChild(docLink);\n",
              "        }\n",
              "      </script>\n",
              "    </div>\n",
              "  </div>\n",
              "  "
            ]
          },
          "metadata": {},
          "execution_count": 55
        }
      ]
    },
    {
      "cell_type": "code",
      "source": [
        "# [y.item() for y in [x for x in df['accuracy']]]\n",
        "\n",
        "acc_list = []\n",
        "for x in df['accuracy']:\n",
        "  temp_sum = 0\n",
        "  for y in x:\n",
        "    temp_sum += y.item()\n",
        "  acc_list.append(temp_sum/len(x))\n",
        "\n",
        "acc_list\n",
        "\n"
      ],
      "metadata": {
        "colab": {
          "base_uri": "https://localhost:8080/"
        },
        "id": "4Jn9wRVg62qq",
        "outputId": "326fefd4-1e61-4e03-f9ec-ac13b7e86b4a"
      },
      "execution_count": 39,
      "outputs": [
        {
          "output_type": "execute_result",
          "data": {
            "text/plain": [
              "[0.5079365032059806,\n",
              " 0.5297619104385376,\n",
              " 0.5218254008463451,\n",
              " 0.5694444456270763,\n",
              " 0.5337301641702652,\n",
              " 0.5436507953064782,\n",
              " 0.555555556501661,\n",
              " 0.6210317526544843,\n",
              " 0.6190476247242519,\n",
              " 0.6587301535265786]"
            ]
          },
          "metadata": {},
          "execution_count": 39
        }
      ]
    },
    {
      "cell_type": "code",
      "source": [
        ""
      ],
      "metadata": {
        "id": "AkwsL00z7lfy"
      },
      "execution_count": 75,
      "outputs": []
    },
    {
      "cell_type": "code",
      "source": [
        ""
      ],
      "metadata": {
        "id": "cO2fEkJOK8tU"
      },
      "execution_count": null,
      "outputs": []
    },
    {
      "cell_type": "code",
      "source": [
        ""
      ],
      "metadata": {
        "id": "v3usgfdTK8rA"
      },
      "execution_count": null,
      "outputs": []
    },
    {
      "cell_type": "code",
      "source": [
        ""
      ],
      "metadata": {
        "id": "OEaTKLhrK8ob"
      },
      "execution_count": null,
      "outputs": []
    },
    {
      "cell_type": "code",
      "source": [
        ""
      ],
      "metadata": {
        "id": "IqF4zxCiK8l5"
      },
      "execution_count": null,
      "outputs": []
    },
    {
      "cell_type": "code",
      "source": [
        ""
      ],
      "metadata": {
        "id": "T_3sZKhxK8jF"
      },
      "execution_count": null,
      "outputs": []
    },
    {
      "cell_type": "markdown",
      "source": [
        "## To do finishing up\n",
        "- Finish training the model on training data and save it\n",
        "- Put all metrics in the same dictionary or dataframe for the first round of training with 10 epochs\n",
        "- Build visualizations for epoch accuracies during training\n",
        "\n",
        "\n",
        "\n",
        "For Validation and Testing\n",
        " - Import validation dataset\n",
        " - Change metrics dictionary to contain predictions\n",
        " - Run and train on validation set\n",
        " \n",
        "\n",
        " Other\n",
        " - Do write-up~"
      ],
      "metadata": {
        "id": "-BzmBALSK9LJ"
      }
    },
    {
      "cell_type": "code",
      "source": [
        ""
      ],
      "metadata": {
        "id": "YSKSqei8K9iO"
      },
      "execution_count": null,
      "outputs": []
    }
  ],
  "metadata": {
    "colab": {
      "machine_shape": "hm",
      "name": "visualization_playground.ipynb",
      "provenance": [],
      "include_colab_link": true
    },
    "kernelspec": {
      "display_name": "Python 3",
      "name": "python3"
    },
    "language_info": {
      "name": "python"
    }
  },
  "nbformat": 4,
  "nbformat_minor": 0
}
