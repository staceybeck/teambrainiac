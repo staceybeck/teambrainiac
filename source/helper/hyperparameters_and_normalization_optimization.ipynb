{
  "cells": [
    {
      "cell_type": "markdown",
      "metadata": {
        "id": "view-in-github",
        "colab_type": "text"
      },
      "source": [
        "<a href=\"https://colab.research.google.com/github/yecatstevir/teambrainiac/blob/main/source/helper/hyperparameters_and_normalization_optimization.ipynb\" target=\"_parent\"><img src=\"https://colab.research.google.com/assets/colab-badge.svg\" alt=\"Open In Colab\"/></a>"
      ]
    },
    {
      "cell_type": "markdown",
      "metadata": {
        "id": "f_wDm122NTXY"
      },
      "source": [
        "# Grid Search Results\n",
        "- Go to 'Runtime' in Colab browser bar, select 'Change Runtime Type', select 'High-RAM' from 'Runtime Shape'. \n",
        "- load local pickle file containing all GridSearchCV objects (single_subject_znorm_cv.pkl)\n",
        "- Check results from GridSearchCV for each patient"
      ]
    },
    {
      "cell_type": "markdown",
      "metadata": {
        "id": "c284FIeHNcR2"
      },
      "source": [
        "### Mount Google Drive and clone repository\n",
        "- open to source directory"
      ]
    },
    {
      "cell_type": "code",
      "execution_count": null,
      "metadata": {
        "colab": {
          "base_uri": "https://localhost:8080/"
        },
        "id": "mIfcjimGzIZo",
        "outputId": "50b3872a-f786-465b-f926-591b9d458be4"
      },
      "outputs": [
        {
          "output_type": "stream",
          "name": "stdout",
          "text": [
            "Mounted at /content/gdrive\n"
          ]
        }
      ],
      "source": [
        "from google.colab import drive\n",
        "drive.mount('/content/gdrive')#, force_remount = True)"
      ]
    },
    {
      "cell_type": "code",
      "execution_count": null,
      "metadata": {
        "colab": {
          "base_uri": "https://localhost:8080/"
        },
        "id": "D5eq9qyKMTp_",
        "outputId": "2f57165c-6762-41d5-fff3-24c586b0da82"
      },
      "outputs": [
        {
          "output_type": "stream",
          "name": "stdout",
          "text": [
            "Mounted at /content/drive\n"
          ]
        }
      ],
      "source": [
        "\n",
        "from google.colab import drive\n",
        "drive.mount('/content/drive', force_remount=True)"
      ]
    },
    {
      "cell_type": "code",
      "execution_count": null,
      "metadata": {
        "colab": {
          "base_uri": "https://localhost:8080/"
        },
        "id": "lh0DqCU10r3n",
        "outputId": "9bac777c-414a-4968-839c-a47c8466ae02"
      },
      "outputs": [
        {
          "output_type": "stream",
          "name": "stdout",
          "text": [
            "Cloning into 'teambrainiac'...\n",
            "warning: --local is ignored\n",
            "remote: Enumerating objects: 588, done.\u001b[K\n",
            "remote: Counting objects: 100% (588/588), done.\u001b[K\n",
            "remote: Compressing objects: 100% (409/409), done.\u001b[K\n",
            "remote: Total 588 (delta 356), reused 335 (delta 163), pack-reused 0\u001b[K\n",
            "Receiving objects: 100% (588/588), 61.73 MiB | 41.86 MiB/s, done.\n",
            "Resolving deltas: 100% (356/356), done.\n",
            "/content/teambrainiac/source\n",
            "AccuracyMeasures.ipynb\t  __init__.py\n",
            "cross_validation.py\t  models\n",
            "data\t\t\t  process.py\n",
            "DL\t\t\t  SingleSubjectSVM.ipynb\n",
            "Explore_data.ipynb\t  SVM_Group_Child_Whole_Brain.ipynb\n",
            "explore.py\t\t  SVM_Group_YA_Whole_brain.ipynb\n",
            "Group_All_MASK_SVM.ipynb  utils.py\n",
            "helper\t\t\t  VisualizationPlayground.ipynb\n",
            "Images\t\t\t  Visualize_Data.ipynb\n"
          ]
        }
      ],
      "source": [
        "# Clone the entire repo.\n",
        "!git clone -l -s https://github.com/yecatstevir/teambrainiac.git\n",
        "# Change directory into cloned repo\n",
        "%cd teambrainiac/source\n",
        "!ls\n"
      ]
    },
    {
      "cell_type": "markdown",
      "metadata": {
        "id": "zadD_dOPPjQm"
      },
      "source": [
        "### Load path_config.py \n",
        "- we are already in source so we can just load this file without chanding directory"
      ]
    },
    {
      "cell_type": "code",
      "execution_count": null,
      "metadata": {
        "colab": {
          "base_uri": "https://localhost:8080/",
          "height": 90,
          "resources": {
            "http://localhost:8080/nbextensions/google.colab/files.js": {
              "data": "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",
              "headers": [
                [
                  "content-type",
                  "application/javascript"
                ]
              ],
              "ok": true,
              "status": 200,
              "status_text": ""
            }
          }
        },
        "id": "u_2qZqNJPLkn",
        "outputId": "a86f7df7-beaf-4029-e72e-0384fefabbc5"
      },
      "outputs": [
        {
          "output_type": "display_data",
          "data": {
            "text/plain": [
              "<IPython.core.display.HTML object>"
            ],
            "text/html": [
              "\n",
              "     <input type=\"file\" id=\"files-aba385eb-d4b4-4c84-a290-26ea48f84042\" name=\"files[]\" multiple disabled\n",
              "        style=\"border:none\" />\n",
              "     <output id=\"result-aba385eb-d4b4-4c84-a290-26ea48f84042\">\n",
              "      Upload widget is only available when the cell has been executed in the\n",
              "      current browser session. Please rerun this cell to enable.\n",
              "      </output>\n",
              "      <script src=\"/nbextensions/google.colab/files.js\"></script> "
            ]
          },
          "metadata": {}
        },
        {
          "output_type": "stream",
          "name": "stdout",
          "text": [
            "Saving path_config.py to path_config.py\n",
            "User uploaded file \"path_config.py\" with length 196 bytes\n"
          ]
        }
      ],
      "source": [
        "from google.colab import files\n",
        "\n",
        "uploaded = files.upload()\n",
        "\n",
        "for fn in uploaded.keys():\n",
        "  print('User uploaded file \"{name}\" with length {length} bytes'.format(\n",
        "      name=fn, length=len(uploaded[fn])))"
      ]
    },
    {
      "cell_type": "markdown",
      "metadata": {
        "id": "8cxzhagpPuBk"
      },
      "source": [
        "### Load the individual clf's from the gridsearchcv\n",
        "- filename single_subject_znorm_cv.pkl"
      ]
    },
    {
      "cell_type": "markdown",
      "metadata": {
        "id": "_cmYZ22BNj8h"
      },
      "source": [
        "### Import libraries\n"
      ]
    },
    {
      "cell_type": "code",
      "execution_count": null,
      "metadata": {
        "colab": {
          "base_uri": "https://localhost:8080/"
        },
        "id": "abHr7oUl06ED",
        "outputId": "42304ea7-0293-48a2-a49f-1ada5c4af932"
      },
      "outputs": [
        {
          "output_type": "stream",
          "name": "stdout",
          "text": [
            "Requirement already satisfied: boto3 in /usr/local/lib/python3.7/dist-packages (1.21.34)\n",
            "Requirement already satisfied: nilearn in /usr/local/lib/python3.7/dist-packages (0.9.0)\n",
            "Requirement already satisfied: nibabel in /usr/local/lib/python3.7/dist-packages (3.0.2)\n",
            "Requirement already satisfied: botocore<1.25.0,>=1.24.34 in /usr/local/lib/python3.7/dist-packages (from boto3) (1.24.34)\n",
            "Requirement already satisfied: jmespath<2.0.0,>=0.7.1 in /usr/local/lib/python3.7/dist-packages (from boto3) (1.0.0)\n",
            "Requirement already satisfied: s3transfer<0.6.0,>=0.5.0 in /usr/local/lib/python3.7/dist-packages (from boto3) (0.5.2)\n",
            "Requirement already satisfied: urllib3<1.27,>=1.25.4 in /usr/local/lib/python3.7/dist-packages (from botocore<1.25.0,>=1.24.34->boto3) (1.25.11)\n",
            "Requirement already satisfied: python-dateutil<3.0.0,>=2.1 in /usr/local/lib/python3.7/dist-packages (from botocore<1.25.0,>=1.24.34->boto3) (2.8.2)\n",
            "Requirement already satisfied: six>=1.5 in /usr/local/lib/python3.7/dist-packages (from python-dateutil<3.0.0,>=2.1->botocore<1.25.0,>=1.24.34->boto3) (1.15.0)\n",
            "Requirement already satisfied: scikit-learn>=0.21 in /usr/local/lib/python3.7/dist-packages (from nilearn) (1.0.2)\n",
            "Requirement already satisfied: requests>=2 in /usr/local/lib/python3.7/dist-packages (from nilearn) (2.23.0)\n",
            "Requirement already satisfied: numpy>=1.16 in /usr/local/lib/python3.7/dist-packages (from nilearn) (1.21.5)\n",
            "Requirement already satisfied: scipy>=1.2 in /usr/local/lib/python3.7/dist-packages (from nilearn) (1.4.1)\n",
            "Requirement already satisfied: joblib>=0.12 in /usr/local/lib/python3.7/dist-packages (from nilearn) (1.1.0)\n",
            "Requirement already satisfied: pandas>=0.24.0 in /usr/local/lib/python3.7/dist-packages (from nilearn) (1.3.5)\n",
            "Requirement already satisfied: pytz>=2017.3 in /usr/local/lib/python3.7/dist-packages (from pandas>=0.24.0->nilearn) (2018.9)\n",
            "Requirement already satisfied: certifi>=2017.4.17 in /usr/local/lib/python3.7/dist-packages (from requests>=2->nilearn) (2021.10.8)\n",
            "Requirement already satisfied: idna<3,>=2.5 in /usr/local/lib/python3.7/dist-packages (from requests>=2->nilearn) (2.10)\n",
            "Requirement already satisfied: chardet<4,>=3.0.2 in /usr/local/lib/python3.7/dist-packages (from requests>=2->nilearn) (3.0.4)\n",
            "Requirement already satisfied: threadpoolctl>=2.0.0 in /usr/local/lib/python3.7/dist-packages (from scikit-learn>=0.21->nilearn) (3.1.0)\n"
          ]
        }
      ],
      "source": [
        "\n",
        "# Import libraries\n",
        "!pip install boto3 nilearn nibabel\n",
        "from sklearn.model_selection import GridSearchCV\n",
        "import pickle\n",
        "from utils import data_to_nib, load_mat, open_pickle, access_load_data, save_data, create_mask, labels_mask_binary, masking_data, masked_data_n_labels\n",
        "from sklearn.svm import SVC\n",
        "import numpy as np\n",
        "import pandas as pd\n",
        "import random\n",
        "import cv2 as cv\n",
        "import altair as alt"
      ]
    },
    {
      "cell_type": "markdown",
      "metadata": {
        "id": "fZVh3WQeMk1c"
      },
      "source": [
        "### Load Data from AWS"
      ]
    },
    {
      "cell_type": "code",
      "execution_count": null,
      "metadata": {
        "colab": {
          "base_uri": "https://localhost:8080/"
        },
        "id": "o7bAfdj7K7Md",
        "outputId": "cefd56a8-a3e3-4ecc-c227-8f2a922133af"
      },
      "outputs": [
        {
          "output_type": "stream",
          "name": "stdout",
          "text": [
            "CPU times: user 25 s, sys: 28.3 s, total: 53.3 s\n",
            "Wall time: 1min 26s\n"
          ]
        }
      ],
      "source": [
        "%%time\n",
        "pkl_file = \"single_subject_znorm_cv.pkl\"\n",
        "bool_mat = False\n",
        "data = access_load_data(pkl_file, bool_mat)"
      ]
    },
    {
      "cell_type": "code",
      "execution_count": null,
      "metadata": {
        "colab": {
          "base_uri": "https://localhost:8080/",
          "height": 206
        },
        "id": "_XiVJGI99vfv",
        "outputId": "0def60f8-8200-416b-dfae-e1753ad9daac"
      },
      "outputs": [
        {
          "output_type": "execute_result",
          "data": {
            "text/plain": [
              "       user_id     score    C  kernel  random_state\n",
              "0  10004_08693  0.702941  0.7  linear           111\n",
              "1  10004_08693  0.702941  0.7  linear           222\n",
              "2  10004_08693  0.832353  0.7     rbf           111\n",
              "3  10004_08693  0.832353  0.7     rbf           222\n",
              "4  10004_08693  0.702941  1.0  linear           111"
            ],
            "text/html": [
              "\n",
              "  <div id=\"df-99a8e4e9-5795-4f7d-8e01-32a34613c384\">\n",
              "    <div class=\"colab-df-container\">\n",
              "      <div>\n",
              "<style scoped>\n",
              "    .dataframe tbody tr th:only-of-type {\n",
              "        vertical-align: middle;\n",
              "    }\n",
              "\n",
              "    .dataframe tbody tr th {\n",
              "        vertical-align: top;\n",
              "    }\n",
              "\n",
              "    .dataframe thead th {\n",
              "        text-align: right;\n",
              "    }\n",
              "</style>\n",
              "<table border=\"1\" class=\"dataframe\">\n",
              "  <thead>\n",
              "    <tr style=\"text-align: right;\">\n",
              "      <th></th>\n",
              "      <th>user_id</th>\n",
              "      <th>score</th>\n",
              "      <th>C</th>\n",
              "      <th>kernel</th>\n",
              "      <th>random_state</th>\n",
              "    </tr>\n",
              "  </thead>\n",
              "  <tbody>\n",
              "    <tr>\n",
              "      <th>0</th>\n",
              "      <td>10004_08693</td>\n",
              "      <td>0.702941</td>\n",
              "      <td>0.7</td>\n",
              "      <td>linear</td>\n",
              "      <td>111</td>\n",
              "    </tr>\n",
              "    <tr>\n",
              "      <th>1</th>\n",
              "      <td>10004_08693</td>\n",
              "      <td>0.702941</td>\n",
              "      <td>0.7</td>\n",
              "      <td>linear</td>\n",
              "      <td>222</td>\n",
              "    </tr>\n",
              "    <tr>\n",
              "      <th>2</th>\n",
              "      <td>10004_08693</td>\n",
              "      <td>0.832353</td>\n",
              "      <td>0.7</td>\n",
              "      <td>rbf</td>\n",
              "      <td>111</td>\n",
              "    </tr>\n",
              "    <tr>\n",
              "      <th>3</th>\n",
              "      <td>10004_08693</td>\n",
              "      <td>0.832353</td>\n",
              "      <td>0.7</td>\n",
              "      <td>rbf</td>\n",
              "      <td>222</td>\n",
              "    </tr>\n",
              "    <tr>\n",
              "      <th>4</th>\n",
              "      <td>10004_08693</td>\n",
              "      <td>0.702941</td>\n",
              "      <td>1.0</td>\n",
              "      <td>linear</td>\n",
              "      <td>111</td>\n",
              "    </tr>\n",
              "  </tbody>\n",
              "</table>\n",
              "</div>\n",
              "      <button class=\"colab-df-convert\" onclick=\"convertToInteractive('df-99a8e4e9-5795-4f7d-8e01-32a34613c384')\"\n",
              "              title=\"Convert this dataframe to an interactive table.\"\n",
              "              style=\"display:none;\">\n",
              "        \n",
              "  <svg xmlns=\"http://www.w3.org/2000/svg\" height=\"24px\"viewBox=\"0 0 24 24\"\n",
              "       width=\"24px\">\n",
              "    <path d=\"M0 0h24v24H0V0z\" fill=\"none\"/>\n",
              "    <path d=\"M18.56 5.44l.94 2.06.94-2.06 2.06-.94-2.06-.94-.94-2.06-.94 2.06-2.06.94zm-11 1L8.5 8.5l.94-2.06 2.06-.94-2.06-.94L8.5 2.5l-.94 2.06-2.06.94zm10 10l.94 2.06.94-2.06 2.06-.94-2.06-.94-.94-2.06-.94 2.06-2.06.94z\"/><path d=\"M17.41 7.96l-1.37-1.37c-.4-.4-.92-.59-1.43-.59-.52 0-1.04.2-1.43.59L10.3 9.45l-7.72 7.72c-.78.78-.78 2.05 0 2.83L4 21.41c.39.39.9.59 1.41.59.51 0 1.02-.2 1.41-.59l7.78-7.78 2.81-2.81c.8-.78.8-2.07 0-2.86zM5.41 20L4 18.59l7.72-7.72 1.47 1.35L5.41 20z\"/>\n",
              "  </svg>\n",
              "      </button>\n",
              "      \n",
              "  <style>\n",
              "    .colab-df-container {\n",
              "      display:flex;\n",
              "      flex-wrap:wrap;\n",
              "      gap: 12px;\n",
              "    }\n",
              "\n",
              "    .colab-df-convert {\n",
              "      background-color: #E8F0FE;\n",
              "      border: none;\n",
              "      border-radius: 50%;\n",
              "      cursor: pointer;\n",
              "      display: none;\n",
              "      fill: #1967D2;\n",
              "      height: 32px;\n",
              "      padding: 0 0 0 0;\n",
              "      width: 32px;\n",
              "    }\n",
              "\n",
              "    .colab-df-convert:hover {\n",
              "      background-color: #E2EBFA;\n",
              "      box-shadow: 0px 1px 2px rgba(60, 64, 67, 0.3), 0px 1px 3px 1px rgba(60, 64, 67, 0.15);\n",
              "      fill: #174EA6;\n",
              "    }\n",
              "\n",
              "    [theme=dark] .colab-df-convert {\n",
              "      background-color: #3B4455;\n",
              "      fill: #D2E3FC;\n",
              "    }\n",
              "\n",
              "    [theme=dark] .colab-df-convert:hover {\n",
              "      background-color: #434B5C;\n",
              "      box-shadow: 0px 1px 3px 1px rgba(0, 0, 0, 0.15);\n",
              "      filter: drop-shadow(0px 1px 2px rgba(0, 0, 0, 0.3));\n",
              "      fill: #FFFFFF;\n",
              "    }\n",
              "  </style>\n",
              "\n",
              "      <script>\n",
              "        const buttonEl =\n",
              "          document.querySelector('#df-99a8e4e9-5795-4f7d-8e01-32a34613c384 button.colab-df-convert');\n",
              "        buttonEl.style.display =\n",
              "          google.colab.kernel.accessAllowed ? 'block' : 'none';\n",
              "\n",
              "        async function convertToInteractive(key) {\n",
              "          const element = document.querySelector('#df-99a8e4e9-5795-4f7d-8e01-32a34613c384');\n",
              "          const dataTable =\n",
              "            await google.colab.kernel.invokeFunction('convertToInteractive',\n",
              "                                                     [key], {});\n",
              "          if (!dataTable) return;\n",
              "\n",
              "          const docLinkHtml = 'Like what you see? Visit the ' +\n",
              "            '<a target=\"_blank\" href=https://colab.research.google.com/notebooks/data_table.ipynb>data table notebook</a>'\n",
              "            + ' to learn more about interactive tables.';\n",
              "          element.innerHTML = '';\n",
              "          dataTable['output_type'] = 'display_data';\n",
              "          await google.colab.output.renderOutput(dataTable, element);\n",
              "          const docLink = document.createElement('div');\n",
              "          docLink.innerHTML = docLinkHtml;\n",
              "          element.appendChild(docLink);\n",
              "        }\n",
              "      </script>\n",
              "    </div>\n",
              "  </div>\n",
              "  "
            ]
          },
          "metadata": {},
          "execution_count": 25
        }
      ],
      "source": [
        "# Create dataframe from cross validation results\n",
        "index = 0\n",
        "\n",
        "cv_columns = ['user_id', 'score', 'C', 'kernel', 'random_state']\n",
        "results = {}\n",
        "\n",
        "for id in data.keys():\n",
        "  user_clf = data[id]['model']\n",
        "  ids = [id for x in range(len(user_clf.cv_results_['params']))]\n",
        "  score = user_clf.cv_results_['mean_test_score']\n",
        "  C = [x['C'] for x in user_clf.cv_results_['params']]\n",
        "  kernel = [x['kernel'] for x in user_clf.cv_results_['params']]\n",
        "  random_state = [x['random_state'] for x in user_clf.cv_results_['params']]\n",
        "  for row in zip(ids, score, C, kernel, random_state):\n",
        "    results[index] = row\n",
        "    index += 1\n",
        "\n",
        "df_results = pd.DataFrame.from_dict(results, orient='index', columns=cv_columns)\n",
        "df_results.head() "
      ]
    },
    {
      "cell_type": "markdown",
      "source": [
        "## Looking at Cross Validation Results\n"
      ],
      "metadata": {
        "id": "--PW8cRGwRMm"
      }
    },
    {
      "cell_type": "code",
      "execution_count": null,
      "metadata": {
        "id": "YwJQ-eCGifbH",
        "colab": {
          "base_uri": "https://localhost:8080/",
          "height": 206
        },
        "outputId": "7fb37fb3-cd24-4105-917d-f4f8ca30924d"
      },
      "outputs": [
        {
          "output_type": "execute_result",
          "data": {
            "text/plain": [
              "       user_id     score    C  kernel\n",
              "0  10004_08693  0.702941  0.7  linear\n",
              "2  10004_08693  0.832353  0.7     rbf\n",
              "4  10004_08693  0.702941  1.0  linear\n",
              "6  10004_08693  0.869118  1.0     rbf\n",
              "8  10004_08693  0.702941  5.0  linear"
            ],
            "text/html": [
              "\n",
              "  <div id=\"df-60ef42d1-f73c-4c80-851f-7ec3e4027b3d\">\n",
              "    <div class=\"colab-df-container\">\n",
              "      <div>\n",
              "<style scoped>\n",
              "    .dataframe tbody tr th:only-of-type {\n",
              "        vertical-align: middle;\n",
              "    }\n",
              "\n",
              "    .dataframe tbody tr th {\n",
              "        vertical-align: top;\n",
              "    }\n",
              "\n",
              "    .dataframe thead th {\n",
              "        text-align: right;\n",
              "    }\n",
              "</style>\n",
              "<table border=\"1\" class=\"dataframe\">\n",
              "  <thead>\n",
              "    <tr style=\"text-align: right;\">\n",
              "      <th></th>\n",
              "      <th>user_id</th>\n",
              "      <th>score</th>\n",
              "      <th>C</th>\n",
              "      <th>kernel</th>\n",
              "    </tr>\n",
              "  </thead>\n",
              "  <tbody>\n",
              "    <tr>\n",
              "      <th>0</th>\n",
              "      <td>10004_08693</td>\n",
              "      <td>0.702941</td>\n",
              "      <td>0.7</td>\n",
              "      <td>linear</td>\n",
              "    </tr>\n",
              "    <tr>\n",
              "      <th>2</th>\n",
              "      <td>10004_08693</td>\n",
              "      <td>0.832353</td>\n",
              "      <td>0.7</td>\n",
              "      <td>rbf</td>\n",
              "    </tr>\n",
              "    <tr>\n",
              "      <th>4</th>\n",
              "      <td>10004_08693</td>\n",
              "      <td>0.702941</td>\n",
              "      <td>1.0</td>\n",
              "      <td>linear</td>\n",
              "    </tr>\n",
              "    <tr>\n",
              "      <th>6</th>\n",
              "      <td>10004_08693</td>\n",
              "      <td>0.869118</td>\n",
              "      <td>1.0</td>\n",
              "      <td>rbf</td>\n",
              "    </tr>\n",
              "    <tr>\n",
              "      <th>8</th>\n",
              "      <td>10004_08693</td>\n",
              "      <td>0.702941</td>\n",
              "      <td>5.0</td>\n",
              "      <td>linear</td>\n",
              "    </tr>\n",
              "  </tbody>\n",
              "</table>\n",
              "</div>\n",
              "      <button class=\"colab-df-convert\" onclick=\"convertToInteractive('df-60ef42d1-f73c-4c80-851f-7ec3e4027b3d')\"\n",
              "              title=\"Convert this dataframe to an interactive table.\"\n",
              "              style=\"display:none;\">\n",
              "        \n",
              "  <svg xmlns=\"http://www.w3.org/2000/svg\" height=\"24px\"viewBox=\"0 0 24 24\"\n",
              "       width=\"24px\">\n",
              "    <path d=\"M0 0h24v24H0V0z\" fill=\"none\"/>\n",
              "    <path d=\"M18.56 5.44l.94 2.06.94-2.06 2.06-.94-2.06-.94-.94-2.06-.94 2.06-2.06.94zm-11 1L8.5 8.5l.94-2.06 2.06-.94-2.06-.94L8.5 2.5l-.94 2.06-2.06.94zm10 10l.94 2.06.94-2.06 2.06-.94-2.06-.94-.94-2.06-.94 2.06-2.06.94z\"/><path d=\"M17.41 7.96l-1.37-1.37c-.4-.4-.92-.59-1.43-.59-.52 0-1.04.2-1.43.59L10.3 9.45l-7.72 7.72c-.78.78-.78 2.05 0 2.83L4 21.41c.39.39.9.59 1.41.59.51 0 1.02-.2 1.41-.59l7.78-7.78 2.81-2.81c.8-.78.8-2.07 0-2.86zM5.41 20L4 18.59l7.72-7.72 1.47 1.35L5.41 20z\"/>\n",
              "  </svg>\n",
              "      </button>\n",
              "      \n",
              "  <style>\n",
              "    .colab-df-container {\n",
              "      display:flex;\n",
              "      flex-wrap:wrap;\n",
              "      gap: 12px;\n",
              "    }\n",
              "\n",
              "    .colab-df-convert {\n",
              "      background-color: #E8F0FE;\n",
              "      border: none;\n",
              "      border-radius: 50%;\n",
              "      cursor: pointer;\n",
              "      display: none;\n",
              "      fill: #1967D2;\n",
              "      height: 32px;\n",
              "      padding: 0 0 0 0;\n",
              "      width: 32px;\n",
              "    }\n",
              "\n",
              "    .colab-df-convert:hover {\n",
              "      background-color: #E2EBFA;\n",
              "      box-shadow: 0px 1px 2px rgba(60, 64, 67, 0.3), 0px 1px 3px 1px rgba(60, 64, 67, 0.15);\n",
              "      fill: #174EA6;\n",
              "    }\n",
              "\n",
              "    [theme=dark] .colab-df-convert {\n",
              "      background-color: #3B4455;\n",
              "      fill: #D2E3FC;\n",
              "    }\n",
              "\n",
              "    [theme=dark] .colab-df-convert:hover {\n",
              "      background-color: #434B5C;\n",
              "      box-shadow: 0px 1px 3px 1px rgba(0, 0, 0, 0.15);\n",
              "      filter: drop-shadow(0px 1px 2px rgba(0, 0, 0, 0.3));\n",
              "      fill: #FFFFFF;\n",
              "    }\n",
              "  </style>\n",
              "\n",
              "      <script>\n",
              "        const buttonEl =\n",
              "          document.querySelector('#df-60ef42d1-f73c-4c80-851f-7ec3e4027b3d button.colab-df-convert');\n",
              "        buttonEl.style.display =\n",
              "          google.colab.kernel.accessAllowed ? 'block' : 'none';\n",
              "\n",
              "        async function convertToInteractive(key) {\n",
              "          const element = document.querySelector('#df-60ef42d1-f73c-4c80-851f-7ec3e4027b3d');\n",
              "          const dataTable =\n",
              "            await google.colab.kernel.invokeFunction('convertToInteractive',\n",
              "                                                     [key], {});\n",
              "          if (!dataTable) return;\n",
              "\n",
              "          const docLinkHtml = 'Like what you see? Visit the ' +\n",
              "            '<a target=\"_blank\" href=https://colab.research.google.com/notebooks/data_table.ipynb>data table notebook</a>'\n",
              "            + ' to learn more about interactive tables.';\n",
              "          element.innerHTML = '';\n",
              "          dataTable['output_type'] = 'display_data';\n",
              "          await google.colab.output.renderOutput(dataTable, element);\n",
              "          const docLink = document.createElement('div');\n",
              "          docLink.innerHTML = docLinkHtml;\n",
              "          element.appendChild(docLink);\n",
              "        }\n",
              "      </script>\n",
              "    </div>\n",
              "  </div>\n",
              "  "
            ]
          },
          "metadata": {},
          "execution_count": 30
        }
      ],
      "source": [
        "# Note that changing the random state did not have an effect on the score\n",
        "# Deleting random state duplicates to simplify dataframe\n",
        "df_results = df_results[df_results['random_state']==111]\n",
        "df_results = df_results.drop(['random_state'], axis=1)\n",
        "df_results.head()"
      ]
    },
    {
      "cell_type": "code",
      "source": [
        ""
      ],
      "metadata": {
        "colab": {
          "base_uri": "https://localhost:8080/",
          "height": 321
        },
        "id": "xk3nIfvgz6Zk",
        "outputId": "136d66af-a896-470a-947e-f83f831343db"
      },
      "execution_count": null,
      "outputs": [
        {
          "output_type": "error",
          "ename": "AttributeError",
          "evalue": "ignored",
          "traceback": [
            "\u001b[0;31m---------------------------------------------------------------------------\u001b[0m",
            "\u001b[0;31mAttributeError\u001b[0m                            Traceback (most recent call last)",
            "\u001b[0;32m<ipython-input-42-7c37560a6253>\u001b[0m in \u001b[0;36m<module>\u001b[0;34m()\u001b[0m\n\u001b[0;32m----> 1\u001b[0;31m \u001b[0;32mfor\u001b[0m \u001b[0mx\u001b[0m \u001b[0;32min\u001b[0m \u001b[0mdf_results\u001b[0m\u001b[0;34m.\u001b[0m\u001b[0mrows\u001b[0m\u001b[0;34m(\u001b[0m\u001b[0;34m)\u001b[0m\u001b[0;34m:\u001b[0m\u001b[0;34m\u001b[0m\u001b[0;34m\u001b[0m\u001b[0m\n\u001b[0m\u001b[1;32m      2\u001b[0m   \u001b[0mprint\u001b[0m\u001b[0;34m(\u001b[0m\u001b[0mx\u001b[0m\u001b[0;34m)\u001b[0m\u001b[0;34m\u001b[0m\u001b[0;34m\u001b[0m\u001b[0m\n\u001b[1;32m      3\u001b[0m   \u001b[0;32mbreak\u001b[0m\u001b[0;34m\u001b[0m\u001b[0;34m\u001b[0m\u001b[0m\n",
            "\u001b[0;32m/usr/local/lib/python3.7/dist-packages/pandas/core/generic.py\u001b[0m in \u001b[0;36m__getattr__\u001b[0;34m(self, name)\u001b[0m\n\u001b[1;32m   5485\u001b[0m         ):\n\u001b[1;32m   5486\u001b[0m             \u001b[0;32mreturn\u001b[0m \u001b[0mself\u001b[0m\u001b[0;34m[\u001b[0m\u001b[0mname\u001b[0m\u001b[0;34m]\u001b[0m\u001b[0;34m\u001b[0m\u001b[0;34m\u001b[0m\u001b[0m\n\u001b[0;32m-> 5487\u001b[0;31m         \u001b[0;32mreturn\u001b[0m \u001b[0mobject\u001b[0m\u001b[0;34m.\u001b[0m\u001b[0m__getattribute__\u001b[0m\u001b[0;34m(\u001b[0m\u001b[0mself\u001b[0m\u001b[0;34m,\u001b[0m \u001b[0mname\u001b[0m\u001b[0;34m)\u001b[0m\u001b[0;34m\u001b[0m\u001b[0;34m\u001b[0m\u001b[0m\n\u001b[0m\u001b[1;32m   5488\u001b[0m \u001b[0;34m\u001b[0m\u001b[0m\n\u001b[1;32m   5489\u001b[0m     \u001b[0;32mdef\u001b[0m \u001b[0m__setattr__\u001b[0m\u001b[0;34m(\u001b[0m\u001b[0mself\u001b[0m\u001b[0;34m,\u001b[0m \u001b[0mname\u001b[0m\u001b[0;34m:\u001b[0m \u001b[0mstr\u001b[0m\u001b[0;34m,\u001b[0m \u001b[0mvalue\u001b[0m\u001b[0;34m)\u001b[0m \u001b[0;34m->\u001b[0m \u001b[0;32mNone\u001b[0m\u001b[0;34m:\u001b[0m\u001b[0;34m\u001b[0m\u001b[0;34m\u001b[0m\u001b[0m\n",
            "\u001b[0;31mAttributeError\u001b[0m: 'DataFrame' object has no attribute 'rows'"
          ]
        }
      ]
    },
    {
      "cell_type": "code",
      "source": [
        "df_results['c_kernel'] = ['C: ' + str(x[0]) + ',   kernel: ' + x[1] for x in zip(df_results['C'], df_results['kernel'])]\n",
        "\n",
        "stripplot =  alt.Chart(df_results, width=40).mark_circle(size=25).encode(\n",
        "    x=alt.X(\n",
        "        'jitter:Q',\n",
        "        title=None,\n",
        "        axis=alt.Axis(values=[0], ticks=True, grid=False, labels=False),\n",
        "        scale=alt.Scale(),\n",
        "    ),\n",
        "    y=alt.Y('score:Q'),\n",
        "    color=alt.Color('c_kernel:N', legend=None),\n",
        "    column=alt.Column(\n",
        "        'c_kernel:N',\n",
        "        header=alt.Header(\n",
        "            labelAngle=90,\n",
        "            titleOrient='bottom',\n",
        "            labelOrient='bottom',\n",
        "            labelAlign='right',\n",
        "            labelPadding=3,\n",
        "            labelFontSize=12\n",
        "        ),\n",
        "    ),\n",
        ").transform_calculate(\n",
        "    # Generate Gaussian jitter with a Box-Muller transform\n",
        "    jitter='sqrt(-2*log(random()))*cos(2*PI*random())'\n",
        ").configure_facet(\n",
        "    spacing=0\n",
        ").configure_view(\n",
        "    stroke=None\n",
        ").properties(\n",
        "    width = 70,\n",
        "    height = 400\n",
        ")\n",
        "\n",
        "stripplot"
      ],
      "metadata": {
        "colab": {
          "base_uri": "https://localhost:8080/",
          "height": 586
        },
        "id": "7kHNyeqqzYS9",
        "outputId": "fd5b8f4b-8ac3-4bbd-8795-830e2fd4ac2b"
      },
      "execution_count": null,
      "outputs": [
        {
          "output_type": "execute_result",
          "data": {
            "text/html": [
              "\n",
              "<div id=\"altair-viz-953ec7a901474a418467bbd038c89e3d\"></div>\n",
              "<script type=\"text/javascript\">\n",
              "  var VEGA_DEBUG = (typeof VEGA_DEBUG == \"undefined\") ? {} : VEGA_DEBUG;\n",
              "  (function(spec, embedOpt){\n",
              "    let outputDiv = document.currentScript.previousElementSibling;\n",
              "    if (outputDiv.id !== \"altair-viz-953ec7a901474a418467bbd038c89e3d\") {\n",
              "      outputDiv = document.getElementById(\"altair-viz-953ec7a901474a418467bbd038c89e3d\");\n",
              "    }\n",
              "    const paths = {\n",
              "      \"vega\": \"https://cdn.jsdelivr.net/npm//vega@5?noext\",\n",
              "      \"vega-lib\": \"https://cdn.jsdelivr.net/npm//vega-lib?noext\",\n",
              "      \"vega-lite\": \"https://cdn.jsdelivr.net/npm//vega-lite@4.17.0?noext\",\n",
              "      \"vega-embed\": \"https://cdn.jsdelivr.net/npm//vega-embed@6?noext\",\n",
              "    };\n",
              "\n",
              "    function maybeLoadScript(lib, version) {\n",
              "      var key = `${lib.replace(\"-\", \"\")}_version`;\n",
              "      return (VEGA_DEBUG[key] == version) ?\n",
              "        Promise.resolve(paths[lib]) :\n",
              "        new Promise(function(resolve, reject) {\n",
              "          var s = document.createElement('script');\n",
              "          document.getElementsByTagName(\"head\")[0].appendChild(s);\n",
              "          s.async = true;\n",
              "          s.onload = () => {\n",
              "            VEGA_DEBUG[key] = version;\n",
              "            return resolve(paths[lib]);\n",
              "          };\n",
              "          s.onerror = () => reject(`Error loading script: ${paths[lib]}`);\n",
              "          s.src = paths[lib];\n",
              "        });\n",
              "    }\n",
              "\n",
              "    function showError(err) {\n",
              "      outputDiv.innerHTML = `<div class=\"error\" style=\"color:red;\">${err}</div>`;\n",
              "      throw err;\n",
              "    }\n",
              "\n",
              "    function displayChart(vegaEmbed) {\n",
              "      vegaEmbed(outputDiv, spec, embedOpt)\n",
              "        .catch(err => showError(`Javascript Error: ${err.message}<br>This usually means there's a typo in your chart specification. See the javascript console for the full traceback.`));\n",
              "    }\n",
              "\n",
              "    if(typeof define === \"function\" && define.amd) {\n",
              "      requirejs.config({paths});\n",
              "      require([\"vega-embed\"], displayChart, err => showError(`Error loading script: ${err.message}`));\n",
              "    } else {\n",
              "      maybeLoadScript(\"vega\", \"5\")\n",
              "        .then(() => maybeLoadScript(\"vega-lite\", \"4.17.0\"))\n",
              "        .then(() => maybeLoadScript(\"vega-embed\", \"6\"))\n",
              "        .catch(showError)\n",
              "        .then(() => displayChart(vegaEmbed));\n",
              "    }\n",
              "  })({\"config\": {\"view\": {\"continuousWidth\": 400, \"continuousHeight\": 300, \"stroke\": null}, \"facet\": {\"spacing\": 0}}, \"data\": {\"name\": \"data-baf9083e29e87daf18fe137dd9a73bf6\"}, \"mark\": {\"type\": \"circle\", \"size\": 25}, \"encoding\": {\"color\": {\"field\": \"c_kernel\", \"legend\": null, \"type\": \"nominal\"}, \"column\": {\"field\": \"c_kernel\", \"header\": {\"labelAlign\": \"right\", \"labelAngle\": 90, \"labelFontSize\": 12, \"labelOrient\": \"bottom\", \"labelPadding\": 3, \"titleOrient\": \"bottom\"}, \"type\": \"nominal\"}, \"x\": {\"axis\": {\"grid\": false, \"labels\": false, \"ticks\": true, \"values\": [0]}, \"field\": \"jitter\", \"scale\": {}, \"title\": null, \"type\": \"quantitative\"}, \"y\": {\"field\": \"score\", \"type\": \"quantitative\"}}, \"height\": 400, \"transform\": [{\"calculate\": \"sqrt(-2*log(random()))*cos(2*PI*random())\", \"as\": \"jitter\"}], \"width\": 70, \"$schema\": \"https://vega.github.io/schema/vega-lite/v4.17.0.json\", \"datasets\": {\"data-baf9083e29e87daf18fe137dd9a73bf6\": [{\"user_id\": \"10004_08693\", \"score\": 0.7029411764705882, \"C\": 0.7, \"kernel\": \"linear\", \"c_kernel\": \"C: 0.7,   kernel: linear\"}, {\"user_id\": \"10004_08693\", \"score\": 0.8323529411764706, \"C\": 0.7, \"kernel\": \"rbf\", \"c_kernel\": \"C: 0.7,   kernel: rbf\"}, {\"user_id\": \"10004_08693\", \"score\": 0.7029411764705882, \"C\": 1.0, \"kernel\": \"linear\", \"c_kernel\": \"C: 1.0,   kernel: linear\"}, {\"user_id\": \"10004_08693\", \"score\": 0.8691176470588236, \"C\": 1.0, \"kernel\": \"rbf\", \"c_kernel\": \"C: 1.0,   kernel: rbf\"}, {\"user_id\": \"10004_08693\", \"score\": 0.7029411764705882, \"C\": 5.0, \"kernel\": \"linear\", \"c_kernel\": \"C: 5.0,   kernel: linear\"}, {\"user_id\": \"10004_08693\", \"score\": 0.8455882352941178, \"C\": 5.0, \"kernel\": \"rbf\", \"c_kernel\": \"C: 5.0,   kernel: rbf\"}, {\"user_id\": \"10004_08693\", \"score\": 0.7029411764705882, \"C\": 10.0, \"kernel\": \"linear\", \"c_kernel\": \"C: 10.0,   kernel: linear\"}, {\"user_id\": \"10004_08693\", \"score\": 0.8455882352941178, \"C\": 10.0, \"kernel\": \"rbf\", \"c_kernel\": \"C: 10.0,   kernel: rbf\"}, {\"user_id\": \"10008_09924\", \"score\": 0.7529411764705882, \"C\": 0.7, \"kernel\": \"linear\", \"c_kernel\": \"C: 0.7,   kernel: linear\"}, {\"user_id\": \"10008_09924\", \"score\": 0.7647058823529411, \"C\": 0.7, \"kernel\": \"rbf\", \"c_kernel\": \"C: 0.7,   kernel: rbf\"}, {\"user_id\": \"10008_09924\", \"score\": 0.7529411764705882, \"C\": 1.0, \"kernel\": \"linear\", \"c_kernel\": \"C: 1.0,   kernel: linear\"}, {\"user_id\": \"10008_09924\", \"score\": 0.7529411764705882, \"C\": 1.0, \"kernel\": \"rbf\", \"c_kernel\": \"C: 1.0,   kernel: rbf\"}, {\"user_id\": \"10008_09924\", \"score\": 0.7529411764705882, \"C\": 5.0, \"kernel\": \"linear\", \"c_kernel\": \"C: 5.0,   kernel: linear\"}, {\"user_id\": \"10008_09924\", \"score\": 0.7411764705882353, \"C\": 5.0, \"kernel\": \"rbf\", \"c_kernel\": \"C: 5.0,   kernel: rbf\"}, {\"user_id\": \"10008_09924\", \"score\": 0.7529411764705882, \"C\": 10.0, \"kernel\": \"linear\", \"c_kernel\": \"C: 10.0,   kernel: linear\"}, {\"user_id\": \"10008_09924\", \"score\": 0.7411764705882353, \"C\": 10.0, \"kernel\": \"rbf\", \"c_kernel\": \"C: 10.0,   kernel: rbf\"}, {\"user_id\": \"10009_08848\", \"score\": 0.6448529411764706, \"C\": 0.7, \"kernel\": \"linear\", \"c_kernel\": \"C: 0.7,   kernel: linear\"}, {\"user_id\": \"10009_08848\", \"score\": 0.775, \"C\": 0.7, \"kernel\": \"rbf\", \"c_kernel\": \"C: 0.7,   kernel: rbf\"}, {\"user_id\": \"10009_08848\", \"score\": 0.6448529411764706, \"C\": 1.0, \"kernel\": \"linear\", \"c_kernel\": \"C: 1.0,   kernel: linear\"}, {\"user_id\": \"10009_08848\", \"score\": 0.7992647058823529, \"C\": 1.0, \"kernel\": \"rbf\", \"c_kernel\": \"C: 1.0,   kernel: rbf\"}, {\"user_id\": \"10009_08848\", \"score\": 0.6448529411764706, \"C\": 5.0, \"kernel\": \"linear\", \"c_kernel\": \"C: 5.0,   kernel: linear\"}, {\"user_id\": \"10009_08848\", \"score\": 0.7639705882352941, \"C\": 5.0, \"kernel\": \"rbf\", \"c_kernel\": \"C: 5.0,   kernel: rbf\"}, {\"user_id\": \"10009_08848\", \"score\": 0.6448529411764706, \"C\": 10.0, \"kernel\": \"linear\", \"c_kernel\": \"C: 10.0,   kernel: linear\"}, {\"user_id\": \"10009_08848\", \"score\": 0.7639705882352941, \"C\": 10.0, \"kernel\": \"rbf\", \"c_kernel\": \"C: 10.0,   kernel: rbf\"}, {\"user_id\": \"10016_09694\", \"score\": 0.7647058823529411, \"C\": 0.7, \"kernel\": \"linear\", \"c_kernel\": \"C: 0.7,   kernel: linear\"}, {\"user_id\": \"10016_09694\", \"score\": 0.7992647058823529, \"C\": 0.7, \"kernel\": \"rbf\", \"c_kernel\": \"C: 0.7,   kernel: rbf\"}, {\"user_id\": \"10016_09694\", \"score\": 0.7647058823529411, \"C\": 1.0, \"kernel\": \"linear\", \"c_kernel\": \"C: 1.0,   kernel: linear\"}, {\"user_id\": \"10016_09694\", \"score\": 0.8110294117647058, \"C\": 1.0, \"kernel\": \"rbf\", \"c_kernel\": \"C: 1.0,   kernel: rbf\"}, {\"user_id\": \"10016_09694\", \"score\": 0.7647058823529411, \"C\": 5.0, \"kernel\": \"linear\", \"c_kernel\": \"C: 5.0,   kernel: linear\"}, {\"user_id\": \"10016_09694\", \"score\": 0.8110294117647058, \"C\": 5.0, \"kernel\": \"rbf\", \"c_kernel\": \"C: 5.0,   kernel: rbf\"}, {\"user_id\": \"10016_09694\", \"score\": 0.7647058823529411, \"C\": 10.0, \"kernel\": \"linear\", \"c_kernel\": \"C: 10.0,   kernel: linear\"}, {\"user_id\": \"10016_09694\", \"score\": 0.8110294117647058, \"C\": 10.0, \"kernel\": \"rbf\", \"c_kernel\": \"C: 10.0,   kernel: rbf\"}, {\"user_id\": \"10017_08894\", \"score\": 0.6794117647058824, \"C\": 0.7, \"kernel\": \"linear\", \"c_kernel\": \"C: 0.7,   kernel: linear\"}, {\"user_id\": \"10017_08894\", \"score\": 0.6433823529411764, \"C\": 0.7, \"kernel\": \"rbf\", \"c_kernel\": \"C: 0.7,   kernel: rbf\"}, {\"user_id\": \"10017_08894\", \"score\": 0.6794117647058824, \"C\": 1.0, \"kernel\": \"linear\", \"c_kernel\": \"C: 1.0,   kernel: linear\"}, {\"user_id\": \"10017_08894\", \"score\": 0.6191176470588236, \"C\": 1.0, \"kernel\": \"rbf\", \"c_kernel\": \"C: 1.0,   kernel: rbf\"}, {\"user_id\": \"10017_08894\", \"score\": 0.6794117647058824, \"C\": 5.0, \"kernel\": \"linear\", \"c_kernel\": \"C: 5.0,   kernel: linear\"}, {\"user_id\": \"10017_08894\", \"score\": 0.6301470588235294, \"C\": 5.0, \"kernel\": \"rbf\", \"c_kernel\": \"C: 5.0,   kernel: rbf\"}, {\"user_id\": \"10017_08894\", \"score\": 0.6794117647058824, \"C\": 10.0, \"kernel\": \"linear\", \"c_kernel\": \"C: 10.0,   kernel: linear\"}, {\"user_id\": \"10017_08894\", \"score\": 0.6301470588235294, \"C\": 10.0, \"kernel\": \"rbf\", \"c_kernel\": \"C: 10.0,   kernel: rbf\"}, {\"user_id\": \"10018_08907\", \"score\": 0.6220588235294118, \"C\": 0.7, \"kernel\": \"linear\", \"c_kernel\": \"C: 0.7,   kernel: linear\"}, {\"user_id\": \"10018_08907\", \"score\": 0.7051470588235295, \"C\": 0.7, \"kernel\": \"rbf\", \"c_kernel\": \"C: 0.7,   kernel: rbf\"}, {\"user_id\": \"10018_08907\", \"score\": 0.6220588235294118, \"C\": 1.0, \"kernel\": \"linear\", \"c_kernel\": \"C: 1.0,   kernel: linear\"}, {\"user_id\": \"10018_08907\", \"score\": 0.6933823529411764, \"C\": 1.0, \"kernel\": \"rbf\", \"c_kernel\": \"C: 1.0,   kernel: rbf\"}, {\"user_id\": \"10018_08907\", \"score\": 0.6220588235294118, \"C\": 5.0, \"kernel\": \"linear\", \"c_kernel\": \"C: 5.0,   kernel: linear\"}, {\"user_id\": \"10018_08907\", \"score\": 0.6816176470588236, \"C\": 5.0, \"kernel\": \"rbf\", \"c_kernel\": \"C: 5.0,   kernel: rbf\"}, {\"user_id\": \"10018_08907\", \"score\": 0.6220588235294118, \"C\": 10.0, \"kernel\": \"linear\", \"c_kernel\": \"C: 10.0,   kernel: linear\"}, {\"user_id\": \"10018_08907\", \"score\": 0.6816176470588236, \"C\": 10.0, \"kernel\": \"rbf\", \"c_kernel\": \"C: 10.0,   kernel: rbf\"}, {\"user_id\": \"10021_08839\", \"score\": 0.4757352941176471, \"C\": 0.7, \"kernel\": \"linear\", \"c_kernel\": \"C: 0.7,   kernel: linear\"}, {\"user_id\": \"10021_08839\", \"score\": 0.699264705882353, \"C\": 0.7, \"kernel\": \"rbf\", \"c_kernel\": \"C: 0.7,   kernel: rbf\"}, {\"user_id\": \"10021_08839\", \"score\": 0.4757352941176471, \"C\": 1.0, \"kernel\": \"linear\", \"c_kernel\": \"C: 1.0,   kernel: linear\"}, {\"user_id\": \"10021_08839\", \"score\": 0.7463235294117647, \"C\": 1.0, \"kernel\": \"rbf\", \"c_kernel\": \"C: 1.0,   kernel: rbf\"}, {\"user_id\": \"10021_08839\", \"score\": 0.4757352941176471, \"C\": 5.0, \"kernel\": \"linear\", \"c_kernel\": \"C: 5.0,   kernel: linear\"}, {\"user_id\": \"10021_08839\", \"score\": 0.7705882352941177, \"C\": 5.0, \"kernel\": \"rbf\", \"c_kernel\": \"C: 5.0,   kernel: rbf\"}, {\"user_id\": \"10021_08839\", \"score\": 0.4757352941176471, \"C\": 10.0, \"kernel\": \"linear\", \"c_kernel\": \"C: 10.0,   kernel: linear\"}, {\"user_id\": \"10021_08839\", \"score\": 0.7705882352941177, \"C\": 10.0, \"kernel\": \"rbf\", \"c_kernel\": \"C: 10.0,   kernel: rbf\"}, {\"user_id\": \"10022_08854\", \"score\": 0.8235294117647058, \"C\": 0.7, \"kernel\": \"linear\", \"c_kernel\": \"C: 0.7,   kernel: linear\"}, {\"user_id\": \"10022_08854\", \"score\": 0.8463235294117647, \"C\": 0.7, \"kernel\": \"rbf\", \"c_kernel\": \"C: 0.7,   kernel: rbf\"}, {\"user_id\": \"10022_08854\", \"score\": 0.8235294117647058, \"C\": 1.0, \"kernel\": \"linear\", \"c_kernel\": \"C: 1.0,   kernel: linear\"}, {\"user_id\": \"10022_08854\", \"score\": 0.8705882352941176, \"C\": 1.0, \"kernel\": \"rbf\", \"c_kernel\": \"C: 1.0,   kernel: rbf\"}, {\"user_id\": \"10022_08854\", \"score\": 0.8235294117647058, \"C\": 5.0, \"kernel\": \"linear\", \"c_kernel\": \"C: 5.0,   kernel: linear\"}, {\"user_id\": \"10022_08854\", \"score\": 0.8470588235294118, \"C\": 5.0, \"kernel\": \"rbf\", \"c_kernel\": \"C: 5.0,   kernel: rbf\"}, {\"user_id\": \"10022_08854\", \"score\": 0.8235294117647058, \"C\": 10.0, \"kernel\": \"linear\", \"c_kernel\": \"C: 10.0,   kernel: linear\"}, {\"user_id\": \"10022_08854\", \"score\": 0.8470588235294118, \"C\": 10.0, \"kernel\": \"rbf\", \"c_kernel\": \"C: 10.0,   kernel: rbf\"}, {\"user_id\": \"10023_09126\", \"score\": 0.7507352941176471, \"C\": 0.7, \"kernel\": \"linear\", \"c_kernel\": \"C: 0.7,   kernel: linear\"}, {\"user_id\": \"10023_09126\", \"score\": 0.7742647058823529, \"C\": 0.7, \"kernel\": \"rbf\", \"c_kernel\": \"C: 0.7,   kernel: rbf\"}, {\"user_id\": \"10023_09126\", \"score\": 0.7507352941176471, \"C\": 1.0, \"kernel\": \"linear\", \"c_kernel\": \"C: 1.0,   kernel: linear\"}, {\"user_id\": \"10023_09126\", \"score\": 0.7985294117647058, \"C\": 1.0, \"kernel\": \"rbf\", \"c_kernel\": \"C: 1.0,   kernel: rbf\"}, {\"user_id\": \"10023_09126\", \"score\": 0.7507352941176471, \"C\": 5.0, \"kernel\": \"linear\", \"c_kernel\": \"C: 5.0,   kernel: linear\"}, {\"user_id\": \"10023_09126\", \"score\": 0.7867647058823529, \"C\": 5.0, \"kernel\": \"rbf\", \"c_kernel\": \"C: 5.0,   kernel: rbf\"}, {\"user_id\": \"10023_09126\", \"score\": 0.7507352941176471, \"C\": 10.0, \"kernel\": \"linear\", \"c_kernel\": \"C: 10.0,   kernel: linear\"}, {\"user_id\": \"10023_09126\", \"score\": 0.7867647058823529, \"C\": 10.0, \"kernel\": \"rbf\", \"c_kernel\": \"C: 10.0,   kernel: rbf\"}, {\"user_id\": \"10027_09455\", \"score\": 0.6786764705882353, \"C\": 0.7, \"kernel\": \"linear\", \"c_kernel\": \"C: 0.7,   kernel: linear\"}, {\"user_id\": \"10027_09455\", \"score\": 0.5963235294117648, \"C\": 0.7, \"kernel\": \"rbf\", \"c_kernel\": \"C: 0.7,   kernel: rbf\"}, {\"user_id\": \"10027_09455\", \"score\": 0.6786764705882353, \"C\": 1.0, \"kernel\": \"linear\", \"c_kernel\": \"C: 1.0,   kernel: linear\"}, {\"user_id\": \"10027_09455\", \"score\": 0.6676470588235295, \"C\": 1.0, \"kernel\": \"rbf\", \"c_kernel\": \"C: 1.0,   kernel: rbf\"}, {\"user_id\": \"10027_09455\", \"score\": 0.6786764705882353, \"C\": 5.0, \"kernel\": \"linear\", \"c_kernel\": \"C: 5.0,   kernel: linear\"}, {\"user_id\": \"10027_09455\", \"score\": 0.6897058823529412, \"C\": 5.0, \"kernel\": \"rbf\", \"c_kernel\": \"C: 5.0,   kernel: rbf\"}, {\"user_id\": \"10027_09455\", \"score\": 0.6786764705882353, \"C\": 10.0, \"kernel\": \"linear\", \"c_kernel\": \"C: 10.0,   kernel: linear\"}, {\"user_id\": \"10027_09455\", \"score\": 0.6897058823529412, \"C\": 10.0, \"kernel\": \"rbf\", \"c_kernel\": \"C: 10.0,   kernel: rbf\"}, {\"user_id\": \"10033_08871\", \"score\": 0.675, \"C\": 0.7, \"kernel\": \"linear\", \"c_kernel\": \"C: 0.7,   kernel: linear\"}, {\"user_id\": \"10033_08871\", \"score\": 0.725735294117647, \"C\": 0.7, \"kernel\": \"rbf\", \"c_kernel\": \"C: 0.7,   kernel: rbf\"}, {\"user_id\": \"10033_08871\", \"score\": 0.675, \"C\": 1.0, \"kernel\": \"linear\", \"c_kernel\": \"C: 1.0,   kernel: linear\"}, {\"user_id\": \"10033_08871\", \"score\": 0.713235294117647, \"C\": 1.0, \"kernel\": \"rbf\", \"c_kernel\": \"C: 1.0,   kernel: rbf\"}, {\"user_id\": \"10033_08871\", \"score\": 0.675, \"C\": 5.0, \"kernel\": \"linear\", \"c_kernel\": \"C: 5.0,   kernel: linear\"}, {\"user_id\": \"10033_08871\", \"score\": 0.6529411764705882, \"C\": 5.0, \"kernel\": \"rbf\", \"c_kernel\": \"C: 5.0,   kernel: rbf\"}, {\"user_id\": \"10033_08871\", \"score\": 0.675, \"C\": 10.0, \"kernel\": \"linear\", \"c_kernel\": \"C: 10.0,   kernel: linear\"}, {\"user_id\": \"10033_08871\", \"score\": 0.6529411764705882, \"C\": 10.0, \"kernel\": \"rbf\", \"c_kernel\": \"C: 10.0,   kernel: rbf\"}, {\"user_id\": \"10034_08879\", \"score\": 0.4992647058823529, \"C\": 0.7, \"kernel\": \"linear\", \"c_kernel\": \"C: 0.7,   kernel: linear\"}, {\"user_id\": \"10034_08879\", \"score\": 0.6448529411764705, \"C\": 0.7, \"kernel\": \"rbf\", \"c_kernel\": \"C: 0.7,   kernel: rbf\"}, {\"user_id\": \"10034_08879\", \"score\": 0.4992647058823529, \"C\": 1.0, \"kernel\": \"linear\", \"c_kernel\": \"C: 1.0,   kernel: linear\"}, {\"user_id\": \"10034_08879\", \"score\": 0.6095588235294118, \"C\": 1.0, \"kernel\": \"rbf\", \"c_kernel\": \"C: 1.0,   kernel: rbf\"}, {\"user_id\": \"10034_08879\", \"score\": 0.4992647058823529, \"C\": 5.0, \"kernel\": \"linear\", \"c_kernel\": \"C: 5.0,   kernel: linear\"}, {\"user_id\": \"10034_08879\", \"score\": 0.6330882352941176, \"C\": 5.0, \"kernel\": \"rbf\", \"c_kernel\": \"C: 5.0,   kernel: rbf\"}, {\"user_id\": \"10034_08879\", \"score\": 0.4992647058823529, \"C\": 10.0, \"kernel\": \"linear\", \"c_kernel\": \"C: 10.0,   kernel: linear\"}, {\"user_id\": \"10034_08879\", \"score\": 0.6330882352941176, \"C\": 10.0, \"kernel\": \"rbf\", \"c_kernel\": \"C: 10.0,   kernel: rbf\"}, {\"user_id\": \"10035_08847\", \"score\": 0.7625, \"C\": 0.7, \"kernel\": \"linear\", \"c_kernel\": \"C: 0.7,   kernel: linear\"}, {\"user_id\": \"10035_08847\", \"score\": 0.6338235294117648, \"C\": 0.7, \"kernel\": \"rbf\", \"c_kernel\": \"C: 0.7,   kernel: rbf\"}, {\"user_id\": \"10035_08847\", \"score\": 0.7625, \"C\": 1.0, \"kernel\": \"linear\", \"c_kernel\": \"C: 1.0,   kernel: linear\"}, {\"user_id\": \"10035_08847\", \"score\": 0.6823529411764706, \"C\": 1.0, \"kernel\": \"rbf\", \"c_kernel\": \"C: 1.0,   kernel: rbf\"}, {\"user_id\": \"10035_08847\", \"score\": 0.7625, \"C\": 5.0, \"kernel\": \"linear\", \"c_kernel\": \"C: 5.0,   kernel: linear\"}, {\"user_id\": \"10035_08847\", \"score\": 0.7294117647058823, \"C\": 5.0, \"kernel\": \"rbf\", \"c_kernel\": \"C: 5.0,   kernel: rbf\"}, {\"user_id\": \"10035_08847\", \"score\": 0.7625, \"C\": 10.0, \"kernel\": \"linear\", \"c_kernel\": \"C: 10.0,   kernel: linear\"}, {\"user_id\": \"10035_08847\", \"score\": 0.7294117647058823, \"C\": 10.0, \"kernel\": \"rbf\", \"c_kernel\": \"C: 10.0,   kernel: rbf\"}, {\"user_id\": \"10036_09800\", \"score\": 0.5933823529411765, \"C\": 0.7, \"kernel\": \"linear\", \"c_kernel\": \"C: 0.7,   kernel: linear\"}, {\"user_id\": \"10036_09800\", \"score\": 0.6529411764705882, \"C\": 0.7, \"kernel\": \"rbf\", \"c_kernel\": \"C: 0.7,   kernel: rbf\"}, {\"user_id\": \"10036_09800\", \"score\": 0.5933823529411765, \"C\": 1.0, \"kernel\": \"linear\", \"c_kernel\": \"C: 1.0,   kernel: linear\"}, {\"user_id\": \"10036_09800\", \"score\": 0.6875, \"C\": 1.0, \"kernel\": \"rbf\", \"c_kernel\": \"C: 1.0,   kernel: rbf\"}, {\"user_id\": \"10036_09800\", \"score\": 0.5933823529411765, \"C\": 5.0, \"kernel\": \"linear\", \"c_kernel\": \"C: 5.0,   kernel: linear\"}, {\"user_id\": \"10036_09800\", \"score\": 0.7463235294117647, \"C\": 5.0, \"kernel\": \"rbf\", \"c_kernel\": \"C: 5.0,   kernel: rbf\"}, {\"user_id\": \"10036_09800\", \"score\": 0.5933823529411765, \"C\": 10.0, \"kernel\": \"linear\", \"c_kernel\": \"C: 10.0,   kernel: linear\"}, {\"user_id\": \"10036_09800\", \"score\": 0.7463235294117647, \"C\": 10.0, \"kernel\": \"rbf\", \"c_kernel\": \"C: 10.0,   kernel: rbf\"}, {\"user_id\": \"10037_09903\", \"score\": 0.8345588235294118, \"C\": 0.7, \"kernel\": \"linear\", \"c_kernel\": \"C: 0.7,   kernel: linear\"}, {\"user_id\": \"10037_09903\", \"score\": 0.8345588235294118, \"C\": 0.7, \"kernel\": \"rbf\", \"c_kernel\": \"C: 0.7,   kernel: rbf\"}, {\"user_id\": \"10037_09903\", \"score\": 0.8345588235294118, \"C\": 1.0, \"kernel\": \"linear\", \"c_kernel\": \"C: 1.0,   kernel: linear\"}, {\"user_id\": \"10037_09903\", \"score\": 0.8580882352941177, \"C\": 1.0, \"kernel\": \"rbf\", \"c_kernel\": \"C: 1.0,   kernel: rbf\"}, {\"user_id\": \"10037_09903\", \"score\": 0.8345588235294118, \"C\": 5.0, \"kernel\": \"linear\", \"c_kernel\": \"C: 5.0,   kernel: linear\"}, {\"user_id\": \"10037_09903\", \"score\": 0.8698529411764706, \"C\": 5.0, \"kernel\": \"rbf\", \"c_kernel\": \"C: 5.0,   kernel: rbf\"}, {\"user_id\": \"10037_09903\", \"score\": 0.8345588235294118, \"C\": 10.0, \"kernel\": \"linear\", \"c_kernel\": \"C: 10.0,   kernel: linear\"}, {\"user_id\": \"10037_09903\", \"score\": 0.8698529411764706, \"C\": 10.0, \"kernel\": \"rbf\", \"c_kernel\": \"C: 10.0,   kernel: rbf\"}, {\"user_id\": \"10038_09063\", \"score\": 0.511764705882353, \"C\": 0.7, \"kernel\": \"linear\", \"c_kernel\": \"C: 0.7,   kernel: linear\"}, {\"user_id\": \"10038_09063\", \"score\": 0.5977941176470588, \"C\": 0.7, \"kernel\": \"rbf\", \"c_kernel\": \"C: 0.7,   kernel: rbf\"}, {\"user_id\": \"10038_09063\", \"score\": 0.511764705882353, \"C\": 1.0, \"kernel\": \"linear\", \"c_kernel\": \"C: 1.0,   kernel: linear\"}, {\"user_id\": \"10038_09063\", \"score\": 0.5852941176470587, \"C\": 1.0, \"kernel\": \"rbf\", \"c_kernel\": \"C: 1.0,   kernel: rbf\"}, {\"user_id\": \"10038_09063\", \"score\": 0.511764705882353, \"C\": 5.0, \"kernel\": \"linear\", \"c_kernel\": \"C: 5.0,   kernel: linear\"}, {\"user_id\": \"10038_09063\", \"score\": 0.5720588235294117, \"C\": 5.0, \"kernel\": \"rbf\", \"c_kernel\": \"C: 5.0,   kernel: rbf\"}, {\"user_id\": \"10038_09063\", \"score\": 0.511764705882353, \"C\": 10.0, \"kernel\": \"linear\", \"c_kernel\": \"C: 10.0,   kernel: linear\"}, {\"user_id\": \"10038_09063\", \"score\": 0.5720588235294117, \"C\": 10.0, \"kernel\": \"rbf\", \"c_kernel\": \"C: 10.0,   kernel: rbf\"}, {\"user_id\": \"10039_08941\", \"score\": 0.7176470588235293, \"C\": 0.7, \"kernel\": \"linear\", \"c_kernel\": \"C: 0.7,   kernel: linear\"}, {\"user_id\": \"10039_08941\", \"score\": 0.7507352941176471, \"C\": 0.7, \"kernel\": \"rbf\", \"c_kernel\": \"C: 0.7,   kernel: rbf\"}, {\"user_id\": \"10039_08941\", \"score\": 0.7176470588235293, \"C\": 1.0, \"kernel\": \"linear\", \"c_kernel\": \"C: 1.0,   kernel: linear\"}, {\"user_id\": \"10039_08941\", \"score\": 0.7514705882352941, \"C\": 1.0, \"kernel\": \"rbf\", \"c_kernel\": \"C: 1.0,   kernel: rbf\"}, {\"user_id\": \"10039_08941\", \"score\": 0.7176470588235293, \"C\": 5.0, \"kernel\": \"linear\", \"c_kernel\": \"C: 5.0,   kernel: linear\"}, {\"user_id\": \"10039_08941\", \"score\": 0.7397058823529412, \"C\": 5.0, \"kernel\": \"rbf\", \"c_kernel\": \"C: 5.0,   kernel: rbf\"}, {\"user_id\": \"10039_08941\", \"score\": 0.7176470588235293, \"C\": 10.0, \"kernel\": \"linear\", \"c_kernel\": \"C: 10.0,   kernel: linear\"}, {\"user_id\": \"10039_08941\", \"score\": 0.7397058823529412, \"C\": 10.0, \"kernel\": \"rbf\", \"c_kernel\": \"C: 10.0,   kernel: rbf\"}, {\"user_id\": \"10042_08990\", \"score\": 0.5235294117647059, \"C\": 0.7, \"kernel\": \"linear\", \"c_kernel\": \"C: 0.7,   kernel: linear\"}, {\"user_id\": \"10042_08990\", \"score\": 0.6316176470588235, \"C\": 0.7, \"kernel\": \"rbf\", \"c_kernel\": \"C: 0.7,   kernel: rbf\"}, {\"user_id\": \"10042_08990\", \"score\": 0.5235294117647059, \"C\": 1.0, \"kernel\": \"linear\", \"c_kernel\": \"C: 1.0,   kernel: linear\"}, {\"user_id\": \"10042_08990\", \"score\": 0.6316176470588235, \"C\": 1.0, \"kernel\": \"rbf\", \"c_kernel\": \"C: 1.0,   kernel: rbf\"}, {\"user_id\": \"10042_08990\", \"score\": 0.5235294117647059, \"C\": 5.0, \"kernel\": \"linear\", \"c_kernel\": \"C: 5.0,   kernel: linear\"}, {\"user_id\": \"10042_08990\", \"score\": 0.6433823529411765, \"C\": 5.0, \"kernel\": \"rbf\", \"c_kernel\": \"C: 5.0,   kernel: rbf\"}, {\"user_id\": \"10042_08990\", \"score\": 0.5235294117647059, \"C\": 10.0, \"kernel\": \"linear\", \"c_kernel\": \"C: 10.0,   kernel: linear\"}, {\"user_id\": \"10042_08990\", \"score\": 0.6433823529411765, \"C\": 10.0, \"kernel\": \"rbf\", \"c_kernel\": \"C: 10.0,   kernel: rbf\"}, {\"user_id\": \"10043_09222\", \"score\": 0.8470588235294118, \"C\": 0.7, \"kernel\": \"linear\", \"c_kernel\": \"C: 0.7,   kernel: linear\"}, {\"user_id\": \"10043_09222\", \"score\": 0.8227941176470587, \"C\": 0.7, \"kernel\": \"rbf\", \"c_kernel\": \"C: 0.7,   kernel: rbf\"}, {\"user_id\": \"10043_09222\", \"score\": 0.8470588235294118, \"C\": 1.0, \"kernel\": \"linear\", \"c_kernel\": \"C: 1.0,   kernel: linear\"}, {\"user_id\": \"10043_09222\", \"score\": 0.8345588235294118, \"C\": 1.0, \"kernel\": \"rbf\", \"c_kernel\": \"C: 1.0,   kernel: rbf\"}, {\"user_id\": \"10043_09222\", \"score\": 0.8470588235294118, \"C\": 5.0, \"kernel\": \"linear\", \"c_kernel\": \"C: 5.0,   kernel: linear\"}, {\"user_id\": \"10043_09222\", \"score\": 0.8580882352941177, \"C\": 5.0, \"kernel\": \"rbf\", \"c_kernel\": \"C: 5.0,   kernel: rbf\"}, {\"user_id\": \"10043_09222\", \"score\": 0.8470588235294118, \"C\": 10.0, \"kernel\": \"linear\", \"c_kernel\": \"C: 10.0,   kernel: linear\"}, {\"user_id\": \"10043_09222\", \"score\": 0.8580882352941177, \"C\": 10.0, \"kernel\": \"rbf\", \"c_kernel\": \"C: 10.0,   kernel: rbf\"}, {\"user_id\": \"10045_08968\", \"score\": 0.6904411764705882, \"C\": 0.7, \"kernel\": \"linear\", \"c_kernel\": \"C: 0.7,   kernel: linear\"}, {\"user_id\": \"10045_08968\", \"score\": 0.7036764705882353, \"C\": 0.7, \"kernel\": \"rbf\", \"c_kernel\": \"C: 0.7,   kernel: rbf\"}, {\"user_id\": \"10045_08968\", \"score\": 0.6904411764705882, \"C\": 1.0, \"kernel\": \"linear\", \"c_kernel\": \"C: 1.0,   kernel: linear\"}, {\"user_id\": \"10045_08968\", \"score\": 0.7029411764705882, \"C\": 1.0, \"kernel\": \"rbf\", \"c_kernel\": \"C: 1.0,   kernel: rbf\"}, {\"user_id\": \"10045_08968\", \"score\": 0.6904411764705882, \"C\": 5.0, \"kernel\": \"linear\", \"c_kernel\": \"C: 5.0,   kernel: linear\"}, {\"user_id\": \"10045_08968\", \"score\": 0.7264705882352941, \"C\": 5.0, \"kernel\": \"rbf\", \"c_kernel\": \"C: 5.0,   kernel: rbf\"}, {\"user_id\": \"10045_08968\", \"score\": 0.6904411764705882, \"C\": 10.0, \"kernel\": \"linear\", \"c_kernel\": \"C: 10.0,   kernel: linear\"}, {\"user_id\": \"10045_08968\", \"score\": 0.7264705882352941, \"C\": 10.0, \"kernel\": \"rbf\", \"c_kernel\": \"C: 10.0,   kernel: rbf\"}, {\"user_id\": \"10046_09216\", \"score\": 0.8345588235294118, \"C\": 0.7, \"kernel\": \"linear\", \"c_kernel\": \"C: 0.7,   kernel: linear\"}, {\"user_id\": \"10046_09216\", \"score\": 0.7036764705882353, \"C\": 0.7, \"kernel\": \"rbf\", \"c_kernel\": \"C: 0.7,   kernel: rbf\"}, {\"user_id\": \"10046_09216\", \"score\": 0.8345588235294118, \"C\": 1.0, \"kernel\": \"linear\", \"c_kernel\": \"C: 1.0,   kernel: linear\"}, {\"user_id\": \"10046_09216\", \"score\": 0.6676470588235294, \"C\": 1.0, \"kernel\": \"rbf\", \"c_kernel\": \"C: 1.0,   kernel: rbf\"}, {\"user_id\": \"10046_09216\", \"score\": 0.8345588235294118, \"C\": 5.0, \"kernel\": \"linear\", \"c_kernel\": \"C: 5.0,   kernel: linear\"}, {\"user_id\": \"10046_09216\", \"score\": 0.6919117647058823, \"C\": 5.0, \"kernel\": \"rbf\", \"c_kernel\": \"C: 5.0,   kernel: rbf\"}, {\"user_id\": \"10046_09216\", \"score\": 0.8345588235294118, \"C\": 10.0, \"kernel\": \"linear\", \"c_kernel\": \"C: 10.0,   kernel: linear\"}, {\"user_id\": \"10046_09216\", \"score\": 0.6919117647058823, \"C\": 10.0, \"kernel\": \"rbf\", \"c_kernel\": \"C: 10.0,   kernel: rbf\"}, {\"user_id\": \"10047_09030\", \"score\": 0.8330882352941176, \"C\": 0.7, \"kernel\": \"linear\", \"c_kernel\": \"C: 0.7,   kernel: linear\"}, {\"user_id\": \"10047_09030\", \"score\": 0.8573529411764707, \"C\": 0.7, \"kernel\": \"rbf\", \"c_kernel\": \"C: 0.7,   kernel: rbf\"}, {\"user_id\": \"10047_09030\", \"score\": 0.8330882352941176, \"C\": 1.0, \"kernel\": \"linear\", \"c_kernel\": \"C: 1.0,   kernel: linear\"}, {\"user_id\": \"10047_09030\", \"score\": 0.8698529411764706, \"C\": 1.0, \"kernel\": \"rbf\", \"c_kernel\": \"C: 1.0,   kernel: rbf\"}, {\"user_id\": \"10047_09030\", \"score\": 0.8330882352941176, \"C\": 5.0, \"kernel\": \"linear\", \"c_kernel\": \"C: 5.0,   kernel: linear\"}, {\"user_id\": \"10047_09030\", \"score\": 0.8816176470588235, \"C\": 5.0, \"kernel\": \"rbf\", \"c_kernel\": \"C: 5.0,   kernel: rbf\"}, {\"user_id\": \"10047_09030\", \"score\": 0.8330882352941176, \"C\": 10.0, \"kernel\": \"linear\", \"c_kernel\": \"C: 10.0,   kernel: linear\"}, {\"user_id\": \"10047_09030\", \"score\": 0.8816176470588235, \"C\": 10.0, \"kernel\": \"rbf\", \"c_kernel\": \"C: 10.0,   kernel: rbf\"}, {\"user_id\": \"10050_09079\", \"score\": 0.8110294117647058, \"C\": 0.7, \"kernel\": \"linear\", \"c_kernel\": \"C: 0.7,   kernel: linear\"}, {\"user_id\": \"10050_09079\", \"score\": 0.811029411764706, \"C\": 0.7, \"kernel\": \"rbf\", \"c_kernel\": \"C: 0.7,   kernel: rbf\"}, {\"user_id\": \"10050_09079\", \"score\": 0.8110294117647058, \"C\": 1.0, \"kernel\": \"linear\", \"c_kernel\": \"C: 1.0,   kernel: linear\"}, {\"user_id\": \"10050_09079\", \"score\": 0.8227941176470589, \"C\": 1.0, \"kernel\": \"rbf\", \"c_kernel\": \"C: 1.0,   kernel: rbf\"}, {\"user_id\": \"10050_09079\", \"score\": 0.8110294117647058, \"C\": 5.0, \"kernel\": \"linear\", \"c_kernel\": \"C: 5.0,   kernel: linear\"}, {\"user_id\": \"10050_09079\", \"score\": 0.8227941176470589, \"C\": 5.0, \"kernel\": \"rbf\", \"c_kernel\": \"C: 5.0,   kernel: rbf\"}, {\"user_id\": \"10050_09079\", \"score\": 0.8110294117647058, \"C\": 10.0, \"kernel\": \"linear\", \"c_kernel\": \"C: 10.0,   kernel: linear\"}, {\"user_id\": \"10050_09079\", \"score\": 0.8227941176470589, \"C\": 10.0, \"kernel\": \"rbf\", \"c_kernel\": \"C: 10.0,   kernel: rbf\"}, {\"user_id\": \"10053_09018\", \"score\": 0.5632352941176471, \"C\": 0.7, \"kernel\": \"linear\", \"c_kernel\": \"C: 0.7,   kernel: linear\"}, {\"user_id\": \"10053_09018\", \"score\": 0.6573529411764707, \"C\": 0.7, \"kernel\": \"rbf\", \"c_kernel\": \"C: 0.7,   kernel: rbf\"}, {\"user_id\": \"10053_09018\", \"score\": 0.5632352941176471, \"C\": 1.0, \"kernel\": \"linear\", \"c_kernel\": \"C: 1.0,   kernel: linear\"}, {\"user_id\": \"10053_09018\", \"score\": 0.7051470588235293, \"C\": 1.0, \"kernel\": \"rbf\", \"c_kernel\": \"C: 1.0,   kernel: rbf\"}, {\"user_id\": \"10053_09018\", \"score\": 0.5632352941176471, \"C\": 5.0, \"kernel\": \"linear\", \"c_kernel\": \"C: 5.0,   kernel: linear\"}, {\"user_id\": \"10053_09018\", \"score\": 0.6580882352941176, \"C\": 5.0, \"kernel\": \"rbf\", \"c_kernel\": \"C: 5.0,   kernel: rbf\"}, {\"user_id\": \"10053_09018\", \"score\": 0.5632352941176471, \"C\": 10.0, \"kernel\": \"linear\", \"c_kernel\": \"C: 10.0,   kernel: linear\"}, {\"user_id\": \"10053_09018\", \"score\": 0.6580882352941176, \"C\": 10.0, \"kernel\": \"rbf\", \"c_kernel\": \"C: 10.0,   kernel: rbf\"}, {\"user_id\": \"10056_09615\", \"score\": 0.5632352941176471, \"C\": 0.7, \"kernel\": \"linear\", \"c_kernel\": \"C: 0.7,   kernel: linear\"}, {\"user_id\": \"10056_09615\", \"score\": 0.5955882352941176, \"C\": 0.7, \"kernel\": \"rbf\", \"c_kernel\": \"C: 0.7,   kernel: rbf\"}, {\"user_id\": \"10056_09615\", \"score\": 0.5632352941176471, \"C\": 1.0, \"kernel\": \"linear\", \"c_kernel\": \"C: 1.0,   kernel: linear\"}, {\"user_id\": \"10056_09615\", \"score\": 0.6323529411764706, \"C\": 1.0, \"kernel\": \"rbf\", \"c_kernel\": \"C: 1.0,   kernel: rbf\"}, {\"user_id\": \"10056_09615\", \"score\": 0.5632352941176471, \"C\": 5.0, \"kernel\": \"linear\", \"c_kernel\": \"C: 5.0,   kernel: linear\"}, {\"user_id\": \"10056_09615\", \"score\": 0.6095588235294118, \"C\": 5.0, \"kernel\": \"rbf\", \"c_kernel\": \"C: 5.0,   kernel: rbf\"}, {\"user_id\": \"10056_09615\", \"score\": 0.5632352941176471, \"C\": 10.0, \"kernel\": \"linear\", \"c_kernel\": \"C: 10.0,   kernel: linear\"}, {\"user_id\": \"10056_09615\", \"score\": 0.6095588235294118, \"C\": 10.0, \"kernel\": \"rbf\", \"c_kernel\": \"C: 10.0,   kernel: rbf\"}, {\"user_id\": \"10057_10124\", \"score\": 0.5110294117647058, \"C\": 0.7, \"kernel\": \"linear\", \"c_kernel\": \"C: 0.7,   kernel: linear\"}, {\"user_id\": \"10057_10124\", \"score\": 0.47720588235294115, \"C\": 0.7, \"kernel\": \"rbf\", \"c_kernel\": \"C: 0.7,   kernel: rbf\"}, {\"user_id\": \"10057_10124\", \"score\": 0.5110294117647058, \"C\": 1.0, \"kernel\": \"linear\", \"c_kernel\": \"C: 1.0,   kernel: linear\"}, {\"user_id\": \"10057_10124\", \"score\": 0.5242647058823529, \"C\": 1.0, \"kernel\": \"rbf\", \"c_kernel\": \"C: 1.0,   kernel: rbf\"}, {\"user_id\": \"10057_10124\", \"score\": 0.5110294117647058, \"C\": 5.0, \"kernel\": \"linear\", \"c_kernel\": \"C: 5.0,   kernel: linear\"}, {\"user_id\": \"10057_10124\", \"score\": 0.5235294117647059, \"C\": 5.0, \"kernel\": \"rbf\", \"c_kernel\": \"C: 5.0,   kernel: rbf\"}, {\"user_id\": \"10057_10124\", \"score\": 0.5110294117647058, \"C\": 10.0, \"kernel\": \"linear\", \"c_kernel\": \"C: 10.0,   kernel: linear\"}, {\"user_id\": \"10057_10124\", \"score\": 0.5235294117647059, \"C\": 10.0, \"kernel\": \"rbf\", \"c_kernel\": \"C: 10.0,   kernel: rbf\"}, {\"user_id\": \"10060_09359\", \"score\": 0.513235294117647, \"C\": 0.7, \"kernel\": \"linear\", \"c_kernel\": \"C: 0.7,   kernel: linear\"}, {\"user_id\": \"10060_09359\", \"score\": 0.6323529411764706, \"C\": 0.7, \"kernel\": \"rbf\", \"c_kernel\": \"C: 0.7,   kernel: rbf\"}, {\"user_id\": \"10060_09359\", \"score\": 0.513235294117647, \"C\": 1.0, \"kernel\": \"linear\", \"c_kernel\": \"C: 1.0,   kernel: linear\"}, {\"user_id\": \"10060_09359\", \"score\": 0.5852941176470587, \"C\": 1.0, \"kernel\": \"rbf\", \"c_kernel\": \"C: 1.0,   kernel: rbf\"}, {\"user_id\": \"10060_09359\", \"score\": 0.513235294117647, \"C\": 5.0, \"kernel\": \"linear\", \"c_kernel\": \"C: 5.0,   kernel: linear\"}, {\"user_id\": \"10060_09359\", \"score\": 0.5838235294117646, \"C\": 5.0, \"kernel\": \"rbf\", \"c_kernel\": \"C: 5.0,   kernel: rbf\"}, {\"user_id\": \"10060_09359\", \"score\": 0.513235294117647, \"C\": 10.0, \"kernel\": \"linear\", \"c_kernel\": \"C: 10.0,   kernel: linear\"}, {\"user_id\": \"10060_09359\", \"score\": 0.5838235294117646, \"C\": 10.0, \"kernel\": \"rbf\", \"c_kernel\": \"C: 10.0,   kernel: rbf\"}, {\"user_id\": \"10061_09308\", \"score\": 0.8823529411764707, \"C\": 0.7, \"kernel\": \"linear\", \"c_kernel\": \"C: 0.7,   kernel: linear\"}, {\"user_id\": \"10061_09308\", \"score\": 0.9051470588235293, \"C\": 0.7, \"kernel\": \"rbf\", \"c_kernel\": \"C: 0.7,   kernel: rbf\"}, {\"user_id\": \"10061_09308\", \"score\": 0.8823529411764707, \"C\": 1.0, \"kernel\": \"linear\", \"c_kernel\": \"C: 1.0,   kernel: linear\"}, {\"user_id\": \"10061_09308\", \"score\": 0.9176470588235294, \"C\": 1.0, \"kernel\": \"rbf\", \"c_kernel\": \"C: 1.0,   kernel: rbf\"}, {\"user_id\": \"10061_09308\", \"score\": 0.8823529411764707, \"C\": 5.0, \"kernel\": \"linear\", \"c_kernel\": \"C: 5.0,   kernel: linear\"}, {\"user_id\": \"10061_09308\", \"score\": 0.9411764705882352, \"C\": 5.0, \"kernel\": \"rbf\", \"c_kernel\": \"C: 5.0,   kernel: rbf\"}, {\"user_id\": \"10061_09308\", \"score\": 0.8823529411764707, \"C\": 10.0, \"kernel\": \"linear\", \"c_kernel\": \"C: 10.0,   kernel: linear\"}, {\"user_id\": \"10061_09308\", \"score\": 0.9411764705882352, \"C\": 10.0, \"kernel\": \"rbf\", \"c_kernel\": \"C: 10.0,   kernel: rbf\"}, {\"user_id\": \"10065_09587\", \"score\": 0.4889705882352941, \"C\": 0.7, \"kernel\": \"linear\", \"c_kernel\": \"C: 0.7,   kernel: linear\"}, {\"user_id\": \"10065_09587\", \"score\": 0.44191176470588234, \"C\": 0.7, \"kernel\": \"rbf\", \"c_kernel\": \"C: 0.7,   kernel: rbf\"}, {\"user_id\": \"10065_09587\", \"score\": 0.4889705882352941, \"C\": 1.0, \"kernel\": \"linear\", \"c_kernel\": \"C: 1.0,   kernel: linear\"}, {\"user_id\": \"10065_09587\", \"score\": 0.4772058823529412, \"C\": 1.0, \"kernel\": \"rbf\", \"c_kernel\": \"C: 1.0,   kernel: rbf\"}, {\"user_id\": \"10065_09587\", \"score\": 0.4889705882352941, \"C\": 5.0, \"kernel\": \"linear\", \"c_kernel\": \"C: 5.0,   kernel: linear\"}, {\"user_id\": \"10065_09587\", \"score\": 0.4647058823529412, \"C\": 5.0, \"kernel\": \"rbf\", \"c_kernel\": \"C: 5.0,   kernel: rbf\"}, {\"user_id\": \"10065_09587\", \"score\": 0.4889705882352941, \"C\": 10.0, \"kernel\": \"linear\", \"c_kernel\": \"C: 10.0,   kernel: linear\"}, {\"user_id\": \"10065_09587\", \"score\": 0.4647058823529412, \"C\": 10.0, \"kernel\": \"rbf\", \"c_kernel\": \"C: 10.0,   kernel: rbf\"}, {\"user_id\": \"10066_09687\", \"score\": 0.8470588235294118, \"C\": 0.7, \"kernel\": \"linear\", \"c_kernel\": \"C: 0.7,   kernel: linear\"}, {\"user_id\": \"10066_09687\", \"score\": 0.8933823529411764, \"C\": 0.7, \"kernel\": \"rbf\", \"c_kernel\": \"C: 0.7,   kernel: rbf\"}, {\"user_id\": \"10066_09687\", \"score\": 0.8470588235294118, \"C\": 1.0, \"kernel\": \"linear\", \"c_kernel\": \"C: 1.0,   kernel: linear\"}, {\"user_id\": \"10066_09687\", \"score\": 0.8823529411764707, \"C\": 1.0, \"kernel\": \"rbf\", \"c_kernel\": \"C: 1.0,   kernel: rbf\"}, {\"user_id\": \"10066_09687\", \"score\": 0.8470588235294118, \"C\": 5.0, \"kernel\": \"linear\", \"c_kernel\": \"C: 5.0,   kernel: linear\"}, {\"user_id\": \"10066_09687\", \"score\": 0.8588235294117647, \"C\": 5.0, \"kernel\": \"rbf\", \"c_kernel\": \"C: 5.0,   kernel: rbf\"}, {\"user_id\": \"10066_09687\", \"score\": 0.8470588235294118, \"C\": 10.0, \"kernel\": \"linear\", \"c_kernel\": \"C: 10.0,   kernel: linear\"}, {\"user_id\": \"10066_09687\", \"score\": 0.8588235294117647, \"C\": 10.0, \"kernel\": \"rbf\", \"c_kernel\": \"C: 10.0,   kernel: rbf\"}, {\"user_id\": \"10069_09785\", \"score\": 0.8941176470588236, \"C\": 0.7, \"kernel\": \"linear\", \"c_kernel\": \"C: 0.7,   kernel: linear\"}, {\"user_id\": \"10069_09785\", \"score\": 0.7404411764705883, \"C\": 0.7, \"kernel\": \"rbf\", \"c_kernel\": \"C: 0.7,   kernel: rbf\"}, {\"user_id\": \"10069_09785\", \"score\": 0.8941176470588236, \"C\": 1.0, \"kernel\": \"linear\", \"c_kernel\": \"C: 1.0,   kernel: linear\"}, {\"user_id\": \"10069_09785\", \"score\": 0.788235294117647, \"C\": 1.0, \"kernel\": \"rbf\", \"c_kernel\": \"C: 1.0,   kernel: rbf\"}, {\"user_id\": \"10069_09785\", \"score\": 0.8941176470588236, \"C\": 5.0, \"kernel\": \"linear\", \"c_kernel\": \"C: 5.0,   kernel: linear\"}, {\"user_id\": \"10069_09785\", \"score\": 0.8117647058823529, \"C\": 5.0, \"kernel\": \"rbf\", \"c_kernel\": \"C: 5.0,   kernel: rbf\"}, {\"user_id\": \"10069_09785\", \"score\": 0.8941176470588236, \"C\": 10.0, \"kernel\": \"linear\", \"c_kernel\": \"C: 10.0,   kernel: linear\"}, {\"user_id\": \"10069_09785\", \"score\": 0.8117647058823529, \"C\": 10.0, \"kernel\": \"rbf\", \"c_kernel\": \"C: 10.0,   kernel: rbf\"}, {\"user_id\": \"10080_09931\", \"score\": 0.725, \"C\": 0.7, \"kernel\": \"linear\", \"c_kernel\": \"C: 0.7,   kernel: linear\"}, {\"user_id\": \"10080_09931\", \"score\": 0.7125, \"C\": 0.7, \"kernel\": \"rbf\", \"c_kernel\": \"C: 0.7,   kernel: rbf\"}, {\"user_id\": \"10080_09931\", \"score\": 0.725, \"C\": 1.0, \"kernel\": \"linear\", \"c_kernel\": \"C: 1.0,   kernel: linear\"}, {\"user_id\": \"10080_09931\", \"score\": 0.700735294117647, \"C\": 1.0, \"kernel\": \"rbf\", \"c_kernel\": \"C: 1.0,   kernel: rbf\"}, {\"user_id\": \"10080_09931\", \"score\": 0.725, \"C\": 5.0, \"kernel\": \"linear\", \"c_kernel\": \"C: 5.0,   kernel: linear\"}, {\"user_id\": \"10080_09931\", \"score\": 0.713235294117647, \"C\": 5.0, \"kernel\": \"rbf\", \"c_kernel\": \"C: 5.0,   kernel: rbf\"}, {\"user_id\": \"10080_09931\", \"score\": 0.725, \"C\": 10.0, \"kernel\": \"linear\", \"c_kernel\": \"C: 10.0,   kernel: linear\"}, {\"user_id\": \"10080_09931\", \"score\": 0.713235294117647, \"C\": 10.0, \"kernel\": \"rbf\", \"c_kernel\": \"C: 10.0,   kernel: rbf\"}, {\"user_id\": \"10084_10188\", \"score\": 0.6588235294117647, \"C\": 0.7, \"kernel\": \"linear\", \"c_kernel\": \"C: 0.7,   kernel: linear\"}, {\"user_id\": \"10084_10188\", \"score\": 0.7411764705882353, \"C\": 0.7, \"kernel\": \"rbf\", \"c_kernel\": \"C: 0.7,   kernel: rbf\"}, {\"user_id\": \"10084_10188\", \"score\": 0.6588235294117647, \"C\": 1.0, \"kernel\": \"linear\", \"c_kernel\": \"C: 1.0,   kernel: linear\"}, {\"user_id\": \"10084_10188\", \"score\": 0.7294117647058823, \"C\": 1.0, \"kernel\": \"rbf\", \"c_kernel\": \"C: 1.0,   kernel: rbf\"}, {\"user_id\": \"10084_10188\", \"score\": 0.6588235294117647, \"C\": 5.0, \"kernel\": \"linear\", \"c_kernel\": \"C: 5.0,   kernel: linear\"}, {\"user_id\": \"10084_10188\", \"score\": 0.7058823529411764, \"C\": 5.0, \"kernel\": \"rbf\", \"c_kernel\": \"C: 5.0,   kernel: rbf\"}, {\"user_id\": \"10084_10188\", \"score\": 0.6588235294117647, \"C\": 10.0, \"kernel\": \"linear\", \"c_kernel\": \"C: 10.0,   kernel: linear\"}, {\"user_id\": \"10084_10188\", \"score\": 0.7058823529411764, \"C\": 10.0, \"kernel\": \"rbf\", \"c_kernel\": \"C: 10.0,   kernel: rbf\"}, {\"user_id\": \"30004_08965\", \"score\": 0.7852941176470589, \"C\": 0.7, \"kernel\": \"linear\", \"c_kernel\": \"C: 0.7,   kernel: linear\"}, {\"user_id\": \"30004_08965\", \"score\": 0.8705882352941178, \"C\": 0.7, \"kernel\": \"rbf\", \"c_kernel\": \"C: 0.7,   kernel: rbf\"}, {\"user_id\": \"30004_08965\", \"score\": 0.7852941176470589, \"C\": 1.0, \"kernel\": \"linear\", \"c_kernel\": \"C: 1.0,   kernel: linear\"}, {\"user_id\": \"30004_08965\", \"score\": 0.8588235294117647, \"C\": 1.0, \"kernel\": \"rbf\", \"c_kernel\": \"C: 1.0,   kernel: rbf\"}, {\"user_id\": \"30004_08965\", \"score\": 0.7852941176470589, \"C\": 5.0, \"kernel\": \"linear\", \"c_kernel\": \"C: 5.0,   kernel: linear\"}, {\"user_id\": \"30004_08965\", \"score\": 0.8227941176470589, \"C\": 5.0, \"kernel\": \"rbf\", \"c_kernel\": \"C: 5.0,   kernel: rbf\"}, {\"user_id\": \"30004_08965\", \"score\": 0.7852941176470589, \"C\": 10.0, \"kernel\": \"linear\", \"c_kernel\": \"C: 10.0,   kernel: linear\"}, {\"user_id\": \"30004_08965\", \"score\": 0.8227941176470589, \"C\": 10.0, \"kernel\": \"rbf\", \"c_kernel\": \"C: 10.0,   kernel: rbf\"}, {\"user_id\": \"30008_08981\", \"score\": 0.5830882352941176, \"C\": 0.7, \"kernel\": \"linear\", \"c_kernel\": \"C: 0.7,   kernel: linear\"}, {\"user_id\": \"30008_08981\", \"score\": 0.5727941176470588, \"C\": 0.7, \"kernel\": \"rbf\", \"c_kernel\": \"C: 0.7,   kernel: rbf\"}, {\"user_id\": \"30008_08981\", \"score\": 0.5830882352941176, \"C\": 1.0, \"kernel\": \"linear\", \"c_kernel\": \"C: 1.0,   kernel: linear\"}, {\"user_id\": \"30008_08981\", \"score\": 0.6558823529411765, \"C\": 1.0, \"kernel\": \"rbf\", \"c_kernel\": \"C: 1.0,   kernel: rbf\"}, {\"user_id\": \"30008_08981\", \"score\": 0.5830882352941176, \"C\": 5.0, \"kernel\": \"linear\", \"c_kernel\": \"C: 5.0,   kernel: linear\"}, {\"user_id\": \"30008_08981\", \"score\": 0.7022058823529411, \"C\": 5.0, \"kernel\": \"rbf\", \"c_kernel\": \"C: 5.0,   kernel: rbf\"}, {\"user_id\": \"30008_08981\", \"score\": 0.5830882352941176, \"C\": 10.0, \"kernel\": \"linear\", \"c_kernel\": \"C: 10.0,   kernel: linear\"}, {\"user_id\": \"30008_08981\", \"score\": 0.7022058823529411, \"C\": 10.0, \"kernel\": \"rbf\", \"c_kernel\": \"C: 10.0,   kernel: rbf\"}, {\"user_id\": \"30009_09227\", \"score\": 0.7029411764705882, \"C\": 0.7, \"kernel\": \"linear\", \"c_kernel\": \"C: 0.7,   kernel: linear\"}, {\"user_id\": \"30009_09227\", \"score\": 0.7875, \"C\": 0.7, \"kernel\": \"rbf\", \"c_kernel\": \"C: 0.7,   kernel: rbf\"}, {\"user_id\": \"30009_09227\", \"score\": 0.7029411764705882, \"C\": 1.0, \"kernel\": \"linear\", \"c_kernel\": \"C: 1.0,   kernel: linear\"}, {\"user_id\": \"30009_09227\", \"score\": 0.8110294117647058, \"C\": 1.0, \"kernel\": \"rbf\", \"c_kernel\": \"C: 1.0,   kernel: rbf\"}, {\"user_id\": \"30009_09227\", \"score\": 0.7029411764705882, \"C\": 5.0, \"kernel\": \"linear\", \"c_kernel\": \"C: 5.0,   kernel: linear\"}, {\"user_id\": \"30009_09227\", \"score\": 0.7992647058823529, \"C\": 5.0, \"kernel\": \"rbf\", \"c_kernel\": \"C: 5.0,   kernel: rbf\"}, {\"user_id\": \"30009_09227\", \"score\": 0.7029411764705882, \"C\": 10.0, \"kernel\": \"linear\", \"c_kernel\": \"C: 10.0,   kernel: linear\"}, {\"user_id\": \"30009_09227\", \"score\": 0.7992647058823529, \"C\": 10.0, \"kernel\": \"rbf\", \"c_kernel\": \"C: 10.0,   kernel: rbf\"}, {\"user_id\": \"30011_09170\", \"score\": 0.7647058823529411, \"C\": 0.7, \"kernel\": \"linear\", \"c_kernel\": \"C: 0.7,   kernel: linear\"}, {\"user_id\": \"30011_09170\", \"score\": 0.8823529411764707, \"C\": 0.7, \"kernel\": \"rbf\", \"c_kernel\": \"C: 0.7,   kernel: rbf\"}, {\"user_id\": \"30011_09170\", \"score\": 0.7647058823529411, \"C\": 1.0, \"kernel\": \"linear\", \"c_kernel\": \"C: 1.0,   kernel: linear\"}, {\"user_id\": \"30011_09170\", \"score\": 0.8588235294117647, \"C\": 1.0, \"kernel\": \"rbf\", \"c_kernel\": \"C: 1.0,   kernel: rbf\"}, {\"user_id\": \"30011_09170\", \"score\": 0.7647058823529411, \"C\": 5.0, \"kernel\": \"linear\", \"c_kernel\": \"C: 5.0,   kernel: linear\"}, {\"user_id\": \"30011_09170\", \"score\": 0.8235294117647058, \"C\": 5.0, \"kernel\": \"rbf\", \"c_kernel\": \"C: 5.0,   kernel: rbf\"}, {\"user_id\": \"30011_09170\", \"score\": 0.7647058823529411, \"C\": 10.0, \"kernel\": \"linear\", \"c_kernel\": \"C: 10.0,   kernel: linear\"}, {\"user_id\": \"30011_09170\", \"score\": 0.8235294117647058, \"C\": 10.0, \"kernel\": \"rbf\", \"c_kernel\": \"C: 10.0,   kernel: rbf\"}, {\"user_id\": \"30012_09102\", \"score\": 0.4389705882352941, \"C\": 0.7, \"kernel\": \"linear\", \"c_kernel\": \"C: 0.7,   kernel: linear\"}, {\"user_id\": \"30012_09102\", \"score\": 0.5367647058823529, \"C\": 0.7, \"kernel\": \"rbf\", \"c_kernel\": \"C: 0.7,   kernel: rbf\"}, {\"user_id\": \"30012_09102\", \"score\": 0.4389705882352941, \"C\": 1.0, \"kernel\": \"linear\", \"c_kernel\": \"C: 1.0,   kernel: linear\"}, {\"user_id\": \"30012_09102\", \"score\": 0.5139705882352942, \"C\": 1.0, \"kernel\": \"rbf\", \"c_kernel\": \"C: 1.0,   kernel: rbf\"}, {\"user_id\": \"30012_09102\", \"score\": 0.4389705882352941, \"C\": 5.0, \"kernel\": \"linear\", \"c_kernel\": \"C: 5.0,   kernel: linear\"}, {\"user_id\": \"30012_09102\", \"score\": 0.5132352941176471, \"C\": 5.0, \"kernel\": \"rbf\", \"c_kernel\": \"C: 5.0,   kernel: rbf\"}, {\"user_id\": \"30012_09102\", \"score\": 0.4389705882352941, \"C\": 10.0, \"kernel\": \"linear\", \"c_kernel\": \"C: 10.0,   kernel: linear\"}, {\"user_id\": \"30012_09102\", \"score\": 0.5132352941176471, \"C\": 10.0, \"kernel\": \"rbf\", \"c_kernel\": \"C: 10.0,   kernel: rbf\"}, {\"user_id\": \"30014_09352\", \"score\": 0.4772058823529412, \"C\": 0.7, \"kernel\": \"linear\", \"c_kernel\": \"C: 0.7,   kernel: linear\"}, {\"user_id\": \"30014_09352\", \"score\": 0.5, \"C\": 0.7, \"kernel\": \"rbf\", \"c_kernel\": \"C: 0.7,   kernel: rbf\"}, {\"user_id\": \"30014_09352\", \"score\": 0.4772058823529412, \"C\": 1.0, \"kernel\": \"linear\", \"c_kernel\": \"C: 1.0,   kernel: linear\"}, {\"user_id\": \"30014_09352\", \"score\": 0.4772058823529412, \"C\": 1.0, \"kernel\": \"rbf\", \"c_kernel\": \"C: 1.0,   kernel: rbf\"}, {\"user_id\": \"30014_09352\", \"score\": 0.4772058823529412, \"C\": 5.0, \"kernel\": \"linear\", \"c_kernel\": \"C: 5.0,   kernel: linear\"}, {\"user_id\": \"30014_09352\", \"score\": 0.550735294117647, \"C\": 5.0, \"kernel\": \"rbf\", \"c_kernel\": \"C: 5.0,   kernel: rbf\"}, {\"user_id\": \"30014_09352\", \"score\": 0.4772058823529412, \"C\": 10.0, \"kernel\": \"linear\", \"c_kernel\": \"C: 10.0,   kernel: linear\"}, {\"user_id\": \"30014_09352\", \"score\": 0.550735294117647, \"C\": 10.0, \"kernel\": \"rbf\", \"c_kernel\": \"C: 10.0,   kernel: rbf\"}, {\"user_id\": \"30017_09567\", \"score\": 0.8338235294117646, \"C\": 0.7, \"kernel\": \"linear\", \"c_kernel\": \"C: 0.7,   kernel: linear\"}, {\"user_id\": \"30017_09567\", \"score\": 0.8698529411764706, \"C\": 0.7, \"kernel\": \"rbf\", \"c_kernel\": \"C: 0.7,   kernel: rbf\"}, {\"user_id\": \"30017_09567\", \"score\": 0.8338235294117646, \"C\": 1.0, \"kernel\": \"linear\", \"c_kernel\": \"C: 1.0,   kernel: linear\"}, {\"user_id\": \"30017_09567\", \"score\": 0.8698529411764706, \"C\": 1.0, \"kernel\": \"rbf\", \"c_kernel\": \"C: 1.0,   kernel: rbf\"}, {\"user_id\": \"30017_09567\", \"score\": 0.8338235294117646, \"C\": 5.0, \"kernel\": \"linear\", \"c_kernel\": \"C: 5.0,   kernel: linear\"}, {\"user_id\": \"30017_09567\", \"score\": 0.8580882352941177, \"C\": 5.0, \"kernel\": \"rbf\", \"c_kernel\": \"C: 5.0,   kernel: rbf\"}, {\"user_id\": \"30017_09567\", \"score\": 0.8338235294117646, \"C\": 10.0, \"kernel\": \"linear\", \"c_kernel\": \"C: 10.0,   kernel: linear\"}, {\"user_id\": \"30017_09567\", \"score\": 0.8580882352941177, \"C\": 10.0, \"kernel\": \"rbf\", \"c_kernel\": \"C: 10.0,   kernel: rbf\"}, {\"user_id\": \"30020_09236\", \"score\": 0.6419117647058824, \"C\": 0.7, \"kernel\": \"linear\", \"c_kernel\": \"C: 0.7,   kernel: linear\"}, {\"user_id\": \"30020_09236\", \"score\": 0.7117647058823529, \"C\": 0.7, \"kernel\": \"rbf\", \"c_kernel\": \"C: 0.7,   kernel: rbf\"}, {\"user_id\": \"30020_09236\", \"score\": 0.6419117647058824, \"C\": 1.0, \"kernel\": \"linear\", \"c_kernel\": \"C: 1.0,   kernel: linear\"}, {\"user_id\": \"30020_09236\", \"score\": 0.7242647058823529, \"C\": 1.0, \"kernel\": \"rbf\", \"c_kernel\": \"C: 1.0,   kernel: rbf\"}, {\"user_id\": \"30020_09236\", \"score\": 0.6419117647058824, \"C\": 5.0, \"kernel\": \"linear\", \"c_kernel\": \"C: 5.0,   kernel: linear\"}, {\"user_id\": \"30020_09236\", \"score\": 0.7007352941176471, \"C\": 5.0, \"kernel\": \"rbf\", \"c_kernel\": \"C: 5.0,   kernel: rbf\"}, {\"user_id\": \"30020_09236\", \"score\": 0.6419117647058824, \"C\": 10.0, \"kernel\": \"linear\", \"c_kernel\": \"C: 10.0,   kernel: linear\"}, {\"user_id\": \"30020_09236\", \"score\": 0.7007352941176471, \"C\": 10.0, \"kernel\": \"rbf\", \"c_kernel\": \"C: 10.0,   kernel: rbf\"}, {\"user_id\": \"30024_09398\", \"score\": 0.9176470588235294, \"C\": 0.7, \"kernel\": \"linear\", \"c_kernel\": \"C: 0.7,   kernel: linear\"}, {\"user_id\": \"30024_09398\", \"score\": 0.9411764705882353, \"C\": 0.7, \"kernel\": \"rbf\", \"c_kernel\": \"C: 0.7,   kernel: rbf\"}, {\"user_id\": \"30024_09398\", \"score\": 0.9176470588235294, \"C\": 1.0, \"kernel\": \"linear\", \"c_kernel\": \"C: 1.0,   kernel: linear\"}, {\"user_id\": \"30024_09398\", \"score\": 0.9411764705882353, \"C\": 1.0, \"kernel\": \"rbf\", \"c_kernel\": \"C: 1.0,   kernel: rbf\"}, {\"user_id\": \"30024_09398\", \"score\": 0.9176470588235294, \"C\": 5.0, \"kernel\": \"linear\", \"c_kernel\": \"C: 5.0,   kernel: linear\"}, {\"user_id\": \"30024_09398\", \"score\": 0.9411764705882353, \"C\": 5.0, \"kernel\": \"rbf\", \"c_kernel\": \"C: 5.0,   kernel: rbf\"}, {\"user_id\": \"30024_09398\", \"score\": 0.9176470588235294, \"C\": 10.0, \"kernel\": \"linear\", \"c_kernel\": \"C: 10.0,   kernel: linear\"}, {\"user_id\": \"30024_09398\", \"score\": 0.9411764705882353, \"C\": 10.0, \"kernel\": \"rbf\", \"c_kernel\": \"C: 10.0,   kernel: rbf\"}, {\"user_id\": \"30025_09402\", \"score\": 0.3919117647058824, \"C\": 0.7, \"kernel\": \"linear\", \"c_kernel\": \"C: 0.7,   kernel: linear\"}, {\"user_id\": \"30025_09402\", \"score\": 0.4764705882352942, \"C\": 0.7, \"kernel\": \"rbf\", \"c_kernel\": \"C: 0.7,   kernel: rbf\"}, {\"user_id\": \"30025_09402\", \"score\": 0.3919117647058824, \"C\": 1.0, \"kernel\": \"linear\", \"c_kernel\": \"C: 1.0,   kernel: linear\"}, {\"user_id\": \"30025_09402\", \"score\": 0.475, \"C\": 1.0, \"kernel\": \"rbf\", \"c_kernel\": \"C: 1.0,   kernel: rbf\"}, {\"user_id\": \"30025_09402\", \"score\": 0.3919117647058824, \"C\": 5.0, \"kernel\": \"linear\", \"c_kernel\": \"C: 5.0,   kernel: linear\"}, {\"user_id\": \"30025_09402\", \"score\": 0.474264705882353, \"C\": 5.0, \"kernel\": \"rbf\", \"c_kernel\": \"C: 5.0,   kernel: rbf\"}, {\"user_id\": \"30025_09402\", \"score\": 0.3919117647058824, \"C\": 10.0, \"kernel\": \"linear\", \"c_kernel\": \"C: 10.0,   kernel: linear\"}, {\"user_id\": \"30025_09402\", \"score\": 0.474264705882353, \"C\": 10.0, \"kernel\": \"rbf\", \"c_kernel\": \"C: 10.0,   kernel: rbf\"}, {\"user_id\": \"30026_09430\", \"score\": 0.7279411764705882, \"C\": 0.7, \"kernel\": \"linear\", \"c_kernel\": \"C: 0.7,   kernel: linear\"}, {\"user_id\": \"30026_09430\", \"score\": 0.7169117647058824, \"C\": 0.7, \"kernel\": \"rbf\", \"c_kernel\": \"C: 0.7,   kernel: rbf\"}, {\"user_id\": \"30026_09430\", \"score\": 0.7279411764705882, \"C\": 1.0, \"kernel\": \"linear\", \"c_kernel\": \"C: 1.0,   kernel: linear\"}, {\"user_id\": \"30026_09430\", \"score\": 0.7404411764705883, \"C\": 1.0, \"kernel\": \"rbf\", \"c_kernel\": \"C: 1.0,   kernel: rbf\"}, {\"user_id\": \"30026_09430\", \"score\": 0.7279411764705882, \"C\": 5.0, \"kernel\": \"linear\", \"c_kernel\": \"C: 5.0,   kernel: linear\"}, {\"user_id\": \"30026_09430\", \"score\": 0.7529411764705882, \"C\": 5.0, \"kernel\": \"rbf\", \"c_kernel\": \"C: 5.0,   kernel: rbf\"}, {\"user_id\": \"30026_09430\", \"score\": 0.7279411764705882, \"C\": 10.0, \"kernel\": \"linear\", \"c_kernel\": \"C: 10.0,   kernel: linear\"}, {\"user_id\": \"30026_09430\", \"score\": 0.7529411764705882, \"C\": 10.0, \"kernel\": \"rbf\", \"c_kernel\": \"C: 10.0,   kernel: rbf\"}, {\"user_id\": \"30027_09638\", \"score\": 0.7411764705882353, \"C\": 0.7, \"kernel\": \"linear\", \"c_kernel\": \"C: 0.7,   kernel: linear\"}, {\"user_id\": \"30027_09638\", \"score\": 0.8705882352941176, \"C\": 0.7, \"kernel\": \"rbf\", \"c_kernel\": \"C: 0.7,   kernel: rbf\"}, {\"user_id\": \"30027_09638\", \"score\": 0.7411764705882353, \"C\": 1.0, \"kernel\": \"linear\", \"c_kernel\": \"C: 1.0,   kernel: linear\"}, {\"user_id\": \"30027_09638\", \"score\": 0.8588235294117647, \"C\": 1.0, \"kernel\": \"rbf\", \"c_kernel\": \"C: 1.0,   kernel: rbf\"}, {\"user_id\": \"30027_09638\", \"score\": 0.7411764705882353, \"C\": 5.0, \"kernel\": \"linear\", \"c_kernel\": \"C: 5.0,   kernel: linear\"}, {\"user_id\": \"30027_09638\", \"score\": 0.8352941176470589, \"C\": 5.0, \"kernel\": \"rbf\", \"c_kernel\": \"C: 5.0,   kernel: rbf\"}, {\"user_id\": \"30027_09638\", \"score\": 0.7411764705882353, \"C\": 10.0, \"kernel\": \"linear\", \"c_kernel\": \"C: 10.0,   kernel: linear\"}, {\"user_id\": \"30027_09638\", \"score\": 0.8352941176470589, \"C\": 10.0, \"kernel\": \"rbf\", \"c_kernel\": \"C: 10.0,   kernel: rbf\"}, {\"user_id\": \"30033_09776\", \"score\": 0.5110294117647058, \"C\": 0.7, \"kernel\": \"linear\", \"c_kernel\": \"C: 0.7,   kernel: linear\"}, {\"user_id\": \"30033_09776\", \"score\": 0.6205882352941177, \"C\": 0.7, \"kernel\": \"rbf\", \"c_kernel\": \"C: 0.7,   kernel: rbf\"}, {\"user_id\": \"30033_09776\", \"score\": 0.5110294117647058, \"C\": 1.0, \"kernel\": \"linear\", \"c_kernel\": \"C: 1.0,   kernel: linear\"}, {\"user_id\": \"30033_09776\", \"score\": 0.6323529411764707, \"C\": 1.0, \"kernel\": \"rbf\", \"c_kernel\": \"C: 1.0,   kernel: rbf\"}, {\"user_id\": \"30033_09776\", \"score\": 0.5110294117647058, \"C\": 5.0, \"kernel\": \"linear\", \"c_kernel\": \"C: 5.0,   kernel: linear\"}, {\"user_id\": \"30033_09776\", \"score\": 0.6573529411764706, \"C\": 5.0, \"kernel\": \"rbf\", \"c_kernel\": \"C: 5.0,   kernel: rbf\"}, {\"user_id\": \"30033_09776\", \"score\": 0.5110294117647058, \"C\": 10.0, \"kernel\": \"linear\", \"c_kernel\": \"C: 10.0,   kernel: linear\"}, {\"user_id\": \"30033_09776\", \"score\": 0.6573529411764706, \"C\": 10.0, \"kernel\": \"rbf\", \"c_kernel\": \"C: 10.0,   kernel: rbf\"}, {\"user_id\": \"30035_09836\", \"score\": 0.6867647058823529, \"C\": 0.7, \"kernel\": \"linear\", \"c_kernel\": \"C: 0.7,   kernel: linear\"}, {\"user_id\": \"30035_09836\", \"score\": 0.8080882352941178, \"C\": 0.7, \"kernel\": \"rbf\", \"c_kernel\": \"C: 0.7,   kernel: rbf\"}, {\"user_id\": \"30035_09836\", \"score\": 0.6867647058823529, \"C\": 1.0, \"kernel\": \"linear\", \"c_kernel\": \"C: 1.0,   kernel: linear\"}, {\"user_id\": \"30035_09836\", \"score\": 0.8080882352941178, \"C\": 1.0, \"kernel\": \"rbf\", \"c_kernel\": \"C: 1.0,   kernel: rbf\"}, {\"user_id\": \"30035_09836\", \"score\": 0.6867647058823529, \"C\": 5.0, \"kernel\": \"linear\", \"c_kernel\": \"C: 5.0,   kernel: linear\"}, {\"user_id\": \"30035_09836\", \"score\": 0.7485294117647059, \"C\": 5.0, \"kernel\": \"rbf\", \"c_kernel\": \"C: 5.0,   kernel: rbf\"}, {\"user_id\": \"30035_09836\", \"score\": 0.6867647058823529, \"C\": 10.0, \"kernel\": \"linear\", \"c_kernel\": \"C: 10.0,   kernel: linear\"}, {\"user_id\": \"30035_09836\", \"score\": 0.7485294117647059, \"C\": 10.0, \"kernel\": \"rbf\", \"c_kernel\": \"C: 10.0,   kernel: rbf\"}, {\"user_id\": \"30036_09758\", \"score\": 0.5735294117647058, \"C\": 0.7, \"kernel\": \"linear\", \"c_kernel\": \"C: 0.7,   kernel: linear\"}, {\"user_id\": \"30036_09758\", \"score\": 0.45220588235294124, \"C\": 0.7, \"kernel\": \"rbf\", \"c_kernel\": \"C: 0.7,   kernel: rbf\"}, {\"user_id\": \"30036_09758\", \"score\": 0.5735294117647058, \"C\": 1.0, \"kernel\": \"linear\", \"c_kernel\": \"C: 1.0,   kernel: linear\"}, {\"user_id\": \"30036_09758\", \"score\": 0.5014705882352941, \"C\": 1.0, \"kernel\": \"rbf\", \"c_kernel\": \"C: 1.0,   kernel: rbf\"}, {\"user_id\": \"30036_09758\", \"score\": 0.5735294117647058, \"C\": 5.0, \"kernel\": \"linear\", \"c_kernel\": \"C: 5.0,   kernel: linear\"}, {\"user_id\": \"30036_09758\", \"score\": 0.5132352941176471, \"C\": 5.0, \"kernel\": \"rbf\", \"c_kernel\": \"C: 5.0,   kernel: rbf\"}, {\"user_id\": \"30036_09758\", \"score\": 0.5735294117647058, \"C\": 10.0, \"kernel\": \"linear\", \"c_kernel\": \"C: 10.0,   kernel: linear\"}, {\"user_id\": \"30036_09758\", \"score\": 0.5132352941176471, \"C\": 10.0, \"kernel\": \"rbf\", \"c_kernel\": \"C: 10.0,   kernel: rbf\"}, {\"user_id\": \"30038_09967\", \"score\": 0.9051470588235293, \"C\": 0.7, \"kernel\": \"linear\", \"c_kernel\": \"C: 0.7,   kernel: linear\"}, {\"user_id\": \"30038_09967\", \"score\": 0.9169117647058822, \"C\": 0.7, \"kernel\": \"rbf\", \"c_kernel\": \"C: 0.7,   kernel: rbf\"}, {\"user_id\": \"30038_09967\", \"score\": 0.9051470588235293, \"C\": 1.0, \"kernel\": \"linear\", \"c_kernel\": \"C: 1.0,   kernel: linear\"}, {\"user_id\": \"30038_09967\", \"score\": 0.9169117647058822, \"C\": 1.0, \"kernel\": \"rbf\", \"c_kernel\": \"C: 1.0,   kernel: rbf\"}, {\"user_id\": \"30038_09967\", \"score\": 0.9051470588235293, \"C\": 5.0, \"kernel\": \"linear\", \"c_kernel\": \"C: 5.0,   kernel: linear\"}, {\"user_id\": \"30038_09967\", \"score\": 0.9169117647058822, \"C\": 5.0, \"kernel\": \"rbf\", \"c_kernel\": \"C: 5.0,   kernel: rbf\"}, {\"user_id\": \"30038_09967\", \"score\": 0.9051470588235293, \"C\": 10.0, \"kernel\": \"linear\", \"c_kernel\": \"C: 10.0,   kernel: linear\"}, {\"user_id\": \"30038_09967\", \"score\": 0.9169117647058822, \"C\": 10.0, \"kernel\": \"rbf\", \"c_kernel\": \"C: 10.0,   kernel: rbf\"}, {\"user_id\": \"30044_10095\", \"score\": 0.7029411764705882, \"C\": 0.7, \"kernel\": \"linear\", \"c_kernel\": \"C: 0.7,   kernel: linear\"}, {\"user_id\": \"30044_10095\", \"score\": 0.8338235294117646, \"C\": 0.7, \"kernel\": \"rbf\", \"c_kernel\": \"C: 0.7,   kernel: rbf\"}, {\"user_id\": \"30044_10095\", \"score\": 0.7029411764705882, \"C\": 1.0, \"kernel\": \"linear\", \"c_kernel\": \"C: 1.0,   kernel: linear\"}, {\"user_id\": \"30044_10095\", \"score\": 0.8580882352941177, \"C\": 1.0, \"kernel\": \"rbf\", \"c_kernel\": \"C: 1.0,   kernel: rbf\"}, {\"user_id\": \"30044_10095\", \"score\": 0.7029411764705882, \"C\": 5.0, \"kernel\": \"linear\", \"c_kernel\": \"C: 5.0,   kernel: linear\"}, {\"user_id\": \"30044_10095\", \"score\": 0.8110294117647058, \"C\": 5.0, \"kernel\": \"rbf\", \"c_kernel\": \"C: 5.0,   kernel: rbf\"}, {\"user_id\": \"30044_10095\", \"score\": 0.7029411764705882, \"C\": 10.0, \"kernel\": \"linear\", \"c_kernel\": \"C: 10.0,   kernel: linear\"}, {\"user_id\": \"30044_10095\", \"score\": 0.8110294117647058, \"C\": 10.0, \"kernel\": \"rbf\", \"c_kernel\": \"C: 10.0,   kernel: rbf\"}, {\"user_id\": \"30045_10182\", \"score\": 0.7264705882352941, \"C\": 0.7, \"kernel\": \"linear\", \"c_kernel\": \"C: 0.7,   kernel: linear\"}, {\"user_id\": \"30045_10182\", \"score\": 0.8330882352941176, \"C\": 0.7, \"kernel\": \"rbf\", \"c_kernel\": \"C: 0.7,   kernel: rbf\"}, {\"user_id\": \"30045_10182\", \"score\": 0.7264705882352941, \"C\": 1.0, \"kernel\": \"linear\", \"c_kernel\": \"C: 1.0,   kernel: linear\"}, {\"user_id\": \"30045_10182\", \"score\": 0.7852941176470588, \"C\": 1.0, \"kernel\": \"rbf\", \"c_kernel\": \"C: 1.0,   kernel: rbf\"}, {\"user_id\": \"30045_10182\", \"score\": 0.7264705882352941, \"C\": 5.0, \"kernel\": \"linear\", \"c_kernel\": \"C: 5.0,   kernel: linear\"}, {\"user_id\": \"30045_10182\", \"score\": 0.7970588235294118, \"C\": 5.0, \"kernel\": \"rbf\", \"c_kernel\": \"C: 5.0,   kernel: rbf\"}, {\"user_id\": \"30045_10182\", \"score\": 0.7264705882352941, \"C\": 10.0, \"kernel\": \"linear\", \"c_kernel\": \"C: 10.0,   kernel: linear\"}, {\"user_id\": \"30045_10182\", \"score\": 0.7970588235294118, \"C\": 10.0, \"kernel\": \"rbf\", \"c_kernel\": \"C: 10.0,   kernel: rbf\"}, {\"user_id\": \"30053_10112\", \"score\": 0.6183823529411765, \"C\": 0.7, \"kernel\": \"linear\", \"c_kernel\": \"C: 0.7,   kernel: linear\"}, {\"user_id\": \"30053_10112\", \"score\": 0.5235294117647059, \"C\": 0.7, \"kernel\": \"rbf\", \"c_kernel\": \"C: 0.7,   kernel: rbf\"}, {\"user_id\": \"30053_10112\", \"score\": 0.6183823529411765, \"C\": 1.0, \"kernel\": \"linear\", \"c_kernel\": \"C: 1.0,   kernel: linear\"}, {\"user_id\": \"30053_10112\", \"score\": 0.5955882352941176, \"C\": 1.0, \"kernel\": \"rbf\", \"c_kernel\": \"C: 1.0,   kernel: rbf\"}, {\"user_id\": \"30053_10112\", \"score\": 0.6183823529411765, \"C\": 5.0, \"kernel\": \"linear\", \"c_kernel\": \"C: 5.0,   kernel: linear\"}, {\"user_id\": \"30053_10112\", \"score\": 0.5948529411764706, \"C\": 5.0, \"kernel\": \"rbf\", \"c_kernel\": \"C: 5.0,   kernel: rbf\"}, {\"user_id\": \"30053_10112\", \"score\": 0.6183823529411765, \"C\": 10.0, \"kernel\": \"linear\", \"c_kernel\": \"C: 10.0,   kernel: linear\"}, {\"user_id\": \"30053_10112\", \"score\": 0.5948529411764706, \"C\": 10.0, \"kernel\": \"rbf\", \"c_kernel\": \"C: 10.0,   kernel: rbf\"}]}}, {\"mode\": \"vega-lite\"});\n",
              "</script>"
            ],
            "text/plain": [
              "alt.Chart(...)"
            ]
          },
          "metadata": {},
          "execution_count": 73
        }
      ]
    },
    {
      "cell_type": "code",
      "execution_count": null,
      "metadata": {
        "id": "k5fhMjF0AKD0",
        "colab": {
          "base_uri": "https://localhost:8080/",
          "height": 759
        },
        "outputId": "47beb163-c957-4ee5-eb5d-e8ab180d1bb8"
      },
      "outputs": [
        {
          "output_type": "execute_result",
          "data": {
            "text/html": [
              "\n",
              "<div id=\"altair-viz-74ea65c7364c4b808b5e0eb4bf164ccc\"></div>\n",
              "<script type=\"text/javascript\">\n",
              "  var VEGA_DEBUG = (typeof VEGA_DEBUG == \"undefined\") ? {} : VEGA_DEBUG;\n",
              "  (function(spec, embedOpt){\n",
              "    let outputDiv = document.currentScript.previousElementSibling;\n",
              "    if (outputDiv.id !== \"altair-viz-74ea65c7364c4b808b5e0eb4bf164ccc\") {\n",
              "      outputDiv = document.getElementById(\"altair-viz-74ea65c7364c4b808b5e0eb4bf164ccc\");\n",
              "    }\n",
              "    const paths = {\n",
              "      \"vega\": \"https://cdn.jsdelivr.net/npm//vega@5?noext\",\n",
              "      \"vega-lib\": \"https://cdn.jsdelivr.net/npm//vega-lib?noext\",\n",
              "      \"vega-lite\": \"https://cdn.jsdelivr.net/npm//vega-lite@4.17.0?noext\",\n",
              "      \"vega-embed\": \"https://cdn.jsdelivr.net/npm//vega-embed@6?noext\",\n",
              "    };\n",
              "\n",
              "    function maybeLoadScript(lib, version) {\n",
              "      var key = `${lib.replace(\"-\", \"\")}_version`;\n",
              "      return (VEGA_DEBUG[key] == version) ?\n",
              "        Promise.resolve(paths[lib]) :\n",
              "        new Promise(function(resolve, reject) {\n",
              "          var s = document.createElement('script');\n",
              "          document.getElementsByTagName(\"head\")[0].appendChild(s);\n",
              "          s.async = true;\n",
              "          s.onload = () => {\n",
              "            VEGA_DEBUG[key] = version;\n",
              "            return resolve(paths[lib]);\n",
              "          };\n",
              "          s.onerror = () => reject(`Error loading script: ${paths[lib]}`);\n",
              "          s.src = paths[lib];\n",
              "        });\n",
              "    }\n",
              "\n",
              "    function showError(err) {\n",
              "      outputDiv.innerHTML = `<div class=\"error\" style=\"color:red;\">${err}</div>`;\n",
              "      throw err;\n",
              "    }\n",
              "\n",
              "    function displayChart(vegaEmbed) {\n",
              "      vegaEmbed(outputDiv, spec, embedOpt)\n",
              "        .catch(err => showError(`Javascript Error: ${err.message}<br>This usually means there's a typo in your chart specification. See the javascript console for the full traceback.`));\n",
              "    }\n",
              "\n",
              "    if(typeof define === \"function\" && define.amd) {\n",
              "      requirejs.config({paths});\n",
              "      require([\"vega-embed\"], displayChart, err => showError(`Error loading script: ${err.message}`));\n",
              "    } else {\n",
              "      maybeLoadScript(\"vega\", \"5\")\n",
              "        .then(() => maybeLoadScript(\"vega-lite\", \"4.17.0\"))\n",
              "        .then(() => maybeLoadScript(\"vega-embed\", \"6\"))\n",
              "        .catch(showError)\n",
              "        .then(() => displayChart(vegaEmbed));\n",
              "    }\n",
              "  })({\"config\": {\"view\": {\"continuousWidth\": 400, \"continuousHeight\": 300}}, \"data\": {\"name\": \"data-baf9083e29e87daf18fe137dd9a73bf6\"}, \"mark\": {\"type\": \"boxplot\", \"extent\": \"min-max\"}, \"encoding\": {\"x\": {\"field\": \"c_kernel\", \"sort\": {\"field\": \"score\", \"op\": \"mean\", \"order\": \"descending\"}, \"type\": \"ordinal\"}, \"y\": {\"field\": \"score\", \"type\": \"quantitative\"}}, \"height\": 600, \"width\": 800, \"$schema\": \"https://vega.github.io/schema/vega-lite/v4.17.0.json\", \"datasets\": {\"data-baf9083e29e87daf18fe137dd9a73bf6\": [{\"user_id\": \"10004_08693\", \"score\": 0.7029411764705882, \"C\": 0.7, \"kernel\": \"linear\", \"c_kernel\": \"C: 0.7,   kernel: linear\"}, {\"user_id\": \"10004_08693\", \"score\": 0.8323529411764706, \"C\": 0.7, \"kernel\": \"rbf\", \"c_kernel\": \"C: 0.7,   kernel: rbf\"}, {\"user_id\": \"10004_08693\", \"score\": 0.7029411764705882, \"C\": 1.0, \"kernel\": \"linear\", \"c_kernel\": \"C: 1.0,   kernel: linear\"}, {\"user_id\": \"10004_08693\", \"score\": 0.8691176470588236, \"C\": 1.0, \"kernel\": \"rbf\", \"c_kernel\": \"C: 1.0,   kernel: rbf\"}, {\"user_id\": \"10004_08693\", \"score\": 0.7029411764705882, \"C\": 5.0, \"kernel\": \"linear\", \"c_kernel\": \"C: 5.0,   kernel: linear\"}, {\"user_id\": \"10004_08693\", \"score\": 0.8455882352941178, \"C\": 5.0, \"kernel\": \"rbf\", \"c_kernel\": \"C: 5.0,   kernel: rbf\"}, {\"user_id\": \"10004_08693\", \"score\": 0.7029411764705882, \"C\": 10.0, \"kernel\": \"linear\", \"c_kernel\": \"C: 10.0,   kernel: linear\"}, {\"user_id\": \"10004_08693\", \"score\": 0.8455882352941178, \"C\": 10.0, \"kernel\": \"rbf\", \"c_kernel\": \"C: 10.0,   kernel: rbf\"}, {\"user_id\": \"10008_09924\", \"score\": 0.7529411764705882, \"C\": 0.7, \"kernel\": \"linear\", \"c_kernel\": \"C: 0.7,   kernel: linear\"}, {\"user_id\": \"10008_09924\", \"score\": 0.7647058823529411, \"C\": 0.7, \"kernel\": \"rbf\", \"c_kernel\": \"C: 0.7,   kernel: rbf\"}, {\"user_id\": \"10008_09924\", \"score\": 0.7529411764705882, \"C\": 1.0, \"kernel\": \"linear\", \"c_kernel\": \"C: 1.0,   kernel: linear\"}, {\"user_id\": \"10008_09924\", \"score\": 0.7529411764705882, \"C\": 1.0, \"kernel\": \"rbf\", \"c_kernel\": \"C: 1.0,   kernel: rbf\"}, {\"user_id\": \"10008_09924\", \"score\": 0.7529411764705882, \"C\": 5.0, \"kernel\": \"linear\", \"c_kernel\": \"C: 5.0,   kernel: linear\"}, {\"user_id\": \"10008_09924\", \"score\": 0.7411764705882353, \"C\": 5.0, \"kernel\": \"rbf\", \"c_kernel\": \"C: 5.0,   kernel: rbf\"}, {\"user_id\": \"10008_09924\", \"score\": 0.7529411764705882, \"C\": 10.0, \"kernel\": \"linear\", \"c_kernel\": \"C: 10.0,   kernel: linear\"}, {\"user_id\": \"10008_09924\", \"score\": 0.7411764705882353, \"C\": 10.0, \"kernel\": \"rbf\", \"c_kernel\": \"C: 10.0,   kernel: rbf\"}, {\"user_id\": \"10009_08848\", \"score\": 0.6448529411764706, \"C\": 0.7, \"kernel\": \"linear\", \"c_kernel\": \"C: 0.7,   kernel: linear\"}, {\"user_id\": \"10009_08848\", \"score\": 0.775, \"C\": 0.7, \"kernel\": \"rbf\", \"c_kernel\": \"C: 0.7,   kernel: rbf\"}, {\"user_id\": \"10009_08848\", \"score\": 0.6448529411764706, \"C\": 1.0, \"kernel\": \"linear\", \"c_kernel\": \"C: 1.0,   kernel: linear\"}, {\"user_id\": \"10009_08848\", \"score\": 0.7992647058823529, \"C\": 1.0, \"kernel\": \"rbf\", \"c_kernel\": \"C: 1.0,   kernel: rbf\"}, {\"user_id\": \"10009_08848\", \"score\": 0.6448529411764706, \"C\": 5.0, \"kernel\": \"linear\", \"c_kernel\": \"C: 5.0,   kernel: linear\"}, {\"user_id\": \"10009_08848\", \"score\": 0.7639705882352941, \"C\": 5.0, \"kernel\": \"rbf\", \"c_kernel\": \"C: 5.0,   kernel: rbf\"}, {\"user_id\": \"10009_08848\", \"score\": 0.6448529411764706, \"C\": 10.0, \"kernel\": \"linear\", \"c_kernel\": \"C: 10.0,   kernel: linear\"}, {\"user_id\": \"10009_08848\", \"score\": 0.7639705882352941, \"C\": 10.0, \"kernel\": \"rbf\", \"c_kernel\": \"C: 10.0,   kernel: rbf\"}, {\"user_id\": \"10016_09694\", \"score\": 0.7647058823529411, \"C\": 0.7, \"kernel\": \"linear\", \"c_kernel\": \"C: 0.7,   kernel: linear\"}, {\"user_id\": \"10016_09694\", \"score\": 0.7992647058823529, \"C\": 0.7, \"kernel\": \"rbf\", \"c_kernel\": \"C: 0.7,   kernel: rbf\"}, {\"user_id\": \"10016_09694\", \"score\": 0.7647058823529411, \"C\": 1.0, \"kernel\": \"linear\", \"c_kernel\": \"C: 1.0,   kernel: linear\"}, {\"user_id\": \"10016_09694\", \"score\": 0.8110294117647058, \"C\": 1.0, \"kernel\": \"rbf\", \"c_kernel\": \"C: 1.0,   kernel: rbf\"}, {\"user_id\": \"10016_09694\", \"score\": 0.7647058823529411, \"C\": 5.0, \"kernel\": \"linear\", \"c_kernel\": \"C: 5.0,   kernel: linear\"}, {\"user_id\": \"10016_09694\", \"score\": 0.8110294117647058, \"C\": 5.0, \"kernel\": \"rbf\", \"c_kernel\": \"C: 5.0,   kernel: rbf\"}, {\"user_id\": \"10016_09694\", \"score\": 0.7647058823529411, \"C\": 10.0, \"kernel\": \"linear\", \"c_kernel\": \"C: 10.0,   kernel: linear\"}, {\"user_id\": \"10016_09694\", \"score\": 0.8110294117647058, \"C\": 10.0, \"kernel\": \"rbf\", \"c_kernel\": \"C: 10.0,   kernel: rbf\"}, {\"user_id\": \"10017_08894\", \"score\": 0.6794117647058824, \"C\": 0.7, \"kernel\": \"linear\", \"c_kernel\": \"C: 0.7,   kernel: linear\"}, {\"user_id\": \"10017_08894\", \"score\": 0.6433823529411764, \"C\": 0.7, \"kernel\": \"rbf\", \"c_kernel\": \"C: 0.7,   kernel: rbf\"}, {\"user_id\": \"10017_08894\", \"score\": 0.6794117647058824, \"C\": 1.0, \"kernel\": \"linear\", \"c_kernel\": \"C: 1.0,   kernel: linear\"}, {\"user_id\": \"10017_08894\", \"score\": 0.6191176470588236, \"C\": 1.0, \"kernel\": \"rbf\", \"c_kernel\": \"C: 1.0,   kernel: rbf\"}, {\"user_id\": \"10017_08894\", \"score\": 0.6794117647058824, \"C\": 5.0, \"kernel\": \"linear\", \"c_kernel\": \"C: 5.0,   kernel: linear\"}, {\"user_id\": \"10017_08894\", \"score\": 0.6301470588235294, \"C\": 5.0, \"kernel\": \"rbf\", \"c_kernel\": \"C: 5.0,   kernel: rbf\"}, {\"user_id\": \"10017_08894\", \"score\": 0.6794117647058824, \"C\": 10.0, \"kernel\": \"linear\", \"c_kernel\": \"C: 10.0,   kernel: linear\"}, {\"user_id\": \"10017_08894\", \"score\": 0.6301470588235294, \"C\": 10.0, \"kernel\": \"rbf\", \"c_kernel\": \"C: 10.0,   kernel: rbf\"}, {\"user_id\": \"10018_08907\", \"score\": 0.6220588235294118, \"C\": 0.7, \"kernel\": \"linear\", \"c_kernel\": \"C: 0.7,   kernel: linear\"}, {\"user_id\": \"10018_08907\", \"score\": 0.7051470588235295, \"C\": 0.7, \"kernel\": \"rbf\", \"c_kernel\": \"C: 0.7,   kernel: rbf\"}, {\"user_id\": \"10018_08907\", \"score\": 0.6220588235294118, \"C\": 1.0, \"kernel\": \"linear\", \"c_kernel\": \"C: 1.0,   kernel: linear\"}, {\"user_id\": \"10018_08907\", \"score\": 0.6933823529411764, \"C\": 1.0, \"kernel\": \"rbf\", \"c_kernel\": \"C: 1.0,   kernel: rbf\"}, {\"user_id\": \"10018_08907\", \"score\": 0.6220588235294118, \"C\": 5.0, \"kernel\": \"linear\", \"c_kernel\": \"C: 5.0,   kernel: linear\"}, {\"user_id\": \"10018_08907\", \"score\": 0.6816176470588236, \"C\": 5.0, \"kernel\": \"rbf\", \"c_kernel\": \"C: 5.0,   kernel: rbf\"}, {\"user_id\": \"10018_08907\", \"score\": 0.6220588235294118, \"C\": 10.0, \"kernel\": \"linear\", \"c_kernel\": \"C: 10.0,   kernel: linear\"}, {\"user_id\": \"10018_08907\", \"score\": 0.6816176470588236, \"C\": 10.0, \"kernel\": \"rbf\", \"c_kernel\": \"C: 10.0,   kernel: rbf\"}, {\"user_id\": \"10021_08839\", \"score\": 0.4757352941176471, \"C\": 0.7, \"kernel\": \"linear\", \"c_kernel\": \"C: 0.7,   kernel: linear\"}, {\"user_id\": \"10021_08839\", \"score\": 0.699264705882353, \"C\": 0.7, \"kernel\": \"rbf\", \"c_kernel\": \"C: 0.7,   kernel: rbf\"}, {\"user_id\": \"10021_08839\", \"score\": 0.4757352941176471, \"C\": 1.0, \"kernel\": \"linear\", \"c_kernel\": \"C: 1.0,   kernel: linear\"}, {\"user_id\": \"10021_08839\", \"score\": 0.7463235294117647, \"C\": 1.0, \"kernel\": \"rbf\", \"c_kernel\": \"C: 1.0,   kernel: rbf\"}, {\"user_id\": \"10021_08839\", \"score\": 0.4757352941176471, \"C\": 5.0, \"kernel\": \"linear\", \"c_kernel\": \"C: 5.0,   kernel: linear\"}, {\"user_id\": \"10021_08839\", \"score\": 0.7705882352941177, \"C\": 5.0, \"kernel\": \"rbf\", \"c_kernel\": \"C: 5.0,   kernel: rbf\"}, {\"user_id\": \"10021_08839\", \"score\": 0.4757352941176471, \"C\": 10.0, \"kernel\": \"linear\", \"c_kernel\": \"C: 10.0,   kernel: linear\"}, {\"user_id\": \"10021_08839\", \"score\": 0.7705882352941177, \"C\": 10.0, \"kernel\": \"rbf\", \"c_kernel\": \"C: 10.0,   kernel: rbf\"}, {\"user_id\": \"10022_08854\", \"score\": 0.8235294117647058, \"C\": 0.7, \"kernel\": \"linear\", \"c_kernel\": \"C: 0.7,   kernel: linear\"}, {\"user_id\": \"10022_08854\", \"score\": 0.8463235294117647, \"C\": 0.7, \"kernel\": \"rbf\", \"c_kernel\": \"C: 0.7,   kernel: rbf\"}, {\"user_id\": \"10022_08854\", \"score\": 0.8235294117647058, \"C\": 1.0, \"kernel\": \"linear\", \"c_kernel\": \"C: 1.0,   kernel: linear\"}, {\"user_id\": \"10022_08854\", \"score\": 0.8705882352941176, \"C\": 1.0, \"kernel\": \"rbf\", \"c_kernel\": \"C: 1.0,   kernel: rbf\"}, {\"user_id\": \"10022_08854\", \"score\": 0.8235294117647058, \"C\": 5.0, \"kernel\": \"linear\", \"c_kernel\": \"C: 5.0,   kernel: linear\"}, {\"user_id\": \"10022_08854\", \"score\": 0.8470588235294118, \"C\": 5.0, \"kernel\": \"rbf\", \"c_kernel\": \"C: 5.0,   kernel: rbf\"}, {\"user_id\": \"10022_08854\", \"score\": 0.8235294117647058, \"C\": 10.0, \"kernel\": \"linear\", \"c_kernel\": \"C: 10.0,   kernel: linear\"}, {\"user_id\": \"10022_08854\", \"score\": 0.8470588235294118, \"C\": 10.0, \"kernel\": \"rbf\", \"c_kernel\": \"C: 10.0,   kernel: rbf\"}, {\"user_id\": \"10023_09126\", \"score\": 0.7507352941176471, \"C\": 0.7, \"kernel\": \"linear\", \"c_kernel\": \"C: 0.7,   kernel: linear\"}, {\"user_id\": \"10023_09126\", \"score\": 0.7742647058823529, \"C\": 0.7, \"kernel\": \"rbf\", \"c_kernel\": \"C: 0.7,   kernel: rbf\"}, {\"user_id\": \"10023_09126\", \"score\": 0.7507352941176471, \"C\": 1.0, \"kernel\": \"linear\", \"c_kernel\": \"C: 1.0,   kernel: linear\"}, {\"user_id\": \"10023_09126\", \"score\": 0.7985294117647058, \"C\": 1.0, \"kernel\": \"rbf\", \"c_kernel\": \"C: 1.0,   kernel: rbf\"}, {\"user_id\": \"10023_09126\", \"score\": 0.7507352941176471, \"C\": 5.0, \"kernel\": \"linear\", \"c_kernel\": \"C: 5.0,   kernel: linear\"}, {\"user_id\": \"10023_09126\", \"score\": 0.7867647058823529, \"C\": 5.0, \"kernel\": \"rbf\", \"c_kernel\": \"C: 5.0,   kernel: rbf\"}, {\"user_id\": \"10023_09126\", \"score\": 0.7507352941176471, \"C\": 10.0, \"kernel\": \"linear\", \"c_kernel\": \"C: 10.0,   kernel: linear\"}, {\"user_id\": \"10023_09126\", \"score\": 0.7867647058823529, \"C\": 10.0, \"kernel\": \"rbf\", \"c_kernel\": \"C: 10.0,   kernel: rbf\"}, {\"user_id\": \"10027_09455\", \"score\": 0.6786764705882353, \"C\": 0.7, \"kernel\": \"linear\", \"c_kernel\": \"C: 0.7,   kernel: linear\"}, {\"user_id\": \"10027_09455\", \"score\": 0.5963235294117648, \"C\": 0.7, \"kernel\": \"rbf\", \"c_kernel\": \"C: 0.7,   kernel: rbf\"}, {\"user_id\": \"10027_09455\", \"score\": 0.6786764705882353, \"C\": 1.0, \"kernel\": \"linear\", \"c_kernel\": \"C: 1.0,   kernel: linear\"}, {\"user_id\": \"10027_09455\", \"score\": 0.6676470588235295, \"C\": 1.0, \"kernel\": \"rbf\", \"c_kernel\": \"C: 1.0,   kernel: rbf\"}, {\"user_id\": \"10027_09455\", \"score\": 0.6786764705882353, \"C\": 5.0, \"kernel\": \"linear\", \"c_kernel\": \"C: 5.0,   kernel: linear\"}, {\"user_id\": \"10027_09455\", \"score\": 0.6897058823529412, \"C\": 5.0, \"kernel\": \"rbf\", \"c_kernel\": \"C: 5.0,   kernel: rbf\"}, {\"user_id\": \"10027_09455\", \"score\": 0.6786764705882353, \"C\": 10.0, \"kernel\": \"linear\", \"c_kernel\": \"C: 10.0,   kernel: linear\"}, {\"user_id\": \"10027_09455\", \"score\": 0.6897058823529412, \"C\": 10.0, \"kernel\": \"rbf\", \"c_kernel\": \"C: 10.0,   kernel: rbf\"}, {\"user_id\": \"10033_08871\", \"score\": 0.675, \"C\": 0.7, \"kernel\": \"linear\", \"c_kernel\": \"C: 0.7,   kernel: linear\"}, {\"user_id\": \"10033_08871\", \"score\": 0.725735294117647, \"C\": 0.7, \"kernel\": \"rbf\", \"c_kernel\": \"C: 0.7,   kernel: rbf\"}, {\"user_id\": \"10033_08871\", \"score\": 0.675, \"C\": 1.0, \"kernel\": \"linear\", \"c_kernel\": \"C: 1.0,   kernel: linear\"}, {\"user_id\": \"10033_08871\", \"score\": 0.713235294117647, \"C\": 1.0, \"kernel\": \"rbf\", \"c_kernel\": \"C: 1.0,   kernel: rbf\"}, {\"user_id\": \"10033_08871\", \"score\": 0.675, \"C\": 5.0, \"kernel\": \"linear\", \"c_kernel\": \"C: 5.0,   kernel: linear\"}, {\"user_id\": \"10033_08871\", \"score\": 0.6529411764705882, \"C\": 5.0, \"kernel\": \"rbf\", \"c_kernel\": \"C: 5.0,   kernel: rbf\"}, {\"user_id\": \"10033_08871\", \"score\": 0.675, \"C\": 10.0, \"kernel\": \"linear\", \"c_kernel\": \"C: 10.0,   kernel: linear\"}, {\"user_id\": \"10033_08871\", \"score\": 0.6529411764705882, \"C\": 10.0, \"kernel\": \"rbf\", \"c_kernel\": \"C: 10.0,   kernel: rbf\"}, {\"user_id\": \"10034_08879\", \"score\": 0.4992647058823529, \"C\": 0.7, \"kernel\": \"linear\", \"c_kernel\": \"C: 0.7,   kernel: linear\"}, {\"user_id\": \"10034_08879\", \"score\": 0.6448529411764705, \"C\": 0.7, \"kernel\": \"rbf\", \"c_kernel\": \"C: 0.7,   kernel: rbf\"}, {\"user_id\": \"10034_08879\", \"score\": 0.4992647058823529, \"C\": 1.0, \"kernel\": \"linear\", \"c_kernel\": \"C: 1.0,   kernel: linear\"}, {\"user_id\": \"10034_08879\", \"score\": 0.6095588235294118, \"C\": 1.0, \"kernel\": \"rbf\", \"c_kernel\": \"C: 1.0,   kernel: rbf\"}, {\"user_id\": \"10034_08879\", \"score\": 0.4992647058823529, \"C\": 5.0, \"kernel\": \"linear\", \"c_kernel\": \"C: 5.0,   kernel: linear\"}, {\"user_id\": \"10034_08879\", \"score\": 0.6330882352941176, \"C\": 5.0, \"kernel\": \"rbf\", \"c_kernel\": \"C: 5.0,   kernel: rbf\"}, {\"user_id\": \"10034_08879\", \"score\": 0.4992647058823529, \"C\": 10.0, \"kernel\": \"linear\", \"c_kernel\": \"C: 10.0,   kernel: linear\"}, {\"user_id\": \"10034_08879\", \"score\": 0.6330882352941176, \"C\": 10.0, \"kernel\": \"rbf\", \"c_kernel\": \"C: 10.0,   kernel: rbf\"}, {\"user_id\": \"10035_08847\", \"score\": 0.7625, \"C\": 0.7, \"kernel\": \"linear\", \"c_kernel\": \"C: 0.7,   kernel: linear\"}, {\"user_id\": \"10035_08847\", \"score\": 0.6338235294117648, \"C\": 0.7, \"kernel\": \"rbf\", \"c_kernel\": \"C: 0.7,   kernel: rbf\"}, {\"user_id\": \"10035_08847\", \"score\": 0.7625, \"C\": 1.0, \"kernel\": \"linear\", \"c_kernel\": \"C: 1.0,   kernel: linear\"}, {\"user_id\": \"10035_08847\", \"score\": 0.6823529411764706, \"C\": 1.0, \"kernel\": \"rbf\", \"c_kernel\": \"C: 1.0,   kernel: rbf\"}, {\"user_id\": \"10035_08847\", \"score\": 0.7625, \"C\": 5.0, \"kernel\": \"linear\", \"c_kernel\": \"C: 5.0,   kernel: linear\"}, {\"user_id\": \"10035_08847\", \"score\": 0.7294117647058823, \"C\": 5.0, \"kernel\": \"rbf\", \"c_kernel\": \"C: 5.0,   kernel: rbf\"}, {\"user_id\": \"10035_08847\", \"score\": 0.7625, \"C\": 10.0, \"kernel\": \"linear\", \"c_kernel\": \"C: 10.0,   kernel: linear\"}, {\"user_id\": \"10035_08847\", \"score\": 0.7294117647058823, \"C\": 10.0, \"kernel\": \"rbf\", \"c_kernel\": \"C: 10.0,   kernel: rbf\"}, {\"user_id\": \"10036_09800\", \"score\": 0.5933823529411765, \"C\": 0.7, \"kernel\": \"linear\", \"c_kernel\": \"C: 0.7,   kernel: linear\"}, {\"user_id\": \"10036_09800\", \"score\": 0.6529411764705882, \"C\": 0.7, \"kernel\": \"rbf\", \"c_kernel\": \"C: 0.7,   kernel: rbf\"}, {\"user_id\": \"10036_09800\", \"score\": 0.5933823529411765, \"C\": 1.0, \"kernel\": \"linear\", \"c_kernel\": \"C: 1.0,   kernel: linear\"}, {\"user_id\": \"10036_09800\", \"score\": 0.6875, \"C\": 1.0, \"kernel\": \"rbf\", \"c_kernel\": \"C: 1.0,   kernel: rbf\"}, {\"user_id\": \"10036_09800\", \"score\": 0.5933823529411765, \"C\": 5.0, \"kernel\": \"linear\", \"c_kernel\": \"C: 5.0,   kernel: linear\"}, {\"user_id\": \"10036_09800\", \"score\": 0.7463235294117647, \"C\": 5.0, \"kernel\": \"rbf\", \"c_kernel\": \"C: 5.0,   kernel: rbf\"}, {\"user_id\": \"10036_09800\", \"score\": 0.5933823529411765, \"C\": 10.0, \"kernel\": \"linear\", \"c_kernel\": \"C: 10.0,   kernel: linear\"}, {\"user_id\": \"10036_09800\", \"score\": 0.7463235294117647, \"C\": 10.0, \"kernel\": \"rbf\", \"c_kernel\": \"C: 10.0,   kernel: rbf\"}, {\"user_id\": \"10037_09903\", \"score\": 0.8345588235294118, \"C\": 0.7, \"kernel\": \"linear\", \"c_kernel\": \"C: 0.7,   kernel: linear\"}, {\"user_id\": \"10037_09903\", \"score\": 0.8345588235294118, \"C\": 0.7, \"kernel\": \"rbf\", \"c_kernel\": \"C: 0.7,   kernel: rbf\"}, {\"user_id\": \"10037_09903\", \"score\": 0.8345588235294118, \"C\": 1.0, \"kernel\": \"linear\", \"c_kernel\": \"C: 1.0,   kernel: linear\"}, {\"user_id\": \"10037_09903\", \"score\": 0.8580882352941177, \"C\": 1.0, \"kernel\": \"rbf\", \"c_kernel\": \"C: 1.0,   kernel: rbf\"}, {\"user_id\": \"10037_09903\", \"score\": 0.8345588235294118, \"C\": 5.0, \"kernel\": \"linear\", \"c_kernel\": \"C: 5.0,   kernel: linear\"}, {\"user_id\": \"10037_09903\", \"score\": 0.8698529411764706, \"C\": 5.0, \"kernel\": \"rbf\", \"c_kernel\": \"C: 5.0,   kernel: rbf\"}, {\"user_id\": \"10037_09903\", \"score\": 0.8345588235294118, \"C\": 10.0, \"kernel\": \"linear\", \"c_kernel\": \"C: 10.0,   kernel: linear\"}, {\"user_id\": \"10037_09903\", \"score\": 0.8698529411764706, \"C\": 10.0, \"kernel\": \"rbf\", \"c_kernel\": \"C: 10.0,   kernel: rbf\"}, {\"user_id\": \"10038_09063\", \"score\": 0.511764705882353, \"C\": 0.7, \"kernel\": \"linear\", \"c_kernel\": \"C: 0.7,   kernel: linear\"}, {\"user_id\": \"10038_09063\", \"score\": 0.5977941176470588, \"C\": 0.7, \"kernel\": \"rbf\", \"c_kernel\": \"C: 0.7,   kernel: rbf\"}, {\"user_id\": \"10038_09063\", \"score\": 0.511764705882353, \"C\": 1.0, \"kernel\": \"linear\", \"c_kernel\": \"C: 1.0,   kernel: linear\"}, {\"user_id\": \"10038_09063\", \"score\": 0.5852941176470587, \"C\": 1.0, \"kernel\": \"rbf\", \"c_kernel\": \"C: 1.0,   kernel: rbf\"}, {\"user_id\": \"10038_09063\", \"score\": 0.511764705882353, \"C\": 5.0, \"kernel\": \"linear\", \"c_kernel\": \"C: 5.0,   kernel: linear\"}, {\"user_id\": \"10038_09063\", \"score\": 0.5720588235294117, \"C\": 5.0, \"kernel\": \"rbf\", \"c_kernel\": \"C: 5.0,   kernel: rbf\"}, {\"user_id\": \"10038_09063\", \"score\": 0.511764705882353, \"C\": 10.0, \"kernel\": \"linear\", \"c_kernel\": \"C: 10.0,   kernel: linear\"}, {\"user_id\": \"10038_09063\", \"score\": 0.5720588235294117, \"C\": 10.0, \"kernel\": \"rbf\", \"c_kernel\": \"C: 10.0,   kernel: rbf\"}, {\"user_id\": \"10039_08941\", \"score\": 0.7176470588235293, \"C\": 0.7, \"kernel\": \"linear\", \"c_kernel\": \"C: 0.7,   kernel: linear\"}, {\"user_id\": \"10039_08941\", \"score\": 0.7507352941176471, \"C\": 0.7, \"kernel\": \"rbf\", \"c_kernel\": \"C: 0.7,   kernel: rbf\"}, {\"user_id\": \"10039_08941\", \"score\": 0.7176470588235293, \"C\": 1.0, \"kernel\": \"linear\", \"c_kernel\": \"C: 1.0,   kernel: linear\"}, {\"user_id\": \"10039_08941\", \"score\": 0.7514705882352941, \"C\": 1.0, \"kernel\": \"rbf\", \"c_kernel\": \"C: 1.0,   kernel: rbf\"}, {\"user_id\": \"10039_08941\", \"score\": 0.7176470588235293, \"C\": 5.0, \"kernel\": \"linear\", \"c_kernel\": \"C: 5.0,   kernel: linear\"}, {\"user_id\": \"10039_08941\", \"score\": 0.7397058823529412, \"C\": 5.0, \"kernel\": \"rbf\", \"c_kernel\": \"C: 5.0,   kernel: rbf\"}, {\"user_id\": \"10039_08941\", \"score\": 0.7176470588235293, \"C\": 10.0, \"kernel\": \"linear\", \"c_kernel\": \"C: 10.0,   kernel: linear\"}, {\"user_id\": \"10039_08941\", \"score\": 0.7397058823529412, \"C\": 10.0, \"kernel\": \"rbf\", \"c_kernel\": \"C: 10.0,   kernel: rbf\"}, {\"user_id\": \"10042_08990\", \"score\": 0.5235294117647059, \"C\": 0.7, \"kernel\": \"linear\", \"c_kernel\": \"C: 0.7,   kernel: linear\"}, {\"user_id\": \"10042_08990\", \"score\": 0.6316176470588235, \"C\": 0.7, \"kernel\": \"rbf\", \"c_kernel\": \"C: 0.7,   kernel: rbf\"}, {\"user_id\": \"10042_08990\", \"score\": 0.5235294117647059, \"C\": 1.0, \"kernel\": \"linear\", \"c_kernel\": \"C: 1.0,   kernel: linear\"}, {\"user_id\": \"10042_08990\", \"score\": 0.6316176470588235, \"C\": 1.0, \"kernel\": \"rbf\", \"c_kernel\": \"C: 1.0,   kernel: rbf\"}, {\"user_id\": \"10042_08990\", \"score\": 0.5235294117647059, \"C\": 5.0, \"kernel\": \"linear\", \"c_kernel\": \"C: 5.0,   kernel: linear\"}, {\"user_id\": \"10042_08990\", \"score\": 0.6433823529411765, \"C\": 5.0, \"kernel\": \"rbf\", \"c_kernel\": \"C: 5.0,   kernel: rbf\"}, {\"user_id\": \"10042_08990\", \"score\": 0.5235294117647059, \"C\": 10.0, \"kernel\": \"linear\", \"c_kernel\": \"C: 10.0,   kernel: linear\"}, {\"user_id\": \"10042_08990\", \"score\": 0.6433823529411765, \"C\": 10.0, \"kernel\": \"rbf\", \"c_kernel\": \"C: 10.0,   kernel: rbf\"}, {\"user_id\": \"10043_09222\", \"score\": 0.8470588235294118, \"C\": 0.7, \"kernel\": \"linear\", \"c_kernel\": \"C: 0.7,   kernel: linear\"}, {\"user_id\": \"10043_09222\", \"score\": 0.8227941176470587, \"C\": 0.7, \"kernel\": \"rbf\", \"c_kernel\": \"C: 0.7,   kernel: rbf\"}, {\"user_id\": \"10043_09222\", \"score\": 0.8470588235294118, \"C\": 1.0, \"kernel\": \"linear\", \"c_kernel\": \"C: 1.0,   kernel: linear\"}, {\"user_id\": \"10043_09222\", \"score\": 0.8345588235294118, \"C\": 1.0, \"kernel\": \"rbf\", \"c_kernel\": \"C: 1.0,   kernel: rbf\"}, {\"user_id\": \"10043_09222\", \"score\": 0.8470588235294118, \"C\": 5.0, \"kernel\": \"linear\", \"c_kernel\": \"C: 5.0,   kernel: linear\"}, {\"user_id\": \"10043_09222\", \"score\": 0.8580882352941177, \"C\": 5.0, \"kernel\": \"rbf\", \"c_kernel\": \"C: 5.0,   kernel: rbf\"}, {\"user_id\": \"10043_09222\", \"score\": 0.8470588235294118, \"C\": 10.0, \"kernel\": \"linear\", \"c_kernel\": \"C: 10.0,   kernel: linear\"}, {\"user_id\": \"10043_09222\", \"score\": 0.8580882352941177, \"C\": 10.0, \"kernel\": \"rbf\", \"c_kernel\": \"C: 10.0,   kernel: rbf\"}, {\"user_id\": \"10045_08968\", \"score\": 0.6904411764705882, \"C\": 0.7, \"kernel\": \"linear\", \"c_kernel\": \"C: 0.7,   kernel: linear\"}, {\"user_id\": \"10045_08968\", \"score\": 0.7036764705882353, \"C\": 0.7, \"kernel\": \"rbf\", \"c_kernel\": \"C: 0.7,   kernel: rbf\"}, {\"user_id\": \"10045_08968\", \"score\": 0.6904411764705882, \"C\": 1.0, \"kernel\": \"linear\", \"c_kernel\": \"C: 1.0,   kernel: linear\"}, {\"user_id\": \"10045_08968\", \"score\": 0.7029411764705882, \"C\": 1.0, \"kernel\": \"rbf\", \"c_kernel\": \"C: 1.0,   kernel: rbf\"}, {\"user_id\": \"10045_08968\", \"score\": 0.6904411764705882, \"C\": 5.0, \"kernel\": \"linear\", \"c_kernel\": \"C: 5.0,   kernel: linear\"}, {\"user_id\": \"10045_08968\", \"score\": 0.7264705882352941, \"C\": 5.0, \"kernel\": \"rbf\", \"c_kernel\": \"C: 5.0,   kernel: rbf\"}, {\"user_id\": \"10045_08968\", \"score\": 0.6904411764705882, \"C\": 10.0, \"kernel\": \"linear\", \"c_kernel\": \"C: 10.0,   kernel: linear\"}, {\"user_id\": \"10045_08968\", \"score\": 0.7264705882352941, \"C\": 10.0, \"kernel\": \"rbf\", \"c_kernel\": \"C: 10.0,   kernel: rbf\"}, {\"user_id\": \"10046_09216\", \"score\": 0.8345588235294118, \"C\": 0.7, \"kernel\": \"linear\", \"c_kernel\": \"C: 0.7,   kernel: linear\"}, {\"user_id\": \"10046_09216\", \"score\": 0.7036764705882353, \"C\": 0.7, \"kernel\": \"rbf\", \"c_kernel\": \"C: 0.7,   kernel: rbf\"}, {\"user_id\": \"10046_09216\", \"score\": 0.8345588235294118, \"C\": 1.0, \"kernel\": \"linear\", \"c_kernel\": \"C: 1.0,   kernel: linear\"}, {\"user_id\": \"10046_09216\", \"score\": 0.6676470588235294, \"C\": 1.0, \"kernel\": \"rbf\", \"c_kernel\": \"C: 1.0,   kernel: rbf\"}, {\"user_id\": \"10046_09216\", \"score\": 0.8345588235294118, \"C\": 5.0, \"kernel\": \"linear\", \"c_kernel\": \"C: 5.0,   kernel: linear\"}, {\"user_id\": \"10046_09216\", \"score\": 0.6919117647058823, \"C\": 5.0, \"kernel\": \"rbf\", \"c_kernel\": \"C: 5.0,   kernel: rbf\"}, {\"user_id\": \"10046_09216\", \"score\": 0.8345588235294118, \"C\": 10.0, \"kernel\": \"linear\", \"c_kernel\": \"C: 10.0,   kernel: linear\"}, {\"user_id\": \"10046_09216\", \"score\": 0.6919117647058823, \"C\": 10.0, \"kernel\": \"rbf\", \"c_kernel\": \"C: 10.0,   kernel: rbf\"}, {\"user_id\": \"10047_09030\", \"score\": 0.8330882352941176, \"C\": 0.7, \"kernel\": \"linear\", \"c_kernel\": \"C: 0.7,   kernel: linear\"}, {\"user_id\": \"10047_09030\", \"score\": 0.8573529411764707, \"C\": 0.7, \"kernel\": \"rbf\", \"c_kernel\": \"C: 0.7,   kernel: rbf\"}, {\"user_id\": \"10047_09030\", \"score\": 0.8330882352941176, \"C\": 1.0, \"kernel\": \"linear\", \"c_kernel\": \"C: 1.0,   kernel: linear\"}, {\"user_id\": \"10047_09030\", \"score\": 0.8698529411764706, \"C\": 1.0, \"kernel\": \"rbf\", \"c_kernel\": \"C: 1.0,   kernel: rbf\"}, {\"user_id\": \"10047_09030\", \"score\": 0.8330882352941176, \"C\": 5.0, \"kernel\": \"linear\", \"c_kernel\": \"C: 5.0,   kernel: linear\"}, {\"user_id\": \"10047_09030\", \"score\": 0.8816176470588235, \"C\": 5.0, \"kernel\": \"rbf\", \"c_kernel\": \"C: 5.0,   kernel: rbf\"}, {\"user_id\": \"10047_09030\", \"score\": 0.8330882352941176, \"C\": 10.0, \"kernel\": \"linear\", \"c_kernel\": \"C: 10.0,   kernel: linear\"}, {\"user_id\": \"10047_09030\", \"score\": 0.8816176470588235, \"C\": 10.0, \"kernel\": \"rbf\", \"c_kernel\": \"C: 10.0,   kernel: rbf\"}, {\"user_id\": \"10050_09079\", \"score\": 0.8110294117647058, \"C\": 0.7, \"kernel\": \"linear\", \"c_kernel\": \"C: 0.7,   kernel: linear\"}, {\"user_id\": \"10050_09079\", \"score\": 0.811029411764706, \"C\": 0.7, \"kernel\": \"rbf\", \"c_kernel\": \"C: 0.7,   kernel: rbf\"}, {\"user_id\": \"10050_09079\", \"score\": 0.8110294117647058, \"C\": 1.0, \"kernel\": \"linear\", \"c_kernel\": \"C: 1.0,   kernel: linear\"}, {\"user_id\": \"10050_09079\", \"score\": 0.8227941176470589, \"C\": 1.0, \"kernel\": \"rbf\", \"c_kernel\": \"C: 1.0,   kernel: rbf\"}, {\"user_id\": \"10050_09079\", \"score\": 0.8110294117647058, \"C\": 5.0, \"kernel\": \"linear\", \"c_kernel\": \"C: 5.0,   kernel: linear\"}, {\"user_id\": \"10050_09079\", \"score\": 0.8227941176470589, \"C\": 5.0, \"kernel\": \"rbf\", \"c_kernel\": \"C: 5.0,   kernel: rbf\"}, {\"user_id\": \"10050_09079\", \"score\": 0.8110294117647058, \"C\": 10.0, \"kernel\": \"linear\", \"c_kernel\": \"C: 10.0,   kernel: linear\"}, {\"user_id\": \"10050_09079\", \"score\": 0.8227941176470589, \"C\": 10.0, \"kernel\": \"rbf\", \"c_kernel\": \"C: 10.0,   kernel: rbf\"}, {\"user_id\": \"10053_09018\", \"score\": 0.5632352941176471, \"C\": 0.7, \"kernel\": \"linear\", \"c_kernel\": \"C: 0.7,   kernel: linear\"}, {\"user_id\": \"10053_09018\", \"score\": 0.6573529411764707, \"C\": 0.7, \"kernel\": \"rbf\", \"c_kernel\": \"C: 0.7,   kernel: rbf\"}, {\"user_id\": \"10053_09018\", \"score\": 0.5632352941176471, \"C\": 1.0, \"kernel\": \"linear\", \"c_kernel\": \"C: 1.0,   kernel: linear\"}, {\"user_id\": \"10053_09018\", \"score\": 0.7051470588235293, \"C\": 1.0, \"kernel\": \"rbf\", \"c_kernel\": \"C: 1.0,   kernel: rbf\"}, {\"user_id\": \"10053_09018\", \"score\": 0.5632352941176471, \"C\": 5.0, \"kernel\": \"linear\", \"c_kernel\": \"C: 5.0,   kernel: linear\"}, {\"user_id\": \"10053_09018\", \"score\": 0.6580882352941176, \"C\": 5.0, \"kernel\": \"rbf\", \"c_kernel\": \"C: 5.0,   kernel: rbf\"}, {\"user_id\": \"10053_09018\", \"score\": 0.5632352941176471, \"C\": 10.0, \"kernel\": \"linear\", \"c_kernel\": \"C: 10.0,   kernel: linear\"}, {\"user_id\": \"10053_09018\", \"score\": 0.6580882352941176, \"C\": 10.0, \"kernel\": \"rbf\", \"c_kernel\": \"C: 10.0,   kernel: rbf\"}, {\"user_id\": \"10056_09615\", \"score\": 0.5632352941176471, \"C\": 0.7, \"kernel\": \"linear\", \"c_kernel\": \"C: 0.7,   kernel: linear\"}, {\"user_id\": \"10056_09615\", \"score\": 0.5955882352941176, \"C\": 0.7, \"kernel\": \"rbf\", \"c_kernel\": \"C: 0.7,   kernel: rbf\"}, {\"user_id\": \"10056_09615\", \"score\": 0.5632352941176471, \"C\": 1.0, \"kernel\": \"linear\", \"c_kernel\": \"C: 1.0,   kernel: linear\"}, {\"user_id\": \"10056_09615\", \"score\": 0.6323529411764706, \"C\": 1.0, \"kernel\": \"rbf\", \"c_kernel\": \"C: 1.0,   kernel: rbf\"}, {\"user_id\": \"10056_09615\", \"score\": 0.5632352941176471, \"C\": 5.0, \"kernel\": \"linear\", \"c_kernel\": \"C: 5.0,   kernel: linear\"}, {\"user_id\": \"10056_09615\", \"score\": 0.6095588235294118, \"C\": 5.0, \"kernel\": \"rbf\", \"c_kernel\": \"C: 5.0,   kernel: rbf\"}, {\"user_id\": \"10056_09615\", \"score\": 0.5632352941176471, \"C\": 10.0, \"kernel\": \"linear\", \"c_kernel\": \"C: 10.0,   kernel: linear\"}, {\"user_id\": \"10056_09615\", \"score\": 0.6095588235294118, \"C\": 10.0, \"kernel\": \"rbf\", \"c_kernel\": \"C: 10.0,   kernel: rbf\"}, {\"user_id\": \"10057_10124\", \"score\": 0.5110294117647058, \"C\": 0.7, \"kernel\": \"linear\", \"c_kernel\": \"C: 0.7,   kernel: linear\"}, {\"user_id\": \"10057_10124\", \"score\": 0.47720588235294115, \"C\": 0.7, \"kernel\": \"rbf\", \"c_kernel\": \"C: 0.7,   kernel: rbf\"}, {\"user_id\": \"10057_10124\", \"score\": 0.5110294117647058, \"C\": 1.0, \"kernel\": \"linear\", \"c_kernel\": \"C: 1.0,   kernel: linear\"}, {\"user_id\": \"10057_10124\", \"score\": 0.5242647058823529, \"C\": 1.0, \"kernel\": \"rbf\", \"c_kernel\": \"C: 1.0,   kernel: rbf\"}, {\"user_id\": \"10057_10124\", \"score\": 0.5110294117647058, \"C\": 5.0, \"kernel\": \"linear\", \"c_kernel\": \"C: 5.0,   kernel: linear\"}, {\"user_id\": \"10057_10124\", \"score\": 0.5235294117647059, \"C\": 5.0, \"kernel\": \"rbf\", \"c_kernel\": \"C: 5.0,   kernel: rbf\"}, {\"user_id\": \"10057_10124\", \"score\": 0.5110294117647058, \"C\": 10.0, \"kernel\": \"linear\", \"c_kernel\": \"C: 10.0,   kernel: linear\"}, {\"user_id\": \"10057_10124\", \"score\": 0.5235294117647059, \"C\": 10.0, \"kernel\": \"rbf\", \"c_kernel\": \"C: 10.0,   kernel: rbf\"}, {\"user_id\": \"10060_09359\", \"score\": 0.513235294117647, \"C\": 0.7, \"kernel\": \"linear\", \"c_kernel\": \"C: 0.7,   kernel: linear\"}, {\"user_id\": \"10060_09359\", \"score\": 0.6323529411764706, \"C\": 0.7, \"kernel\": \"rbf\", \"c_kernel\": \"C: 0.7,   kernel: rbf\"}, {\"user_id\": \"10060_09359\", \"score\": 0.513235294117647, \"C\": 1.0, \"kernel\": \"linear\", \"c_kernel\": \"C: 1.0,   kernel: linear\"}, {\"user_id\": \"10060_09359\", \"score\": 0.5852941176470587, \"C\": 1.0, \"kernel\": \"rbf\", \"c_kernel\": \"C: 1.0,   kernel: rbf\"}, {\"user_id\": \"10060_09359\", \"score\": 0.513235294117647, \"C\": 5.0, \"kernel\": \"linear\", \"c_kernel\": \"C: 5.0,   kernel: linear\"}, {\"user_id\": \"10060_09359\", \"score\": 0.5838235294117646, \"C\": 5.0, \"kernel\": \"rbf\", \"c_kernel\": \"C: 5.0,   kernel: rbf\"}, {\"user_id\": \"10060_09359\", \"score\": 0.513235294117647, \"C\": 10.0, \"kernel\": \"linear\", \"c_kernel\": \"C: 10.0,   kernel: linear\"}, {\"user_id\": \"10060_09359\", \"score\": 0.5838235294117646, \"C\": 10.0, \"kernel\": \"rbf\", \"c_kernel\": \"C: 10.0,   kernel: rbf\"}, {\"user_id\": \"10061_09308\", \"score\": 0.8823529411764707, \"C\": 0.7, \"kernel\": \"linear\", \"c_kernel\": \"C: 0.7,   kernel: linear\"}, {\"user_id\": \"10061_09308\", \"score\": 0.9051470588235293, \"C\": 0.7, \"kernel\": \"rbf\", \"c_kernel\": \"C: 0.7,   kernel: rbf\"}, {\"user_id\": \"10061_09308\", \"score\": 0.8823529411764707, \"C\": 1.0, \"kernel\": \"linear\", \"c_kernel\": \"C: 1.0,   kernel: linear\"}, {\"user_id\": \"10061_09308\", \"score\": 0.9176470588235294, \"C\": 1.0, \"kernel\": \"rbf\", \"c_kernel\": \"C: 1.0,   kernel: rbf\"}, {\"user_id\": \"10061_09308\", \"score\": 0.8823529411764707, \"C\": 5.0, \"kernel\": \"linear\", \"c_kernel\": \"C: 5.0,   kernel: linear\"}, {\"user_id\": \"10061_09308\", \"score\": 0.9411764705882352, \"C\": 5.0, \"kernel\": \"rbf\", \"c_kernel\": \"C: 5.0,   kernel: rbf\"}, {\"user_id\": \"10061_09308\", \"score\": 0.8823529411764707, \"C\": 10.0, \"kernel\": \"linear\", \"c_kernel\": \"C: 10.0,   kernel: linear\"}, {\"user_id\": \"10061_09308\", \"score\": 0.9411764705882352, \"C\": 10.0, \"kernel\": \"rbf\", \"c_kernel\": \"C: 10.0,   kernel: rbf\"}, {\"user_id\": \"10065_09587\", \"score\": 0.4889705882352941, \"C\": 0.7, \"kernel\": \"linear\", \"c_kernel\": \"C: 0.7,   kernel: linear\"}, {\"user_id\": \"10065_09587\", \"score\": 0.44191176470588234, \"C\": 0.7, \"kernel\": \"rbf\", \"c_kernel\": \"C: 0.7,   kernel: rbf\"}, {\"user_id\": \"10065_09587\", \"score\": 0.4889705882352941, \"C\": 1.0, \"kernel\": \"linear\", \"c_kernel\": \"C: 1.0,   kernel: linear\"}, {\"user_id\": \"10065_09587\", \"score\": 0.4772058823529412, \"C\": 1.0, \"kernel\": \"rbf\", \"c_kernel\": \"C: 1.0,   kernel: rbf\"}, {\"user_id\": \"10065_09587\", \"score\": 0.4889705882352941, \"C\": 5.0, \"kernel\": \"linear\", \"c_kernel\": \"C: 5.0,   kernel: linear\"}, {\"user_id\": \"10065_09587\", \"score\": 0.4647058823529412, \"C\": 5.0, \"kernel\": \"rbf\", \"c_kernel\": \"C: 5.0,   kernel: rbf\"}, {\"user_id\": \"10065_09587\", \"score\": 0.4889705882352941, \"C\": 10.0, \"kernel\": \"linear\", \"c_kernel\": \"C: 10.0,   kernel: linear\"}, {\"user_id\": \"10065_09587\", \"score\": 0.4647058823529412, \"C\": 10.0, \"kernel\": \"rbf\", \"c_kernel\": \"C: 10.0,   kernel: rbf\"}, {\"user_id\": \"10066_09687\", \"score\": 0.8470588235294118, \"C\": 0.7, \"kernel\": \"linear\", \"c_kernel\": \"C: 0.7,   kernel: linear\"}, {\"user_id\": \"10066_09687\", \"score\": 0.8933823529411764, \"C\": 0.7, \"kernel\": \"rbf\", \"c_kernel\": \"C: 0.7,   kernel: rbf\"}, {\"user_id\": \"10066_09687\", \"score\": 0.8470588235294118, \"C\": 1.0, \"kernel\": \"linear\", \"c_kernel\": \"C: 1.0,   kernel: linear\"}, {\"user_id\": \"10066_09687\", \"score\": 0.8823529411764707, \"C\": 1.0, \"kernel\": \"rbf\", \"c_kernel\": \"C: 1.0,   kernel: rbf\"}, {\"user_id\": \"10066_09687\", \"score\": 0.8470588235294118, \"C\": 5.0, \"kernel\": \"linear\", \"c_kernel\": \"C: 5.0,   kernel: linear\"}, {\"user_id\": \"10066_09687\", \"score\": 0.8588235294117647, \"C\": 5.0, \"kernel\": \"rbf\", \"c_kernel\": \"C: 5.0,   kernel: rbf\"}, {\"user_id\": \"10066_09687\", \"score\": 0.8470588235294118, \"C\": 10.0, \"kernel\": \"linear\", \"c_kernel\": \"C: 10.0,   kernel: linear\"}, {\"user_id\": \"10066_09687\", \"score\": 0.8588235294117647, \"C\": 10.0, \"kernel\": \"rbf\", \"c_kernel\": \"C: 10.0,   kernel: rbf\"}, {\"user_id\": \"10069_09785\", \"score\": 0.8941176470588236, \"C\": 0.7, \"kernel\": \"linear\", \"c_kernel\": \"C: 0.7,   kernel: linear\"}, {\"user_id\": \"10069_09785\", \"score\": 0.7404411764705883, \"C\": 0.7, \"kernel\": \"rbf\", \"c_kernel\": \"C: 0.7,   kernel: rbf\"}, {\"user_id\": \"10069_09785\", \"score\": 0.8941176470588236, \"C\": 1.0, \"kernel\": \"linear\", \"c_kernel\": \"C: 1.0,   kernel: linear\"}, {\"user_id\": \"10069_09785\", \"score\": 0.788235294117647, \"C\": 1.0, \"kernel\": \"rbf\", \"c_kernel\": \"C: 1.0,   kernel: rbf\"}, {\"user_id\": \"10069_09785\", \"score\": 0.8941176470588236, \"C\": 5.0, \"kernel\": \"linear\", \"c_kernel\": \"C: 5.0,   kernel: linear\"}, {\"user_id\": \"10069_09785\", \"score\": 0.8117647058823529, \"C\": 5.0, \"kernel\": \"rbf\", \"c_kernel\": \"C: 5.0,   kernel: rbf\"}, {\"user_id\": \"10069_09785\", \"score\": 0.8941176470588236, \"C\": 10.0, \"kernel\": \"linear\", \"c_kernel\": \"C: 10.0,   kernel: linear\"}, {\"user_id\": \"10069_09785\", \"score\": 0.8117647058823529, \"C\": 10.0, \"kernel\": \"rbf\", \"c_kernel\": \"C: 10.0,   kernel: rbf\"}, {\"user_id\": \"10080_09931\", \"score\": 0.725, \"C\": 0.7, \"kernel\": \"linear\", \"c_kernel\": \"C: 0.7,   kernel: linear\"}, {\"user_id\": \"10080_09931\", \"score\": 0.7125, \"C\": 0.7, \"kernel\": \"rbf\", \"c_kernel\": \"C: 0.7,   kernel: rbf\"}, {\"user_id\": \"10080_09931\", \"score\": 0.725, \"C\": 1.0, \"kernel\": \"linear\", \"c_kernel\": \"C: 1.0,   kernel: linear\"}, {\"user_id\": \"10080_09931\", \"score\": 0.700735294117647, \"C\": 1.0, \"kernel\": \"rbf\", \"c_kernel\": \"C: 1.0,   kernel: rbf\"}, {\"user_id\": \"10080_09931\", \"score\": 0.725, \"C\": 5.0, \"kernel\": \"linear\", \"c_kernel\": \"C: 5.0,   kernel: linear\"}, {\"user_id\": \"10080_09931\", \"score\": 0.713235294117647, \"C\": 5.0, \"kernel\": \"rbf\", \"c_kernel\": \"C: 5.0,   kernel: rbf\"}, {\"user_id\": \"10080_09931\", \"score\": 0.725, \"C\": 10.0, \"kernel\": \"linear\", \"c_kernel\": \"C: 10.0,   kernel: linear\"}, {\"user_id\": \"10080_09931\", \"score\": 0.713235294117647, \"C\": 10.0, \"kernel\": \"rbf\", \"c_kernel\": \"C: 10.0,   kernel: rbf\"}, {\"user_id\": \"10084_10188\", \"score\": 0.6588235294117647, \"C\": 0.7, \"kernel\": \"linear\", \"c_kernel\": \"C: 0.7,   kernel: linear\"}, {\"user_id\": \"10084_10188\", \"score\": 0.7411764705882353, \"C\": 0.7, \"kernel\": \"rbf\", \"c_kernel\": \"C: 0.7,   kernel: rbf\"}, {\"user_id\": \"10084_10188\", \"score\": 0.6588235294117647, \"C\": 1.0, \"kernel\": \"linear\", \"c_kernel\": \"C: 1.0,   kernel: linear\"}, {\"user_id\": \"10084_10188\", \"score\": 0.7294117647058823, \"C\": 1.0, \"kernel\": \"rbf\", \"c_kernel\": \"C: 1.0,   kernel: rbf\"}, {\"user_id\": \"10084_10188\", \"score\": 0.6588235294117647, \"C\": 5.0, \"kernel\": \"linear\", \"c_kernel\": \"C: 5.0,   kernel: linear\"}, {\"user_id\": \"10084_10188\", \"score\": 0.7058823529411764, \"C\": 5.0, \"kernel\": \"rbf\", \"c_kernel\": \"C: 5.0,   kernel: rbf\"}, {\"user_id\": \"10084_10188\", \"score\": 0.6588235294117647, \"C\": 10.0, \"kernel\": \"linear\", \"c_kernel\": \"C: 10.0,   kernel: linear\"}, {\"user_id\": \"10084_10188\", \"score\": 0.7058823529411764, \"C\": 10.0, \"kernel\": \"rbf\", \"c_kernel\": \"C: 10.0,   kernel: rbf\"}, {\"user_id\": \"30004_08965\", \"score\": 0.7852941176470589, \"C\": 0.7, \"kernel\": \"linear\", \"c_kernel\": \"C: 0.7,   kernel: linear\"}, {\"user_id\": \"30004_08965\", \"score\": 0.8705882352941178, \"C\": 0.7, \"kernel\": \"rbf\", \"c_kernel\": \"C: 0.7,   kernel: rbf\"}, {\"user_id\": \"30004_08965\", \"score\": 0.7852941176470589, \"C\": 1.0, \"kernel\": \"linear\", \"c_kernel\": \"C: 1.0,   kernel: linear\"}, {\"user_id\": \"30004_08965\", \"score\": 0.8588235294117647, \"C\": 1.0, \"kernel\": \"rbf\", \"c_kernel\": \"C: 1.0,   kernel: rbf\"}, {\"user_id\": \"30004_08965\", \"score\": 0.7852941176470589, \"C\": 5.0, \"kernel\": \"linear\", \"c_kernel\": \"C: 5.0,   kernel: linear\"}, {\"user_id\": \"30004_08965\", \"score\": 0.8227941176470589, \"C\": 5.0, \"kernel\": \"rbf\", \"c_kernel\": \"C: 5.0,   kernel: rbf\"}, {\"user_id\": \"30004_08965\", \"score\": 0.7852941176470589, \"C\": 10.0, \"kernel\": \"linear\", \"c_kernel\": \"C: 10.0,   kernel: linear\"}, {\"user_id\": \"30004_08965\", \"score\": 0.8227941176470589, \"C\": 10.0, \"kernel\": \"rbf\", \"c_kernel\": \"C: 10.0,   kernel: rbf\"}, {\"user_id\": \"30008_08981\", \"score\": 0.5830882352941176, \"C\": 0.7, \"kernel\": \"linear\", \"c_kernel\": \"C: 0.7,   kernel: linear\"}, {\"user_id\": \"30008_08981\", \"score\": 0.5727941176470588, \"C\": 0.7, \"kernel\": \"rbf\", \"c_kernel\": \"C: 0.7,   kernel: rbf\"}, {\"user_id\": \"30008_08981\", \"score\": 0.5830882352941176, \"C\": 1.0, \"kernel\": \"linear\", \"c_kernel\": \"C: 1.0,   kernel: linear\"}, {\"user_id\": \"30008_08981\", \"score\": 0.6558823529411765, \"C\": 1.0, \"kernel\": \"rbf\", \"c_kernel\": \"C: 1.0,   kernel: rbf\"}, {\"user_id\": \"30008_08981\", \"score\": 0.5830882352941176, \"C\": 5.0, \"kernel\": \"linear\", \"c_kernel\": \"C: 5.0,   kernel: linear\"}, {\"user_id\": \"30008_08981\", \"score\": 0.7022058823529411, \"C\": 5.0, \"kernel\": \"rbf\", \"c_kernel\": \"C: 5.0,   kernel: rbf\"}, {\"user_id\": \"30008_08981\", \"score\": 0.5830882352941176, \"C\": 10.0, \"kernel\": \"linear\", \"c_kernel\": \"C: 10.0,   kernel: linear\"}, {\"user_id\": \"30008_08981\", \"score\": 0.7022058823529411, \"C\": 10.0, \"kernel\": \"rbf\", \"c_kernel\": \"C: 10.0,   kernel: rbf\"}, {\"user_id\": \"30009_09227\", \"score\": 0.7029411764705882, \"C\": 0.7, \"kernel\": \"linear\", \"c_kernel\": \"C: 0.7,   kernel: linear\"}, {\"user_id\": \"30009_09227\", \"score\": 0.7875, \"C\": 0.7, \"kernel\": \"rbf\", \"c_kernel\": \"C: 0.7,   kernel: rbf\"}, {\"user_id\": \"30009_09227\", \"score\": 0.7029411764705882, \"C\": 1.0, \"kernel\": \"linear\", \"c_kernel\": \"C: 1.0,   kernel: linear\"}, {\"user_id\": \"30009_09227\", \"score\": 0.8110294117647058, \"C\": 1.0, \"kernel\": \"rbf\", \"c_kernel\": \"C: 1.0,   kernel: rbf\"}, {\"user_id\": \"30009_09227\", \"score\": 0.7029411764705882, \"C\": 5.0, \"kernel\": \"linear\", \"c_kernel\": \"C: 5.0,   kernel: linear\"}, {\"user_id\": \"30009_09227\", \"score\": 0.7992647058823529, \"C\": 5.0, \"kernel\": \"rbf\", \"c_kernel\": \"C: 5.0,   kernel: rbf\"}, {\"user_id\": \"30009_09227\", \"score\": 0.7029411764705882, \"C\": 10.0, \"kernel\": \"linear\", \"c_kernel\": \"C: 10.0,   kernel: linear\"}, {\"user_id\": \"30009_09227\", \"score\": 0.7992647058823529, \"C\": 10.0, \"kernel\": \"rbf\", \"c_kernel\": \"C: 10.0,   kernel: rbf\"}, {\"user_id\": \"30011_09170\", \"score\": 0.7647058823529411, \"C\": 0.7, \"kernel\": \"linear\", \"c_kernel\": \"C: 0.7,   kernel: linear\"}, {\"user_id\": \"30011_09170\", \"score\": 0.8823529411764707, \"C\": 0.7, \"kernel\": \"rbf\", \"c_kernel\": \"C: 0.7,   kernel: rbf\"}, {\"user_id\": \"30011_09170\", \"score\": 0.7647058823529411, \"C\": 1.0, \"kernel\": \"linear\", \"c_kernel\": \"C: 1.0,   kernel: linear\"}, {\"user_id\": \"30011_09170\", \"score\": 0.8588235294117647, \"C\": 1.0, \"kernel\": \"rbf\", \"c_kernel\": \"C: 1.0,   kernel: rbf\"}, {\"user_id\": \"30011_09170\", \"score\": 0.7647058823529411, \"C\": 5.0, \"kernel\": \"linear\", \"c_kernel\": \"C: 5.0,   kernel: linear\"}, {\"user_id\": \"30011_09170\", \"score\": 0.8235294117647058, \"C\": 5.0, \"kernel\": \"rbf\", \"c_kernel\": \"C: 5.0,   kernel: rbf\"}, {\"user_id\": \"30011_09170\", \"score\": 0.7647058823529411, \"C\": 10.0, \"kernel\": \"linear\", \"c_kernel\": \"C: 10.0,   kernel: linear\"}, {\"user_id\": \"30011_09170\", \"score\": 0.8235294117647058, \"C\": 10.0, \"kernel\": \"rbf\", \"c_kernel\": \"C: 10.0,   kernel: rbf\"}, {\"user_id\": \"30012_09102\", \"score\": 0.4389705882352941, \"C\": 0.7, \"kernel\": \"linear\", \"c_kernel\": \"C: 0.7,   kernel: linear\"}, {\"user_id\": \"30012_09102\", \"score\": 0.5367647058823529, \"C\": 0.7, \"kernel\": \"rbf\", \"c_kernel\": \"C: 0.7,   kernel: rbf\"}, {\"user_id\": \"30012_09102\", \"score\": 0.4389705882352941, \"C\": 1.0, \"kernel\": \"linear\", \"c_kernel\": \"C: 1.0,   kernel: linear\"}, {\"user_id\": \"30012_09102\", \"score\": 0.5139705882352942, \"C\": 1.0, \"kernel\": \"rbf\", \"c_kernel\": \"C: 1.0,   kernel: rbf\"}, {\"user_id\": \"30012_09102\", \"score\": 0.4389705882352941, \"C\": 5.0, \"kernel\": \"linear\", \"c_kernel\": \"C: 5.0,   kernel: linear\"}, {\"user_id\": \"30012_09102\", \"score\": 0.5132352941176471, \"C\": 5.0, \"kernel\": \"rbf\", \"c_kernel\": \"C: 5.0,   kernel: rbf\"}, {\"user_id\": \"30012_09102\", \"score\": 0.4389705882352941, \"C\": 10.0, \"kernel\": \"linear\", \"c_kernel\": \"C: 10.0,   kernel: linear\"}, {\"user_id\": \"30012_09102\", \"score\": 0.5132352941176471, \"C\": 10.0, \"kernel\": \"rbf\", \"c_kernel\": \"C: 10.0,   kernel: rbf\"}, {\"user_id\": \"30014_09352\", \"score\": 0.4772058823529412, \"C\": 0.7, \"kernel\": \"linear\", \"c_kernel\": \"C: 0.7,   kernel: linear\"}, {\"user_id\": \"30014_09352\", \"score\": 0.5, \"C\": 0.7, \"kernel\": \"rbf\", \"c_kernel\": \"C: 0.7,   kernel: rbf\"}, {\"user_id\": \"30014_09352\", \"score\": 0.4772058823529412, \"C\": 1.0, \"kernel\": \"linear\", \"c_kernel\": \"C: 1.0,   kernel: linear\"}, {\"user_id\": \"30014_09352\", \"score\": 0.4772058823529412, \"C\": 1.0, \"kernel\": \"rbf\", \"c_kernel\": \"C: 1.0,   kernel: rbf\"}, {\"user_id\": \"30014_09352\", \"score\": 0.4772058823529412, \"C\": 5.0, \"kernel\": \"linear\", \"c_kernel\": \"C: 5.0,   kernel: linear\"}, {\"user_id\": \"30014_09352\", \"score\": 0.550735294117647, \"C\": 5.0, \"kernel\": \"rbf\", \"c_kernel\": \"C: 5.0,   kernel: rbf\"}, {\"user_id\": \"30014_09352\", \"score\": 0.4772058823529412, \"C\": 10.0, \"kernel\": \"linear\", \"c_kernel\": \"C: 10.0,   kernel: linear\"}, {\"user_id\": \"30014_09352\", \"score\": 0.550735294117647, \"C\": 10.0, \"kernel\": \"rbf\", \"c_kernel\": \"C: 10.0,   kernel: rbf\"}, {\"user_id\": \"30017_09567\", \"score\": 0.8338235294117646, \"C\": 0.7, \"kernel\": \"linear\", \"c_kernel\": \"C: 0.7,   kernel: linear\"}, {\"user_id\": \"30017_09567\", \"score\": 0.8698529411764706, \"C\": 0.7, \"kernel\": \"rbf\", \"c_kernel\": \"C: 0.7,   kernel: rbf\"}, {\"user_id\": \"30017_09567\", \"score\": 0.8338235294117646, \"C\": 1.0, \"kernel\": \"linear\", \"c_kernel\": \"C: 1.0,   kernel: linear\"}, {\"user_id\": \"30017_09567\", \"score\": 0.8698529411764706, \"C\": 1.0, \"kernel\": \"rbf\", \"c_kernel\": \"C: 1.0,   kernel: rbf\"}, {\"user_id\": \"30017_09567\", \"score\": 0.8338235294117646, \"C\": 5.0, \"kernel\": \"linear\", \"c_kernel\": \"C: 5.0,   kernel: linear\"}, {\"user_id\": \"30017_09567\", \"score\": 0.8580882352941177, \"C\": 5.0, \"kernel\": \"rbf\", \"c_kernel\": \"C: 5.0,   kernel: rbf\"}, {\"user_id\": \"30017_09567\", \"score\": 0.8338235294117646, \"C\": 10.0, \"kernel\": \"linear\", \"c_kernel\": \"C: 10.0,   kernel: linear\"}, {\"user_id\": \"30017_09567\", \"score\": 0.8580882352941177, \"C\": 10.0, \"kernel\": \"rbf\", \"c_kernel\": \"C: 10.0,   kernel: rbf\"}, {\"user_id\": \"30020_09236\", \"score\": 0.6419117647058824, \"C\": 0.7, \"kernel\": \"linear\", \"c_kernel\": \"C: 0.7,   kernel: linear\"}, {\"user_id\": \"30020_09236\", \"score\": 0.7117647058823529, \"C\": 0.7, \"kernel\": \"rbf\", \"c_kernel\": \"C: 0.7,   kernel: rbf\"}, {\"user_id\": \"30020_09236\", \"score\": 0.6419117647058824, \"C\": 1.0, \"kernel\": \"linear\", \"c_kernel\": \"C: 1.0,   kernel: linear\"}, {\"user_id\": \"30020_09236\", \"score\": 0.7242647058823529, \"C\": 1.0, \"kernel\": \"rbf\", \"c_kernel\": \"C: 1.0,   kernel: rbf\"}, {\"user_id\": \"30020_09236\", \"score\": 0.6419117647058824, \"C\": 5.0, \"kernel\": \"linear\", \"c_kernel\": \"C: 5.0,   kernel: linear\"}, {\"user_id\": \"30020_09236\", \"score\": 0.7007352941176471, \"C\": 5.0, \"kernel\": \"rbf\", \"c_kernel\": \"C: 5.0,   kernel: rbf\"}, {\"user_id\": \"30020_09236\", \"score\": 0.6419117647058824, \"C\": 10.0, \"kernel\": \"linear\", \"c_kernel\": \"C: 10.0,   kernel: linear\"}, {\"user_id\": \"30020_09236\", \"score\": 0.7007352941176471, \"C\": 10.0, \"kernel\": \"rbf\", \"c_kernel\": \"C: 10.0,   kernel: rbf\"}, {\"user_id\": \"30024_09398\", \"score\": 0.9176470588235294, \"C\": 0.7, \"kernel\": \"linear\", \"c_kernel\": \"C: 0.7,   kernel: linear\"}, {\"user_id\": \"30024_09398\", \"score\": 0.9411764705882353, \"C\": 0.7, \"kernel\": \"rbf\", \"c_kernel\": \"C: 0.7,   kernel: rbf\"}, {\"user_id\": \"30024_09398\", \"score\": 0.9176470588235294, \"C\": 1.0, \"kernel\": \"linear\", \"c_kernel\": \"C: 1.0,   kernel: linear\"}, {\"user_id\": \"30024_09398\", \"score\": 0.9411764705882353, \"C\": 1.0, \"kernel\": \"rbf\", \"c_kernel\": \"C: 1.0,   kernel: rbf\"}, {\"user_id\": \"30024_09398\", \"score\": 0.9176470588235294, \"C\": 5.0, \"kernel\": \"linear\", \"c_kernel\": \"C: 5.0,   kernel: linear\"}, {\"user_id\": \"30024_09398\", \"score\": 0.9411764705882353, \"C\": 5.0, \"kernel\": \"rbf\", \"c_kernel\": \"C: 5.0,   kernel: rbf\"}, {\"user_id\": \"30024_09398\", \"score\": 0.9176470588235294, \"C\": 10.0, \"kernel\": \"linear\", \"c_kernel\": \"C: 10.0,   kernel: linear\"}, {\"user_id\": \"30024_09398\", \"score\": 0.9411764705882353, \"C\": 10.0, \"kernel\": \"rbf\", \"c_kernel\": \"C: 10.0,   kernel: rbf\"}, {\"user_id\": \"30025_09402\", \"score\": 0.3919117647058824, \"C\": 0.7, \"kernel\": \"linear\", \"c_kernel\": \"C: 0.7,   kernel: linear\"}, {\"user_id\": \"30025_09402\", \"score\": 0.4764705882352942, \"C\": 0.7, \"kernel\": \"rbf\", \"c_kernel\": \"C: 0.7,   kernel: rbf\"}, {\"user_id\": \"30025_09402\", \"score\": 0.3919117647058824, \"C\": 1.0, \"kernel\": \"linear\", \"c_kernel\": \"C: 1.0,   kernel: linear\"}, {\"user_id\": \"30025_09402\", \"score\": 0.475, \"C\": 1.0, \"kernel\": \"rbf\", \"c_kernel\": \"C: 1.0,   kernel: rbf\"}, {\"user_id\": \"30025_09402\", \"score\": 0.3919117647058824, \"C\": 5.0, \"kernel\": \"linear\", \"c_kernel\": \"C: 5.0,   kernel: linear\"}, {\"user_id\": \"30025_09402\", \"score\": 0.474264705882353, \"C\": 5.0, \"kernel\": \"rbf\", \"c_kernel\": \"C: 5.0,   kernel: rbf\"}, {\"user_id\": \"30025_09402\", \"score\": 0.3919117647058824, \"C\": 10.0, \"kernel\": \"linear\", \"c_kernel\": \"C: 10.0,   kernel: linear\"}, {\"user_id\": \"30025_09402\", \"score\": 0.474264705882353, \"C\": 10.0, \"kernel\": \"rbf\", \"c_kernel\": \"C: 10.0,   kernel: rbf\"}, {\"user_id\": \"30026_09430\", \"score\": 0.7279411764705882, \"C\": 0.7, \"kernel\": \"linear\", \"c_kernel\": \"C: 0.7,   kernel: linear\"}, {\"user_id\": \"30026_09430\", \"score\": 0.7169117647058824, \"C\": 0.7, \"kernel\": \"rbf\", \"c_kernel\": \"C: 0.7,   kernel: rbf\"}, {\"user_id\": \"30026_09430\", \"score\": 0.7279411764705882, \"C\": 1.0, \"kernel\": \"linear\", \"c_kernel\": \"C: 1.0,   kernel: linear\"}, {\"user_id\": \"30026_09430\", \"score\": 0.7404411764705883, \"C\": 1.0, \"kernel\": \"rbf\", \"c_kernel\": \"C: 1.0,   kernel: rbf\"}, {\"user_id\": \"30026_09430\", \"score\": 0.7279411764705882, \"C\": 5.0, \"kernel\": \"linear\", \"c_kernel\": \"C: 5.0,   kernel: linear\"}, {\"user_id\": \"30026_09430\", \"score\": 0.7529411764705882, \"C\": 5.0, \"kernel\": \"rbf\", \"c_kernel\": \"C: 5.0,   kernel: rbf\"}, {\"user_id\": \"30026_09430\", \"score\": 0.7279411764705882, \"C\": 10.0, \"kernel\": \"linear\", \"c_kernel\": \"C: 10.0,   kernel: linear\"}, {\"user_id\": \"30026_09430\", \"score\": 0.7529411764705882, \"C\": 10.0, \"kernel\": \"rbf\", \"c_kernel\": \"C: 10.0,   kernel: rbf\"}, {\"user_id\": \"30027_09638\", \"score\": 0.7411764705882353, \"C\": 0.7, \"kernel\": \"linear\", \"c_kernel\": \"C: 0.7,   kernel: linear\"}, {\"user_id\": \"30027_09638\", \"score\": 0.8705882352941176, \"C\": 0.7, \"kernel\": \"rbf\", \"c_kernel\": \"C: 0.7,   kernel: rbf\"}, {\"user_id\": \"30027_09638\", \"score\": 0.7411764705882353, \"C\": 1.0, \"kernel\": \"linear\", \"c_kernel\": \"C: 1.0,   kernel: linear\"}, {\"user_id\": \"30027_09638\", \"score\": 0.8588235294117647, \"C\": 1.0, \"kernel\": \"rbf\", \"c_kernel\": \"C: 1.0,   kernel: rbf\"}, {\"user_id\": \"30027_09638\", \"score\": 0.7411764705882353, \"C\": 5.0, \"kernel\": \"linear\", \"c_kernel\": \"C: 5.0,   kernel: linear\"}, {\"user_id\": \"30027_09638\", \"score\": 0.8352941176470589, \"C\": 5.0, \"kernel\": \"rbf\", \"c_kernel\": \"C: 5.0,   kernel: rbf\"}, {\"user_id\": \"30027_09638\", \"score\": 0.7411764705882353, \"C\": 10.0, \"kernel\": \"linear\", \"c_kernel\": \"C: 10.0,   kernel: linear\"}, {\"user_id\": \"30027_09638\", \"score\": 0.8352941176470589, \"C\": 10.0, \"kernel\": \"rbf\", \"c_kernel\": \"C: 10.0,   kernel: rbf\"}, {\"user_id\": \"30033_09776\", \"score\": 0.5110294117647058, \"C\": 0.7, \"kernel\": \"linear\", \"c_kernel\": \"C: 0.7,   kernel: linear\"}, {\"user_id\": \"30033_09776\", \"score\": 0.6205882352941177, \"C\": 0.7, \"kernel\": \"rbf\", \"c_kernel\": \"C: 0.7,   kernel: rbf\"}, {\"user_id\": \"30033_09776\", \"score\": 0.5110294117647058, \"C\": 1.0, \"kernel\": \"linear\", \"c_kernel\": \"C: 1.0,   kernel: linear\"}, {\"user_id\": \"30033_09776\", \"score\": 0.6323529411764707, \"C\": 1.0, \"kernel\": \"rbf\", \"c_kernel\": \"C: 1.0,   kernel: rbf\"}, {\"user_id\": \"30033_09776\", \"score\": 0.5110294117647058, \"C\": 5.0, \"kernel\": \"linear\", \"c_kernel\": \"C: 5.0,   kernel: linear\"}, {\"user_id\": \"30033_09776\", \"score\": 0.6573529411764706, \"C\": 5.0, \"kernel\": \"rbf\", \"c_kernel\": \"C: 5.0,   kernel: rbf\"}, {\"user_id\": \"30033_09776\", \"score\": 0.5110294117647058, \"C\": 10.0, \"kernel\": \"linear\", \"c_kernel\": \"C: 10.0,   kernel: linear\"}, {\"user_id\": \"30033_09776\", \"score\": 0.6573529411764706, \"C\": 10.0, \"kernel\": \"rbf\", \"c_kernel\": \"C: 10.0,   kernel: rbf\"}, {\"user_id\": \"30035_09836\", \"score\": 0.6867647058823529, \"C\": 0.7, \"kernel\": \"linear\", \"c_kernel\": \"C: 0.7,   kernel: linear\"}, {\"user_id\": \"30035_09836\", \"score\": 0.8080882352941178, \"C\": 0.7, \"kernel\": \"rbf\", \"c_kernel\": \"C: 0.7,   kernel: rbf\"}, {\"user_id\": \"30035_09836\", \"score\": 0.6867647058823529, \"C\": 1.0, \"kernel\": \"linear\", \"c_kernel\": \"C: 1.0,   kernel: linear\"}, {\"user_id\": \"30035_09836\", \"score\": 0.8080882352941178, \"C\": 1.0, \"kernel\": \"rbf\", \"c_kernel\": \"C: 1.0,   kernel: rbf\"}, {\"user_id\": \"30035_09836\", \"score\": 0.6867647058823529, \"C\": 5.0, \"kernel\": \"linear\", \"c_kernel\": \"C: 5.0,   kernel: linear\"}, {\"user_id\": \"30035_09836\", \"score\": 0.7485294117647059, \"C\": 5.0, \"kernel\": \"rbf\", \"c_kernel\": \"C: 5.0,   kernel: rbf\"}, {\"user_id\": \"30035_09836\", \"score\": 0.6867647058823529, \"C\": 10.0, \"kernel\": \"linear\", \"c_kernel\": \"C: 10.0,   kernel: linear\"}, {\"user_id\": \"30035_09836\", \"score\": 0.7485294117647059, \"C\": 10.0, \"kernel\": \"rbf\", \"c_kernel\": \"C: 10.0,   kernel: rbf\"}, {\"user_id\": \"30036_09758\", \"score\": 0.5735294117647058, \"C\": 0.7, \"kernel\": \"linear\", \"c_kernel\": \"C: 0.7,   kernel: linear\"}, {\"user_id\": \"30036_09758\", \"score\": 0.45220588235294124, \"C\": 0.7, \"kernel\": \"rbf\", \"c_kernel\": \"C: 0.7,   kernel: rbf\"}, {\"user_id\": \"30036_09758\", \"score\": 0.5735294117647058, \"C\": 1.0, \"kernel\": \"linear\", \"c_kernel\": \"C: 1.0,   kernel: linear\"}, {\"user_id\": \"30036_09758\", \"score\": 0.5014705882352941, \"C\": 1.0, \"kernel\": \"rbf\", \"c_kernel\": \"C: 1.0,   kernel: rbf\"}, {\"user_id\": \"30036_09758\", \"score\": 0.5735294117647058, \"C\": 5.0, \"kernel\": \"linear\", \"c_kernel\": \"C: 5.0,   kernel: linear\"}, {\"user_id\": \"30036_09758\", \"score\": 0.5132352941176471, \"C\": 5.0, \"kernel\": \"rbf\", \"c_kernel\": \"C: 5.0,   kernel: rbf\"}, {\"user_id\": \"30036_09758\", \"score\": 0.5735294117647058, \"C\": 10.0, \"kernel\": \"linear\", \"c_kernel\": \"C: 10.0,   kernel: linear\"}, {\"user_id\": \"30036_09758\", \"score\": 0.5132352941176471, \"C\": 10.0, \"kernel\": \"rbf\", \"c_kernel\": \"C: 10.0,   kernel: rbf\"}, {\"user_id\": \"30038_09967\", \"score\": 0.9051470588235293, \"C\": 0.7, \"kernel\": \"linear\", \"c_kernel\": \"C: 0.7,   kernel: linear\"}, {\"user_id\": \"30038_09967\", \"score\": 0.9169117647058822, \"C\": 0.7, \"kernel\": \"rbf\", \"c_kernel\": \"C: 0.7,   kernel: rbf\"}, {\"user_id\": \"30038_09967\", \"score\": 0.9051470588235293, \"C\": 1.0, \"kernel\": \"linear\", \"c_kernel\": \"C: 1.0,   kernel: linear\"}, {\"user_id\": \"30038_09967\", \"score\": 0.9169117647058822, \"C\": 1.0, \"kernel\": \"rbf\", \"c_kernel\": \"C: 1.0,   kernel: rbf\"}, {\"user_id\": \"30038_09967\", \"score\": 0.9051470588235293, \"C\": 5.0, \"kernel\": \"linear\", \"c_kernel\": \"C: 5.0,   kernel: linear\"}, {\"user_id\": \"30038_09967\", \"score\": 0.9169117647058822, \"C\": 5.0, \"kernel\": \"rbf\", \"c_kernel\": \"C: 5.0,   kernel: rbf\"}, {\"user_id\": \"30038_09967\", \"score\": 0.9051470588235293, \"C\": 10.0, \"kernel\": \"linear\", \"c_kernel\": \"C: 10.0,   kernel: linear\"}, {\"user_id\": \"30038_09967\", \"score\": 0.9169117647058822, \"C\": 10.0, \"kernel\": \"rbf\", \"c_kernel\": \"C: 10.0,   kernel: rbf\"}, {\"user_id\": \"30044_10095\", \"score\": 0.7029411764705882, \"C\": 0.7, \"kernel\": \"linear\", \"c_kernel\": \"C: 0.7,   kernel: linear\"}, {\"user_id\": \"30044_10095\", \"score\": 0.8338235294117646, \"C\": 0.7, \"kernel\": \"rbf\", \"c_kernel\": \"C: 0.7,   kernel: rbf\"}, {\"user_id\": \"30044_10095\", \"score\": 0.7029411764705882, \"C\": 1.0, \"kernel\": \"linear\", \"c_kernel\": \"C: 1.0,   kernel: linear\"}, {\"user_id\": \"30044_10095\", \"score\": 0.8580882352941177, \"C\": 1.0, \"kernel\": \"rbf\", \"c_kernel\": \"C: 1.0,   kernel: rbf\"}, {\"user_id\": \"30044_10095\", \"score\": 0.7029411764705882, \"C\": 5.0, \"kernel\": \"linear\", \"c_kernel\": \"C: 5.0,   kernel: linear\"}, {\"user_id\": \"30044_10095\", \"score\": 0.8110294117647058, \"C\": 5.0, \"kernel\": \"rbf\", \"c_kernel\": \"C: 5.0,   kernel: rbf\"}, {\"user_id\": \"30044_10095\", \"score\": 0.7029411764705882, \"C\": 10.0, \"kernel\": \"linear\", \"c_kernel\": \"C: 10.0,   kernel: linear\"}, {\"user_id\": \"30044_10095\", \"score\": 0.8110294117647058, \"C\": 10.0, \"kernel\": \"rbf\", \"c_kernel\": \"C: 10.0,   kernel: rbf\"}, {\"user_id\": \"30045_10182\", \"score\": 0.7264705882352941, \"C\": 0.7, \"kernel\": \"linear\", \"c_kernel\": \"C: 0.7,   kernel: linear\"}, {\"user_id\": \"30045_10182\", \"score\": 0.8330882352941176, \"C\": 0.7, \"kernel\": \"rbf\", \"c_kernel\": \"C: 0.7,   kernel: rbf\"}, {\"user_id\": \"30045_10182\", \"score\": 0.7264705882352941, \"C\": 1.0, \"kernel\": \"linear\", \"c_kernel\": \"C: 1.0,   kernel: linear\"}, {\"user_id\": \"30045_10182\", \"score\": 0.7852941176470588, \"C\": 1.0, \"kernel\": \"rbf\", \"c_kernel\": \"C: 1.0,   kernel: rbf\"}, {\"user_id\": \"30045_10182\", \"score\": 0.7264705882352941, \"C\": 5.0, \"kernel\": \"linear\", \"c_kernel\": \"C: 5.0,   kernel: linear\"}, {\"user_id\": \"30045_10182\", \"score\": 0.7970588235294118, \"C\": 5.0, \"kernel\": \"rbf\", \"c_kernel\": \"C: 5.0,   kernel: rbf\"}, {\"user_id\": \"30045_10182\", \"score\": 0.7264705882352941, \"C\": 10.0, \"kernel\": \"linear\", \"c_kernel\": \"C: 10.0,   kernel: linear\"}, {\"user_id\": \"30045_10182\", \"score\": 0.7970588235294118, \"C\": 10.0, \"kernel\": \"rbf\", \"c_kernel\": \"C: 10.0,   kernel: rbf\"}, {\"user_id\": \"30053_10112\", \"score\": 0.6183823529411765, \"C\": 0.7, \"kernel\": \"linear\", \"c_kernel\": \"C: 0.7,   kernel: linear\"}, {\"user_id\": \"30053_10112\", \"score\": 0.5235294117647059, \"C\": 0.7, \"kernel\": \"rbf\", \"c_kernel\": \"C: 0.7,   kernel: rbf\"}, {\"user_id\": \"30053_10112\", \"score\": 0.6183823529411765, \"C\": 1.0, \"kernel\": \"linear\", \"c_kernel\": \"C: 1.0,   kernel: linear\"}, {\"user_id\": \"30053_10112\", \"score\": 0.5955882352941176, \"C\": 1.0, \"kernel\": \"rbf\", \"c_kernel\": \"C: 1.0,   kernel: rbf\"}, {\"user_id\": \"30053_10112\", \"score\": 0.6183823529411765, \"C\": 5.0, \"kernel\": \"linear\", \"c_kernel\": \"C: 5.0,   kernel: linear\"}, {\"user_id\": \"30053_10112\", \"score\": 0.5948529411764706, \"C\": 5.0, \"kernel\": \"rbf\", \"c_kernel\": \"C: 5.0,   kernel: rbf\"}, {\"user_id\": \"30053_10112\", \"score\": 0.6183823529411765, \"C\": 10.0, \"kernel\": \"linear\", \"c_kernel\": \"C: 10.0,   kernel: linear\"}, {\"user_id\": \"30053_10112\", \"score\": 0.5948529411764706, \"C\": 10.0, \"kernel\": \"rbf\", \"c_kernel\": \"C: 10.0,   kernel: rbf\"}]}}, {\"mode\": \"vega-lite\"});\n",
              "</script>"
            ],
            "text/plain": [
              "alt.Chart(...)"
            ]
          },
          "metadata": {},
          "execution_count": 91
        }
      ],
      "source": [
        "box_plot = alt.Chart(df_results).mark_boxplot(extent='min-max').encode(\n",
        "    x=alt.X(\n",
        "        'c_kernel:O',\n",
        "        sort=alt.EncodingSortFieldFieldName(field='score', op='mean', order='descending')\n",
        "    ),\n",
        "    y='score:Q'\n",
        ").properties(height=600, width=800)\n",
        "\n",
        "box_plot"
      ]
    },
    {
      "cell_type": "markdown",
      "source": [
        "## Opening Second Pickle File"
      ],
      "metadata": {
        "id": "ccmjuhwx_xzO"
      }
    },
    {
      "cell_type": "code",
      "source": [
        "# %%time\n",
        "pkl_file = \"single_subj_acc_measures.pkl\"\n",
        "bool_mat = False\n",
        "data = access_load_data(pkl_file, bool_mat)"
      ],
      "metadata": {
        "id": "JXl6Nyn5yBHb"
      },
      "execution_count": null,
      "outputs": []
    },
    {
      "cell_type": "code",
      "source": [
        "data.keys()"
      ],
      "metadata": {
        "colab": {
          "base_uri": "https://localhost:8080/"
        },
        "id": "tJYo6Xyw_--J",
        "outputId": "d079c9a3-5c36-4c00-e1bb-8fbb3f5e1373"
      },
      "execution_count": null,
      "outputs": [
        {
          "output_type": "execute_result",
          "data": {
            "text/plain": [
              "dict_keys(['acc_df_psconly', 'acc_df_znorm_only', 'acc_df_znorm_psc', 'acc_df_nonorm'])"
            ]
          },
          "metadata": {},
          "execution_count": 88
        }
      ]
    },
    {
      "cell_type": "code",
      "source": [
        "index = 0\n",
        "columns = ['normalization_type', 'subject_id', 'train_accuracy', 'validation_accuracy', 'test_accuracy']\n",
        "\n",
        "dict_for_df = {}\n",
        "\n",
        "for norm_type in data.keys():\n",
        "  temp = data[norm_type]\n",
        "  normalization_type = [norm_type for x in range(len(temp['Subject']))]\n",
        "  subject_id = temp['Subject']\n",
        "  train_accuracy = temp['TrainAcc']\n",
        "  val_acc = temp['ValAcc']\n",
        "  test_acc = temp['TestAcc']\n",
        "  for x in np.array([normalization_type, subject_id, train_accuracy, val_acc, test_acc]).T:\n",
        "    dict_for_df[index] = x\n",
        "    index += 1\n",
        "\n",
        "norm_df = pd.DataFrame.from_dict(dict_for_df, orient='index', columns=columns)\n",
        "norm_df.head()"
      ],
      "metadata": {
        "colab": {
          "base_uri": "https://localhost:8080/",
          "height": 206
        },
        "id": "xgaVk2RoALlZ",
        "outputId": "71d445a0-51c3-49a7-8cef-4b0865cedb13"
      },
      "execution_count": null,
      "outputs": [
        {
          "output_type": "execute_result",
          "data": {
            "text/plain": [
              "  normalization_type   subject_id  train_accuracy  validation_accuracy  \\\n",
              "0     acc_df_psconly  10004_08693        0.904762             0.642857   \n",
              "1     acc_df_psconly  10008_09924        0.761905             0.500000   \n",
              "2     acc_df_psconly  10009_08848        0.964286             0.678571   \n",
              "3     acc_df_psconly  10016_09694        0.988095             0.642857   \n",
              "4     acc_df_psconly  10017_08894        0.761905             0.500000   \n",
              "\n",
              "   test_accuracy  \n",
              "0       0.785714  \n",
              "1       0.500000  \n",
              "2       0.511905  \n",
              "3       0.488095  \n",
              "4       0.595238  "
            ],
            "text/html": [
              "\n",
              "  <div id=\"df-527a060c-44e6-4128-aa1f-994b00484b03\">\n",
              "    <div class=\"colab-df-container\">\n",
              "      <div>\n",
              "<style scoped>\n",
              "    .dataframe tbody tr th:only-of-type {\n",
              "        vertical-align: middle;\n",
              "    }\n",
              "\n",
              "    .dataframe tbody tr th {\n",
              "        vertical-align: top;\n",
              "    }\n",
              "\n",
              "    .dataframe thead th {\n",
              "        text-align: right;\n",
              "    }\n",
              "</style>\n",
              "<table border=\"1\" class=\"dataframe\">\n",
              "  <thead>\n",
              "    <tr style=\"text-align: right;\">\n",
              "      <th></th>\n",
              "      <th>normalization_type</th>\n",
              "      <th>subject_id</th>\n",
              "      <th>train_accuracy</th>\n",
              "      <th>validation_accuracy</th>\n",
              "      <th>test_accuracy</th>\n",
              "    </tr>\n",
              "  </thead>\n",
              "  <tbody>\n",
              "    <tr>\n",
              "      <th>0</th>\n",
              "      <td>acc_df_psconly</td>\n",
              "      <td>10004_08693</td>\n",
              "      <td>0.904762</td>\n",
              "      <td>0.642857</td>\n",
              "      <td>0.785714</td>\n",
              "    </tr>\n",
              "    <tr>\n",
              "      <th>1</th>\n",
              "      <td>acc_df_psconly</td>\n",
              "      <td>10008_09924</td>\n",
              "      <td>0.761905</td>\n",
              "      <td>0.500000</td>\n",
              "      <td>0.500000</td>\n",
              "    </tr>\n",
              "    <tr>\n",
              "      <th>2</th>\n",
              "      <td>acc_df_psconly</td>\n",
              "      <td>10009_08848</td>\n",
              "      <td>0.964286</td>\n",
              "      <td>0.678571</td>\n",
              "      <td>0.511905</td>\n",
              "    </tr>\n",
              "    <tr>\n",
              "      <th>3</th>\n",
              "      <td>acc_df_psconly</td>\n",
              "      <td>10016_09694</td>\n",
              "      <td>0.988095</td>\n",
              "      <td>0.642857</td>\n",
              "      <td>0.488095</td>\n",
              "    </tr>\n",
              "    <tr>\n",
              "      <th>4</th>\n",
              "      <td>acc_df_psconly</td>\n",
              "      <td>10017_08894</td>\n",
              "      <td>0.761905</td>\n",
              "      <td>0.500000</td>\n",
              "      <td>0.595238</td>\n",
              "    </tr>\n",
              "  </tbody>\n",
              "</table>\n",
              "</div>\n",
              "      <button class=\"colab-df-convert\" onclick=\"convertToInteractive('df-527a060c-44e6-4128-aa1f-994b00484b03')\"\n",
              "              title=\"Convert this dataframe to an interactive table.\"\n",
              "              style=\"display:none;\">\n",
              "        \n",
              "  <svg xmlns=\"http://www.w3.org/2000/svg\" height=\"24px\"viewBox=\"0 0 24 24\"\n",
              "       width=\"24px\">\n",
              "    <path d=\"M0 0h24v24H0V0z\" fill=\"none\"/>\n",
              "    <path d=\"M18.56 5.44l.94 2.06.94-2.06 2.06-.94-2.06-.94-.94-2.06-.94 2.06-2.06.94zm-11 1L8.5 8.5l.94-2.06 2.06-.94-2.06-.94L8.5 2.5l-.94 2.06-2.06.94zm10 10l.94 2.06.94-2.06 2.06-.94-2.06-.94-.94-2.06-.94 2.06-2.06.94z\"/><path d=\"M17.41 7.96l-1.37-1.37c-.4-.4-.92-.59-1.43-.59-.52 0-1.04.2-1.43.59L10.3 9.45l-7.72 7.72c-.78.78-.78 2.05 0 2.83L4 21.41c.39.39.9.59 1.41.59.51 0 1.02-.2 1.41-.59l7.78-7.78 2.81-2.81c.8-.78.8-2.07 0-2.86zM5.41 20L4 18.59l7.72-7.72 1.47 1.35L5.41 20z\"/>\n",
              "  </svg>\n",
              "      </button>\n",
              "      \n",
              "  <style>\n",
              "    .colab-df-container {\n",
              "      display:flex;\n",
              "      flex-wrap:wrap;\n",
              "      gap: 12px;\n",
              "    }\n",
              "\n",
              "    .colab-df-convert {\n",
              "      background-color: #E8F0FE;\n",
              "      border: none;\n",
              "      border-radius: 50%;\n",
              "      cursor: pointer;\n",
              "      display: none;\n",
              "      fill: #1967D2;\n",
              "      height: 32px;\n",
              "      padding: 0 0 0 0;\n",
              "      width: 32px;\n",
              "    }\n",
              "\n",
              "    .colab-df-convert:hover {\n",
              "      background-color: #E2EBFA;\n",
              "      box-shadow: 0px 1px 2px rgba(60, 64, 67, 0.3), 0px 1px 3px 1px rgba(60, 64, 67, 0.15);\n",
              "      fill: #174EA6;\n",
              "    }\n",
              "\n",
              "    [theme=dark] .colab-df-convert {\n",
              "      background-color: #3B4455;\n",
              "      fill: #D2E3FC;\n",
              "    }\n",
              "\n",
              "    [theme=dark] .colab-df-convert:hover {\n",
              "      background-color: #434B5C;\n",
              "      box-shadow: 0px 1px 3px 1px rgba(0, 0, 0, 0.15);\n",
              "      filter: drop-shadow(0px 1px 2px rgba(0, 0, 0, 0.3));\n",
              "      fill: #FFFFFF;\n",
              "    }\n",
              "  </style>\n",
              "\n",
              "      <script>\n",
              "        const buttonEl =\n",
              "          document.querySelector('#df-527a060c-44e6-4128-aa1f-994b00484b03 button.colab-df-convert');\n",
              "        buttonEl.style.display =\n",
              "          google.colab.kernel.accessAllowed ? 'block' : 'none';\n",
              "\n",
              "        async function convertToInteractive(key) {\n",
              "          const element = document.querySelector('#df-527a060c-44e6-4128-aa1f-994b00484b03');\n",
              "          const dataTable =\n",
              "            await google.colab.kernel.invokeFunction('convertToInteractive',\n",
              "                                                     [key], {});\n",
              "          if (!dataTable) return;\n",
              "\n",
              "          const docLinkHtml = 'Like what you see? Visit the ' +\n",
              "            '<a target=\"_blank\" href=https://colab.research.google.com/notebooks/data_table.ipynb>data table notebook</a>'\n",
              "            + ' to learn more about interactive tables.';\n",
              "          element.innerHTML = '';\n",
              "          dataTable['output_type'] = 'display_data';\n",
              "          await google.colab.output.renderOutput(dataTable, element);\n",
              "          const docLink = document.createElement('div');\n",
              "          docLink.innerHTML = docLinkHtml;\n",
              "          element.appendChild(docLink);\n",
              "        }\n",
              "      </script>\n",
              "    </div>\n",
              "  </div>\n",
              "  "
            ]
          },
          "metadata": {},
          "execution_count": 103
        }
      ]
    },
    {
      "cell_type": "code",
      "source": [
        "train_box_plot = alt.Chart(norm_df).mark_boxplot(extent='min-max').encode(\n",
        "    x=alt.X(\n",
        "        'normalization_type:O',\n",
        "        sort=alt.EncodingSortFieldFieldName(field='score', op='mean', order='descending')\n",
        "    ),\n",
        "    y='train_accuracy:Q'\n",
        ")\n",
        "\n",
        "val_box_plot = alt.Chart(norm_df).mark_boxplot(extent='min-max').encode(\n",
        "    x=alt.X(\n",
        "        'normalization_type:O',\n",
        "        sort=alt.EncodingSortFieldFieldName(field='score', op='mean', order='descending')\n",
        "    ),\n",
        "    y='validation_accuracy:Q'\n",
        ")\n",
        "\n",
        "test_box_plot = alt.Chart(norm_df).mark_boxplot(extent='min-max').encode(\n",
        "    x=alt.X(\n",
        "        'normalization_type:O',\n",
        "        sort=alt.EncodingSortFieldFieldName(field='score', op='mean', order='descending')\n",
        "    ),\n",
        "    y='test_accuracy:Q'\n",
        ")\n",
        "\n",
        "normalization_box_plot = train_box_plot | val_box_plot | test_box_plot\n",
        "normalization_box_plot"
      ],
      "metadata": {
        "colab": {
          "base_uri": "https://localhost:8080/",
          "height": 447
        },
        "id": "qn8FwwI4AbZp",
        "outputId": "6226a6ae-e24f-4582-96c5-3f7154f417e6"
      },
      "execution_count": null,
      "outputs": [
        {
          "output_type": "execute_result",
          "data": {
            "text/html": [
              "\n",
              "<div id=\"altair-viz-2861b5f724314d02875608e637b26b46\"></div>\n",
              "<script type=\"text/javascript\">\n",
              "  var VEGA_DEBUG = (typeof VEGA_DEBUG == \"undefined\") ? {} : VEGA_DEBUG;\n",
              "  (function(spec, embedOpt){\n",
              "    let outputDiv = document.currentScript.previousElementSibling;\n",
              "    if (outputDiv.id !== \"altair-viz-2861b5f724314d02875608e637b26b46\") {\n",
              "      outputDiv = document.getElementById(\"altair-viz-2861b5f724314d02875608e637b26b46\");\n",
              "    }\n",
              "    const paths = {\n",
              "      \"vega\": \"https://cdn.jsdelivr.net/npm//vega@5?noext\",\n",
              "      \"vega-lib\": \"https://cdn.jsdelivr.net/npm//vega-lib?noext\",\n",
              "      \"vega-lite\": \"https://cdn.jsdelivr.net/npm//vega-lite@4.17.0?noext\",\n",
              "      \"vega-embed\": \"https://cdn.jsdelivr.net/npm//vega-embed@6?noext\",\n",
              "    };\n",
              "\n",
              "    function maybeLoadScript(lib, version) {\n",
              "      var key = `${lib.replace(\"-\", \"\")}_version`;\n",
              "      return (VEGA_DEBUG[key] == version) ?\n",
              "        Promise.resolve(paths[lib]) :\n",
              "        new Promise(function(resolve, reject) {\n",
              "          var s = document.createElement('script');\n",
              "          document.getElementsByTagName(\"head\")[0].appendChild(s);\n",
              "          s.async = true;\n",
              "          s.onload = () => {\n",
              "            VEGA_DEBUG[key] = version;\n",
              "            return resolve(paths[lib]);\n",
              "          };\n",
              "          s.onerror = () => reject(`Error loading script: ${paths[lib]}`);\n",
              "          s.src = paths[lib];\n",
              "        });\n",
              "    }\n",
              "\n",
              "    function showError(err) {\n",
              "      outputDiv.innerHTML = `<div class=\"error\" style=\"color:red;\">${err}</div>`;\n",
              "      throw err;\n",
              "    }\n",
              "\n",
              "    function displayChart(vegaEmbed) {\n",
              "      vegaEmbed(outputDiv, spec, embedOpt)\n",
              "        .catch(err => showError(`Javascript Error: ${err.message}<br>This usually means there's a typo in your chart specification. See the javascript console for the full traceback.`));\n",
              "    }\n",
              "\n",
              "    if(typeof define === \"function\" && define.amd) {\n",
              "      requirejs.config({paths});\n",
              "      require([\"vega-embed\"], displayChart, err => showError(`Error loading script: ${err.message}`));\n",
              "    } else {\n",
              "      maybeLoadScript(\"vega\", \"5\")\n",
              "        .then(() => maybeLoadScript(\"vega-lite\", \"4.17.0\"))\n",
              "        .then(() => maybeLoadScript(\"vega-embed\", \"6\"))\n",
              "        .catch(showError)\n",
              "        .then(() => displayChart(vegaEmbed));\n",
              "    }\n",
              "  })({\"config\": {\"view\": {\"continuousWidth\": 400, \"continuousHeight\": 300}}, \"hconcat\": [{\"mark\": {\"type\": \"boxplot\", \"extent\": \"min-max\"}, \"encoding\": {\"x\": {\"field\": \"normalization_type\", \"sort\": {\"field\": \"score\", \"op\": \"mean\", \"order\": \"descending\"}, \"type\": \"ordinal\"}, \"y\": {\"field\": \"train_accuracy\", \"type\": \"quantitative\"}}}, {\"mark\": {\"type\": \"boxplot\", \"extent\": \"min-max\"}, \"encoding\": {\"x\": {\"field\": \"normalization_type\", \"sort\": {\"field\": \"score\", \"op\": \"mean\", \"order\": \"descending\"}, \"type\": \"ordinal\"}, \"y\": {\"field\": \"validation_accuracy\", \"type\": \"quantitative\"}}}, {\"mark\": {\"type\": \"boxplot\", \"extent\": \"min-max\"}, \"encoding\": {\"x\": {\"field\": \"normalization_type\", \"sort\": {\"field\": \"score\", \"op\": \"mean\", \"order\": \"descending\"}, \"type\": \"ordinal\"}, \"y\": {\"field\": \"test_accuracy\", \"type\": \"quantitative\"}}}], \"data\": {\"name\": \"data-5cd3701824b8b5e3137badaf6a9e41e6\"}, \"$schema\": \"https://vega.github.io/schema/vega-lite/v4.17.0.json\", \"datasets\": {\"data-5cd3701824b8b5e3137badaf6a9e41e6\": [{\"normalization_type\": \"acc_df_psconly\", \"subject_id\": \"10004_08693\", \"train_accuracy\": 0.9047619047619048, \"validation_accuracy\": 0.6428571428571429, \"test_accuracy\": 0.7857142857142857}, {\"normalization_type\": \"acc_df_psconly\", \"subject_id\": \"10008_09924\", \"train_accuracy\": 0.7619047619047619, \"validation_accuracy\": 0.5, \"test_accuracy\": 0.5}, {\"normalization_type\": \"acc_df_psconly\", \"subject_id\": \"10009_08848\", \"train_accuracy\": 0.9642857142857144, \"validation_accuracy\": 0.6785714285714286, \"test_accuracy\": 0.5119047619047619}, {\"normalization_type\": \"acc_df_psconly\", \"subject_id\": \"10016_09694\", \"train_accuracy\": 0.988095238095238, \"validation_accuracy\": 0.6428571428571429, \"test_accuracy\": 0.4880952380952381}, {\"normalization_type\": \"acc_df_psconly\", \"subject_id\": \"10017_08894\", \"train_accuracy\": 0.7619047619047619, \"validation_accuracy\": 0.5, \"test_accuracy\": 0.5952380952380952}, {\"normalization_type\": \"acc_df_psconly\", \"subject_id\": \"10018_08907\", \"train_accuracy\": 0.7619047619047619, \"validation_accuracy\": 0.5, \"test_accuracy\": 0.5}, {\"normalization_type\": \"acc_df_psconly\", \"subject_id\": \"10021_08839\", \"train_accuracy\": 0.7976190476190477, \"validation_accuracy\": 0.5595238095238095, \"test_accuracy\": 0.5357142857142857}, {\"normalization_type\": \"acc_df_psconly\", \"subject_id\": \"10022_08854\", \"train_accuracy\": 0.8333333333333334, \"validation_accuracy\": 0.5833333333333334, \"test_accuracy\": 0.5}, {\"normalization_type\": \"acc_df_psconly\", \"subject_id\": \"10023_09126\", \"train_accuracy\": 0.7976190476190477, \"validation_accuracy\": 0.5476190476190477, \"test_accuracy\": 0.4642857142857143}, {\"normalization_type\": \"acc_df_psconly\", \"subject_id\": \"10027_09455\", \"train_accuracy\": 0.7619047619047619, \"validation_accuracy\": 0.5, \"test_accuracy\": 0.5}, {\"normalization_type\": \"acc_df_psconly\", \"subject_id\": \"10033_08871\", \"train_accuracy\": 0.7380952380952381, \"validation_accuracy\": 0.4880952380952381, \"test_accuracy\": 0.5}, {\"normalization_type\": \"acc_df_psconly\", \"subject_id\": \"10034_08879\", \"train_accuracy\": 0.7023809523809523, \"validation_accuracy\": 0.5, \"test_accuracy\": 0.5}, {\"normalization_type\": \"acc_df_psconly\", \"subject_id\": \"10035_08847\", \"train_accuracy\": 0.6309523809523809, \"validation_accuracy\": 0.5, \"test_accuracy\": 0.5}, {\"normalization_type\": \"acc_df_psconly\", \"subject_id\": \"10036_09800\", \"train_accuracy\": 0.988095238095238, \"validation_accuracy\": 0.4642857142857143, \"test_accuracy\": 0.5}, {\"normalization_type\": \"acc_df_psconly\", \"subject_id\": \"10037_09903\", \"train_accuracy\": 0.9166666666666666, \"validation_accuracy\": 0.5238095238095238, \"test_accuracy\": 0.5119047619047619}, {\"normalization_type\": \"acc_df_psconly\", \"subject_id\": \"10038_09063\", \"train_accuracy\": 0.6785714285714286, \"validation_accuracy\": 0.5238095238095238, \"test_accuracy\": 0.5357142857142857}, {\"normalization_type\": \"acc_df_psconly\", \"subject_id\": \"10039_08941\", \"train_accuracy\": 0.6785714285714286, \"validation_accuracy\": 0.5, \"test_accuracy\": 0.5476190476190477}, {\"normalization_type\": \"acc_df_psconly\", \"subject_id\": \"10042_08990\", \"train_accuracy\": 0.9285714285714286, \"validation_accuracy\": 0.5238095238095238, \"test_accuracy\": 0.5357142857142857}, {\"normalization_type\": \"acc_df_psconly\", \"subject_id\": \"10043_09222\", \"train_accuracy\": 0.9761904761904762, \"validation_accuracy\": 0.8214285714285714, \"test_accuracy\": 0.6190476190476191}, {\"normalization_type\": \"acc_df_psconly\", \"subject_id\": \"10045_08968\", \"train_accuracy\": 0.7023809523809523, \"validation_accuracy\": 0.6190476190476191, \"test_accuracy\": 0.4761904761904761}, {\"normalization_type\": \"acc_df_psconly\", \"subject_id\": \"10046_09216\", \"train_accuracy\": 0.8809523809523809, \"validation_accuracy\": 0.5, \"test_accuracy\": 0.5}, {\"normalization_type\": \"acc_df_psconly\", \"subject_id\": \"10047_09030\", \"train_accuracy\": 0.9404761904761904, \"validation_accuracy\": 0.6190476190476191, \"test_accuracy\": 0.4880952380952381}, {\"normalization_type\": \"acc_df_psconly\", \"subject_id\": \"10050_09079\", \"train_accuracy\": 0.9642857142857144, \"validation_accuracy\": 0.6904761904761905, \"test_accuracy\": 0.6190476190476191}, {\"normalization_type\": \"acc_df_psconly\", \"subject_id\": \"10053_09018\", \"train_accuracy\": 0.8214285714285714, \"validation_accuracy\": 0.5952380952380952, \"test_accuracy\": 0.5595238095238095}, {\"normalization_type\": \"acc_df_psconly\", \"subject_id\": \"10056_09615\", \"train_accuracy\": 0.6904761904761905, \"validation_accuracy\": 0.5, \"test_accuracy\": 0.4761904761904761}, {\"normalization_type\": \"acc_df_psconly\", \"subject_id\": \"10057_10124\", \"train_accuracy\": 0.8214285714285714, \"validation_accuracy\": 0.7023809523809523, \"test_accuracy\": 0.5}, {\"normalization_type\": \"acc_df_psconly\", \"subject_id\": \"10060_09359\", \"train_accuracy\": 0.7023809523809523, \"validation_accuracy\": 0.5714285714285714, \"test_accuracy\": 0.4642857142857143}, {\"normalization_type\": \"acc_df_psconly\", \"subject_id\": \"10061_09308\", \"train_accuracy\": 0.75, \"validation_accuracy\": 0.5, \"test_accuracy\": 0.5238095238095238}, {\"normalization_type\": \"acc_df_psconly\", \"subject_id\": \"10065_09587\", \"train_accuracy\": 0.7619047619047619, \"validation_accuracy\": 0.5, \"test_accuracy\": 0.5833333333333334}, {\"normalization_type\": \"acc_df_psconly\", \"subject_id\": \"10066_09687\", \"train_accuracy\": 0.6785714285714286, \"validation_accuracy\": 0.6666666666666666, \"test_accuracy\": 0.5952380952380952}, {\"normalization_type\": \"acc_df_psconly\", \"subject_id\": \"10069_09785\", \"train_accuracy\": 0.75, \"validation_accuracy\": 0.5952380952380952, \"test_accuracy\": 0.5595238095238095}, {\"normalization_type\": \"acc_df_psconly\", \"subject_id\": \"10080_09931\", \"train_accuracy\": 0.8809523809523809, \"validation_accuracy\": 0.5, \"test_accuracy\": 0.5}, {\"normalization_type\": \"acc_df_psconly\", \"subject_id\": \"10084_10188\", \"train_accuracy\": 0.5952380952380952, \"validation_accuracy\": 0.5, \"test_accuracy\": 0.5119047619047619}, {\"normalization_type\": \"acc_df_psconly\", \"subject_id\": \"30004_08965\", \"train_accuracy\": 0.9404761904761904, \"validation_accuracy\": 0.5, \"test_accuracy\": 0.5}, {\"normalization_type\": \"acc_df_psconly\", \"subject_id\": \"30008_08981\", \"train_accuracy\": 1.0, \"validation_accuracy\": 0.7976190476190477, \"test_accuracy\": 0.5}, {\"normalization_type\": \"acc_df_psconly\", \"subject_id\": \"30009_09227\", \"train_accuracy\": 0.7261904761904762, \"validation_accuracy\": 0.5, \"test_accuracy\": 0.5}, {\"normalization_type\": \"acc_df_psconly\", \"subject_id\": \"30011_09170\", \"train_accuracy\": 0.8690476190476191, \"validation_accuracy\": 0.5714285714285714, \"test_accuracy\": 0.5357142857142857}, {\"normalization_type\": \"acc_df_psconly\", \"subject_id\": \"30012_09102\", \"train_accuracy\": 0.7142857142857143, \"validation_accuracy\": 0.5714285714285714, \"test_accuracy\": 0.5119047619047619}, {\"normalization_type\": \"acc_df_psconly\", \"subject_id\": \"30014_09352\", \"train_accuracy\": 0.9404761904761904, \"validation_accuracy\": 0.5119047619047619, \"test_accuracy\": 0.5476190476190477}, {\"normalization_type\": \"acc_df_psconly\", \"subject_id\": \"30017_09567\", \"train_accuracy\": 0.8452380952380952, \"validation_accuracy\": 0.5476190476190477, \"test_accuracy\": 0.5714285714285714}, {\"normalization_type\": \"acc_df_psconly\", \"subject_id\": \"30020_09236\", \"train_accuracy\": 0.9404761904761904, \"validation_accuracy\": 0.5476190476190477, \"test_accuracy\": 0.5}, {\"normalization_type\": \"acc_df_psconly\", \"subject_id\": \"30024_09398\", \"train_accuracy\": 0.988095238095238, \"validation_accuracy\": 0.8095238095238095, \"test_accuracy\": 0.7619047619047619}, {\"normalization_type\": \"acc_df_psconly\", \"subject_id\": \"30025_09402\", \"train_accuracy\": 0.75, \"validation_accuracy\": 0.5, \"test_accuracy\": 0.5595238095238095}, {\"normalization_type\": \"acc_df_psconly\", \"subject_id\": \"30026_09430\", \"train_accuracy\": 0.8571428571428571, \"validation_accuracy\": 0.5595238095238095, \"test_accuracy\": 0.4880952380952381}, {\"normalization_type\": \"acc_df_psconly\", \"subject_id\": \"30027_09638\", \"train_accuracy\": 0.8690476190476191, \"validation_accuracy\": 0.5119047619047619, \"test_accuracy\": 0.5}, {\"normalization_type\": \"acc_df_psconly\", \"subject_id\": \"30033_09776\", \"train_accuracy\": 0.988095238095238, \"validation_accuracy\": 0.6666666666666666, \"test_accuracy\": 0.4880952380952381}, {\"normalization_type\": \"acc_df_psconly\", \"subject_id\": \"30035_09836\", \"train_accuracy\": 0.7023809523809523, \"validation_accuracy\": 0.5, \"test_accuracy\": 0.4880952380952381}, {\"normalization_type\": \"acc_df_psconly\", \"subject_id\": \"30036_09758\", \"train_accuracy\": 0.5476190476190477, \"validation_accuracy\": 0.4761904761904761, \"test_accuracy\": 0.5}, {\"normalization_type\": \"acc_df_psconly\", \"subject_id\": \"30038_09967\", \"train_accuracy\": 0.988095238095238, \"validation_accuracy\": 0.8690476190476191, \"test_accuracy\": 0.5714285714285714}, {\"normalization_type\": \"acc_df_psconly\", \"subject_id\": \"30044_10095\", \"train_accuracy\": 0.6309523809523809, \"validation_accuracy\": 0.5357142857142857, \"test_accuracy\": 0.5714285714285714}, {\"normalization_type\": \"acc_df_psconly\", \"subject_id\": \"30045_10182\", \"train_accuracy\": 1.0, \"validation_accuracy\": 0.5119047619047619, \"test_accuracy\": 0.6071428571428571}, {\"normalization_type\": \"acc_df_psconly\", \"subject_id\": \"30053_10112\", \"train_accuracy\": 0.9642857142857144, \"validation_accuracy\": 0.5476190476190477, \"test_accuracy\": 0.5476190476190477}, {\"normalization_type\": \"acc_df_znorm_only\", \"subject_id\": \"10004_08693\", \"train_accuracy\": 1.0, \"validation_accuracy\": 0.7142857142857143, \"test_accuracy\": 0.8333333333333334}, {\"normalization_type\": \"acc_df_znorm_only\", \"subject_id\": \"10008_09924\", \"train_accuracy\": 1.0, \"validation_accuracy\": 0.6547619047619048, \"test_accuracy\": 0.7380952380952381}, {\"normalization_type\": \"acc_df_znorm_only\", \"subject_id\": \"10009_08848\", \"train_accuracy\": 0.9761904761904762, \"validation_accuracy\": 0.8214285714285714, \"test_accuracy\": 0.7380952380952381}, {\"normalization_type\": \"acc_df_znorm_only\", \"subject_id\": \"10016_09694\", \"train_accuracy\": 1.0, \"validation_accuracy\": 0.8928571428571429, \"test_accuracy\": 0.7857142857142857}, {\"normalization_type\": \"acc_df_znorm_only\", \"subject_id\": \"10017_08894\", \"train_accuracy\": 1.0, \"validation_accuracy\": 0.6309523809523809, \"test_accuracy\": 0.5476190476190477}, {\"normalization_type\": \"acc_df_znorm_only\", \"subject_id\": \"10018_08907\", \"train_accuracy\": 1.0, \"validation_accuracy\": 0.5714285714285714, \"test_accuracy\": 0.6666666666666666}, {\"normalization_type\": \"acc_df_znorm_only\", \"subject_id\": \"10021_08839\", \"train_accuracy\": 1.0, \"validation_accuracy\": 0.8928571428571429, \"test_accuracy\": 0.5833333333333334}, {\"normalization_type\": \"acc_df_znorm_only\", \"subject_id\": \"10022_08854\", \"train_accuracy\": 1.0, \"validation_accuracy\": 0.8095238095238095, \"test_accuracy\": 0.7142857142857143}, {\"normalization_type\": \"acc_df_znorm_only\", \"subject_id\": \"10023_09126\", \"train_accuracy\": 0.9761904761904762, \"validation_accuracy\": 0.6428571428571429, \"test_accuracy\": 0.5952380952380952}, {\"normalization_type\": \"acc_df_znorm_only\", \"subject_id\": \"10027_09455\", \"train_accuracy\": 1.0, \"validation_accuracy\": 0.6547619047619048, \"test_accuracy\": 0.75}, {\"normalization_type\": \"acc_df_znorm_only\", \"subject_id\": \"10033_08871\", \"train_accuracy\": 1.0, \"validation_accuracy\": 0.75, \"test_accuracy\": 0.8095238095238095}, {\"normalization_type\": \"acc_df_znorm_only\", \"subject_id\": \"10034_08879\", \"train_accuracy\": 1.0, \"validation_accuracy\": 0.6190476190476191, \"test_accuracy\": 0.5714285714285714}, {\"normalization_type\": \"acc_df_znorm_only\", \"subject_id\": \"10035_08847\", \"train_accuracy\": 1.0, \"validation_accuracy\": 0.7142857142857143, \"test_accuracy\": 0.4761904761904761}, {\"normalization_type\": \"acc_df_znorm_only\", \"subject_id\": \"10036_09800\", \"train_accuracy\": 1.0, \"validation_accuracy\": 0.4761904761904761, \"test_accuracy\": 0.3928571428571428}, {\"normalization_type\": \"acc_df_znorm_only\", \"subject_id\": \"10037_09903\", \"train_accuracy\": 0.988095238095238, \"validation_accuracy\": 0.6428571428571429, \"test_accuracy\": 0.7142857142857143}, {\"normalization_type\": \"acc_df_znorm_only\", \"subject_id\": \"10038_09063\", \"train_accuracy\": 0.988095238095238, \"validation_accuracy\": 0.5833333333333334, \"test_accuracy\": 0.6547619047619048}, {\"normalization_type\": \"acc_df_znorm_only\", \"subject_id\": \"10039_08941\", \"train_accuracy\": 1.0, \"validation_accuracy\": 0.6666666666666666, \"test_accuracy\": 0.5833333333333334}, {\"normalization_type\": \"acc_df_znorm_only\", \"subject_id\": \"10042_08990\", \"train_accuracy\": 1.0, \"validation_accuracy\": 0.5, \"test_accuracy\": 0.5357142857142857}, {\"normalization_type\": \"acc_df_znorm_only\", \"subject_id\": \"10043_09222\", \"train_accuracy\": 0.9761904761904762, \"validation_accuracy\": 0.8690476190476191, \"test_accuracy\": 0.6666666666666666}, {\"normalization_type\": \"acc_df_znorm_only\", \"subject_id\": \"10045_08968\", \"train_accuracy\": 1.0, \"validation_accuracy\": 0.7857142857142857, \"test_accuracy\": 0.6309523809523809}, {\"normalization_type\": \"acc_df_znorm_only\", \"subject_id\": \"10046_09216\", \"train_accuracy\": 1.0, \"validation_accuracy\": 0.8214285714285714, \"test_accuracy\": 0.7619047619047619}, {\"normalization_type\": \"acc_df_znorm_only\", \"subject_id\": \"10047_09030\", \"train_accuracy\": 1.0, \"validation_accuracy\": 0.8809523809523809, \"test_accuracy\": 0.9404761904761904}, {\"normalization_type\": \"acc_df_znorm_only\", \"subject_id\": \"10050_09079\", \"train_accuracy\": 1.0, \"validation_accuracy\": 0.8809523809523809, \"test_accuracy\": 0.7261904761904762}, {\"normalization_type\": \"acc_df_znorm_only\", \"subject_id\": \"10053_09018\", \"train_accuracy\": 1.0, \"validation_accuracy\": 0.75, \"test_accuracy\": 0.4880952380952381}, {\"normalization_type\": \"acc_df_znorm_only\", \"subject_id\": \"10056_09615\", \"train_accuracy\": 1.0, \"validation_accuracy\": 0.4880952380952381, \"test_accuracy\": 0.3452380952380952}, {\"normalization_type\": \"acc_df_znorm_only\", \"subject_id\": \"10057_10124\", \"train_accuracy\": 0.9642857142857144, \"validation_accuracy\": 0.6547619047619048, \"test_accuracy\": 0.4761904761904761}, {\"normalization_type\": \"acc_df_znorm_only\", \"subject_id\": \"10060_09359\", \"train_accuracy\": 0.9642857142857144, \"validation_accuracy\": 0.6547619047619048, \"test_accuracy\": 0.5595238095238095}, {\"normalization_type\": \"acc_df_znorm_only\", \"subject_id\": \"10061_09308\", \"train_accuracy\": 1.0, \"validation_accuracy\": 0.8809523809523809, \"test_accuracy\": 0.5119047619047619}, {\"normalization_type\": \"acc_df_znorm_only\", \"subject_id\": \"10065_09587\", \"train_accuracy\": 1.0, \"validation_accuracy\": 0.6309523809523809, \"test_accuracy\": 0.6547619047619048}, {\"normalization_type\": \"acc_df_znorm_only\", \"subject_id\": \"10066_09687\", \"train_accuracy\": 1.0, \"validation_accuracy\": 0.7738095238095238, \"test_accuracy\": 0.6904761904761905}, {\"normalization_type\": \"acc_df_znorm_only\", \"subject_id\": \"10069_09785\", \"train_accuracy\": 1.0, \"validation_accuracy\": 0.8452380952380952, \"test_accuracy\": 0.8095238095238095}, {\"normalization_type\": \"acc_df_znorm_only\", \"subject_id\": \"10080_09931\", \"train_accuracy\": 0.988095238095238, \"validation_accuracy\": 0.8333333333333334, \"test_accuracy\": 0.5952380952380952}, {\"normalization_type\": \"acc_df_znorm_only\", \"subject_id\": \"10084_10188\", \"train_accuracy\": 0.988095238095238, \"validation_accuracy\": 0.75, \"test_accuracy\": 0.5357142857142857}, {\"normalization_type\": \"acc_df_znorm_only\", \"subject_id\": \"30004_08965\", \"train_accuracy\": 1.0, \"validation_accuracy\": 0.8452380952380952, \"test_accuracy\": 0.7380952380952381}, {\"normalization_type\": \"acc_df_znorm_only\", \"subject_id\": \"30008_08981\", \"train_accuracy\": 1.0, \"validation_accuracy\": 0.8333333333333334, \"test_accuracy\": 0.6547619047619048}, {\"normalization_type\": \"acc_df_znorm_only\", \"subject_id\": \"30009_09227\", \"train_accuracy\": 0.988095238095238, \"validation_accuracy\": 0.7976190476190477, \"test_accuracy\": 0.7857142857142857}, {\"normalization_type\": \"acc_df_znorm_only\", \"subject_id\": \"30011_09170\", \"train_accuracy\": 1.0, \"validation_accuracy\": 0.8214285714285714, \"test_accuracy\": 0.8571428571428571}, {\"normalization_type\": \"acc_df_znorm_only\", \"subject_id\": \"30012_09102\", \"train_accuracy\": 0.988095238095238, \"validation_accuracy\": 0.6904761904761905, \"test_accuracy\": 0.4761904761904761}, {\"normalization_type\": \"acc_df_znorm_only\", \"subject_id\": \"30014_09352\", \"train_accuracy\": 1.0, \"validation_accuracy\": 0.6785714285714286, \"test_accuracy\": 0.3928571428571428}, {\"normalization_type\": \"acc_df_znorm_only\", \"subject_id\": \"30017_09567\", \"train_accuracy\": 1.0, \"validation_accuracy\": 0.9523809523809524, \"test_accuracy\": 0.7261904761904762}, {\"normalization_type\": \"acc_df_znorm_only\", \"subject_id\": \"30020_09236\", \"train_accuracy\": 1.0, \"validation_accuracy\": 0.7142857142857143, \"test_accuracy\": 0.6190476190476191}, {\"normalization_type\": \"acc_df_znorm_only\", \"subject_id\": \"30024_09398\", \"train_accuracy\": 1.0, \"validation_accuracy\": 0.9404761904761904, \"test_accuracy\": 0.8214285714285714}, {\"normalization_type\": \"acc_df_znorm_only\", \"subject_id\": \"30025_09402\", \"train_accuracy\": 1.0, \"validation_accuracy\": 0.4642857142857143, \"test_accuracy\": 0.6190476190476191}, {\"normalization_type\": \"acc_df_znorm_only\", \"subject_id\": \"30026_09430\", \"train_accuracy\": 1.0, \"validation_accuracy\": 0.7023809523809523, \"test_accuracy\": 0.6071428571428571}, {\"normalization_type\": \"acc_df_znorm_only\", \"subject_id\": \"30027_09638\", \"train_accuracy\": 0.988095238095238, \"validation_accuracy\": 0.8333333333333334, \"test_accuracy\": 0.5238095238095238}, {\"normalization_type\": \"acc_df_znorm_only\", \"subject_id\": \"30033_09776\", \"train_accuracy\": 0.9761904761904762, \"validation_accuracy\": 0.5833333333333334, \"test_accuracy\": 0.6666666666666666}, {\"normalization_type\": \"acc_df_znorm_only\", \"subject_id\": \"30035_09836\", \"train_accuracy\": 0.988095238095238, \"validation_accuracy\": 0.8571428571428571, \"test_accuracy\": 0.7142857142857143}, {\"normalization_type\": \"acc_df_znorm_only\", \"subject_id\": \"30036_09758\", \"train_accuracy\": 1.0, \"validation_accuracy\": 0.6785714285714286, \"test_accuracy\": 0.5357142857142857}, {\"normalization_type\": \"acc_df_znorm_only\", \"subject_id\": \"30038_09967\", \"train_accuracy\": 1.0, \"validation_accuracy\": 0.9047619047619048, \"test_accuracy\": 0.9404761904761904}, {\"normalization_type\": \"acc_df_znorm_only\", \"subject_id\": \"30044_10095\", \"train_accuracy\": 1.0, \"validation_accuracy\": 0.8928571428571429, \"test_accuracy\": 0.8571428571428571}, {\"normalization_type\": \"acc_df_znorm_only\", \"subject_id\": \"30045_10182\", \"train_accuracy\": 1.0, \"validation_accuracy\": 0.9285714285714286, \"test_accuracy\": 0.7619047619047619}, {\"normalization_type\": \"acc_df_znorm_only\", \"subject_id\": \"30053_10112\", \"train_accuracy\": 1.0, \"validation_accuracy\": 0.5595238095238095, \"test_accuracy\": 0.6666666666666666}, {\"normalization_type\": \"acc_df_znorm_psc\", \"subject_id\": \"10004_08693\", \"train_accuracy\": 1.0, \"validation_accuracy\": 0.7142857142857143, \"test_accuracy\": 0.7976190476190477}, {\"normalization_type\": \"acc_df_znorm_psc\", \"subject_id\": \"10008_09924\", \"train_accuracy\": 1.0, \"validation_accuracy\": 0.6547619047619048, \"test_accuracy\": 0.7380952380952381}, {\"normalization_type\": \"acc_df_znorm_psc\", \"subject_id\": \"10009_08848\", \"train_accuracy\": 0.9523809523809524, \"validation_accuracy\": 0.8571428571428571, \"test_accuracy\": 0.7261904761904762}, {\"normalization_type\": \"acc_df_znorm_psc\", \"subject_id\": \"10016_09694\", \"train_accuracy\": 0.988095238095238, \"validation_accuracy\": 0.9047619047619048, \"test_accuracy\": 0.8214285714285714}, {\"normalization_type\": \"acc_df_znorm_psc\", \"subject_id\": \"10017_08894\", \"train_accuracy\": 1.0, \"validation_accuracy\": 0.6071428571428571, \"test_accuracy\": 0.5357142857142857}, {\"normalization_type\": \"acc_df_znorm_psc\", \"subject_id\": \"10018_08907\", \"train_accuracy\": 1.0, \"validation_accuracy\": 0.5595238095238095, \"test_accuracy\": 0.6666666666666666}, {\"normalization_type\": \"acc_df_znorm_psc\", \"subject_id\": \"10021_08839\", \"train_accuracy\": 1.0, \"validation_accuracy\": 0.8928571428571429, \"test_accuracy\": 0.5714285714285714}, {\"normalization_type\": \"acc_df_znorm_psc\", \"subject_id\": \"10022_08854\", \"train_accuracy\": 1.0, \"validation_accuracy\": 0.7976190476190477, \"test_accuracy\": 0.6428571428571429}, {\"normalization_type\": \"acc_df_znorm_psc\", \"subject_id\": \"10023_09126\", \"train_accuracy\": 0.9761904761904762, \"validation_accuracy\": 0.6547619047619048, \"test_accuracy\": 0.5833333333333334}, {\"normalization_type\": \"acc_df_znorm_psc\", \"subject_id\": \"10027_09455\", \"train_accuracy\": 1.0, \"validation_accuracy\": 0.5833333333333334, \"test_accuracy\": 0.7142857142857143}, {\"normalization_type\": \"acc_df_znorm_psc\", \"subject_id\": \"10033_08871\", \"train_accuracy\": 1.0, \"validation_accuracy\": 0.75, \"test_accuracy\": 0.8095238095238095}, {\"normalization_type\": \"acc_df_znorm_psc\", \"subject_id\": \"10034_08879\", \"train_accuracy\": 1.0, \"validation_accuracy\": 0.6190476190476191, \"test_accuracy\": 0.5595238095238095}, {\"normalization_type\": \"acc_df_znorm_psc\", \"subject_id\": \"10035_08847\", \"train_accuracy\": 0.988095238095238, \"validation_accuracy\": 0.7261904761904762, \"test_accuracy\": 0.4880952380952381}, {\"normalization_type\": \"acc_df_znorm_psc\", \"subject_id\": \"10036_09800\", \"train_accuracy\": 1.0, \"validation_accuracy\": 0.4642857142857143, \"test_accuracy\": 0.4047619047619047}, {\"normalization_type\": \"acc_df_znorm_psc\", \"subject_id\": \"10037_09903\", \"train_accuracy\": 0.988095238095238, \"validation_accuracy\": 0.6071428571428571, \"test_accuracy\": 0.7023809523809523}, {\"normalization_type\": \"acc_df_znorm_psc\", \"subject_id\": \"10038_09063\", \"train_accuracy\": 0.9523809523809524, \"validation_accuracy\": 0.5595238095238095, \"test_accuracy\": 0.6428571428571429}, {\"normalization_type\": \"acc_df_znorm_psc\", \"subject_id\": \"10039_08941\", \"train_accuracy\": 1.0, \"validation_accuracy\": 0.6190476190476191, \"test_accuracy\": 0.6190476190476191}, {\"normalization_type\": \"acc_df_znorm_psc\", \"subject_id\": \"10042_08990\", \"train_accuracy\": 1.0, \"validation_accuracy\": 0.4642857142857143, \"test_accuracy\": 0.5238095238095238}, {\"normalization_type\": \"acc_df_znorm_psc\", \"subject_id\": \"10043_09222\", \"train_accuracy\": 0.988095238095238, \"validation_accuracy\": 0.8571428571428571, \"test_accuracy\": 0.6666666666666666}, {\"normalization_type\": \"acc_df_znorm_psc\", \"subject_id\": \"10045_08968\", \"train_accuracy\": 1.0, \"validation_accuracy\": 0.7738095238095238, \"test_accuracy\": 0.6071428571428571}, {\"normalization_type\": \"acc_df_znorm_psc\", \"subject_id\": \"10046_09216\", \"train_accuracy\": 1.0, \"validation_accuracy\": 0.8452380952380952, \"test_accuracy\": 0.7619047619047619}, {\"normalization_type\": \"acc_df_znorm_psc\", \"subject_id\": \"10047_09030\", \"train_accuracy\": 1.0, \"validation_accuracy\": 0.8690476190476191, \"test_accuracy\": 0.9404761904761904}, {\"normalization_type\": \"acc_df_znorm_psc\", \"subject_id\": \"10050_09079\", \"train_accuracy\": 0.988095238095238, \"validation_accuracy\": 0.8809523809523809, \"test_accuracy\": 0.6785714285714286}, {\"normalization_type\": \"acc_df_znorm_psc\", \"subject_id\": \"10053_09018\", \"train_accuracy\": 1.0, \"validation_accuracy\": 0.75, \"test_accuracy\": 0.4761904761904761}, {\"normalization_type\": \"acc_df_znorm_psc\", \"subject_id\": \"10056_09615\", \"train_accuracy\": 1.0, \"validation_accuracy\": 0.4880952380952381, \"test_accuracy\": 0.3571428571428571}, {\"normalization_type\": \"acc_df_znorm_psc\", \"subject_id\": \"10057_10124\", \"train_accuracy\": 0.988095238095238, \"validation_accuracy\": 0.6785714285714286, \"test_accuracy\": 0.4880952380952381}, {\"normalization_type\": \"acc_df_znorm_psc\", \"subject_id\": \"10060_09359\", \"train_accuracy\": 0.9642857142857144, \"validation_accuracy\": 0.6547619047619048, \"test_accuracy\": 0.5476190476190477}, {\"normalization_type\": \"acc_df_znorm_psc\", \"subject_id\": \"10061_09308\", \"train_accuracy\": 1.0, \"validation_accuracy\": 0.8571428571428571, \"test_accuracy\": 0.5119047619047619}, {\"normalization_type\": \"acc_df_znorm_psc\", \"subject_id\": \"10065_09587\", \"train_accuracy\": 1.0, \"validation_accuracy\": 0.5714285714285714, \"test_accuracy\": 0.5238095238095238}, {\"normalization_type\": \"acc_df_znorm_psc\", \"subject_id\": \"10066_09687\", \"train_accuracy\": 1.0, \"validation_accuracy\": 0.75, \"test_accuracy\": 0.6785714285714286}, {\"normalization_type\": \"acc_df_znorm_psc\", \"subject_id\": \"10069_09785\", \"train_accuracy\": 1.0, \"validation_accuracy\": 0.8452380952380952, \"test_accuracy\": 0.8095238095238095}, {\"normalization_type\": \"acc_df_znorm_psc\", \"subject_id\": \"10080_09931\", \"train_accuracy\": 0.988095238095238, \"validation_accuracy\": 0.8095238095238095, \"test_accuracy\": 0.5357142857142857}, {\"normalization_type\": \"acc_df_znorm_psc\", \"subject_id\": \"10084_10188\", \"train_accuracy\": 0.988095238095238, \"validation_accuracy\": 0.7380952380952381, \"test_accuracy\": 0.5119047619047619}, {\"normalization_type\": \"acc_df_znorm_psc\", \"subject_id\": \"30004_08965\", \"train_accuracy\": 1.0, \"validation_accuracy\": 0.8452380952380952, \"test_accuracy\": 0.7380952380952381}, {\"normalization_type\": \"acc_df_znorm_psc\", \"subject_id\": \"30008_08981\", \"train_accuracy\": 1.0, \"validation_accuracy\": 0.8452380952380952, \"test_accuracy\": 0.6785714285714286}, {\"normalization_type\": \"acc_df_znorm_psc\", \"subject_id\": \"30009_09227\", \"train_accuracy\": 0.9761904761904762, \"validation_accuracy\": 0.7976190476190477, \"test_accuracy\": 0.7857142857142857}, {\"normalization_type\": \"acc_df_znorm_psc\", \"subject_id\": \"30011_09170\", \"train_accuracy\": 0.9761904761904762, \"validation_accuracy\": 0.8452380952380952, \"test_accuracy\": 0.8571428571428571}, {\"normalization_type\": \"acc_df_znorm_psc\", \"subject_id\": \"30012_09102\", \"train_accuracy\": 1.0, \"validation_accuracy\": 0.6904761904761905, \"test_accuracy\": 0.4761904761904761}, {\"normalization_type\": \"acc_df_znorm_psc\", \"subject_id\": \"30014_09352\", \"train_accuracy\": 1.0, \"validation_accuracy\": 0.6547619047619048, \"test_accuracy\": 0.4285714285714285}, {\"normalization_type\": \"acc_df_znorm_psc\", \"subject_id\": \"30017_09567\", \"train_accuracy\": 1.0, \"validation_accuracy\": 0.9523809523809524, \"test_accuracy\": 0.7380952380952381}, {\"normalization_type\": \"acc_df_znorm_psc\", \"subject_id\": \"30020_09236\", \"train_accuracy\": 1.0, \"validation_accuracy\": 0.7142857142857143, \"test_accuracy\": 0.6309523809523809}, {\"normalization_type\": \"acc_df_znorm_psc\", \"subject_id\": \"30024_09398\", \"train_accuracy\": 1.0, \"validation_accuracy\": 0.9642857142857144, \"test_accuracy\": 0.8095238095238095}, {\"normalization_type\": \"acc_df_znorm_psc\", \"subject_id\": \"30025_09402\", \"train_accuracy\": 1.0, \"validation_accuracy\": 0.4523809523809524, \"test_accuracy\": 0.6190476190476191}, {\"normalization_type\": \"acc_df_znorm_psc\", \"subject_id\": \"30026_09430\", \"train_accuracy\": 1.0, \"validation_accuracy\": 0.6785714285714286, \"test_accuracy\": 0.5952380952380952}, {\"normalization_type\": \"acc_df_znorm_psc\", \"subject_id\": \"30027_09638\", \"train_accuracy\": 0.9761904761904762, \"validation_accuracy\": 0.8571428571428571, \"test_accuracy\": 0.5476190476190477}, {\"normalization_type\": \"acc_df_znorm_psc\", \"subject_id\": \"30033_09776\", \"train_accuracy\": 0.9642857142857144, \"validation_accuracy\": 0.5952380952380952, \"test_accuracy\": 0.6190476190476191}, {\"normalization_type\": \"acc_df_znorm_psc\", \"subject_id\": \"30035_09836\", \"train_accuracy\": 1.0, \"validation_accuracy\": 0.8333333333333334, \"test_accuracy\": 0.7023809523809523}, {\"normalization_type\": \"acc_df_znorm_psc\", \"subject_id\": \"30036_09758\", \"train_accuracy\": 0.988095238095238, \"validation_accuracy\": 0.6785714285714286, \"test_accuracy\": 0.5}, {\"normalization_type\": \"acc_df_znorm_psc\", \"subject_id\": \"30038_09967\", \"train_accuracy\": 1.0, \"validation_accuracy\": 0.9047619047619048, \"test_accuracy\": 0.8809523809523809}, {\"normalization_type\": \"acc_df_znorm_psc\", \"subject_id\": \"30044_10095\", \"train_accuracy\": 1.0, \"validation_accuracy\": 0.9047619047619048, \"test_accuracy\": 0.8452380952380952}, {\"normalization_type\": \"acc_df_znorm_psc\", \"subject_id\": \"30045_10182\", \"train_accuracy\": 1.0, \"validation_accuracy\": 0.9285714285714286, \"test_accuracy\": 0.7976190476190477}, {\"normalization_type\": \"acc_df_znorm_psc\", \"subject_id\": \"30053_10112\", \"train_accuracy\": 1.0, \"validation_accuracy\": 0.5833333333333334, \"test_accuracy\": 0.6666666666666666}, {\"normalization_type\": \"acc_df_nonorm\", \"subject_id\": \"10004_08693\", \"train_accuracy\": 0.5476190476190477, \"validation_accuracy\": 0.5, \"test_accuracy\": 0.5}, {\"normalization_type\": \"acc_df_nonorm\", \"subject_id\": \"10008_09924\", \"train_accuracy\": 0.6904761904761905, \"validation_accuracy\": 0.5, \"test_accuracy\": 0.5}, {\"normalization_type\": \"acc_df_nonorm\", \"subject_id\": \"10009_08848\", \"train_accuracy\": 0.8095238095238095, \"validation_accuracy\": 0.5, \"test_accuracy\": 0.5}, {\"normalization_type\": \"acc_df_nonorm\", \"subject_id\": \"10016_09694\", \"train_accuracy\": 0.7976190476190477, \"validation_accuracy\": 0.6785714285714286, \"test_accuracy\": 0.7380952380952381}, {\"normalization_type\": \"acc_df_nonorm\", \"subject_id\": \"10017_08894\", \"train_accuracy\": 0.6666666666666666, \"validation_accuracy\": 0.5, \"test_accuracy\": 0.5}, {\"normalization_type\": \"acc_df_nonorm\", \"subject_id\": \"10018_08907\", \"train_accuracy\": 0.7261904761904762, \"validation_accuracy\": 0.5, \"test_accuracy\": 0.4880952380952381}, {\"normalization_type\": \"acc_df_nonorm\", \"subject_id\": \"10021_08839\", \"train_accuracy\": 0.6666666666666666, \"validation_accuracy\": 0.5, \"test_accuracy\": 0.5}, {\"normalization_type\": \"acc_df_nonorm\", \"subject_id\": \"10022_08854\", \"train_accuracy\": 0.7976190476190477, \"validation_accuracy\": 0.5, \"test_accuracy\": 0.5}, {\"normalization_type\": \"acc_df_nonorm\", \"subject_id\": \"10023_09126\", \"train_accuracy\": 0.7738095238095238, \"validation_accuracy\": 0.5, \"test_accuracy\": 0.5}, {\"normalization_type\": \"acc_df_nonorm\", \"subject_id\": \"10027_09455\", \"train_accuracy\": 0.8571428571428571, \"validation_accuracy\": 0.5833333333333334, \"test_accuracy\": 0.5}, {\"normalization_type\": \"acc_df_nonorm\", \"subject_id\": \"10033_08871\", \"train_accuracy\": 0.8690476190476191, \"validation_accuracy\": 0.5, \"test_accuracy\": 0.5}, {\"normalization_type\": \"acc_df_nonorm\", \"subject_id\": \"10034_08879\", \"train_accuracy\": 0.7619047619047619, \"validation_accuracy\": 0.5, \"test_accuracy\": 0.5}, {\"normalization_type\": \"acc_df_nonorm\", \"subject_id\": \"10035_08847\", \"train_accuracy\": 0.8095238095238095, \"validation_accuracy\": 0.5833333333333334, \"test_accuracy\": 0.5}, {\"normalization_type\": \"acc_df_nonorm\", \"subject_id\": \"10036_09800\", \"train_accuracy\": 0.7619047619047619, \"validation_accuracy\": 0.4523809523809524, \"test_accuracy\": 0.36904761904761907}, {\"normalization_type\": \"acc_df_nonorm\", \"subject_id\": \"10037_09903\", \"train_accuracy\": 0.8214285714285714, \"validation_accuracy\": 0.5, \"test_accuracy\": 0.5}, {\"normalization_type\": \"acc_df_nonorm\", \"subject_id\": \"10038_09063\", \"train_accuracy\": 0.6547619047619048, \"validation_accuracy\": 0.5, \"test_accuracy\": 0.5357142857142857}, {\"normalization_type\": \"acc_df_nonorm\", \"subject_id\": \"10039_08941\", \"train_accuracy\": 0.6428571428571429, \"validation_accuracy\": 0.5, \"test_accuracy\": 0.5119047619047619}, {\"normalization_type\": \"acc_df_nonorm\", \"subject_id\": \"10042_08990\", \"train_accuracy\": 0.7738095238095238, \"validation_accuracy\": 0.5, \"test_accuracy\": 0.5}, {\"normalization_type\": \"acc_df_nonorm\", \"subject_id\": \"10043_09222\", \"train_accuracy\": 0.7380952380952381, \"validation_accuracy\": 0.7261904761904762, \"test_accuracy\": 0.5833333333333334}, {\"normalization_type\": \"acc_df_nonorm\", \"subject_id\": \"10045_08968\", \"train_accuracy\": 0.6666666666666666, \"validation_accuracy\": 0.5238095238095238, \"test_accuracy\": 0.5}, {\"normalization_type\": \"acc_df_nonorm\", \"subject_id\": \"10046_09216\", \"train_accuracy\": 0.7261904761904762, \"validation_accuracy\": 0.5, \"test_accuracy\": 0.5}, {\"normalization_type\": \"acc_df_nonorm\", \"subject_id\": \"10047_09030\", \"train_accuracy\": 0.7738095238095238, \"validation_accuracy\": 0.5476190476190477, \"test_accuracy\": 0.7261904761904762}, {\"normalization_type\": \"acc_df_nonorm\", \"subject_id\": \"10050_09079\", \"train_accuracy\": 0.8452380952380952, \"validation_accuracy\": 0.6309523809523809, \"test_accuracy\": 0.5}, {\"normalization_type\": \"acc_df_nonorm\", \"subject_id\": \"10053_09018\", \"train_accuracy\": 0.6785714285714286, \"validation_accuracy\": 0.4880952380952381, \"test_accuracy\": 0.47619047619047616}, {\"normalization_type\": \"acc_df_nonorm\", \"subject_id\": \"10056_09615\", \"train_accuracy\": 0.6904761904761905, \"validation_accuracy\": 0.5, \"test_accuracy\": 0.44047619047619047}, {\"normalization_type\": \"acc_df_nonorm\", \"subject_id\": \"10057_10124\", \"train_accuracy\": 0.7380952380952381, \"validation_accuracy\": 0.5476190476190477, \"test_accuracy\": 0.40476190476190477}, {\"normalization_type\": \"acc_df_nonorm\", \"subject_id\": \"10060_09359\", \"train_accuracy\": 0.6666666666666666, \"validation_accuracy\": 0.5238095238095238, \"test_accuracy\": 0.5}, {\"normalization_type\": \"acc_df_nonorm\", \"subject_id\": \"10061_09308\", \"train_accuracy\": 0.8214285714285714, \"validation_accuracy\": 0.7857142857142857, \"test_accuracy\": 0.4880952380952381}, {\"normalization_type\": \"acc_df_nonorm\", \"subject_id\": \"10065_09587\", \"train_accuracy\": 0.6904761904761905, \"validation_accuracy\": 0.5, \"test_accuracy\": 0.5119047619047619}, {\"normalization_type\": \"acc_df_nonorm\", \"subject_id\": \"10066_09687\", \"train_accuracy\": 0.6190476190476191, \"validation_accuracy\": 0.5, \"test_accuracy\": 0.5}, {\"normalization_type\": \"acc_df_nonorm\", \"subject_id\": \"10069_09785\", \"train_accuracy\": 0.6785714285714286, \"validation_accuracy\": 0.6785714285714286, \"test_accuracy\": 0.5}, {\"normalization_type\": \"acc_df_nonorm\", \"subject_id\": \"10080_09931\", \"train_accuracy\": 0.7738095238095238, \"validation_accuracy\": 0.5, \"test_accuracy\": 0.5}, {\"normalization_type\": \"acc_df_nonorm\", \"subject_id\": \"10084_10188\", \"train_accuracy\": 0.7261904761904762, \"validation_accuracy\": 0.8095238095238095, \"test_accuracy\": 0.6309523809523809}, {\"normalization_type\": \"acc_df_nonorm\", \"subject_id\": \"30004_08965\", \"train_accuracy\": 0.8690476190476191, \"validation_accuracy\": 0.8571428571428571, \"test_accuracy\": 0.6785714285714286}, {\"normalization_type\": \"acc_df_nonorm\", \"subject_id\": \"30008_08981\", \"train_accuracy\": 0.7142857142857143, \"validation_accuracy\": 0.5, \"test_accuracy\": 0.5}, {\"normalization_type\": \"acc_df_nonorm\", \"subject_id\": \"30009_09227\", \"train_accuracy\": 0.5952380952380952, \"validation_accuracy\": 0.5595238095238095, \"test_accuracy\": 0.5}, {\"normalization_type\": \"acc_df_nonorm\", \"subject_id\": \"30011_09170\", \"train_accuracy\": 0.8928571428571429, \"validation_accuracy\": 0.5, \"test_accuracy\": 0.5}, {\"normalization_type\": \"acc_df_nonorm\", \"subject_id\": \"30012_09102\", \"train_accuracy\": 0.6904761904761905, \"validation_accuracy\": 0.4166666666666667, \"test_accuracy\": 0.4642857142857143}, {\"normalization_type\": \"acc_df_nonorm\", \"subject_id\": \"30014_09352\", \"train_accuracy\": 0.5357142857142857, \"validation_accuracy\": 0.5119047619047619, \"test_accuracy\": 0.5}, {\"normalization_type\": \"acc_df_nonorm\", \"subject_id\": \"30017_09567\", \"train_accuracy\": 0.8333333333333334, \"validation_accuracy\": 0.8214285714285714, \"test_accuracy\": 0.75}, {\"normalization_type\": \"acc_df_nonorm\", \"subject_id\": \"30020_09236\", \"train_accuracy\": 0.7380952380952381, \"validation_accuracy\": 0.5833333333333334, \"test_accuracy\": 0.5238095238095238}, {\"normalization_type\": \"acc_df_nonorm\", \"subject_id\": \"30024_09398\", \"train_accuracy\": 0.9404761904761905, \"validation_accuracy\": 0.8928571428571429, \"test_accuracy\": 0.5357142857142857}, {\"normalization_type\": \"acc_df_nonorm\", \"subject_id\": \"30025_09402\", \"train_accuracy\": 0.6309523809523809, \"validation_accuracy\": 0.5, \"test_accuracy\": 0.5357142857142857}, {\"normalization_type\": \"acc_df_nonorm\", \"subject_id\": \"30026_09430\", \"train_accuracy\": 0.75, \"validation_accuracy\": 0.5, \"test_accuracy\": 0.5}, {\"normalization_type\": \"acc_df_nonorm\", \"subject_id\": \"30027_09638\", \"train_accuracy\": 0.8690476190476191, \"validation_accuracy\": 0.5, \"test_accuracy\": 0.5}, {\"normalization_type\": \"acc_df_nonorm\", \"subject_id\": \"30033_09776\", \"train_accuracy\": 0.6547619047619048, \"validation_accuracy\": 0.5119047619047619, \"test_accuracy\": 0.5119047619047619}, {\"normalization_type\": \"acc_df_nonorm\", \"subject_id\": \"30035_09836\", \"train_accuracy\": 0.75, \"validation_accuracy\": 0.5, \"test_accuracy\": 0.5238095238095238}, {\"normalization_type\": \"acc_df_nonorm\", \"subject_id\": \"30036_09758\", \"train_accuracy\": 0.5952380952380952, \"validation_accuracy\": 0.5, \"test_accuracy\": 0.5}, {\"normalization_type\": \"acc_df_nonorm\", \"subject_id\": \"30038_09967\", \"train_accuracy\": 0.8809523809523809, \"validation_accuracy\": 0.8214285714285714, \"test_accuracy\": 0.5}, {\"normalization_type\": \"acc_df_nonorm\", \"subject_id\": \"30044_10095\", \"train_accuracy\": 0.8452380952380952, \"validation_accuracy\": 0.6309523809523809, \"test_accuracy\": 0.6071428571428571}, {\"normalization_type\": \"acc_df_nonorm\", \"subject_id\": \"30045_10182\", \"train_accuracy\": 0.9285714285714286, \"validation_accuracy\": 0.8690476190476191, \"test_accuracy\": 0.5833333333333334}, {\"normalization_type\": \"acc_df_nonorm\", \"subject_id\": \"30053_10112\", \"train_accuracy\": 0.6904761904761905, \"validation_accuracy\": 0.5238095238095238, \"test_accuracy\": 0.5238095238095238}]}}, {\"mode\": \"vega-lite\"});\n",
              "</script>"
            ],
            "text/plain": [
              "alt.HConcatChart(...)"
            ]
          },
          "metadata": {},
          "execution_count": 109
        }
      ]
    },
    {
      "cell_type": "code",
      "source": [
        ""
      ],
      "metadata": {
        "id": "tR6f_lADkpxV"
      },
      "execution_count": null,
      "outputs": []
    }
  ],
  "metadata": {
    "colab": {
      "collapsed_sections": [],
      "machine_shape": "hm",
      "name": "hyperparameters_and_normalization_optimization",
      "provenance": [],
      "include_colab_link": true
    },
    "kernelspec": {
      "display_name": "Python 3",
      "name": "python3"
    },
    "language_info": {
      "name": "python"
    }
  },
  "nbformat": 4,
  "nbformat_minor": 0
}