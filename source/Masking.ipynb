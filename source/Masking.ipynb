{
 "cells": [
  {
   "cell_type": "markdown",
   "metadata": {},
   "source": [
    "# Mask Notebook\n",
    "- Demonstrates how we will apply a mask over the data\n",
    "- Should grab the data that is labeled as either 0 or 1, not 9999\n",
    "- Apply the mask to these data"
   ]
  },
  {
   "cell_type": "code",
   "execution_count": 1,
   "metadata": {},
   "outputs": [],
   "source": [
    "# Import libraries\n",
    "import pickle\n",
    "from utils import *\n",
    "import numpy as np\n",
    "import matplotlib.pyplot as plt\n"
   ]
  },
  {
   "cell_type": "code",
   "execution_count": 2,
   "metadata": {
    "pycharm": {
     "name": "#%%\n"
    }
   },
   "outputs": [
    {
     "name": "stdout",
     "output_type": "stream",
     "text": [
      "Dictionary contents: \n"
     ]
    },
    {
     "data": {
      "text/plain": [
       "defaultdict(list,\n",
       "            {'subject_data': ['svm_data/10004_08693/svm_subj_vecs.mat',\n",
       "              'svm_data/10008_09924/svm_subj_vecs.mat',\n",
       "              'svm_data/10009_08848/svm_subj_vecs.mat',\n",
       "              'svm_data/10016_09694/svm_subj_vecs.mat',\n",
       "              'svm_data/10017_08894/svm_subj_vecs.mat',\n",
       "              'svm_data/10018_08907/svm_subj_vecs.mat',\n",
       "              'svm_data/10021_08839/svm_subj_vecs.mat',\n",
       "              'svm_data/10022_08854/svm_subj_vecs.mat',\n",
       "              'svm_data/10023_09126/svm_subj_vecs.mat',\n",
       "              'svm_data/10027_09455/svm_subj_vecs.mat',\n",
       "              'svm_data/10033_08871/svm_subj_vecs.mat',\n",
       "              'svm_data/10034_08879/svm_subj_vecs.mat',\n",
       "              'svm_data/10035_08847/svm_subj_vecs.mat',\n",
       "              'svm_data/10036_09800/svm_subj_vecs.mat',\n",
       "              'svm_data/10037_09903/svm_subj_vecs.mat',\n",
       "              'svm_data/10038_09063/svm_subj_vecs.mat',\n",
       "              'svm_data/10039_08941/svm_subj_vecs.mat',\n",
       "              'svm_data/10042_08990/svm_subj_vecs.mat',\n",
       "              'svm_data/10043_09222/svm_subj_vecs.mat',\n",
       "              'svm_data/10045_08968/svm_subj_vecs.mat',\n",
       "              'svm_data/10046_09216/svm_subj_vecs.mat',\n",
       "              'svm_data/10047_09030/svm_subj_vecs.mat',\n",
       "              'svm_data/10050_09079/svm_subj_vecs.mat',\n",
       "              'svm_data/10053_09018/svm_subj_vecs.mat',\n",
       "              'svm_data/10056_09615/svm_subj_vecs.mat',\n",
       "              'svm_data/10057_10124/svm_subj_vecs.mat',\n",
       "              'svm_data/10060_09359/svm_subj_vecs.mat',\n",
       "              'svm_data/10061_09308/svm_subj_vecs.mat',\n",
       "              'svm_data/10065_09587/svm_subj_vecs.mat',\n",
       "              'svm_data/10066_09687/svm_subj_vecs.mat',\n",
       "              'svm_data/10069_09785/svm_subj_vecs.mat',\n",
       "              'svm_data/10080_09931/svm_subj_vecs.mat',\n",
       "              'svm_data/10084_10188/svm_subj_vecs.mat',\n",
       "              'svm_data/30004_08965/svm_subj_vecs.mat',\n",
       "              'svm_data/30008_08981/svm_subj_vecs.mat',\n",
       "              'svm_data/30009_09227/svm_subj_vecs.mat',\n",
       "              'svm_data/30011_09170/svm_subj_vecs.mat',\n",
       "              'svm_data/30012_09102/svm_subj_vecs.mat',\n",
       "              'svm_data/30014_09352/svm_subj_vecs.mat',\n",
       "              'svm_data/30017_09567/svm_subj_vecs.mat',\n",
       "              'svm_data/30020_09236/svm_subj_vecs.mat',\n",
       "              'svm_data/30024_09398/svm_subj_vecs.mat',\n",
       "              'svm_data/30025_09402/svm_subj_vecs.mat',\n",
       "              'svm_data/30026_09430/svm_subj_vecs.mat',\n",
       "              'svm_data/30027_09638/svm_subj_vecs.mat',\n",
       "              'svm_data/30033_09776/svm_subj_vecs.mat',\n",
       "              'svm_data/30035_09836/svm_subj_vecs.mat',\n",
       "              'svm_data/30036_09758/svm_subj_vecs.mat',\n",
       "              'svm_data/30038_09967/svm_subj_vecs.mat',\n",
       "              'svm_data/30044_10095/svm_subj_vecs.mat',\n",
       "              'svm_data/30045_10182/svm_subj_vecs.mat',\n",
       "              'svm_data/30053_10112/svm_subj_vecs.mat'],\n",
       "             'subject_ID': ['10004_08693',\n",
       "              '10008_09924',\n",
       "              '10009_08848',\n",
       "              '10016_09694',\n",
       "              '10017_08894',\n",
       "              '10018_08907',\n",
       "              '10021_08839',\n",
       "              '10022_08854',\n",
       "              '10023_09126',\n",
       "              '10027_09455',\n",
       "              '10033_08871',\n",
       "              '10034_08879',\n",
       "              '10035_08847',\n",
       "              '10036_09800',\n",
       "              '10037_09903',\n",
       "              '10038_09063',\n",
       "              '10039_08941',\n",
       "              '10042_08990',\n",
       "              '10043_09222',\n",
       "              '10045_08968',\n",
       "              '10046_09216',\n",
       "              '10047_09030',\n",
       "              '10050_09079',\n",
       "              '10053_09018',\n",
       "              '10056_09615',\n",
       "              '10057_10124',\n",
       "              '10060_09359',\n",
       "              '10061_09308',\n",
       "              '10065_09587',\n",
       "              '10066_09687',\n",
       "              '10069_09785',\n",
       "              '10080_09931',\n",
       "              '10084_10188',\n",
       "              '30004_08965',\n",
       "              '30008_08981',\n",
       "              '30009_09227',\n",
       "              '30011_09170',\n",
       "              '30012_09102',\n",
       "              '30014_09352',\n",
       "              '30017_09567',\n",
       "              '30020_09236',\n",
       "              '30024_09398',\n",
       "              '30025_09402',\n",
       "              '30026_09430',\n",
       "              '30027_09638',\n",
       "              '30033_09776',\n",
       "              '30035_09836',\n",
       "              '30036_09758',\n",
       "              '30038_09967',\n",
       "              '30044_10095',\n",
       "              '30045_10182',\n",
       "              '30053_10112'],\n",
       "             'mask_data': ['svm_data/masks/masks.mat'],\n",
       "             'labels': ['svm_data/rt_labels.mat']})"
      ]
     },
     "execution_count": 2,
     "metadata": {},
     "output_type": "execute_result"
    }
   ],
   "source": [
    "#open pickle file\n",
    "path = \"data/data_path_dictionary.pkl\"\n",
    "data_path_dictionary = open_pickle(path)\n",
    "\n",
    "print(\"Dictionary contents: \")\n",
    "data_path_dictionary"
   ]
  },
  {
   "cell_type": "code",
   "execution_count": 3,
   "metadata": {
    "pycharm": {
     "name": "#%%\n"
    }
   },
   "outputs": [],
   "source": [
    "# single subject data paths from S3\n",
    "masks_path = data_path_dictionary['mask_data'][0]\n",
    "subject_path = data_path_dictionary['subject_data'][0]\n",
    "label_path = data_path_dictionary['labels'][0]\n"
   ]
  },
  {
   "cell_type": "code",
   "execution_count": 4,
   "metadata": {
    "pycharm": {
     "name": "#%%\n"
    }
   },
   "outputs": [
    {
     "name": "stdout",
     "output_type": "stream",
     "text": [
      "CPU times: user 157 ms, sys: 43.1 ms, total: 200 ms\n",
      "Wall time: 787 ms\n"
     ]
    },
    {
     "data": {
      "text/plain": [
       "dict_keys(['__header__', '__version__', '__globals__', 'mask', 'masksubACC', 'masksubAI', 'masksubNAcc', 'masksubmPFC'])"
      ]
     },
     "execution_count": 4,
     "metadata": {},
     "output_type": "execute_result"
    }
   ],
   "source": [
    "%%time\n",
    "# Get mat data from aws\n",
    "mask_data = access_load_data(masks_path)\n",
    "mask_data.keys()\n"
   ]
  },
  {
   "cell_type": "code",
   "execution_count": 9,
   "metadata": {},
   "outputs": [
    {
     "name": "stdout",
     "output_type": "stream",
     "text": [
      "CPU times: user 75.8 ms, sys: 6.89 ms, total: 82.7 ms\n",
      "Wall time: 461 ms\n"
     ]
    },
    {
     "data": {
      "text/plain": [
       "dict_keys(['__header__', '__version__', '__globals__', 'decrease_onsets', 'increase_onsets', 'rest_ons', 'rt_labels'])"
      ]
     },
     "execution_count": 9,
     "metadata": {},
     "output_type": "execute_result"
    }
   ],
   "source": [
    "%%time\n",
    "# Get label data from aws\n",
    "label_data = access_load_data(label_path)\n",
    "label_data.keys()"
   ]
  },
  {
   "cell_type": "code",
   "execution_count": 5,
   "metadata": {
    "pycharm": {
     "name": "#%%\n"
    }
   },
   "outputs": [
    {
     "data": {
      "text/plain": [
       "array([False, False, False, ..., False, False, False])"
      ]
     },
     "execution_count": 5,
     "metadata": {},
     "output_type": "execute_result"
    }
   ],
   "source": [
    "# Takes in filepaths and mask type and returns a numpy-compatible mask\n",
    "def create_mask(mask_data_filepath, mask_type='mask'):\n",
    "    mask_type_dict = access_load_data(mask_data_filepath)\n",
    "    np_array_mask = mask_type_dict[mask_type]\n",
    "    np_compatible_mask = np.ma.make_mask(np_array_mask).reshape(79*95*79)\n",
    "    return np_compatible_mask\n",
    "\n",
    "\n",
    "# create_mask example\n",
    "mask_data_filepath = 'svm_data/masks/masks.mat'\n",
    "mask_type = 'masksubACC'\n",
    "\n",
    "sub_acc_mask = create_mask(mask_data_filepath, mask_type)\n",
    "sub_acc_mask"
   ]
  },
  {
   "cell_type": "code",
   "execution_count": 6,
   "metadata": {
    "pycharm": {
     "name": "#%%\n"
    }
   },
   "outputs": [
    {
     "data": {
      "text/plain": [
       "{'mask_type': array([False, False, False, ..., False, False, False]),\n",
       " 'run_01_vec': array([[   0,    0,    0, ..., 3428, 3954, 4105],\n",
       "        [   0,    0,    0, ..., 3318, 3747, 3905],\n",
       "        [   0,    0,    0, ..., 3359, 3721, 3876],\n",
       "        ...,\n",
       "        [   0,    0,    0, ..., 3327, 3783, 3940],\n",
       "        [   0,    0,    0, ..., 3319, 3912, 4011],\n",
       "        [   0,    0,    0, ..., 3305, 3905, 4022]], dtype=int16),\n",
       " 'run_02_vec': array([[   0,    0,    0, ..., 3719, 3986, 4713],\n",
       "        [   0,    0,    0, ..., 3576, 3814, 4568],\n",
       "        [   0,    0,    0, ..., 3595, 3682, 4327],\n",
       "        ...,\n",
       "        [   0,    0,    0, ..., 3691, 4094, 4855],\n",
       "        [   0,    0,    0, ..., 3594, 3854, 4482],\n",
       "        [   0,    0,    0, ..., 3583, 3808, 4607]], dtype=int16),\n",
       " 'run_03_vec': array([[   0,    0,    0, ..., 3726, 4493, 5430],\n",
       "        [   0,    0,    0, ..., 3589, 4246, 5278],\n",
       "        [   0,    0,    0, ..., 3568, 4112, 5008],\n",
       "        ...,\n",
       "        [   0,    0,    0, ..., 3393, 3948, 4800],\n",
       "        [   0,    0,    0, ..., 3629, 4139, 5016],\n",
       "        [   0,    0,    0, ..., 3525, 3964, 4810]], dtype=int16),\n",
       " 'run_04_vec': array([[   0,    0,    0, ..., 3131, 3808, 4716],\n",
       "        [   0,    0,    0, ..., 3045, 3708, 4534],\n",
       "        [   0,    0,    0, ..., 3011, 3580, 4531],\n",
       "        ...,\n",
       "        [   0,    0,    0, ..., 3010, 3697, 4557],\n",
       "        [   0,    0,    0, ..., 3085, 3685, 4685],\n",
       "        [   0,    0,    0, ..., 3048, 3807, 4824]], dtype=int16)}"
      ]
     },
     "execution_count": 6,
     "metadata": {},
     "output_type": "execute_result"
    }
   ],
   "source": [
    "# Takes in a user dictionary of four runs and a mask. Returns a user dictionary with mask type and four masked runs\n",
    "def mask_user(subject, mask):\n",
    "    masked_runs = {'mask_type':mask}\n",
    "    for i in range(4):\n",
    "        user_key = 'run_0' + str(i+1) + '_vec'\n",
    "        array = subject[user_key]\n",
    "        array = array[:, mask] ## Will need to also get the subject data that is labeled either 0,1\n",
    "        masked_runs[user_key]=array\n",
    "    return masked_runs\n",
    "\n",
    "\n",
    "# example of mask_user using sub_acc_mask above\n",
    "subject_path = 'svm_data/10004_08693/svm_subj_vecs.mat'\n",
    "first_subject = access_load_data(subject_path)\n",
    "mask_for_function = sub_acc_mask #From cell above\n",
    "\n",
    "masked_first_subject = mask_user(first_subject, mask_for_function)\n",
    "masked_first_subject"
   ]
  },
  {
   "cell_type": "code",
   "execution_count": 7,
   "metadata": {
    "pycharm": {
     "name": "#%%\n"
    }
   },
   "outputs": [
    {
     "data": {
      "text/plain": [
       "(144, 235266)"
      ]
     },
     "execution_count": 7,
     "metadata": {},
     "output_type": "execute_result"
    }
   ],
   "source": [
    "masked_first_subject['run_01_vec'].shape"
   ]
  },
  {
   "cell_type": "code",
   "execution_count": null,
   "metadata": {
    "pycharm": {
     "name": "#%%\n"
    }
   },
   "outputs": [],
   "source": []
  },
  {
   "cell_type": "code",
   "execution_count": null,
   "metadata": {
    "pycharm": {
     "name": "#%%\n"
    }
   },
   "outputs": [],
   "source": []
  },
  {
   "cell_type": "code",
   "execution_count": null,
   "metadata": {
    "pycharm": {
     "name": "#%%\n"
    }
   },
   "outputs": [],
   "source": []
  }
 ],
 "metadata": {
  "kernelspec": {
   "display_name": "Python 3",
   "language": "python",
   "name": "python3"
  },
  "language_info": {
   "codemirror_mode": {
    "name": "ipython",
    "version": 3
   },
   "file_extension": ".py",
   "mimetype": "text/x-python",
   "name": "python",
   "nbconvert_exporter": "python",
   "pygments_lexer": "ipython3",
   "version": "3.7.3"
  }
 },
 "nbformat": 4,
 "nbformat_minor": 1
}
