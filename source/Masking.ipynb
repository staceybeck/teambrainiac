{
 "cells": [
  {
   "cell_type": "code",
   "execution_count": 1,
   "metadata": {
    "collapsed": true
   },
   "outputs": [],
   "source": [
    "# Import libraries\n",
    "import pickle\n",
    "from utils import *\n",
    "import numpy as np\n",
    "import matplotlib.pyplot as plt\n",
    "\n"
   ]
  },
  {
   "cell_type": "code",
   "execution_count": 2,
   "outputs": [
    {
     "name": "stdout",
     "output_type": "stream",
     "text": [
      "Dictionary contents: \n"
     ]
    },
    {
     "data": {
      "text/plain": "defaultdict(list,\n            {'subject_data': ['svm_data/10004_08693/svm_subj_vecs.mat',\n              'svm_data/10008_09924/svm_subj_vecs.mat',\n              'svm_data/10009_08848/svm_subj_vecs.mat',\n              'svm_data/10016_09694/svm_subj_vecs.mat',\n              'svm_data/10017_08894/svm_subj_vecs.mat',\n              'svm_data/10018_08907/svm_subj_vecs.mat',\n              'svm_data/10021_08839/svm_subj_vecs.mat',\n              'svm_data/10022_08854/svm_subj_vecs.mat',\n              'svm_data/10023_09126/svm_subj_vecs.mat',\n              'svm_data/10027_09455/svm_subj_vecs.mat',\n              'svm_data/10033_08871/svm_subj_vecs.mat',\n              'svm_data/10034_08879/svm_subj_vecs.mat',\n              'svm_data/10035_08847/svm_subj_vecs.mat',\n              'svm_data/10036_09800/svm_subj_vecs.mat',\n              'svm_data/10037_09903/svm_subj_vecs.mat',\n              'svm_data/10038_09063/svm_subj_vecs.mat',\n              'svm_data/10039_08941/svm_subj_vecs.mat',\n              'svm_data/10042_08990/svm_subj_vecs.mat',\n              'svm_data/10043_09222/svm_subj_vecs.mat',\n              'svm_data/10045_08968/svm_subj_vecs.mat',\n              'svm_data/10046_09216/svm_subj_vecs.mat',\n              'svm_data/10047_09030/svm_subj_vecs.mat',\n              'svm_data/10050_09079/svm_subj_vecs.mat',\n              'svm_data/10053_09018/svm_subj_vecs.mat',\n              'svm_data/10056_09615/svm_subj_vecs.mat',\n              'svm_data/10057_10124/svm_subj_vecs.mat',\n              'svm_data/10060_09359/svm_subj_vecs.mat',\n              'svm_data/10061_09308/svm_subj_vecs.mat',\n              'svm_data/10065_09587/svm_subj_vecs.mat',\n              'svm_data/10066_09687/svm_subj_vecs.mat',\n              'svm_data/10069_09785/svm_subj_vecs.mat',\n              'svm_data/10080_09931/svm_subj_vecs.mat',\n              'svm_data/10084_10188/svm_subj_vecs.mat',\n              'svm_data/30004_08965/svm_subj_vecs.mat',\n              'svm_data/30008_08981/svm_subj_vecs.mat',\n              'svm_data/30009_09227/svm_subj_vecs.mat',\n              'svm_data/30011_09170/svm_subj_vecs.mat',\n              'svm_data/30012_09102/svm_subj_vecs.mat',\n              'svm_data/30014_09352/svm_subj_vecs.mat',\n              'svm_data/30017_09567/svm_subj_vecs.mat',\n              'svm_data/30020_09236/svm_subj_vecs.mat',\n              'svm_data/30024_09398/svm_subj_vecs.mat',\n              'svm_data/30025_09402/svm_subj_vecs.mat',\n              'svm_data/30026_09430/svm_subj_vecs.mat',\n              'svm_data/30027_09638/svm_subj_vecs.mat',\n              'svm_data/30033_09776/svm_subj_vecs.mat',\n              'svm_data/30035_09836/svm_subj_vecs.mat',\n              'svm_data/30036_09758/svm_subj_vecs.mat',\n              'svm_data/30038_09967/svm_subj_vecs.mat',\n              'svm_data/30044_10095/svm_subj_vecs.mat',\n              'svm_data/30045_10182/svm_subj_vecs.mat',\n              'svm_data/30053_10112/svm_subj_vecs.mat'],\n             'subject_ID': ['10004_08693',\n              '10008_09924',\n              '10009_08848',\n              '10016_09694',\n              '10017_08894',\n              '10018_08907',\n              '10021_08839',\n              '10022_08854',\n              '10023_09126',\n              '10027_09455',\n              '10033_08871',\n              '10034_08879',\n              '10035_08847',\n              '10036_09800',\n              '10037_09903',\n              '10038_09063',\n              '10039_08941',\n              '10042_08990',\n              '10043_09222',\n              '10045_08968',\n              '10046_09216',\n              '10047_09030',\n              '10050_09079',\n              '10053_09018',\n              '10056_09615',\n              '10057_10124',\n              '10060_09359',\n              '10061_09308',\n              '10065_09587',\n              '10066_09687',\n              '10069_09785',\n              '10080_09931',\n              '10084_10188',\n              '30004_08965',\n              '30008_08981',\n              '30009_09227',\n              '30011_09170',\n              '30012_09102',\n              '30014_09352',\n              '30017_09567',\n              '30020_09236',\n              '30024_09398',\n              '30025_09402',\n              '30026_09430',\n              '30027_09638',\n              '30033_09776',\n              '30035_09836',\n              '30036_09758',\n              '30038_09967',\n              '30044_10095',\n              '30045_10182',\n              '30053_10112'],\n             'mask_data': ['svm_data/masks/masks.mat'],\n             'labels': ['svm_data/rt_labels.mat']})"
     },
     "execution_count": 2,
     "metadata": {},
     "output_type": "execute_result"
    }
   ],
   "source": [
    "#open pickle file\n",
    "path = \"data/data_path_dictionary.pkl\"\n",
    "file_names_dict = open_pickle(path)\n",
    "\n",
    "print(\"Dictionary contents: \")\n",
    "file_names_dict\n",
    "\n"
   ],
   "metadata": {
    "collapsed": false,
    "pycharm": {
     "name": "#%%\n"
    }
   }
  },
  {
   "cell_type": "code",
   "execution_count": 3,
   "outputs": [],
   "source": [
    "masks_path = file_names_dict['mask_data'][0]\n",
    "subject_path = file_names_dict['subject_data'][0]\n",
    "file_name = f\"data/subject_{file_names_dict['subject_ID'][0]}_data.mat\"\n",
    "file_name_m = f\"data/masks.mat\"\n",
    "lbl = file_names_dict['labels'][0]\n",
    "file_name_lbl = 'labels.mat'\n",
    "\n"
   ],
   "metadata": {
    "collapsed": false,
    "pycharm": {
     "name": "#%%\n"
    }
   }
  },
  {
   "cell_type": "code",
   "execution_count": 7,
   "outputs": [
    {
     "data": {
      "text/plain": "dict_keys(['__header__', '__version__', '__globals__', 'mask', 'masksubACC', 'masksubAI', 'masksubNAcc', 'masksubmPFC'])"
     },
     "execution_count": 7,
     "metadata": {},
     "output_type": "execute_result"
    }
   ],
   "source": [
    "mask_data = access_load_data(masks_path, file_name_lbl)\n",
    "mask_data.keys()\n"
   ],
   "metadata": {
    "collapsed": false,
    "pycharm": {
     "name": "#%%\n"
    }
   }
  },
  {
   "cell_type": "code",
   "execution_count": 8,
   "outputs": [
    {
     "name": "stdout",
     "output_type": "stream",
     "text": [
      "CPU times: total: 109 ms\n",
      "Wall time: 895 ms\n"
     ]
    },
    {
     "data": {
      "text/plain": "{'__header__': b'MATLAB 5.0 MAT-file, Platform: GLNXA64, Created on: Wed Feb 23 12:37:28 2022',\n '__version__': '1.0',\n '__globals__': [],\n 'mask': array([[[0, 0, 0, ..., 0, 0, 0],\n         [0, 0, 0, ..., 0, 0, 0],\n         [0, 0, 0, ..., 0, 0, 0],\n         ...,\n         [0, 0, 0, ..., 0, 0, 0],\n         [0, 0, 0, ..., 0, 0, 0],\n         [0, 0, 0, ..., 0, 0, 0]],\n \n        [[0, 0, 0, ..., 0, 0, 0],\n         [0, 0, 0, ..., 0, 0, 0],\n         [0, 0, 0, ..., 0, 0, 0],\n         ...,\n         [0, 0, 0, ..., 0, 0, 0],\n         [0, 0, 0, ..., 0, 0, 0],\n         [0, 0, 0, ..., 0, 0, 0]],\n \n        [[0, 0, 0, ..., 0, 0, 0],\n         [0, 0, 0, ..., 0, 0, 0],\n         [0, 0, 0, ..., 0, 0, 0],\n         ...,\n         [0, 0, 0, ..., 0, 0, 0],\n         [0, 0, 0, ..., 0, 0, 0],\n         [0, 0, 0, ..., 0, 0, 0]],\n \n        ...,\n \n        [[0, 0, 0, ..., 0, 0, 0],\n         [0, 0, 0, ..., 0, 0, 0],\n         [0, 0, 0, ..., 0, 0, 0],\n         ...,\n         [0, 0, 0, ..., 0, 0, 0],\n         [0, 0, 0, ..., 0, 0, 0],\n         [0, 0, 0, ..., 0, 0, 0]],\n \n        [[0, 0, 0, ..., 0, 0, 0],\n         [0, 0, 0, ..., 0, 0, 0],\n         [0, 0, 0, ..., 0, 0, 0],\n         ...,\n         [0, 0, 0, ..., 0, 0, 0],\n         [0, 0, 0, ..., 0, 0, 0],\n         [0, 0, 0, ..., 0, 0, 0]],\n \n        [[0, 0, 0, ..., 0, 0, 0],\n         [0, 0, 0, ..., 0, 0, 0],\n         [0, 0, 0, ..., 0, 0, 0],\n         ...,\n         [0, 0, 0, ..., 0, 0, 0],\n         [0, 0, 0, ..., 0, 0, 0],\n         [0, 0, 0, ..., 0, 0, 0]]], dtype=uint8),\n 'masksubACC': array([[[0, 0, 0, ..., 0, 0, 0],\n         [0, 0, 0, ..., 0, 0, 0],\n         [0, 0, 0, ..., 0, 0, 0],\n         ...,\n         [0, 0, 0, ..., 0, 0, 0],\n         [0, 0, 0, ..., 0, 0, 0],\n         [0, 0, 0, ..., 0, 0, 0]],\n \n        [[0, 0, 0, ..., 0, 0, 0],\n         [0, 0, 0, ..., 0, 0, 0],\n         [0, 0, 0, ..., 0, 0, 0],\n         ...,\n         [0, 0, 0, ..., 0, 0, 0],\n         [0, 0, 0, ..., 0, 0, 0],\n         [0, 0, 0, ..., 0, 0, 0]],\n \n        [[0, 0, 0, ..., 0, 0, 0],\n         [0, 0, 0, ..., 0, 0, 0],\n         [0, 0, 0, ..., 0, 0, 0],\n         ...,\n         [0, 0, 0, ..., 0, 0, 0],\n         [0, 0, 0, ..., 0, 0, 0],\n         [0, 0, 0, ..., 0, 0, 0]],\n \n        ...,\n \n        [[0, 0, 0, ..., 0, 0, 0],\n         [0, 0, 0, ..., 0, 0, 0],\n         [0, 0, 0, ..., 0, 0, 0],\n         ...,\n         [0, 0, 0, ..., 0, 0, 0],\n         [0, 0, 0, ..., 0, 0, 0],\n         [0, 0, 0, ..., 0, 0, 0]],\n \n        [[0, 0, 0, ..., 0, 0, 0],\n         [0, 0, 0, ..., 0, 0, 0],\n         [0, 0, 0, ..., 0, 0, 0],\n         ...,\n         [0, 0, 0, ..., 0, 0, 0],\n         [0, 0, 0, ..., 0, 0, 0],\n         [0, 0, 0, ..., 0, 0, 0]],\n \n        [[0, 0, 0, ..., 0, 0, 0],\n         [0, 0, 0, ..., 0, 0, 0],\n         [0, 0, 0, ..., 0, 0, 0],\n         ...,\n         [0, 0, 0, ..., 0, 0, 0],\n         [0, 0, 0, ..., 0, 0, 0],\n         [0, 0, 0, ..., 0, 0, 0]]], dtype=uint16),\n 'masksubAI': array([[[0, 0, 0, ..., 0, 0, 0],\n         [0, 0, 0, ..., 0, 0, 0],\n         [0, 0, 0, ..., 0, 0, 0],\n         ...,\n         [0, 0, 0, ..., 0, 0, 0],\n         [0, 0, 0, ..., 0, 0, 0],\n         [0, 0, 0, ..., 0, 0, 0]],\n \n        [[0, 0, 0, ..., 0, 0, 0],\n         [0, 0, 0, ..., 0, 0, 0],\n         [0, 0, 0, ..., 0, 0, 0],\n         ...,\n         [0, 0, 0, ..., 0, 0, 0],\n         [0, 0, 0, ..., 0, 0, 0],\n         [0, 0, 0, ..., 0, 0, 0]],\n \n        [[0, 0, 0, ..., 0, 0, 0],\n         [0, 0, 0, ..., 0, 0, 0],\n         [0, 0, 0, ..., 0, 0, 0],\n         ...,\n         [0, 0, 0, ..., 0, 0, 0],\n         [0, 0, 0, ..., 0, 0, 0],\n         [0, 0, 0, ..., 0, 0, 0]],\n \n        ...,\n \n        [[0, 0, 0, ..., 0, 0, 0],\n         [0, 0, 0, ..., 0, 0, 0],\n         [0, 0, 0, ..., 0, 0, 0],\n         ...,\n         [0, 0, 0, ..., 0, 0, 0],\n         [0, 0, 0, ..., 0, 0, 0],\n         [0, 0, 0, ..., 0, 0, 0]],\n \n        [[0, 0, 0, ..., 0, 0, 0],\n         [0, 0, 0, ..., 0, 0, 0],\n         [0, 0, 0, ..., 0, 0, 0],\n         ...,\n         [0, 0, 0, ..., 0, 0, 0],\n         [0, 0, 0, ..., 0, 0, 0],\n         [0, 0, 0, ..., 0, 0, 0]],\n \n        [[0, 0, 0, ..., 0, 0, 0],\n         [0, 0, 0, ..., 0, 0, 0],\n         [0, 0, 0, ..., 0, 0, 0],\n         ...,\n         [0, 0, 0, ..., 0, 0, 0],\n         [0, 0, 0, ..., 0, 0, 0],\n         [0, 0, 0, ..., 0, 0, 0]]], dtype=uint16),\n 'masksubNAcc': array([[[0, 0, 0, ..., 0, 0, 0],\n         [0, 0, 0, ..., 0, 0, 0],\n         [0, 0, 0, ..., 0, 0, 0],\n         ...,\n         [0, 0, 0, ..., 0, 0, 0],\n         [0, 0, 0, ..., 0, 0, 0],\n         [0, 0, 0, ..., 0, 0, 0]],\n \n        [[0, 0, 0, ..., 0, 0, 0],\n         [0, 0, 0, ..., 0, 0, 0],\n         [0, 0, 0, ..., 0, 0, 0],\n         ...,\n         [0, 0, 0, ..., 0, 0, 0],\n         [0, 0, 0, ..., 0, 0, 0],\n         [0, 0, 0, ..., 0, 0, 0]],\n \n        [[0, 0, 0, ..., 0, 0, 0],\n         [0, 0, 0, ..., 0, 0, 0],\n         [0, 0, 0, ..., 0, 0, 0],\n         ...,\n         [0, 0, 0, ..., 0, 0, 0],\n         [0, 0, 0, ..., 0, 0, 0],\n         [0, 0, 0, ..., 0, 0, 0]],\n \n        ...,\n \n        [[0, 0, 0, ..., 0, 0, 0],\n         [0, 0, 0, ..., 0, 0, 0],\n         [0, 0, 0, ..., 0, 0, 0],\n         ...,\n         [0, 0, 0, ..., 0, 0, 0],\n         [0, 0, 0, ..., 0, 0, 0],\n         [0, 0, 0, ..., 0, 0, 0]],\n \n        [[0, 0, 0, ..., 0, 0, 0],\n         [0, 0, 0, ..., 0, 0, 0],\n         [0, 0, 0, ..., 0, 0, 0],\n         ...,\n         [0, 0, 0, ..., 0, 0, 0],\n         [0, 0, 0, ..., 0, 0, 0],\n         [0, 0, 0, ..., 0, 0, 0]],\n \n        [[0, 0, 0, ..., 0, 0, 0],\n         [0, 0, 0, ..., 0, 0, 0],\n         [0, 0, 0, ..., 0, 0, 0],\n         ...,\n         [0, 0, 0, ..., 0, 0, 0],\n         [0, 0, 0, ..., 0, 0, 0],\n         [0, 0, 0, ..., 0, 0, 0]]], dtype=uint16),\n 'masksubmPFC': array([[[0, 0, 0, ..., 0, 0, 0],\n         [0, 0, 0, ..., 0, 0, 0],\n         [0, 0, 0, ..., 0, 0, 0],\n         ...,\n         [0, 0, 0, ..., 0, 0, 0],\n         [0, 0, 0, ..., 0, 0, 0],\n         [0, 0, 0, ..., 0, 0, 0]],\n \n        [[0, 0, 0, ..., 0, 0, 0],\n         [0, 0, 0, ..., 0, 0, 0],\n         [0, 0, 0, ..., 0, 0, 0],\n         ...,\n         [0, 0, 0, ..., 0, 0, 0],\n         [0, 0, 0, ..., 0, 0, 0],\n         [0, 0, 0, ..., 0, 0, 0]],\n \n        [[0, 0, 0, ..., 0, 0, 0],\n         [0, 0, 0, ..., 0, 0, 0],\n         [0, 0, 0, ..., 0, 0, 0],\n         ...,\n         [0, 0, 0, ..., 0, 0, 0],\n         [0, 0, 0, ..., 0, 0, 0],\n         [0, 0, 0, ..., 0, 0, 0]],\n \n        ...,\n \n        [[0, 0, 0, ..., 0, 0, 0],\n         [0, 0, 0, ..., 0, 0, 0],\n         [0, 0, 0, ..., 0, 0, 0],\n         ...,\n         [0, 0, 0, ..., 0, 0, 0],\n         [0, 0, 0, ..., 0, 0, 0],\n         [0, 0, 0, ..., 0, 0, 0]],\n \n        [[0, 0, 0, ..., 0, 0, 0],\n         [0, 0, 0, ..., 0, 0, 0],\n         [0, 0, 0, ..., 0, 0, 0],\n         ...,\n         [0, 0, 0, ..., 0, 0, 0],\n         [0, 0, 0, ..., 0, 0, 0],\n         [0, 0, 0, ..., 0, 0, 0]],\n \n        [[0, 0, 0, ..., 0, 0, 0],\n         [0, 0, 0, ..., 0, 0, 0],\n         [0, 0, 0, ..., 0, 0, 0],\n         ...,\n         [0, 0, 0, ..., 0, 0, 0],\n         [0, 0, 0, ..., 0, 0, 0],\n         [0, 0, 0, ..., 0, 0, 0]]], dtype=uint16)}"
     },
     "execution_count": 8,
     "metadata": {},
     "output_type": "execute_result"
    }
   ],
   "source": [
    "%%time\n",
    "# Get mat data from aws, download to local then load and save as mat_data\n",
    "mask_data = access_load_data(masks_path, file_name_m)\n",
    "mask_data"
   ],
   "metadata": {
    "collapsed": false,
    "pycharm": {
     "name": "#%%\n"
    }
   }
  },
  {
   "cell_type": "code",
   "execution_count": 14,
   "outputs": [
    {
     "data": {
      "text/plain": "array([[0, 0, 0, ..., 0, 0, 0],\n       [0, 0, 0, ..., 0, 0, 0],\n       [0, 0, 0, ..., 0, 0, 0],\n       ...,\n       [0, 0, 0, ..., 0, 0, 0],\n       [0, 0, 0, ..., 0, 0, 0],\n       [0, 0, 0, ..., 0, 0, 0]], dtype=int16)"
     },
     "execution_count": 14,
     "metadata": {},
     "output_type": "execute_result"
    }
   ],
   "source": [
    "# Create numpy mask\n",
    "whole_brn_msk = np.ma.make_mask(mask_data['mask'])\n",
    "\n",
    "# Pull subject data and mask it\n",
    "subject_data = access_load_data(subject_path, file_name)\n",
    "subject_data = subject_data['run_01_vec']\n",
    "subject_data"
   ],
   "metadata": {
    "collapsed": false,
    "pycharm": {
     "name": "#%%\n"
    }
   }
  },
  {
   "cell_type": "code",
   "execution_count": 15,
   "outputs": [
    {
     "data": {
      "text/plain": "(144, 592895)"
     },
     "execution_count": 15,
     "metadata": {},
     "output_type": "execute_result"
    }
   ],
   "source": [
    "subject_data.shape\n"
   ],
   "metadata": {
    "collapsed": false,
    "pycharm": {
     "name": "#%%\n"
    }
   }
  },
  {
   "cell_type": "code",
   "execution_count": 13,
   "outputs": [
    {
     "data": {
      "text/plain": "array([1, 3])"
     },
     "execution_count": 13,
     "metadata": {},
     "output_type": "execute_result"
    }
   ],
   "source": [
    "np.array([1,2,3])[np.ma.make_mask(np.array([1,0,1]))]"
   ],
   "metadata": {
    "collapsed": false,
    "pycharm": {
     "name": "#%%\n"
    }
   }
  },
  {
   "cell_type": "code",
   "execution_count": null,
   "outputs": [],
   "source": [
    "sub_data = subject_data['run_01_vec']\n",
    "\n"
   ],
   "metadata": {
    "collapsed": false,
    "pycharm": {
     "name": "#%%\n",
     "is_executing": true
    }
   }
  },
  {
   "cell_type": "code",
   "execution_count": null,
   "outputs": [],
   "source": [
    "whole_brn_msk.shape\n",
    "wbm = whole_brn_msk.reshape(79*95*79, 1)\n",
    "wbm.shape\n",
    "\n"
   ],
   "metadata": {
    "collapsed": false,
    "pycharm": {
     "name": "#%%\n",
     "is_executing": true
    }
   }
  },
  {
   "cell_type": "code",
   "execution_count": null,
   "outputs": [],
   "source": [
    "sub_data.shape\n",
    "\n"
   ],
   "metadata": {
    "collapsed": false,
    "pycharm": {
     "name": "#%%\n",
     "is_executing": true
    }
   }
  },
  {
   "cell_type": "code",
   "execution_count": null,
   "outputs": [],
   "source": [
    "\n"
   ],
   "metadata": {
    "collapsed": false,
    "pycharm": {
     "name": "#%%\n"
    }
   }
  }
 ],
 "metadata": {
  "kernelspec": {
   "display_name": "Python 3",
   "language": "python",
   "name": "python3"
  },
  "language_info": {
   "codemirror_mode": {
    "name": "ipython",
    "version": 2
   },
   "file_extension": ".py",
   "mimetype": "text/x-python",
   "name": "python",
   "nbconvert_exporter": "python",
   "pygments_lexer": "ipython2",
   "version": "2.7.6"
  }
 },
 "nbformat": 4,
 "nbformat_minor": 0
}