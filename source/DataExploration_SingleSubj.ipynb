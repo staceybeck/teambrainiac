{
  "cells": [
    {
      "cell_type": "markdown",
      "metadata": {
        "id": "view-in-github",
        "colab_type": "text"
      },
      "source": [
        "<a href=\"https://colab.research.google.com/github/yecatstevir/teambrainiac/blob/main/source/DataExploration_SingleSubj.ipynb\" target=\"_parent\"><img src=\"https://colab.research.google.com/assets/colab-badge.svg\" alt=\"Open In Colab\"/></a>"
      ]
    },
    {
      "cell_type": "markdown",
      "metadata": {
        "id": "f_wDm122NTXY"
      },
      "source": [
        "# DataExploration for Single Subject SVM\n",
        "- Go to 'Runtime' in Colab browser bar, select 'Change Runtime Type', select 'High-RAM' from 'Runtime Shape'. \n",
        "- load local pickle file containing all masked, normalized Whole Brain subject data in numpy matrix format\n",
        "- SVM training per subject"
      ]
    },
    {
      "cell_type": "markdown",
      "metadata": {
        "id": "c284FIeHNcR2"
      },
      "source": [
        "### Mount Google Drive and clone repository\n",
        "- open to source directory"
      ]
    },
    {
      "cell_type": "code",
      "execution_count": 1,
      "metadata": {
        "colab": {
          "base_uri": "https://localhost:8080/"
        },
        "id": "mIfcjimGzIZo",
        "outputId": "fef91d9e-0774-47ed-8765-09791bd2def0"
      },
      "outputs": [
        {
          "output_type": "stream",
          "name": "stdout",
          "text": [
            "Mounted at /content/gdrive\n"
          ]
        }
      ],
      "source": [
        "from google.colab import drive\n",
        "drive.mount('/content/gdrive')#, force_remount = True)"
      ]
    },
    {
      "cell_type": "code",
      "execution_count": 2,
      "metadata": {
        "colab": {
          "base_uri": "https://localhost:8080/"
        },
        "id": "D5eq9qyKMTp_",
        "outputId": "df942cd8-bbac-496d-dd89-1391a70d7b60"
      },
      "outputs": [
        {
          "output_type": "stream",
          "name": "stdout",
          "text": [
            "Mounted at /content/drive\n"
          ]
        }
      ],
      "source": [
        "\n",
        "from google.colab import drive\n",
        "drive.mount('/content/drive', force_remount=True)"
      ]
    },
    {
      "cell_type": "code",
      "execution_count": 6,
      "metadata": {
        "colab": {
          "base_uri": "https://localhost:8080/"
        },
        "id": "lh0DqCU10r3n",
        "outputId": "5fd4efda-b8fd-4a60-c00c-dd88a9e5785b"
      },
      "outputs": [
        {
          "output_type": "stream",
          "name": "stdout",
          "text": [
            "Cloning into 'teambrainiac'...\n",
            "warning: --local is ignored\n",
            "remote: Enumerating objects: 784, done.\u001b[K\n",
            "remote: Counting objects: 100% (784/784), done.\u001b[K\n",
            "remote: Compressing objects: 100% (574/574), done.\u001b[K\n",
            "remote: Total 784 (delta 489), reused 392 (delta 194), pack-reused 0\u001b[K\n",
            "Receiving objects: 100% (784/784), 73.27 MiB | 31.48 MiB/s, done.\n",
            "Resolving deltas: 100% (489/489), done.\n",
            "/content/teambrainiac/source\n",
            "access_data.py\t\t\t  models\n",
            "AccuracyMeasures.ipynb\t\t  process.py\n",
            "analysis.py\t\t\t  SingleSubjectSVM.ipynb\n",
            "cross_validation.py\t\t  SubjectVisualization_Models_ZNORM.ipynb\n",
            "data\t\t\t\t  SVM_Group_Adolescent_Whole_brain.ipynb\n",
            "DataExploration_SingleSubj.ipynb  SVM_Group_YA_Whole_brain.ipynb\n",
            "DL\t\t\t\t  TestMask.ipynb\n",
            "Explore_data.ipynb\t\t  train.py\n",
            "Group_All_MASK_SVM.ipynb\t  utils.py\n",
            "helper\t\t\t\t  VisualizationPlayground.ipynb\n",
            "Images\t\t\t\t  Visualize_Data.ipynb\n",
            "__init__.py\t\t\t  visualize.py\n"
          ]
        }
      ],
      "source": [
        "# Clone the entire repo.\n",
        "!git clone -l -s https://github.com/yecatstevir/teambrainiac.git\n",
        "# Change directory into cloned repo\n",
        "%cd teambrainiac/source\n",
        "!ls\n"
      ]
    },
    {
      "cell_type": "markdown",
      "metadata": {
        "id": "zadD_dOPPjQm"
      },
      "source": [
        "### Load path_config.py \n",
        "- we are already in source so we can just load this file without changing directory"
      ]
    },
    {
      "cell_type": "code",
      "execution_count": 3,
      "metadata": {
        "colab": {
          "base_uri": "https://localhost:8080/",
          "height": 93,
          "resources": {
            "http://localhost:8080/nbextensions/google.colab/files.js": {
              "data": "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",
              "headers": [
                [
                  "content-type",
                  "application/javascript"
                ]
              ],
              "ok": true,
              "status": 200,
              "status_text": ""
            }
          }
        },
        "id": "u_2qZqNJPLkn",
        "outputId": "d51ce865-397a-4e46-e12a-e13f82bf9217"
      },
      "outputs": [
        {
          "output_type": "display_data",
          "data": {
            "text/plain": [
              "<IPython.core.display.HTML object>"
            ],
            "text/html": [
              "\n",
              "     <input type=\"file\" id=\"files-41220d3a-cff7-48ff-9537-b400616463a1\" name=\"files[]\" multiple disabled\n",
              "        style=\"border:none\" />\n",
              "     <output id=\"result-41220d3a-cff7-48ff-9537-b400616463a1\">\n",
              "      Upload widget is only available when the cell has been executed in the\n",
              "      current browser session. Please rerun this cell to enable.\n",
              "      </output>\n",
              "      <script src=\"/nbextensions/google.colab/files.js\"></script> "
            ]
          },
          "metadata": {}
        },
        {
          "output_type": "stream",
          "name": "stdout",
          "text": [
            "Saving path_config.py to path_config.py\n",
            "User uploaded file \"path_config.py\" with length 228 bytes\n"
          ]
        }
      ],
      "source": [
        "from google.colab import files\n",
        "\n",
        "uploaded = files.upload()\n",
        "\n",
        "for fn in uploaded.keys():\n",
        "  print('User uploaded file \"{name}\" with length {length} bytes'.format(\n",
        "      name=fn, length=len(uploaded[fn])))"
      ]
    },
    {
      "cell_type": "markdown",
      "metadata": {
        "id": "_cmYZ22BNj8h"
      },
      "source": [
        "### Import libraries\n"
      ]
    },
    {
      "cell_type": "code",
      "execution_count": 7,
      "metadata": {
        "colab": {
          "base_uri": "https://localhost:8080/"
        },
        "id": "abHr7oUl06ED",
        "outputId": "6a38979f-78d5-40b7-c7a5-373ed9c8863c"
      },
      "outputs": [
        {
          "output_type": "stream",
          "name": "stdout",
          "text": [
            "Requirement already satisfied: boto3 in /usr/local/lib/python3.7/dist-packages (1.21.37)\n",
            "Requirement already satisfied: nilearn in /usr/local/lib/python3.7/dist-packages (0.9.0)\n",
            "Requirement already satisfied: nibabel in /usr/local/lib/python3.7/dist-packages (3.0.2)\n",
            "Requirement already satisfied: jmespath<2.0.0,>=0.7.1 in /usr/local/lib/python3.7/dist-packages (from boto3) (1.0.0)\n",
            "Requirement already satisfied: s3transfer<0.6.0,>=0.5.0 in /usr/local/lib/python3.7/dist-packages (from boto3) (0.5.2)\n",
            "Requirement already satisfied: botocore<1.25.0,>=1.24.37 in /usr/local/lib/python3.7/dist-packages (from boto3) (1.24.37)\n",
            "Requirement already satisfied: urllib3<1.27,>=1.25.4 in /usr/local/lib/python3.7/dist-packages (from botocore<1.25.0,>=1.24.37->boto3) (1.25.11)\n",
            "Requirement already satisfied: python-dateutil<3.0.0,>=2.1 in /usr/local/lib/python3.7/dist-packages (from botocore<1.25.0,>=1.24.37->boto3) (2.8.2)\n",
            "Requirement already satisfied: six>=1.5 in /usr/local/lib/python3.7/dist-packages (from python-dateutil<3.0.0,>=2.1->botocore<1.25.0,>=1.24.37->boto3) (1.15.0)\n",
            "Requirement already satisfied: scikit-learn>=0.21 in /usr/local/lib/python3.7/dist-packages (from nilearn) (1.0.2)\n",
            "Requirement already satisfied: pandas>=0.24.0 in /usr/local/lib/python3.7/dist-packages (from nilearn) (1.3.5)\n",
            "Requirement already satisfied: requests>=2 in /usr/local/lib/python3.7/dist-packages (from nilearn) (2.23.0)\n",
            "Requirement already satisfied: scipy>=1.2 in /usr/local/lib/python3.7/dist-packages (from nilearn) (1.4.1)\n",
            "Requirement already satisfied: joblib>=0.12 in /usr/local/lib/python3.7/dist-packages (from nilearn) (1.1.0)\n",
            "Requirement already satisfied: numpy>=1.16 in /usr/local/lib/python3.7/dist-packages (from nilearn) (1.21.5)\n",
            "Requirement already satisfied: pytz>=2017.3 in /usr/local/lib/python3.7/dist-packages (from pandas>=0.24.0->nilearn) (2018.9)\n",
            "Requirement already satisfied: idna<3,>=2.5 in /usr/local/lib/python3.7/dist-packages (from requests>=2->nilearn) (2.10)\n",
            "Requirement already satisfied: chardet<4,>=3.0.2 in /usr/local/lib/python3.7/dist-packages (from requests>=2->nilearn) (3.0.4)\n",
            "Requirement already satisfied: certifi>=2017.4.17 in /usr/local/lib/python3.7/dist-packages (from requests>=2->nilearn) (2021.10.8)\n",
            "Requirement already satisfied: threadpoolctl>=2.0.0 in /usr/local/lib/python3.7/dist-packages (from scikit-learn>=0.21->nilearn) (3.1.0)\n"
          ]
        }
      ],
      "source": [
        "\n",
        "# Import libraries\n",
        "!pip install boto3 nilearn nibabel #for saving data\n",
        "import pickle\n",
        "#sklearn packages needed\n",
        "from sklearn.preprocessing import StandardScaler\n",
        "from sklearn.model_selection import GridSearchCV\n",
        "from sklearn.svm import SVC\n",
        "from sklearn.preprocessing import StandardScaler\n",
        "from sklearn.metrics import accuracy_score, auc, recall_score, precision_score,roc_curve,f1_score\n",
        "#important utility functions for loading,masking,saving data\n",
        "from utils import *\n",
        "#normal python packages we use\n",
        "import numpy as np\n",
        "import pandas as pd\n"
      ]
    },
    {
      "cell_type": "markdown",
      "metadata": {
        "id": "fZVh3WQeMk1c"
      },
      "source": [
        "### Get paths to subject data and grab labels for SVM"
      ]
    },
    {
      "cell_type": "code",
      "source": [
        "\n",
        "## load and open the pickle file that contains paths to all data.\n",
        "path = \"data/data_path_dictionary.pkl\"\n",
        "data_path_dict = open_pickle(path)"
      ],
      "metadata": {
        "id": "l4wpPDZh1U1X"
      },
      "execution_count": 8,
      "outputs": []
    },
    {
      "cell_type": "code",
      "source": [
        ""
      ],
      "metadata": {
        "id": "oim8c6a-_P-H"
      },
      "execution_count": null,
      "outputs": []
    },
    {
      "cell_type": "markdown",
      "source": [
        "###Functions to get information about data to run our SVM"
      ],
      "metadata": {
        "id": "B4cu86EDfpre"
      }
    },
    {
      "cell_type": "code",
      "execution_count": 9,
      "metadata": {
        "id": "YwJQ-eCGifbH"
      },
      "outputs": [],
      "source": [
        "def get_subj_information(data_path_dict):\n",
        "  \"\"\"\n",
        "    Function to get subject information.\n",
        "    Params:\n",
        "      data_path_dict  : dictionary containing paths to all data stored on AWS\n",
        "    returns:  subject_ids(list of subjects to run),subj_paths(paths to subject raw data)\n",
        "  \"\"\"\n",
        "  subject_ids = data_path_dict['subject_ID'] #subject_ids\n",
        "  subj_paths = data_path_dict['subject_data'] #subject_paths\n",
        "  return subject_ids,subj_paths\n",
        "\n",
        "def get_labels(data_path_dict):\n",
        "  \"\"\"\n",
        "    Function to get the labels for our data.\n",
        "    Params:\n",
        "      data_path_dict  : dictionary containing paths to all data stored on AWS\n",
        "    returns: mask_labels_indices(timepoints we want masked out),binary_labels(labels for our for our two brain states)\n",
        "             and label_type\n",
        "  \"\"\"\n",
        "  \n",
        "  label_data_path = data_path_dict['labels'][0] #get labels\n",
        "  label_type = 'rt_labels' #tell the function what labels we want\n",
        "  mask_labels_indices, binary_labels = labels_mask_binary(label_data_path, label_type) #grab indices and labels\n",
        "  return mask_labels_indices, binary_labels,label_type\n",
        "\n",
        "def get_mask(mask_type,data_path_dict,mask_ind):\n",
        "  \"\"\"\n",
        "    Function to return the mask of what brain voxels we want to include in analysis\n",
        "    Params:\n",
        "      data_path_dict  : dictionary containing paths to all data stored on AWS\n",
        "      mask_type: name of mask we want to use\n",
        "      mask_ind: index of where the path to the masks are 0: full brain mask plus masks that subtract region\n",
        "              1: Regions of interest(ROIs) mask out full brain except structure we care about\n",
        "  \"\"\"\n",
        "  mask_data_filepath = data_path_dict['mask_data'][mask_ind] #path to masked data     \n",
        "  mask_type_dict = access_load_data(mask_data_filepath, True) #get the mask data dictionary\n",
        "  np_array_mask = mask_type_dict[mask_type] #get the mask array\n",
        "  mask = np.ma.make_mask(np_array_mask).reshape(79*95*79,order='F') #create a 1-D array for the mask. Important to use Fourier Transformation as we are working in brain space!\n",
        "\n",
        "  return mask"
      ]
    },
    {
      "cell_type": "code",
      "source": [
        "mask_data_filepath = data_path_dict['mask_data'][0] #path to masked data  \n",
        "mask_type_dict = access_load_data(mask_data_filepath, True)\n",
        "mask_type_dict.keys()"
      ],
      "metadata": {
        "colab": {
          "base_uri": "https://localhost:8080/"
        },
        "id": "GLJ9kBfEFTOo",
        "outputId": "585d8cb5-fae3-4f31-f18a-facc11786cf7"
      },
      "execution_count": null,
      "outputs": [
        {
          "output_type": "execute_result",
          "data": {
            "text/plain": [
              "dict_keys(['__header__', '__version__', '__globals__', 'mask', 'masksubACC', 'masksubAI', 'masksubNAcc', 'masksubmPFC'])"
            ]
          },
          "metadata": {},
          "execution_count": 10
        }
      ]
    },
    {
      "cell_type": "markdown",
      "metadata": {
        "id": "o-ulIQfZNOar"
      },
      "source": [
        "## Set up SVM Model"
      ]
    },
    {
      "cell_type": "code",
      "execution_count": 10,
      "metadata": {
        "id": "ht76lcUXUURm"
      },
      "outputs": [],
      "source": [
        "def load_subject_data(subj_paths,subject_ids,idx,dopsc,mask,mask_labels_indices,binary_labels,label_type):\n",
        "  \"\"\"\n",
        "    Function to load indivdual subject data. Calls masking data which is in utils.py\n",
        "    Params:\n",
        "      subj_paths  :paths to subject data\n",
        "      subject_ids :list of subjects\n",
        "      idx   : index of current subject\n",
        "      dopsc : If True, do percent signal change before returning user_data_dict\n",
        "      mask  : mask to use on subject\n",
        "      mask_labels_indices : indices of brain volumes we want to keep (aligning to increase/decrease)\n",
        "      binary_labels: labels of increase/decrease to append to user dictionary\n",
        "      label_type: type of label we are applying\n",
        "    returns: user data dictionary that contains all four runs masked to just keep voxels of interest along with labels\n",
        "               along with the subjects id\n",
        "  \"\"\"\n",
        "  mat_path = subj_paths[idx] #get raw data path\n",
        "  sub_id = subject_ids[idx] #get subject id\n",
        "  data = access_load_data(mat_path,True) #call function to load data and return a dictionary. We are loading .mat files so need to set second param to True\n",
        "  user_data_dict = {} #create empty dict\n",
        "  user_data_dict[sub_id], bi_lb = masking_data(data, mask, mask_labels_indices, binary_labels, dopsc) #call function to mask the data and do normalization if desired\n",
        "  user_data_dict[f\"{sub_id}_{label_type}\"] = bi_lb #set the binary labels for our data (0 = decrease,1=increase)\n",
        "  return user_data_dict,sub_id"
      ]
    },
    {
      "cell_type": "code",
      "execution_count": 11,
      "metadata": {
        "id": "k5fhMjF0AKD0"
      },
      "outputs": [],
      "source": [
        "def scale_data_single_subj(sub_data,sub_labels, runs_train,runs_test,norm):\n",
        "  \"\"\"\n",
        "    Function to scale data. Flexible to accomadate multiple different schemas to test which normalization is best.\n",
        "      sub_data     : (1 subject data, keys as subject ID for frmi data or labels)\n",
        "      sub_labels   : sub_labels to indicate which row of the sub_data belongs to increase/decrease state\n",
        "      runs_train   : tuple , (which run are we using for the training data)\n",
        "                            If runs_test = 1, there will be no X_val, y_val\n",
        "      runs_test    : tuple, (which run are we using for the test data)\n",
        "      norm         : string, (\"RUNS\": normalizing separately on each run;\n",
        "                              \"SUBJECT\": Normalizing separately by each subject)\n",
        "      returns      : nd.arrays, Concatenated X data of (time points, x*y*z) x = 79, y = 95, z = 75\n",
        "                    and Concatenated y labels of (time points,)\n",
        "    \"\"\"\n",
        "\n",
        "  # train and labels\n",
        "  X = []\n",
        "  y = []\n",
        "  ##val and labels\n",
        "  Xv = []\n",
        "  yv = []\n",
        "  # TEST and labels\n",
        "  Xt = []\n",
        "  yt = []\n",
        "  ## decide how to concatenate runs\n",
        "  if len(runs_train)>1:\n",
        "      for run in runs_train:\n",
        "        X.append(sub_data[run])\n",
        "        y.append(sub_labels[run])\n",
        "      \n",
        "      X = np.concatenate(np.array(X))\n",
        "      y = np.concatenate(np.array(y))\n",
        "  else:\n",
        "      X = sub_data[runs_train[0]-1]\n",
        "      y = sub_labels[runs_train[0]-1]\n",
        "  if len(runs_test)> 1:\n",
        "      Xv = sub_data[runs_test[0]-1]\n",
        "      yv = sub_labels[runs_test[0]-1]\n",
        "      Xt = sub_data[runs_test[1]-1]\n",
        "      yt = sub_labels[runs_test[1]-1]\n",
        "  else:\n",
        "      Xt = sub_data[runs_test[0]-1]\n",
        "      yt = sub_labels[runs_test[0]-1]\n",
        "  ##run standardization\n",
        "  if norm == \"RUNS\":\n",
        "      scalar = StandardScaler()\n",
        "      X = scalar.fit_transform(X)\n",
        "      scalarT = StandardScaler()\n",
        "      Xt = scalarT.fit_transform(Xt)\n",
        "      if len(Xv)>0:\n",
        "        Xv = scalarT.fit_transform(Xv)\n",
        "  elif norm == \"SUBJECT\":\n",
        "      scalar = StandardScaler().fit(X)\n",
        "      X = scalar.transform(X)\n",
        "      \n",
        "\n",
        "      Xt = scalar.transform(Xt)\n",
        "      if len(Xv)>0:\n",
        "        Xv = scalar.transform(Xv)\n",
        "  else:\n",
        "      print('Not doing standardization')      \n",
        "  return X, y, Xt, yt, Xv, yv"
      ]
    },
    {
      "cell_type": "code",
      "execution_count": 12,
      "metadata": {
        "id": "OAtPV7sKNyhc"
      },
      "outputs": [],
      "source": [
        "def run_single_subject_svm(sub_data,sub_labels,runs_train,runs_test,norm=\"none\",do_cv=False):\n",
        "  \"\"\"\n",
        "    Function to run cross-validation or single subject SVM\n",
        "      Params:\n",
        "        sub_data     : (1 subject data, keys as subject ID for frmi data or labels)\n",
        "        sub_labels   : sub_labels to indicate which row of the sub_data belongs to increase/decrease state\n",
        "        runs_train   : tuple , (which run are we using for the training data)\n",
        "                              If runs_test = 1, there will be no X_val, y_val\n",
        "        runs_test    : tuple, (which run are we using for the test data)\n",
        "        norm         : string, (\"RUNS\": normalizing separately on each run;\n",
        "                                \"SUBJECT\": Normalizing separately by each subject\n",
        "                                \"none: no normalization will be done)\n",
        "        do_cv:       : If True, run cross-validation\n",
        "      returns: subject individual model, Training data/labels, Val data/labels, Test data/labels\n",
        "  \"\"\"\n",
        "  \n",
        "  #get scaled data\n",
        "  X_train, y_train, X_test, y_test, X_val, y_val = scale_data_single_subj(sub_data,sub_labels,runs_train,runs_test,norm)\n",
        "  #run cv if do_cv = True, else run individual model SVM\n",
        "  if do_cv:\n",
        "    c_params = {'C':[0.7, 1, 5, 10],'kernel':['linear', 'rbf']}\n",
        "    svc = SVC()\n",
        "    clf = GridSearchCV(svc, c_params)\n",
        "    clf.fit(X_train, y_train)\n",
        "    return clf\n",
        "  else:\n",
        "    clf = SVC(C=10)\n",
        "    clf.fit(X_train,y_train)\n",
        "\n",
        "  return clf,X_train,y_train,X_test,y_test,X_val,y_val"
      ]
    },
    {
      "cell_type": "code",
      "source": [
        "def get_accuracy_scores(model_dict,subj,normalization_by,normalization_type):\n",
        "  \"\"\"\n",
        "    Function to get accuracy scores for subject models.\n",
        "    Params:\n",
        "      model_dict: contains subject model and training/test/val/data\n",
        "      subj: subject name \n",
        "      normalization_by: options:'RUNS','SUBJECT','none' how are we doing normalization\n",
        "      normalization_type: options: 'PSC','ZNORM','none' what type of normalizatin\n",
        "    returns: subj_list, list of subject metrics\n",
        "  \"\"\"\n",
        "  clf = model_dict[subj]['model'] #get subject model\n",
        "  X_train = model_dict[subj]['X_train'] #get train data\n",
        "  y_train = model_dict[subj]['y_train'] #get train labels\n",
        "  X_test = model_dict[subj]['X_test']  #get test data\n",
        "  y_test = model_dict[subj]['y_test'] #get test labels\n",
        "  if 'X_val' in model_dict[subj].keys(): #if validation data\n",
        "    X_val = model_dict[subj]['X_val'] #get val data\n",
        "    y_val = model_dict[subj]['y_val'] #get val labels\n",
        "    y_val_predicts = clf.predict(X_val) #predict val\n",
        "    val_acc = accuracy_score(y_val,y_val_predicts) #get acc\n",
        "    val_precision = precision_score(y_val,y_val_predicts) #get precision\n",
        "    val_recall = recall_score(y_val,y_val_predicts) #get recall\n",
        "    val_f1 = f1_score(y_val,y_val_predicts) #get f1\n",
        "  else:\n",
        "    y_val_predicts = 0 #empty if val doesn't exist\n",
        "    val_acc = 0\n",
        "  train_predicts = clf.predict(X_train) #predict train\n",
        "  y_test_predicts = clf.predict(X_test) #predict test\n",
        "  tr_acc = accuracy_score(y_train,train_predicts)   #train acc\n",
        "  test_acc = accuracy_score(y_test,y_test_predicts) #test acc\n",
        "  test_precision = precision_score(y_test,y_test_predicts) #get precision\n",
        "  test_recall = recall_score(y_test,y_test_predicts) #get recall\n",
        "  test_f1 = f1_score(y_test,y_test_predicts) #get f1\n",
        "  subj_list = [subj,tr_acc,val_acc,val_precision,val_recall,val_f1, test_acc,test_precision,test_recall,test_f1,normalization_by,normalization_type] #add metrics to subj_list\n",
        "  return subj_list"
      ],
      "metadata": {
        "id": "S3t6sabUCRv4"
      },
      "execution_count": 13,
      "outputs": []
    },
    {
      "cell_type": "code",
      "execution_count": 14,
      "metadata": {
        "id": "cUIIWq3GsvNb"
      },
      "outputs": [],
      "source": [
        "\n",
        "def run_subject_model(data_path_dict,path,file_name,runs_train,runs_test,mask_type,mask_ind,do_psc=True,norm='none',normtype='none'):\n",
        "  \"\"\"\n",
        "    Function loops over subjects to grap data,scale,data,and run the SVM.\n",
        "      data_path_dict  : dictionary containing paths to all data stored on AWS\n",
        "      path : path to save pickle files. NOTE: If run on all subjects, this will take up about 20 GB\n",
        "      file_name : name of file to prepend to subject id\n",
        "      runs_train: what runs do we want to train on\n",
        "      runs_test: what runs do we want to test on\n",
        "      mask_type: which type of brain mask do we want to apply\n",
        "      mask_ind: to distinguish between ROI regions of masking(1) and full brain(or full_brain minus ROIs)(0)\n",
        "      do_psc: do we want to apply Percent Signal Change normalization. Default = True,\n",
        "      norm: Takes three parameters: none(no normalization will be applied),\"SUBJECT\"(apply normalization per subject)\n",
        "            \"RUNS\"(apply normalization per run separately)\n",
        "  \"\"\"\n",
        "  pic_list = ['10047_09030','30017_09567'] #who to save pickle file for\n",
        "  pic_files = [] #empty list to add path of pickle file\n",
        "  #get subject information\n",
        "  sub_acc = []\n",
        "  subject_ids,subj_paths = get_subj_information(data_path_dict)\n",
        "  #get mask labels to only retrieve time series we care about\n",
        "  mask_labels_indices,binary_labels,label_type = get_labels(data_path_dict)\n",
        "  #get mask to mask out voxels we don't need\n",
        "  mask = get_mask(mask_type,data_path_dict,mask_ind)\n",
        "  #loop over subjects\n",
        "  for idx in range(len(subject_ids)):\n",
        "    model_dict = {} #create empty model dictionary per subject \n",
        "    #get raw run data for a subject and their subject id\n",
        "    user_data_dict, sub_id = load_subject_data(subj_paths,subject_ids,idx,do_psc,mask,mask_labels_indices,binary_labels,label_type)\n",
        "    sub_data = user_data_dict[sub_id] #get raw data\n",
        "    sub_labels = user_data_dict[f\"{sub_id}_rt_labels\"] #get labels (these were labels that were already masked)\n",
        "    #run single subject SVM and get data\n",
        "    clf,X_train, y_train, X_test, y_test, X_val, y_val = run_single_subject_svm(sub_data,sub_labels,runs_train,runs_test,norm)\n",
        "    model_dict[sub_id] = {} #create empty dictionary under subject\n",
        "    #add data to dictionary\n",
        "    model_dict[sub_id]['model'] = clf\n",
        "    model_dict[sub_id]['X_train'] = X_train\n",
        "    model_dict[sub_id]['y_train'] = y_train\n",
        "    model_dict[sub_id]['X_test'] = X_test\n",
        "    model_dict[sub_id]['y_test'] = y_test\n",
        "    #add validation data if collected\n",
        "    if len(X_val)>0:\n",
        "      model_dict[sub_id]['X_val'] = X_val\n",
        "      model_dict[sub_id]['y_val'] = y_val\n",
        "    #get accuracy scores\n",
        "    sub_accuracy = get_accuracy_scores(model_dict,sub_id,norm,normtype)\n",
        "    sub_acc.append(sub_accuracy) #append to master subject accuracy list\n",
        "    #only save two pickle files for visualization\n",
        "    if sub_id in pic_list:\n",
        "      sub_destination_path = f'{path}{file_name}_{sub_id}.pkl' #path to save file\n",
        "      pic_files.append(sub_destination_path) #append to pic_files\n",
        "      #save file\n",
        "      filehandler = open(sub_destination_path,\"wb\")\n",
        "      pickle.dump(model_dict,filehandler)\n",
        "      filehandler.close()\n",
        "    \n",
        "  #   single_model_path[sub_id] = destination_path\n",
        "  #   object_name = destination_path\n",
        "  #   upload = s3_upload(model_dict,object_name,\"pickle\")\n",
        "  # object_name = f'{path}{mask_type}_data_path_dict.pkl'\n",
        "  # upload = s3_upload(model_dict,object_name,\"pickle\")\n",
        "  destination_path = f'{path}{file_name}.csv' #path for metrics\n",
        "  #create dataframe of all metrics\n",
        "  sub_acc_df = pd.DataFrame(sub_acc, columns = [\"Subject\",\"TrainAcc\",\"ValAcc\",\"ValAUC\",\"ValPrecision\",\"ValRecall\",\"ValF1\",\n",
        "                                                 \"TestAcc\",\"TestAUC\",\"TestPrecision\",\"TestRecall\",\"TestF1\",\"NormBy\",\"NormType\"])\n",
        "  sub_acc_df.to_csv(destination_path) #save data frame\n",
        "  return destination_path,pic_files"
      ]
    },
    {
      "cell_type": "code",
      "source": [
        "csv_paths = [] #create empty path list"
      ],
      "metadata": {
        "id": "rjlvtCWAMJAz"
      },
      "execution_count": null,
      "outputs": []
    },
    {
      "cell_type": "code",
      "execution_count": null,
      "metadata": {
        "id": "iCwlDG3wM7H0"
      },
      "outputs": [],
      "source": [
        "###cell to run single svm pipeline\n",
        "save_data_path = '/content/drive/My Drive/data/dataexploration/' ##file path to save data\n",
        "file_name = 'NoNORM_run_2_t_3_4' ## name of file to save\n",
        "file_path,sub_files = run_subject_model(data_path_dict,save_data_path,file_name,(2,),(3,4),'mask',0,do_psc=False,norm='none',normtype='NONORM') #run model\n",
        "csv_paths.append([file_path]) #add to path list\n",
        "csv_paths.append(sub_files) #add to path list"
      ]
    },
    {
      "cell_type": "code",
      "source": [
        "csv_path_df = pd.DataFrame(csv_paths,columns=['metric_scores','pickle_files']) #make path df \n",
        "csv_path_df.to_csv(f'{save_data_path}paths_to_metrics_pickle.csv') # save file"
      ],
      "metadata": {
        "id": "TRgdQ6t53j-w"
      },
      "execution_count": null,
      "outputs": []
    },
    {
      "cell_type": "code",
      "execution_count": 23,
      "metadata": {
        "id": "m41fuwsALmlH"
      },
      "outputs": [],
      "source": [
        "def run_subject_model_cv(data_path_dict, destination_path, runs_train, runs_test, mask_type, mask_ind, do_psc=True, norm='none'):\n",
        "  \"\"\"\n",
        "    Function to run cross validation for data. Note: takes 2 hours to run on all subjects.\n",
        "    Params:\n",
        "      data_path_dict  : dictionary containing paths to all data stored on AWS\n",
        "      path : path to save pickle files. NOTE: If run on all subjects, this will take up about 20 GB\n",
        "      file_name : name of file to prepend to subject id\n",
        "      runs_train: what runs do we want to train on\n",
        "      runs_test: what runs do we want to test on\n",
        "      mask_type: which type of brain mask do we want to apply\n",
        "      mask_ind: to distinguish between ROI regions of masking(1) and full brain(or full_brain minus ROIs)(0)\n",
        "      do_psc: do we want to apply Percent Signal Change normalization. Default = True,\n",
        "      norm: Takes three parameters: none(no normalization will be applied),\"SUBJECT\"(apply normalization per subject)\n",
        "            \"RUNS\"(apply normalization per run separately)\n",
        "  Returns: cv_dict, a dictionary that holds cv results\n",
        "  \"\"\"\n",
        "\n",
        "  cv_dict = {}\n",
        "  subject_ids,subj_paths = get_subj_information(data_path_dict)\n",
        "  subject_ids,subj_paths = get_subj_information(data_path_dict)\n",
        "  mask_labels_indices,binary_labels,label_type = get_labels(data_path_dict)\n",
        "  mask = get_mask(mask_type,data_path_dict,mask_ind)\n",
        "  for idx in range(len(subject_ids)):\n",
        "    model_dict = {}\n",
        "    user_data_dict, sub_id = load_subject_data(subj_paths,subject_ids,idx,do_psc,mask,mask_labels_indices,binary_labels,label_type)\n",
        "    sub_data = user_data_dict[sub_id]\n",
        "    sub_labels = user_data_dict[f\"{sub_id}_rt_labels\"]\n",
        "    clf = run_single_subject_svm(sub_data,sub_labels,runs_train,runs_test,norm,do_cv=True)\n",
        "    cv_dict[sub_id] = {}\n",
        "    cv_dict[sub_id]['model'] = clf\n",
        "  filehandler = open(destination_path,\"wb\")\n",
        "  pickle.dump(cv_dict,filehandler)\n",
        "  filehandler.close() \n",
        "  return cv_dict"
      ]
    },
    {
      "cell_type": "code",
      "source": [
        "save_data_path = '/content/drive/My Drive/data/dataexploration/'\n",
        "cv_results = run_subject_model_cv(data_path_dict, save_data_path, (2,), (3,4), 'mask', 0, do_psc=False, norm='RUNS')"
      ],
      "metadata": {
        "id": "8mTSbgo41nl0",
        "colab": {
          "base_uri": "https://localhost:8080/"
        },
        "outputId": "c79095ad-7ae2-47e7-bacc-46e87aeb790d"
      },
      "execution_count": null,
      "outputs": [
        {
          "output_type": "stream",
          "name": "stderr",
          "text": [
            "100%|██████████| 4/4 [00:00<00:00,  5.03it/s]\n",
            "100%|██████████| 4/4 [00:00<00:00,  5.23it/s]\n",
            "100%|██████████| 4/4 [00:00<00:00,  4.52it/s]\n",
            "100%|██████████| 4/4 [00:00<00:00,  4.41it/s]\n",
            "100%|██████████| 4/4 [00:01<00:00,  3.74it/s]\n",
            "100%|██████████| 4/4 [00:00<00:00,  4.16it/s]\n",
            "100%|██████████| 4/4 [00:01<00:00,  3.78it/s]\n",
            "100%|██████████| 4/4 [00:00<00:00,  4.52it/s]\n",
            "100%|██████████| 4/4 [00:01<00:00,  3.71it/s]\n",
            "100%|██████████| 4/4 [00:00<00:00,  5.33it/s]\n",
            "100%|██████████| 4/4 [00:00<00:00,  4.45it/s]\n",
            "100%|██████████| 4/4 [00:00<00:00,  5.21it/s]\n",
            "100%|██████████| 4/4 [00:00<00:00,  5.12it/s]\n",
            "100%|██████████| 4/4 [00:00<00:00,  4.81it/s]\n",
            "100%|██████████| 4/4 [00:00<00:00,  4.72it/s]\n",
            "100%|██████████| 4/4 [00:00<00:00,  5.17it/s]\n",
            "100%|██████████| 4/4 [00:00<00:00,  4.94it/s]\n",
            "100%|██████████| 4/4 [00:00<00:00,  4.90it/s]\n",
            "100%|██████████| 4/4 [00:00<00:00,  4.87it/s]\n",
            "100%|██████████| 4/4 [00:01<00:00,  3.73it/s]\n",
            "100%|██████████| 4/4 [00:00<00:00,  4.26it/s]\n",
            "100%|██████████| 4/4 [00:00<00:00,  4.11it/s]\n",
            "100%|██████████| 4/4 [00:00<00:00,  4.89it/s]\n",
            "100%|██████████| 4/4 [00:00<00:00,  4.31it/s]\n",
            "100%|██████████| 4/4 [00:00<00:00,  4.40it/s]\n",
            "100%|██████████| 4/4 [00:00<00:00,  4.09it/s]\n",
            "100%|██████████| 4/4 [00:00<00:00,  4.90it/s]\n",
            "100%|██████████| 4/4 [00:01<00:00,  3.95it/s]\n",
            "100%|██████████| 4/4 [00:00<00:00,  4.28it/s]\n",
            "100%|██████████| 4/4 [00:00<00:00,  5.13it/s]\n",
            "100%|██████████| 4/4 [00:00<00:00,  5.41it/s]\n",
            "100%|██████████| 4/4 [00:00<00:00,  4.47it/s]\n",
            "100%|██████████| 4/4 [00:00<00:00,  4.64it/s]\n",
            "100%|██████████| 4/4 [00:00<00:00,  4.52it/s]\n",
            "100%|██████████| 4/4 [00:00<00:00,  4.45it/s]\n",
            "100%|██████████| 4/4 [00:00<00:00,  4.59it/s]\n",
            "100%|██████████| 4/4 [00:00<00:00,  4.22it/s]\n",
            "100%|██████████| 4/4 [00:00<00:00,  4.18it/s]\n",
            "100%|██████████| 4/4 [00:00<00:00,  4.26it/s]\n"
          ]
        }
      ]
    }
  ],
  "metadata": {
    "colab": {
      "collapsed_sections": [],
      "machine_shape": "hm",
      "name": "DataExploration_SingleSubj",
      "provenance": [],
      "include_colab_link": true
    },
    "kernelspec": {
      "display_name": "Python 3",
      "name": "python3"
    },
    "language_info": {
      "name": "python"
    }
  },
  "nbformat": 4,
  "nbformat_minor": 0
}