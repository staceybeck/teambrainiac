{
  "nbformat": 4,
  "nbformat_minor": 0,
  "metadata": {
    "colab": {
      "name": "Group_charts.ipynb",
      "provenance": [],
      "machine_shape": "hm",
      "authorship_tag": "ABX9TyM0llG4j0eh1LyUyUhX8bBA",
      "include_colab_link": true
    },
    "kernelspec": {
      "name": "python3",
      "display_name": "Python 3"
    },
    "language_info": {
      "name": "python"
    }
  },
  "cells": [
    {
      "cell_type": "markdown",
      "metadata": {
        "id": "view-in-github",
        "colab_type": "text"
      },
      "source": [
        "<a href=\"https://colab.research.google.com/github/yecatstevir/teambrainiac/blob/main/source/Group_charts.ipynb\" target=\"_parent\"><img src=\"https://colab.research.google.com/assets/colab-badge.svg\" alt=\"Open In Colab\"/></a>"
      ]
    },
    {
      "cell_type": "markdown",
      "source": [
        "## MASK YOUNG ADULT and ADOLESCENT"
      ],
      "metadata": {
        "id": "xr-dpbq56--p"
      }
    },
    {
      "cell_type": "code",
      "execution_count": 4,
      "metadata": {
        "colab": {
          "resources": {
            "http://localhost:8080/nbextensions/google.colab/files.js": {
              "data": "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",
              "ok": true,
              "headers": [
                [
                  "content-type",
                  "application/javascript"
                ]
              ],
              "status": 200,
              "status_text": ""
            }
          },
          "base_uri": "https://localhost:8080/",
          "height": 507
        },
        "id": "zi9BWV2062Jy",
        "outputId": "fa6ccd3d-ae06-49e8-c384-55fac455521d"
      },
      "outputs": [
        {
          "output_type": "stream",
          "name": "stdout",
          "text": [
            "Drive already mounted at /content/gdrive; to attempt to forcibly remount, call drive.mount(\"/content/gdrive\", force_remount=True).\n",
            "Cloning into 'teambrainiac'...\n",
            "warning: --local is ignored\n",
            "remote: Enumerating objects: 1059, done.\u001b[K\n",
            "remote: Counting objects: 100% (1059/1059), done.\u001b[K\n",
            "remote: Compressing objects: 100% (813/813), done.\u001b[K\n",
            "remote: Total 1059 (delta 666), reused 463 (delta 230), pack-reused 0\u001b[K\n",
            "Receiving objects: 100% (1059/1059), 82.74 MiB | 29.62 MiB/s, done.\n",
            "Resolving deltas: 100% (666/666), done.\n",
            "/content/teambrainiac/source/teambrainiac/source\n",
            "access_data.py\t\t\t  models\n",
            "AccuracyMeasures.ipynb\t\t  process.py\n",
            "analysis.py\t\t\t  SingleSubjectSVM.ipynb\n",
            "cross_validation.py\t\t  SubjectVisualization_Models_ZNORM.ipynb\n",
            "data\t\t\t\t  SVM_Group_Adolescent_Whole_brain.ipynb\n",
            "DataExploration_SingleSubj.ipynb  SVM_Group_YA_Whole_brain.ipynb\n",
            "DataExplorationVisuals.ipynb\t  TestMask.ipynb\n",
            "DL\t\t\t\t  Timeseries_Cross_Validation.ipynb\n",
            "Explore_data.ipynb\t\t  train.py\n",
            "Group_All_MASK_SVM.ipynb\t  utils.py\n",
            "Group_charts.ipynb\t\t  VisualizationPlayground.ipynb\n",
            "helper\t\t\t\t  Visualize_Data.ipynb\n",
            "Images\t\t\t\t  visualize.py\n",
            "__init__.py\n"
          ]
        },
        {
          "output_type": "display_data",
          "data": {
            "text/plain": [
              "<IPython.core.display.HTML object>"
            ],
            "text/html": [
              "\n",
              "     <input type=\"file\" id=\"files-63b44b3c-bde6-47f2-852b-8ac8426a9296\" name=\"files[]\" multiple disabled\n",
              "        style=\"border:none\" />\n",
              "     <output id=\"result-63b44b3c-bde6-47f2-852b-8ac8426a9296\">\n",
              "      Upload widget is only available when the cell has been executed in the\n",
              "      current browser session. Please rerun this cell to enable.\n",
              "      </output>\n",
              "      <script src=\"/nbextensions/google.colab/files.js\"></script> "
            ]
          },
          "metadata": {}
        },
        {
          "output_type": "stream",
          "name": "stdout",
          "text": [
            "Saving path_config.py to path_config.py\n",
            "User uploaded file \"path_config.py\" with length 228 bytes\n"
          ]
        }
      ],
      "source": [
        "from google.colab import drive, files\n",
        "drive.mount('/content/gdrive')#, force_remount = True)\n",
        "\n",
        "# Clone the entire repo.\n",
        "!git clone -l -s https://github.com/yecatstevir/teambrainiac.git\n",
        "# Change directory into cloned repo\n",
        "%cd teambrainiac/source\n",
        "!ls\n",
        "\n",
        "\n",
        "uploaded = files.upload()\n",
        "for fn in uploaded.keys():\n",
        "  print('User uploaded file \"{name}\" with length {length} bytes'.format(\n",
        "      name=fn, length=len(uploaded[fn])))"
      ]
    },
    {
      "cell_type": "code",
      "source": [
        "# Import libraries\n",
        "!pip install boto3 nilearn\n",
        "import pickle\n",
        "from process import *\n",
        "from access_data import *\n",
        "\n",
        "from sklearn.svm import SVC\n",
        "import numpy as np\n",
        "from collections import defaultdict\n",
        "import nibabel as nib\n",
        "from nilearn import plotting\n",
        "import matplotlib.pyplot as plt\n",
        "import pandas as pd"
      ],
      "metadata": {
        "id": "S-F4jfoO7GCK",
        "colab": {
          "base_uri": "https://localhost:8080/",
          "height": 885
        },
        "outputId": "99ab6696-9f33-438b-d62c-071769d5a063"
      },
      "execution_count": 6,
      "outputs": [
        {
          "output_type": "stream",
          "name": "stdout",
          "text": [
            "Requirement already satisfied: boto3 in /usr/local/lib/python3.7/dist-packages (1.21.40)\n",
            "Requirement already satisfied: nilearn in /usr/local/lib/python3.7/dist-packages (0.9.1)\n",
            "Requirement already satisfied: jmespath<2.0.0,>=0.7.1 in /usr/local/lib/python3.7/dist-packages (from boto3) (1.0.0)\n",
            "Requirement already satisfied: botocore<1.25.0,>=1.24.40 in /usr/local/lib/python3.7/dist-packages (from boto3) (1.24.40)\n",
            "Requirement already satisfied: s3transfer<0.6.0,>=0.5.0 in /usr/local/lib/python3.7/dist-packages (from boto3) (0.5.2)\n",
            "Requirement already satisfied: python-dateutil<3.0.0,>=2.1 in /usr/local/lib/python3.7/dist-packages (from botocore<1.25.0,>=1.24.40->boto3) (2.8.2)\n",
            "Requirement already satisfied: urllib3<1.27,>=1.25.4 in /usr/local/lib/python3.7/dist-packages (from botocore<1.25.0,>=1.24.40->boto3) (1.25.11)\n",
            "Requirement already satisfied: six>=1.5 in /usr/local/lib/python3.7/dist-packages (from python-dateutil<3.0.0,>=2.1->botocore<1.25.0,>=1.24.40->boto3) (1.15.0)\n",
            "Requirement already satisfied: numpy>=1.18 in /usr/local/lib/python3.7/dist-packages (from nilearn) (1.21.5)\n",
            "Requirement already satisfied: nibabel>=3.0.0 in /usr/local/lib/python3.7/dist-packages (from nilearn) (3.0.2)\n",
            "Requirement already satisfied: lxml in /usr/local/lib/python3.7/dist-packages (from nilearn) (4.2.6)\n",
            "Requirement already satisfied: joblib>=0.15 in /usr/local/lib/python3.7/dist-packages (from nilearn) (1.1.0)\n",
            "Requirement already satisfied: pandas>=1.0 in /usr/local/lib/python3.7/dist-packages (from nilearn) (1.3.5)\n",
            "Requirement already satisfied: scipy>=1.5 in /usr/local/lib/python3.7/dist-packages (from nilearn) (1.7.3)\n",
            "Requirement already satisfied: requests>=2 in /usr/local/lib/python3.7/dist-packages (from nilearn) (2.23.0)\n",
            "Requirement already satisfied: scikit-learn>=0.22 in /usr/local/lib/python3.7/dist-packages (from nilearn) (1.0.2)\n",
            "Requirement already satisfied: pytz>=2017.3 in /usr/local/lib/python3.7/dist-packages (from pandas>=1.0->nilearn) (2018.9)\n",
            "Requirement already satisfied: idna<3,>=2.5 in /usr/local/lib/python3.7/dist-packages (from requests>=2->nilearn) (2.10)\n",
            "Requirement already satisfied: certifi>=2017.4.17 in /usr/local/lib/python3.7/dist-packages (from requests>=2->nilearn) (2021.10.8)\n",
            "Requirement already satisfied: chardet<4,>=3.0.2 in /usr/local/lib/python3.7/dist-packages (from requests>=2->nilearn) (3.0.4)\n",
            "Requirement already satisfied: threadpoolctl>=2.0.0 in /usr/local/lib/python3.7/dist-packages (from scikit-learn>=0.22->nilearn) (3.1.0)\n"
          ]
        },
        {
          "output_type": "error",
          "ename": "ImportError",
          "evalue": "ignored",
          "traceback": [
            "\u001b[0;31m---------------------------------------------------------------------------\u001b[0m",
            "\u001b[0;31mImportError\u001b[0m                               Traceback (most recent call last)",
            "\u001b[0;32m<ipython-input-6-be71431004c7>\u001b[0m in \u001b[0;36m<module>\u001b[0;34m()\u001b[0m\n\u001b[1;32m      2\u001b[0m \u001b[0mget_ipython\u001b[0m\u001b[0;34m(\u001b[0m\u001b[0;34m)\u001b[0m\u001b[0;34m.\u001b[0m\u001b[0msystem\u001b[0m\u001b[0;34m(\u001b[0m\u001b[0;34m'pip install boto3 nilearn'\u001b[0m\u001b[0;34m)\u001b[0m\u001b[0;34m\u001b[0m\u001b[0;34m\u001b[0m\u001b[0m\n\u001b[1;32m      3\u001b[0m \u001b[0;32mimport\u001b[0m \u001b[0mpickle\u001b[0m\u001b[0;34m\u001b[0m\u001b[0;34m\u001b[0m\u001b[0m\n\u001b[0;32m----> 4\u001b[0;31m \u001b[0;32mfrom\u001b[0m \u001b[0mprocess\u001b[0m \u001b[0;32mimport\u001b[0m \u001b[0;34m*\u001b[0m\u001b[0;34m\u001b[0m\u001b[0;34m\u001b[0m\u001b[0m\n\u001b[0m\u001b[1;32m      5\u001b[0m \u001b[0;32mfrom\u001b[0m \u001b[0maccess_data\u001b[0m \u001b[0;32mimport\u001b[0m \u001b[0;34m*\u001b[0m\u001b[0;34m\u001b[0m\u001b[0;34m\u001b[0m\u001b[0m\n\u001b[1;32m      6\u001b[0m \u001b[0;34m\u001b[0m\u001b[0m\n",
            "\u001b[0;32m/content/teambrainiac/source/teambrainiac/source/process.py\u001b[0m in \u001b[0;36m<module>\u001b[0;34m()\u001b[0m\n\u001b[1;32m     10\u001b[0m \u001b[0;34m\u001b[0m\u001b[0m\n\u001b[1;32m     11\u001b[0m \u001b[0;34m\u001b[0m\u001b[0m\n\u001b[0;32m---> 12\u001b[0;31m \u001b[0;32mfrom\u001b[0m \u001b[0maccess_data\u001b[0m \u001b[0;32mimport\u001b[0m \u001b[0maccess_load_data\u001b[0m\u001b[0;34m\u001b[0m\u001b[0;34m\u001b[0m\u001b[0m\n\u001b[0m\u001b[1;32m     13\u001b[0m \u001b[0;32mimport\u001b[0m \u001b[0mtqdm\u001b[0m\u001b[0;34m\u001b[0m\u001b[0;34m\u001b[0m\u001b[0m\n\u001b[1;32m     14\u001b[0m \u001b[0;32mfrom\u001b[0m \u001b[0mnilearn\u001b[0m\u001b[0;34m.\u001b[0m\u001b[0msignal\u001b[0m \u001b[0;32mimport\u001b[0m \u001b[0mclean\u001b[0m\u001b[0;34m\u001b[0m\u001b[0;34m\u001b[0m\u001b[0m\n",
            "\u001b[0;32m/content/teambrainiac/source/teambrainiac/source/access_data.py\u001b[0m in \u001b[0;36m<module>\u001b[0;34m()\u001b[0m\n\u001b[1;32m     18\u001b[0m \u001b[0;32mimport\u001b[0m \u001b[0mpandas\u001b[0m \u001b[0;32mas\u001b[0m \u001b[0mpd\u001b[0m\u001b[0;34m\u001b[0m\u001b[0;34m\u001b[0m\u001b[0m\n\u001b[1;32m     19\u001b[0m \u001b[0;32mfrom\u001b[0m \u001b[0mpath_config\u001b[0m \u001b[0;32mimport\u001b[0m \u001b[0mmat_path\u001b[0m\u001b[0;34m\u001b[0m\u001b[0;34m\u001b[0m\u001b[0m\n\u001b[0;32m---> 20\u001b[0;31m \u001b[0;32mimport\u001b[0m \u001b[0mboto3\u001b[0m\u001b[0;34m\u001b[0m\u001b[0;34m\u001b[0m\u001b[0m\n\u001b[0m\u001b[1;32m     21\u001b[0m \u001b[0;32mimport\u001b[0m \u001b[0mtempfile\u001b[0m\u001b[0;34m\u001b[0m\u001b[0;34m\u001b[0m\u001b[0m\n\u001b[1;32m     22\u001b[0m \u001b[0;32mfrom\u001b[0m \u001b[0mbotocore\u001b[0m\u001b[0;34m.\u001b[0m\u001b[0mexceptions\u001b[0m \u001b[0;32mimport\u001b[0m \u001b[0mClientError\u001b[0m\u001b[0;34m\u001b[0m\u001b[0;34m\u001b[0m\u001b[0m\n",
            "\u001b[0;32m/usr/local/lib/python3.7/dist-packages/boto3/__init__.py\u001b[0m in \u001b[0;36m<module>\u001b[0;34m()\u001b[0m\n\u001b[1;32m     15\u001b[0m \u001b[0;34m\u001b[0m\u001b[0m\n\u001b[1;32m     16\u001b[0m \u001b[0;32mfrom\u001b[0m \u001b[0mboto3\u001b[0m\u001b[0;34m.\u001b[0m\u001b[0mcompat\u001b[0m \u001b[0;32mimport\u001b[0m \u001b[0m_warn_deprecated_python\u001b[0m\u001b[0;34m\u001b[0m\u001b[0;34m\u001b[0m\u001b[0m\n\u001b[0;32m---> 17\u001b[0;31m \u001b[0;32mfrom\u001b[0m \u001b[0mboto3\u001b[0m\u001b[0;34m.\u001b[0m\u001b[0msession\u001b[0m \u001b[0;32mimport\u001b[0m \u001b[0mSession\u001b[0m\u001b[0;34m\u001b[0m\u001b[0;34m\u001b[0m\u001b[0m\n\u001b[0m\u001b[1;32m     18\u001b[0m \u001b[0;34m\u001b[0m\u001b[0m\n\u001b[1;32m     19\u001b[0m \u001b[0m__author__\u001b[0m \u001b[0;34m=\u001b[0m \u001b[0;34m'Amazon Web Services'\u001b[0m\u001b[0;34m\u001b[0m\u001b[0;34m\u001b[0m\u001b[0m\n",
            "\u001b[0;32m/usr/local/lib/python3.7/dist-packages/boto3/session.py\u001b[0m in \u001b[0;36m<module>\u001b[0;34m()\u001b[0m\n\u001b[1;32m     15\u001b[0m \u001b[0;32mimport\u001b[0m \u001b[0mos\u001b[0m\u001b[0;34m\u001b[0m\u001b[0;34m\u001b[0m\u001b[0m\n\u001b[1;32m     16\u001b[0m \u001b[0;34m\u001b[0m\u001b[0m\n\u001b[0;32m---> 17\u001b[0;31m \u001b[0;32mimport\u001b[0m \u001b[0mbotocore\u001b[0m\u001b[0;34m.\u001b[0m\u001b[0msession\u001b[0m\u001b[0;34m\u001b[0m\u001b[0;34m\u001b[0m\u001b[0m\n\u001b[0m\u001b[1;32m     18\u001b[0m \u001b[0;32mfrom\u001b[0m \u001b[0mbotocore\u001b[0m\u001b[0;34m.\u001b[0m\u001b[0mclient\u001b[0m \u001b[0;32mimport\u001b[0m \u001b[0mConfig\u001b[0m\u001b[0;34m\u001b[0m\u001b[0;34m\u001b[0m\u001b[0m\n\u001b[1;32m     19\u001b[0m \u001b[0;32mfrom\u001b[0m \u001b[0mbotocore\u001b[0m\u001b[0;34m.\u001b[0m\u001b[0mexceptions\u001b[0m \u001b[0;32mimport\u001b[0m \u001b[0mDataNotFoundError\u001b[0m\u001b[0;34m,\u001b[0m \u001b[0mUnknownServiceError\u001b[0m\u001b[0;34m\u001b[0m\u001b[0;34m\u001b[0m\u001b[0m\n",
            "\u001b[0;32m/usr/local/lib/python3.7/dist-packages/botocore/session.py\u001b[0m in \u001b[0;36m<module>\u001b[0;34m()\u001b[0m\n\u001b[1;32m     24\u001b[0m \u001b[0;32mimport\u001b[0m \u001b[0mwarnings\u001b[0m\u001b[0;34m\u001b[0m\u001b[0;34m\u001b[0m\u001b[0m\n\u001b[1;32m     25\u001b[0m \u001b[0;34m\u001b[0m\u001b[0m\n\u001b[0;32m---> 26\u001b[0;31m \u001b[0;32mimport\u001b[0m \u001b[0mbotocore\u001b[0m\u001b[0;34m.\u001b[0m\u001b[0mclient\u001b[0m\u001b[0;34m\u001b[0m\u001b[0;34m\u001b[0m\u001b[0m\n\u001b[0m\u001b[1;32m     27\u001b[0m \u001b[0;32mimport\u001b[0m \u001b[0mbotocore\u001b[0m\u001b[0;34m.\u001b[0m\u001b[0mconfigloader\u001b[0m\u001b[0;34m\u001b[0m\u001b[0;34m\u001b[0m\u001b[0m\n\u001b[1;32m     28\u001b[0m \u001b[0;32mimport\u001b[0m \u001b[0mbotocore\u001b[0m\u001b[0;34m.\u001b[0m\u001b[0mcredentials\u001b[0m\u001b[0;34m\u001b[0m\u001b[0;34m\u001b[0m\u001b[0m\n",
            "\u001b[0;32m/usr/local/lib/python3.7/dist-packages/botocore/client.py\u001b[0m in \u001b[0;36m<module>\u001b[0;34m()\u001b[0m\n\u001b[1;32m     13\u001b[0m \u001b[0;32mimport\u001b[0m \u001b[0mlogging\u001b[0m\u001b[0;34m\u001b[0m\u001b[0;34m\u001b[0m\u001b[0m\n\u001b[1;32m     14\u001b[0m \u001b[0;34m\u001b[0m\u001b[0m\n\u001b[0;32m---> 15\u001b[0;31m \u001b[0;32mfrom\u001b[0m \u001b[0mbotocore\u001b[0m \u001b[0;32mimport\u001b[0m \u001b[0mwaiter\u001b[0m\u001b[0;34m,\u001b[0m \u001b[0mxform_name\u001b[0m\u001b[0;34m\u001b[0m\u001b[0;34m\u001b[0m\u001b[0m\n\u001b[0m\u001b[1;32m     16\u001b[0m \u001b[0;32mfrom\u001b[0m \u001b[0mbotocore\u001b[0m\u001b[0;34m.\u001b[0m\u001b[0margs\u001b[0m \u001b[0;32mimport\u001b[0m \u001b[0mClientArgsCreator\u001b[0m\u001b[0;34m\u001b[0m\u001b[0;34m\u001b[0m\u001b[0m\n\u001b[1;32m     17\u001b[0m \u001b[0;32mfrom\u001b[0m \u001b[0mbotocore\u001b[0m\u001b[0;34m.\u001b[0m\u001b[0mauth\u001b[0m \u001b[0;32mimport\u001b[0m \u001b[0mAUTH_TYPE_MAPS\u001b[0m\u001b[0;34m\u001b[0m\u001b[0;34m\u001b[0m\u001b[0m\n",
            "\u001b[0;32m/usr/local/lib/python3.7/dist-packages/botocore/waiter.py\u001b[0m in \u001b[0;36m<module>\u001b[0;34m()\u001b[0m\n\u001b[1;32m     16\u001b[0m \u001b[0;32mimport\u001b[0m \u001b[0mjmespath\u001b[0m\u001b[0;34m\u001b[0m\u001b[0;34m\u001b[0m\u001b[0m\n\u001b[1;32m     17\u001b[0m \u001b[0;34m\u001b[0m\u001b[0m\n\u001b[0;32m---> 18\u001b[0;31m \u001b[0;32mfrom\u001b[0m \u001b[0mbotocore\u001b[0m\u001b[0;34m.\u001b[0m\u001b[0mdocs\u001b[0m\u001b[0;34m.\u001b[0m\u001b[0mdocstring\u001b[0m \u001b[0;32mimport\u001b[0m \u001b[0mWaiterDocstring\u001b[0m\u001b[0;34m\u001b[0m\u001b[0;34m\u001b[0m\u001b[0m\n\u001b[0m\u001b[1;32m     19\u001b[0m \u001b[0;32mfrom\u001b[0m \u001b[0mbotocore\u001b[0m\u001b[0;34m.\u001b[0m\u001b[0mutils\u001b[0m \u001b[0;32mimport\u001b[0m \u001b[0mget_service_module_name\u001b[0m\u001b[0;34m\u001b[0m\u001b[0;34m\u001b[0m\u001b[0m\n\u001b[1;32m     20\u001b[0m \u001b[0;34m\u001b[0m\u001b[0m\n",
            "\u001b[0;32m/usr/local/lib/python3.7/dist-packages/botocore/docs/__init__.py\u001b[0m in \u001b[0;36m<module>\u001b[0;34m()\u001b[0m\n\u001b[1;32m     13\u001b[0m \u001b[0;32mimport\u001b[0m \u001b[0mos\u001b[0m\u001b[0;34m\u001b[0m\u001b[0;34m\u001b[0m\u001b[0m\n\u001b[1;32m     14\u001b[0m \u001b[0;34m\u001b[0m\u001b[0m\n\u001b[0;32m---> 15\u001b[0;31m \u001b[0;32mfrom\u001b[0m \u001b[0mbotocore\u001b[0m\u001b[0;34m.\u001b[0m\u001b[0mdocs\u001b[0m\u001b[0;34m.\u001b[0m\u001b[0mservice\u001b[0m \u001b[0;32mimport\u001b[0m \u001b[0mServiceDocumenter\u001b[0m\u001b[0;34m\u001b[0m\u001b[0;34m\u001b[0m\u001b[0m\n\u001b[0m\u001b[1;32m     16\u001b[0m \u001b[0;34m\u001b[0m\u001b[0m\n\u001b[1;32m     17\u001b[0m \u001b[0;34m\u001b[0m\u001b[0m\n",
            "\u001b[0;32m/usr/local/lib/python3.7/dist-packages/botocore/docs/service.py\u001b[0m in \u001b[0;36m<module>\u001b[0;34m()\u001b[0m\n\u001b[1;32m     12\u001b[0m \u001b[0;31m# language governing permissions and limitations under the License.\u001b[0m\u001b[0;34m\u001b[0m\u001b[0;34m\u001b[0m\u001b[0;34m\u001b[0m\u001b[0m\n\u001b[1;32m     13\u001b[0m \u001b[0;32mfrom\u001b[0m \u001b[0mbotocore\u001b[0m\u001b[0;34m.\u001b[0m\u001b[0mdocs\u001b[0m\u001b[0;34m.\u001b[0m\u001b[0mbcdoc\u001b[0m\u001b[0;34m.\u001b[0m\u001b[0mrestdoc\u001b[0m \u001b[0;32mimport\u001b[0m \u001b[0mDocumentStructure\u001b[0m\u001b[0;34m\u001b[0m\u001b[0;34m\u001b[0m\u001b[0m\n\u001b[0;32m---> 14\u001b[0;31m \u001b[0;32mfrom\u001b[0m \u001b[0mbotocore\u001b[0m\u001b[0;34m.\u001b[0m\u001b[0mdocs\u001b[0m\u001b[0;34m.\u001b[0m\u001b[0mclient\u001b[0m \u001b[0;32mimport\u001b[0m \u001b[0mClientDocumenter\u001b[0m\u001b[0;34m,\u001b[0m \u001b[0mClientExceptionsDocumenter\u001b[0m\u001b[0;34m\u001b[0m\u001b[0;34m\u001b[0m\u001b[0m\n\u001b[0m\u001b[1;32m     15\u001b[0m \u001b[0;32mfrom\u001b[0m \u001b[0mbotocore\u001b[0m\u001b[0;34m.\u001b[0m\u001b[0mdocs\u001b[0m\u001b[0;34m.\u001b[0m\u001b[0mpaginator\u001b[0m \u001b[0;32mimport\u001b[0m \u001b[0mPaginatorDocumenter\u001b[0m\u001b[0;34m\u001b[0m\u001b[0;34m\u001b[0m\u001b[0m\n\u001b[1;32m     16\u001b[0m \u001b[0;32mfrom\u001b[0m \u001b[0mbotocore\u001b[0m\u001b[0;34m.\u001b[0m\u001b[0mdocs\u001b[0m\u001b[0;34m.\u001b[0m\u001b[0mwaiter\u001b[0m \u001b[0;32mimport\u001b[0m \u001b[0mWaiterDocumenter\u001b[0m\u001b[0;34m\u001b[0m\u001b[0;34m\u001b[0m\u001b[0m\n",
            "\u001b[0;32m/usr/local/lib/python3.7/dist-packages/botocore/docs/client.py\u001b[0m in \u001b[0;36m<module>\u001b[0;34m()\u001b[0m\n\u001b[1;32m     12\u001b[0m \u001b[0;31m# language governing permissions and limitations under the License.\u001b[0m\u001b[0;34m\u001b[0m\u001b[0;34m\u001b[0m\u001b[0;34m\u001b[0m\u001b[0m\n\u001b[1;32m     13\u001b[0m \u001b[0;32mfrom\u001b[0m \u001b[0mbotocore\u001b[0m\u001b[0;34m.\u001b[0m\u001b[0mcompat\u001b[0m \u001b[0;32mimport\u001b[0m \u001b[0mOrderedDict\u001b[0m\u001b[0;34m\u001b[0m\u001b[0;34m\u001b[0m\u001b[0m\n\u001b[0;32m---> 14\u001b[0;31m \u001b[0;32mfrom\u001b[0m \u001b[0mbotocore\u001b[0m\u001b[0;34m.\u001b[0m\u001b[0mdocs\u001b[0m\u001b[0;34m.\u001b[0m\u001b[0mexample\u001b[0m \u001b[0;32mimport\u001b[0m \u001b[0mResponseExampleDocumenter\u001b[0m\u001b[0;34m\u001b[0m\u001b[0;34m\u001b[0m\u001b[0m\n\u001b[0m\u001b[1;32m     15\u001b[0m from botocore.docs.method import (\n\u001b[1;32m     16\u001b[0m     \u001b[0mdocument_custom_method\u001b[0m\u001b[0;34m,\u001b[0m\u001b[0;34m\u001b[0m\u001b[0;34m\u001b[0m\u001b[0m\n",
            "\u001b[0;32m/usr/local/lib/python3.7/dist-packages/botocore/docs/example.py\u001b[0m in \u001b[0;36m<module>\u001b[0;34m()\u001b[0m\n\u001b[1;32m     11\u001b[0m \u001b[0;31m# ANY KIND, either express or implied. See the License for the specific\u001b[0m\u001b[0;34m\u001b[0m\u001b[0;34m\u001b[0m\u001b[0;34m\u001b[0m\u001b[0m\n\u001b[1;32m     12\u001b[0m \u001b[0;31m# language governing permissions and limitations under the License.\u001b[0m\u001b[0;34m\u001b[0m\u001b[0;34m\u001b[0m\u001b[0;34m\u001b[0m\u001b[0m\n\u001b[0;32m---> 13\u001b[0;31m \u001b[0;32mfrom\u001b[0m \u001b[0mbotocore\u001b[0m\u001b[0;34m.\u001b[0m\u001b[0mdocs\u001b[0m\u001b[0;34m.\u001b[0m\u001b[0mshape\u001b[0m \u001b[0;32mimport\u001b[0m \u001b[0mShapeDocumenter\u001b[0m\u001b[0;34m\u001b[0m\u001b[0;34m\u001b[0m\u001b[0m\n\u001b[0m\u001b[1;32m     14\u001b[0m \u001b[0;32mfrom\u001b[0m \u001b[0mbotocore\u001b[0m\u001b[0;34m.\u001b[0m\u001b[0mdocs\u001b[0m\u001b[0;34m.\u001b[0m\u001b[0mutils\u001b[0m \u001b[0;32mimport\u001b[0m \u001b[0mpy_default\u001b[0m\u001b[0;34m\u001b[0m\u001b[0;34m\u001b[0m\u001b[0m\n\u001b[1;32m     15\u001b[0m \u001b[0;34m\u001b[0m\u001b[0m\n",
            "\u001b[0;32m/usr/local/lib/python3.7/dist-packages/botocore/docs/shape.py\u001b[0m in \u001b[0;36m<module>\u001b[0;34m()\u001b[0m\n\u001b[1;32m     17\u001b[0m \u001b[0;31m# inherited from a Documenter class with the appropriate methods\u001b[0m\u001b[0;34m\u001b[0m\u001b[0;34m\u001b[0m\u001b[0;34m\u001b[0m\u001b[0m\n\u001b[1;32m     18\u001b[0m \u001b[0;31m# and attributes.\u001b[0m\u001b[0;34m\u001b[0m\u001b[0;34m\u001b[0m\u001b[0;34m\u001b[0m\u001b[0m\n\u001b[0;32m---> 19\u001b[0;31m \u001b[0;32mfrom\u001b[0m \u001b[0mbotocore\u001b[0m\u001b[0;34m.\u001b[0m\u001b[0mutils\u001b[0m \u001b[0;32mimport\u001b[0m \u001b[0mis_json_value_header\u001b[0m\u001b[0;34m\u001b[0m\u001b[0;34m\u001b[0m\u001b[0m\n\u001b[0m\u001b[1;32m     20\u001b[0m \u001b[0;34m\u001b[0m\u001b[0m\n\u001b[1;32m     21\u001b[0m \u001b[0;34m\u001b[0m\u001b[0m\n",
            "\u001b[0;32m/usr/local/lib/python3.7/dist-packages/botocore/utils.py\u001b[0m in \u001b[0;36m<module>\u001b[0;34m()\u001b[0m\n\u001b[1;32m     32\u001b[0m \u001b[0;32mimport\u001b[0m \u001b[0mbotocore\u001b[0m\u001b[0;34m\u001b[0m\u001b[0;34m\u001b[0m\u001b[0m\n\u001b[1;32m     33\u001b[0m \u001b[0;32mimport\u001b[0m \u001b[0mbotocore\u001b[0m\u001b[0;34m.\u001b[0m\u001b[0mawsrequest\u001b[0m\u001b[0;34m\u001b[0m\u001b[0;34m\u001b[0m\u001b[0m\n\u001b[0;32m---> 34\u001b[0;31m \u001b[0;32mimport\u001b[0m \u001b[0mbotocore\u001b[0m\u001b[0;34m.\u001b[0m\u001b[0mhttpsession\u001b[0m\u001b[0;34m\u001b[0m\u001b[0;34m\u001b[0m\u001b[0m\n\u001b[0m\u001b[1;32m     35\u001b[0m \u001b[0;34m\u001b[0m\u001b[0m\n\u001b[1;32m     36\u001b[0m \u001b[0;31m# IP Regexes retained for backwards compatibility\u001b[0m\u001b[0;34m\u001b[0m\u001b[0;34m\u001b[0m\u001b[0;34m\u001b[0m\u001b[0m\n",
            "\u001b[0;32m/usr/local/lib/python3.7/dist-packages/botocore/httpsession.py\u001b[0m in \u001b[0;36m<module>\u001b[0;34m()\u001b[0m\n\u001b[1;32m     19\u001b[0m \u001b[0;32mfrom\u001b[0m \u001b[0murllib3\u001b[0m\u001b[0;34m.\u001b[0m\u001b[0mexceptions\u001b[0m \u001b[0;32mimport\u001b[0m \u001b[0mSSLError\u001b[0m \u001b[0;32mas\u001b[0m \u001b[0mURLLib3SSLError\u001b[0m\u001b[0;34m\u001b[0m\u001b[0;34m\u001b[0m\u001b[0m\n\u001b[1;32m     20\u001b[0m \u001b[0;32mfrom\u001b[0m \u001b[0murllib3\u001b[0m\u001b[0;34m.\u001b[0m\u001b[0mutil\u001b[0m\u001b[0;34m.\u001b[0m\u001b[0mretry\u001b[0m \u001b[0;32mimport\u001b[0m \u001b[0mRetry\u001b[0m\u001b[0;34m\u001b[0m\u001b[0;34m\u001b[0m\u001b[0m\n\u001b[0;32m---> 21\u001b[0;31m from urllib3.util.ssl_ import (\n\u001b[0m\u001b[1;32m     22\u001b[0m     \u001b[0mDEFAULT_CIPHERS\u001b[0m\u001b[0;34m,\u001b[0m\u001b[0;34m\u001b[0m\u001b[0;34m\u001b[0m\u001b[0m\n\u001b[1;32m     23\u001b[0m     \u001b[0mOP_NO_COMPRESSION\u001b[0m\u001b[0;34m,\u001b[0m\u001b[0;34m\u001b[0m\u001b[0;34m\u001b[0m\u001b[0m\n",
            "\u001b[0;31mImportError\u001b[0m: cannot import name 'PROTOCOL_TLS' from 'urllib3.util.ssl_' (/usr/local/lib/python3.7/dist-packages/urllib3/util/ssl_.py)",
            "",
            "\u001b[0;31m---------------------------------------------------------------------------\u001b[0;32m\nNOTE: If your import is failing due to a missing package, you can\nmanually install dependencies using either !pip or !apt.\n\nTo view examples of installing some common dependencies, click the\n\"Open Examples\" button below.\n\u001b[0;31m---------------------------------------------------------------------------\u001b[0m\n"
          ],
          "errorDetails": {
            "actions": [
              {
                "action": "open_url",
                "actionText": "Open Examples",
                "url": "/notebooks/snippets/importing_libraries.ipynb"
              }
            ]
          }
        }
      ]
    },
    {
      "cell_type": "markdown",
      "source": [
        "## Load models"
      ],
      "metadata": {
        "id": "EBSAWIAdpA12"
      }
    },
    {
      "cell_type": "code",
      "source": [
        "\n",
        "\n",
        "mask_type = 'mask' #'mask', 'masksubACC', 'masksubAI', 'masksubNAcc', 'masksubmPFC'// 'acc_aal', 'anterior_insula_aal', 'mPFC', 'nacc_aal', \n",
        "\n",
        "def model_metric_data(mask_type):\n",
        "\n",
        "  # Define directories where metrics and models are stored on AWS\n",
        "  metric_directory = f\"metrics/group_svm/{mask_type}/\"\n",
        "  model_directory = \"models/group/\"\n",
        "\n",
        "  # Assign path names to variables for Adolescent and Young Adult\n",
        "  ad_metric_file = f\"AD_AD_[2, 3]_{mask_type}_metrics.pkl\"\n",
        "  ad_model_file = f\"AD_AD_[2, 3]_{mask_type}_X_y_model.pkl\"\n",
        "  ya_metric_file = f\"YA_YA_[2, 3]_{mask_type}_metrics.pkl\"\n",
        "  ya_model_file = f\"YA_YA_[2, 3]_{mask_type}_X_y_model.pkl\"\n",
        "\n",
        "  # Grab Adolescent and Young Adult metric and model dictionaries \n",
        "  adad_metric = access_load_data(f'{metric_directory}{ad_metric_file}', False)\n",
        "  adad_model = access_load_data(f'{model_directory}{ad_model_file}', False)\n",
        "  yaya_metric = access_load_data(f'{metric_directory}{ya_metric_file}', False)\n",
        "  yaya_model = access_load_data(f'{model_directory}{ya_model_file}', False)\n",
        "\n",
        "  # Define empty dictionary\n",
        "  df_dict = defaultdict(list)\n",
        "\n",
        "  # Load the data and save as a DF \n",
        "  mask_data_list = ((mask_type, adad_model, adad_metric, \"Adolescent\"), (mask_type, yaya_model, yaya_metric,\"Young Adult\"))\n",
        "\n",
        "  for msk, mdl, mtric, grp in mask_data_list:\n",
        "    df_dict['mask_type'].append(msk)\n",
        "    df_dict['group'].append(grp)\n",
        "    df_dict['model'].append(mdl['model'][0])\n",
        "    df_dict['X'].append(mdl['X_train'][0])\n",
        "    df_dict['y'].append(mdl['y_train'][0])\n",
        "    df_dict['y_v'].append(mtric['y_v'][0])\n",
        "    df_dict['y_t'].append(mtric['y_t'][0])\n",
        "    df_dict['val_preds'].append(mtric['val_preds'][0])\n",
        "    df_dict['test_preds'].append(mtric['test_preds'][0])\n",
        "    df_dict['val_probs'].append(mtric['val_probs'][0])\n",
        "    df_dict['test_probs'].append(mtric['test_probs'][0])\n",
        "\n",
        "\n",
        "  df = pd.DataFrame(df_dict)\n",
        "  df.to_csv(f'/content/gdrive/MyDrive/YA_AD_{msk}_df2.csv', index = False, header = True)\n",
        "\n",
        "  return True\n",
        "\n",
        "for data in ['mask' 'masksubACC']:#, 'masksubAI', 'masksubNAcc', 'masksubmPFC']:\n",
        "  model_metric_data(data)\n"
      ],
      "metadata": {
        "id": "-N2CiviLH4Jo"
      },
      "execution_count": null,
      "outputs": []
    },
    {
      "cell_type": "markdown",
      "source": [
        "### Load Mask whole brain"
      ],
      "metadata": {
        "id": "tsXLlhVwpJse"
      }
    },
    {
      "cell_type": "code",
      "source": [
        "mask_type = 'mask' #'mask', 'masksubACC', 'masksubAI', 'masksubNAcc', 'masksubmPFC'// 'acc_aal', 'anterior_insula_aal', 'mPFC', 'nacc_aal', \n",
        "metric_directory = f\"metrics/group_svm/{mask_type}/\"\n",
        "metric_file = f\"AD_AD_[2, 3]_{mask_type}_metrics.pkl\"\n",
        "model_directory = \"models/group/\"\n",
        "model_file = f\"AD_AD_[2, 3]_{mask_type}_X_y_model.pkl\"\n",
        "\n",
        "adad_mask = access_load_data(f'{metric_directory}{metric_file}', False)\n",
        "adad_model = access_load_data(f'{model_directory}{model_file}', False)"
      ],
      "metadata": {
        "id": "-ATJou6jyRgN"
      },
      "execution_count": 41,
      "outputs": []
    },
    {
      "cell_type": "code",
      "source": [
        "mask_type = 'mask' #'mask', 'masksubACC', 'masksubAI', 'masksubNAcc', 'masksubmPFC'// 'acc_aal', 'anterior_insula_aal', 'mPFC', 'nacc_aal', \n",
        "metric_directory = \"metrics/group_svm/whole/\"\n",
        "metric_file = f\"YA_YA_[2, 3]_{mask_type}_metrics.pkl\"\n",
        "model_directory = \"models/group/\"\n",
        "model_file = f\"YA_YA_[2, 3]_{mask_type}_X_y_model.pkl\"\n",
        "\n",
        "yaya_mask = access_load_data(f'{metric_directory}{metric_file}', False)\n",
        "yaya_model = access_load_data(f'{model_directory}{model_file}', False)\n"
      ],
      "metadata": {
        "id": "0NFcNv9I60hi"
      },
      "execution_count": null,
      "outputs": []
    },
    {
      "cell_type": "markdown",
      "source": [
        "### Load subACC"
      ],
      "metadata": {
        "id": "3oRwKk4cpMpx"
      }
    },
    {
      "cell_type": "code",
      "source": [
        "mask_type = 'masksubACC' #'mask', 'masksubACC', 'masksubAI', 'masksubNAcc', 'masksubmPFC'// 'acc_aal', 'anterior_insula_aal', 'mPFC', 'nacc_aal', \n",
        "metric_directory = f\"metrics/group_svm/{mask_type}/\"\n",
        "metric_file = f\"AD_AD_[2, 3]_{mask_type}_metrics.pkl\"\n",
        "model_directory = \"models/group/\"\n",
        "model_file = f\"AD_AD_[2, 3]_{mask_type}_X_y_model.pkl\"\n",
        "\n",
        "adad_subacc = access_load_data(f'{metric_directory}{metric_file}', False)\n",
        "adad_model_subacc = access_load_data(f'{model_directory}{model_file}', False)"
      ],
      "metadata": {
        "id": "MpwIW4LmoFgp"
      },
      "execution_count": 70,
      "outputs": []
    },
    {
      "cell_type": "code",
      "source": [
        "mask_type = 'masksubACC' #'mask', 'masksubACC', 'masksubAI', 'masksubNAcc', 'masksubmPFC'// 'acc_aal', 'anterior_insula_aal', 'mPFC', 'nacc_aal', \n",
        "metric_directory = f\"metrics/group_svm/{mask_type}/\"\n",
        "metric_file = f\"YA_YA_[2, 3]_{mask_type}_metrics.pkl\"\n",
        "model_directory = \"models/group/\"\n",
        "model_file = f\"YA_YA_[2, 3]_{mask_type}_X_y_model.pkl\"\n",
        "\n",
        "yaya_subacc = access_load_data(f'{metric_directory}{metric_file}', False)\n",
        "yaya_model_subacc = access_load_data(f'{model_directory}{model_file}', False)"
      ],
      "metadata": {
        "id": "DCGkkdLSoHnA"
      },
      "execution_count": 73,
      "outputs": []
    },
    {
      "cell_type": "markdown",
      "source": [
        "### Load subAI\n",
        "\n"
      ],
      "metadata": {
        "id": "R0tyZIvrpNbZ"
      }
    },
    {
      "cell_type": "code",
      "source": [
        "mask_type = 'masksubAI' #'mask', 'masksubACC', 'masksubAI', 'masksubNAcc', 'masksubmPFC'// 'acc_aal', 'anterior_insula_aal', 'mPFC', 'nacc_aal', \n",
        "metric_directory = f\"metrics/group_svm/{mask_type}/\"\n",
        "metric_file = f\"AD_AD_[2, 3]_{mask_type}_metrics.pkl\"\n",
        "model_directory = \"models/group/\"\n",
        "model_file = f\"AD_AD_[2, 3]_{mask_type}_X_y_model.pkl\"\n",
        "\n",
        "adad_subai = access_load_data(f'{metric_directory}{metric_file}', False)\n",
        "adad_model_subai = access_load_data(f'{model_directory}{model_file}', False)"
      ],
      "metadata": {
        "id": "QwlXTh4HoKg5"
      },
      "execution_count": 3,
      "outputs": []
    },
    {
      "cell_type": "code",
      "source": [
        "mask_type = 'masksubAI' #'mask', 'masksubACC', 'masksubAI', 'masksubNAcc', 'masksubmPFC'// 'acc_aal', 'anterior_insula_aal', 'mPFC', 'nacc_aal', \n",
        "metric_directory = f\"metrics/group_svm/{mask_type}/\"\n",
        "metric_file = f\"YA_YA_[2, 3]_{mask_type}_metrics.pkl\"\n",
        "model_directory = \"models/group/\"\n",
        "model_file = f\"YA_YA_[2, 3]_{mask_type}_X_y_model.pkl\"\n",
        "\n",
        "yaya_subai = access_load_data(f'{metric_directory}{metric_file}', False)\n",
        "yaya_model_subai = access_load_data(f'{model_directory}{model_file}', False)"
      ],
      "metadata": {
        "id": "ICIugn48oKrJ"
      },
      "execution_count": 4,
      "outputs": []
    },
    {
      "cell_type": "markdown",
      "source": [
        "### Load subNAcc"
      ],
      "metadata": {
        "id": "6TOpJ0CipNnX"
      }
    },
    {
      "cell_type": "code",
      "source": [
        "mask_type = 'masksubNAcc' #'mask', 'masksubACC', 'masksubAI', 'masksubNAcc', 'masksubmPFC'// 'acc_aal', 'anterior_insula_aal', 'mPFC', 'nacc_aal', \n",
        "metric_directory = f\"metrics/group_svm/{mask_type}/\"\n",
        "metric_file = f\"AD_AD_[2, 3]_{mask_type}_metrics.pkl\"\n",
        "model_directory = \"models/group/\"\n",
        "model_file = f\"AD_AD_[2, 3]_{mask_type}_X_y_model.pkl\"\n",
        "\n",
        "adad_subnacc = access_load_data(f'{metric_directory}{metric_file}', False)\n",
        "adad_model_subnacc = access_load_data(f'{model_directory}{model_file}', False)"
      ],
      "metadata": {
        "id": "kiVhm3ALoMGf"
      },
      "execution_count": 5,
      "outputs": []
    },
    {
      "cell_type": "code",
      "source": [
        "mask_type = 'masksubNAcc' #'mask', 'masksubACC', 'masksubAI', 'masksubNAcc', 'masksubmPFC'// 'acc_aal', 'anterior_insula_aal', 'mPFC', 'nacc_aal', \n",
        "metric_directory = f\"metrics/group_svm/{mask_type}/\"\n",
        "metric_file = f\"YA_YA_[2, 3]_{mask_type}_metrics.pkl\"\n",
        "model_directory = \"models/group/\"\n",
        "model_file = f\"YA_YA_[2, 3]_{mask_type}_X_y_model.pkl\"\n",
        "\n",
        "yaya_subnacc = access_load_data(f'{metric_directory}{metric_file}', False)\n",
        "yaya_model_subnacc = access_load_data(f'{model_directory}{model_file}', False)"
      ],
      "metadata": {
        "id": "PjVWzGLpoMN0"
      },
      "execution_count": 6,
      "outputs": []
    },
    {
      "cell_type": "markdown",
      "source": [
        "### Load submPFC"
      ],
      "metadata": {
        "id": "fKjYROPQpNxi"
      }
    },
    {
      "cell_type": "code",
      "source": [
        "mask_type = 'masksubmPFC' #'mask', 'masksubACC', 'masksubAI', 'masksubNAcc', 'masksubmPFC'// 'acc_aal', 'anterior_insula_aal', 'mPFC', 'nacc_aal', \n",
        "metric_directory = f\"metrics/group_svm/{mask_type}/\"\n",
        "metric_file = f\"AD_AD_[2, 3]_{mask_type}_metrics.pkl\"\n",
        "model_directory = \"models/group/\"\n",
        "model_file = f\"AD_AD_[2, 3]_{mask_type}_X_y_model.pkl\"\n",
        "\n",
        "adad_submpfc = access_load_data(f'{metric_directory}{metric_file}', False)\n",
        "adad_model_submpfc = access_load_data(f'{model_directory}{model_file}', False)"
      ],
      "metadata": {
        "id": "sde2afSGoM0i"
      },
      "execution_count": 6,
      "outputs": []
    },
    {
      "cell_type": "code",
      "source": [
        "mask_type = 'masksubmPFC' #'mask', 'masksubACC', 'masksubAI', 'masksubNAcc', 'masksubmPFC'// 'acc_aal', 'anterior_insula_aal', 'mPFC', 'nacc_aal', \n",
        "metric_directory = f\"metrics/group_svm/{mask_type}/\"\n",
        "metric_file = f\"YA_YA_[2, 3]_{mask_type}_metrics.pkl\"\n",
        "model_directory = \"models/group/\"\n",
        "model_file = f\"YA_YA_[2, 3]_{mask_type}_X_y_model.pkl\"\n",
        "\n",
        "yaya_submpfc = access_load_data(f'{metric_directory}{metric_file}', False)\n",
        "yaya_model_submpfc = access_load_data(f'{model_directory}{model_file}', False)"
      ],
      "metadata": {
        "id": "NwxJMoFDoM6g"
      },
      "execution_count": 7,
      "outputs": []
    },
    {
      "cell_type": "code",
      "source": [
        "# Load the data\n",
        "clf = yaya_model['model'][0]\n",
        "X = yaya_model['X_train'][0]\n",
        "y = yaya_model['y_train'][0]\n",
        "y_v = yaya_mask['y_v'][0]\n",
        "y_t = yaya_mask['y_t'][0]\n",
        "y_vpred = yaya_mask['val_preds'][0]\n",
        "y_tpred = yaya_mask['test_preds'][0]\n",
        "y_vprob = yaya_mask['val_probs'][0]\n",
        "y_tprob = yaya_mask['test_probs'][0]\n",
        "\n",
        "\n",
        "# Load the data\n",
        "clfad = adad_model['model'][0]\n",
        "Xad = adad_model['X_train'][0]\n",
        "yad = adad_model['y_train'][0]\n",
        "y_vad = adad_mask['y_v'][0]\n",
        "y_tad = adad_mask['y_t'][0]\n",
        "y_vpredad = adad_mask['val_preds'][0]\n",
        "y_tpredad = adad_mask['test_preds'][0]\n",
        "y_vprobad = adad_mask['val_probs'][0]\n",
        "y_tprobad = adad_mask['test_probs'][0]\n"
      ],
      "metadata": {
        "id": "IzIFYqpUYLOb"
      },
      "execution_count": null,
      "outputs": []
    },
    {
      "cell_type": "markdown",
      "source": [
        "### Put everything in a dictionary and save"
      ],
      "metadata": {
        "id": "EGgwq6f4ok5o"
      }
    },
    {
      "cell_type": "code",
      "source": [
        "from collections import defaultdict\n",
        "import pandas as pd\n",
        "\n",
        "df_dict = defaultdict(list)\n",
        "\n",
        "# Load the data\n",
        "#whole_brain = (('mask', adad_model,adad_mask, \"Adolescent\"), (\"mask\", yaya_model, yaya_mask,\"Young Adult\"))\n",
        "#subacc = (('subACC', adad_model_subacc, adad_subacc, \"Adolescent\"), (\"subACC\", yaya_model_subacc, yaya_subacc, \"Young Adult\"))\n",
        "#subai = (('subAI', adad_model_subai, adad_subai, \"Adolescent\"), (\"subAI\", yaya_model_subai, yaya_subai,\"Young Adult\"))\n",
        "#subnacc = (('subNAcc', adad_model_subnacc, adad_subnacc, \"Adolescent\"), ('subNAcc', yaya_model_subnacc, yaya_subnacc, \"Young Adult\"))\n",
        "submpfc = (('submPFC',adad_model_submpfc, adad_submpfc, \"Adolescent\"), (\"submPFC\", yaya_model_submpfc, yaya_submpfc, \"Young Adult\"))\n",
        "\n",
        "\n",
        "for mask_data_list in [submpfc]:#,subacc]:#,subai,subnacc, submpfc]:\n",
        "  for msk, mdl, mtric, grp in mask_data_list:\n",
        "    df_dict['mask_type'].append(msk)\n",
        "    df_dict['group'].append(grp)\n",
        "    df_dict['model'].append(mdl['model'][0])\n",
        "    df_dict['X'].append(mdl['X_train'][0])\n",
        "    df_dict['y'].append(mdl['y_train'][0])\n",
        "    df_dict['y_v'].append(mtric['y_v'][0])\n",
        "    df_dict['y_t'].append(mtric['y_t'][0])\n",
        "    df_dict['val_preds'].append(mtric['val_preds'][0])\n",
        "    df_dict['test_preds'].append(mtric['test_preds'][0])\n",
        "    df_dict['val_probs'].append(mtric['val_probs'][0])\n",
        "    df_dict['test_probs'].append(mtric['test_probs'][0])\n",
        "\n",
        "\n",
        "  df = pd.DataFrame(df_dict)\n",
        "  df.to_csv(f'/content/gdrive/MyDrive/YA_AD_{msk}_df.csv', index = False, header=True)\n",
        "\n"
      ],
      "metadata": {
        "id": "Y4z6ms4YokMw"
      },
      "execution_count": 8,
      "outputs": []
    },
    {
      "cell_type": "code",
      "source": [
        "mesk = ['mask', 'subACC', 'subNAcc', 'submPFC']\n",
        "print(mesk)\n",
        "for m in mesk:\n",
        "  print(m)\n",
        "  path = f\"/content/gdrive/MyDrive/YA_AD_{m}_df.csv\"\n",
        "\n",
        "  if m == 'mask':\n",
        "    df1 = pd.read_csv(path)\n",
        "  else:\n",
        "    df2 = pd.read_csv(path)\n",
        "    df1 = pd.concat([df1, df2])\n",
        "\n",
        "df1.to_csv(f'/content/gdrive/MyDrive/YA_AD_eachmask_df.csv', index = False, header=True)"
      ],
      "metadata": {
        "id": "yYU5Dj5FbMCR",
        "outputId": "b928aa4d-9adb-45f6-8360-da0029fa4efc",
        "colab": {
          "base_uri": "https://localhost:8080/"
        }
      },
      "execution_count": 4,
      "outputs": [
        {
          "output_type": "stream",
          "name": "stdout",
          "text": [
            "['mask', 'subACC', 'subNAcc', 'submPFC']\n",
            "mask\n",
            "subACC\n",
            "subNAcc\n",
            "submPFC\n"
          ]
        }
      ]
    },
    {
      "cell_type": "markdown",
      "source": [
        "## Confusion Matrix\n",
        "\n",
        "- may want to add 4 subplot 2x2"
      ],
      "metadata": {
        "id": "RoILWitnXoqw"
      }
    },
    {
      "cell_type": "code",
      "source": [
        "from sklearn.metrics import confusion_matrix\n",
        "import seaborn as sns\n",
        "\n",
        "\n",
        "cm_v = confusion_matrix(y_v, y_vpred)\n",
        "cm_t = confusion_matrix(y_t, y_tpred)\n",
        "\n",
        "cm_vad = confusion_matrix(y_vad, y_vpredad)\n",
        "cm_tad = confusion_matrix(y_tad, y_tpredad)\n",
        "\n",
        "cm_mat = [(cm_v,'Validation', \"Young Adult\"), \n",
        "          (cm_t, 'Test', \"Young Adult\"), \n",
        "          (cm_vad,'Validation', \"Adolescent\"), \n",
        "          (cm_tad, 'Test', \"Adolescent\")]\n",
        "\n",
        "if mask_type == \"mask\":\n",
        "  mask_type = \"Whole Brain\"\n",
        "\n",
        "for cm, name, group_type in cm_mat:\n",
        "  rate_names = ['True Neg','False Pos','False Neg','True Pos']\n",
        "\n",
        "  rate_values = [\"{0:0}\".format(value) for value in cm.flatten()]\n",
        "\n",
        "  percentages = [\"{0:.2%}\".format(value) for value in cm.flatten()/np.sum(cm)]\n",
        "\n",
        "  labels = [f\"{val1}\\n\\n{val2}\\n\\n{val3}\" for val1, val2, val3 in\n",
        "            zip(rate_names,rate_values,percentages)]\n",
        "\n",
        "  labels = np.asarray(labels).reshape(2,2)\n",
        "\n",
        "  ax = sns.heatmap(cm, annot=labels, fmt='', cmap='Blues')\n",
        "\n",
        "  #plt.figure(figsize=(8,8))\n",
        "  ax.set_title(f'{group_type} {name} {mask_type}\\n');\n",
        "  ax.set_xlabel('\\nPredicted Labels')\n",
        "  ax.set_ylabel('True Label ');\n",
        "\n",
        "  plt.tight_layout()\n",
        "  plt.savefig(f'/content/gdrive/MyDrive/{group_type} {name} {mask_type} Conf matrix')\n",
        "  plt.show()"
      ],
      "metadata": {
        "colab": {
          "base_uri": "https://localhost:8080/",
          "height": 1000
        },
        "id": "d3JmouqQX7Zp",
        "outputId": "31b89fd8-a0f8-49e1-9e5b-f0756e3557ef"
      },
      "execution_count": null,
      "outputs": [
        {
          "output_type": "display_data",
          "data": {
            "text/plain": [
              "<Figure size 432x288 with 2 Axes>"
            ],
            "image/png": "[encoded data removed]"
          },
          "metadata": {
            "needs_background": "light"
          }
        },
        {
          "output_type": "display_data",
          "data": {
            "text/plain": [
              "<Figure size 432x288 with 2 Axes>"
            ],
            "image/png": "[encoded data removed]"
          },
          "metadata": {
            "needs_background": "light"
          }
        },
        {
          "output_type": "display_data",
          "data": {
            "text/plain": [
              "<Figure size 432x288 with 2 Axes>"
            ],
            "image/png": "[encoded data removed]"
          },
          "metadata": {
            "needs_background": "light"
          }
        },
        {
          "output_type": "display_data",
          "data": {
            "text/plain": [
              "<Figure size 432x288 with 2 Axes>"
            ],
            "image/png": "[encoded data removed]"
          },
          "metadata": {
            "needs_background": "light"
          }
        }
      ]
    },
    {
      "cell_type": "markdown",
      "source": [
        "## Precision Recall"
      ],
      "metadata": {
        "id": "fGiiUIrlXreF"
      }
    },
    {
      "cell_type": "code",
      "source": [
        "from sklearn.metrics import precision_recall_curve\n",
        "from sklearn.metrics import f1_score\n",
        "from sklearn.metrics import auc\n",
        "\n",
        "# YA VAL\n",
        "vprecision, vrecall, _ = precision_recall_curve(y_v, y_vprob)\n",
        "v_f1, v_auc = f1_score(y_v, y_vpred), auc(vrecall, vprecision)\n",
        "# YA Test\n",
        "tprecision, trecall, _ = precision_recall_curve(y_t, y_tprob)\n",
        "t_f1, t_auc = f1_score(y_t, y_tpred), auc(trecall, tprecision)\n",
        "\n",
        "# AD VAL\n",
        "vprecisionad, vrecallad, _ = precision_recall_curve(y_vad, y_vprobad)\n",
        "v_f1ad, v_aucad = f1_score(y_vad, y_vpredad), auc(vrecallad, vprecisionad)\n",
        "# AD TEST\n",
        "tprecisionad, trecallad, _ = precision_recall_curve(y_tad, y_tprobad)\n",
        "t_f1ad, t_aucad = f1_score(y_tad, y_tpredad), auc(trecallad, tprecisionad)\n",
        "\n",
        "# summarize scores\n",
        "print(f'Young Adult SVM: f1={v_f1 * 100:{.5}}% auc={v_auc* 100:{.5}}% \\n')\n",
        "print(f'Young Adult SVM: f1={t_f1* 100:{.5}}% auc={t_auc* 100:{.5}}% \\n')\n",
        "\n",
        "print(f'Young Adult SVM: f1={v_f1ad* 100:{.5}}% auc={v_aucad* 100:{.5}}% \\n')\n",
        "print(f'Young Adult SVM: f1={t_f1ad* 100:{.5}}% auc={t_aucad* 100:{.5}}% \\n')\n",
        "\n",
        "# plot the precision-recall curves\n",
        "random = len(y_v[y_v==1]) / len(y_v)\n",
        "plt.plot([0, 1], [random, random], linestyle='--', label='Random')\n",
        "\n",
        "#YA\n",
        "plt.plot(vrecall, vprecision, marker='', label='Young Adult Val SVM')\n",
        "plt.plot(trecall, tprecision, marker='', label='Young Adult Test SVM')\n",
        "\n",
        "#AD\n",
        "plt.plot(vrecallad, vprecisionad, marker='', label='Adolescent Val SVM')\n",
        "plt.plot(trecallad, tprecisionad, marker='', label='Adolescent Test SVM')\n",
        "\n",
        "# axis labels\n",
        "plt.xlabel('Recall')\n",
        "plt.ylabel('Precision')\n",
        "plt.title(\"SVM Whole Brain Model Skill \\n\")\n",
        "\n",
        "# show the legend\n",
        "plt.legend(loc = \"lower left\")\n",
        "\n",
        "# show the plot\n",
        "plt.show()"
      ],
      "metadata": {
        "colab": {
          "base_uri": "https://localhost:8080/",
          "height": 452
        },
        "id": "jNQAQTguX76s",
        "outputId": "7d150b9f-d033-475c-ffbb-531fd50c7c1b"
      },
      "execution_count": null,
      "outputs": [
        {
          "output_type": "stream",
          "name": "stdout",
          "text": [
            "Young Adult SVM: f1=80.226% auc=87.989% \n",
            "\n",
            "Young Adult SVM: f1=78.416% auc=87.335% \n",
            "\n",
            "Young Adult SVM: f1=72.664% auc=78.643% \n",
            "\n",
            "Young Adult SVM: f1=75.87% auc=84.881% \n",
            "\n"
          ]
        },
        {
          "output_type": "display_data",
          "data": {
            "text/plain": [
              "<Figure size 432x288 with 1 Axes>"
            ],
            "image/png": "[encoded data removed]"
          },
          "metadata": {
            "needs_background": "light"
          }
        }
      ]
    },
    {
      "cell_type": "markdown",
      "source": [
        "## ROC Curve"
      ],
      "metadata": {
        "id": "zDHDFeOLXyUE"
      }
    },
    {
      "cell_type": "code",
      "source": [
        "# calculate roc curve\n",
        "from sklearn.metrics import roc_curve, roc_auc_score\n",
        "\n",
        "#YA\n",
        "fprv, tprv, thresholdsv = roc_curve(y_v, y_vprob)\n",
        "fprt, tprt, thresholdst = roc_curve(y_t, y_tprob)\n",
        "\n",
        "#AD\n",
        "fprvad, tprvad, thresholdsvad = roc_curve(y_vad, y_vprobad)\n",
        "fprtad, tprtad, thresholdstad = roc_curve(y_tad, y_tprobad)"
      ],
      "metadata": {
        "id": "6vAhEs1kX8Sb"
      },
      "execution_count": null,
      "outputs": []
    },
    {
      "cell_type": "code",
      "source": [
        "# generate a no skill prediction (majority class)\n",
        "ns_probs = [0 for _ in range(len(y_v))]\n",
        "ns_auc = roc_auc_score(y_v, ns_probs)\n",
        "\n",
        "# calculate scores\n",
        "#YA\n",
        "val_auc = roc_auc_score(y_v, y_vprob)\n",
        "test_auc = roc_auc_score(y_t, y_tprob)\n",
        "\n",
        "#AD\n",
        "val_aucad = roc_auc_score(y_vad, y_vprobad)\n",
        "test_aucad = roc_auc_score(y_tad, y_tprobad)\n",
        "# summarize scores\n",
        "\n",
        "print(f'Young Adult SVM WB Model Validation: ROC AUC={val_auc*100:{.5}}% \\n')\n",
        "print(f'Young Adult SVM WB Model Test: ROC AUC={test_auc*100:{.5}}% \\n')\n",
        "print(f'Adolescent SVM WB Model Validation: ROC AUC={val_aucad*100:{.5}}% \\n')\n",
        "print(f'Adolescent SVM WB Model Test: ROC AUC={test_aucad*100:{.5}}% \\n')\n",
        "\n",
        "# calculate roc curves\n",
        "ns_fpr, ns_tpr, _ = roc_curve(y_v, ns_probs)\n",
        "fprv, tprv, thresholdsv = roc_curve(y_v, y_vprob)\n",
        "fprt, tprt, thresholdst = roc_curve(y_t, y_tprob)\n",
        "\n",
        "#ad\n",
        "fprvad, tprvad, thresholdsvad = roc_curve(y_vad, y_vprobad)\n",
        "fprtad, tprtad, thresholdstad = roc_curve(y_tad, y_tprobad)\n",
        "\n",
        "# plot the roc curve for the model\n",
        "plt.plot(ns_fpr, ns_tpr, linestyle='--', label='Random')\n",
        "plt.plot(fprv, tprv, marker='', label='Young Adult Val')\n",
        "plt.plot(fprt, tprt, marker='', label='Young Adult Test')\n",
        "plt.plot(fprvad, tprvad, marker='', label='Adolescent Val')\n",
        "plt.plot(fprtad, tprtad, marker='', label='Adolescent Test')\n",
        "\n",
        "# axis labels\n",
        "plt.xlabel('False Positive Rate')\n",
        "plt.ylabel('True Positive Rate')\n",
        "plt.title(\"SVM Whole Brain ROC Model Skill\")\n",
        "\n",
        "# show the legend\n",
        "plt.legend()\n",
        "# show the plot\n",
        "plt.show()"
      ],
      "metadata": {
        "colab": {
          "base_uri": "https://localhost:8080/",
          "height": 437
        },
        "id": "tDO4tPpoo79v",
        "outputId": "11ce0fd5-13ee-441e-ace2-589ac815b6d0"
      },
      "execution_count": null,
      "outputs": [
        {
          "output_type": "stream",
          "name": "stdout",
          "text": [
            "Young Adult SVM WB Model Validation: ROC AUC=87.141% \n",
            "\n",
            "Young Adult SVM WB Model Test: ROC AUC=85.733% \n",
            "\n",
            "Adolescent SVM WB Model Validation: ROC AUC=79.959% \n",
            "\n",
            "Adolescent SVM WB Model Test: ROC AUC=82.688% \n",
            "\n"
          ]
        },
        {
          "output_type": "display_data",
          "data": {
            "text/plain": [
              "<Figure size 432x288 with 1 Axes>"
            ],
            "image/png": "[encoded data removed]"
          },
          "metadata": {
            "needs_background": "light"
          }
        }
      ]
    },
    {
      "cell_type": "markdown",
      "source": [
        "## Ypred and Ytrue"
      ],
      "metadata": {
        "id": "QP8kBfygX2r9"
      }
    },
    {
      "cell_type": "code",
      "source": [
        ""
      ],
      "metadata": {
        "id": "sraQv-c1X8xO"
      },
      "execution_count": null,
      "outputs": []
    },
    {
      "cell_type": "code",
      "source": [
        "yaya_mask"
      ],
      "metadata": {
        "colab": {
          "base_uri": "https://localhost:8080/"
        },
        "id": "78yfJq9I7Rc9",
        "outputId": "623c0c80-cbca-42d4-e309-265dc6e5fe4f"
      },
      "execution_count": null,
      "outputs": [
        {
          "output_type": "execute_result",
          "data": {
            "text/plain": [
              "defaultdict(list,\n",
              "            {'test_acc': [0.7837301587301587],\n",
              "             'test_preds': [array([0, 1, 1, 1, 1, 1, 0, 1, 1, 1, 1, 1, 1, 1, 1, 0, 0, 0, 0, 0, 0, 1,\n",
              "                     1, 1, 1, 1, 1, 1, 0, 0, 0, 0, 0, 0, 0, 0, 0, 0, 0, 0, 1, 1, 0, 0,\n",
              "                     0, 0, 0, 0, 1, 1, 1, 1, 1, 1, 1, 1, 0, 0, 0, 0, 0, 0, 0, 1, 1, 1,\n",
              "                     1, 1, 1, 0, 1, 1, 1, 1, 1, 1, 0, 0, 0, 0, 0, 1, 1, 1, 1, 1, 0, 0,\n",
              "                     1, 1, 1, 0, 1, 1, 1, 1, 1, 0, 0, 0, 0, 0, 0, 0, 0, 1, 1, 1, 1, 1,\n",
              "                     1, 1, 1, 1, 0, 0, 1, 1, 1, 0, 0, 0, 0, 0, 0, 0, 0, 0, 0, 0, 0, 0,\n",
              "                     0, 1, 1, 1, 1, 1, 1, 1, 0, 0, 0, 0, 0, 0, 0, 1, 1, 1, 1, 1, 1, 1,\n",
              "                     1, 1, 1, 1, 1, 1, 1, 0, 0, 0, 0, 0, 0, 1, 1, 1, 1, 0, 1, 1, 1, 1,\n",
              "                     1, 1, 0, 1, 1, 0, 1, 1, 0, 0, 0, 0, 0, 1, 1, 1, 1, 1, 1, 1, 0, 0,\n",
              "                     0, 0, 0, 0, 0, 1, 0, 0, 0, 0, 0, 0, 1, 0, 0, 0, 0, 0, 0, 1, 1, 1,\n",
              "                     1, 1, 1, 1, 0, 0, 0, 0, 0, 0, 0, 1, 1, 1, 1, 1, 1, 1, 1, 1, 1, 1,\n",
              "                     1, 1, 0, 0, 0, 0, 0, 0, 0, 0, 1, 1, 1, 0, 0, 1, 0, 1, 1, 1, 1, 1,\n",
              "                     1, 1, 0, 0, 0, 0, 0, 0, 0, 1, 1, 1, 1, 1, 1, 1, 0, 0, 0, 0, 0, 0,\n",
              "                     0, 0, 1, 1, 0, 0, 0, 0, 0, 1, 1, 0, 0, 0, 0, 1, 1, 1, 1, 1, 1, 0,\n",
              "                     0, 0, 0, 0, 0, 0, 0, 1, 1, 1, 1, 1, 0, 0, 1, 1, 1, 1, 1, 1, 0, 1,\n",
              "                     0, 0, 0, 0, 0, 0, 1, 1, 1, 1, 0, 0, 0, 1, 1, 1, 1, 0, 0, 1, 1, 1,\n",
              "                     0, 0, 0, 0, 0, 1, 1, 1, 1, 0, 1, 0, 1, 0, 0, 0, 0, 0, 1, 1, 0, 0,\n",
              "                     0, 1, 0, 0, 1, 1, 1, 0, 0, 0, 0, 1, 1, 1, 1, 1, 0, 0, 1, 1, 0, 0,\n",
              "                     0, 0, 0, 1, 1, 1, 0, 0, 1, 0, 1, 1, 1, 0, 0, 0, 0, 1, 1, 0, 0, 0,\n",
              "                     0, 0, 1, 1, 1, 0, 0, 0, 0, 1, 1, 1, 0, 0, 0, 1, 1, 1, 0, 0, 0, 0,\n",
              "                     0, 0, 1, 1, 0, 0, 1, 0, 1, 1, 1, 1, 1, 0, 1, 0, 1, 0, 0, 0, 0, 0,\n",
              "                     1, 1, 0, 0, 0, 0, 0, 1, 1, 1, 1, 1, 1, 1, 1, 1, 1, 1, 1, 1, 0, 1,\n",
              "                     1, 1, 0, 0, 0, 0, 1, 1, 1, 0, 0, 0, 0, 1, 1, 0, 0, 1, 0, 0],\n",
              "                    dtype=uint16)],\n",
              "             'test_probs': [array([0.41255185, 0.70643516, 0.59385736, 0.76362408, 0.63492003,\n",
              "                     0.72935863, 0.30004695, 0.75561432, 0.88002903, 0.9459506 ,\n",
              "                     0.93171362, 0.93570324, 0.85361234, 0.8293569 , 0.75647404,\n",
              "                     0.1066791 , 0.17164443, 0.23217684, 0.20572139, 0.29208522,\n",
              "                     0.14250268, 0.93621051, 0.95859536, 0.87680745, 0.78118139,\n",
              "                     0.68402987, 0.66979113, 0.55255682, 0.42067395, 0.26917695,\n",
              "                     0.04252332, 0.02588286, 0.07471709, 0.04285153, 0.02856017,\n",
              "                     0.11157797, 0.37529056, 0.47260306, 0.5       , 0.35660544,\n",
              "                     0.61898011, 0.62911726, 0.24151479, 0.27302789, 0.27887804,\n",
              "                     0.29446121, 0.33227966, 0.20092175, 0.60795546, 0.79243555,\n",
              "                     0.96732885, 0.87487993, 0.82615917, 0.8737254 , 0.9152085 ,\n",
              "                     0.63410353, 0.30843964, 0.17792374, 0.0699455 , 0.05048874,\n",
              "                     0.06187369, 0.24684349, 0.25740445, 0.86570437, 0.73650371,\n",
              "                     0.85979215, 0.83502231, 0.77544985, 0.54273644, 0.49276357,\n",
              "                     0.74153372, 0.86184816, 0.79401219, 0.83275783, 0.96600882,\n",
              "                     0.76345139, 0.38696205, 0.08332122, 0.22944295, 0.22571984,\n",
              "                     0.33218942, 0.87272171, 0.89966753, 0.77150617, 0.7816441 ,\n",
              "                     0.76651235, 0.19691823, 0.2051288 , 0.64283379, 0.83877691,\n",
              "                     0.67014663, 0.35163503, 0.55603539, 0.91393747, 0.88124954,\n",
              "                     0.61153669, 0.59880799, 0.43818712, 0.47702348, 0.21105655,\n",
              "                     0.04011589, 0.03118492, 0.19221936, 0.20913982, 0.17400819,\n",
              "                     0.92505585, 0.94836178, 0.82299466, 0.91553743, 0.9312584 ,\n",
              "                     0.92654011, 0.85976674, 0.56739994, 0.63769453, 0.44134255,\n",
              "                     0.4268025 , 0.55854892, 0.81946068, 0.53902119, 0.46555298,\n",
              "                     0.35208759, 0.08370932, 0.30424634, 0.14484317, 0.17486216,\n",
              "                     0.35937596, 0.25467272, 0.42872698, 0.46518297, 0.48901261,\n",
              "                     0.41828992, 0.14695446, 0.05941507, 0.82804701, 0.96918454,\n",
              "                     0.93699204, 0.87339532, 0.86738378, 0.89719408, 0.54664947,\n",
              "                     0.22718275, 0.33438298, 0.08548307, 0.17490833, 0.28043697,\n",
              "                     0.16935088, 0.03863685, 0.74288335, 0.94368428, 0.89813212,\n",
              "                     0.79098525, 0.89208346, 0.69941975, 0.72418028, 0.8494486 ,\n",
              "                     0.94331678, 0.91920048, 0.86157548, 0.90019237, 0.94232171,\n",
              "                     0.76475311, 0.26277077, 0.24638415, 0.24731515, 0.24439814,\n",
              "                     0.21116491, 0.4513095 , 0.52429642, 0.64939672, 0.81744366,\n",
              "                     0.64576282, 0.31897584, 0.52711184, 0.62751219, 0.60193327,\n",
              "                     0.89267547, 0.70213057, 0.69052168, 0.30401011, 0.81202269,\n",
              "                     0.72071027, 0.41765441, 0.68345881, 0.59037967, 0.05019523,\n",
              "                     0.08984678, 0.06888602, 0.10076163, 0.10150058, 0.98486905,\n",
              "                     0.98400339, 0.96000082, 0.98298278, 0.96706552, 0.98605485,\n",
              "                     0.96917171, 0.27088125, 0.19181328, 0.23780099, 0.14864021,\n",
              "                     0.18679813, 0.43395113, 0.2042565 , 0.5182488 , 0.37912619,\n",
              "                     0.0263146 , 0.01663011, 0.03260271, 0.05212118, 0.06092161,\n",
              "                     0.64767232, 0.33087091, 0.19942911, 0.16601641, 0.02117292,\n",
              "                     0.02255269, 0.02119628, 0.99098925, 0.99998549, 0.99700906,\n",
              "                     0.98506684, 0.99602222, 0.98418948, 0.69087695, 0.06315175,\n",
              "                     0.03396931, 0.01989348, 0.02807372, 0.02013295, 0.11284656,\n",
              "                     0.14534426, 0.92288595, 0.96113567, 0.97532786, 0.95910115,\n",
              "                     0.9494445 , 0.97088278, 0.88409745, 0.98172501, 0.97497602,\n",
              "                     0.96100262, 0.90127183, 0.89407107, 0.85963652, 0.5       ,\n",
              "                     0.04623671, 0.05179914, 0.2525566 , 0.40015712, 0.43114978,\n",
              "                     0.3368088 , 0.35977018, 0.79361512, 0.85117372, 0.55312451,\n",
              "                     0.1227837 , 0.22640647, 0.72522473, 0.43925231, 0.97221603,\n",
              "                     0.98150953, 0.99089926, 0.94638843, 0.9587994 , 0.64654198,\n",
              "                     0.65723423, 0.11413192, 0.28633083, 0.0574848 , 0.10919156,\n",
              "                     0.06643049, 0.06344582, 0.06653374, 0.67134395, 0.81950981,\n",
              "                     0.92402638, 0.9182154 , 0.88502753, 0.91373894, 0.74777651,\n",
              "                     0.2167149 , 0.22600866, 0.25555805, 0.08613161, 0.0615762 ,\n",
              "                     0.20799557, 0.41009987, 0.34313127, 0.56062972, 0.7414992 ,\n",
              "                     0.35334483, 0.37983981, 0.42124758, 0.18345553, 0.48332324,\n",
              "                     0.88402803, 0.79182569, 0.28454729, 0.08372983, 0.1389183 ,\n",
              "                     0.20191367, 0.84102493, 0.98305607, 0.97228002, 0.98071608,\n",
              "                     0.97262148, 0.81389105, 0.13879761, 0.25970192, 0.48185506,\n",
              "                     0.35511947, 0.22830589, 0.02570848, 0.03327044, 0.06122768,\n",
              "                     0.93124922, 0.96907989, 0.99269206, 0.98511127, 0.81587562,\n",
              "                     0.20775026, 0.34681392, 0.80602412, 0.82505873, 0.58063984,\n",
              "                     0.70198166, 0.62674883, 0.79141557, 0.44210119, 0.60232505,\n",
              "                     0.38840995, 0.23758973, 0.17048293, 0.17609453, 0.07623377,\n",
              "                     0.05609652, 0.69754319, 0.83806444, 0.79717086, 0.8494051 ,\n",
              "                     0.40512988, 0.5       , 0.14031184, 0.83706888, 0.92777538,\n",
              "                     0.90886371, 0.70102682, 0.29928145, 0.33127912, 0.62649231,\n",
              "                     0.77007697, 0.69180094, 0.12488734, 0.04658124, 0.0601577 ,\n",
              "                     0.22574859, 0.09142954, 0.97151189, 0.96703554, 0.95113437,\n",
              "                     0.81764654, 0.48421384, 0.70289322, 0.20702963, 0.71983132,\n",
              "                     0.48025243, 0.26913389, 0.41488356, 0.12988254, 0.30774414,\n",
              "                     0.77887731, 0.7090021 , 0.49070594, 0.26871475, 0.5       ,\n",
              "                     0.71285762, 0.11342405, 0.43166825, 0.64473775, 0.62024868,\n",
              "                     0.68191542, 0.24502346, 0.12156743, 0.14689035, 0.46088129,\n",
              "                     0.85747467, 0.82318444, 0.87065588, 0.85512981, 0.71771997,\n",
              "                     0.06135117, 0.28658613, 0.76727386, 0.78668141, 0.21525452,\n",
              "                     0.03562574, 0.29831034, 0.16097279, 0.34759029, 0.8954285 ,\n",
              "                     0.93547789, 0.78503483, 0.4657007 , 0.09107732, 0.53220951,\n",
              "                     0.47614466, 0.87463538, 0.92602686, 0.93051702, 0.411536  ,\n",
              "                     0.38491259, 0.23794803, 0.43916607, 0.77798457, 0.66702683,\n",
              "                     0.41791384, 0.15022615, 0.5       , 0.31606899, 0.18022981,\n",
              "                     0.57996299, 0.91793104, 0.83984738, 0.31038363, 0.27900956,\n",
              "                     0.07416537, 0.18685068, 0.91127691, 0.52359831, 0.64194531,\n",
              "                     0.4350552 , 0.11475878, 0.31898657, 0.57683387, 0.60236957,\n",
              "                     0.60697667, 0.34909797, 0.05880921, 0.50855342, 0.09840676,\n",
              "                     0.31361403, 0.26294191, 0.68718209, 0.94591161, 0.35649516,\n",
              "                     0.21964345, 0.74517879, 0.26926063, 0.7328607 , 0.84432019,\n",
              "                     0.73468816, 0.91316094, 0.79149   , 0.4111589 , 0.85456236,\n",
              "                     0.5       , 0.81055297, 0.24559964, 0.16344766, 0.1716716 ,\n",
              "                     0.30813945, 0.07866389, 0.74956747, 0.57502353, 0.14937351,\n",
              "                     0.25548647, 0.08684867, 0.30787848, 0.39117058, 0.8452358 ,\n",
              "                     0.72391745, 0.7494908 , 0.76307798, 0.86366765, 0.73131689,\n",
              "                     0.84588081, 0.65124357, 0.90528927, 0.69681476, 0.78471833,\n",
              "                     0.76277535, 0.60170899, 0.34482502, 0.9416847 , 0.70217956,\n",
              "                     0.94411642, 0.11321382, 0.0557306 , 0.2884904 , 0.41709374,\n",
              "                     0.94167928, 0.7447337 , 0.69339295, 0.41761041, 0.30800354,\n",
              "                     0.1338947 , 0.20941778, 0.72039501, 0.75509632, 0.19517711,\n",
              "                     0.40150259, 0.53921127, 0.37260346, 0.45868224])],\n",
              "             'val_acc': [0.7916666666666666],\n",
              "             'val_preds': [array([0, 0, 1, 0, 0, 0, 1, 1, 1, 1, 1, 1, 1, 1, 0, 1, 1, 1, 1, 0, 0, 1,\n",
              "                     1, 1, 1, 1, 1, 1, 1, 1, 0, 0, 0, 0, 0, 0, 1, 0, 0, 0, 1, 0, 0, 0,\n",
              "                     0, 0, 0, 0, 0, 1, 1, 1, 1, 1, 1, 1, 1, 1, 1, 1, 1, 0, 0, 1, 1, 1,\n",
              "                     1, 1, 1, 1, 1, 0, 1, 1, 1, 0, 0, 0, 0, 0, 0, 0, 0, 1, 1, 1, 0, 0,\n",
              "                     1, 1, 1, 1, 1, 1, 0, 1, 0, 1, 1, 0, 0, 0, 0, 0, 0, 1, 1, 1, 1, 1,\n",
              "                     1, 1, 1, 1, 1, 1, 0, 0, 0, 1, 0, 0, 0, 1, 0, 0, 1, 1, 1, 0, 0, 0,\n",
              "                     0, 1, 1, 1, 1, 1, 1, 0, 1, 1, 1, 0, 0, 0, 0, 1, 1, 1, 1, 1, 1, 1,\n",
              "                     1, 1, 1, 1, 1, 1, 1, 1, 0, 0, 0, 0, 0, 0, 1, 1, 1, 1, 0, 0, 0, 1,\n",
              "                     1, 1, 1, 1, 1, 1, 1, 0, 0, 1, 0, 0, 0, 1, 1, 1, 1, 1, 1, 1, 0, 0,\n",
              "                     0, 0, 0, 0, 0, 0, 0, 0, 0, 1, 0, 0, 1, 0, 0, 0, 1, 0, 0, 1, 0, 1,\n",
              "                     1, 1, 0, 0, 1, 0, 0, 1, 1, 1, 1, 1, 1, 1, 0, 0, 1, 1, 1, 1, 1, 1,\n",
              "                     1, 0, 0, 0, 0, 0, 0, 0, 0, 1, 1, 1, 1, 1, 1, 0, 0, 1, 1, 1, 1, 0,\n",
              "                     0, 0, 1, 1, 0, 1, 1, 1, 1, 1, 1, 1, 1, 1, 1, 1, 0, 0, 0, 0, 0, 0,\n",
              "                     0, 0, 0, 0, 1, 1, 0, 0, 1, 1, 0, 0, 0, 1, 1, 1, 1, 1, 0, 0, 0, 0,\n",
              "                     0, 0, 0, 0, 0, 1, 1, 1, 1, 1, 1, 1, 1, 1, 1, 1, 1, 0, 0, 1, 1, 1,\n",
              "                     1, 0, 0, 0, 0, 0, 1, 1, 1, 1, 1, 1, 0, 1, 1, 1, 1, 1, 1, 1, 0, 0,\n",
              "                     0, 0, 0, 0, 1, 1, 1, 1, 1, 1, 1, 1, 0, 1, 0, 0, 0, 0, 0, 0, 0, 0,\n",
              "                     0, 0, 0, 0, 0, 1, 0, 0, 0, 0, 0, 1, 1, 1, 1, 1, 1, 1, 0, 0, 0, 0,\n",
              "                     0, 0, 0, 1, 1, 1, 1, 1, 0, 0, 1, 1, 1, 1, 1, 1, 0, 0, 0, 0, 0, 0,\n",
              "                     0, 0, 1, 1, 1, 1, 1, 1, 1, 1, 1, 1, 1, 1, 1, 1, 1, 0, 0, 0, 0, 0,\n",
              "                     0, 1, 1, 1, 1, 1, 1, 1, 0, 0, 0, 0, 0, 0, 0, 1, 1, 0, 0, 0, 0, 0,\n",
              "                     1, 1, 1, 0, 0, 0, 0, 1, 1, 1, 1, 1, 1, 1, 0, 0, 0, 0, 0, 0, 0, 1,\n",
              "                     1, 1, 1, 1, 1, 1, 1, 1, 1, 1, 1, 1, 0, 0, 0, 0, 0, 0, 1, 1],\n",
              "                    dtype=uint16)],\n",
              "             'val_probs': [array([0.04704145, 0.30444712, 0.86588429, 0.47831677, 0.46436202,\n",
              "                     0.42713932, 0.63705267, 0.9257653 , 0.94086301, 0.84864447,\n",
              "                     0.79201793, 0.93546562, 0.7590032 , 0.89480363, 0.50673072,\n",
              "                     0.70325234, 0.86164675, 0.84350387, 0.6776524 , 0.14775936,\n",
              "                     0.10177919, 0.54059408, 0.75573546, 0.80164789, 0.95850079,\n",
              "                     0.99154939, 0.95781936, 0.96212113, 0.69868118, 0.66138143,\n",
              "                     0.14240377, 0.12219782, 0.08750831, 0.20802981, 0.32917233,\n",
              "                     0.32034193, 0.62786866, 0.34621496, 0.4321493 , 0.29660142,\n",
              "                     0.59631579, 0.47900875, 0.25108352, 0.41263068, 0.48086086,\n",
              "                     0.20841122, 0.08431248, 0.03260291, 0.05871092, 0.584571  ,\n",
              "                     0.69448373, 0.87965771, 0.80181462, 0.81479931, 0.62946401,\n",
              "                     0.80545238, 0.70828672, 0.74088901, 0.80198878, 0.94467985,\n",
              "                     0.76352269, 0.22509052, 0.11581833, 0.83064751, 0.89693241,\n",
              "                     0.92503686, 0.92600778, 0.92882283, 0.92312981, 0.85873491,\n",
              "                     0.77744535, 0.46003138, 0.57822986, 0.61364922, 0.66697886,\n",
              "                     0.4579074 , 0.40219943, 0.07379318, 0.04330275, 0.08091006,\n",
              "                     0.04293227, 0.02657625, 0.0744008 , 0.73258386, 0.65040949,\n",
              "                     0.74402523, 0.23791368, 0.5       , 0.64951321, 0.51790762,\n",
              "                     0.56878559, 0.67988595, 0.89446791, 0.64120897, 0.50926063,\n",
              "                     0.76964411, 0.5       , 0.9374821 , 0.68269469, 0.45050936,\n",
              "                     0.5141711 , 0.04839664, 0.18825863, 0.11872852, 0.12482262,\n",
              "                     0.81742467, 0.91875072, 0.96323457, 0.90126623, 0.87611577,\n",
              "                     0.82835591, 0.81010088, 0.74395303, 0.8426428 , 0.72705659,\n",
              "                     0.83567141, 0.26621091, 0.34432719, 0.30251307, 0.55241317,\n",
              "                     0.5       , 0.23409817, 0.26260475, 0.62989404, 0.29043152,\n",
              "                     0.05913714, 0.75681239, 0.82620048, 0.84453652, 0.1645526 ,\n",
              "                     0.06003613, 0.19430204, 0.09925939, 0.72134894, 0.82623085,\n",
              "                     0.80600773, 0.92836613, 0.8502578 , 0.64664096, 0.26668472,\n",
              "                     0.69767831, 0.8118372 , 0.8087878 , 0.21308392, 0.11809813,\n",
              "                     0.31398686, 0.2112331 , 0.79459774, 0.90526034, 0.89566987,\n",
              "                     0.92872221, 0.85863515, 0.79540272, 0.56265244, 0.58102234,\n",
              "                     0.64681602, 0.66453238, 0.55056967, 0.77672219, 0.83394121,\n",
              "                     0.79915197, 0.67325342, 0.23720581, 0.11432034, 0.33940229,\n",
              "                     0.18561879, 0.28023262, 0.14482814, 0.80335343, 0.87965403,\n",
              "                     0.83497497, 0.73325035, 0.18326786, 0.17825981, 0.08234105,\n",
              "                     0.64619315, 0.64788225, 0.81087374, 0.76444238, 0.72077664,\n",
              "                     0.75900219, 0.73758547, 0.56800635, 0.26223995, 0.5       ,\n",
              "                     0.61099802, 0.51371172, 0.30537966, 0.48604916, 0.60366677,\n",
              "                     0.92615075, 0.97436454, 0.6999435 , 0.8441679 , 0.89713618,\n",
              "                     0.55484388, 0.2002406 , 0.20435542, 0.12277676, 0.03286162,\n",
              "                     0.06739213, 0.27457984, 0.24776044, 0.26430339, 0.09527162,\n",
              "                     0.04217811, 0.26988077, 0.61251895, 0.15392188, 0.06359137,\n",
              "                     0.70987403, 0.51192333, 0.37559259, 0.36166349, 0.61045863,\n",
              "                     0.37701797, 0.20428729, 0.7293768 , 0.40078086, 0.78478665,\n",
              "                     0.83403035, 0.59722714, 0.34994337, 0.45877538, 0.63598673,\n",
              "                     0.45997169, 0.16734059, 0.75386259, 0.7914399 , 0.77239159,\n",
              "                     0.6629056 , 0.58960151, 0.6199608 , 0.63497492, 0.47092647,\n",
              "                     0.46446339, 0.65653559, 0.52259144, 0.81845974, 0.98278988,\n",
              "                     0.95249619, 0.74234959, 0.90000258, 0.41350477, 0.44027198,\n",
              "                     0.30259398, 0.08964099, 0.26212493, 0.40337535, 0.47402429,\n",
              "                     0.37008406, 0.6738458 , 0.6253503 , 0.80069732, 0.71300232,\n",
              "                     0.6199213 , 0.53453364, 0.15540559, 0.25455641, 0.7624159 ,\n",
              "                     0.91329839, 0.85840395, 0.71457184, 0.37241624, 0.11699668,\n",
              "                     0.03770294, 0.66008224, 0.59165712, 0.34213666, 0.68029826,\n",
              "                     0.88634886, 0.77731495, 0.83774959, 0.88344958, 0.97674157,\n",
              "                     0.91639915, 0.87082243, 0.95456968, 0.89352522, 0.78345699,\n",
              "                     0.08857963, 0.0865336 , 0.24399599, 0.2198535 , 0.31941267,\n",
              "                     0.15934945, 0.29480422, 0.12735044, 0.27878054, 0.39560149,\n",
              "                     0.75808169, 0.65996526, 0.25080054, 0.36889706, 0.54756436,\n",
              "                     0.79054772, 0.16941816, 0.20290053, 0.5       , 0.8068026 ,\n",
              "                     0.58848046, 0.91618886, 0.96045728, 0.95016169, 0.48198309,\n",
              "                     0.16214925, 0.13164394, 0.15540065, 0.26401915, 0.17165897,\n",
              "                     0.07703304, 0.10792472, 0.36882857, 0.65982548, 0.74538555,\n",
              "                     0.96213107, 0.94693071, 0.90162455, 0.92208715, 0.94817306,\n",
              "                     0.92741376, 0.8984993 , 0.63161548, 0.7725482 , 0.6322221 ,\n",
              "                     0.13172726, 0.18168345, 0.79314667, 0.77193506, 0.82300357,\n",
              "                     0.67517576, 0.20048842, 0.13882637, 0.02927571, 0.04141873,\n",
              "                     0.17601339, 0.54021768, 0.93193353, 0.89894371, 0.64758373,\n",
              "                     0.79452124, 0.84302213, 0.44139153, 0.89574887, 0.79358385,\n",
              "                     0.70985262, 0.62291857, 0.96072995, 0.8701904 , 0.86357023,\n",
              "                     0.35006827, 0.27593857, 0.12439904, 0.16754214, 0.18141971,\n",
              "                     0.37463918, 0.6355771 , 0.97665035, 0.98309179, 0.94870544,\n",
              "                     0.90108633, 0.90523039, 0.84920776, 0.84814566, 0.5       ,\n",
              "                     0.53190902, 0.10346443, 0.08135514, 0.0794961 , 0.04806556,\n",
              "                     0.07798946, 0.29784998, 0.11266476, 0.31776845, 0.01502481,\n",
              "                     0.02945936, 0.21869852, 0.07025619, 0.31560511, 0.6880243 ,\n",
              "                     0.03304027, 0.04658758, 0.24634089, 0.31424743, 0.20225861,\n",
              "                     0.96376443, 0.9434051 , 0.90734241, 0.88997405, 0.94748515,\n",
              "                     0.932858  , 0.75360918, 0.17192927, 0.0550083 , 0.03503178,\n",
              "                     0.17222997, 0.00891071, 0.00695927, 0.03071032, 0.96813306,\n",
              "                     0.95471326, 0.95656211, 0.93851353, 0.93585107, 0.47960563,\n",
              "                     0.41646231, 0.97155696, 0.98492813, 0.90984004, 0.76390699,\n",
              "                     0.90607227, 0.79439742, 0.47273579, 0.06103741, 0.03289519,\n",
              "                     0.4017602 , 0.22896067, 0.10195114, 0.2228452 , 0.24571646,\n",
              "                     0.9527717 , 0.93955643, 0.7850366 , 0.8003302 , 0.83527701,\n",
              "                     0.85760546, 0.90707613, 0.52929115, 0.72373692, 0.77506871,\n",
              "                     0.54215463, 0.68888018, 0.83554489, 0.71145772, 0.65020566,\n",
              "                     0.11794289, 0.15619678, 0.2305555 , 0.03056114, 0.13510745,\n",
              "                     0.46875012, 0.98768753, 0.96310622, 0.95143856, 0.9099022 ,\n",
              "                     0.81050023, 0.82712948, 0.88603102, 0.12934579, 0.20616564,\n",
              "                     0.26370445, 0.07423591, 0.06095884, 0.18412128, 0.23745571,\n",
              "                     0.72455572, 0.79369244, 0.43320608, 0.17375947, 0.23781254,\n",
              "                     0.17917727, 0.18784316, 0.7493146 , 0.79193554, 0.55447874,\n",
              "                     0.05084985, 0.03287151, 0.03813353, 0.0775198 , 0.96388811,\n",
              "                     0.99070515, 0.94868819, 0.92717131, 0.95281069, 0.92000433,\n",
              "                     0.67108854, 0.05978855, 0.0263573 , 0.03860493, 0.03639817,\n",
              "                     0.01379726, 0.24915136, 0.1878511 , 0.96918873, 0.96729182,\n",
              "                     0.90620085, 0.95014316, 0.86934185, 0.76053059, 0.65538242,\n",
              "                     0.97533796, 0.97102527, 0.87737945, 0.78543606, 0.88062945,\n",
              "                     0.71000909, 0.1988109 , 0.01990922, 0.0181121 , 0.10002965,\n",
              "                     0.11862988, 0.35024081, 0.67142499, 0.56133302])],\n",
              "             'y_t': [array([1, 1, 1, 1, 1, 1, 1, 1, 1, 1, 1, 1, 1, 1, 0, 0, 0, 0, 0, 0, 0, 1,\n",
              "                     1, 1, 1, 1, 1, 1, 0, 0, 0, 0, 0, 0, 0, 0, 0, 0, 0, 0, 0, 0, 0, 0,\n",
              "                     0, 0, 0, 0, 0, 1, 1, 1, 1, 1, 1, 1, 0, 0, 0, 0, 0, 0, 0, 1, 1, 1,\n",
              "                     1, 1, 1, 1, 1, 1, 1, 1, 1, 1, 1, 0, 0, 0, 0, 0, 0, 0, 1, 1, 1, 1,\n",
              "                     1, 1, 1, 1, 1, 1, 1, 1, 1, 1, 0, 0, 0, 0, 0, 0, 0, 1, 1, 1, 1, 1,\n",
              "                     1, 1, 0, 0, 0, 0, 0, 0, 0, 0, 0, 0, 0, 0, 0, 0, 0, 0, 0, 0, 0, 0,\n",
              "                     0, 1, 1, 1, 1, 1, 1, 1, 0, 0, 0, 0, 0, 0, 0, 1, 1, 1, 1, 1, 1, 1,\n",
              "                     1, 1, 1, 1, 1, 1, 1, 0, 0, 0, 0, 0, 0, 0, 1, 1, 1, 1, 1, 1, 1, 1,\n",
              "                     1, 1, 1, 1, 1, 1, 0, 0, 0, 0, 0, 0, 0, 1, 1, 1, 1, 1, 1, 1, 0, 0,\n",
              "                     0, 0, 0, 0, 0, 0, 0, 0, 0, 0, 0, 0, 0, 0, 0, 0, 0, 0, 0, 1, 1, 1,\n",
              "                     1, 1, 1, 1, 0, 0, 0, 0, 0, 0, 0, 1, 1, 1, 1, 1, 1, 1, 1, 1, 1, 1,\n",
              "                     1, 1, 1, 0, 0, 0, 0, 0, 0, 0, 1, 1, 1, 1, 1, 1, 1, 1, 1, 1, 1, 1,\n",
              "                     1, 1, 0, 0, 0, 0, 0, 0, 0, 1, 1, 1, 1, 1, 1, 1, 0, 0, 0, 0, 0, 0,\n",
              "                     0, 0, 0, 0, 0, 0, 0, 0, 0, 0, 0, 0, 0, 0, 0, 1, 1, 1, 1, 1, 1, 1,\n",
              "                     0, 0, 0, 0, 0, 0, 0, 1, 1, 1, 1, 1, 1, 1, 1, 1, 1, 1, 1, 1, 1, 0,\n",
              "                     0, 0, 0, 0, 0, 0, 1, 1, 1, 1, 1, 1, 1, 1, 1, 1, 1, 1, 1, 1, 0, 0,\n",
              "                     0, 0, 0, 0, 0, 1, 1, 1, 1, 1, 1, 1, 0, 0, 0, 0, 0, 0, 0, 0, 0, 0,\n",
              "                     0, 0, 0, 0, 0, 0, 0, 0, 0, 0, 0, 1, 1, 1, 1, 1, 1, 1, 0, 0, 0, 0,\n",
              "                     0, 0, 0, 1, 1, 1, 1, 1, 1, 1, 1, 1, 1, 1, 1, 1, 1, 0, 0, 0, 0, 0,\n",
              "                     0, 0, 1, 1, 1, 1, 1, 1, 1, 1, 1, 1, 1, 1, 1, 1, 0, 0, 0, 0, 0, 0,\n",
              "                     0, 1, 1, 1, 1, 1, 1, 1, 0, 0, 0, 0, 0, 0, 0, 0, 0, 0, 0, 0, 0, 0,\n",
              "                     0, 0, 0, 0, 0, 0, 0, 1, 1, 1, 1, 1, 1, 1, 0, 0, 0, 0, 0, 0, 0, 1,\n",
              "                     1, 1, 1, 1, 1, 1, 1, 1, 1, 1, 1, 1, 1, 0, 0, 0, 0, 0, 0, 0],\n",
              "                    dtype=uint16)],\n",
              "             'y_v': [array([1, 1, 1, 1, 1, 1, 1, 1, 1, 1, 1, 1, 1, 1, 0, 0, 0, 0, 0, 0, 0, 1,\n",
              "                     1, 1, 1, 1, 1, 1, 0, 0, 0, 0, 0, 0, 0, 0, 0, 0, 0, 0, 0, 0, 0, 0,\n",
              "                     0, 0, 0, 0, 0, 1, 1, 1, 1, 1, 1, 1, 0, 0, 0, 0, 0, 0, 0, 1, 1, 1,\n",
              "                     1, 1, 1, 1, 1, 1, 1, 1, 1, 1, 1, 0, 0, 0, 0, 0, 0, 0, 1, 1, 1, 1,\n",
              "                     1, 1, 1, 1, 1, 1, 1, 1, 1, 1, 0, 0, 0, 0, 0, 0, 0, 1, 1, 1, 1, 1,\n",
              "                     1, 1, 0, 0, 0, 0, 0, 0, 0, 0, 0, 0, 0, 0, 0, 0, 0, 0, 0, 0, 0, 0,\n",
              "                     0, 1, 1, 1, 1, 1, 1, 1, 0, 0, 0, 0, 0, 0, 0, 1, 1, 1, 1, 1, 1, 1,\n",
              "                     1, 1, 1, 1, 1, 1, 1, 0, 0, 0, 0, 0, 0, 0, 1, 1, 1, 1, 1, 1, 1, 1,\n",
              "                     1, 1, 1, 1, 1, 1, 0, 0, 0, 0, 0, 0, 0, 1, 1, 1, 1, 1, 1, 1, 0, 0,\n",
              "                     0, 0, 0, 0, 0, 0, 0, 0, 0, 0, 0, 0, 0, 0, 0, 0, 0, 0, 0, 1, 1, 1,\n",
              "                     1, 1, 1, 1, 0, 0, 0, 0, 0, 0, 0, 1, 1, 1, 1, 1, 1, 1, 1, 1, 1, 1,\n",
              "                     1, 1, 1, 0, 0, 0, 0, 0, 0, 0, 1, 1, 1, 1, 1, 1, 1, 1, 1, 1, 1, 1,\n",
              "                     1, 1, 0, 0, 0, 0, 0, 0, 0, 1, 1, 1, 1, 1, 1, 1, 0, 0, 0, 0, 0, 0,\n",
              "                     0, 0, 0, 0, 0, 0, 0, 0, 0, 0, 0, 0, 0, 0, 0, 1, 1, 1, 1, 1, 1, 1,\n",
              "                     0, 0, 0, 0, 0, 0, 0, 1, 1, 1, 1, 1, 1, 1, 1, 1, 1, 1, 1, 1, 1, 0,\n",
              "                     0, 0, 0, 0, 0, 0, 1, 1, 1, 1, 1, 1, 1, 1, 1, 1, 1, 1, 1, 1, 0, 0,\n",
              "                     0, 0, 0, 0, 0, 1, 1, 1, 1, 1, 1, 1, 0, 0, 0, 0, 0, 0, 0, 0, 0, 0,\n",
              "                     0, 0, 0, 0, 0, 0, 0, 0, 0, 0, 0, 1, 1, 1, 1, 1, 1, 1, 0, 0, 0, 0,\n",
              "                     0, 0, 0, 1, 1, 1, 1, 1, 1, 1, 1, 1, 1, 1, 1, 1, 1, 0, 0, 0, 0, 0,\n",
              "                     0, 0, 1, 1, 1, 1, 1, 1, 1, 1, 1, 1, 1, 1, 1, 1, 0, 0, 0, 0, 0, 0,\n",
              "                     0, 1, 1, 1, 1, 1, 1, 1, 0, 0, 0, 0, 0, 0, 0, 0, 0, 0, 0, 0, 0, 0,\n",
              "                     0, 0, 0, 0, 0, 0, 0, 1, 1, 1, 1, 1, 1, 1, 0, 0, 0, 0, 0, 0, 0, 1,\n",
              "                     1, 1, 1, 1, 1, 1, 1, 1, 1, 1, 1, 1, 1, 0, 0, 0, 0, 0, 0, 0],\n",
              "                    dtype=uint16)]})"
            ]
          },
          "metadata": {},
          "execution_count": 5
        }
      ]
    },
    {
      "cell_type": "code",
      "source": [
        ""
      ],
      "metadata": {
        "id": "emeOGNa_9g5R"
      },
      "execution_count": null,
      "outputs": []
    }
  ]
}