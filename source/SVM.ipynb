{
 "cells": [
  {
   "cell_type": "markdown",
   "metadata": {},
   "source": [
    "# Support Vector Machine Training\n",
    "- load local pickle file containing all masked subject data in numpy matrix format\n",
    "- SVM training all subjects\n",
    "- SVM training per subject"
   ]
  },
  {
   "cell_type": "code",
   "execution_count": 6,
   "metadata": {
    "pycharm": {
     "is_executing": false
    }
   },
   "outputs": [],
   "source": [
    "# Import libraries\n",
    "import pickle\n",
    "from utils import *\n",
    "from sklearn import svm\n",
    "import numpy as np"
   ]
  },
  {
   "cell_type": "code",
   "execution_count": 7,
   "metadata": {
    "pycharm": {
     "is_executing": false
    }
   },
   "outputs": [
    {
     "name": "stdout",
     "text": [
      "CPU times: user 2.66 s, sys: 6.58 s, total: 9.24 s\nWall time: 10 s\n"
     ],
     "output_type": "stream"
    }
   ],
   "source": [
    "%%time \n",
    "\n",
    "#Load all subject data + labels\n",
    "local_data_path = \"data/all_data_dictionary.pkl\" # unnormalized\n",
    "#local_data_path = \"data/all_data_norm_dict.pkl\" #normalized on subject run\n",
    "all_data = open_pickle(local_data_path)\n"
   ]
  },
  {
   "cell_type": "code",
   "execution_count": null,
   "metadata": {},
   "outputs": [],
   "source": [
    "#open path dictionary file to get subject ids\n",
    "path = \"data/data_path_dictionary.pkl\"\n",
    "data_path_dict = open_pickle(path)\n",
    "subject_ids = data_path_dict['subject_ID']\n"
   ]
  },
  {
   "cell_type": "code",
   "execution_count": null,
   "metadata": {},
   "outputs": [],
   "source": [
    "X = []\n",
    "y = []\n",
    "\n",
    "# Get X data from dictionary\n",
    "for id_ in subject_ids:\n",
    "    for matrix in all_data[id_]:\n",
    "        #print(matrix)\n",
    "        X.append(matrix)\n",
    "        \n",
    "        \n",
    "# Get y label from dictioanry\n",
    "for id_ in subject_ids:\n",
    "    for label in all_data[f\"{id_}_rt_labels\"]:\n",
    "        #print(matrix)\n",
    "        y.append(label)\n",
    "        \n",
    "      "
   ]
  },
  {
   "cell_type": "code",
   "execution_count": null,
   "metadata": {},
   "outputs": [],
   "source": [
    "#4 runs * 52 subjects = 208\n",
    "print(f\"length of X data: {len(X)} and length of y data: {len(y)}\")"
   ]
  },
  {
   "cell_type": "markdown",
   "metadata": {},
   "source": [
    "### Set up SVM Model"
   ]
  },
  {
   "cell_type": "code",
   "execution_count": null,
   "metadata": {},
   "outputs": [],
   "source": []
  }
 ],
 "metadata": {
  "kernelspec": {
   "display_name": "Python 3",
   "language": "python",
   "name": "python3"
  },
  "language_info": {
   "codemirror_mode": {
    "name": "ipython",
    "version": 3
   },
   "file_extension": ".py",
   "mimetype": "text/x-python",
   "name": "python",
   "nbconvert_exporter": "python",
   "pygments_lexer": "ipython3",
   "version": "3.7.3"
  },
  "pycharm": {
   "stem_cell": {
    "cell_type": "raw",
    "source": [],
    "metadata": {
     "collapsed": false
    }
   }
  }
 },
 "nbformat": 4,
 "nbformat_minor": 2
}