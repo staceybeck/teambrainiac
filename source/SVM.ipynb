{
 "cells": [
  {
   "cell_type": "markdown",
   "metadata": {},
   "source": [
    "# Support Vector Machine Training\n",
    "- load local pickle file containing all masked subject data in numpy matrix format\n",
    "- SVM training all subjects\n",
    "- SVM training per subject"
   ]
  },
  {
   "cell_type": "code",
   "execution_count": 12,
   "metadata": {
    "pycharm": {
     "is_executing": false
    }
   },
   "outputs": [],
   "source": [
    "# Import libraries\n",
    "import pickle\n",
    "from utils import *\n",
    "from sklearn.svm import SVC\n",
    "import numpy as np\n",
    "import random"
   ]
  },
  {
   "cell_type": "code",
   "execution_count": 13,
   "metadata": {
    "pycharm": {
     "is_executing": false
    }
   },
   "outputs": [
    {
     "name": "stdout",
     "text": [
      "CPU times: user 3 s, sys: 8.11 s, total: 11.1 s\nWall time: 12 s\n"
     ],
     "output_type": "stream"
    }
   ],
   "source": [
    "%%time \n",
    "\n",
    "#Load all subject data + labels\n",
    "local_data_path = \"data/all_data_dictionary.pkl\" # unnormalized\n",
    "#local_data_path = \"data/single_sub_norm_2d.pkl\" # unnormalized\n",
    "#local_data_path = \"data/all_data_norm_dict.pkl\" #normalized on subject run\n",
    "all_data = open_pickle(local_data_path)\n"
   ]
  },
  {
   "cell_type": "code",
   "execution_count": 14,
   "metadata": {
    "pycharm": {
     "is_executing": false
    }
   },
   "outputs": [],
   "source": [
    "#open path dictionary file to get subject ids\n",
    "path = \"data/data_path_dictionary.pkl\"\n",
    "data_path_dict = open_pickle(path)\n",
    "subject_ids = data_path_dict['subject_ID']\n",
    "sub_id = subject_ids\n"
   ]
  },
  {
   "cell_type": "code",
   "execution_count": 15,
   "metadata": {
    "pycharm": {
     "is_executing": false
    }
   },
   "outputs": [
    {
     "name": "stdout",
     "text": [
      "36\n8\n8\n"
     ],
     "output_type": "stream"
    },
    {
     "data": {
      "text/plain": "52"
     },
     "metadata": {},
     "output_type": "execute_result",
     "execution_count": 15
    }
   ],
   "source": [
    "# Randomly shuffle ids for train test val splits\n",
    "\n",
    "random.shuffle(sub_id)\n",
    "\n",
    "# get train, test val data\n",
    "train_ids = sub_id[:36]\n",
    "val_ids = sub_id[36:44]\n",
    "test_ids = sub_id[44:53]\n",
    "\n",
    "print(len(train_ids))\n",
    "print(len(val_ids))\n",
    "print(len(test_ids))\n",
    "len(sub_id)"
   ]
  },
  {
   "cell_type": "code",
   "execution_count": 16,
   "metadata": {
    "pycharm": {
     "is_executing": false
    }
   },
   "outputs": [],
   "source": [
    "# Get train test val data \n",
    "X_train = []\n",
    "y_train = []\n",
    "\n",
    "X_val = []\n",
    "y_val = []\n",
    "\n",
    "X_test = []\n",
    "y_test = []\n",
    "\n",
    "# Get X data from dictionary\n",
    "for id_ in train_ids:\n",
    "    for matrix in all_data[id_]:\n",
    "        #print(matrix)\n",
    "        X_train.append(matrix)\n",
    "        \n",
    "        \n",
    "# Get y label from dictioanry\n",
    "for id_ in train_ids:\n",
    "    for label in all_data[f\"{id_}_rt_labels\"]:\n",
    "        #print(matrix)\n",
    "        y_train.append(label)\n",
    "        \n",
    "\n",
    "\n",
    "# Get X data from dictionary\n",
    "for id_ in val_ids:\n",
    "    for matrix in all_data[id_]:\n",
    "        #print(matrix)\n",
    "        X_val.append(matrix)\n",
    "        \n",
    "        \n",
    "# Get y label from dictioanry\n",
    "for id_ in val_ids:\n",
    "    for label in all_data[f\"{id_}_rt_labels\"]:\n",
    "        #print(matrix)\n",
    "        y_val.append(label)\n",
    "        \n",
    "    \n",
    "\n",
    "# Get X data from dictionary\n",
    "for id_ in test_ids:\n",
    "    for matrix in all_data[id_]:\n",
    "        #print(matrix)\n",
    "        X_test.append(matrix)\n",
    "        \n",
    "        \n",
    "# Get y label from dictioanry\n",
    "for id_ in test_ids:\n",
    "    for label in all_data[f\"{id_}_rt_labels\"]:\n",
    "        #print(matrix)\n",
    "        y_test.append(label)\n",
    "        \n",
    "      "
   ]
  },
  {
   "cell_type": "code",
   "execution_count": 19,
   "metadata": {
    "pycharm": {
     "is_executing": false
    }
   },
   "outputs": [
    {
     "name": "stdout",
     "text": [
      "length of Xtrain data: 144 and length of ytrain data: 144\nlength of Xval data: 32 and length of yval data: 32\nlength of Xtest data: 32 and length of ytest data: 32\n"
     ],
     "output_type": "stream"
    }
   ],
   "source": [
    "#4 runs * 52 subjects = 208\n",
    "print(f\"length of Xtrain data: {len(X_train)} and length of ytrain data: {len(y_train)}\")\n",
    "print(f\"length of Xval data: {len(X_val)} and length of yval data: {len(y_val)}\")\n",
    "print(f\"length of Xtest data: {len(X_test)} and length of ytest data: {len(y_test)}\")\n",
    "#print(f\"length of X data: {len(X)} and length of y data: {len(y)}\")"
   ]
  },
  {
   "cell_type": "code",
   "execution_count": 20,
   "metadata": {
    "pycharm": {
     "is_executing": false
    }
   },
   "outputs": [
    {
     "name": "stdout",
     "text": [
      "Xtrain data shape  (144, 84, 237979)\nytrain data shape  (144, 84)\n"
     ],
     "output_type": "stream"
    }
   ],
   "source": [
    "X_train = np.array(X_train)\n",
    "y_train = np.array(y_train)\n",
    "print( \"Xtrain data shape \", X_train.shape)\n",
    "print( \"ytrain data shape \", y_train.shape)\n"
   ]
  },
  {
   "cell_type": "code",
   "execution_count": 21,
   "metadata": {
    "pycharm": {
     "is_executing": false
    }
   },
   "outputs": [
    {
     "name": "stdout",
     "text": [
      "Xtrain data shape after concantenation  (12096, 237979)\nytrain data shape after concantenation  (12096,)\n"
     ],
     "output_type": "stream"
    }
   ],
   "source": [
    "X_train = np.concatenate(X_train)\n",
    "y_train = np.concatenate(y_train)\n",
    "print( \"Xtrain data shape after concantenation \", X_train.shape)\n",
    "print( \"ytrain data shape after concantenation \", y_train.shape)"
   ]
  },
  {
   "cell_type": "markdown",
   "metadata": {},
   "source": [
    "### Set up SVM Model"
   ]
  },
  {
   "cell_type": "code",
   "execution_count": null,
   "metadata": {},
   "outputs": [],
   "source": [
    "%%time\n",
    "clf = SVC()\n",
    "clf.fit(X_train, y_train)\n"
   ]
  }
 ],
 "metadata": {
  "kernelspec": {
   "display_name": "Python 3",
   "language": "python",
   "name": "python3"
  },
  "language_info": {
   "codemirror_mode": {
    "name": "ipython",
    "version": 3
   },
   "file_extension": ".py",
   "mimetype": "text/x-python",
   "name": "python",
   "nbconvert_exporter": "python",
   "pygments_lexer": "ipython3",
   "version": "3.7.3"
  },
  "pycharm": {
   "stem_cell": {
    "cell_type": "raw",
    "source": [],
    "metadata": {
     "collapsed": false
    }
   }
  }
 },
 "nbformat": 4,
 "nbformat_minor": 2
}