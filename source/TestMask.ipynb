{
  "nbformat": 4,
  "nbformat_minor": 0,
  "metadata": {
    "colab": {
      "name": "TestMask",
      "provenance": [],
      "authorship_tag": "ABX9TyMF3QgPyZuT5kKDHrMgPMCk",
      "include_colab_link": true
    },
    "kernelspec": {
      "name": "python3",
      "display_name": "Python 3"
    },
    "language_info": {
      "name": "python"
    }
  },
  "cells": [
    {
      "cell_type": "markdown",
      "metadata": {
        "id": "view-in-github",
        "colab_type": "text"
      },
      "source": [
        "<a href=\"https://colab.research.google.com/github/yecatstevir/teambrainiac/blob/main/source/TestMask.ipynb\" target=\"_parent\"><img src=\"https://colab.research.google.com/assets/colab-badge.svg\" alt=\"Open In Colab\"/></a>"
      ]
    },
    {
      "cell_type": "code",
      "execution_count": null,
      "metadata": {
        "id": "fPJxgcCQgi8r"
      },
      "outputs": [],
      "source": [
        ""
      ]
    },
    {
      "cell_type": "code",
      "execution_count": 1,
      "metadata": {
        "colab": {
          "base_uri": "https://localhost:8080/"
        },
        "id": "nEljtKXBF017",
        "outputId": "1821549c-d315-431f-f299-37a9452c69e8"
      },
      "outputs": [
        {
          "output_type": "stream",
          "name": "stdout",
          "text": [
            "Mounted at /content/gdrive\n"
          ]
        }
      ],
      "source": [
        "from google.colab import drive\n",
        "drive.mount('/content/gdrive')#, force_remount = True)"
      ]
    },
    {
      "cell_type": "code",
      "source": [
        "from google.colab import drive\n",
        "drive.mount('/content/drive', force_remount=True)"
      ],
      "metadata": {
        "id": "WSXI6A9OF6uV",
        "colab": {
          "base_uri": "https://localhost:8080/"
        },
        "outputId": "0d7e5be0-3b7d-4293-ecc0-9954c02933d9"
      },
      "execution_count": 2,
      "outputs": [
        {
          "output_type": "stream",
          "name": "stdout",
          "text": [
            "Mounted at /content/drive\n"
          ]
        }
      ]
    },
    {
      "cell_type": "code",
      "source": [
        "# Clone the entire repo.\n",
        "!git clone -l -s https://github.com/yecatstevir/teambrainiac.git\n",
        "# Change directory into cloned repo\n",
        "%cd teambrainiac/source\n",
        "!ls"
      ],
      "metadata": {
        "colab": {
          "base_uri": "https://localhost:8080/"
        },
        "id": "jnpfOAn7F9EN",
        "outputId": "ebf2986c-d2e7-463a-e254-8cce8f8728df"
      },
      "execution_count": 3,
      "outputs": [
        {
          "output_type": "stream",
          "name": "stdout",
          "text": [
            "Cloning into 'teambrainiac'...\n",
            "warning: --local is ignored\n",
            "remote: Enumerating objects: 651, done.\u001b[K\n",
            "remote: Counting objects: 100% (651/651), done.\u001b[K\n",
            "remote: Compressing objects: 100% (467/467), done.\u001b[K\n",
            "remote: Total 651 (delta 398), reused 343 (delta 168), pack-reused 0\u001b[K\n",
            "Receiving objects: 100% (651/651), 68.39 MiB | 12.31 MiB/s, done.\n",
            "Resolving deltas: 100% (398/398), done.\n",
            "/content/teambrainiac/source\n",
            "AccuracyMeasures.ipynb\t  models\n",
            "analysis.py\t\t  process.py\n",
            "cross_validation.py\t  SingleSubjectSVM.ipynb\n",
            "data\t\t\t  SubjectVisualization_Models_ZNORM.ipynb\n",
            "DL\t\t\t  SVM_Group_Adolescent_Whole_brain.ipynb\n",
            "Explore_data.ipynb\t  SVM_Group_YA_Whole_brain.ipynb\n",
            "explore.py\t\t  train.py\n",
            "Group_All_MASK_SVM.ipynb  utils.py\n",
            "helper\t\t\t  VisualizationPlayground.ipynb\n",
            "Images\t\t\t  Visualize_Data.ipynb\n",
            "__init__.py\n"
          ]
        }
      ]
    },
    {
      "cell_type": "code",
      "source": [
        "from google.colab import files\n",
        "\n",
        "uploaded = files.upload()\n",
        "\n",
        "for fn in uploaded.keys():\n",
        "  print('User uploaded file \"{name}\" with length {length} bytes'.format(\n",
        "      name=fn, length=len(uploaded[fn])))"
      ],
      "metadata": {
        "colab": {
          "resources": {
            "http://localhost:8080/nbextensions/google.colab/files.js": {
              "data": "Ly8gQ29weXJpZ2h0IDIwMTcgR29vZ2xlIExMQwovLwovLyBMaWNlbnNlZCB1bmRlciB0aGUgQXBhY2hlIExpY2Vuc2UsIFZlcnNpb24gMi4wICh0aGUgIkxpY2Vuc2UiKTsKLy8geW91IG1heSBub3QgdXNlIHRoaXMgZmlsZSBleGNlcHQgaW4gY29tcGxpYW5jZSB3aXRoIHRoZSBMaWNlbnNlLgovLyBZb3UgbWF5IG9idGFpbiBhIGNvcHkgb2YgdGhlIExpY2Vuc2UgYXQKLy8KLy8gICAgICBodHRwOi8vd3d3LmFwYWNoZS5vcmcvbGljZW5zZXMvTElDRU5TRS0yLjAKLy8KLy8gVW5sZXNzIHJlcXVpcmVkIGJ5IGFwcGxpY2FibGUgbGF3IG9yIGFncmVlZCB0byBpbiB3cml0aW5nLCBzb2Z0d2FyZQovLyBkaXN0cmlidXRlZCB1bmRlciB0aGUgTGljZW5zZSBpcyBkaXN0cmlidXRlZCBvbiBhbiAiQVMgSVMiIEJBU0lTLAovLyBXSVRIT1VUIFdBUlJBTlRJRVMgT1IgQ09ORElUSU9OUyBPRiBBTlkgS0lORCwgZWl0aGVyIGV4cHJlc3Mgb3IgaW1wbGllZC4KLy8gU2VlIHRoZSBMaWNlbnNlIGZvciB0aGUgc3BlY2lmaWMgbGFuZ3VhZ2UgZ292ZXJuaW5nIHBlcm1pc3Npb25zIGFuZAovLyBsaW1pdGF0aW9ucyB1bmRlciB0aGUgTGljZW5zZS4KCi8qKgogKiBAZmlsZW92ZXJ2aWV3IEhlbHBlcnMgZm9yIGdvb2dsZS5jb2xhYiBQeXRob24gbW9kdWxlLgogKi8KKGZ1bmN0aW9uKHNjb3BlKSB7CmZ1bmN0aW9uIHNwYW4odGV4dCwgc3R5bGVBdHRyaWJ1dGVzID0ge30pIHsKICBjb25zdCBlbGVtZW50ID0gZG9jdW1lbnQuY3JlYXRlRWxlbWVudCgnc3BhbicpOwogIGVsZW1lbnQudGV4dENvbnRlbnQgPSB0ZXh0OwogIGZvciAoY29uc3Qga2V5IG9mIE9iamVjdC5rZXlzKHN0eWxlQXR0cmlidXRlcykpIHsKICAgIGVsZW1lbnQuc3R5bGVba2V5XSA9IHN0eWxlQXR0cmlidXRlc1trZXldOwogIH0KICByZXR1cm4gZWxlbWVudDsKfQoKLy8gTWF4IG51bWJlciBvZiBieXRlcyB3aGljaCB3aWxsIGJlIHVwbG9hZGVkIGF0IGEgdGltZS4KY29uc3QgTUFYX1BBWUxPQURfU0laRSA9IDEwMCAqIDEwMjQ7CgpmdW5jdGlvbiBfdXBsb2FkRmlsZXMoaW5wdXRJZCwgb3V0cHV0SWQpIHsKICBjb25zdCBzdGVwcyA9IHVwbG9hZEZpbGVzU3RlcChpbnB1dElkLCBvdXRwdXRJZCk7CiAgY29uc3Qgb3V0cHV0RWxlbWVudCA9IGRvY3VtZW50LmdldEVsZW1lbnRCeUlkKG91dHB1dElkKTsKICAvLyBDYWNoZSBzdGVwcyBvbiB0aGUgb3V0cHV0RWxlbWVudCB0byBtYWtlIGl0IGF2YWlsYWJsZSBmb3IgdGhlIG5leHQgY2FsbAogIC8vIHRvIHVwbG9hZEZpbGVzQ29udGludWUgZnJvbSBQeXRob24uCiAgb3V0cHV0RWxlbWVudC5zdGVwcyA9IHN0ZXBzOwoKICByZXR1cm4gX3VwbG9hZEZpbGVzQ29udGludWUob3V0cHV0SWQpOwp9CgovLyBUaGlzIGlzIHJvdWdobHkgYW4gYXN5bmMgZ2VuZXJhdG9yIChub3Qgc3VwcG9ydGVkIGluIHRoZSBicm93c2VyIHlldCksCi8vIHdoZXJlIHRoZXJlIGFyZSBtdWx0aXBsZSBhc3luY2hyb25vdXMgc3RlcHMgYW5kIHRoZSBQeXRob24gc2lkZSBpcyBnb2luZwovLyB0byBwb2xsIGZvciBjb21wbGV0aW9uIG9mIGVhY2ggc3RlcC4KLy8gVGhpcyB1c2VzIGEgUHJvbWlzZSB0byBibG9jayB0aGUgcHl0aG9uIHNpZGUgb24gY29tcGxldGlvbiBvZiBlYWNoIHN0ZXAsCi8vIHRoZW4gcGFzc2VzIHRoZSByZXN1bHQgb2YgdGhlIHByZXZpb3VzIHN0ZXAgYXMgdGhlIGlucHV0IHRvIHRoZSBuZXh0IHN0ZXAuCmZ1bmN0aW9uIF91cGxvYWRGaWxlc0NvbnRpbnVlKG91dHB1dElkKSB7CiAgY29uc3Qgb3V0cHV0RWxlbWVudCA9IGRvY3VtZW50LmdldEVsZW1lbnRCeUlkKG91dHB1dElkKTsKICBjb25zdCBzdGVwcyA9IG91dHB1dEVsZW1lbnQuc3RlcHM7CgogIGNvbnN0IG5leHQgPSBzdGVwcy5uZXh0KG91dHB1dEVsZW1lbnQubGFzdFByb21pc2VWYWx1ZSk7CiAgcmV0dXJuIFByb21pc2UucmVzb2x2ZShuZXh0LnZhbHVlLnByb21pc2UpLnRoZW4oKHZhbHVlKSA9PiB7CiAgICAvLyBDYWNoZSB0aGUgbGFzdCBwcm9taXNlIHZhbHVlIHRvIG1ha2UgaXQgYXZhaWxhYmxlIHRvIHRoZSBuZXh0CiAgICAvLyBzdGVwIG9mIHRoZSBnZW5lcmF0b3IuCiAgICBvdXRwdXRFbGVtZW50Lmxhc3RQcm9taXNlVmFsdWUgPSB2YWx1ZTsKICAgIHJldHVybiBuZXh0LnZhbHVlLnJlc3BvbnNlOwogIH0pOwp9CgovKioKICogR2VuZXJhdG9yIGZ1bmN0aW9uIHdoaWNoIGlzIGNhbGxlZCBiZXR3ZWVuIGVhY2ggYXN5bmMgc3RlcCBvZiB0aGUgdXBsb2FkCiAqIHByb2Nlc3MuCiAqIEBwYXJhbSB7c3RyaW5nfSBpbnB1dElkIEVsZW1lbnQgSUQgb2YgdGhlIGlucHV0IGZpbGUgcGlja2VyIGVsZW1lbnQuCiAqIEBwYXJhbSB7c3RyaW5nfSBvdXRwdXRJZCBFbGVtZW50IElEIG9mIHRoZSBvdXRwdXQgZGlzcGxheS4KICogQHJldHVybiB7IUl0ZXJhYmxlPCFPYmplY3Q+fSBJdGVyYWJsZSBvZiBuZXh0IHN0ZXBzLgogKi8KZnVuY3Rpb24qIHVwbG9hZEZpbGVzU3RlcChpbnB1dElkLCBvdXRwdXRJZCkgewogIGNvbnN0IGlucHV0RWxlbWVudCA9IGRvY3VtZW50LmdldEVsZW1lbnRCeUlkKGlucHV0SWQpOwogIGlucHV0RWxlbWVudC5kaXNhYmxlZCA9IGZhbHNlOwoKICBjb25zdCBvdXRwdXRFbGVtZW50ID0gZG9jdW1lbnQuZ2V0RWxlbWVudEJ5SWQob3V0cHV0SWQpOwogIG91dHB1dEVsZW1lbnQuaW5uZXJIVE1MID0gJyc7CgogIGNvbnN0IHBpY2tlZFByb21pc2UgPSBuZXcgUHJvbWlzZSgocmVzb2x2ZSkgPT4gewogICAgaW5wdXRFbGVtZW50LmFkZEV2ZW50TGlzdGVuZXIoJ2NoYW5nZScsIChlKSA9PiB7CiAgICAgIHJlc29sdmUoZS50YXJnZXQuZmlsZXMpOwogICAgfSk7CiAgfSk7CgogIGNvbnN0IGNhbmNlbCA9IGRvY3VtZW50LmNyZWF0ZUVsZW1lbnQoJ2J1dHRvbicpOwogIGlucHV0RWxlbWVudC5wYXJlbnRFbGVtZW50LmFwcGVuZENoaWxkKGNhbmNlbCk7CiAgY2FuY2VsLnRleHRDb250ZW50ID0gJ0NhbmNlbCB1cGxvYWQnOwogIGNvbnN0IGNhbmNlbFByb21pc2UgPSBuZXcgUHJvbWlzZSgocmVzb2x2ZSkgPT4gewogICAgY2FuY2VsLm9uY2xpY2sgPSAoKSA9PiB7CiAgICAgIHJlc29sdmUobnVsbCk7CiAgICB9OwogIH0pOwoKICAvLyBXYWl0IGZvciB0aGUgdXNlciB0byBwaWNrIHRoZSBmaWxlcy4KICBjb25zdCBmaWxlcyA9IHlpZWxkIHsKICAgIHByb21pc2U6IFByb21pc2UucmFjZShbcGlja2VkUHJvbWlzZSwgY2FuY2VsUHJvbWlzZV0pLAogICAgcmVzcG9uc2U6IHsKICAgICAgYWN0aW9uOiAnc3RhcnRpbmcnLAogICAgfQogIH07CgogIGNhbmNlbC5yZW1vdmUoKTsKCiAgLy8gRGlzYWJsZSB0aGUgaW5wdXQgZWxlbWVudCBzaW5jZSBmdXJ0aGVyIHBpY2tzIGFyZSBub3QgYWxsb3dlZC4KICBpbnB1dEVsZW1lbnQuZGlzYWJsZWQgPSB0cnVlOwoKICBpZiAoIWZpbGVzKSB7CiAgICByZXR1cm4gewogICAgICByZXNwb25zZTogewogICAgICAgIGFjdGlvbjogJ2NvbXBsZXRlJywKICAgICAgfQogICAgfTsKICB9CgogIGZvciAoY29uc3QgZmlsZSBvZiBmaWxlcykgewogICAgY29uc3QgbGkgPSBkb2N1bWVudC5jcmVhdGVFbGVtZW50KCdsaScpOwogICAgbGkuYXBwZW5kKHNwYW4oZmlsZS5uYW1lLCB7Zm9udFdlaWdodDogJ2JvbGQnfSkpOwogICAgbGkuYXBwZW5kKHNwYW4oCiAgICAgICAgYCgke2ZpbGUudHlwZSB8fCAnbi9hJ30pIC0gJHtmaWxlLnNpemV9IGJ5dGVzLCBgICsKICAgICAgICBgbGFzdCBtb2RpZmllZDogJHsKICAgICAgICAgICAgZmlsZS5sYXN0TW9kaWZpZWREYXRlID8gZmlsZS5sYXN0TW9kaWZpZWREYXRlLnRvTG9jYWxlRGF0ZVN0cmluZygpIDoKICAgICAgICAgICAgICAgICAgICAgICAgICAgICAgICAgICAgJ24vYSd9IC0gYCkpOwogICAgY29uc3QgcGVyY2VudCA9IHNwYW4oJzAlIGRvbmUnKTsKICAgIGxpLmFwcGVuZENoaWxkKHBlcmNlbnQpOwoKICAgIG91dHB1dEVsZW1lbnQuYXBwZW5kQ2hpbGQobGkpOwoKICAgIGNvbnN0IGZpbGVEYXRhUHJvbWlzZSA9IG5ldyBQcm9taXNlKChyZXNvbHZlKSA9PiB7CiAgICAgIGNvbnN0IHJlYWRlciA9IG5ldyBGaWxlUmVhZGVyKCk7CiAgICAgIHJlYWRlci5vbmxvYWQgPSAoZSkgPT4gewogICAgICAgIHJlc29sdmUoZS50YXJnZXQucmVzdWx0KTsKICAgICAgfTsKICAgICAgcmVhZGVyLnJlYWRBc0FycmF5QnVmZmVyKGZpbGUpOwogICAgfSk7CiAgICAvLyBXYWl0IGZvciB0aGUgZGF0YSB0byBiZSByZWFkeS4KICAgIGxldCBmaWxlRGF0YSA9IHlpZWxkIHsKICAgICAgcHJvbWlzZTogZmlsZURhdGFQcm9taXNlLAogICAgICByZXNwb25zZTogewogICAgICAgIGFjdGlvbjogJ2NvbnRpbnVlJywKICAgICAgfQogICAgfTsKCiAgICAvLyBVc2UgYSBjaHVua2VkIHNlbmRpbmcgdG8gYXZvaWQgbWVzc2FnZSBzaXplIGxpbWl0cy4gU2VlIGIvNjIxMTU2NjAuCiAgICBsZXQgcG9zaXRpb24gPSAwOwogICAgZG8gewogICAgICBjb25zdCBsZW5ndGggPSBNYXRoLm1pbihmaWxlRGF0YS5ieXRlTGVuZ3RoIC0gcG9zaXRpb24sIE1BWF9QQVlMT0FEX1NJWkUpOwogICAgICBjb25zdCBjaHVuayA9IG5ldyBVaW50OEFycmF5KGZpbGVEYXRhLCBwb3NpdGlvbiwgbGVuZ3RoKTsKICAgICAgcG9zaXRpb24gKz0gbGVuZ3RoOwoKICAgICAgY29uc3QgYmFzZTY0ID0gYnRvYShTdHJpbmcuZnJvbUNoYXJDb2RlLmFwcGx5KG51bGwsIGNodW5rKSk7CiAgICAgIHlpZWxkIHsKICAgICAgICByZXNwb25zZTogewogICAgICAgICAgYWN0aW9uOiAnYXBwZW5kJywKICAgICAgICAgIGZpbGU6IGZpbGUubmFtZSwKICAgICAgICAgIGRhdGE6IGJhc2U2NCwKICAgICAgICB9LAogICAgICB9OwoKICAgICAgbGV0IHBlcmNlbnREb25lID0gZmlsZURhdGEuYnl0ZUxlbmd0aCA9PT0gMCA/CiAgICAgICAgICAxMDAgOgogICAgICAgICAgTWF0aC5yb3VuZCgocG9zaXRpb24gLyBmaWxlRGF0YS5ieXRlTGVuZ3RoKSAqIDEwMCk7CiAgICAgIHBlcmNlbnQudGV4dENvbnRlbnQgPSBgJHtwZXJjZW50RG9uZX0lIGRvbmVgOwoKICAgIH0gd2hpbGUgKHBvc2l0aW9uIDwgZmlsZURhdGEuYnl0ZUxlbmd0aCk7CiAgfQoKICAvLyBBbGwgZG9uZS4KICB5aWVsZCB7CiAgICByZXNwb25zZTogewogICAgICBhY3Rpb246ICdjb21wbGV0ZScsCiAgICB9CiAgfTsKfQoKc2NvcGUuZ29vZ2xlID0gc2NvcGUuZ29vZ2xlIHx8IHt9OwpzY29wZS5nb29nbGUuY29sYWIgPSBzY29wZS5nb29nbGUuY29sYWIgfHwge307CnNjb3BlLmdvb2dsZS5jb2xhYi5fZmlsZXMgPSB7CiAgX3VwbG9hZEZpbGVzLAogIF91cGxvYWRGaWxlc0NvbnRpbnVlLAp9Owp9KShzZWxmKTsK",
              "ok": true,
              "headers": [
                [
                  "content-type",
                  "application/javascript"
                ]
              ],
              "status": 200,
              "status_text": ""
            }
          },
          "base_uri": "https://localhost:8080/",
          "height": 93
        },
        "id": "i6NrC81-F_fX",
        "outputId": "424b5ebb-159f-4564-aa6f-147688c85e8a"
      },
      "execution_count": 4,
      "outputs": [
        {
          "output_type": "display_data",
          "data": {
            "text/plain": [
              "<IPython.core.display.HTML object>"
            ],
            "text/html": [
              "\n",
              "     <input type=\"file\" id=\"files-b12e5410-b9c3-4c3e-b1c0-a0740d420190\" name=\"files[]\" multiple disabled\n",
              "        style=\"border:none\" />\n",
              "     <output id=\"result-b12e5410-b9c3-4c3e-b1c0-a0740d420190\">\n",
              "      Upload widget is only available when the cell has been executed in the\n",
              "      current browser session. Please rerun this cell to enable.\n",
              "      </output>\n",
              "      <script src=\"/nbextensions/google.colab/files.js\"></script> "
            ]
          },
          "metadata": {}
        },
        {
          "output_type": "stream",
          "name": "stdout",
          "text": [
            "Saving path_config.py to path_config.py\n",
            "User uploaded file \"path_config.py\" with length 228 bytes\n"
          ]
        }
      ]
    },
    {
      "cell_type": "code",
      "source": [
        "# Import libraries\n",
        "!pip install boto3 nilearn nibabel\n",
        "import nibabel as nib\n",
        "from sklearn.model_selection import GridSearchCV\n",
        "from sklearn.metrics import accuracy_score, auc, recall_score, precision_score,roc_curve,f1_score\n",
        "import pickle\n",
        "from utils import data_to_nib, load_mat, open_pickle, access_load_data, save_data, create_mask, labels_mask_binary, masking_data, masked_data_n_labels\n",
        "from sklearn.svm import SVC\n",
        "import numpy as np\n",
        "import pandas as pd\n",
        "import numpy as np\n",
        "import random\n",
        "from nilearn.signal import clean\n",
        "from utils import *\n",
        "from ipywidgets import interact, interactive, IntSlider, ToggleButtons\n",
        "import matplotlib.pyplot as plt\n",
        "%matplotlib inline"
      ],
      "metadata": {
        "colab": {
          "base_uri": "https://localhost:8080/"
        },
        "id": "u0VdinG5GD_m",
        "outputId": "1880267b-8643-4dd2-bfd1-3bb289a18a77"
      },
      "execution_count": 47,
      "outputs": [
        {
          "output_type": "stream",
          "name": "stdout",
          "text": [
            "Requirement already satisfied: boto3 in /usr/local/lib/python3.7/dist-packages (1.21.36)\n",
            "Requirement already satisfied: nilearn in /usr/local/lib/python3.7/dist-packages (0.9.0)\n",
            "Requirement already satisfied: nibabel in /usr/local/lib/python3.7/dist-packages (3.0.2)\n",
            "Requirement already satisfied: jmespath<2.0.0,>=0.7.1 in /usr/local/lib/python3.7/dist-packages (from boto3) (1.0.0)\n",
            "Requirement already satisfied: botocore<1.25.0,>=1.24.36 in /usr/local/lib/python3.7/dist-packages (from boto3) (1.24.36)\n",
            "Requirement already satisfied: s3transfer<0.6.0,>=0.5.0 in /usr/local/lib/python3.7/dist-packages (from boto3) (0.5.2)\n",
            "Requirement already satisfied: python-dateutil<3.0.0,>=2.1 in /usr/local/lib/python3.7/dist-packages (from botocore<1.25.0,>=1.24.36->boto3) (2.8.2)\n",
            "Requirement already satisfied: urllib3<1.27,>=1.25.4 in /usr/local/lib/python3.7/dist-packages (from botocore<1.25.0,>=1.24.36->boto3) (1.25.11)\n",
            "Requirement already satisfied: six>=1.5 in /usr/local/lib/python3.7/dist-packages (from python-dateutil<3.0.0,>=2.1->botocore<1.25.0,>=1.24.36->boto3) (1.15.0)\n",
            "Requirement already satisfied: joblib>=0.12 in /usr/local/lib/python3.7/dist-packages (from nilearn) (1.1.0)\n",
            "Requirement already satisfied: scikit-learn>=0.21 in /usr/local/lib/python3.7/dist-packages (from nilearn) (1.0.2)\n",
            "Requirement already satisfied: pandas>=0.24.0 in /usr/local/lib/python3.7/dist-packages (from nilearn) (1.3.5)\n",
            "Requirement already satisfied: scipy>=1.2 in /usr/local/lib/python3.7/dist-packages (from nilearn) (1.4.1)\n",
            "Requirement already satisfied: requests>=2 in /usr/local/lib/python3.7/dist-packages (from nilearn) (2.23.0)\n",
            "Requirement already satisfied: numpy>=1.16 in /usr/local/lib/python3.7/dist-packages (from nilearn) (1.21.5)\n",
            "Requirement already satisfied: pytz>=2017.3 in /usr/local/lib/python3.7/dist-packages (from pandas>=0.24.0->nilearn) (2018.9)\n",
            "Requirement already satisfied: chardet<4,>=3.0.2 in /usr/local/lib/python3.7/dist-packages (from requests>=2->nilearn) (3.0.4)\n",
            "Requirement already satisfied: certifi>=2017.4.17 in /usr/local/lib/python3.7/dist-packages (from requests>=2->nilearn) (2021.10.8)\n",
            "Requirement already satisfied: idna<3,>=2.5 in /usr/local/lib/python3.7/dist-packages (from requests>=2->nilearn) (2.10)\n",
            "Requirement already satisfied: threadpoolctl>=2.0.0 in /usr/local/lib/python3.7/dist-packages (from scikit-learn>=0.21->nilearn) (3.1.0)\n"
          ]
        }
      ]
    },
    {
      "cell_type": "code",
      "source": [
        "#open path dictionary file to get subject ids\n",
        "path = \"data/data_path_dictionary.pkl\"\n",
        "data_path_dict = open_pickle(path)\n",
        "path = \"data/data_path_dictionary.pkl\"\n",
        "data_path_dict = open_pickle(path)\n",
        "subject_ids = data_path_dict['subject_ID']\n",
        "subj_paths = data_path_dict['subject_data']\n",
        "label_data_path = data_path_dict['labels'][0]\n",
        "label_type = 'rt_labels'\n",
        "mask_labels_indices, binary_labels = labels_mask_binary(label_data_path, label_type)"
      ],
      "metadata": {
        "id": "DRXud1ayPSIy"
      },
      "execution_count": 21,
      "outputs": []
    },
    {
      "cell_type": "code",
      "source": [
        "# mask_path = \"/content/drive/My Drive/data/mask_flat.mat\"\n",
        "# mask = scipy.io.loadmat(mask_path)\n",
        "# mask_flat = mask['mask_flat']"
      ],
      "metadata": {
        "id": "uRJOPwnxjCP2"
      },
      "execution_count": 13,
      "outputs": []
    },
    {
      "cell_type": "code",
      "source": [
        "# mask_final = mask_flat.reshape(1,-1)\n",
        "# mask_final = mask_final[0]\n",
        "# ind = np.where(mask_final==1)\n",
        "# ind"
      ],
      "metadata": {
        "colab": {
          "base_uri": "https://localhost:8080/"
        },
        "id": "WoA9Rc_6jUPN",
        "outputId": "6423804e-6f17-474c-a884-edc87dc5bc3f"
      },
      "execution_count": 19,
      "outputs": [
        {
          "output_type": "execute_result",
          "data": {
            "text/plain": [
              "(array([ 68755,  68756,  68757, ..., 566712, 566713, 566714]),)"
            ]
          },
          "metadata": {},
          "execution_count": 19
        }
      ]
    },
    {
      "cell_type": "code",
      "source": [
        "# np_compatible_mask = np.ma.make_mask(mask_final)"
      ],
      "metadata": {
        "id": "oYMaRShGonGU"
      },
      "execution_count": 22,
      "outputs": []
    },
    {
      "cell_type": "code",
      "source": [
        "mask_data_filepath = data_path_dict['mask_data'][0]\n",
        "mask_type_dict = access_load_data(mask_data_filepath, True)\n",
        "np_array_mask = mask_type_dict['mask']\n",
        "np_compatible_mask = np.ma.make_mask(np_array_mask).reshape(79*95*79,order='F')"
      ],
      "metadata": {
        "id": "8_t_88Djo0mf"
      },
      "execution_count": 183,
      "outputs": []
    },
    {
      "cell_type": "code",
      "source": [
        "# test_reshape = np_array_mask.reshape(79*95*79,order='F')"
      ],
      "metadata": {
        "id": "oevS3CjZCEAU"
      },
      "execution_count": 133,
      "outputs": []
    },
    {
      "cell_type": "code",
      "source": [
        "# mask_test = np.ma.make_mask(test_reshape)\n",
        "# mask_test.shape\n",
        "ind = np.where(np_compatible_mask==True)\n",
        "ind"
      ],
      "metadata": {
        "colab": {
          "base_uri": "https://localhost:8080/"
        },
        "id": "nc1K_htOD3Ck",
        "outputId": "51531416-bc61-4e4e-aa71-ca01a5efbabf"
      },
      "execution_count": 184,
      "outputs": [
        {
          "output_type": "execute_result",
          "data": {
            "text/plain": [
              "(array([ 68755,  68756,  68757, ..., 566712, 566713, 566714]),)"
            ]
          },
          "metadata": {},
          "execution_count": 184
        }
      ]
    },
    {
      "cell_type": "code",
      "execution_count": 185,
      "metadata": {
        "id": "k5fhMjF0AKD0"
      },
      "outputs": [],
      "source": [
        "from utils import *\n",
        "import numpy as np\n",
        "from sklearn.preprocessing import StandardScaler\n",
        "def scale_data_single_subj(sub_data,sub_labels, runs_train,runs_test,norm):\n",
        "  \"\"\"\n",
        "    data         : (1 subject data, keys as subject ID for frmi data or labels)\n",
        "    runs_train   : tuple , (which run are we using for the training data)\n",
        "    runs_test    : tuple, (which run are we using for the test data)\n",
        "    norm         : string, (\"RUNS\": normalizing separately on each run;\n",
        "                            \"SUBJECT\": Normalizing separately by each subject)\n",
        "    returns      : nd.arrays, Concatenated X data of (time points, x*y*z) x = 79, y = 95, z = 75\n",
        "                   and Concatenated y labels of (time points,)\n",
        "    \"\"\"\n",
        "\n",
        "    # train and labels\n",
        "  X = []\n",
        "  y = []\n",
        "  ##val and labels\n",
        "  Xv = []\n",
        "  yv = []\n",
        "  # TEST and labels\n",
        "  Xt = []\n",
        "  yt = []\n",
        "  if len(runs_train)>1:\n",
        "      for run in runs_train:\n",
        "        X.append(sub_data[run])\n",
        "        y.append(sub_labels[run])\n",
        "      \n",
        "      X = np.concatenate(np.array(X))\n",
        "      y = np.concatenate(np.array(y))\n",
        "  else:\n",
        "      X = sub_data[runs_train[0]-1]\n",
        "      y = sub_labels[runs_train[0]-1]\n",
        "  if len(runs_test)> 1:\n",
        "      Xv = sub_data[runs_test[0]-1]\n",
        "      yv = sub_labels[runs_test[0]-1]\n",
        "      Xt = sub_data[runs_test[1]-1]\n",
        "      yt = sub_labels[runs_test[1]-1]\n",
        "  else:\n",
        "      Xt = sub_data[runs_test[0]-1]\n",
        "      yt = sub_labels[runs_test[0]-1]\n",
        "  if norm == \"RUNS\":\n",
        "      scalar = StandardScaler()\n",
        "      X = scalar.fit_transform(X)\n",
        "\n",
        "      scalarT = StandardScaler()\n",
        "      Xt = scalarT.fit_transform(Xt)\n",
        "      if len(Xv)>0:\n",
        "        Xv = scalarT.fit_transform(Xv)\n",
        "  elif norm == \"SUBJECT\":\n",
        "      #print(f\"Normalizing Each Subject Data for group {group_sub_ids}\")\n",
        "      scalar = StandardScaler().fit(X)\n",
        "      X = scalar.transform(X)\n",
        "      \n",
        "\n",
        "      Xt = scalar.transform(Xt)\n",
        "      if len(Xv)>0:\n",
        "        Xv = scalar.transform(Xv)\n",
        "  else:\n",
        "      print('Not doing standardization')      \n",
        "  return X, y, Xt, yt, Xv, yv"
      ]
    },
    {
      "cell_type": "code",
      "execution_count": 189,
      "metadata": {
        "id": "ht76lcUXUURm"
      },
      "outputs": [],
      "source": [
        "def load_subject_data(idx,dopsc):\n",
        "  mat_path = subj_paths[idx]\n",
        "  sub_id = subject_ids[idx]\n",
        "  print(mat_path,idx,sub_id)\n",
        "  data = access_load_data(mat_path,True)\n",
        "  user_data_dict = {}\n",
        "  user_data_dict[sub_id], bi_lb = masking_data(data, np_compatible_mask, mask_labels_indices, binary_labels, dopsc)\n",
        "  user_data_dict[f\"{sub_id}_{label_type}\"] = bi_lb\n",
        "  return user_data_dict, sub_id\n",
        "#mask_labels_indices, binary_labels = labels_mask_binary(label_data_path, label_type)\n"
      ]
    },
    {
      "cell_type": "code",
      "execution_count": 190,
      "metadata": {
        "id": "OAtPV7sKNyhc"
      },
      "outputs": [],
      "source": [
        "from sklearn.metrics import accuracy_score\n",
        "def run_single_subject_svm(sub_data,sub_labels,runs_train,runs_test,norm=\"none\",do_cv=False):\n",
        "  #if norm!=\"none\":\n",
        "  X_train, y_train, X_test, y_test, X_val, y_val = scale_data_single_subj(sub_data,sub_labels,runs_train,runs_test,norm)\n",
        "  # else:\n",
        "  #   X_train = sub_data[1]\n",
        "  #   y_train = sub_labels[1]\n",
        "  #   X_val = sub_data[2]\n",
        "  #   y_val = sub_labels[2]\n",
        "  #   X_test = sub_data[3]\n",
        "  #   y_test = sub_labels[3]\n",
        "  if do_cv:\n",
        "    c_params = {'C':[0.7, 1, 5, 10],  'random_state':[111,222],'kernel':['linear', 'rbf']}\n",
        "    svc = SVC()\n",
        "    clf = GridSearchCV(svc, c_params)\n",
        "    clf.fit(X_train, y_train)\n",
        "    if len(X_val)>0:\n",
        "      y_val_predicts = clf.predict(X_val)\n",
        "      val_acc = accuracy_score(y_val,y_val_predicts)\n",
        "    else:\n",
        "      val_acc = 0\n",
        "    y_test_predicts = clf.predict(X_test)\n",
        "    test_acc = accuracy_score(y_test,y_test_predicts)\n",
        "    return clf,val_acc,test_acc\n",
        "  else:\n",
        "    clf = SVC(C=10)\n",
        "    clf.fit(X_train,y_train)\n",
        "\n",
        "  return clf,X_train,y_train,X_test,y_test,X_val,y_val"
      ]
    },
    {
      "cell_type": "code",
      "execution_count": 191,
      "metadata": {
        "id": "cUIIWq3GsvNb"
      },
      "outputs": [],
      "source": [
        "\n",
        "def run_subject_model(subject_ids, runs_train,runs_test,do_psc=True,norm='none'):\n",
        "  single_model_path={}\n",
        "  for idx in range(len(subject_ids)):\n",
        "    model_dict = {}\n",
        "    user_data_dict, sub_id = load_subject_data(idx,do_psc)\n",
        "    sub_data = user_data_dict[sub_id]\n",
        "    sub_labels = user_data_dict[f\"{sub_id}_rt_labels\"]\n",
        "    clf,X_train, y_train, X_test, y_test, X_val, y_val = run_single_subject_svm(sub_data,sub_labels,runs_train,runs_test,norm)\n",
        "    model_dict[sub_id] = {}\n",
        "    model_dict[sub_id]['model'] = clf\n",
        "    model_dict[sub_id]['X_train'] = X_train\n",
        "    model_dict[sub_id]['y_train'] = y_train\n",
        "    model_dict[sub_id]['X_test'] = X_test\n",
        "    model_dict[sub_id]['y_test'] = y_test\n",
        "    if len(X_val)>0:\n",
        "      model_dict[sub_id]['X_val'] = X_val\n",
        "      model_dict[sub_id]['y_val'] = y_val\n",
        "    single_model_path[sub_id] = f'models/single/one_run_model_znorm_{sub_id}.pkl'\n",
        "    # object_name = f\"models/single/one_run_model_znorm_{sub_id}.pkl\"\n",
        "    # upload = s3_upload(model_dict,object_name,\"pickle\")\n",
        "  return single_model_path, model_dict,user_data_dict"
      ]
    },
    {
      "cell_type": "code",
      "execution_count": 192,
      "metadata": {
        "id": "iCwlDG3wM7H0",
        "colab": {
          "base_uri": "https://localhost:8080/"
        },
        "outputId": "d9794930-43b8-4639-f434-d7f1ade4479a"
      },
      "outputs": [
        {
          "output_type": "stream",
          "name": "stdout",
          "text": [
            "svm_data/10004_08693/svm_subj_vecs.mat 0 10004_08693\n"
          ]
        },
        {
          "output_type": "stream",
          "name": "stderr",
          "text": [
            "100%|██████████| 4/4 [00:00<00:00,  5.78it/s]\n"
          ]
        }
      ],
      "source": [
        "file_name_dict,model_dict,user_data_dict = run_subject_model([subject_ids[0]],(2,),(3,4),do_psc=False,norm='RUNS')\n"
      ]
    },
    {
      "cell_type": "code",
      "execution_count": 193,
      "metadata": {
        "id": "XHUiGSQSP0xe"
      },
      "outputs": [],
      "source": [
        "subj = subject_ids[0]\n",
        "subj_acc = []\n",
        "\n",
        "clf = model_dict[subj]['model']\n",
        "X_train = model_dict[subj]['X_train']\n",
        "y_train = model_dict[subj]['y_train']\n",
        "X_test = model_dict[subj]['X_test'] \n",
        "y_test = model_dict[subj]['y_test']\n",
        "if 'X_val' in model_dict[subj].keys():\n",
        "  X_val = model_dict[subj]['X_val']\n",
        "  y_val = model_dict[subj]['y_val']\n",
        "  y_val_predicts = clf.predict(X_val)\n",
        "  val_acc = accuracy_score(y_val,y_val_predicts)\n",
        "  fpr,tpr,thresholds = roc_curve(y_val,y_val_predicts)\n",
        "  val_auc = auc(fpr,tpr)\n",
        "  val_precision = precision_score(y_val,y_val_predicts)\n",
        "  val_recall = recall_score(y_val,y_val_predicts)\n",
        "  val_f1 = f1_score(y_val,y_val_predicts)\n",
        "else:\n",
        "  y_val_predicts = 0\n",
        "  val_acc = 0\n",
        "train_predicts = clf.predict(X_train) \n",
        "y_test_predicts = clf.predict(X_test)\n",
        "tr_acc = accuracy_score(y_train,train_predicts)   \n",
        "test_acc = accuracy_score(y_test,y_test_predicts)\n",
        "fpr,tpr,thresholds = roc_curve(y_test,y_test_predicts)\n",
        "test_auc = auc(fpr,tpr)\n",
        "test_precision = precision_score(y_test,y_test_predicts)\n",
        "test_recall = recall_score(y_test,y_test_predicts)\n",
        "test_f1 = f1_score(y_test,y_test_predicts)\n",
        "subj_list = [subj,tr_acc,val_acc,val_auc,val_precision,val_recall,val_f1, test_acc,test_auc,test_precision,test_recall,test_f1,'RUNS','PSCNORM']\n",
        "subj_acc.append(subj_list)"
      ]
    },
    {
      "cell_type": "code",
      "source": [
        "subj_acc"
      ],
      "metadata": {
        "colab": {
          "base_uri": "https://localhost:8080/"
        },
        "id": "7NBDq_-rxEJt",
        "outputId": "78948177-462f-4c3a-9b6f-b9f4d5c031f0"
      },
      "execution_count": 194,
      "outputs": [
        {
          "output_type": "execute_result",
          "data": {
            "text/plain": [
              "[['10004_08693',\n",
              "  1.0,\n",
              "  0.7023809523809523,\n",
              "  0.7023809523809523,\n",
              "  0.6976744186046512,\n",
              "  0.7142857142857143,\n",
              "  0.7058823529411765,\n",
              "  0.8571428571428571,\n",
              "  0.8571428571428571,\n",
              "  0.8409090909090909,\n",
              "  0.8809523809523809,\n",
              "  0.8604651162790699,\n",
              "  'RUNS',\n",
              "  'PSCNORM']]"
            ]
          },
          "metadata": {},
          "execution_count": 194
        }
      ]
    },
    {
      "cell_type": "code",
      "source": [
        "\n",
        "#affine_image = nib.load('/content/drive/My Drive/data/w3rtprun_01.nii')\n",
        "affine_image = access_load_data('w3rtprun_01.nii',False)\n",
        "t1_image = access_load_data('single_subj_T1_resampled.nii',False)"
      ],
      "metadata": {
        "id": "izRNwzAcXcQX"
      },
      "execution_count": 195,
      "outputs": []
    },
    {
      "cell_type": "code",
      "source": [
        "\n",
        "clf = model_dict[subj]['model']\n",
        "X_train = model_dict[subj]['X_train']\n",
        "y_train = model_dict[subj]['y_train']\n",
        "alphas = np.zeros((84))\n",
        "alphas[clf.support_] = clf.dual_coef_\n",
        "alphas = alphas.reshape(1,-1)\n",
        "bmap = np.dot(alphas,X_train)\n",
        "bmap2 = np.zeros((79,95,79))\n",
        "bmap2 = bmap2.reshape(79*95*79)\n",
        "bmap2[ind] = bmap\n",
        "bmap2_3d = bmap2.reshape(79,95,79,order='F')"
      ],
      "metadata": {
        "id": "SDb7onpGvq6U"
      },
      "execution_count": 141,
      "outputs": []
    },
    {
      "cell_type": "code",
      "source": [
        "from nilearn import plotting, image\n",
        "\n",
        "bmap3 = nib.Nifti1Image(bmap2_3d,affine=affine_image.affine,header=affine_image.header)\n",
        "display = plotting.plot_stat_map(bmap3, \n",
        "                                 colorbar=True, cmap='hot', display_mode='z',\n",
        "                                 title=f\"One Run PSC+ZNORM for subject:\")"
      ],
      "metadata": {
        "colab": {
          "base_uri": "https://localhost:8080/",
          "height": 196
        },
        "id": "V9uIWtbRatTJ",
        "outputId": "ccd1e3ec-48f2-4e80-f6fb-5f3e8771d19a"
      },
      "execution_count": 199,
      "outputs": [
        {
          "output_type": "display_data",
          "data": {
            "text/plain": [
              "<Figure size 1159.2x165.6 with 9 Axes>"
            ],
            "image/png": "[encoded data removed]"
          },
          "metadata": {}
        }
      ]
    },
    {
      "cell_type": "code",
      "source": [
        "nib.save(bmap3,'/content/drive/My Drive/data/bmap3_new.nii')"
      ],
      "metadata": {
        "id": "IlxAuix4qpS5"
      },
      "execution_count": 132,
      "outputs": []
    },
    {
      "cell_type": "code",
      "source": [
        "import scipy.io\n",
        "mat_file_dict = {}\n",
        "mat_file_dict['X_train']=X_train\n",
        "mat_file_dict['y_train']=y_train\n",
        "mat_file_dict['alphas']=alphas\n",
        "mat_file_dict['bmap']=bmap\n",
        "mat_file_dict['bmap2']=bmap2\n",
        "mat_file_dict['supports'] = clf.support_\n",
        "mat_file_dict['dual_coef'] = clf.dual_coef_\n",
        "#mat_file_dict['bmap3']=bmap3\n",
        "\n",
        "scipy.io.savemat('/content/drive/My Drive/data/test_3.mat', mat_file_dict)"
      ],
      "metadata": {
        "id": "z8DEIlJknYSH"
      },
      "execution_count": 76,
      "outputs": []
    }
  ]
}