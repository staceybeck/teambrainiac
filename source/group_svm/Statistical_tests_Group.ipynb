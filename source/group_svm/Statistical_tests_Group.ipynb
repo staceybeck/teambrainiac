{
  "nbformat": 4,
  "nbformat_minor": 0,
  "metadata": {
    "colab": {
      "name": "Statistical_tests_Group.ipynb",
      "provenance": [],
      "authorship_tag": "ABX9TyO6a9v3BOfzp6JRfIBghyCu",
      "include_colab_link": true
    },
    "kernelspec": {
      "name": "python3",
      "display_name": "Python 3"
    },
    "language_info": {
      "name": "python"
    }
  },
  "cells": [
    {
      "cell_type": "markdown",
      "metadata": {
        "id": "view-in-github",
        "colab_type": "text"
      },
      "source": [
        "<a href=\"https://colab.research.google.com/github/yecatstevir/teambrainiac/blob/main/source/group_svm/Statistical_tests_Group.ipynb\" target=\"_parent\"><img src=\"https://colab.research.google.com/assets/colab-badge.svg\" alt=\"Open In Colab\"/></a>"
      ]
    },
    {
      "cell_type": "markdown",
      "source": [
        "### Two Sample T-test Between Young Adult and Adolescent using Whole Brain voxels determined to be significant by the SVM. \n",
        "\n",
        "- Whole Brain Analyses\n",
        "- Target Medial Prefrontal Cortex using Whole Brain SVM data to run t-test \n",
        "- Target Nucleus Accumbens using Whole Brain SVM data to run t-test \n"
      ],
      "metadata": {
        "id": "-qgR7RUyeHwc"
      }
    },
    {
      "cell_type": "code",
      "execution_count": null,
      "metadata": {
        "id": "J8ygTVJuRfPG"
      },
      "outputs": [],
      "source": [
        "from google.colab import drive, files\n",
        "drive.mount('/content/gdrive')#, force_remount = True)\n",
        "\n",
        "# Clone the entire repo.\n",
        "!git clone -l -s https://github.com/yecatstevir/teambrainiac.git\n",
        "# Change directory into cloned repo\n",
        "%cd teambrainiac/source/group_svm\n",
        "!ls"
      ]
    },
    {
      "cell_type": "code",
      "source": [
        "uploaded = files.upload()\n",
        "for fn in uploaded.keys():\n",
        "  print('User uploaded file \"{name}\" with length {length} bytes'.format(\n",
        "      name=fn, length=len(uploaded[fn])))"
      ],
      "metadata": {
        "id": "jg_dVCyoRkQ3"
      },
      "execution_count": null,
      "outputs": []
    },
    {
      "cell_type": "code",
      "source": [
        "# Import libraries\n",
        "!pip install boto3 nilearn\n",
        "import pickle\n",
        "from visualize import *\n",
        "from train import run_grp_svm_model\n",
        "from analysis import create_bmaps, get_threshold_image, metrics, get_roi_bmaps\n",
        "from process import *\n",
        "from access_data import *\n",
        "\n",
        "from sklearn.svm import SVC\n",
        "import numpy as np\n",
        "from collections import defaultdict\n",
        "import nibabel as nib\n",
        "from nilearn import plotting\n",
        "import matplotlib.pyplot as plt\n",
        "from scipy import stats"
      ],
      "metadata": {
        "id": "B0RAbsukRkTO"
      },
      "execution_count": null,
      "outputs": []
    },
    {
      "cell_type": "markdown",
      "source": [
        "> Load Young Adult Whole Brain Information"
      ],
      "metadata": {
        "id": "qDm4ZeC-UmTr"
      }
    },
    {
      "cell_type": "code",
      "source": [
        "# Load model\n",
        "#open path dictionary file to get subject ids\n",
        "dict_path = \"data/data_path_dictionary.pkl\"\n",
        "data_path_dict = open_pickle(dict_path)\n",
        "\n",
        "# Load in affine matrix - helps map the data coordinates to real world coordinates\n",
        "affine_image = access_load_data('w3rtprun_01.nii',False)\n",
        "t1_image = access_load_data('MNI152.nii',False)\n",
        "\n",
        "mask_type = 'mask' #'mask', 'masksubACC', 'masksubAI', 'masksubNAcc', 'masksubmPFC'\n",
        "data_type = \"YA_detrend\"\n",
        "runs_train = [1, 2]\n",
        "runs_id = [i + 1 for i in runs_train]\n",
        "m_path_ind = 0 #get sub_mask data in mask_data key\n",
        "metric_ya = access_load_data(f'metrics/group_svm/{mask_type}/{data_type}_{runs_id}_{mask_type}_metrics.pkl', False)\n",
        "print(metric_ya.keys())"
      ],
      "metadata": {
        "colab": {
          "base_uri": "https://localhost:8080/"
        },
        "id": "hXorVnKFRkVo",
        "outputId": "5e3a20f6-09c4-47d6-f780-a937a3985dec"
      },
      "execution_count": 5,
      "outputs": [
        {
          "output_type": "stream",
          "name": "stdout",
          "text": [
            "dict_keys(['bmap3', 'bmap2_3', 'alphas1', 'bmap', 'y_train', 'test_preds', 'test_probs', 'test_acc', 'test_dfunc', 'y_t'])\n"
          ]
        }
      ]
    },
    {
      "cell_type": "markdown",
      "source": [
        "> Load Adolescent Whole Brain Information"
      ],
      "metadata": {
        "id": "AD0dhXLiUtTW"
      }
    },
    {
      "cell_type": "code",
      "source": [
        "# Load model\n",
        "\n",
        "mask_type = 'mask' #'mask', 'masksubACC', 'masksubAI', 'masksubNAcc', 'masksubmPFC'\n",
        "data_type = \"AD_detrend\"\n",
        "runs_train = [1, 2]\n",
        "runs_id = [i + 1 for i in runs_train]\n",
        "m_path_ind = 0 #get sub_mask data in mask_data key\n",
        "metric_ad = access_load_data(f'metrics/group_svm/{mask_type}/{data_type}_{runs_id}_{mask_type}_metrics.pkl', False)\n",
        "print(metric_ad.keys())"
      ],
      "metadata": {
        "colab": {
          "base_uri": "https://localhost:8080/"
        },
        "id": "dGj4axNURkYC",
        "outputId": "200ab2b9-b3ab-47d2-cffb-f45e633bfb98"
      },
      "execution_count": 6,
      "outputs": [
        {
          "output_type": "stream",
          "name": "stdout",
          "text": [
            "dict_keys(['bmap3', 'bmap2_3', 'alphas1', 'bmap', 'y_train', 'test_preds', 'test_probs', 'test_acc', 'test_dfunc', 'y_t'])\n"
          ]
        }
      ]
    },
    {
      "cell_type": "markdown",
      "source": [
        "### Whole Brain Analysis Between Adolescent and Young Adult 2 Sample t-test"
      ],
      "metadata": {
        "id": "F5eFOWixSU8R"
      }
    },
    {
      "cell_type": "code",
      "source": [
        "Young_adult = metric_ya['bmap'][0][0]\n",
        "Adolescent = metric_ad['bmap'][0][0]\n",
        "\n",
        "t_value, p_value = stats.ttest_ind(Young_adult, Adolescent)\n",
        "\n",
        "print(f'Test statistic is {t_value}')\n",
        "\n",
        "print(f'p-value for two tailed test is {p_value}')\n",
        "\n",
        "alpha = 0.05\n",
        "\n",
        "if p_value <= alpha:\n",
        "  print(f'Conclusion Since p-value {p_value} < alpha {alpha}, We reject the null hypothesis H0. \\\n",
        "  \\nSo we conclude that at the whole brain level, Young Adults and Adolescents do not regulate the same. \\\n",
        "  \\ni.e., μ1 = μ2 at {alpha} level of significance.')\n",
        "\n",
        "else:\n",
        "\n",
        "  print(f'Conclusion Since p-value{p_value} > alpha {alpha},We do not reject the null hypothesis H0.')\n"
      ],
      "metadata": {
        "colab": {
          "base_uri": "https://localhost:8080/"
        },
        "id": "EPmprYlZSegs",
        "outputId": "497eaf47-b00e-49c7-e483-a3aa2c1c679a"
      },
      "execution_count": 30,
      "outputs": [
        {
          "output_type": "stream",
          "name": "stdout",
          "text": [
            "Test statistic is 62.00711651640719\n",
            "p-value for two tailed test is 0.0\n",
            "Conclusion Since p-value 0.0 < alpha 0.05, We reject the null hypothesis H0.   \n",
            "So we conclude that at the whole brain level, Young Adults and Adolescents do not regulate the same.   \n",
            "i.e., μ1 = μ2 at 0.05 level of significance.\n"
          ]
        }
      ]
    },
    {
      "cell_type": "markdown",
      "source": [
        "> Medial Prefrontal Cortex Analysis Between Adolescent and Young Adult 2 Sample t-test"
      ],
      "metadata": {
        "id": "JkGUqbFGSe1d"
      }
    },
    {
      "cell_type": "code",
      "source": [
        "# Load in the mask indices for mask overlay to create bmaps of a specific Region of interest\n",
        "roi_path_ind = 1 # get mask data for region of interest\n",
        "mask_roi = 'mPFC' #'acc_aal', 'anterior_insula_aal', 'mPFC', 'nacc_aal', \n",
        "indices_mask_roi = load_mask_indices(data_path_dict, mask_roi, roi_path_ind)\n",
        "\n",
        "previous_bmap_ya = metric_ya['bmap2_3'][0]\n",
        "bmap2ya = previous_bmap_ya.reshape(79 * 95 * 79)\n",
        "bmap2_3ya = np.zeros((79, 95, 79))\n",
        "bmap2_3ya = bmap2_3ya.reshape(79 * 95 * 79)\n",
        "bmap2_3ya[indices_mask_roi] = bmap2ya[indices_mask_roi]\n",
        "\n",
        "bmap2_3ya"
      ],
      "metadata": {
        "colab": {
          "base_uri": "https://localhost:8080/"
        },
        "id": "lTE5puQxRkdG",
        "outputId": "3b7e8f5d-245f-4949-b800-669b8ed4627b"
      },
      "execution_count": 32,
      "outputs": [
        {
          "output_type": "stream",
          "name": "stdout",
          "text": [
            "mask shape: (79, 95, 79)\n"
          ]
        },
        {
          "output_type": "execute_result",
          "data": {
            "text/plain": [
              "array([0., 0., 0., ..., 0., 0., 0.])"
            ]
          },
          "metadata": {},
          "execution_count": 32
        }
      ]
    },
    {
      "cell_type": "code",
      "source": [
        "# Load in the mask indices for mask overlay to create bmaps of a specific Region of interest\n",
        "roi_path_ind = 1 # get mask data for region of interest\n",
        "mask_roi = 'mPFC' #'acc_aal', 'anterior_insula_aal', 'mPFC', 'nacc_aal', \n",
        "indices_mask_roi = load_mask_indices(data_path_dict, mask_roi, roi_path_ind)\n",
        "\n",
        "previous_bmap_ad = metric_ad['bmap2_3'][0]\n",
        "bmap2ad = previous_bmap_ad.reshape(79 * 95 * 79)\n",
        "bmap2_3ad = np.zeros((79, 95, 79))\n",
        "bmap2_3ad = bmap2_3ad.reshape(79 * 95 * 79)\n",
        "bmap2_3ad[indices_mask_roi] = bmap2ad[indices_mask_roi]\n",
        "\n",
        "bmap2_3ad"
      ],
      "metadata": {
        "colab": {
          "base_uri": "https://localhost:8080/"
        },
        "id": "C00DlcptSJHJ",
        "outputId": "fc78676d-b3f6-4d5f-8e2b-a63b4149ee96"
      },
      "execution_count": 33,
      "outputs": [
        {
          "output_type": "stream",
          "name": "stdout",
          "text": [
            "mask shape: (79, 95, 79)\n"
          ]
        },
        {
          "output_type": "execute_result",
          "data": {
            "text/plain": [
              "array([0., 0., 0., ..., 0., 0., 0.])"
            ]
          },
          "metadata": {},
          "execution_count": 33
        }
      ]
    },
    {
      "cell_type": "code",
      "source": [
        "t_value, p_value = stats.ttest_ind(bmap2_3ya, bmap2_3ad)\n",
        "\n",
        "print(f'Test statistic is {t_value}')\n",
        "\n",
        "print(f'p-value for two tailed test is {p_value}')\n",
        "\n",
        "alpha = 0.05\n",
        "\n",
        "if p_value <= alpha:\n",
        "  print(f'Conclusion Since p-value {p_value} < alpha {alpha}, We reject the null hypothesis H0. \\\n",
        "  \\nSo we conclude that at the whole brain level, Young Adults and Adolescents do not regulate the same. \\\n",
        "  \\ni.e., μ1 = μ2 at {alpha} level of significance.')\n",
        "\n",
        "else:\n",
        "\n",
        "  print(f'Conclusion Since p-value{p_value} > alpha {alpha},We do not reject the null hypothesis H0.')\n"
      ],
      "metadata": {
        "colab": {
          "base_uri": "https://localhost:8080/"
        },
        "id": "2dlPrHfYSNFC",
        "outputId": "fe559176-719f-45cd-95ca-373a77824ac2"
      },
      "execution_count": 34,
      "outputs": [
        {
          "output_type": "stream",
          "name": "stdout",
          "text": [
            "Test statistic is -4.131700751771177\n",
            "p-value for two tailed test is 3.6011367639982006e-05\n",
            "Conclusion Since p-value 3.6011367639982006e-05 < alpha 0.05, We reject the null hypothesis H0.   \n",
            "So we conclude that at the whole brain level, Young Adults and Adolescents do not regulate the same.   \n",
            "i.e., μ1 = μ2 at 0.05 level of significance.\n"
          ]
        }
      ]
    },
    {
      "cell_type": "markdown",
      "source": [
        "> Nucleus Accumbens Analysis Between Adolescent and Young Adult 2 Sample t-test"
      ],
      "metadata": {
        "id": "dAmK6cIsSqIA"
      }
    },
    {
      "cell_type": "code",
      "source": [
        "# Load in the mask indices for mask overlay to create bmaps of a specific Region of interest\n",
        "roi_path_ind = 1 # get mask data for region of interest\n",
        "mask_roi = 'nacc_aal' #'acc_aal', 'anterior_insula_aal', 'mPFC', 'nacc_aal', \n",
        "indices_mask_roi = load_mask_indices(data_path_dict, mask_roi, roi_path_ind)\n",
        "\n",
        "previous_bmap_ya = metric_ya['bmap2_3'][0]\n",
        "bmap2ya = previous_bmap_ya.reshape(79 * 95 * 79)\n",
        "bmap2_3ya = np.zeros((79, 95, 79))\n",
        "bmap2_3ya = bmap2_3ya.reshape(79 * 95 * 79)\n",
        "bmap2_3ya[indices_mask_roi] = bmap2ya[indices_mask_roi]\n",
        "\n",
        "bmap2_3ya"
      ],
      "metadata": {
        "colab": {
          "base_uri": "https://localhost:8080/"
        },
        "id": "jykcoMDqSNMg",
        "outputId": "06baa151-182e-4ebc-d8f2-6e76afa7374c"
      },
      "execution_count": 35,
      "outputs": [
        {
          "output_type": "stream",
          "name": "stdout",
          "text": [
            "mask shape: (79, 95, 79)\n"
          ]
        },
        {
          "output_type": "execute_result",
          "data": {
            "text/plain": [
              "array([0., 0., 0., ..., 0., 0., 0.])"
            ]
          },
          "metadata": {},
          "execution_count": 35
        }
      ]
    },
    {
      "cell_type": "code",
      "source": [
        "# Load in the mask indices for mask overlay to create bmaps of a specific Region of interest\n",
        "roi_path_ind = 1 # get mask data for region of interest\n",
        "mask_roi = 'nacc_aal' #'acc_aal', 'anterior_insula_aal', 'mPFC', 'nacc_aal', \n",
        "indices_mask_roi = load_mask_indices(data_path_dict, mask_roi, roi_path_ind)\n",
        "\n",
        "previous_bmap_ad = metric_ad['bmap2_3'][0]\n",
        "bmap2ad = previous_bmap_ad.reshape(79 * 95 * 79)\n",
        "bmap2_3ad = np.zeros((79, 95, 79))\n",
        "bmap2_3ad = bmap2_3ad.reshape(79 * 95 * 79)\n",
        "bmap2_3ad[indices_mask_roi] = bmap2ad[indices_mask_roi]\n",
        "\n",
        "bmap2_3ad"
      ],
      "metadata": {
        "colab": {
          "base_uri": "https://localhost:8080/"
        },
        "id": "RaXengMSSN3g",
        "outputId": "bcfc40f8-a30b-4eca-caf3-c5cf73c27c1f"
      },
      "execution_count": 36,
      "outputs": [
        {
          "output_type": "stream",
          "name": "stdout",
          "text": [
            "mask shape: (79, 95, 79)\n"
          ]
        },
        {
          "output_type": "execute_result",
          "data": {
            "text/plain": [
              "array([0., 0., 0., ..., 0., 0., 0.])"
            ]
          },
          "metadata": {},
          "execution_count": 36
        }
      ]
    },
    {
      "cell_type": "code",
      "source": [
        "t_value, p_value = stats.ttest_ind(bmap2_3ya, bmap2_3ad)\n",
        "\n",
        "print(f'Test statistic is {t_value}')\n",
        "\n",
        "print(f'p-value for two tailed test is {p_value}')\n",
        "\n",
        "alpha = 0.05\n",
        "\n",
        "if p_value <= alpha:\n",
        "  print(f'Conclusion: Since p-value  {p_value}  < alpha {alpha}, We reject the null hypothesis H0. \\\n",
        "  \\nSo we conclude that at the whole brain level, Young Adults and Adolescents do not regulate the same. \\\n",
        "  \\ni.e., μ1 = μ2 at {alpha} level of significance.')\n",
        "\n",
        "else:\n",
        "\n",
        "  print(f'Conclusion: Since p-value{p_value} > alpha {alpha},We do not reject the null hypothesis H0.\\\n",
        "  \\n and therefore the nucleus accumbens may play a role in regulation for both Young Adults and \\\n",
        "  \\n Adolescents')"
      ],
      "metadata": {
        "colab": {
          "base_uri": "https://localhost:8080/"
        },
        "id": "-kI-FnP_dcNM",
        "outputId": "fa9fd6cc-0079-41d5-e592-fd95548f03a5"
      },
      "execution_count": 41,
      "outputs": [
        {
          "output_type": "stream",
          "name": "stdout",
          "text": [
            "Test statistic is -1.449044263538568\n",
            "p-value for two tailed test is 0.14732548612940824\n",
            "Conclusion: Since p-value0.14732548612940824 > alpha 0.05,We do not reject the null hypothesis H0.  \n",
            " and therefore the nucleus accumbens may play a role in regulation for both Young Adults and   \n",
            " Adolescents\n"
          ]
        }
      ]
    },
    {
      "cell_type": "code",
      "source": [
        ""
      ],
      "metadata": {
        "id": "I9CyS1Apdfik"
      },
      "execution_count": null,
      "outputs": []
    }
  ]
}