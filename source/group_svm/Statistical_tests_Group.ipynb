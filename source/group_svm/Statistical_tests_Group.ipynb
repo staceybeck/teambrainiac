{
  "nbformat": 4,
  "nbformat_minor": 0,
  "metadata": {
    "colab": {
      "name": "Statistical_tests_Group.ipynb",
      "provenance": [],
      "authorship_tag": "ABX9TyPYpYxcjolvCPBaxJTSruTs",
      "include_colab_link": true
    },
    "kernelspec": {
      "name": "python3",
      "display_name": "Python 3"
    },
    "language_info": {
      "name": "python"
    }
  },
  "cells": [
    {
      "cell_type": "markdown",
      "metadata": {
        "id": "view-in-github",
        "colab_type": "text"
      },
      "source": [
        "<a href=\"https://colab.research.google.com/github/yecatstevir/teambrainiac/blob/main/source/group_svm/Statistical_tests_Group.ipynb\" target=\"_parent\"><img src=\"https://colab.research.google.com/assets/colab-badge.svg\" alt=\"Open In Colab\"/></a>"
      ]
    },
    {
      "cell_type": "markdown",
      "source": [
        "### Two Sample T-test Between Young Adult and Adolescent using Whole Brain voxels determined to be significant by the SVM. \n",
        "\n",
        "- Whole Brain Analyses\n",
        "- Target Medial Prefrontal Cortex using Whole Brain SVM data to run t-test \n",
        "- Target Nucleus Accumbens using Whole Brain SVM data to run t-test \n"
      ],
      "metadata": {
        "id": "-qgR7RUyeHwc"
      }
    },
    {
      "cell_type": "code",
      "execution_count": 1,
      "metadata": {
        "colab": {
          "base_uri": "https://localhost:8080/"
        },
        "id": "J8ygTVJuRfPG",
        "outputId": "a2f23e03-1e73-4a52-dc5a-ee6214478697"
      },
      "outputs": [
        {
          "output_type": "stream",
          "name": "stdout",
          "text": [
            "Mounted at /content/gdrive\n",
            "Cloning into 'teambrainiac'...\n",
            "warning: --local is ignored\n",
            "remote: Enumerating objects: 1906, done.\u001b[K\n",
            "remote: Counting objects: 100% (91/91), done.\u001b[K\n",
            "remote: Compressing objects: 100% (66/66), done.\u001b[K\n",
            "remote: Total 1906 (delta 61), reused 25 (delta 25), pack-reused 1815\u001b[K\n",
            "Receiving objects: 100% (1906/1906), 104.54 MiB | 32.20 MiB/s, done.\n",
            "Resolving deltas: 100% (1252/1252), done.\n",
            "/content/teambrainiac/source/group_svm\n",
            "access_data.py\t\t    images\n",
            "Adolescent_Group_SVM.ipynb  __init__.py\n",
            "analysis.py\t\t    process.py\n",
            "cross_validation.py\t    Statistical_tests_Group.ipynb\n",
            "data\t\t\t    Timeseries_Cross_Validation.ipynb\n",
            "dataframes.py\t\t    train.py\n",
            "Explore_data.ipynb\t    visualize.py\n",
            "Group_All_MASK_SVM.ipynb    Young_Adult_Group_SVM.ipynb\n",
            "Group_charts.ipynb\n"
          ]
        }
      ],
      "source": [
        "from google.colab import drive, files\n",
        "drive.mount('/content/gdrive')#, force_remount = True)\n",
        "\n",
        "# Clone the entire repo.\n",
        "!git clone -l -s https://github.com/yecatstevir/teambrainiac.git\n",
        "# Change directory into cloned repo\n",
        "%cd teambrainiac/source/group_svm\n",
        "!ls"
      ]
    },
    {
      "cell_type": "code",
      "source": [
        "uploaded = files.upload()\n",
        "for fn in uploaded.keys():\n",
        "  print('User uploaded file \"{name}\" with length {length} bytes'.format(\n",
        "      name=fn, length=len(uploaded[fn])))"
      ],
      "metadata": {
        "colab": {
          "resources": {
            "http://localhost:8080/nbextensions/google.colab/files.js": {
              "data": "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",
              "ok": true,
              "headers": [
                [
                  "content-type",
                  "application/javascript"
                ]
              ],
              "status": 200,
              "status_text": ""
            }
          },
          "base_uri": "https://localhost:8080/",
          "height": 90
        },
        "id": "jg_dVCyoRkQ3",
        "outputId": "b0e7520c-81ed-4b7a-ce1c-a3bc8279509a"
      },
      "execution_count": 2,
      "outputs": [
        {
          "output_type": "display_data",
          "data": {
            "text/plain": [
              "<IPython.core.display.HTML object>"
            ],
            "text/html": [
              "\n",
              "     <input type=\"file\" id=\"files-5c0d0b2f-bac6-43cf-89e1-c2fe324cce93\" name=\"files[]\" multiple disabled\n",
              "        style=\"border:none\" />\n",
              "     <output id=\"result-5c0d0b2f-bac6-43cf-89e1-c2fe324cce93\">\n",
              "      Upload widget is only available when the cell has been executed in the\n",
              "      current browser session. Please rerun this cell to enable.\n",
              "      </output>\n",
              "      <script src=\"/nbextensions/google.colab/files.js\"></script> "
            ]
          },
          "metadata": {}
        },
        {
          "output_type": "stream",
          "name": "stdout",
          "text": [
            "Saving path_config.py to path_config.py\n",
            "User uploaded file \"path_config.py\" with length 228 bytes\n"
          ]
        }
      ]
    },
    {
      "cell_type": "code",
      "source": [
        "# Import libraries\n",
        "!pip install boto3 nilearn\n",
        "import pickle\n",
        "from visualize import *\n",
        "from train import run_grp_svm_model\n",
        "from analysis import create_bmaps, get_threshold_image, metrics, get_roi_bmaps\n",
        "from process import *\n",
        "from access_data import *\n",
        "\n",
        "from sklearn.svm import SVC\n",
        "import numpy as np\n",
        "from collections import defaultdict\n",
        "import nibabel as nib\n",
        "from nilearn import plotting\n",
        "import matplotlib.pyplot as plt\n",
        "from scipy import stats"
      ],
      "metadata": {
        "colab": {
          "base_uri": "https://localhost:8080/"
        },
        "id": "B0RAbsukRkTO",
        "outputId": "b474d447-ec51-44e1-ab04-c139cda57a63"
      },
      "execution_count": 3,
      "outputs": [
        {
          "output_type": "stream",
          "name": "stdout",
          "text": [
            "Collecting boto3\n",
            "  Downloading boto3-1.21.44-py3-none-any.whl (132 kB)\n",
            "\u001b[K     |████████████████████████████████| 132 kB 23.2 MB/s \n",
            "\u001b[?25hCollecting nilearn\n",
            "  Downloading nilearn-0.9.1-py3-none-any.whl (9.6 MB)\n",
            "\u001b[K     |████████████████████████████████| 9.6 MB 6.0 MB/s \n",
            "\u001b[?25hCollecting jmespath<2.0.0,>=0.7.1\n",
            "  Downloading jmespath-1.0.0-py3-none-any.whl (23 kB)\n",
            "Collecting botocore<1.25.0,>=1.24.44\n",
            "  Downloading botocore-1.24.44-py3-none-any.whl (8.7 MB)\n",
            "\u001b[K     |████████████████████████████████| 8.7 MB 44.8 MB/s \n",
            "\u001b[?25hCollecting s3transfer<0.6.0,>=0.5.0\n",
            "  Downloading s3transfer-0.5.2-py3-none-any.whl (79 kB)\n",
            "\u001b[K     |████████████████████████████████| 79 kB 8.8 MB/s \n",
            "\u001b[?25hCollecting urllib3<1.27,>=1.25.4\n",
            "  Downloading urllib3-1.26.9-py2.py3-none-any.whl (138 kB)\n",
            "\u001b[K     |████████████████████████████████| 138 kB 64.6 MB/s \n",
            "\u001b[?25hRequirement already satisfied: python-dateutil<3.0.0,>=2.1 in /usr/local/lib/python3.7/dist-packages (from botocore<1.25.0,>=1.24.44->boto3) (2.8.2)\n",
            "Requirement already satisfied: six>=1.5 in /usr/local/lib/python3.7/dist-packages (from python-dateutil<3.0.0,>=2.1->botocore<1.25.0,>=1.24.44->boto3) (1.15.0)\n",
            "Requirement already satisfied: scikit-learn>=0.22 in /usr/local/lib/python3.7/dist-packages (from nilearn) (1.0.2)\n",
            "Collecting scipy>=1.5\n",
            "  Downloading scipy-1.7.3-cp37-cp37m-manylinux_2_12_x86_64.manylinux2010_x86_64.whl (38.1 MB)\n",
            "\u001b[K     |████████████████████████████████| 38.1 MB 139 kB/s \n",
            "\u001b[?25hRequirement already satisfied: numpy>=1.18 in /usr/local/lib/python3.7/dist-packages (from nilearn) (1.21.6)\n",
            "Requirement already satisfied: pandas>=1.0 in /usr/local/lib/python3.7/dist-packages (from nilearn) (1.3.5)\n",
            "Requirement already satisfied: joblib>=0.15 in /usr/local/lib/python3.7/dist-packages (from nilearn) (1.1.0)\n",
            "Requirement already satisfied: requests>=2 in /usr/local/lib/python3.7/dist-packages (from nilearn) (2.23.0)\n",
            "Requirement already satisfied: nibabel>=3.0.0 in /usr/local/lib/python3.7/dist-packages (from nilearn) (3.0.2)\n",
            "Requirement already satisfied: lxml in /usr/local/lib/python3.7/dist-packages (from nilearn) (4.2.6)\n",
            "Requirement already satisfied: pytz>=2017.3 in /usr/local/lib/python3.7/dist-packages (from pandas>=1.0->nilearn) (2022.1)\n",
            "Requirement already satisfied: chardet<4,>=3.0.2 in /usr/local/lib/python3.7/dist-packages (from requests>=2->nilearn) (3.0.4)\n",
            "Requirement already satisfied: idna<3,>=2.5 in /usr/local/lib/python3.7/dist-packages (from requests>=2->nilearn) (2.10)\n",
            "Requirement already satisfied: certifi>=2017.4.17 in /usr/local/lib/python3.7/dist-packages (from requests>=2->nilearn) (2021.10.8)\n",
            "Collecting urllib3<1.27,>=1.25.4\n",
            "  Downloading urllib3-1.25.11-py2.py3-none-any.whl (127 kB)\n",
            "\u001b[K     |████████████████████████████████| 127 kB 54.2 MB/s \n",
            "\u001b[?25hRequirement already satisfied: threadpoolctl>=2.0.0 in /usr/local/lib/python3.7/dist-packages (from scikit-learn>=0.22->nilearn) (3.1.0)\n",
            "Installing collected packages: urllib3, jmespath, scipy, botocore, s3transfer, nilearn, boto3\n",
            "  Attempting uninstall: urllib3\n",
            "    Found existing installation: urllib3 1.24.3\n",
            "    Uninstalling urllib3-1.24.3:\n",
            "      Successfully uninstalled urllib3-1.24.3\n",
            "  Attempting uninstall: scipy\n",
            "    Found existing installation: scipy 1.4.1\n",
            "    Uninstalling scipy-1.4.1:\n",
            "      Successfully uninstalled scipy-1.4.1\n",
            "\u001b[31mERROR: pip's dependency resolver does not currently take into account all the packages that are installed. This behaviour is the source of the following dependency conflicts.\n",
            "datascience 0.10.6 requires folium==0.2.1, but you have folium 0.8.3 which is incompatible.\n",
            "albumentations 0.1.12 requires imgaug<0.2.7,>=0.2.5, but you have imgaug 0.2.9 which is incompatible.\u001b[0m\n",
            "Successfully installed boto3-1.21.44 botocore-1.24.44 jmespath-1.0.0 nilearn-0.9.1 s3transfer-0.5.2 scipy-1.7.3 urllib3-1.25.11\n"
          ]
        }
      ]
    },
    {
      "cell_type": "markdown",
      "source": [
        "> Load Young Adult Whole Brain Information"
      ],
      "metadata": {
        "id": "qDm4ZeC-UmTr"
      }
    },
    {
      "cell_type": "code",
      "source": [
        "# Load model\n",
        "#open path dictionary file to get subject ids\n",
        "dict_path = \"data/data_path_dictionary.pkl\"\n",
        "data_path_dict = open_pickle(dict_path)\n",
        "\n",
        "# Load in affine matrix - helps map the data coordinates to real world coordinates\n",
        "affine_image = access_load_data('w3rtprun_01.nii',False)\n",
        "t1_image = access_load_data('MNI152.nii',False)\n",
        "\n",
        "mask_type = 'mask' #'mask', 'masksubACC', 'masksubAI', 'masksubNAcc', 'masksubmPFC'\n",
        "data_type = \"YA_detrend\"\n",
        "runs_train = [1, 2]\n",
        "runs_id = [i + 1 for i in runs_train]\n",
        "m_path_ind = 0 #get sub_mask data in mask_data key\n",
        "metric_ya = access_load_data(f'metrics/group_svm/{mask_type}/{data_type}_{runs_id}_{mask_type}_metrics.pkl', False)\n",
        "print(metric_ya.keys())"
      ],
      "metadata": {
        "colab": {
          "base_uri": "https://localhost:8080/"
        },
        "id": "hXorVnKFRkVo",
        "outputId": "c6647ca7-e383-4bc9-b882-8cfe572158c2"
      },
      "execution_count": 4,
      "outputs": [
        {
          "output_type": "stream",
          "name": "stdout",
          "text": [
            "dict_keys(['bmap3', 'bmap2_3', 'alphas1', 'bmap', 'y_train', 'test_preds', 'test_probs', 'test_acc', 'test_dfunc', 'y_t'])\n"
          ]
        }
      ]
    },
    {
      "cell_type": "markdown",
      "source": [
        "> Load Adolescent Whole Brain Information"
      ],
      "metadata": {
        "id": "AD0dhXLiUtTW"
      }
    },
    {
      "cell_type": "code",
      "source": [
        "# Load model\n",
        "\n",
        "mask_type = 'mask' #'mask', 'masksubACC', 'masksubAI', 'masksubNAcc', 'masksubmPFC'\n",
        "data_type = \"AD_detrend\"\n",
        "runs_train = [1, 2]\n",
        "runs_id = [i + 1 for i in runs_train]\n",
        "m_path_ind = 0 #get sub_mask data in mask_data key\n",
        "metric_ad = access_load_data(f'metrics/group_svm/{mask_type}/{data_type}_{runs_id}_{mask_type}_metrics.pkl', False)\n",
        "print(metric_ad.keys())"
      ],
      "metadata": {
        "colab": {
          "base_uri": "https://localhost:8080/"
        },
        "id": "dGj4axNURkYC",
        "outputId": "49221275-44ba-41b5-e605-04c715add329"
      },
      "execution_count": 5,
      "outputs": [
        {
          "output_type": "stream",
          "name": "stdout",
          "text": [
            "dict_keys(['bmap3', 'bmap2_3', 'alphas1', 'bmap', 'y_train', 'test_preds', 'test_probs', 'test_acc', 'test_dfunc', 'y_t'])\n"
          ]
        }
      ]
    },
    {
      "cell_type": "markdown",
      "source": [
        "### Whole Brain Analysis Between Adolescent and Young Adult 2 Sample t-test"
      ],
      "metadata": {
        "id": "F5eFOWixSU8R"
      }
    },
    {
      "cell_type": "code",
      "source": [
        "Young_adult = metric_ya['bmap'][0][0]\n",
        "Adolescent = metric_ad['bmap'][0][0]\n",
        "\n",
        "t_value, p_value = stats.ttest_ind(Young_adult, Adolescent)\n",
        "\n",
        "print(f'Test statistic is {t_value}')\n",
        "\n",
        "print(f'p-value for two tailed test is {p_value}')\n",
        "\n",
        "alpha = 0.05\n",
        "\n",
        "if p_value <= alpha:\n",
        "  print(f'Conclusion: Since p-value {p_value} < alpha {alpha}, We reject the null hypothesis H0. \\\n",
        "  \\nSo we conclude that at the whole brain level, Young Adults and Adolescents do not regulate the same. \\\n",
        "  \\ni.e., μ1 = μ2 at {alpha} level of significance.')\n",
        "\n",
        "else:\n",
        "\n",
        "  print(f'Conclusion Since p-value{p_value} > alpha {alpha},We do not reject the null hypothesis H0.')\n"
      ],
      "metadata": {
        "colab": {
          "base_uri": "https://localhost:8080/"
        },
        "id": "EPmprYlZSegs",
        "outputId": "f368124a-eed1-4c65-9e83-f31bc9a88a90"
      },
      "execution_count": 6,
      "outputs": [
        {
          "output_type": "stream",
          "name": "stdout",
          "text": [
            "Test statistic is 62.00711651640719\n",
            "p-value for two tailed test is 0.0\n",
            "Conclusion: Since p-value 0.0 < alpha 0.05, We reject the null hypothesis H0.   \n",
            "So we conclude that at the whole brain level, Young Adults and Adolescents do not regulate the same.   \n",
            "i.e., μ1 = μ2 at 0.05 level of significance.\n"
          ]
        }
      ]
    },
    {
      "cell_type": "markdown",
      "source": [
        "> Medial Prefrontal Cortex Analysis Between Adolescent and Young Adult 2 Sample t-test"
      ],
      "metadata": {
        "id": "JkGUqbFGSe1d"
      }
    },
    {
      "cell_type": "code",
      "source": [
        "# Load in the mask indices for mask overlay to create bmaps of a specific Region of interest\n",
        "roi_path_ind = 1 # get mask data for region of interest\n",
        "mask_roi = 'mPFC' #'acc_aal', 'anterior_insula_aal', 'mPFC', 'nacc_aal', \n",
        "indices_mask_roi = load_mask_indices(data_path_dict, mask_roi, roi_path_ind)\n",
        "\n",
        "previous_bmap_ya = metric_ya['bmap2_3'][0]\n",
        "bmap2ya = previous_bmap_ya.reshape(79 * 95 * 79)\n",
        "bmap2_3ya = np.zeros((79, 95, 79))\n",
        "bmap2_3ya = bmap2_3ya.reshape(79 * 95 * 79)\n",
        "bmap2_3ya[indices_mask_roi] = bmap2ya[indices_mask_roi]\n",
        "\n",
        "bmap2_3ya"
      ],
      "metadata": {
        "colab": {
          "base_uri": "https://localhost:8080/"
        },
        "id": "lTE5puQxRkdG",
        "outputId": "2f4f54e7-2827-409a-e8dc-a62f6c972fb6"
      },
      "execution_count": 7,
      "outputs": [
        {
          "output_type": "stream",
          "name": "stdout",
          "text": [
            "mask shape: (79, 95, 79)\n"
          ]
        },
        {
          "output_type": "execute_result",
          "data": {
            "text/plain": [
              "array([0., 0., 0., ..., 0., 0., 0.])"
            ]
          },
          "metadata": {},
          "execution_count": 7
        }
      ]
    },
    {
      "cell_type": "code",
      "source": [
        "# Load in the mask indices for mask overlay to create bmaps of a specific Region of interest\n",
        "roi_path_ind = 1 # get mask data for region of interest\n",
        "mask_roi = 'mPFC' #'acc_aal', 'anterior_insula_aal', 'mPFC', 'nacc_aal', \n",
        "indices_mask_roi = load_mask_indices(data_path_dict, mask_roi, roi_path_ind)\n",
        "\n",
        "previous_bmap_ad = metric_ad['bmap2_3'][0]\n",
        "bmap2ad = previous_bmap_ad.reshape(79 * 95 * 79)\n",
        "bmap2_3ad = np.zeros((79, 95, 79))\n",
        "bmap2_3ad = bmap2_3ad.reshape(79 * 95 * 79)\n",
        "bmap2_3ad[indices_mask_roi] = bmap2ad[indices_mask_roi]\n",
        "\n",
        "bmap2_3ad"
      ],
      "metadata": {
        "colab": {
          "base_uri": "https://localhost:8080/"
        },
        "id": "C00DlcptSJHJ",
        "outputId": "5c835539-daac-4b64-ec55-4aedb9787bfa"
      },
      "execution_count": 8,
      "outputs": [
        {
          "output_type": "stream",
          "name": "stdout",
          "text": [
            "mask shape: (79, 95, 79)\n"
          ]
        },
        {
          "output_type": "execute_result",
          "data": {
            "text/plain": [
              "array([0., 0., 0., ..., 0., 0., 0.])"
            ]
          },
          "metadata": {},
          "execution_count": 8
        }
      ]
    },
    {
      "cell_type": "code",
      "source": [
        "t_value, p_value = stats.ttest_ind(bmap2_3ya, bmap2_3ad)\n",
        "\n",
        "print(f'Test statistic is {t_value}')\n",
        "\n",
        "print(f'p-value for two tailed test is {p_value}')\n",
        "\n",
        "alpha = 0.05\n",
        "\n",
        "if p_value <= alpha:\n",
        "  print(f'Conclusion: Since p-value {p_value} < alpha {alpha}, We reject the null hypothesis H0. \\\n",
        "  \\nSo we conclude that Young Adults and Adolescents may not regulate the same in the medial Prefrontal Cortex. \\\n",
        "  \\ni.e., μ1 = μ2 at {alpha} level of significance.')\n",
        "\n",
        "else:\n",
        "\n",
        "  print(f'Conclusion: Since p-value{p_value} > alpha {alpha},We do not reject the null hypothesis H0.\\\n",
        "  \\n and therefore the Medial Prefrontal Cortex may play an equal role in regulation for both Young Adults and \\\n",
        "  \\n Adolescents')\n"
      ],
      "metadata": {
        "colab": {
          "base_uri": "https://localhost:8080/"
        },
        "id": "2dlPrHfYSNFC",
        "outputId": "0a237006-13c0-4cff-a587-11c28844233f"
      },
      "execution_count": 9,
      "outputs": [
        {
          "output_type": "stream",
          "name": "stdout",
          "text": [
            "Test statistic is -4.131700751771177\n",
            "p-value for two tailed test is 3.6011367639982006e-05\n",
            "Conclusion: Since p-value 3.6011367639982006e-05 < alpha 0.05, We reject the null hypothesis H0.   \n",
            "So we conclude that Young Adults and Adolescents may not regulate the same in the medial Prefrontal Cortex.   \n",
            "i.e., μ1 = μ2 at 0.05 level of significance.\n"
          ]
        }
      ]
    },
    {
      "cell_type": "markdown",
      "source": [
        "> Nucleus Accumbens Analysis Between Adolescent and Young Adult 2 Sample t-test"
      ],
      "metadata": {
        "id": "dAmK6cIsSqIA"
      }
    },
    {
      "cell_type": "code",
      "source": [
        "# Load in the mask indices for mask overlay to create bmaps of a specific Region of interest\n",
        "roi_path_ind = 1 # get mask data for region of interest\n",
        "mask_roi = 'nacc_aal' #'acc_aal', 'anterior_insula_aal', 'mPFC', 'nacc_aal', \n",
        "indices_mask_roi = load_mask_indices(data_path_dict, mask_roi, roi_path_ind)\n",
        "\n",
        "previous_bmap_ya = metric_ya['bmap2_3'][0]\n",
        "bmap2ya = previous_bmap_ya.reshape(79 * 95 * 79)\n",
        "bmap2_3ya = np.zeros((79, 95, 79))\n",
        "bmap2_3ya = bmap2_3ya.reshape(79 * 95 * 79)\n",
        "bmap2_3ya[indices_mask_roi] = bmap2ya[indices_mask_roi]\n",
        "\n",
        "bmap2_3ya"
      ],
      "metadata": {
        "colab": {
          "base_uri": "https://localhost:8080/"
        },
        "id": "jykcoMDqSNMg",
        "outputId": "0418e5cd-f278-46a2-b16f-e494c24f2d74"
      },
      "execution_count": 10,
      "outputs": [
        {
          "output_type": "stream",
          "name": "stdout",
          "text": [
            "mask shape: (79, 95, 79)\n"
          ]
        },
        {
          "output_type": "execute_result",
          "data": {
            "text/plain": [
              "array([0., 0., 0., ..., 0., 0., 0.])"
            ]
          },
          "metadata": {},
          "execution_count": 10
        }
      ]
    },
    {
      "cell_type": "code",
      "source": [
        "# Load in the mask indices for mask overlay to create bmaps of a specific Region of interest\n",
        "roi_path_ind = 1 # get mask data for region of interest\n",
        "mask_roi = 'nacc_aal' #'acc_aal', 'anterior_insula_aal', 'mPFC', 'nacc_aal', \n",
        "indices_mask_roi = load_mask_indices(data_path_dict, mask_roi, roi_path_ind)\n",
        "\n",
        "previous_bmap_ad = metric_ad['bmap2_3'][0]\n",
        "bmap2ad = previous_bmap_ad.reshape(79 * 95 * 79)\n",
        "bmap2_3ad = np.zeros((79, 95, 79))\n",
        "bmap2_3ad = bmap2_3ad.reshape(79 * 95 * 79)\n",
        "bmap2_3ad[indices_mask_roi] = bmap2ad[indices_mask_roi]\n",
        "\n",
        "bmap2_3ad"
      ],
      "metadata": {
        "colab": {
          "base_uri": "https://localhost:8080/"
        },
        "id": "RaXengMSSN3g",
        "outputId": "ba1b7b77-9299-493d-dd8f-423c22450845"
      },
      "execution_count": 11,
      "outputs": [
        {
          "output_type": "stream",
          "name": "stdout",
          "text": [
            "mask shape: (79, 95, 79)\n"
          ]
        },
        {
          "output_type": "execute_result",
          "data": {
            "text/plain": [
              "array([0., 0., 0., ..., 0., 0., 0.])"
            ]
          },
          "metadata": {},
          "execution_count": 11
        }
      ]
    },
    {
      "cell_type": "code",
      "source": [
        "t_value, p_value = stats.ttest_ind(bmap2_3ya, bmap2_3ad)\n",
        "\n",
        "print(f'Test statistic is {t_value}')\n",
        "\n",
        "print(f'p-value for two tailed test is {p_value}')\n",
        "\n",
        "alpha = 0.05\n",
        "\n",
        "if p_value <= alpha:\n",
        "  print(f'Conclusion: Since p-value  {p_value}  < alpha {alpha}, We reject the null hypothesis H0. \\\n",
        "  \\nSo we conclude Young Adults and Adolescents may not regulate the same at the Nucleus Accumbens. \\\n",
        "  \\ni.e., μ1 = μ2 at {alpha} level of significance.')\n",
        "\n",
        "else:\n",
        "\n",
        "  print(f'Conclusion: Since p-value{p_value} > alpha {alpha},We do not reject the null hypothesis H0.\\\n",
        "  \\n and therefore the Nucleus Accumbens may play an equal role in regulation for both Young Adults and \\\n",
        "  \\n Adolescents')"
      ],
      "metadata": {
        "colab": {
          "base_uri": "https://localhost:8080/"
        },
        "id": "-kI-FnP_dcNM",
        "outputId": "7edc0573-16ff-4e76-bad2-e6c4787fc9f8"
      },
      "execution_count": 12,
      "outputs": [
        {
          "output_type": "stream",
          "name": "stdout",
          "text": [
            "Test statistic is -1.449044263538568\n",
            "p-value for two tailed test is 0.14732548612940824\n",
            "Conclusion: Since p-value0.14732548612940824 > alpha 0.05,We do not reject the null hypothesis H0.  \n",
            " and therefore the Nucleus Accumbens may play an equal role in regulation for both Young Adults and   \n",
            " Adolescents\n"
          ]
        }
      ]
    },
    {
      "cell_type": "markdown",
      "source": [
        "> Anterior Cingulate Cortex Analysis Between Adolescent and Young Adult 2 Sample t-test"
      ],
      "metadata": {
        "id": "_NKG7hmbk2IV"
      }
    },
    {
      "cell_type": "code",
      "source": [
        "# Load in the mask indices for mask overlay to create bmaps of a specific Region of interest\n",
        "roi_path_ind = 1 # get mask data for region of interest\n",
        "mask_roi = 'acc_aal' #'acc_aal', 'anterior_insula_aal', 'mPFC', 'nacc_aal', \n",
        "indices_mask_roi = load_mask_indices(data_path_dict, mask_roi, roi_path_ind)\n",
        "\n",
        "previous_bmap_ya = metric_ya['bmap2_3'][0]\n",
        "bmap2ya = previous_bmap_ya.reshape(79 * 95 * 79)\n",
        "bmap2_3ya = np.zeros((79, 95, 79))\n",
        "bmap2_3ya = bmap2_3ya.reshape(79 * 95 * 79)\n",
        "bmap2_3ya[indices_mask_roi] = bmap2ya[indices_mask_roi]\n",
        "\n",
        "bmap2_3ya"
      ],
      "metadata": {
        "colab": {
          "base_uri": "https://localhost:8080/"
        },
        "id": "Tm988hthlFGo",
        "outputId": "0af64ed1-2a59-4057-c815-f9e50ac255f1"
      },
      "execution_count": 13,
      "outputs": [
        {
          "output_type": "stream",
          "name": "stdout",
          "text": [
            "mask shape: (79, 95, 79)\n"
          ]
        },
        {
          "output_type": "execute_result",
          "data": {
            "text/plain": [
              "array([0., 0., 0., ..., 0., 0., 0.])"
            ]
          },
          "metadata": {},
          "execution_count": 13
        }
      ]
    },
    {
      "cell_type": "code",
      "source": [
        "# Load in the mask indices for mask overlay to create bmaps of a specific Region of interest\n",
        "roi_path_ind = 1 # get mask data for region of interest\n",
        "mask_roi = 'acc_aal' #'acc_aal', 'anterior_insula_aal', 'mPFC', 'nacc_aal', \n",
        "indices_mask_roi = load_mask_indices(data_path_dict, mask_roi, roi_path_ind)\n",
        "\n",
        "previous_bmap_ad = metric_ad['bmap2_3'][0]\n",
        "bmap2ad = previous_bmap_ad.reshape(79 * 95 * 79)\n",
        "bmap2_3ad = np.zeros((79, 95, 79))\n",
        "bmap2_3ad = bmap2_3ad.reshape(79 * 95 * 79)\n",
        "bmap2_3ad[indices_mask_roi] = bmap2ad[indices_mask_roi]\n",
        "\n",
        "bmap2_3ad"
      ],
      "metadata": {
        "colab": {
          "base_uri": "https://localhost:8080/"
        },
        "id": "vved7lp7lFLa",
        "outputId": "cfd02b54-8164-4e5f-c39f-f6c92a07d45c"
      },
      "execution_count": 14,
      "outputs": [
        {
          "output_type": "stream",
          "name": "stdout",
          "text": [
            "mask shape: (79, 95, 79)\n"
          ]
        },
        {
          "output_type": "execute_result",
          "data": {
            "text/plain": [
              "array([0., 0., 0., ..., 0., 0., 0.])"
            ]
          },
          "metadata": {},
          "execution_count": 14
        }
      ]
    },
    {
      "cell_type": "code",
      "source": [
        "t_value, p_value = stats.ttest_ind(bmap2_3ya, bmap2_3ad)\n",
        "\n",
        "print(f'Test statistic is {t_value}')\n",
        "\n",
        "print(f'p-value for two tailed test is {p_value}')\n",
        "\n",
        "alpha = 0.05\n",
        "\n",
        "if p_value <= alpha:\n",
        "  print(f'Conclusion: Since p-value  {p_value}  < alpha {alpha}, We reject the null hypothesis H0. \\\n",
        "  \\nSo we conclude Young Adults and Adolescents may not regulate the same at the Ant. Cingulate Cortex. \\\n",
        "  \\ni.e., μ1 = μ2 at {alpha} level of significance.')\n",
        "\n",
        "else:\n",
        "\n",
        "  print(f'Conclusion: Since p-value{p_value} > alpha {alpha},We do not reject the null hypothesis H0.\\\n",
        "  \\n and therefore the Ant. Cingulate Cortex may play an equal role in regulation for both Young Adults and \\\n",
        "  \\n Adolescents')"
      ],
      "metadata": {
        "colab": {
          "base_uri": "https://localhost:8080/"
        },
        "id": "Ed7FEnQslFP5",
        "outputId": "4b86e72c-b5f7-49cd-963c-9b2e3e45c6f8"
      },
      "execution_count": 15,
      "outputs": [
        {
          "output_type": "stream",
          "name": "stdout",
          "text": [
            "Test statistic is 16.00730451382578\n",
            "p-value for two tailed test is 1.1522281988282325e-57\n",
            "Conclusion: Since p-value  1.1522281988282325e-57  < alpha 0.05, We reject the null hypothesis H0.   \n",
            "So we conclude Young Adults and Adolescents may not regulate the same at the Ant. Cingulate Cortex.   \n",
            "i.e., μ1 = μ2 at 0.05 level of significance.\n"
          ]
        }
      ]
    },
    {
      "cell_type": "markdown",
      "source": [
        "> Anterior Insula (Right) Analysis Between Adolescent and Young Adult 2 Sample t-test"
      ],
      "metadata": {
        "id": "VH_DnQ-nk2Tg"
      }
    },
    {
      "cell_type": "code",
      "source": [
        "# Load in the mask indices for mask overlay to create bmaps of a specific Region of interest\n",
        "roi_path_ind = 1 # get mask data for region of interest\n",
        "mask_roi = 'anterior_insula_aal' #'acc_aal', 'anterior_insula_aal', 'mPFC', 'nacc_aal', \n",
        "indices_mask_roi = load_mask_indices(data_path_dict, mask_roi, roi_path_ind)\n",
        "\n",
        "previous_bmap_ya = metric_ya['bmap2_3'][0]\n",
        "bmap2ya = previous_bmap_ya.reshape(79 * 95 * 79)\n",
        "bmap2_3ya = np.zeros((79, 95, 79))\n",
        "bmap2_3ya = bmap2_3ya.reshape(79 * 95 * 79)\n",
        "bmap2_3ya[indices_mask_roi] = bmap2ya[indices_mask_roi]\n",
        "\n",
        "bmap2_3ya"
      ],
      "metadata": {
        "colab": {
          "base_uri": "https://localhost:8080/"
        },
        "id": "RZsg9Wu6lFzh",
        "outputId": "665104b2-d8d2-4b9c-b676-b29f0953e05a"
      },
      "execution_count": 16,
      "outputs": [
        {
          "output_type": "stream",
          "name": "stdout",
          "text": [
            "mask shape: (79, 95, 79)\n"
          ]
        },
        {
          "output_type": "execute_result",
          "data": {
            "text/plain": [
              "array([0., 0., 0., ..., 0., 0., 0.])"
            ]
          },
          "metadata": {},
          "execution_count": 16
        }
      ]
    },
    {
      "cell_type": "code",
      "source": [
        "# Load in the mask indices for mask overlay to create bmaps of a specific Region of interest\n",
        "roi_path_ind = 1 # get mask data for region of interest\n",
        "mask_roi = 'anterior_insula_aal' #'acc_aal', 'anterior_insula_aal', 'mPFC', 'nacc_aal', \n",
        "indices_mask_roi = load_mask_indices(data_path_dict, mask_roi, roi_path_ind)\n",
        "\n",
        "previous_bmap_ad = metric_ad['bmap2_3'][0]\n",
        "bmap2ad = previous_bmap_ad.reshape(79 * 95 * 79)\n",
        "bmap2_3ad = np.zeros((79, 95, 79))\n",
        "bmap2_3ad = bmap2_3ad.reshape(79 * 95 * 79)\n",
        "bmap2_3ad[indices_mask_roi] = bmap2ad[indices_mask_roi]\n",
        "\n",
        "bmap2_3ad"
      ],
      "metadata": {
        "colab": {
          "base_uri": "https://localhost:8080/"
        },
        "id": "P2bjDWiklF37",
        "outputId": "4e9c359e-9629-440a-d609-5f01873fee2a"
      },
      "execution_count": 17,
      "outputs": [
        {
          "output_type": "stream",
          "name": "stdout",
          "text": [
            "mask shape: (79, 95, 79)\n"
          ]
        },
        {
          "output_type": "execute_result",
          "data": {
            "text/plain": [
              "array([0., 0., 0., ..., 0., 0., 0.])"
            ]
          },
          "metadata": {},
          "execution_count": 17
        }
      ]
    },
    {
      "cell_type": "code",
      "source": [
        "t_value, p_value = stats.ttest_ind(bmap2_3ya, bmap2_3ad)\n",
        "\n",
        "print(f'Test statistic is {t_value}')\n",
        "\n",
        "print(f'p-value for two tailed test is {p_value}')\n",
        "\n",
        "alpha = 0.05\n",
        "\n",
        "if p_value <= alpha:\n",
        "  print(f'Conclusion: Since p-value  {p_value}  < alpha {alpha}, We reject the null hypothesis H0. \\\n",
        "  \\nSo we conclude Young Adults and Adolescents may not regulate the same at the Anterior Insula. \\\n",
        "  \\ni.e., μ1 = μ2 at {alpha} level of significance.')\n",
        "\n",
        "else:\n",
        "\n",
        "  print(f'Conclusion: Since p-value{p_value} > alpha {alpha},We do not reject the null hypothesis H0.\\\n",
        "  \\n and therefore the Anterior Insula may play an equal role in regulation for both Young Adults and \\\n",
        "  \\n Adolescents')"
      ],
      "metadata": {
        "colab": {
          "base_uri": "https://localhost:8080/"
        },
        "id": "AlK53tBxlF8X",
        "outputId": "cd96dc0f-e71d-494f-9eb1-aa35e7fb3a37"
      },
      "execution_count": 18,
      "outputs": [
        {
          "output_type": "stream",
          "name": "stdout",
          "text": [
            "Test statistic is 0.26110837009428334\n",
            "p-value for two tailed test is 0.794008982469996\n",
            "Conclusion: Since p-value0.794008982469996 > alpha 0.05,We do not reject the null hypothesis H0.  \n",
            " and therefore the Anterior Insula may play an equal role in regulation for both Young Adults and   \n",
            " Adolescents\n"
          ]
        }
      ]
    },
    {
      "cell_type": "markdown",
      "source": [
        ">Fin"
      ],
      "metadata": {
        "id": "VnjpZyP1mVco"
      }
    }
  ]
}