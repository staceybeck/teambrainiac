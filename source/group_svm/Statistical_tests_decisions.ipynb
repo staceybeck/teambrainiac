{
  "nbformat": 4,
  "nbformat_minor": 0,
  "metadata": {
    "colab": {
      "name": "Statistical_tests_decisions.ipynb",
      "provenance": [],
      "authorship_tag": "ABX9TyMgDKSC6S2cy0usn0IX/veT",
      "include_colab_link": true
    },
    "kernelspec": {
      "name": "python3",
      "display_name": "Python 3"
    },
    "language_info": {
      "name": "python"
    }
  },
  "cells": [
    {
      "cell_type": "markdown",
      "metadata": {
        "id": "view-in-github",
        "colab_type": "text"
      },
      "source": [
        "<a href=\"https://colab.research.google.com/github/yecatstevir/teambrainiac/blob/main/source/group_svm/Statistical_tests_decisions.ipynb\" target=\"_parent\"><img src=\"https://colab.research.google.com/assets/colab-badge.svg\" alt=\"Open In Colab\"/></a>"
      ]
    },
    {
      "cell_type": "markdown",
      "source": [
        "### Two Sample T-test Between Young Adult and Adolescent using decision scores of the significant voxels decided by the SVM. \n",
        "\n",
        "- Target Whole Brain\n",
        "- Between Groups\n",
        "- Between WB and Submasks and WB and ROIs\n"
      ],
      "metadata": {
        "id": "-qgR7RUyeHwc"
      }
    },
    {
      "cell_type": "code",
      "execution_count": 1,
      "metadata": {
        "id": "J8ygTVJuRfPG",
        "outputId": "291f8bd7-4b23-4988-b511-155798f4b15d",
        "colab": {
          "base_uri": "https://localhost:8080/",
          "height": 359
        }
      },
      "outputs": [
        {
          "output_type": "stream",
          "name": "stdout",
          "text": [
            "Mounted at /content/gdrive\n",
            "Cloning into 'teambrainiac'...\n",
            "warning: --local is ignored\n",
            "remote: Enumerating objects: 2308, done.\u001b[K\n",
            "remote: Counting objects: 100% (183/183), done.\u001b[K\n",
            "remote: Compressing objects: 100% (169/169), done.\u001b[K\n",
            "remote: Total 2308 (delta 108), reused 32 (delta 13), pack-reused 2125\u001b[K\n",
            "Receiving objects: 100% (2308/2308), 153.41 MiB | 11.67 MiB/s, done.\n",
            "Resolving deltas: 100% (1499/1499), done.\n",
            "/content/teambrainiac/source/group_svm\n",
            "access_data.py\t\t    __init__.py\n",
            "Adolescent_Group_SVM.ipynb  process.py\n",
            "analysis.py\t\t    Statistical_tests_Group.ipynb\n",
            "cross_validation.py\t    Timeseries_Cross_Validation.ipynb\n",
            "data\t\t\t    train.py\n",
            "Explore_data.ipynb\t    visualize.py\n",
            "Group_metrics.ipynb\t    Young_Adult_Group_SVM.ipynb\n",
            "images\n"
          ]
        },
        {
          "output_type": "execute_result",
          "data": {
            "text/plain": [
              "'uploaded = files.upload()\\nfor fn in uploaded.keys():\\n  print(\\'User uploaded file \"{name}\" with length {length} bytes\\'.format(\\n      name=fn, length=len(uploaded[fn])))'"
            ],
            "application/vnd.google.colaboratory.intrinsic+json": {
              "type": "string"
            }
          },
          "metadata": {},
          "execution_count": 1
        }
      ],
      "source": [
        "from google.colab import drive, files\n",
        "drive.mount('/content/gdrive')#, force_remount = True)\n",
        "\n",
        "# Clone the entire repo.\n",
        "!git clone -l -s https://github.com/yecatstevir/teambrainiac.git\n",
        "# Change directory into cloned repo\n",
        "%cd teambrainiac/source/group_svm\n",
        "!ls\n",
        "\"\"\"uploaded = files.upload()\n",
        "for fn in uploaded.keys():\n",
        "  print('User uploaded file \"{name}\" with length {length} bytes'.format(\n",
        "      name=fn, length=len(uploaded[fn])))\"\"\""
      ]
    },
    {
      "cell_type": "code",
      "source": [
        "# Import libraries\n",
        "!pip install boto3 nilearn\n",
        "from process import *\n",
        "from access_data import *\n",
        "from scipy import stats\n",
        "import pandas as pd\n",
        "import numpy as np"
      ],
      "metadata": {
        "id": "B0RAbsukRkTO",
        "outputId": "1f29c6ef-66e0-49c2-a3b9-ff60283bf3c3",
        "colab": {
          "base_uri": "https://localhost:8080/"
        }
      },
      "execution_count": 2,
      "outputs": [
        {
          "output_type": "stream",
          "name": "stdout",
          "text": [
            "Collecting boto3\n",
            "  Downloading boto3-1.21.46-py3-none-any.whl (132 kB)\n",
            "\u001b[?25l\r\u001b[K     |██▌                             | 10 kB 26.9 MB/s eta 0:00:01\r\u001b[K     |█████                           | 20 kB 13.1 MB/s eta 0:00:01\r\u001b[K     |███████▍                        | 30 kB 10.6 MB/s eta 0:00:01\r\u001b[K     |██████████                      | 40 kB 9.4 MB/s eta 0:00:01\r\u001b[K     |████████████▍                   | 51 kB 4.6 MB/s eta 0:00:01\r\u001b[K     |██████████████▉                 | 61 kB 5.5 MB/s eta 0:00:01\r\u001b[K     |█████████████████▎              | 71 kB 5.4 MB/s eta 0:00:01\r\u001b[K     |███████████████████▉            | 81 kB 4.3 MB/s eta 0:00:01\r\u001b[K     |██████████████████████▎         | 92 kB 4.8 MB/s eta 0:00:01\r\u001b[K     |████████████████████████▊       | 102 kB 5.2 MB/s eta 0:00:01\r\u001b[K     |███████████████████████████▏    | 112 kB 5.2 MB/s eta 0:00:01\r\u001b[K     |█████████████████████████████▊  | 122 kB 5.2 MB/s eta 0:00:01\r\u001b[K     |████████████████████████████████| 132 kB 5.2 MB/s \n",
            "\u001b[?25hCollecting nilearn\n",
            "  Downloading nilearn-0.9.1-py3-none-any.whl (9.6 MB)\n",
            "\u001b[K     |████████████████████████████████| 9.6 MB 25.1 MB/s \n",
            "\u001b[?25hCollecting s3transfer<0.6.0,>=0.5.0\n",
            "  Downloading s3transfer-0.5.2-py3-none-any.whl (79 kB)\n",
            "\u001b[K     |████████████████████████████████| 79 kB 9.4 MB/s \n",
            "\u001b[?25hCollecting botocore<1.25.0,>=1.24.46\n",
            "  Downloading botocore-1.24.46-py3-none-any.whl (8.7 MB)\n",
            "\u001b[K     |████████████████████████████████| 8.7 MB 48.6 MB/s \n",
            "\u001b[?25hCollecting jmespath<2.0.0,>=0.7.1\n",
            "  Downloading jmespath-1.0.0-py3-none-any.whl (23 kB)\n",
            "Requirement already satisfied: python-dateutil<3.0.0,>=2.1 in /usr/local/lib/python3.7/dist-packages (from botocore<1.25.0,>=1.24.46->boto3) (2.8.2)\n",
            "Collecting urllib3<1.27,>=1.25.4\n",
            "  Downloading urllib3-1.26.9-py2.py3-none-any.whl (138 kB)\n",
            "\u001b[K     |████████████████████████████████| 138 kB 59.5 MB/s \n",
            "\u001b[?25hRequirement already satisfied: six>=1.5 in /usr/local/lib/python3.7/dist-packages (from python-dateutil<3.0.0,>=2.1->botocore<1.25.0,>=1.24.46->boto3) (1.15.0)\n",
            "Requirement already satisfied: nibabel>=3.0.0 in /usr/local/lib/python3.7/dist-packages (from nilearn) (3.0.2)\n",
            "Requirement already satisfied: numpy>=1.18 in /usr/local/lib/python3.7/dist-packages (from nilearn) (1.21.6)\n",
            "Collecting scipy>=1.5\n",
            "  Downloading scipy-1.7.3-cp37-cp37m-manylinux_2_12_x86_64.manylinux2010_x86_64.whl (38.1 MB)\n",
            "\u001b[K     |████████████████████████████████| 38.1 MB 1.2 MB/s \n",
            "\u001b[?25hRequirement already satisfied: scikit-learn>=0.22 in /usr/local/lib/python3.7/dist-packages (from nilearn) (1.0.2)\n",
            "Requirement already satisfied: requests>=2 in /usr/local/lib/python3.7/dist-packages (from nilearn) (2.23.0)\n",
            "Requirement already satisfied: joblib>=0.15 in /usr/local/lib/python3.7/dist-packages (from nilearn) (1.1.0)\n",
            "Requirement already satisfied: pandas>=1.0 in /usr/local/lib/python3.7/dist-packages (from nilearn) (1.3.5)\n",
            "Requirement already satisfied: lxml in /usr/local/lib/python3.7/dist-packages (from nilearn) (4.2.6)\n",
            "Requirement already satisfied: pytz>=2017.3 in /usr/local/lib/python3.7/dist-packages (from pandas>=1.0->nilearn) (2022.1)\n",
            "Requirement already satisfied: certifi>=2017.4.17 in /usr/local/lib/python3.7/dist-packages (from requests>=2->nilearn) (2021.10.8)\n",
            "Requirement already satisfied: idna<3,>=2.5 in /usr/local/lib/python3.7/dist-packages (from requests>=2->nilearn) (2.10)\n",
            "Collecting urllib3<1.27,>=1.25.4\n",
            "  Downloading urllib3-1.25.11-py2.py3-none-any.whl (127 kB)\n",
            "\u001b[K     |████████████████████████████████| 127 kB 60.7 MB/s \n",
            "\u001b[?25hRequirement already satisfied: chardet<4,>=3.0.2 in /usr/local/lib/python3.7/dist-packages (from requests>=2->nilearn) (3.0.4)\n",
            "Requirement already satisfied: threadpoolctl>=2.0.0 in /usr/local/lib/python3.7/dist-packages (from scikit-learn>=0.22->nilearn) (3.1.0)\n",
            "Installing collected packages: urllib3, jmespath, scipy, botocore, s3transfer, nilearn, boto3\n",
            "  Attempting uninstall: urllib3\n",
            "    Found existing installation: urllib3 1.24.3\n",
            "    Uninstalling urllib3-1.24.3:\n",
            "      Successfully uninstalled urllib3-1.24.3\n",
            "  Attempting uninstall: scipy\n",
            "    Found existing installation: scipy 1.4.1\n",
            "    Uninstalling scipy-1.4.1:\n",
            "      Successfully uninstalled scipy-1.4.1\n",
            "\u001b[31mERROR: pip's dependency resolver does not currently take into account all the packages that are installed. This behaviour is the source of the following dependency conflicts.\n",
            "datascience 0.10.6 requires folium==0.2.1, but you have folium 0.8.3 which is incompatible.\n",
            "albumentations 0.1.12 requires imgaug<0.2.7,>=0.2.5, but you have imgaug 0.2.9 which is incompatible.\u001b[0m\n",
            "Successfully installed boto3-1.21.46 botocore-1.24.46 jmespath-1.0.0 nilearn-0.9.1 s3transfer-0.5.2 scipy-1.7.3 urllib3-1.25.11\n"
          ]
        }
      ]
    },
    {
      "cell_type": "markdown",
      "source": [
        "> Load decision scores for ROIs"
      ],
      "metadata": {
        "id": "vpSeobmwnPcl"
      }
    },
    {
      "cell_type": "code",
      "source": [
        "import pandas as pd\n",
        "import numpy as np\n",
        "from collections import defaultdict\n",
        "adpfc = open_pickle('/content/gdrive/MyDrive/AD_detrend_mPFC_decisions.pkl')\n",
        "adnacc = open_pickle('/content/gdrive/MyDrive/AD_detrend_nacc_aal_decisions.pkl')\n",
        "adacc = open_pickle('/content/gdrive/MyDrive/AD_detrend_acc_aal_decisions.pkl')\n",
        "adai = open_pickle('/content/gdrive/MyDrive/AD_detrend_anterior_insula_aal_decisions.pkl')\n",
        "\n",
        "ad_mpfc = adpfc['decision']\n",
        "ad_nacc = adnacc['decision']\n",
        "ad_acc = adacc['decision']\n",
        "ad_ai = adai['decision']\n",
        "\n",
        "yapfc = open_pickle('/content/gdrive/MyDrive/YA_detrend_mPFC_decisions.pkl')\n",
        "yanacc = open_pickle('/content/gdrive/MyDrive/YA_detrend_nacc_aal_decisions.pkl')\n",
        "yaacc = open_pickle('/content/gdrive/MyDrive/YA_detrend_acc_aal_decisions.pkl')\n",
        "yaai = open_pickle('/content/gdrive/MyDrive/YA_detrend_anterior_insula_aal_decisions.pkl')\n",
        "\n",
        "ya_mpfc = yapfc['decision']\n",
        "ya_nacc = yanacc['decision']\n",
        "ya_acc = yaacc['decision']\n",
        "ya_ai = yaai['decision']"
      ],
      "metadata": {
        "id": "QVNaknDTfWUS"
      },
      "execution_count": 47,
      "outputs": []
    },
    {
      "cell_type": "markdown",
      "source": [
        "Decision scores between YA and AD : WB, SUB\n",
        "\n",
        "Decision scores between YA and AD : WB, ROI\n",
        "\n",
        "Decision scores between YA and AD : ROIs\n",
        "\n",
        "Decision scores between YA and AD : SUB\n",
        "\n",
        "Decision scores between YA and AD : WB\n",
        "\n",
        "Decision scores between AD : WB, SUB\n",
        "\n",
        "Decision scores between AD : WB, ROI\n",
        "\n",
        "Decision scores between YA : WB, SUB\n",
        "\n",
        "Decision scores between YA : WB, ROI\n",
        "\n",
        "Decision scores between AD : SUB\n",
        "\n",
        "Decision scores between YA : SUB\n",
        "\n",
        "Decision scores between AD : ROI\n",
        "\n",
        "Decision scores between YA : ROI"
      ],
      "metadata": {
        "id": "fNDxZxscyzh0"
      }
    },
    {
      "cell_type": "markdown",
      "source": [
        "### Whole Brain Analysis Between Adolescent and Young Adult 2 Sample t-test"
      ],
      "metadata": {
        "id": "F5eFOWixSU8R"
      }
    },
    {
      "cell_type": "markdown",
      "source": [
        "> Load Young Adult Whole Brain Information"
      ],
      "metadata": {
        "id": "qDm4ZeC-UmTr"
      }
    },
    {
      "cell_type": "code",
      "source": [
        "ya_sub = defaultdict(list)\n",
        "# Load model\n",
        "#open path dictionary file to get subject ids\n",
        "dict_path = \"data/data_path_dictionary.pkl\"\n",
        "data_path_dict = open_pickle(dict_path)\n",
        "\n",
        "mask_types = ['mask', 'masksubACC', 'masksubAI', 'masksubNAcc', 'masksubmPFC']\n",
        "data_type = \"YA_detrend\"\n",
        "runs_train = [1, 2]\n",
        "runs_id = [i + 1 for i in runs_train]\n",
        "m_path_ind = 0 #get sub_mask data in mask_data key\n",
        "for mask_type in mask_types:\n",
        "  metric_ya = access_load_data(f'metrics/group_svm/{mask_type}/{data_type}_{runs_id}_{mask_type}_metrics.pkl', False)\n",
        "  ya_sub[f'{mask_type}_dscore'].append(metric_ya['test_dfunc'][0])"
      ],
      "metadata": {
        "id": "hXorVnKFRkVo"
      },
      "execution_count": 3,
      "outputs": []
    },
    {
      "cell_type": "code",
      "source": [
        "ya_sub['mask_dscore'][0]"
      ],
      "metadata": {
        "colab": {
          "base_uri": "https://localhost:8080/"
        },
        "id": "dX827mmv3tn8",
        "outputId": "d3c3c330-c35c-4017-88e1-2d58f88d6816"
      },
      "execution_count": 8,
      "outputs": [
        {
          "output_type": "execute_result",
          "data": {
            "text/plain": [
              "(672,)"
            ]
          },
          "metadata": {},
          "execution_count": 8
        }
      ]
    },
    {
      "cell_type": "code",
      "source": [
        "ya_wb = ya_sub['mask_dscore'][0]\n",
        "ya_subacc = ya_sub['masksubACC_dscore'][0]\n",
        "ya_subai = ya_sub['masksubAI_dscore'][0]\n",
        "ya_subpfc = ya_sub['masksubmPFC_dscore'][0]\n",
        "ya_subncaa = ya_sub['masksubNAcc_dscore'][0]"
      ],
      "metadata": {
        "id": "Oos-0Zp41ts0"
      },
      "execution_count": 51,
      "outputs": []
    },
    {
      "cell_type": "markdown",
      "source": [
        "> Load Adolescent Whole Brain Information"
      ],
      "metadata": {
        "id": "AD0dhXLiUtTW"
      }
    },
    {
      "cell_type": "code",
      "source": [
        "# Load model\n",
        "ad_sub = defaultdict(list)\n",
        "mask_types = ['mask', 'masksubACC', 'masksubAI', 'masksubNAcc', 'masksubmPFC']\n",
        "data_type = \"AD_detrend\"\n",
        "runs_train = [1, 2]\n",
        "runs_id = [i + 1 for i in runs_train]\n",
        "m_path_ind = 0 #get sub_mask data in mask_data key\n",
        "for mask_type in mask_types:\n",
        "  metric_ya = access_load_data(f'metrics/group_svm/{mask_type}/{data_type}_{runs_id}_{mask_type}_metrics.pkl', False)\n",
        "  ad_sub[f'{mask_type}_dscore'].append(metric_ya['test_dfunc'][0])"
      ],
      "metadata": {
        "id": "dGj4axNURkYC"
      },
      "execution_count": 4,
      "outputs": []
    },
    {
      "cell_type": "code",
      "source": [
        "ad_wb = ad_sub['mask_dscore'][0]\n",
        "ad_subacc = ad_sub['masksubACC_dscore'][0]\n",
        "ad_subai = ad_sub['masksubAI_dscore'][0]\n",
        "ad_subpfc = ad_sub['masksubmPFC_dscore'][0]\n",
        "ad_subncaa = ad_sub['masksubNAcc_dscore'][0]"
      ],
      "metadata": {
        "id": "z0Anoc_A1piN"
      },
      "execution_count": 50,
      "outputs": []
    },
    {
      "cell_type": "markdown",
      "source": [
        "> Whole Brain Summary Statistics"
      ],
      "metadata": {
        "id": "Idot0BMUsp8D"
      }
    },
    {
      "cell_type": "code",
      "source": [
        "dictionary_values1 = {'YA': ya_wb}\n",
        "dictionary_values2 = {'AD':ad_wb}\n",
        "summary_df1 = pd.DataFrame(dictionary_values1)\n",
        "print(summary_df1.describe())\n",
        "summary_df2 = pd.DataFrame(dictionary_values2)\n",
        "print(summary_df2.describe())"
      ],
      "metadata": {
        "colab": {
          "base_uri": "https://localhost:8080/"
        },
        "id": "qblA0N1QrfGg",
        "outputId": "5e053038-9eb8-4a0d-871d-d2e7bb6bb1dc"
      },
      "execution_count": 12,
      "outputs": [
        {
          "output_type": "stream",
          "name": "stdout",
          "text": [
            "               YA\n",
            "count  672.000000\n",
            "mean     0.011738\n",
            "std      0.434251\n",
            "min     -0.946131\n",
            "25%     -0.306588\n",
            "50%      0.006389\n",
            "75%      0.339271\n",
            "max      1.361713\n",
            "                AD\n",
            "count  1176.000000\n",
            "mean      0.035384\n",
            "std       0.232994\n",
            "min      -0.629681\n",
            "25%      -0.115465\n",
            "50%       0.028632\n",
            "75%       0.192001\n",
            "max       0.705184\n"
          ]
        }
      ]
    },
    {
      "cell_type": "code",
      "source": [
        "t_value, p_value = stats.ttest_ind(ya_wb, ad_wb)\n",
        "\n",
        "print(f'Test statistic is {t_value}')\n",
        "\n",
        "print(f'p-value for two tailed test is {p_value}')\n",
        "\n",
        "alpha = 0.05\n",
        "\n",
        "if p_value <= alpha:\n",
        "  print(f'Conclusion: Since p-value {p_value} < alpha {alpha}, We reject the null hypothesis H0. \\\n",
        "  \\nSo we conclude that at the whole brain level, Young Adults and Adolescents do not regulate the same. \\\n",
        "  \\ni.e., μ1 = μ2 at {alpha} level of significance.')\n",
        "\n",
        "else:\n",
        "\n",
        "  print(f'Conclusion Since p-value{p_value} > alpha {alpha},We do not reject the null hypothesis H0.')\n"
      ],
      "metadata": {
        "colab": {
          "base_uri": "https://localhost:8080/"
        },
        "id": "EPmprYlZSegs",
        "outputId": "ec8cc0ae-7e48-4669-ae64-868bb41a9a10"
      },
      "execution_count": 13,
      "outputs": [
        {
          "output_type": "stream",
          "name": "stdout",
          "text": [
            "Test statistic is -1.522848501123466\n",
            "p-value for two tailed test is 0.1279678891770675\n",
            "Conclusion Since p-value0.1279678891770675 > alpha 0.05,We do not reject the null hypothesis H0.\n"
          ]
        }
      ]
    },
    {
      "cell_type": "markdown",
      "source": [
        "### SubACC\n",
        "- SubACC between YA, AD\n",
        "- WB SubACC YA\n",
        "- WB SubACC AD\n",
        "\n"
      ],
      "metadata": {
        "id": "cED9VOvp3Hlg"
      }
    },
    {
      "cell_type": "code",
      "source": [
        "dictionary_values1 = {'YA': ya_subacc}\n",
        "dictionary_values2 = {'AD':ad_subacc}\n",
        "summary_df1 = pd.DataFrame(dictionary_values1)\n",
        "print(summary_df1.describe())\n",
        "summary_df2 = pd.DataFrame(dictionary_values2)\n",
        "print(summary_df2.describe())"
      ],
      "metadata": {
        "colab": {
          "base_uri": "https://localhost:8080/"
        },
        "id": "bseMAoZ53GZ_",
        "outputId": "58a240eb-b4be-4e86-b076-953fe421642c"
      },
      "execution_count": 14,
      "outputs": [
        {
          "output_type": "stream",
          "name": "stdout",
          "text": [
            "               YA\n",
            "count  672.000000\n",
            "mean     0.011863\n",
            "std      0.429416\n",
            "min     -0.937269\n",
            "25%     -0.309286\n",
            "50%      0.015745\n",
            "75%      0.330064\n",
            "max      1.354795\n",
            "                AD\n",
            "count  1176.000000\n",
            "mean      0.043694\n",
            "std       0.255499\n",
            "min      -0.709318\n",
            "25%      -0.126833\n",
            "50%       0.038064\n",
            "75%       0.217944\n",
            "max       0.753787\n"
          ]
        }
      ]
    },
    {
      "cell_type": "code",
      "source": [
        "t_value, p_value = stats.ttest_ind(ya_subacc, ad_subacc)\n",
        "\n",
        "print(f'Test statistic is {t_value}')\n",
        "\n",
        "print(f'p-value for two tailed test is {p_value}')\n",
        "\n",
        "alpha = 0.05\n",
        "\n",
        "if p_value <= alpha:\n",
        "  print(f'Conclusion: Since p-value {p_value} < alpha {alpha}, We reject the null hypothesis H0. \\\n",
        "  \\nSo we conclude that when removing the ACC, Young Adults and Adolescents do not regulate the same. \\\n",
        "  \\ni.e., μ1 = μ2 at {alpha} level of significance.')\n",
        "\n",
        "else:\n",
        "\n",
        "  print(f'Conclusion Since p-value{p_value} > alpha {alpha},We do not reject the null hypothesis H0.')"
      ],
      "metadata": {
        "colab": {
          "base_uri": "https://localhost:8080/"
        },
        "id": "-tS2KWge4rgD",
        "outputId": "02ff0739-13fd-4603-e141-814adba9685e"
      },
      "execution_count": 16,
      "outputs": [
        {
          "output_type": "stream",
          "name": "stdout",
          "text": [
            "Test statistic is -1.997647484833968\n",
            "p-value for two tailed test is 0.04590140664863833\n",
            "Conclusion: Since p-value 0.04590140664863833 < alpha 0.05, We reject the null hypothesis H0.   \n",
            "So we conclude that when removing the ACC, Young Adults and Adolescents do not regulate the same.   \n",
            "i.e., μ1 = μ2 at 0.05 level of significance.\n"
          ]
        }
      ]
    },
    {
      "cell_type": "code",
      "source": [
        "t_value, p_value = stats.ttest_ind(ya_wb, ya_subacc)\n",
        "\n",
        "print(f'Test statistic is {t_value}')\n",
        "\n",
        "print(f'p-value for two tailed test is {p_value}')\n",
        "\n",
        "alpha = 0.05\n",
        "\n",
        "if p_value <= alpha:\n",
        "  print(f'Conclusion: Since p-value {p_value} < alpha {alpha}, We reject the null hypothesis H0. \\\n",
        "  \\nSo we conclude that when removing the ACC, Young Adults do not regulate the same. \\\n",
        "  \\ni.e., μ1 = μ2 at {alpha} level of significance.')\n",
        "\n",
        "else:\n",
        "\n",
        "  print(f'Conclusion Since p-value{p_value} > alpha {alpha},We do not reject the null hypothesis H0.')"
      ],
      "metadata": {
        "colab": {
          "base_uri": "https://localhost:8080/"
        },
        "id": "hH-pDARl4tYi",
        "outputId": "88fff4f5-c65f-4e86-96c0-71e7805eb43e"
      },
      "execution_count": 17,
      "outputs": [
        {
          "output_type": "stream",
          "name": "stdout",
          "text": [
            "Test statistic is -0.005299001913581159\n",
            "p-value for two tailed test is 0.9957728155385006\n",
            "Conclusion Since p-value0.9957728155385006 > alpha 0.05,We do not reject the null hypothesis H0.\n"
          ]
        }
      ]
    },
    {
      "cell_type": "code",
      "source": [
        "t_value, p_value = stats.ttest_ind(ad_wb, ad_subacc)\n",
        "\n",
        "print(f'Test statistic is {t_value}')\n",
        "\n",
        "print(f'p-value for two tailed test is {p_value}')\n",
        "\n",
        "alpha = 0.05\n",
        "\n",
        "if p_value <= alpha:\n",
        "  print(f'Conclusion: Since p-value {p_value} < alpha {alpha}, We reject the null hypothesis H0. \\\n",
        "  \\nSo we conclude that when removing the ACC, Adolescents do not regulate the same. \\\n",
        "  \\ni.e., μ1 = μ2 at {alpha} level of significance.')\n",
        "\n",
        "else:\n",
        "\n",
        "  print(f'Conclusion Since p-value{p_value} > alpha {alpha},We do not reject the null hypothesis H0.')"
      ],
      "metadata": {
        "colab": {
          "base_uri": "https://localhost:8080/"
        },
        "id": "KZkSYirq4uN0",
        "outputId": "a2a6cde5-5ae2-4284-ec92-e2c8abe056f0"
      },
      "execution_count": 18,
      "outputs": [
        {
          "output_type": "stream",
          "name": "stdout",
          "text": [
            "Test statistic is -0.8242036737394411\n",
            "p-value for two tailed test is 0.40990748257795406\n",
            "Conclusion Since p-value0.40990748257795406 > alpha 0.05,We do not reject the null hypothesis H0.\n"
          ]
        }
      ]
    },
    {
      "cell_type": "markdown",
      "source": [
        "### SubAI\n",
        "- SubAI between YA, AD\n",
        "- WB SubAI YA\n",
        "- WB SubAI AD"
      ],
      "metadata": {
        "id": "wf6Aq_XT3IXq"
      }
    },
    {
      "cell_type": "code",
      "source": [
        "dictionary_values1 = {'YA': ya_subai}\n",
        "dictionary_values2 = {'AD':ad_subai}\n",
        "summary_df1 = pd.DataFrame(dictionary_values1)\n",
        "print(summary_df1.describe())\n",
        "summary_df2 = pd.DataFrame(dictionary_values2)\n",
        "print(summary_df2.describe())"
      ],
      "metadata": {
        "colab": {
          "base_uri": "https://localhost:8080/"
        },
        "id": "p1cV21cz3GmR",
        "outputId": "62e9f791-7429-4dd8-e72d-c263f895acc5"
      },
      "execution_count": 22,
      "outputs": [
        {
          "output_type": "stream",
          "name": "stdout",
          "text": [
            "               YA\n",
            "count  672.000000\n",
            "mean     0.010594\n",
            "std      0.432705\n",
            "min     -0.957052\n",
            "25%     -0.307282\n",
            "50%      0.014027\n",
            "75%      0.338142\n",
            "max      1.347922\n",
            "                AD\n",
            "count  1176.000000\n",
            "mean      0.037443\n",
            "std       0.243762\n",
            "min      -0.679624\n",
            "25%      -0.122542\n",
            "50%       0.034368\n",
            "75%       0.199172\n",
            "max       0.734372\n"
          ]
        }
      ]
    },
    {
      "cell_type": "code",
      "source": [
        "t_value, p_value = stats.ttest_ind(ya_subai, ad_subai)\n",
        "\n",
        "print(f'Test statistic is {t_value}')\n",
        "\n",
        "print(f'p-value for two tailed test is {p_value}')\n",
        "\n",
        "alpha = 0.05\n",
        "\n",
        "if p_value <= alpha:\n",
        "  print(f'Conclusion: Since p-value {p_value} < alpha {alpha}, We reject the null hypothesis H0. \\\n",
        "  \\nSo we conclude that when removing the AI, Young Adults and Adolescents do not regulate the same. \\\n",
        "  \\ni.e., μ1 = μ2 at {alpha} level of significance.')\n",
        "\n",
        "else:\n",
        "\n",
        "  print(f'Conclusion Since p-value{p_value} > alpha {alpha},We do not reject the null hypothesis H0.')"
      ],
      "metadata": {
        "colab": {
          "base_uri": "https://localhost:8080/"
        },
        "id": "cVlCooHq5fta",
        "outputId": "a4188a3a-677e-489a-cd2f-5169baacb0fb"
      },
      "execution_count": 23,
      "outputs": [
        {
          "output_type": "stream",
          "name": "stdout",
          "text": [
            "Test statistic is -1.7063401013362085\n",
            "p-value for two tailed test is 0.08811297186377545\n",
            "Conclusion Since p-value0.08811297186377545 > alpha 0.05,We do not reject the null hypothesis H0.\n"
          ]
        }
      ]
    },
    {
      "cell_type": "code",
      "source": [
        "t_value, p_value = stats.ttest_ind(ya_wb, ya_subai)\n",
        "\n",
        "print(f'Test statistic is {t_value}')\n",
        "\n",
        "print(f'p-value for two tailed test is {p_value}')\n",
        "\n",
        "alpha = 0.05\n",
        "\n",
        "if p_value <= alpha:\n",
        "  print(f'Conclusion: Since p-value {p_value} < alpha {alpha}, We reject the null hypothesis H0. \\\n",
        "  \\nSo we conclude that when removing the AI, Young Adults do not regulate the same. \\\n",
        "  \\ni.e., μ1 = μ2 at {alpha} level of significance.')\n",
        "\n",
        "else:\n",
        "\n",
        "  print(f'Conclusion Since p-value{p_value} > alpha {alpha},We do not reject the null hypothesis H0.')"
      ],
      "metadata": {
        "colab": {
          "base_uri": "https://localhost:8080/"
        },
        "id": "px-J_1oa5f2s",
        "outputId": "3ed0bf9c-c37c-46bd-d9a0-7d0b5af76509"
      },
      "execution_count": 24,
      "outputs": [
        {
          "output_type": "stream",
          "name": "stdout",
          "text": [
            "Test statistic is 0.048395708581289824\n",
            "p-value for two tailed test is 0.9614080804953828\n",
            "Conclusion Since p-value0.9614080804953828 > alpha 0.05,We do not reject the null hypothesis H0.\n"
          ]
        }
      ]
    },
    {
      "cell_type": "code",
      "source": [
        "t_value, p_value = stats.ttest_ind(ad_wb, ad_subai)\n",
        "\n",
        "print(f'Test statistic is {t_value}')\n",
        "\n",
        "print(f'p-value for two tailed test is {p_value}')\n",
        "\n",
        "alpha = 0.05\n",
        "\n",
        "if p_value <= alpha:\n",
        "  print(f'Conclusion: Since p-value {p_value} < alpha {alpha}, We reject the null hypothesis H0. \\\n",
        "  \\nSo we conclude that when removing the AI, Adolescents do not regulate the same. \\\n",
        "  \\ni.e., μ1 = μ2 at {alpha} level of significance.')\n",
        "\n",
        "else:\n",
        "\n",
        "  print(f'Conclusion Since p-value{p_value} > alpha {alpha},We do not reject the null hypothesis H0.')"
      ],
      "metadata": {
        "colab": {
          "base_uri": "https://localhost:8080/"
        },
        "id": "Lv4w5qO85f_L",
        "outputId": "ba2f7b06-261b-4707-acee-847d27fe2ebe"
      },
      "execution_count": 25,
      "outputs": [
        {
          "output_type": "stream",
          "name": "stdout",
          "text": [
            "Test statistic is -0.20944300739866234\n",
            "p-value for two tailed test is 0.8341205761707682\n",
            "Conclusion Since p-value0.8341205761707682 > alpha 0.05,We do not reject the null hypothesis H0.\n"
          ]
        }
      ]
    },
    {
      "cell_type": "markdown",
      "source": [
        "### SubmPFC\n",
        "- SubmPFC between YA, AD\n",
        "- WB SubmPFC YA\n",
        "- WB SubmPFC AD"
      ],
      "metadata": {
        "id": "qQhc3DQA3I9M"
      }
    },
    {
      "cell_type": "code",
      "source": [
        "dictionary_values1 = {'YA': ya_subpfc}\n",
        "dictionary_values2 = {'AD':ad_subpfc}\n",
        "summary_df1 = pd.DataFrame(dictionary_values1)\n",
        "print(summary_df1.describe())\n",
        "summary_df2 = pd.DataFrame(dictionary_values2)\n",
        "print(summary_df2.describe())"
      ],
      "metadata": {
        "colab": {
          "base_uri": "https://localhost:8080/"
        },
        "id": "zP9pKAus3Gv2",
        "outputId": "1174e61e-0197-4395-d895-07fe699dce28"
      },
      "execution_count": 27,
      "outputs": [
        {
          "output_type": "stream",
          "name": "stdout",
          "text": [
            "               YA\n",
            "count  672.000000\n",
            "mean     0.009688\n",
            "std      0.442777\n",
            "min     -0.971446\n",
            "25%     -0.316242\n",
            "50%      0.015702\n",
            "75%      0.350304\n",
            "max      1.354417\n",
            "                AD\n",
            "count  1176.000000\n",
            "mean      0.034377\n",
            "std       0.255183\n",
            "min      -0.718930\n",
            "25%      -0.139089\n",
            "50%       0.032431\n",
            "75%       0.207754\n",
            "max       0.827596\n"
          ]
        }
      ]
    },
    {
      "cell_type": "code",
      "source": [
        "t_value, p_value = stats.ttest_ind(ya_subpfc, ad_subpfc)\n",
        "\n",
        "print(f'Test statistic is {t_value}')\n",
        "\n",
        "print(f'p-value for two tailed test is {p_value}')\n",
        "\n",
        "alpha = 0.05\n",
        "\n",
        "if p_value <= alpha:\n",
        "  print(f'Conclusion: Since p-value {p_value} < alpha {alpha}, We reject the null hypothesis H0. \\\n",
        "  \\nSo we conclude that when removing the mPFC, Young Adults and Adolescents do not regulate the same. \\\n",
        "  \\ni.e., μ1 = μ2 at {alpha} level of significance.')\n",
        "\n",
        "else:\n",
        "\n",
        "  print(f'Conclusion Since p-value{p_value} > alpha {alpha},We do not reject the null hypothesis H0.')"
      ],
      "metadata": {
        "colab": {
          "base_uri": "https://localhost:8080/"
        },
        "id": "MEqR27E65-rU",
        "outputId": "dbf43c59-8b7d-4830-d65d-a851953b548f"
      },
      "execution_count": 31,
      "outputs": [
        {
          "output_type": "stream",
          "name": "stdout",
          "text": [
            "Test statistic is -1.520726421172203\n",
            "p-value for two tailed test is 0.12849976272304303\n",
            "Conclusion Since p-value0.12849976272304303 > alpha 0.05,We do not reject the null hypothesis H0.\n"
          ]
        }
      ]
    },
    {
      "cell_type": "code",
      "source": [
        "t_value, p_value = stats.ttest_ind(ya_wb, ya_subpfc)\n",
        "\n",
        "print(f'Test statistic is {t_value}')\n",
        "\n",
        "print(f'p-value for two tailed test is {p_value}')\n",
        "\n",
        "alpha = 0.05\n",
        "\n",
        "if p_value <= alpha:\n",
        "  print(f'Conclusion: Since p-value {p_value} < alpha {alpha}, We reject the null hypothesis H0. \\\n",
        "  \\nSo we conclude that when removing the mPFC, Young Adults do not regulate the same. \\\n",
        "  \\ni.e., μ1 = μ2 at {alpha} level of significance.')\n",
        "\n",
        "else:\n",
        "\n",
        "  print(f'Conclusion Since p-value{p_value} > alpha {alpha},We do not reject the null hypothesis H0.')"
      ],
      "metadata": {
        "colab": {
          "base_uri": "https://localhost:8080/"
        },
        "id": "xx1mqGPZ5-zO",
        "outputId": "7d6f46d3-bf2c-4c88-9d21-875fd96b44b8"
      },
      "execution_count": 30,
      "outputs": [
        {
          "output_type": "stream",
          "name": "stdout",
          "text": [
            "Test statistic is 0.08570068637576371\n",
            "p-value for two tailed test is 0.9317171401238309\n",
            "Conclusion Since p-value0.9317171401238309 > alpha 0.05,We do not reject the null hypothesis H0.\n"
          ]
        }
      ]
    },
    {
      "cell_type": "code",
      "source": [
        "t_value, p_value = stats.ttest_ind(ad_wb, ad_subpfc)\n",
        "\n",
        "print(f'Test statistic is {t_value}')\n",
        "\n",
        "print(f'p-value for two tailed test is {p_value}')\n",
        "\n",
        "alpha = 0.05\n",
        "\n",
        "if p_value <= alpha:\n",
        "  print(f'Conclusion: Since p-value {p_value} < alpha {alpha}, We reject the null hypothesis H0. \\\n",
        "  \\nSo we conclude that when removing the mPFC, Adolescents do not regulate the same. \\\n",
        "  \\ni.e., μ1 = μ2 at {alpha} level of significance.')\n",
        "\n",
        "else:\n",
        "\n",
        "  print(f'Conclusion Since p-value{p_value} > alpha {alpha},We do not reject the null hypothesis H0.')"
      ],
      "metadata": {
        "colab": {
          "base_uri": "https://localhost:8080/"
        },
        "id": "yyuagj3d5-66",
        "outputId": "d4b5b445-d110-4dbb-fd19-fea47dadc706"
      },
      "execution_count": 32,
      "outputs": [
        {
          "output_type": "stream",
          "name": "stdout",
          "text": [
            "Test statistic is 0.09993364478933432\n",
            "p-value for two tailed test is 0.9204055294449156\n",
            "Conclusion Since p-value0.9204055294449156 > alpha 0.05,We do not reject the null hypothesis H0.\n"
          ]
        }
      ]
    },
    {
      "cell_type": "markdown",
      "source": [
        "### SubNAcc\n",
        "- SubNAcc between YA, AD\n",
        "- WB SubNAcc YA\n",
        "- WB SubNAcc AD"
      ],
      "metadata": {
        "id": "p8pFv6M63JlJ"
      }
    },
    {
      "cell_type": "code",
      "source": [
        "dictionary_values1 = {'YA': ya_subncaa}\n",
        "dictionary_values2 = {'AD':ad_subncaa}\n",
        "summary_df1 = pd.DataFrame(dictionary_values1)\n",
        "print(summary_df1.describe())\n",
        "summary_df2 = pd.DataFrame(dictionary_values2)\n",
        "print(summary_df2.describe())"
      ],
      "metadata": {
        "colab": {
          "base_uri": "https://localhost:8080/"
        },
        "id": "rTP1f37m3G4A",
        "outputId": "e70051fe-341b-4a85-a545-273fed4328f1"
      },
      "execution_count": 52,
      "outputs": [
        {
          "output_type": "stream",
          "name": "stdout",
          "text": [
            "               YA\n",
            "count  672.000000\n",
            "mean     0.011158\n",
            "std      0.435743\n",
            "min     -0.968558\n",
            "25%     -0.316110\n",
            "50%      0.010255\n",
            "75%      0.337425\n",
            "max      1.342921\n",
            "                AD\n",
            "count  1176.000000\n",
            "mean      0.040221\n",
            "std       0.256145\n",
            "min      -0.693427\n",
            "25%      -0.132655\n",
            "50%       0.032157\n",
            "75%       0.212106\n",
            "max       0.781820\n"
          ]
        }
      ]
    },
    {
      "cell_type": "code",
      "source": [
        "t_value, p_value = stats.ttest_ind(ya_subncaa, ad_subncaa)\n",
        "\n",
        "print(f'Test statistic is {t_value}')\n",
        "\n",
        "print(f'p-value for two tailed test is {p_value}')\n",
        "\n",
        "alpha = 0.05\n",
        "\n",
        "if p_value <= alpha:\n",
        "  print(f'Conclusion: Since p-value {p_value} < alpha {alpha}, We reject the null hypothesis H0. \\\n",
        "  \\nSo we conclude that when removing the Nucleus Accumbens, Young Adults and Adolescents do not regulate the same. \\\n",
        "  \\ni.e., μ1 = μ2 at {alpha} level of significance.')\n",
        "\n",
        "else:\n",
        "\n",
        "  print(f'Conclusion Since p-value{p_value} > alpha {alpha},We do not reject the null hypothesis H0.')"
      ],
      "metadata": {
        "colab": {
          "base_uri": "https://localhost:8080/"
        },
        "id": "Rz4dXL1p6AQE",
        "outputId": "e79bb062-3ce9-4334-a74c-5dd2e509c9fc"
      },
      "execution_count": 35,
      "outputs": [
        {
          "output_type": "stream",
          "name": "stdout",
          "text": [
            "Test statistic is -1.8056955785421944\n",
            "p-value for two tailed test is 0.0711287448526961\n",
            "Conclusion Since p-value0.0711287448526961 > alpha 0.05,We do not reject the null hypothesis H0.\n"
          ]
        }
      ]
    },
    {
      "cell_type": "code",
      "source": [
        "t_value, p_value = stats.ttest_ind(ya_wb, ya_subncaa)\n",
        "\n",
        "print(f'Test statistic is {t_value}')\n",
        "\n",
        "print(f'p-value for two tailed test is {p_value}')\n",
        "\n",
        "alpha = 0.05\n",
        "\n",
        "if p_value <= alpha:\n",
        "  print(f'Conclusion: Since p-value {p_value} < alpha {alpha}, We reject the null hypothesis H0. \\\n",
        "  \\nSo we conclude that when removing the Nucleus Accumbens, Young Adults do not regulate the same. \\\n",
        "  \\ni.e., μ1 = μ2 at {alpha} level of significance.')\n",
        "\n",
        "else:\n",
        "\n",
        "  print(f'Conclusion Since p-value{p_value} > alpha {alpha},We do not reject the null hypothesis H0.')"
      ],
      "metadata": {
        "colab": {
          "base_uri": "https://localhost:8080/"
        },
        "id": "u6hQMale6AWU",
        "outputId": "164189a6-e34b-47dc-c9a9-808f617c6d63"
      },
      "execution_count": 36,
      "outputs": [
        {
          "output_type": "stream",
          "name": "stdout",
          "text": [
            "Test statistic is 0.024430050690201446\n",
            "p-value for two tailed test is 0.9805132104491241\n",
            "Conclusion Since p-value0.9805132104491241 > alpha 0.05,We do not reject the null hypothesis H0.\n"
          ]
        }
      ]
    },
    {
      "cell_type": "code",
      "source": [
        "t_value, p_value = stats.ttest_ind(ad_wb, ad_subncaa)\n",
        "\n",
        "print(f'Test statistic is {t_value}')\n",
        "\n",
        "print(f'p-value for two tailed test is {p_value}')\n",
        "\n",
        "alpha = 0.05\n",
        "\n",
        "if p_value <= alpha:\n",
        "  print(f'Conclusion: Since p-value {p_value} < alpha {alpha}, We reject the null hypothesis H0. \\\n",
        "  \\nSo we conclude that when removing the Nucleus Accumbens,  Adolescents do not regulate the same. \\\n",
        "  \\ni.e., μ1 = μ2 at {alpha} level of significance.')\n",
        "\n",
        "else:\n",
        "\n",
        "  print(f'Conclusion Since p-value{p_value} > alpha {alpha},We do not reject the null hypothesis H0.')"
      ],
      "metadata": {
        "colab": {
          "base_uri": "https://localhost:8080/"
        },
        "id": "sLIiEoWO6Acb",
        "outputId": "659772d9-3097-46b5-c32d-a410efad9ddb"
      },
      "execution_count": 37,
      "outputs": [
        {
          "output_type": "stream",
          "name": "stdout",
          "text": [
            "Test statistic is -0.47909089052296444\n",
            "p-value for two tailed test is 0.6319185457862074\n",
            "Conclusion Since p-value0.6319185457862074 > alpha 0.05,We do not reject the null hypothesis H0.\n"
          ]
        }
      ]
    },
    {
      "cell_type": "markdown",
      "source": [
        "###ACC\n",
        "- ACC between YA, AD\n",
        "- WB ACC YA\n",
        "- WB ACC AD"
      ],
      "metadata": {
        "id": "bIMvf1RQ7QQi"
      }
    },
    {
      "cell_type": "code",
      "source": [
        "dictionary_values1 = {'YA': ya_acc}\n",
        "dictionary_values2 = {'AD':ad_acc}\n",
        "summary_df1 = pd.DataFrame(dictionary_values1)\n",
        "print(summary_df1.describe())\n",
        "summary_df2 = pd.DataFrame(dictionary_values2)\n",
        "print(summary_df2.describe())"
      ],
      "metadata": {
        "colab": {
          "base_uri": "https://localhost:8080/"
        },
        "id": "XvdqmUTK7ecV",
        "outputId": "2c8a9686-8d8a-49f2-a58b-2bfd0464c18a"
      },
      "execution_count": 57,
      "outputs": [
        {
          "output_type": "stream",
          "name": "stdout",
          "text": [
            "               YA\n",
            "count  672.000000\n",
            "mean    -0.003285\n",
            "std      0.426422\n",
            "min     -1.148944\n",
            "25%     -0.294057\n",
            "50%      0.007557\n",
            "75%      0.306150\n",
            "max      1.360153\n",
            "                AD\n",
            "count  1176.000000\n",
            "mean      0.011973\n",
            "std       0.235729\n",
            "min      -0.836195\n",
            "25%      -0.136994\n",
            "50%       0.007399\n",
            "75%       0.168923\n",
            "max       0.804348\n"
          ]
        }
      ]
    },
    {
      "cell_type": "code",
      "source": [
        "t_value, p_value = stats.ttest_ind(ya_acc, ad_acc)\n",
        "\n",
        "print(f'Test statistic is {t_value}')\n",
        "\n",
        "print(f'p-value for two tailed test is {p_value}')\n",
        "\n",
        "alpha = 0.05\n",
        "\n",
        "if p_value <= alpha:\n",
        "  print(f'Conclusion: Since p-value {p_value} < alpha {alpha}, We reject the null hypothesis H0. \\\n",
        "  \\nSo we conclude that when looking at the ACC, Young Adults and Adolescents do not regulate the same. \\\n",
        "  \\ni.e., μ1 = μ2 at {alpha} level of significance.')\n",
        "\n",
        "else:\n",
        "\n",
        "  print(f'Conclusion Since p-value{p_value} > alpha {alpha},We do not reject the null hypothesis H0.')"
      ],
      "metadata": {
        "colab": {
          "base_uri": "https://localhost:8080/"
        },
        "id": "M_bCoBxW7eog",
        "outputId": "7fed7006-1f8e-4b5f-92d2-ff91c5ef0934"
      },
      "execution_count": 58,
      "outputs": [
        {
          "output_type": "stream",
          "name": "stdout",
          "text": [
            "Test statistic is -0.9904983490002937\n",
            "p-value for two tailed test is 0.32206040536048985\n",
            "Conclusion Since p-value0.32206040536048985 > alpha 0.05,We do not reject the null hypothesis H0.\n"
          ]
        }
      ]
    },
    {
      "cell_type": "code",
      "source": [
        "t_value, p_value = stats.ttest_ind(ya_wb, ya_acc)\n",
        "\n",
        "print(f'Test statistic is {t_value}')\n",
        "\n",
        "print(f'p-value for two tailed test is {p_value}')\n",
        "\n",
        "alpha = 0.05\n",
        "\n",
        "if p_value <= alpha:\n",
        "  print(f'Conclusion: Since p-value {p_value} < alpha {alpha}, We reject the null hypothesis H0. \\\n",
        "  \\nSo we conclude that when looking at the ACC, Young Adults do not regulate the same. \\\n",
        "  \\ni.e., μ1 = μ2 at {alpha} level of significance.')\n",
        "\n",
        "else:\n",
        "\n",
        "  print(f'Conclusion Since p-value{p_value} > alpha {alpha},We do not reject the null hypothesis H0.')"
      ],
      "metadata": {
        "colab": {
          "base_uri": "https://localhost:8080/"
        },
        "id": "vSfvjfH97ewp",
        "outputId": "d7b7d186-9379-4fee-8c9c-41ebc9554542"
      },
      "execution_count": 59,
      "outputs": [
        {
          "output_type": "stream",
          "name": "stdout",
          "text": [
            "Test statistic is 0.639877101966053\n",
            "p-value for two tailed test is 0.5223617221705159\n",
            "Conclusion Since p-value0.5223617221705159 > alpha 0.05,We do not reject the null hypothesis H0.\n"
          ]
        }
      ]
    },
    {
      "cell_type": "code",
      "source": [
        "t_value, p_value = stats.ttest_ind(ad_wb, ad_acc)\n",
        "\n",
        "print(f'Test statistic is {t_value}')\n",
        "\n",
        "print(f'p-value for two tailed test is {p_value}')\n",
        "\n",
        "alpha = 0.05\n",
        "\n",
        "if p_value <= alpha:\n",
        "  print(f'Conclusion: Since p-value {p_value} < alpha {alpha}, We reject the null hypothesis H0. \\\n",
        "  \\nSo we conclude that when looking at the ACC, Adolescents do not regulate the same. \\\n",
        "  \\ni.e., μ1 = μ2 at {alpha} level of significance.')\n",
        "\n",
        "else:\n",
        "\n",
        "  print(f'Conclusion Since p-value{p_value} > alpha {alpha},We do not reject the null hypothesis H0.')"
      ],
      "metadata": {
        "colab": {
          "base_uri": "https://localhost:8080/"
        },
        "id": "VvC6wSJX7e5L",
        "outputId": "579d3fcf-be66-4fde-f629-6915248a121f"
      },
      "execution_count": 60,
      "outputs": [
        {
          "output_type": "stream",
          "name": "stdout",
          "text": [
            "Test statistic is 2.4222297318468575\n",
            "p-value for two tailed test is 0.015500780796081328\n",
            "Conclusion: Since p-value 0.015500780796081328 < alpha 0.05, We reject the null hypothesis H0.   \n",
            "So we conclude that when looking at the ACC, Adolescents do not regulate the same.   \n",
            "i.e., μ1 = μ2 at 0.05 level of significance.\n"
          ]
        }
      ]
    },
    {
      "cell_type": "markdown",
      "source": [
        "###AI\n",
        "- AI between YA, AD\n",
        "- WB AI YA\n",
        "- WB AI AD"
      ],
      "metadata": {
        "id": "t-Sp9DBZ7QVF"
      }
    },
    {
      "cell_type": "code",
      "source": [
        "dictionary_values1 = {'YA': ya_ai}\n",
        "dictionary_values2 = {'AD':ad_ai}\n",
        "summary_df1 = pd.DataFrame(dictionary_values1)\n",
        "print(summary_df1.describe())\n",
        "summary_df2 = pd.DataFrame(dictionary_values2)\n",
        "print(summary_df2.describe())"
      ],
      "metadata": {
        "colab": {
          "base_uri": "https://localhost:8080/"
        },
        "id": "UyXFMoGt7hpK",
        "outputId": "4196a9d3-2fdd-45c6-888d-0018ae4f6401"
      },
      "execution_count": 61,
      "outputs": [
        {
          "output_type": "stream",
          "name": "stdout",
          "text": [
            "               YA\n",
            "count  672.000000\n",
            "mean    -0.032144\n",
            "std      0.361382\n",
            "min     -1.370008\n",
            "25%     -0.266359\n",
            "50%     -0.036388\n",
            "75%      0.205521\n",
            "max      0.994335\n",
            "                AD\n",
            "count  1176.000000\n",
            "mean     -0.070185\n",
            "std       0.328094\n",
            "min      -1.082912\n",
            "25%      -0.288165\n",
            "50%      -0.076824\n",
            "75%       0.136764\n",
            "max       1.006725\n"
          ]
        }
      ]
    },
    {
      "cell_type": "code",
      "source": [
        "t_value, p_value = stats.ttest_ind(ya_ai, ad_ai)\n",
        "\n",
        "print(f'Test statistic is {t_value}')\n",
        "\n",
        "print(f'p-value for two tailed test is {p_value}')\n",
        "\n",
        "alpha = 0.05\n",
        "\n",
        "if p_value <= alpha:\n",
        "  print(f'Conclusion: Since p-value {p_value} < alpha {alpha}, We reject the null hypothesis H0. \\\n",
        "  \\nSo we conclude that when looking at the AI, Young Adults and Adolescents do not regulate the same. \\\n",
        "  \\ni.e., μ1 = μ2 at {alpha} level of significance.')\n",
        "\n",
        "else:\n",
        "\n",
        "  print(f'Conclusion Since p-value{p_value} > alpha {alpha},We do not reject the null hypothesis H0.')"
      ],
      "metadata": {
        "colab": {
          "base_uri": "https://localhost:8080/"
        },
        "id": "IxNRoOqQ7huu",
        "outputId": "6155d66c-70f7-41cb-98a3-0e584050024d"
      },
      "execution_count": 62,
      "outputs": [
        {
          "output_type": "stream",
          "name": "stdout",
          "text": [
            "Test statistic is 2.3098256700141833\n",
            "p-value for two tailed test is 0.0210076575061983\n",
            "Conclusion: Since p-value 0.0210076575061983 < alpha 0.05, We reject the null hypothesis H0.   \n",
            "So we conclude that when looking at the AI, Young Adults and Adolescents do not regulate the same.   \n",
            "i.e., μ1 = μ2 at 0.05 level of significance.\n"
          ]
        }
      ]
    },
    {
      "cell_type": "code",
      "source": [
        "t_value, p_value = stats.ttest_ind(ya_wb,ya_ai)\n",
        "\n",
        "print(f'Test statistic is {t_value}')\n",
        "\n",
        "print(f'p-value for two tailed test is {p_value}')\n",
        "\n",
        "alpha = 0.05\n",
        "\n",
        "if p_value <= alpha:\n",
        "  print(f'Conclusion: Since p-value {p_value} < alpha {alpha}, We reject the null hypothesis H0. \\\n",
        "  \\nSo we conclude that when looking at the AI, Young Adults do not regulate the same. \\\n",
        "  \\ni.e., μ1 = μ2 at {alpha} level of significance.')\n",
        "\n",
        "else:\n",
        "\n",
        "  print(f'Conclusion Since p-value{p_value} > alpha {alpha},We do not reject the null hypothesis H0.')"
      ],
      "metadata": {
        "colab": {
          "base_uri": "https://localhost:8080/"
        },
        "id": "kqmyFvd37hz9",
        "outputId": "65f913c8-529d-411c-f6e4-b7c077096d1c"
      },
      "execution_count": 65,
      "outputs": [
        {
          "output_type": "stream",
          "name": "stdout",
          "text": [
            "Test statistic is 2.0135548193680517\n",
            "p-value for two tailed test is 0.04425560089777816\n",
            "Conclusion: Since p-value 0.04425560089777816 < alpha 0.05, We reject the null hypothesis H0.   \n",
            "So we conclude that when looking at the AI, Young Adults do not regulate the same.   \n",
            "i.e., μ1 = μ2 at 0.05 level of significance.\n"
          ]
        }
      ]
    },
    {
      "cell_type": "code",
      "source": [
        "t_value, p_value = stats.ttest_ind(ad_wb, ad_ai)\n",
        "\n",
        "print(f'Test statistic is {t_value}')\n",
        "\n",
        "print(f'p-value for two tailed test is {p_value}')\n",
        "\n",
        "alpha = 0.05\n",
        "\n",
        "if p_value <= alpha:\n",
        "  print(f'Conclusion: Since p-value {p_value} < alpha {alpha}, We reject the null hypothesis H0. \\\n",
        "  \\nSo we conclude that when looking at the AI,  Adolescents do not regulate the same. \\\n",
        "  \\ni.e., μ1 = μ2 at {alpha} level of significance.')\n",
        "\n",
        "else:\n",
        "\n",
        "  print(f'Conclusion Since p-value{p_value} > alpha {alpha},We do not reject the null hypothesis H0.')"
      ],
      "metadata": {
        "colab": {
          "base_uri": "https://localhost:8080/"
        },
        "id": "rc_NTOSn7h5M",
        "outputId": "5714a35c-5418-403e-ea4c-53be141f608e"
      },
      "execution_count": 66,
      "outputs": [
        {
          "output_type": "stream",
          "name": "stdout",
          "text": [
            "Test statistic is 8.99646072972302\n",
            "p-value for two tailed test is 4.685453837941732e-19\n",
            "Conclusion: Since p-value 4.685453837941732e-19 < alpha 0.05, We reject the null hypothesis H0.   \n",
            "So we conclude that when looking at the AI,  Adolescents do not regulate the same.   \n",
            "i.e., μ1 = μ2 at 0.05 level of significance.\n"
          ]
        }
      ]
    },
    {
      "cell_type": "markdown",
      "source": [
        "###mPFC\n",
        "- mPFC between YA, AD\n",
        "- WB mPFC YA\n",
        "- WB mPFC AD"
      ],
      "metadata": {
        "id": "goUfl94U7QXi"
      }
    },
    {
      "cell_type": "code",
      "source": [
        "dictionary_values1 = {'YA': ya_mpfc}\n",
        "dictionary_values2 = {'AD':ad_mpfc}\n",
        "summary_df1 = pd.DataFrame(dictionary_values1)\n",
        "print(summary_df1.describe())\n",
        "summary_df2 = pd.DataFrame(dictionary_values2)\n",
        "print(summary_df2.describe())"
      ],
      "metadata": {
        "colab": {
          "base_uri": "https://localhost:8080/"
        },
        "id": "ZyKgCUoG7nkP",
        "outputId": "fbb65033-a4e9-453a-bcb7-84c5a8aacd46"
      },
      "execution_count": 67,
      "outputs": [
        {
          "output_type": "stream",
          "name": "stdout",
          "text": [
            "               YA\n",
            "count  672.000000\n",
            "mean     0.037698\n",
            "std      0.511252\n",
            "min     -1.536291\n",
            "25%     -0.282303\n",
            "50%      0.052453\n",
            "75%      0.364933\n",
            "max      1.486680\n",
            "                AD\n",
            "count  1176.000000\n",
            "mean     -0.033614\n",
            "std       0.398963\n",
            "min      -1.398510\n",
            "25%      -0.303652\n",
            "50%      -0.016756\n",
            "75%       0.242795\n",
            "max       1.139247\n"
          ]
        }
      ]
    },
    {
      "cell_type": "code",
      "source": [
        "t_value, p_value = stats.ttest_ind(ya_mpfc, ad_mpfc)\n",
        "\n",
        "print(f'Test statistic is {t_value}')\n",
        "\n",
        "print(f'p-value for two tailed test is {p_value}')\n",
        "\n",
        "alpha = 0.05\n",
        "\n",
        "if p_value <= alpha:\n",
        "  print(f'Conclusion: Since p-value {p_value} < alpha {alpha}, We reject the null hypothesis H0. \\\n",
        "  \\nSo we conclude that when looking at the mPFC, Young Adults and Adolescents do not regulate the same. \\\n",
        "  \\ni.e., μ1 = μ2 at {alpha} level of significance.')\n",
        "\n",
        "else:\n",
        "\n",
        "  print(f'Conclusion Since p-value{p_value} > alpha {alpha},We do not reject the null hypothesis H0.')"
      ],
      "metadata": {
        "colab": {
          "base_uri": "https://localhost:8080/"
        },
        "id": "EBvTfufA7no2",
        "outputId": "6a49e214-b8c9-4e83-fee2-95d0467170cf"
      },
      "execution_count": 68,
      "outputs": [
        {
          "output_type": "stream",
          "name": "stdout",
          "text": [
            "Test statistic is 3.328250878597839\n",
            "p-value for two tailed test is 0.0008911102551991956\n",
            "Conclusion: Since p-value 0.0008911102551991956 < alpha 0.05, We reject the null hypothesis H0.   \n",
            "So we conclude that when looking at the mPFC, Young Adults and Adolescents do not regulate the same.   \n",
            "i.e., μ1 = μ2 at 0.05 level of significance.\n"
          ]
        }
      ]
    },
    {
      "cell_type": "code",
      "source": [
        "t_value, p_value = stats.ttest_ind(ya_wb, ya_mpfc)\n",
        "\n",
        "print(f'Test statistic is {t_value}')\n",
        "\n",
        "print(f'p-value for two tailed test is {p_value}')\n",
        "\n",
        "alpha = 0.05\n",
        "\n",
        "if p_value <= alpha:\n",
        "  print(f'Conclusion: Since p-value {p_value} < alpha {alpha}, We reject the null hypothesis H0. \\\n",
        "  \\nSo we conclude that when looking at the mPFC, Young Adults do not regulate the same. \\\n",
        "  \\ni.e., μ1 = μ2 at {alpha} level of significance.')\n",
        "\n",
        "else:\n",
        "\n",
        "  print(f'Conclusion Since p-value{p_value} > alpha {alpha},We do not reject the null hypothesis H0.')"
      ],
      "metadata": {
        "colab": {
          "base_uri": "https://localhost:8080/"
        },
        "id": "bd1lck_k7ntK",
        "outputId": "a77020cd-19a1-49df-f011-f5dab1441b74"
      },
      "execution_count": 69,
      "outputs": [
        {
          "output_type": "stream",
          "name": "stdout",
          "text": [
            "Test statistic is -1.0032239616861343\n",
            "p-value for two tailed test is 0.3159336668344514\n",
            "Conclusion Since p-value0.3159336668344514 > alpha 0.05,We do not reject the null hypothesis H0.\n"
          ]
        }
      ]
    },
    {
      "cell_type": "code",
      "source": [
        "t_value, p_value = stats.ttest_ind(ad_wb, ad_mpfc)\n",
        "\n",
        "print(f'Test statistic is {t_value}')\n",
        "\n",
        "print(f'p-value for two tailed test is {p_value}')\n",
        "\n",
        "alpha = 0.05\n",
        "\n",
        "if p_value <= alpha:\n",
        "  print(f'Conclusion: Since p-value {p_value} < alpha {alpha}, We reject the null hypothesis H0. \\\n",
        "  \\nSo we conclude that when looking at the mPFC, Adolescents do not regulate the same. \\\n",
        "  \\ni.e., μ1 = μ2 at {alpha} level of significance.')\n",
        "\n",
        "else:\n",
        "\n",
        "  print(f'Conclusion Since p-value{p_value} > alpha {alpha},We do not reject the null hypothesis H0.')"
      ],
      "metadata": {
        "colab": {
          "base_uri": "https://localhost:8080/"
        },
        "id": "ObXGRQ7M7nxE",
        "outputId": "4ca571a5-39ec-4d37-9885-987c9826a59f"
      },
      "execution_count": 70,
      "outputs": [
        {
          "output_type": "stream",
          "name": "stdout",
          "text": [
            "Test statistic is 5.1213497890464055\n",
            "p-value for two tailed test is 3.28001899097621e-07\n",
            "Conclusion: Since p-value 3.28001899097621e-07 < alpha 0.05, We reject the null hypothesis H0.   \n",
            "So we conclude that when looking at the ACC, Adolescents do not regulate the same.   \n",
            "i.e., μ1 = μ2 at 0.05 level of significance.\n"
          ]
        }
      ]
    },
    {
      "cell_type": "markdown",
      "source": [
        "###NCaa\n",
        "- NCaa between YA, AD\n",
        "- WB NCaa YA\n",
        "- WB NCaa AD"
      ],
      "metadata": {
        "id": "Wxo5p2Af7Sn4"
      }
    },
    {
      "cell_type": "code",
      "source": [
        "dictionary_values1 = {'YA': ya_ncaa}\n",
        "dictionary_values2 = {'AD':ad_ncaa}\n",
        "summary_df1 = pd.DataFrame(dictionary_values1)\n",
        "print(summary_df1.describe())\n",
        "summary_df2 = pd.DataFrame(dictionary_values2)\n",
        "print(summary_df2.describe())"
      ],
      "metadata": {
        "colab": {
          "base_uri": "https://localhost:8080/"
        },
        "id": "G114Q6eI7sbu",
        "outputId": "87227223-9f01-4ee6-9c1e-e0a8fc245bcf"
      },
      "execution_count": 71,
      "outputs": [
        {
          "output_type": "stream",
          "name": "stdout",
          "text": [
            "               YA\n",
            "count  672.000000\n",
            "mean     0.011158\n",
            "std      0.435743\n",
            "min     -0.968558\n",
            "25%     -0.316110\n",
            "50%      0.010255\n",
            "75%      0.337425\n",
            "max      1.342921\n",
            "                AD\n",
            "count  1176.000000\n",
            "mean      0.040221\n",
            "std       0.256145\n",
            "min      -0.693427\n",
            "25%      -0.132655\n",
            "50%       0.032157\n",
            "75%       0.212106\n",
            "max       0.781820\n"
          ]
        }
      ]
    },
    {
      "cell_type": "code",
      "source": [
        "t_value, p_value = stats.ttest_ind(ya_ncaa, ad_ncaa)\n",
        "\n",
        "print(f'Test statistic is {t_value}')\n",
        "\n",
        "print(f'p-value for two tailed test is {p_value}')\n",
        "\n",
        "alpha = 0.05\n",
        "\n",
        "if p_value <= alpha:\n",
        "  print(f'Conclusion: Since p-value {p_value} < alpha {alpha}, We reject the null hypothesis H0. \\\n",
        "  \\nSo we conclude that when looking at the Nucleus Accumbens, Young Adults and Adolescents do not regulate the same. \\\n",
        "  \\ni.e., μ1 = μ2 at {alpha} level of significance.')\n",
        "\n",
        "else:\n",
        "\n",
        "  print(f'Conclusion Since p-value{p_value} > alpha {alpha},We do not reject the null hypothesis H0.')"
      ],
      "metadata": {
        "colab": {
          "base_uri": "https://localhost:8080/"
        },
        "id": "r-xd7jpN7sf1",
        "outputId": "897a36c2-f726-4d95-d697-6bc75105f7c1"
      },
      "execution_count": 72,
      "outputs": [
        {
          "output_type": "stream",
          "name": "stdout",
          "text": [
            "Test statistic is -1.8056955785421944\n",
            "p-value for two tailed test is 0.0711287448526961\n",
            "Conclusion Since p-value0.0711287448526961 > alpha 0.05,We do not reject the null hypothesis H0.\n"
          ]
        }
      ]
    },
    {
      "cell_type": "code",
      "source": [
        "t_value, p_value = stats.ttest_ind(ya_wb, ya_ncaa)\n",
        "\n",
        "print(f'Test statistic is {t_value}')\n",
        "\n",
        "print(f'p-value for two tailed test is {p_value}')\n",
        "\n",
        "alpha = 0.05\n",
        "\n",
        "if p_value <= alpha:\n",
        "  print(f'Conclusion: Since p-value {p_value} < alpha {alpha}, We reject the null hypothesis H0. \\\n",
        "  \\nSo we conclude that when looking at the Nucleus Accumbens, Young Adults  do not regulate the same. \\\n",
        "  \\ni.e., μ1 = μ2 at {alpha} level of significance.')\n",
        "\n",
        "else:\n",
        "\n",
        "  print(f'Conclusion Since p-value{p_value} > alpha {alpha},We do not reject the null hypothesis H0.')"
      ],
      "metadata": {
        "colab": {
          "base_uri": "https://localhost:8080/"
        },
        "id": "F9H42JYs7skC",
        "outputId": "4aaf1771-cc17-4187-c1e6-add2d8dd9fc8"
      },
      "execution_count": 73,
      "outputs": [
        {
          "output_type": "stream",
          "name": "stdout",
          "text": [
            "Test statistic is 0.024430050690201446\n",
            "p-value for two tailed test is 0.9805132104491241\n",
            "Conclusion Since p-value0.9805132104491241 > alpha 0.05,We do not reject the null hypothesis H0.\n"
          ]
        }
      ]
    },
    {
      "cell_type": "code",
      "source": [
        "t_value, p_value = stats.ttest_ind(ad_wb, ad_ncaa)\n",
        "\n",
        "print(f'Test statistic is {t_value}')\n",
        "\n",
        "print(f'p-value for two tailed test is {p_value}')\n",
        "\n",
        "alpha = 0.05\n",
        "\n",
        "if p_value <= alpha:\n",
        "  print(f'Conclusion: Since p-value {p_value} < alpha {alpha}, We reject the null hypothesis H0. \\\n",
        "  \\nSo we conclude that when looking at  the Nucleus Accumbens, Adolescents do not regulate the same. \\\n",
        "  \\ni.e., μ1 = μ2 at {alpha} level of significance.')\n",
        "\n",
        "else:\n",
        "\n",
        "  print(f'Conclusion Since p-value{p_value} > alpha {alpha},We do not reject the null hypothesis H0.')"
      ],
      "metadata": {
        "colab": {
          "base_uri": "https://localhost:8080/"
        },
        "id": "_TbRyJWk7som",
        "outputId": "ed833409-5d67-4383-916e-662d83ededf4"
      },
      "execution_count": 74,
      "outputs": [
        {
          "output_type": "stream",
          "name": "stdout",
          "text": [
            "Test statistic is -0.47909089052296444\n",
            "p-value for two tailed test is 0.6319185457862074\n",
            "Conclusion Since p-value0.6319185457862074 > alpha 0.05,We do not reject the null hypothesis H0.\n"
          ]
        }
      ]
    },
    {
      "cell_type": "markdown",
      "source": [
        "> Create Tables"
      ],
      "metadata": {
        "id": "j2MgMoXh5Sbl"
      }
    },
    {
      "cell_type": "code",
      "source": [
        "import pandas as pd\n",
        "#!pip install -U kaleido\n",
        "dictionary = {\n",
        "              \"yf\": {\"Region\": \"Medial Prefrontal Cortex decision score \", \"Test Statistic\":3.32825, \"p-value\":0.000891, \"alpha\":0.05,\"Hypothesis\": \"Reject Null H0\"},\n",
        "              \"hgfj\": {\"Region\":\"Anterior Insula (Right side)\",\"Test Statistic\":2.309826, \"p-value\": 0.021008, \"alpha\":0.05, \"Hypothesis\": \"Reject Null H0\"},\n",
        "              \"fdh\": {\"Region\":\"Whole Brain without the Anterior Cingulate Cortex\",\"Test Statistic\":-1.997647, \"p-value\":0.045901, \"alpha\":0.05, \"Hypothesis\": \"Reject Null H0\"},\n",
        "              }\n",
        "\n",
        "df = pd.DataFrame(dictionary)\n",
        "dff= df.T\n",
        "\n",
        "import plotly.graph_objects as go\n",
        "import pandas as pd\n",
        "import plotly.io as pio\n",
        "\n",
        "fig = go.Figure(data=[go.Table(\n",
        "    header=dict(values=dff.columns,\n",
        "                fill_color='#96c6e2',\n",
        "                align='center'),\n",
        "    cells=dict(values=[dff['Region'],dff['Test Statistic'], dff['p-value'], dff['alpha'],dff['Hypothesis']],\n",
        "               fill_color='#eaeaf2',\n",
        "               align='left'))\n",
        "])\n",
        "\n",
        "fig.update_layout(\n",
        "    height=650,\n",
        "    width = 700,\n",
        "    title_text=\"Two Tailed T-Test Between Young Adult and Adolescent Decision Scores\",\n",
        "    title_x=0.5\n",
        ")\n",
        "import os\n",
        "\n",
        "if not os.path.exists(\"data\"):\n",
        "    os.mkdir(\"data\")\n",
        "fig.write_image(\"data/dscore_grou_ttst.png\", scale = 2)\n",
        "fig.show()"
      ],
      "metadata": {
        "colab": {
          "base_uri": "https://localhost:8080/",
          "height": 667
        },
        "id": "Q5d6rG33oBAM",
        "outputId": "7a69d374-7768-4627-85c4-667b34a8a4aa"
      },
      "execution_count": 9,
      "outputs": [
        {
          "output_type": "display_data",
          "data": {
            "text/html": [
              "<html>\n",
              "<head><meta charset=\"utf-8\" /></head>\n",
              "<body>\n",
              "    <div>            <script src=\"https://cdnjs.cloudflare.com/ajax/libs/mathjax/2.7.5/MathJax.js?config=TeX-AMS-MML_SVG\"></script><script type=\"text/javascript\">if (window.MathJax) {MathJax.Hub.Config({SVG: {font: \"STIX-Web\"}});}</script>                <script type=\"text/javascript\">window.PlotlyConfig = {MathJaxConfig: 'local'};</script>\n",
              "        <script src=\"https://cdn.plot.ly/plotly-2.8.3.min.js\"></script>                <div id=\"4eefa29c-0380-4fae-a8b7-ea0962086e71\" class=\"plotly-graph-div\" style=\"height:650px; width:700px;\"></div>            <script type=\"text/javascript\">                                    window.PLOTLYENV=window.PLOTLYENV || {};                                    if (document.getElementById(\"4eefa29c-0380-4fae-a8b7-ea0962086e71\")) {                    Plotly.newPlot(                        \"4eefa29c-0380-4fae-a8b7-ea0962086e71\",                        [{\"cells\":{\"align\":\"left\",\"fill\":{\"color\":\"#eaeaf2\"},\"values\":[[\"Medial Prefrontal Cortex decision score \",\"Anterior Insula (Right side)\",\"Whole Brain without the Anterior Cingulate Cortex\"],[3.32825,2.309826,-1.997647],[0.000891,0.021008,0.045901],[0.05,0.05,0.05],[\"Reject Null H0\",\"Reject Null H0\",\"Reject Null H0\"]]},\"header\":{\"align\":\"center\",\"fill\":{\"color\":\"#96c6e2\"},\"values\":[\"Region\",\"Test Statistic\",\"p-value\",\"alpha\",\"Hypothesis\"]},\"type\":\"table\"}],                        {\"template\":{\"data\":{\"bar\":[{\"error_x\":{\"color\":\"#2a3f5f\"},\"error_y\":{\"color\":\"#2a3f5f\"},\"marker\":{\"line\":{\"color\":\"#E5ECF6\",\"width\":0.5},\"pattern\":{\"fillmode\":\"overlay\",\"size\":10,\"solidity\":0.2}},\"type\":\"bar\"}],\"barpolar\":[{\"marker\":{\"line\":{\"color\":\"#E5ECF6\",\"width\":0.5},\"pattern\":{\"fillmode\":\"overlay\",\"size\":10,\"solidity\":0.2}},\"type\":\"barpolar\"}],\"carpet\":[{\"aaxis\":{\"endlinecolor\":\"#2a3f5f\",\"gridcolor\":\"white\",\"linecolor\":\"white\",\"minorgridcolor\":\"white\",\"startlinecolor\":\"#2a3f5f\"},\"baxis\":{\"endlinecolor\":\"#2a3f5f\",\"gridcolor\":\"white\",\"linecolor\":\"white\",\"minorgridcolor\":\"white\",\"startlinecolor\":\"#2a3f5f\"},\"type\":\"carpet\"}],\"choropleth\":[{\"colorbar\":{\"outlinewidth\":0,\"ticks\":\"\"},\"type\":\"choropleth\"}],\"contour\":[{\"colorbar\":{\"outlinewidth\":0,\"ticks\":\"\"},\"colorscale\":[[0.0,\"#0d0887\"],[0.1111111111111111,\"#46039f\"],[0.2222222222222222,\"#7201a8\"],[0.3333333333333333,\"#9c179e\"],[0.4444444444444444,\"#bd3786\"],[0.5555555555555556,\"#d8576b\"],[0.6666666666666666,\"#ed7953\"],[0.7777777777777778,\"#fb9f3a\"],[0.8888888888888888,\"#fdca26\"],[1.0,\"#f0f921\"]],\"type\":\"contour\"}],\"contourcarpet\":[{\"colorbar\":{\"outlinewidth\":0,\"ticks\":\"\"},\"type\":\"contourcarpet\"}],\"heatmap\":[{\"colorbar\":{\"outlinewidth\":0,\"ticks\":\"\"},\"colorscale\":[[0.0,\"#0d0887\"],[0.1111111111111111,\"#46039f\"],[0.2222222222222222,\"#7201a8\"],[0.3333333333333333,\"#9c179e\"],[0.4444444444444444,\"#bd3786\"],[0.5555555555555556,\"#d8576b\"],[0.6666666666666666,\"#ed7953\"],[0.7777777777777778,\"#fb9f3a\"],[0.8888888888888888,\"#fdca26\"],[1.0,\"#f0f921\"]],\"type\":\"heatmap\"}],\"heatmapgl\":[{\"colorbar\":{\"outlinewidth\":0,\"ticks\":\"\"},\"colorscale\":[[0.0,\"#0d0887\"],[0.1111111111111111,\"#46039f\"],[0.2222222222222222,\"#7201a8\"],[0.3333333333333333,\"#9c179e\"],[0.4444444444444444,\"#bd3786\"],[0.5555555555555556,\"#d8576b\"],[0.6666666666666666,\"#ed7953\"],[0.7777777777777778,\"#fb9f3a\"],[0.8888888888888888,\"#fdca26\"],[1.0,\"#f0f921\"]],\"type\":\"heatmapgl\"}],\"histogram\":[{\"marker\":{\"pattern\":{\"fillmode\":\"overlay\",\"size\":10,\"solidity\":0.2}},\"type\":\"histogram\"}],\"histogram2d\":[{\"colorbar\":{\"outlinewidth\":0,\"ticks\":\"\"},\"colorscale\":[[0.0,\"#0d0887\"],[0.1111111111111111,\"#46039f\"],[0.2222222222222222,\"#7201a8\"],[0.3333333333333333,\"#9c179e\"],[0.4444444444444444,\"#bd3786\"],[0.5555555555555556,\"#d8576b\"],[0.6666666666666666,\"#ed7953\"],[0.7777777777777778,\"#fb9f3a\"],[0.8888888888888888,\"#fdca26\"],[1.0,\"#f0f921\"]],\"type\":\"histogram2d\"}],\"histogram2dcontour\":[{\"colorbar\":{\"outlinewidth\":0,\"ticks\":\"\"},\"colorscale\":[[0.0,\"#0d0887\"],[0.1111111111111111,\"#46039f\"],[0.2222222222222222,\"#7201a8\"],[0.3333333333333333,\"#9c179e\"],[0.4444444444444444,\"#bd3786\"],[0.5555555555555556,\"#d8576b\"],[0.6666666666666666,\"#ed7953\"],[0.7777777777777778,\"#fb9f3a\"],[0.8888888888888888,\"#fdca26\"],[1.0,\"#f0f921\"]],\"type\":\"histogram2dcontour\"}],\"mesh3d\":[{\"colorbar\":{\"outlinewidth\":0,\"ticks\":\"\"},\"type\":\"mesh3d\"}],\"parcoords\":[{\"line\":{\"colorbar\":{\"outlinewidth\":0,\"ticks\":\"\"}},\"type\":\"parcoords\"}],\"pie\":[{\"automargin\":true,\"type\":\"pie\"}],\"scatter\":[{\"marker\":{\"colorbar\":{\"outlinewidth\":0,\"ticks\":\"\"}},\"type\":\"scatter\"}],\"scatter3d\":[{\"line\":{\"colorbar\":{\"outlinewidth\":0,\"ticks\":\"\"}},\"marker\":{\"colorbar\":{\"outlinewidth\":0,\"ticks\":\"\"}},\"type\":\"scatter3d\"}],\"scattercarpet\":[{\"marker\":{\"colorbar\":{\"outlinewidth\":0,\"ticks\":\"\"}},\"type\":\"scattercarpet\"}],\"scattergeo\":[{\"marker\":{\"colorbar\":{\"outlinewidth\":0,\"ticks\":\"\"}},\"type\":\"scattergeo\"}],\"scattergl\":[{\"marker\":{\"colorbar\":{\"outlinewidth\":0,\"ticks\":\"\"}},\"type\":\"scattergl\"}],\"scattermapbox\":[{\"marker\":{\"colorbar\":{\"outlinewidth\":0,\"ticks\":\"\"}},\"type\":\"scattermapbox\"}],\"scatterpolar\":[{\"marker\":{\"colorbar\":{\"outlinewidth\":0,\"ticks\":\"\"}},\"type\":\"scatterpolar\"}],\"scatterpolargl\":[{\"marker\":{\"colorbar\":{\"outlinewidth\":0,\"ticks\":\"\"}},\"type\":\"scatterpolargl\"}],\"scatterternary\":[{\"marker\":{\"colorbar\":{\"outlinewidth\":0,\"ticks\":\"\"}},\"type\":\"scatterternary\"}],\"surface\":[{\"colorbar\":{\"outlinewidth\":0,\"ticks\":\"\"},\"colorscale\":[[0.0,\"#0d0887\"],[0.1111111111111111,\"#46039f\"],[0.2222222222222222,\"#7201a8\"],[0.3333333333333333,\"#9c179e\"],[0.4444444444444444,\"#bd3786\"],[0.5555555555555556,\"#d8576b\"],[0.6666666666666666,\"#ed7953\"],[0.7777777777777778,\"#fb9f3a\"],[0.8888888888888888,\"#fdca26\"],[1.0,\"#f0f921\"]],\"type\":\"surface\"}],\"table\":[{\"cells\":{\"fill\":{\"color\":\"#EBF0F8\"},\"line\":{\"color\":\"white\"}},\"header\":{\"fill\":{\"color\":\"#C8D4E3\"},\"line\":{\"color\":\"white\"}},\"type\":\"table\"}]},\"layout\":{\"annotationdefaults\":{\"arrowcolor\":\"#2a3f5f\",\"arrowhead\":0,\"arrowwidth\":1},\"autotypenumbers\":\"strict\",\"coloraxis\":{\"colorbar\":{\"outlinewidth\":0,\"ticks\":\"\"}},\"colorscale\":{\"diverging\":[[0,\"#8e0152\"],[0.1,\"#c51b7d\"],[0.2,\"#de77ae\"],[0.3,\"#f1b6da\"],[0.4,\"#fde0ef\"],[0.5,\"#f7f7f7\"],[0.6,\"#e6f5d0\"],[0.7,\"#b8e186\"],[0.8,\"#7fbc41\"],[0.9,\"#4d9221\"],[1,\"#276419\"]],\"sequential\":[[0.0,\"#0d0887\"],[0.1111111111111111,\"#46039f\"],[0.2222222222222222,\"#7201a8\"],[0.3333333333333333,\"#9c179e\"],[0.4444444444444444,\"#bd3786\"],[0.5555555555555556,\"#d8576b\"],[0.6666666666666666,\"#ed7953\"],[0.7777777777777778,\"#fb9f3a\"],[0.8888888888888888,\"#fdca26\"],[1.0,\"#f0f921\"]],\"sequentialminus\":[[0.0,\"#0d0887\"],[0.1111111111111111,\"#46039f\"],[0.2222222222222222,\"#7201a8\"],[0.3333333333333333,\"#9c179e\"],[0.4444444444444444,\"#bd3786\"],[0.5555555555555556,\"#d8576b\"],[0.6666666666666666,\"#ed7953\"],[0.7777777777777778,\"#fb9f3a\"],[0.8888888888888888,\"#fdca26\"],[1.0,\"#f0f921\"]]},\"colorway\":[\"#636efa\",\"#EF553B\",\"#00cc96\",\"#ab63fa\",\"#FFA15A\",\"#19d3f3\",\"#FF6692\",\"#B6E880\",\"#FF97FF\",\"#FECB52\"],\"font\":{\"color\":\"#2a3f5f\"},\"geo\":{\"bgcolor\":\"white\",\"lakecolor\":\"white\",\"landcolor\":\"#E5ECF6\",\"showlakes\":true,\"showland\":true,\"subunitcolor\":\"white\"},\"hoverlabel\":{\"align\":\"left\"},\"hovermode\":\"closest\",\"mapbox\":{\"style\":\"light\"},\"paper_bgcolor\":\"white\",\"plot_bgcolor\":\"#E5ECF6\",\"polar\":{\"angularaxis\":{\"gridcolor\":\"white\",\"linecolor\":\"white\",\"ticks\":\"\"},\"bgcolor\":\"#E5ECF6\",\"radialaxis\":{\"gridcolor\":\"white\",\"linecolor\":\"white\",\"ticks\":\"\"}},\"scene\":{\"xaxis\":{\"backgroundcolor\":\"#E5ECF6\",\"gridcolor\":\"white\",\"gridwidth\":2,\"linecolor\":\"white\",\"showbackground\":true,\"ticks\":\"\",\"zerolinecolor\":\"white\"},\"yaxis\":{\"backgroundcolor\":\"#E5ECF6\",\"gridcolor\":\"white\",\"gridwidth\":2,\"linecolor\":\"white\",\"showbackground\":true,\"ticks\":\"\",\"zerolinecolor\":\"white\"},\"zaxis\":{\"backgroundcolor\":\"#E5ECF6\",\"gridcolor\":\"white\",\"gridwidth\":2,\"linecolor\":\"white\",\"showbackground\":true,\"ticks\":\"\",\"zerolinecolor\":\"white\"}},\"shapedefaults\":{\"line\":{\"color\":\"#2a3f5f\"}},\"ternary\":{\"aaxis\":{\"gridcolor\":\"white\",\"linecolor\":\"white\",\"ticks\":\"\"},\"baxis\":{\"gridcolor\":\"white\",\"linecolor\":\"white\",\"ticks\":\"\"},\"bgcolor\":\"#E5ECF6\",\"caxis\":{\"gridcolor\":\"white\",\"linecolor\":\"white\",\"ticks\":\"\"}},\"title\":{\"x\":0.05},\"xaxis\":{\"automargin\":true,\"gridcolor\":\"white\",\"linecolor\":\"white\",\"ticks\":\"\",\"title\":{\"standoff\":15},\"zerolinecolor\":\"white\",\"zerolinewidth\":2},\"yaxis\":{\"automargin\":true,\"gridcolor\":\"white\",\"linecolor\":\"white\",\"ticks\":\"\",\"title\":{\"standoff\":15},\"zerolinecolor\":\"white\",\"zerolinewidth\":2}}},\"title\":{\"text\":\"Two Tailed T-Test Between Young Adult and Adolescent Decision Scores\",\"x\":0.5},\"height\":650,\"width\":700},                        {\"responsive\": true}                    ).then(function(){\n",
              "                            \n",
              "var gd = document.getElementById('4eefa29c-0380-4fae-a8b7-ea0962086e71');\n",
              "var x = new MutationObserver(function (mutations, observer) {{\n",
              "        var display = window.getComputedStyle(gd).display;\n",
              "        if (!display || display === 'none') {{\n",
              "            console.log([gd, 'removed!']);\n",
              "            Plotly.purge(gd);\n",
              "            observer.disconnect();\n",
              "        }}\n",
              "}});\n",
              "\n",
              "// Listen for the removal of the full notebook cells\n",
              "var notebookContainer = gd.closest('#notebook-container');\n",
              "if (notebookContainer) {{\n",
              "    x.observe(notebookContainer, {childList: true});\n",
              "}}\n",
              "\n",
              "// Listen for the clearing of the current output cell\n",
              "var outputEl = gd.closest('.output');\n",
              "if (outputEl) {{\n",
              "    x.observe(outputEl, {childList: true});\n",
              "}}\n",
              "\n",
              "                        })                };                            </script>        </div>\n",
              "</body>\n",
              "</html>"
            ]
          },
          "metadata": {}
        }
      ]
    },
    {
      "cell_type": "code",
      "source": [
        "import pandas as pd\n",
        "#!pip install -U kaleido\n",
        "dictionary = {\n",
        "              \"yf\": {\"Region\": \"Adolescent Whole Brain and Medial Prefrontal Cortex decision score \", \"Test Statistic\":5.12135, \"p-value\":'3.280019e-07', \"alpha\":0.05,\"Hypothesis\": \"Reject Null H0\"},\n",
        "              \"hgfj\":{\"Region\":\"Adolecent Whole Brain and Anterior Cingulate Cortex\", \"Test Statistic\": 2.42223, \"p-value\": 0.015501, \"alpha\":0.05, \"Hypothesis\": \"Reject Null H0\"},\n",
        "              \"ftfh\": {\"Region\":\"Adolescent Whole Brain and Anterior Insula (Right side)\", \"Test Statistic\":8.99646, \"p-value\":'4.68545e-19', \"alpha\":0.05, \"Hypothesis\": \"Reject Null H0\"},\n",
        "              \"fdh\": {\"Region\":\"Young Adult Whole Brain and Anterior Insula (Ride side)\", \"Test Statistic\":2.01355, \"p-value\":0.0442556, \"alpha\":0.05, \"Hypothesis\": \"Reject Null H0\"}\n",
        "              }\n",
        "\n",
        "df = pd.DataFrame(dictionary)\n",
        "dff= df.T\n",
        "\n",
        "import plotly.graph_objects as go\n",
        "import pandas as pd\n",
        "import plotly.io as pio\n",
        "\n",
        "fig = go.Figure(data=[go.Table(\n",
        "    header=dict(values=dff.columns,\n",
        "                fill_color='#96c6e2',\n",
        "                align='center'),\n",
        "    cells=dict(values=[dff['Region'],dff['Test Statistic'], dff['p-value'], dff['alpha'],dff['Hypothesis']],\n",
        "               fill_color='#eaeaf2',\n",
        "               align='left'))\n",
        "])\n",
        "\n",
        "fig.update_layout(\n",
        "    height=650,\n",
        "    width = 700,\n",
        "    title_text=\"Two Tailed T-Test Between Whole Brain and ROI Decision Scores\",\n",
        "    title_x=0.5\n",
        ")\n",
        "import os\n",
        "\n",
        "if not os.path.exists(\"data\"):\n",
        "    os.mkdir(\"data\")\n",
        "fig.write_image(\"data/dscore_rois_ttst.png\", scale = 2)\n",
        "fig.show()"
      ],
      "metadata": {
        "colab": {
          "base_uri": "https://localhost:8080/",
          "height": 667
        },
        "id": "cpBfhbli5N3e",
        "outputId": "397b0290-73ff-4e8a-f7f2-15fae6878a77"
      },
      "execution_count": 12,
      "outputs": [
        {
          "output_type": "display_data",
          "data": {
            "text/html": [
              "<html>\n",
              "<head><meta charset=\"utf-8\" /></head>\n",
              "<body>\n",
              "    <div>            <script src=\"https://cdnjs.cloudflare.com/ajax/libs/mathjax/2.7.5/MathJax.js?config=TeX-AMS-MML_SVG\"></script><script type=\"text/javascript\">if (window.MathJax) {MathJax.Hub.Config({SVG: {font: \"STIX-Web\"}});}</script>                <script type=\"text/javascript\">window.PlotlyConfig = {MathJaxConfig: 'local'};</script>\n",
              "        <script src=\"https://cdn.plot.ly/plotly-2.8.3.min.js\"></script>                <div id=\"8bed326a-8f0d-4048-8efc-04b0d2e1c568\" class=\"plotly-graph-div\" style=\"height:650px; width:700px;\"></div>            <script type=\"text/javascript\">                                    window.PLOTLYENV=window.PLOTLYENV || {};                                    if (document.getElementById(\"8bed326a-8f0d-4048-8efc-04b0d2e1c568\")) {                    Plotly.newPlot(                        \"8bed326a-8f0d-4048-8efc-04b0d2e1c568\",                        [{\"cells\":{\"align\":\"left\",\"fill\":{\"color\":\"#eaeaf2\"},\"values\":[[\"Adolescent Whole Brain and Medial Prefrontal Cortex decision score \",\"Adolecent Whole Brain and Anterior Cingulate Cortex\",\"Adolescent Whole Brain and Anterior Insula (Right side)\",\"Young Adult Whole Brain and Anterior Insula (Ride side)\"],[5.12135,2.42223,8.99646,2.01355],[\"3.280019e-07\",0.015501,\"4.68545e-19\",0.0442556],[0.05,0.05,0.05,0.05],[\"Reject Null H0\",\"Reject Null H0\",\"Reject Null H0\",\"Reject Null H0\"]]},\"header\":{\"align\":\"center\",\"fill\":{\"color\":\"#96c6e2\"},\"values\":[\"Region\",\"Test Statistic\",\"p-value\",\"alpha\",\"Hypothesis\"]},\"type\":\"table\"}],                        {\"template\":{\"data\":{\"bar\":[{\"error_x\":{\"color\":\"#2a3f5f\"},\"error_y\":{\"color\":\"#2a3f5f\"},\"marker\":{\"line\":{\"color\":\"#E5ECF6\",\"width\":0.5},\"pattern\":{\"fillmode\":\"overlay\",\"size\":10,\"solidity\":0.2}},\"type\":\"bar\"}],\"barpolar\":[{\"marker\":{\"line\":{\"color\":\"#E5ECF6\",\"width\":0.5},\"pattern\":{\"fillmode\":\"overlay\",\"size\":10,\"solidity\":0.2}},\"type\":\"barpolar\"}],\"carpet\":[{\"aaxis\":{\"endlinecolor\":\"#2a3f5f\",\"gridcolor\":\"white\",\"linecolor\":\"white\",\"minorgridcolor\":\"white\",\"startlinecolor\":\"#2a3f5f\"},\"baxis\":{\"endlinecolor\":\"#2a3f5f\",\"gridcolor\":\"white\",\"linecolor\":\"white\",\"minorgridcolor\":\"white\",\"startlinecolor\":\"#2a3f5f\"},\"type\":\"carpet\"}],\"choropleth\":[{\"colorbar\":{\"outlinewidth\":0,\"ticks\":\"\"},\"type\":\"choropleth\"}],\"contour\":[{\"colorbar\":{\"outlinewidth\":0,\"ticks\":\"\"},\"colorscale\":[[0.0,\"#0d0887\"],[0.1111111111111111,\"#46039f\"],[0.2222222222222222,\"#7201a8\"],[0.3333333333333333,\"#9c179e\"],[0.4444444444444444,\"#bd3786\"],[0.5555555555555556,\"#d8576b\"],[0.6666666666666666,\"#ed7953\"],[0.7777777777777778,\"#fb9f3a\"],[0.8888888888888888,\"#fdca26\"],[1.0,\"#f0f921\"]],\"type\":\"contour\"}],\"contourcarpet\":[{\"colorbar\":{\"outlinewidth\":0,\"ticks\":\"\"},\"type\":\"contourcarpet\"}],\"heatmap\":[{\"colorbar\":{\"outlinewidth\":0,\"ticks\":\"\"},\"colorscale\":[[0.0,\"#0d0887\"],[0.1111111111111111,\"#46039f\"],[0.2222222222222222,\"#7201a8\"],[0.3333333333333333,\"#9c179e\"],[0.4444444444444444,\"#bd3786\"],[0.5555555555555556,\"#d8576b\"],[0.6666666666666666,\"#ed7953\"],[0.7777777777777778,\"#fb9f3a\"],[0.8888888888888888,\"#fdca26\"],[1.0,\"#f0f921\"]],\"type\":\"heatmap\"}],\"heatmapgl\":[{\"colorbar\":{\"outlinewidth\":0,\"ticks\":\"\"},\"colorscale\":[[0.0,\"#0d0887\"],[0.1111111111111111,\"#46039f\"],[0.2222222222222222,\"#7201a8\"],[0.3333333333333333,\"#9c179e\"],[0.4444444444444444,\"#bd3786\"],[0.5555555555555556,\"#d8576b\"],[0.6666666666666666,\"#ed7953\"],[0.7777777777777778,\"#fb9f3a\"],[0.8888888888888888,\"#fdca26\"],[1.0,\"#f0f921\"]],\"type\":\"heatmapgl\"}],\"histogram\":[{\"marker\":{\"pattern\":{\"fillmode\":\"overlay\",\"size\":10,\"solidity\":0.2}},\"type\":\"histogram\"}],\"histogram2d\":[{\"colorbar\":{\"outlinewidth\":0,\"ticks\":\"\"},\"colorscale\":[[0.0,\"#0d0887\"],[0.1111111111111111,\"#46039f\"],[0.2222222222222222,\"#7201a8\"],[0.3333333333333333,\"#9c179e\"],[0.4444444444444444,\"#bd3786\"],[0.5555555555555556,\"#d8576b\"],[0.6666666666666666,\"#ed7953\"],[0.7777777777777778,\"#fb9f3a\"],[0.8888888888888888,\"#fdca26\"],[1.0,\"#f0f921\"]],\"type\":\"histogram2d\"}],\"histogram2dcontour\":[{\"colorbar\":{\"outlinewidth\":0,\"ticks\":\"\"},\"colorscale\":[[0.0,\"#0d0887\"],[0.1111111111111111,\"#46039f\"],[0.2222222222222222,\"#7201a8\"],[0.3333333333333333,\"#9c179e\"],[0.4444444444444444,\"#bd3786\"],[0.5555555555555556,\"#d8576b\"],[0.6666666666666666,\"#ed7953\"],[0.7777777777777778,\"#fb9f3a\"],[0.8888888888888888,\"#fdca26\"],[1.0,\"#f0f921\"]],\"type\":\"histogram2dcontour\"}],\"mesh3d\":[{\"colorbar\":{\"outlinewidth\":0,\"ticks\":\"\"},\"type\":\"mesh3d\"}],\"parcoords\":[{\"line\":{\"colorbar\":{\"outlinewidth\":0,\"ticks\":\"\"}},\"type\":\"parcoords\"}],\"pie\":[{\"automargin\":true,\"type\":\"pie\"}],\"scatter\":[{\"marker\":{\"colorbar\":{\"outlinewidth\":0,\"ticks\":\"\"}},\"type\":\"scatter\"}],\"scatter3d\":[{\"line\":{\"colorbar\":{\"outlinewidth\":0,\"ticks\":\"\"}},\"marker\":{\"colorbar\":{\"outlinewidth\":0,\"ticks\":\"\"}},\"type\":\"scatter3d\"}],\"scattercarpet\":[{\"marker\":{\"colorbar\":{\"outlinewidth\":0,\"ticks\":\"\"}},\"type\":\"scattercarpet\"}],\"scattergeo\":[{\"marker\":{\"colorbar\":{\"outlinewidth\":0,\"ticks\":\"\"}},\"type\":\"scattergeo\"}],\"scattergl\":[{\"marker\":{\"colorbar\":{\"outlinewidth\":0,\"ticks\":\"\"}},\"type\":\"scattergl\"}],\"scattermapbox\":[{\"marker\":{\"colorbar\":{\"outlinewidth\":0,\"ticks\":\"\"}},\"type\":\"scattermapbox\"}],\"scatterpolar\":[{\"marker\":{\"colorbar\":{\"outlinewidth\":0,\"ticks\":\"\"}},\"type\":\"scatterpolar\"}],\"scatterpolargl\":[{\"marker\":{\"colorbar\":{\"outlinewidth\":0,\"ticks\":\"\"}},\"type\":\"scatterpolargl\"}],\"scatterternary\":[{\"marker\":{\"colorbar\":{\"outlinewidth\":0,\"ticks\":\"\"}},\"type\":\"scatterternary\"}],\"surface\":[{\"colorbar\":{\"outlinewidth\":0,\"ticks\":\"\"},\"colorscale\":[[0.0,\"#0d0887\"],[0.1111111111111111,\"#46039f\"],[0.2222222222222222,\"#7201a8\"],[0.3333333333333333,\"#9c179e\"],[0.4444444444444444,\"#bd3786\"],[0.5555555555555556,\"#d8576b\"],[0.6666666666666666,\"#ed7953\"],[0.7777777777777778,\"#fb9f3a\"],[0.8888888888888888,\"#fdca26\"],[1.0,\"#f0f921\"]],\"type\":\"surface\"}],\"table\":[{\"cells\":{\"fill\":{\"color\":\"#EBF0F8\"},\"line\":{\"color\":\"white\"}},\"header\":{\"fill\":{\"color\":\"#C8D4E3\"},\"line\":{\"color\":\"white\"}},\"type\":\"table\"}]},\"layout\":{\"annotationdefaults\":{\"arrowcolor\":\"#2a3f5f\",\"arrowhead\":0,\"arrowwidth\":1},\"autotypenumbers\":\"strict\",\"coloraxis\":{\"colorbar\":{\"outlinewidth\":0,\"ticks\":\"\"}},\"colorscale\":{\"diverging\":[[0,\"#8e0152\"],[0.1,\"#c51b7d\"],[0.2,\"#de77ae\"],[0.3,\"#f1b6da\"],[0.4,\"#fde0ef\"],[0.5,\"#f7f7f7\"],[0.6,\"#e6f5d0\"],[0.7,\"#b8e186\"],[0.8,\"#7fbc41\"],[0.9,\"#4d9221\"],[1,\"#276419\"]],\"sequential\":[[0.0,\"#0d0887\"],[0.1111111111111111,\"#46039f\"],[0.2222222222222222,\"#7201a8\"],[0.3333333333333333,\"#9c179e\"],[0.4444444444444444,\"#bd3786\"],[0.5555555555555556,\"#d8576b\"],[0.6666666666666666,\"#ed7953\"],[0.7777777777777778,\"#fb9f3a\"],[0.8888888888888888,\"#fdca26\"],[1.0,\"#f0f921\"]],\"sequentialminus\":[[0.0,\"#0d0887\"],[0.1111111111111111,\"#46039f\"],[0.2222222222222222,\"#7201a8\"],[0.3333333333333333,\"#9c179e\"],[0.4444444444444444,\"#bd3786\"],[0.5555555555555556,\"#d8576b\"],[0.6666666666666666,\"#ed7953\"],[0.7777777777777778,\"#fb9f3a\"],[0.8888888888888888,\"#fdca26\"],[1.0,\"#f0f921\"]]},\"colorway\":[\"#636efa\",\"#EF553B\",\"#00cc96\",\"#ab63fa\",\"#FFA15A\",\"#19d3f3\",\"#FF6692\",\"#B6E880\",\"#FF97FF\",\"#FECB52\"],\"font\":{\"color\":\"#2a3f5f\"},\"geo\":{\"bgcolor\":\"white\",\"lakecolor\":\"white\",\"landcolor\":\"#E5ECF6\",\"showlakes\":true,\"showland\":true,\"subunitcolor\":\"white\"},\"hoverlabel\":{\"align\":\"left\"},\"hovermode\":\"closest\",\"mapbox\":{\"style\":\"light\"},\"paper_bgcolor\":\"white\",\"plot_bgcolor\":\"#E5ECF6\",\"polar\":{\"angularaxis\":{\"gridcolor\":\"white\",\"linecolor\":\"white\",\"ticks\":\"\"},\"bgcolor\":\"#E5ECF6\",\"radialaxis\":{\"gridcolor\":\"white\",\"linecolor\":\"white\",\"ticks\":\"\"}},\"scene\":{\"xaxis\":{\"backgroundcolor\":\"#E5ECF6\",\"gridcolor\":\"white\",\"gridwidth\":2,\"linecolor\":\"white\",\"showbackground\":true,\"ticks\":\"\",\"zerolinecolor\":\"white\"},\"yaxis\":{\"backgroundcolor\":\"#E5ECF6\",\"gridcolor\":\"white\",\"gridwidth\":2,\"linecolor\":\"white\",\"showbackground\":true,\"ticks\":\"\",\"zerolinecolor\":\"white\"},\"zaxis\":{\"backgroundcolor\":\"#E5ECF6\",\"gridcolor\":\"white\",\"gridwidth\":2,\"linecolor\":\"white\",\"showbackground\":true,\"ticks\":\"\",\"zerolinecolor\":\"white\"}},\"shapedefaults\":{\"line\":{\"color\":\"#2a3f5f\"}},\"ternary\":{\"aaxis\":{\"gridcolor\":\"white\",\"linecolor\":\"white\",\"ticks\":\"\"},\"baxis\":{\"gridcolor\":\"white\",\"linecolor\":\"white\",\"ticks\":\"\"},\"bgcolor\":\"#E5ECF6\",\"caxis\":{\"gridcolor\":\"white\",\"linecolor\":\"white\",\"ticks\":\"\"}},\"title\":{\"x\":0.05},\"xaxis\":{\"automargin\":true,\"gridcolor\":\"white\",\"linecolor\":\"white\",\"ticks\":\"\",\"title\":{\"standoff\":15},\"zerolinecolor\":\"white\",\"zerolinewidth\":2},\"yaxis\":{\"automargin\":true,\"gridcolor\":\"white\",\"linecolor\":\"white\",\"ticks\":\"\",\"title\":{\"standoff\":15},\"zerolinecolor\":\"white\",\"zerolinewidth\":2}}},\"title\":{\"text\":\"Two Tailed T-Test Between Whole Brain and ROI Decision Scores\",\"x\":0.5},\"height\":650,\"width\":700},                        {\"responsive\": true}                    ).then(function(){\n",
              "                            \n",
              "var gd = document.getElementById('8bed326a-8f0d-4048-8efc-04b0d2e1c568');\n",
              "var x = new MutationObserver(function (mutations, observer) {{\n",
              "        var display = window.getComputedStyle(gd).display;\n",
              "        if (!display || display === 'none') {{\n",
              "            console.log([gd, 'removed!']);\n",
              "            Plotly.purge(gd);\n",
              "            observer.disconnect();\n",
              "        }}\n",
              "}});\n",
              "\n",
              "// Listen for the removal of the full notebook cells\n",
              "var notebookContainer = gd.closest('#notebook-container');\n",
              "if (notebookContainer) {{\n",
              "    x.observe(notebookContainer, {childList: true});\n",
              "}}\n",
              "\n",
              "// Listen for the clearing of the current output cell\n",
              "var outputEl = gd.closest('.output');\n",
              "if (outputEl) {{\n",
              "    x.observe(outputEl, {childList: true});\n",
              "}}\n",
              "\n",
              "                        })                };                            </script>        </div>\n",
              "</body>\n",
              "</html>"
            ]
          },
          "metadata": {}
        }
      ]
    },
    {
      "cell_type": "code",
      "source": [
        ""
      ],
      "metadata": {
        "id": "nQyf82Rl8HNT"
      },
      "execution_count": null,
      "outputs": []
    }
  ]
}