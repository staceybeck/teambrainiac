{
  "nbformat": 4,
  "nbformat_minor": 0,
  "metadata": {
    "colab": {
      "name": "Statistical_tests_Beta_maps.ipynb",
      "provenance": [],
      "authorship_tag": "ABX9TyPaz6cdYob4+LjGkZTJNGGo",
      "include_colab_link": true
    },
    "kernelspec": {
      "name": "python3",
      "display_name": "Python 3"
    },
    "language_info": {
      "name": "python"
    }
  },
  "cells": [
    {
      "cell_type": "markdown",
      "metadata": {
        "id": "view-in-github",
        "colab_type": "text"
      },
      "source": [
        "<a href=\"https://colab.research.google.com/github/yecatstevir/teambrainiac/blob/main/source/group_svm/Statistical_tests_Beta_maps.ipynb\" target=\"_parent\"><img src=\"https://colab.research.google.com/assets/colab-badge.svg\" alt=\"Open In Colab\"/></a>"
      ]
    },
    {
      "cell_type": "markdown",
      "source": [
        "### Two Sample T-test of Beta Maps between Young Adults and Adolescents \n",
        "Author: Stacey Rivet Beck\n",
        "\n",
        "- Whole Brain Analyses between groups on bmaps\n",
        "- Bmap Analyses within groups using bmaps of the ROI from the whole brain SVM training and the bmap from ROI data trained on SVM \n",
        "- Between Groups using bmaps of the ROI from the whole brain SVM training\n",
        "- Between Groups using the bmap from ROI data trained on SVM\n",
        "\n",
        "###Steps in this notebook: \n",
        "1) Connect to Google Drive, clone repository and load config file to access data on AWS\n",
        "\n",
        "2) Import libraries\n",
        "\n",
        "5) Load locally stored pickle files of each ROI containing the beta maps and assign to variables for each group for all ROIs\n",
        "\n",
        "6) Load Whole brain (WB) beta maps stored on AWS and assign to variables \n",
        "\n",
        "7) Check summary statistics between groups for whole brain\n",
        "\n",
        "8) Run stat tests on WB\n",
        "\n",
        "8) For each Region, create the bmap using the whole brain data.\n",
        "\n",
        "10) Check summary statistics \n",
        "\n",
        "9) Perform Two Tailed T-tests for between groups and within groups\n",
        "\n",
        "10) Plot in a chart the significant results"
      ],
      "metadata": {
        "id": "-qgR7RUyeHwc"
      }
    },
    {
      "cell_type": "code",
      "execution_count": null,
      "metadata": {
        "id": "J8ygTVJuRfPG"
      },
      "outputs": [],
      "source": [
        "from google.colab import drive, files\n",
        "drive.mount('/content/gdrive')#, force_remount = True)\n",
        "\n",
        "# Clone the entire repo.\n",
        "!git clone -l -s https://github.com/yecatstevir/teambrainiac.git\n",
        "# Change directory into cloned repo\n",
        "%cd teambrainiac/source/group_svm\n",
        "!ls\n",
        "uploaded = files.upload()\n",
        "for fn in uploaded.keys():\n",
        "  print('User uploaded file \"{name}\" with length {length} bytes'.format(\n",
        "      name=fn, length=len(uploaded[fn])))"
      ]
    },
    {
      "cell_type": "code",
      "source": [
        "# Import libraries\n",
        "!pip install boto3 nilearn\n",
        "from process import *\n",
        "from access_data import *\n",
        "from scipy import stats\n",
        "import pandas as pd\n",
        "import numpy as np"
      ],
      "metadata": {
        "id": "B0RAbsukRkTO"
      },
      "execution_count": null,
      "outputs": []
    },
    {
      "cell_type": "markdown",
      "source": [
        "> Load ROI Bmaps"
      ],
      "metadata": {
        "id": "vpSeobmwnPcl"
      }
    },
    {
      "cell_type": "code",
      "source": [
        "import pandas as pd\n",
        "import numpy as np\n",
        "from collections import defaultdict\n",
        "adpfc = open_pickle('/content/gdrive/MyDrive/data/AD_detrend_2_3_mPFC.pkl')\n",
        "adnacc = open_pickle('/content/gdrive/MyDrive/data/AD_detrend_2_3_nacc_aal.pkl')\n",
        "adacc = open_pickle('/content/gdrive/MyDrive/data/AD_detrend_2_3_acc_aal.pkl')\n",
        "adai = open_pickle('/content/gdrive/MyDrive/data/AD_detrend_2_3_anterior_insula_aal.pkl')\n",
        "\n",
        "as_mpfc = adpfc['bmap2'][0]\n",
        "as_nacc = adnacc['bmap2'][0]\n",
        "as_acc = adacc['bmap2'][0]\n",
        "as_ai = adai['bmap2'][0]\n",
        "\n",
        "yapfc = open_pickle('/content/gdrive/MyDrive/data/YA_detrend_2_3_mPFC.pkl')\n",
        "yanacc = open_pickle('/content/gdrive/MyDrive/data/YA_detrend_2_3_nacc_aal.pkl')\n",
        "yaacc = open_pickle('/content/gdrive/MyDrive/data/YA_detrend_2_3_acc_aal.pkl')\n",
        "yaai = open_pickle('/content/gdrive/MyDrive/data/YA_detrend_2_3_anterior_insula_aal.pkl')\n",
        "\n",
        "ya_mpfc = yapfc['bmap2'][0]\n",
        "ya_nacc = yanacc['bmap2'][0]\n",
        "ya_acc = yaacc['bmap2'][0]\n",
        "ya_ai = yaai['bmap2'][0]"
      ],
      "metadata": {
        "id": "QVNaknDTfWUS"
      },
      "execution_count": null,
      "outputs": []
    },
    {
      "cell_type": "markdown",
      "source": [
        "### Whole Brain Analysis Between Adolescent and Young Adult 2 Sample t-test"
      ],
      "metadata": {
        "id": "F5eFOWixSU8R"
      }
    },
    {
      "cell_type": "markdown",
      "source": [
        "> Load Young Adult Whole Brain Information"
      ],
      "metadata": {
        "id": "qDm4ZeC-UmTr"
      }
    },
    {
      "cell_type": "code",
      "source": [
        "# Load model\n",
        "#open path dictionary file to get subject ids\n",
        "dict_path = \"data/data_path_dictionary.pkl\"\n",
        "data_path_dict = open_pickle(dict_path)\n",
        "\n",
        "# Load in affine matrix - helps map the data coordinates to real world coordinates\n",
        "affine_image = access_load_data('w3rtprun_01.nii',False)\n",
        "t1_image = access_load_data('MNI152.nii',False)\n",
        "\n",
        "mask_type = 'mask' #'mask', 'masksubACC', 'masksubAI', 'masksubNAcc', 'masksubmPFC'\n",
        "data_type = \"YA_detrend\"\n",
        "runs_train = [1, 2]\n",
        "runs_id = [i + 1 for i in runs_train]\n",
        "m_path_ind = 0 #get sub_mask data in mask_data key\n",
        "metric_ya = access_load_data(f'metrics/group_svm/{mask_type}/{data_type}_{runs_id}_{mask_type}_metrics.pkl', False)\n",
        "print(metric_ya.keys())"
      ],
      "metadata": {
        "colab": {
          "base_uri": "https://localhost:8080/"
        },
        "id": "hXorVnKFRkVo",
        "outputId": "02250d2e-795b-4772-a2f6-e3cdca4b47fc"
      },
      "execution_count": null,
      "outputs": [
        {
          "output_type": "stream",
          "name": "stdout",
          "text": [
            "dict_keys(['bmap3', 'bmap2_3', 'alphas1', 'bmap', 'y_train', 'test_preds', 'test_probs', 'test_acc', 'test_dfunc', 'y_t'])\n"
          ]
        }
      ]
    },
    {
      "cell_type": "markdown",
      "source": [
        "> Load Adolescent Whole Brain Information"
      ],
      "metadata": {
        "id": "AD0dhXLiUtTW"
      }
    },
    {
      "cell_type": "code",
      "source": [
        "# Load model\n",
        "mask_type = 'mask' #'mask', 'masksubACC', 'masksubAI', 'masksubNAcc', 'masksubmPFC'\n",
        "data_type = \"AD_detrend\"\n",
        "runs_train = [1, 2]\n",
        "runs_id = [i + 1 for i in runs_train]\n",
        "m_path_ind = 0 #get sub_mask data in mask_data key\n",
        "metric_ad = access_load_data(f'metrics/group_svm/{mask_type}/{data_type}_{runs_id}_{mask_type}_metrics.pkl', False)\n",
        "print(metric_ad.keys())"
      ],
      "metadata": {
        "colab": {
          "base_uri": "https://localhost:8080/"
        },
        "id": "dGj4axNURkYC",
        "outputId": "4f1f9dac-e046-4007-95cf-12292da7041b"
      },
      "execution_count": null,
      "outputs": [
        {
          "output_type": "stream",
          "name": "stdout",
          "text": [
            "dict_keys(['bmap3', 'bmap2_3', 'alphas1', 'bmap', 'y_train', 'test_preds', 'test_probs', 'test_acc', 'test_dfunc', 'y_t'])\n"
          ]
        }
      ]
    },
    {
      "cell_type": "markdown",
      "source": [
        "> Whole Brain Summary Statistics"
      ],
      "metadata": {
        "id": "Idot0BMUsp8D"
      }
    },
    {
      "cell_type": "code",
      "source": [
        "Young_adult = metric_ya['bmap'][0][0]\n",
        "Adolescent = metric_ad['bmap'][0][0]\n",
        "\n",
        "dictionary_values = {'YA': Young_adult, 'AD':Adolescent}\n",
        "summary_df = pd.DataFrame(dictionary_values)\n",
        "summary_df.describe()"
      ],
      "metadata": {
        "colab": {
          "base_uri": "https://localhost:8080/",
          "height": 300
        },
        "id": "qblA0N1QrfGg",
        "outputId": "bef1c1bf-e395-41e7-8000-3b6624f34026"
      },
      "execution_count": null,
      "outputs": [
        {
          "output_type": "execute_result",
          "data": {
            "text/plain": [
              "                  YA             AD\n",
              "count  237979.000000  237979.000000\n",
              "mean        8.564183       0.321036\n",
              "std        45.728512      45.985172\n",
              "min      -203.502534    -306.102211\n",
              "25%       -22.029241     -30.287586\n",
              "50%         8.347217       0.310692\n",
              "75%        38.758988      30.969864\n",
              "max       237.847653     228.636860"
            ],
            "text/html": [
              "\n",
              "  <div id=\"df-843ec92a-790b-4b24-9195-1bbaa298d10a\">\n",
              "    <div class=\"colab-df-container\">\n",
              "      <div>\n",
              "<style scoped>\n",
              "    .dataframe tbody tr th:only-of-type {\n",
              "        vertical-align: middle;\n",
              "    }\n",
              "\n",
              "    .dataframe tbody tr th {\n",
              "        vertical-align: top;\n",
              "    }\n",
              "\n",
              "    .dataframe thead th {\n",
              "        text-align: right;\n",
              "    }\n",
              "</style>\n",
              "<table border=\"1\" class=\"dataframe\">\n",
              "  <thead>\n",
              "    <tr style=\"text-align: right;\">\n",
              "      <th></th>\n",
              "      <th>YA</th>\n",
              "      <th>AD</th>\n",
              "    </tr>\n",
              "  </thead>\n",
              "  <tbody>\n",
              "    <tr>\n",
              "      <th>count</th>\n",
              "      <td>237979.000000</td>\n",
              "      <td>237979.000000</td>\n",
              "    </tr>\n",
              "    <tr>\n",
              "      <th>mean</th>\n",
              "      <td>8.564183</td>\n",
              "      <td>0.321036</td>\n",
              "    </tr>\n",
              "    <tr>\n",
              "      <th>std</th>\n",
              "      <td>45.728512</td>\n",
              "      <td>45.985172</td>\n",
              "    </tr>\n",
              "    <tr>\n",
              "      <th>min</th>\n",
              "      <td>-203.502534</td>\n",
              "      <td>-306.102211</td>\n",
              "    </tr>\n",
              "    <tr>\n",
              "      <th>25%</th>\n",
              "      <td>-22.029241</td>\n",
              "      <td>-30.287586</td>\n",
              "    </tr>\n",
              "    <tr>\n",
              "      <th>50%</th>\n",
              "      <td>8.347217</td>\n",
              "      <td>0.310692</td>\n",
              "    </tr>\n",
              "    <tr>\n",
              "      <th>75%</th>\n",
              "      <td>38.758988</td>\n",
              "      <td>30.969864</td>\n",
              "    </tr>\n",
              "    <tr>\n",
              "      <th>max</th>\n",
              "      <td>237.847653</td>\n",
              "      <td>228.636860</td>\n",
              "    </tr>\n",
              "  </tbody>\n",
              "</table>\n",
              "</div>\n",
              "      <button class=\"colab-df-convert\" onclick=\"convertToInteractive('df-843ec92a-790b-4b24-9195-1bbaa298d10a')\"\n",
              "              title=\"Convert this dataframe to an interactive table.\"\n",
              "              style=\"display:none;\">\n",
              "        \n",
              "  <svg xmlns=\"http://www.w3.org/2000/svg\" height=\"24px\"viewBox=\"0 0 24 24\"\n",
              "       width=\"24px\">\n",
              "    <path d=\"M0 0h24v24H0V0z\" fill=\"none\"/>\n",
              "    <path d=\"M18.56 5.44l.94 2.06.94-2.06 2.06-.94-2.06-.94-.94-2.06-.94 2.06-2.06.94zm-11 1L8.5 8.5l.94-2.06 2.06-.94-2.06-.94L8.5 2.5l-.94 2.06-2.06.94zm10 10l.94 2.06.94-2.06 2.06-.94-2.06-.94-.94-2.06-.94 2.06-2.06.94z\"/><path d=\"M17.41 7.96l-1.37-1.37c-.4-.4-.92-.59-1.43-.59-.52 0-1.04.2-1.43.59L10.3 9.45l-7.72 7.72c-.78.78-.78 2.05 0 2.83L4 21.41c.39.39.9.59 1.41.59.51 0 1.02-.2 1.41-.59l7.78-7.78 2.81-2.81c.8-.78.8-2.07 0-2.86zM5.41 20L4 18.59l7.72-7.72 1.47 1.35L5.41 20z\"/>\n",
              "  </svg>\n",
              "      </button>\n",
              "      \n",
              "  <style>\n",
              "    .colab-df-container {\n",
              "      display:flex;\n",
              "      flex-wrap:wrap;\n",
              "      gap: 12px;\n",
              "    }\n",
              "\n",
              "    .colab-df-convert {\n",
              "      background-color: #E8F0FE;\n",
              "      border: none;\n",
              "      border-radius: 50%;\n",
              "      cursor: pointer;\n",
              "      display: none;\n",
              "      fill: #1967D2;\n",
              "      height: 32px;\n",
              "      padding: 0 0 0 0;\n",
              "      width: 32px;\n",
              "    }\n",
              "\n",
              "    .colab-df-convert:hover {\n",
              "      background-color: #E2EBFA;\n",
              "      box-shadow: 0px 1px 2px rgba(60, 64, 67, 0.3), 0px 1px 3px 1px rgba(60, 64, 67, 0.15);\n",
              "      fill: #174EA6;\n",
              "    }\n",
              "\n",
              "    [theme=dark] .colab-df-convert {\n",
              "      background-color: #3B4455;\n",
              "      fill: #D2E3FC;\n",
              "    }\n",
              "\n",
              "    [theme=dark] .colab-df-convert:hover {\n",
              "      background-color: #434B5C;\n",
              "      box-shadow: 0px 1px 3px 1px rgba(0, 0, 0, 0.15);\n",
              "      filter: drop-shadow(0px 1px 2px rgba(0, 0, 0, 0.3));\n",
              "      fill: #FFFFFF;\n",
              "    }\n",
              "  </style>\n",
              "\n",
              "      <script>\n",
              "        const buttonEl =\n",
              "          document.querySelector('#df-843ec92a-790b-4b24-9195-1bbaa298d10a button.colab-df-convert');\n",
              "        buttonEl.style.display =\n",
              "          google.colab.kernel.accessAllowed ? 'block' : 'none';\n",
              "\n",
              "        async function convertToInteractive(key) {\n",
              "          const element = document.querySelector('#df-843ec92a-790b-4b24-9195-1bbaa298d10a');\n",
              "          const dataTable =\n",
              "            await google.colab.kernel.invokeFunction('convertToInteractive',\n",
              "                                                     [key], {});\n",
              "          if (!dataTable) return;\n",
              "\n",
              "          const docLinkHtml = 'Like what you see? Visit the ' +\n",
              "            '<a target=\"_blank\" href=https://colab.research.google.com/notebooks/data_table.ipynb>data table notebook</a>'\n",
              "            + ' to learn more about interactive tables.';\n",
              "          element.innerHTML = '';\n",
              "          dataTable['output_type'] = 'display_data';\n",
              "          await google.colab.output.renderOutput(dataTable, element);\n",
              "          const docLink = document.createElement('div');\n",
              "          docLink.innerHTML = docLinkHtml;\n",
              "          element.appendChild(docLink);\n",
              "        }\n",
              "      </script>\n",
              "    </div>\n",
              "  </div>\n",
              "  "
            ]
          },
          "metadata": {},
          "execution_count": 75
        }
      ]
    },
    {
      "cell_type": "code",
      "source": [
        "Young_adult = metric_ya['bmap'][0][0]\n",
        "Adolescent = metric_ad['bmap'][0][0]\n",
        "\n",
        "t_value, p_value = stats.ttest_ind(Young_adult, Adolescent)\n",
        "\n",
        "print(f'Test statistic is {t_value}')\n",
        "\n",
        "print(f'p-value for two tailed test is {p_value}')\n",
        "\n",
        "alpha = 0.05\n",
        "\n",
        "if p_value <= alpha:\n",
        "  print(f'Conclusion: Since p-value {p_value} < alpha {alpha}, We reject the null hypothesis H0. \\\n",
        "  \\nSo we conclude that at the whole brain level, Young Adults and Adolescents do not regulate the same. \\\n",
        "  \\ni.e., μ1 = μ2 at {alpha} level of significance.')\n",
        "\n",
        "else:\n",
        "\n",
        "  print(f'Conclusion Since p-value{p_value} > alpha {alpha},We do not reject the null hypothesis H0.')\n"
      ],
      "metadata": {
        "colab": {
          "base_uri": "https://localhost:8080/"
        },
        "id": "EPmprYlZSegs",
        "outputId": "365ec4af-6983-4908-a19f-16c7fde2c499"
      },
      "execution_count": null,
      "outputs": [
        {
          "output_type": "stream",
          "name": "stdout",
          "text": [
            "Test statistic is 62.00711651640719\n",
            "p-value for two tailed test is 0.0\n",
            "Conclusion: Since p-value 0.0 < alpha 0.05, We reject the null hypothesis H0.   \n",
            "So we conclude that at the whole brain level, Young Adults and Adolescents do not regulate the same.   \n",
            "i.e., μ1 = μ2 at 0.05 level of significance.\n"
          ]
        }
      ]
    },
    {
      "cell_type": "markdown",
      "source": [
        "###Medial Prefrontal Cortex Analysis Between Adolescent and Young Adult 2 Sample t-test"
      ],
      "metadata": {
        "id": "JkGUqbFGSe1d"
      }
    },
    {
      "cell_type": "code",
      "source": [
        "# Load in the mask indices for mask overlay to create bmaps of a specific Region of interest\n",
        "roi_path_ind = 1 # get mask data for region of interest\n",
        "mask_roi = 'mPFC' #'acc_aal', 'anterior_insula_aal', 'mPFC', 'nacc_aal', \n",
        "indices_mask_roi = load_mask_indices(data_path_dict, mask_roi, roi_path_ind)\n",
        "\n",
        "previous_bmap_ya = metric_ya['bmap2_3'][0]\n",
        "bmap2ya = previous_bmap_ya.reshape(79 * 95 * 79)\n",
        "bmap2_3ya = np.zeros((79, 95, 79))\n",
        "bmap2_3ya = bmap2_3ya.reshape(79 * 95 * 79)\n",
        "bmap2_3ya[indices_mask_roi] = bmap2ya[indices_mask_roi]\n",
        "\n",
        "bmap2_3ya"
      ],
      "metadata": {
        "colab": {
          "base_uri": "https://localhost:8080/"
        },
        "id": "lTE5puQxRkdG",
        "outputId": "679553d5-8f01-46f3-d9ca-67c3f9dc4a9a"
      },
      "execution_count": null,
      "outputs": [
        {
          "output_type": "stream",
          "name": "stdout",
          "text": [
            "mask shape: (79, 95, 79)\n"
          ]
        },
        {
          "output_type": "execute_result",
          "data": {
            "text/plain": [
              "array([0., 0., 0., ..., 0., 0., 0.])"
            ]
          },
          "metadata": {},
          "execution_count": 81
        }
      ]
    },
    {
      "cell_type": "code",
      "source": [
        "# Load in the mask indices for mask overlay to create bmaps of a specific Region of interest\n",
        "roi_path_ind = 1 # get mask data for region of interest\n",
        "mask_roi = 'mPFC' #'acc_aal', 'anterior_insula_aal', 'mPFC', 'nacc_aal', \n",
        "indices_mask_roi = load_mask_indices(data_path_dict, mask_roi, roi_path_ind)\n",
        "\n",
        "previous_bmap_ad = metric_ad['bmap2_3'][0]\n",
        "bmap2ad = previous_bmap_ad.reshape(79 * 95 * 79)\n",
        "bmap2_3ad = np.zeros((79, 95, 79))\n",
        "bmap2_3ad = bmap2_3ad.reshape(79 * 95 * 79)\n",
        "bmap2_3ad[indices_mask_roi] = bmap2ad[indices_mask_roi]\n",
        "\n",
        "bmap2_3ad"
      ],
      "metadata": {
        "colab": {
          "base_uri": "https://localhost:8080/"
        },
        "id": "C00DlcptSJHJ",
        "outputId": "f2c63373-82d1-4e8b-d005-ee42aa09c9e8"
      },
      "execution_count": null,
      "outputs": [
        {
          "output_type": "stream",
          "name": "stdout",
          "text": [
            "mask shape: (79, 95, 79)\n"
          ]
        },
        {
          "output_type": "execute_result",
          "data": {
            "text/plain": [
              "array([0., 0., 0., ..., 0., 0., 0.])"
            ]
          },
          "metadata": {},
          "execution_count": 82
        }
      ]
    },
    {
      "cell_type": "markdown",
      "source": [
        ">> mPFC Sumamry Statistics"
      ],
      "metadata": {
        "id": "upAjDUvesxIU"
      }
    },
    {
      "cell_type": "code",
      "source": [
        "dictionary_values = {'YA': bmap2_3ya, 'AD':bmap2_3ad}\n",
        "summary_df = pd.DataFrame(dictionary_values)\n",
        "summary_df.describe()"
      ],
      "metadata": {
        "colab": {
          "base_uri": "https://localhost:8080/",
          "height": 300
        },
        "id": "nKMLzkoMs1hX",
        "outputId": "0ae85fa4-efb8-4e34-a893-26389e918fcc"
      },
      "execution_count": null,
      "outputs": [
        {
          "output_type": "execute_result",
          "data": {
            "text/plain": [
              "                  YA             AD\n",
              "count  592895.000000  592895.000000\n",
              "mean        0.004181       0.011205\n",
              "std         0.867464       0.980414\n",
              "min      -112.903332     -61.773426\n",
              "25%         0.000000       0.000000\n",
              "50%         0.000000       0.000000\n",
              "75%         0.000000       0.000000\n",
              "max       125.000130     136.057695"
            ],
            "text/html": [
              "\n",
              "  <div id=\"df-e9768700-0bc4-4e56-9331-8b2d9d9bbddd\">\n",
              "    <div class=\"colab-df-container\">\n",
              "      <div>\n",
              "<style scoped>\n",
              "    .dataframe tbody tr th:only-of-type {\n",
              "        vertical-align: middle;\n",
              "    }\n",
              "\n",
              "    .dataframe tbody tr th {\n",
              "        vertical-align: top;\n",
              "    }\n",
              "\n",
              "    .dataframe thead th {\n",
              "        text-align: right;\n",
              "    }\n",
              "</style>\n",
              "<table border=\"1\" class=\"dataframe\">\n",
              "  <thead>\n",
              "    <tr style=\"text-align: right;\">\n",
              "      <th></th>\n",
              "      <th>YA</th>\n",
              "      <th>AD</th>\n",
              "    </tr>\n",
              "  </thead>\n",
              "  <tbody>\n",
              "    <tr>\n",
              "      <th>count</th>\n",
              "      <td>592895.000000</td>\n",
              "      <td>592895.000000</td>\n",
              "    </tr>\n",
              "    <tr>\n",
              "      <th>mean</th>\n",
              "      <td>0.004181</td>\n",
              "      <td>0.011205</td>\n",
              "    </tr>\n",
              "    <tr>\n",
              "      <th>std</th>\n",
              "      <td>0.867464</td>\n",
              "      <td>0.980414</td>\n",
              "    </tr>\n",
              "    <tr>\n",
              "      <th>min</th>\n",
              "      <td>-112.903332</td>\n",
              "      <td>-61.773426</td>\n",
              "    </tr>\n",
              "    <tr>\n",
              "      <th>25%</th>\n",
              "      <td>0.000000</td>\n",
              "      <td>0.000000</td>\n",
              "    </tr>\n",
              "    <tr>\n",
              "      <th>50%</th>\n",
              "      <td>0.000000</td>\n",
              "      <td>0.000000</td>\n",
              "    </tr>\n",
              "    <tr>\n",
              "      <th>75%</th>\n",
              "      <td>0.000000</td>\n",
              "      <td>0.000000</td>\n",
              "    </tr>\n",
              "    <tr>\n",
              "      <th>max</th>\n",
              "      <td>125.000130</td>\n",
              "      <td>136.057695</td>\n",
              "    </tr>\n",
              "  </tbody>\n",
              "</table>\n",
              "</div>\n",
              "      <button class=\"colab-df-convert\" onclick=\"convertToInteractive('df-e9768700-0bc4-4e56-9331-8b2d9d9bbddd')\"\n",
              "              title=\"Convert this dataframe to an interactive table.\"\n",
              "              style=\"display:none;\">\n",
              "        \n",
              "  <svg xmlns=\"http://www.w3.org/2000/svg\" height=\"24px\"viewBox=\"0 0 24 24\"\n",
              "       width=\"24px\">\n",
              "    <path d=\"M0 0h24v24H0V0z\" fill=\"none\"/>\n",
              "    <path d=\"M18.56 5.44l.94 2.06.94-2.06 2.06-.94-2.06-.94-.94-2.06-.94 2.06-2.06.94zm-11 1L8.5 8.5l.94-2.06 2.06-.94-2.06-.94L8.5 2.5l-.94 2.06-2.06.94zm10 10l.94 2.06.94-2.06 2.06-.94-2.06-.94-.94-2.06-.94 2.06-2.06.94z\"/><path d=\"M17.41 7.96l-1.37-1.37c-.4-.4-.92-.59-1.43-.59-.52 0-1.04.2-1.43.59L10.3 9.45l-7.72 7.72c-.78.78-.78 2.05 0 2.83L4 21.41c.39.39.9.59 1.41.59.51 0 1.02-.2 1.41-.59l7.78-7.78 2.81-2.81c.8-.78.8-2.07 0-2.86zM5.41 20L4 18.59l7.72-7.72 1.47 1.35L5.41 20z\"/>\n",
              "  </svg>\n",
              "      </button>\n",
              "      \n",
              "  <style>\n",
              "    .colab-df-container {\n",
              "      display:flex;\n",
              "      flex-wrap:wrap;\n",
              "      gap: 12px;\n",
              "    }\n",
              "\n",
              "    .colab-df-convert {\n",
              "      background-color: #E8F0FE;\n",
              "      border: none;\n",
              "      border-radius: 50%;\n",
              "      cursor: pointer;\n",
              "      display: none;\n",
              "      fill: #1967D2;\n",
              "      height: 32px;\n",
              "      padding: 0 0 0 0;\n",
              "      width: 32px;\n",
              "    }\n",
              "\n",
              "    .colab-df-convert:hover {\n",
              "      background-color: #E2EBFA;\n",
              "      box-shadow: 0px 1px 2px rgba(60, 64, 67, 0.3), 0px 1px 3px 1px rgba(60, 64, 67, 0.15);\n",
              "      fill: #174EA6;\n",
              "    }\n",
              "\n",
              "    [theme=dark] .colab-df-convert {\n",
              "      background-color: #3B4455;\n",
              "      fill: #D2E3FC;\n",
              "    }\n",
              "\n",
              "    [theme=dark] .colab-df-convert:hover {\n",
              "      background-color: #434B5C;\n",
              "      box-shadow: 0px 1px 3px 1px rgba(0, 0, 0, 0.15);\n",
              "      filter: drop-shadow(0px 1px 2px rgba(0, 0, 0, 0.3));\n",
              "      fill: #FFFFFF;\n",
              "    }\n",
              "  </style>\n",
              "\n",
              "      <script>\n",
              "        const buttonEl =\n",
              "          document.querySelector('#df-e9768700-0bc4-4e56-9331-8b2d9d9bbddd button.colab-df-convert');\n",
              "        buttonEl.style.display =\n",
              "          google.colab.kernel.accessAllowed ? 'block' : 'none';\n",
              "\n",
              "        async function convertToInteractive(key) {\n",
              "          const element = document.querySelector('#df-e9768700-0bc4-4e56-9331-8b2d9d9bbddd');\n",
              "          const dataTable =\n",
              "            await google.colab.kernel.invokeFunction('convertToInteractive',\n",
              "                                                     [key], {});\n",
              "          if (!dataTable) return;\n",
              "\n",
              "          const docLinkHtml = 'Like what you see? Visit the ' +\n",
              "            '<a target=\"_blank\" href=https://colab.research.google.com/notebooks/data_table.ipynb>data table notebook</a>'\n",
              "            + ' to learn more about interactive tables.';\n",
              "          element.innerHTML = '';\n",
              "          dataTable['output_type'] = 'display_data';\n",
              "          await google.colab.output.renderOutput(dataTable, element);\n",
              "          const docLink = document.createElement('div');\n",
              "          docLink.innerHTML = docLinkHtml;\n",
              "          element.appendChild(docLink);\n",
              "        }\n",
              "      </script>\n",
              "    </div>\n",
              "  </div>\n",
              "  "
            ]
          },
          "metadata": {},
          "execution_count": 83
        }
      ]
    },
    {
      "cell_type": "code",
      "source": [
        "t_value, p_value = stats.ttest_ind(bmap2_3ya, bmap2_3ad)\n",
        "\n",
        "print(f'Test statistic is {t_value}')\n",
        "\n",
        "print(f'p-value for two tailed test is {p_value}')\n",
        "\n",
        "alpha = 0.05\n",
        "\n",
        "if p_value <= alpha:\n",
        "  print(f'Conclusion: Since p-value {p_value} < alpha {alpha}, We reject the null hypothesis H0. \\\n",
        "  \\nSo we conclude that Young Adults and Adolescents may not regulate the same in the medial Prefrontal Cortex. \\\n",
        "  \\ni.e., μ1 = μ2 at {alpha} level of significance.')\n",
        "\n",
        "else:\n",
        "\n",
        "  print(f'Conclusion: Since p-value{p_value} > alpha {alpha},We do not reject the null hypothesis H0.\\\n",
        "  \\n and therefore the Medial Prefrontal Cortex may play an equal role in regulation for both Young Adults and \\\n",
        "  \\n Adolescents')\n"
      ],
      "metadata": {
        "colab": {
          "base_uri": "https://localhost:8080/"
        },
        "id": "2dlPrHfYSNFC",
        "outputId": "ed98c234-4517-47a4-e658-158fb76bdebf"
      },
      "execution_count": null,
      "outputs": [
        {
          "output_type": "stream",
          "name": "stdout",
          "text": [
            "Test statistic is -4.131700751771177\n",
            "p-value for two tailed test is 3.6011367639982006e-05\n",
            "Conclusion: Since p-value 3.6011367639982006e-05 < alpha 0.05, We reject the null hypothesis H0.   \n",
            "So we conclude that Young Adults and Adolescents may not regulate the same in the medial Prefrontal Cortex.   \n",
            "i.e., μ1 = μ2 at 0.05 level of significance.\n"
          ]
        }
      ]
    },
    {
      "cell_type": "markdown",
      "source": [
        ">> Compare ROI "
      ],
      "metadata": {
        "id": "WRJOu0GrVCMM"
      }
    },
    {
      "cell_type": "code",
      "source": [
        "dictionary_values = {'YA': ya_mpfc, 'AD':as_mpfc}\n",
        "summary_df = pd.DataFrame(dictionary_values)\n",
        "summary_df.describe()"
      ],
      "metadata": {
        "colab": {
          "base_uri": "https://localhost:8080/",
          "height": 300
        },
        "id": "9xJ9iauhh06p",
        "outputId": "4126f674-2440-4e5e-8772-f99b0407ede9"
      },
      "execution_count": null,
      "outputs": [
        {
          "output_type": "execute_result",
          "data": {
            "text/plain": [
              "                  YA             AD\n",
              "count  592895.000000  592895.000000\n",
              "mean        0.001794       0.000812\n",
              "std         0.570689       0.429639\n",
              "min       -67.187558     -70.292464\n",
              "25%         0.000000       0.000000\n",
              "50%         0.000000       0.000000\n",
              "75%         0.000000       0.000000\n",
              "max        83.962973      55.196536"
            ],
            "text/html": [
              "\n",
              "  <div id=\"df-8dd718f7-3a25-4478-b025-3f68f295f449\">\n",
              "    <div class=\"colab-df-container\">\n",
              "      <div>\n",
              "<style scoped>\n",
              "    .dataframe tbody tr th:only-of-type {\n",
              "        vertical-align: middle;\n",
              "    }\n",
              "\n",
              "    .dataframe tbody tr th {\n",
              "        vertical-align: top;\n",
              "    }\n",
              "\n",
              "    .dataframe thead th {\n",
              "        text-align: right;\n",
              "    }\n",
              "</style>\n",
              "<table border=\"1\" class=\"dataframe\">\n",
              "  <thead>\n",
              "    <tr style=\"text-align: right;\">\n",
              "      <th></th>\n",
              "      <th>YA</th>\n",
              "      <th>AD</th>\n",
              "    </tr>\n",
              "  </thead>\n",
              "  <tbody>\n",
              "    <tr>\n",
              "      <th>count</th>\n",
              "      <td>592895.000000</td>\n",
              "      <td>592895.000000</td>\n",
              "    </tr>\n",
              "    <tr>\n",
              "      <th>mean</th>\n",
              "      <td>0.001794</td>\n",
              "      <td>0.000812</td>\n",
              "    </tr>\n",
              "    <tr>\n",
              "      <th>std</th>\n",
              "      <td>0.570689</td>\n",
              "      <td>0.429639</td>\n",
              "    </tr>\n",
              "    <tr>\n",
              "      <th>min</th>\n",
              "      <td>-67.187558</td>\n",
              "      <td>-70.292464</td>\n",
              "    </tr>\n",
              "    <tr>\n",
              "      <th>25%</th>\n",
              "      <td>0.000000</td>\n",
              "      <td>0.000000</td>\n",
              "    </tr>\n",
              "    <tr>\n",
              "      <th>50%</th>\n",
              "      <td>0.000000</td>\n",
              "      <td>0.000000</td>\n",
              "    </tr>\n",
              "    <tr>\n",
              "      <th>75%</th>\n",
              "      <td>0.000000</td>\n",
              "      <td>0.000000</td>\n",
              "    </tr>\n",
              "    <tr>\n",
              "      <th>max</th>\n",
              "      <td>83.962973</td>\n",
              "      <td>55.196536</td>\n",
              "    </tr>\n",
              "  </tbody>\n",
              "</table>\n",
              "</div>\n",
              "      <button class=\"colab-df-convert\" onclick=\"convertToInteractive('df-8dd718f7-3a25-4478-b025-3f68f295f449')\"\n",
              "              title=\"Convert this dataframe to an interactive table.\"\n",
              "              style=\"display:none;\">\n",
              "        \n",
              "  <svg xmlns=\"http://www.w3.org/2000/svg\" height=\"24px\"viewBox=\"0 0 24 24\"\n",
              "       width=\"24px\">\n",
              "    <path d=\"M0 0h24v24H0V0z\" fill=\"none\"/>\n",
              "    <path d=\"M18.56 5.44l.94 2.06.94-2.06 2.06-.94-2.06-.94-.94-2.06-.94 2.06-2.06.94zm-11 1L8.5 8.5l.94-2.06 2.06-.94-2.06-.94L8.5 2.5l-.94 2.06-2.06.94zm10 10l.94 2.06.94-2.06 2.06-.94-2.06-.94-.94-2.06-.94 2.06-2.06.94z\"/><path d=\"M17.41 7.96l-1.37-1.37c-.4-.4-.92-.59-1.43-.59-.52 0-1.04.2-1.43.59L10.3 9.45l-7.72 7.72c-.78.78-.78 2.05 0 2.83L4 21.41c.39.39.9.59 1.41.59.51 0 1.02-.2 1.41-.59l7.78-7.78 2.81-2.81c.8-.78.8-2.07 0-2.86zM5.41 20L4 18.59l7.72-7.72 1.47 1.35L5.41 20z\"/>\n",
              "  </svg>\n",
              "      </button>\n",
              "      \n",
              "  <style>\n",
              "    .colab-df-container {\n",
              "      display:flex;\n",
              "      flex-wrap:wrap;\n",
              "      gap: 12px;\n",
              "    }\n",
              "\n",
              "    .colab-df-convert {\n",
              "      background-color: #E8F0FE;\n",
              "      border: none;\n",
              "      border-radius: 50%;\n",
              "      cursor: pointer;\n",
              "      display: none;\n",
              "      fill: #1967D2;\n",
              "      height: 32px;\n",
              "      padding: 0 0 0 0;\n",
              "      width: 32px;\n",
              "    }\n",
              "\n",
              "    .colab-df-convert:hover {\n",
              "      background-color: #E2EBFA;\n",
              "      box-shadow: 0px 1px 2px rgba(60, 64, 67, 0.3), 0px 1px 3px 1px rgba(60, 64, 67, 0.15);\n",
              "      fill: #174EA6;\n",
              "    }\n",
              "\n",
              "    [theme=dark] .colab-df-convert {\n",
              "      background-color: #3B4455;\n",
              "      fill: #D2E3FC;\n",
              "    }\n",
              "\n",
              "    [theme=dark] .colab-df-convert:hover {\n",
              "      background-color: #434B5C;\n",
              "      box-shadow: 0px 1px 3px 1px rgba(0, 0, 0, 0.15);\n",
              "      filter: drop-shadow(0px 1px 2px rgba(0, 0, 0, 0.3));\n",
              "      fill: #FFFFFF;\n",
              "    }\n",
              "  </style>\n",
              "\n",
              "      <script>\n",
              "        const buttonEl =\n",
              "          document.querySelector('#df-8dd718f7-3a25-4478-b025-3f68f295f449 button.colab-df-convert');\n",
              "        buttonEl.style.display =\n",
              "          google.colab.kernel.accessAllowed ? 'block' : 'none';\n",
              "\n",
              "        async function convertToInteractive(key) {\n",
              "          const element = document.querySelector('#df-8dd718f7-3a25-4478-b025-3f68f295f449');\n",
              "          const dataTable =\n",
              "            await google.colab.kernel.invokeFunction('convertToInteractive',\n",
              "                                                     [key], {});\n",
              "          if (!dataTable) return;\n",
              "\n",
              "          const docLinkHtml = 'Like what you see? Visit the ' +\n",
              "            '<a target=\"_blank\" href=https://colab.research.google.com/notebooks/data_table.ipynb>data table notebook</a>'\n",
              "            + ' to learn more about interactive tables.';\n",
              "          element.innerHTML = '';\n",
              "          dataTable['output_type'] = 'display_data';\n",
              "          await google.colab.output.renderOutput(dataTable, element);\n",
              "          const docLink = document.createElement('div');\n",
              "          docLink.innerHTML = docLinkHtml;\n",
              "          element.appendChild(docLink);\n",
              "        }\n",
              "      </script>\n",
              "    </div>\n",
              "  </div>\n",
              "  "
            ]
          },
          "metadata": {},
          "execution_count": 85
        }
      ]
    },
    {
      "cell_type": "code",
      "source": [
        "# Compare ROI extected from whole brain model to the actual ROI trained on ROI; also compare ROI AD to ROI YA\n",
        "\n",
        "for groups in [[(\"Medial Prefrontal Cortex : Adolescent ROI on roi v Adolsecent ROI on WB for\", as_mpfc, bmap2_3ad)], \n",
        "               [(\"Medial Prefrontal Cortex : Young Adult ROI on roi v ROI on WB\", ya_mpfc, bmap2_3ya)], \n",
        "               [(\"Medial Prefrontal Cortex : Adolescent ROI v Young Adult ROI\", as_mpfc, ya_mpfc)]]:\n",
        "  \n",
        "  for group, roi, roiwb in groups:\n",
        "\n",
        "    t_value, p_value = stats.ttest_ind(roi, roiwb)\n",
        "\n",
        "    print(f'Test statistic is {t_value}')\n",
        "\n",
        "    print(f'p-value for two tailed test is {p_value}')\n",
        "\n",
        "    alpha = 0.05\n",
        "\n",
        "    if p_value <= alpha:\n",
        "      print(f'{group} Conclusion: Since p-value  {p_value}  < alpha {alpha}, We reject the null hypothesis H0.')# \\\n",
        "      #\\nSo we conclude Young Adults and Adolescents may not regulate the same at the Anterior Insula. \\\n",
        "      #\\ni.e., μ1 = μ2 at {alpha} level of significance.')\n",
        "\n",
        "    else:\n",
        "\n",
        "      print(f'{group} Conclusion: Since p-value{p_value} > alpha {alpha},We do not reject the null hypothesis H0.')\n",
        "      #\\n and therefore the whole brain model may not capture the significance of the Anterior Insula for both Young Adults and \\\n",
        "      #\\n Adolescents')"
      ],
      "metadata": {
        "colab": {
          "base_uri": "https://localhost:8080/"
        },
        "id": "deDO9XlSVDij",
        "outputId": "e78640e6-d269-451f-e9bf-683d5f7d0fc6"
      },
      "execution_count": null,
      "outputs": [
        {
          "output_type": "stream",
          "name": "stdout",
          "text": [
            "Test statistic is -7.476116176697328\n",
            "p-value for two tailed test is 7.660351253381644e-14\n",
            "Medial Prefrontal Corext : Adolescent ROI on roi v Adolsecent ROI on WB for Conclusion: Since p-value  7.660351253381644e-14  < alpha 0.05, We reject the null hypothesis H0.\n",
            "Test statistic is -1.7700375326755804\n",
            "p-value for two tailed test is 0.07672114541939655\n",
            "Medial Prefrontal Corext : Young Adult ROI on roi v ROI on WB Conclusion: Since p-value0.07672114541939655 > alpha 0.05,We do not reject the null hypothesis H0.\n",
            "Test statistic is -1.0582085931566447\n",
            "p-value for two tailed test is 0.28996057003888354\n",
            "Medial Prefrontal Corext : Adolescent v Young Adult Conclusion: Since p-value0.28996057003888354 > alpha 0.05,We do not reject the null hypothesis H0.\n"
          ]
        }
      ]
    },
    {
      "cell_type": "markdown",
      "source": [
        "###Nucleus Accumbens Analysis Between Adolescent and Young Adult 2 Sample t-test"
      ],
      "metadata": {
        "id": "dAmK6cIsSqIA"
      }
    },
    {
      "cell_type": "code",
      "source": [
        "# Load in the mask indices for mask overlay to create bmaps of a specific Region of interest\n",
        "roi_path_ind = 1 # get mask data for region of interest\n",
        "mask_roi = 'nacc_aal' #'acc_aal', 'anterior_insula_aal', 'mPFC', 'nacc_aal', \n",
        "indices_mask_roi = load_mask_indices(data_path_dict, mask_roi, roi_path_ind)\n",
        "\n",
        "previous_bmap_ya = metric_ya['bmap2_3'][0]\n",
        "bmap2ya = previous_bmap_ya.reshape(79 * 95 * 79)\n",
        "bmap2_3ya = np.zeros((79, 95, 79))\n",
        "bmap2_3ya = bmap2_3ya.reshape(79 * 95 * 79)\n",
        "bmap2_3ya[indices_mask_roi] = bmap2ya[indices_mask_roi]\n",
        "\n",
        "bmap2_3ya"
      ],
      "metadata": {
        "colab": {
          "base_uri": "https://localhost:8080/"
        },
        "id": "jykcoMDqSNMg",
        "outputId": "a3d887ae-fe8d-4a47-af5d-8097b963b6c1"
      },
      "execution_count": null,
      "outputs": [
        {
          "output_type": "stream",
          "name": "stdout",
          "text": [
            "mask shape: (79, 95, 79)\n"
          ]
        },
        {
          "output_type": "execute_result",
          "data": {
            "text/plain": [
              "array([0., 0., 0., ..., 0., 0., 0.])"
            ]
          },
          "metadata": {},
          "execution_count": 87
        }
      ]
    },
    {
      "cell_type": "code",
      "source": [
        "# Load in the mask indices for mask overlay to create bmaps of a specific Region of interest\n",
        "roi_path_ind = 1 # get mask data for region of interest\n",
        "mask_roi = 'nacc_aal' #'acc_aal', 'anterior_insula_aal', 'mPFC', 'nacc_aal', \n",
        "indices_mask_roi = load_mask_indices(data_path_dict, mask_roi, roi_path_ind)\n",
        "\n",
        "previous_bmap_ad = metric_ad['bmap2_3'][0]\n",
        "bmap2ad = previous_bmap_ad.reshape(79 * 95 * 79)\n",
        "bmap2_3ad = np.zeros((79, 95, 79))\n",
        "bmap2_3ad = bmap2_3ad.reshape(79 * 95 * 79)\n",
        "bmap2_3ad[indices_mask_roi] = bmap2ad[indices_mask_roi]\n",
        "\n",
        "bmap2_3ad"
      ],
      "metadata": {
        "colab": {
          "base_uri": "https://localhost:8080/"
        },
        "id": "RaXengMSSN3g",
        "outputId": "87dba8c5-1dfd-47b7-8d7f-7fc7d8bab49b"
      },
      "execution_count": null,
      "outputs": [
        {
          "output_type": "stream",
          "name": "stdout",
          "text": [
            "mask shape: (79, 95, 79)\n"
          ]
        },
        {
          "output_type": "execute_result",
          "data": {
            "text/plain": [
              "array([0., 0., 0., ..., 0., 0., 0.])"
            ]
          },
          "metadata": {},
          "execution_count": 88
        }
      ]
    },
    {
      "cell_type": "markdown",
      "source": [
        ">> Nucleus Accumbens Summary"
      ],
      "metadata": {
        "id": "anKz9uLBtJDE"
      }
    },
    {
      "cell_type": "code",
      "source": [
        "dictionary_values = {'YA': bmap2_3ya, 'AD':bmap2_3ad}\n",
        "summary_df = pd.DataFrame(dictionary_values)\n",
        "summary_df.describe()"
      ],
      "metadata": {
        "colab": {
          "base_uri": "https://localhost:8080/",
          "height": 300
        },
        "id": "_7g60PMRtJU5",
        "outputId": "0f45a7c0-acaf-4c85-a765-2802671f09b6"
      },
      "execution_count": null,
      "outputs": [
        {
          "output_type": "execute_result",
          "data": {
            "text/plain": [
              "                  YA             AD\n",
              "count  592895.000000  592895.000000\n",
              "mean        0.007725       0.011626\n",
              "std         1.379541       1.547360\n",
              "min      -115.749862    -132.520353\n",
              "25%         0.000000       0.000000\n",
              "50%         0.000000       0.000000\n",
              "75%         0.000000       0.000000\n",
              "max       123.001499     166.726276"
            ],
            "text/html": [
              "\n",
              "  <div id=\"df-f44919a5-dbe9-48d3-b054-8fa7f8ab8025\">\n",
              "    <div class=\"colab-df-container\">\n",
              "      <div>\n",
              "<style scoped>\n",
              "    .dataframe tbody tr th:only-of-type {\n",
              "        vertical-align: middle;\n",
              "    }\n",
              "\n",
              "    .dataframe tbody tr th {\n",
              "        vertical-align: top;\n",
              "    }\n",
              "\n",
              "    .dataframe thead th {\n",
              "        text-align: right;\n",
              "    }\n",
              "</style>\n",
              "<table border=\"1\" class=\"dataframe\">\n",
              "  <thead>\n",
              "    <tr style=\"text-align: right;\">\n",
              "      <th></th>\n",
              "      <th>YA</th>\n",
              "      <th>AD</th>\n",
              "    </tr>\n",
              "  </thead>\n",
              "  <tbody>\n",
              "    <tr>\n",
              "      <th>count</th>\n",
              "      <td>592895.000000</td>\n",
              "      <td>592895.000000</td>\n",
              "    </tr>\n",
              "    <tr>\n",
              "      <th>mean</th>\n",
              "      <td>0.007725</td>\n",
              "      <td>0.011626</td>\n",
              "    </tr>\n",
              "    <tr>\n",
              "      <th>std</th>\n",
              "      <td>1.379541</td>\n",
              "      <td>1.547360</td>\n",
              "    </tr>\n",
              "    <tr>\n",
              "      <th>min</th>\n",
              "      <td>-115.749862</td>\n",
              "      <td>-132.520353</td>\n",
              "    </tr>\n",
              "    <tr>\n",
              "      <th>25%</th>\n",
              "      <td>0.000000</td>\n",
              "      <td>0.000000</td>\n",
              "    </tr>\n",
              "    <tr>\n",
              "      <th>50%</th>\n",
              "      <td>0.000000</td>\n",
              "      <td>0.000000</td>\n",
              "    </tr>\n",
              "    <tr>\n",
              "      <th>75%</th>\n",
              "      <td>0.000000</td>\n",
              "      <td>0.000000</td>\n",
              "    </tr>\n",
              "    <tr>\n",
              "      <th>max</th>\n",
              "      <td>123.001499</td>\n",
              "      <td>166.726276</td>\n",
              "    </tr>\n",
              "  </tbody>\n",
              "</table>\n",
              "</div>\n",
              "      <button class=\"colab-df-convert\" onclick=\"convertToInteractive('df-f44919a5-dbe9-48d3-b054-8fa7f8ab8025')\"\n",
              "              title=\"Convert this dataframe to an interactive table.\"\n",
              "              style=\"display:none;\">\n",
              "        \n",
              "  <svg xmlns=\"http://www.w3.org/2000/svg\" height=\"24px\"viewBox=\"0 0 24 24\"\n",
              "       width=\"24px\">\n",
              "    <path d=\"M0 0h24v24H0V0z\" fill=\"none\"/>\n",
              "    <path d=\"M18.56 5.44l.94 2.06.94-2.06 2.06-.94-2.06-.94-.94-2.06-.94 2.06-2.06.94zm-11 1L8.5 8.5l.94-2.06 2.06-.94-2.06-.94L8.5 2.5l-.94 2.06-2.06.94zm10 10l.94 2.06.94-2.06 2.06-.94-2.06-.94-.94-2.06-.94 2.06-2.06.94z\"/><path d=\"M17.41 7.96l-1.37-1.37c-.4-.4-.92-.59-1.43-.59-.52 0-1.04.2-1.43.59L10.3 9.45l-7.72 7.72c-.78.78-.78 2.05 0 2.83L4 21.41c.39.39.9.59 1.41.59.51 0 1.02-.2 1.41-.59l7.78-7.78 2.81-2.81c.8-.78.8-2.07 0-2.86zM5.41 20L4 18.59l7.72-7.72 1.47 1.35L5.41 20z\"/>\n",
              "  </svg>\n",
              "      </button>\n",
              "      \n",
              "  <style>\n",
              "    .colab-df-container {\n",
              "      display:flex;\n",
              "      flex-wrap:wrap;\n",
              "      gap: 12px;\n",
              "    }\n",
              "\n",
              "    .colab-df-convert {\n",
              "      background-color: #E8F0FE;\n",
              "      border: none;\n",
              "      border-radius: 50%;\n",
              "      cursor: pointer;\n",
              "      display: none;\n",
              "      fill: #1967D2;\n",
              "      height: 32px;\n",
              "      padding: 0 0 0 0;\n",
              "      width: 32px;\n",
              "    }\n",
              "\n",
              "    .colab-df-convert:hover {\n",
              "      background-color: #E2EBFA;\n",
              "      box-shadow: 0px 1px 2px rgba(60, 64, 67, 0.3), 0px 1px 3px 1px rgba(60, 64, 67, 0.15);\n",
              "      fill: #174EA6;\n",
              "    }\n",
              "\n",
              "    [theme=dark] .colab-df-convert {\n",
              "      background-color: #3B4455;\n",
              "      fill: #D2E3FC;\n",
              "    }\n",
              "\n",
              "    [theme=dark] .colab-df-convert:hover {\n",
              "      background-color: #434B5C;\n",
              "      box-shadow: 0px 1px 3px 1px rgba(0, 0, 0, 0.15);\n",
              "      filter: drop-shadow(0px 1px 2px rgba(0, 0, 0, 0.3));\n",
              "      fill: #FFFFFF;\n",
              "    }\n",
              "  </style>\n",
              "\n",
              "      <script>\n",
              "        const buttonEl =\n",
              "          document.querySelector('#df-f44919a5-dbe9-48d3-b054-8fa7f8ab8025 button.colab-df-convert');\n",
              "        buttonEl.style.display =\n",
              "          google.colab.kernel.accessAllowed ? 'block' : 'none';\n",
              "\n",
              "        async function convertToInteractive(key) {\n",
              "          const element = document.querySelector('#df-f44919a5-dbe9-48d3-b054-8fa7f8ab8025');\n",
              "          const dataTable =\n",
              "            await google.colab.kernel.invokeFunction('convertToInteractive',\n",
              "                                                     [key], {});\n",
              "          if (!dataTable) return;\n",
              "\n",
              "          const docLinkHtml = 'Like what you see? Visit the ' +\n",
              "            '<a target=\"_blank\" href=https://colab.research.google.com/notebooks/data_table.ipynb>data table notebook</a>'\n",
              "            + ' to learn more about interactive tables.';\n",
              "          element.innerHTML = '';\n",
              "          dataTable['output_type'] = 'display_data';\n",
              "          await google.colab.output.renderOutput(dataTable, element);\n",
              "          const docLink = document.createElement('div');\n",
              "          docLink.innerHTML = docLinkHtml;\n",
              "          element.appendChild(docLink);\n",
              "        }\n",
              "      </script>\n",
              "    </div>\n",
              "  </div>\n",
              "  "
            ]
          },
          "metadata": {},
          "execution_count": 89
        }
      ]
    },
    {
      "cell_type": "code",
      "source": [
        "t_value, p_value = stats.ttest_ind(bmap2_3ya, bmap2_3ad)\n",
        "\n",
        "print(f'Test statistic is {t_value}')\n",
        "\n",
        "print(f'p-value for two tailed test is {p_value}')\n",
        "\n",
        "alpha = 0.05\n",
        "\n",
        "if p_value <= alpha:\n",
        "  print(f'Conclusion: Since p-value  {p_value}  < alpha {alpha}, We reject the null hypothesis H0. \\\n",
        "  \\nSo we conclude Young Adults and Adolescents may not regulate the same at the Nucleus Accumbens. \\\n",
        "  \\ni.e., μ1 = μ2 at {alpha} level of significance.')\n",
        "\n",
        "else:\n",
        "\n",
        "  print(f'Conclusion: Since p-value{p_value} > alpha {alpha},We do not reject the null hypothesis H0.\\\n",
        "  \\n and therefore the Nucleus Accumbens may play an equal role in regulation for both Young Adults and \\\n",
        "  \\n Adolescents')"
      ],
      "metadata": {
        "colab": {
          "base_uri": "https://localhost:8080/"
        },
        "id": "-kI-FnP_dcNM",
        "outputId": "cb2e67de-3b2e-4086-9401-d38f1ab6a860"
      },
      "execution_count": null,
      "outputs": [
        {
          "output_type": "stream",
          "name": "stdout",
          "text": [
            "Test statistic is -1.449044263538568\n",
            "p-value for two tailed test is 0.14732548612940824\n",
            "Conclusion: Since p-value0.14732548612940824 > alpha 0.05,We do not reject the null hypothesis H0.  \n",
            " and therefore the Nucleus Accumbens may play an equal role in regulation for both Young Adults and   \n",
            " Adolescents\n"
          ]
        }
      ]
    },
    {
      "cell_type": "markdown",
      "source": [
        ">> Compare ROIs"
      ],
      "metadata": {
        "id": "Lahj7hmmU-Rw"
      }
    },
    {
      "cell_type": "code",
      "source": [
        "dictionary_values = {'YA': ya_nacc, 'AD':as_nacc}\n",
        "summary_df = pd.DataFrame(dictionary_values)\n",
        "summary_df.describe()"
      ],
      "metadata": {
        "colab": {
          "base_uri": "https://localhost:8080/",
          "height": 300
        },
        "id": "d5aJoZVnhzDL",
        "outputId": "0c1083f7-af9e-4ad8-a69b-6661977dbf68"
      },
      "execution_count": null,
      "outputs": [
        {
          "output_type": "execute_result",
          "data": {
            "text/plain": [
              "                  YA             AD\n",
              "count  592895.000000  592895.000000\n",
              "mean        0.010081       0.000887\n",
              "std         1.105725       0.826077\n",
              "min      -111.846138     -63.049036\n",
              "25%         0.000000       0.000000\n",
              "50%         0.000000       0.000000\n",
              "75%         0.000000       0.000000\n",
              "max       102.634047      64.208037"
            ],
            "text/html": [
              "\n",
              "  <div id=\"df-de638156-84cc-46bb-8786-4e3ec1fb00ab\">\n",
              "    <div class=\"colab-df-container\">\n",
              "      <div>\n",
              "<style scoped>\n",
              "    .dataframe tbody tr th:only-of-type {\n",
              "        vertical-align: middle;\n",
              "    }\n",
              "\n",
              "    .dataframe tbody tr th {\n",
              "        vertical-align: top;\n",
              "    }\n",
              "\n",
              "    .dataframe thead th {\n",
              "        text-align: right;\n",
              "    }\n",
              "</style>\n",
              "<table border=\"1\" class=\"dataframe\">\n",
              "  <thead>\n",
              "    <tr style=\"text-align: right;\">\n",
              "      <th></th>\n",
              "      <th>YA</th>\n",
              "      <th>AD</th>\n",
              "    </tr>\n",
              "  </thead>\n",
              "  <tbody>\n",
              "    <tr>\n",
              "      <th>count</th>\n",
              "      <td>592895.000000</td>\n",
              "      <td>592895.000000</td>\n",
              "    </tr>\n",
              "    <tr>\n",
              "      <th>mean</th>\n",
              "      <td>0.010081</td>\n",
              "      <td>0.000887</td>\n",
              "    </tr>\n",
              "    <tr>\n",
              "      <th>std</th>\n",
              "      <td>1.105725</td>\n",
              "      <td>0.826077</td>\n",
              "    </tr>\n",
              "    <tr>\n",
              "      <th>min</th>\n",
              "      <td>-111.846138</td>\n",
              "      <td>-63.049036</td>\n",
              "    </tr>\n",
              "    <tr>\n",
              "      <th>25%</th>\n",
              "      <td>0.000000</td>\n",
              "      <td>0.000000</td>\n",
              "    </tr>\n",
              "    <tr>\n",
              "      <th>50%</th>\n",
              "      <td>0.000000</td>\n",
              "      <td>0.000000</td>\n",
              "    </tr>\n",
              "    <tr>\n",
              "      <th>75%</th>\n",
              "      <td>0.000000</td>\n",
              "      <td>0.000000</td>\n",
              "    </tr>\n",
              "    <tr>\n",
              "      <th>max</th>\n",
              "      <td>102.634047</td>\n",
              "      <td>64.208037</td>\n",
              "    </tr>\n",
              "  </tbody>\n",
              "</table>\n",
              "</div>\n",
              "      <button class=\"colab-df-convert\" onclick=\"convertToInteractive('df-de638156-84cc-46bb-8786-4e3ec1fb00ab')\"\n",
              "              title=\"Convert this dataframe to an interactive table.\"\n",
              "              style=\"display:none;\">\n",
              "        \n",
              "  <svg xmlns=\"http://www.w3.org/2000/svg\" height=\"24px\"viewBox=\"0 0 24 24\"\n",
              "       width=\"24px\">\n",
              "    <path d=\"M0 0h24v24H0V0z\" fill=\"none\"/>\n",
              "    <path d=\"M18.56 5.44l.94 2.06.94-2.06 2.06-.94-2.06-.94-.94-2.06-.94 2.06-2.06.94zm-11 1L8.5 8.5l.94-2.06 2.06-.94-2.06-.94L8.5 2.5l-.94 2.06-2.06.94zm10 10l.94 2.06.94-2.06 2.06-.94-2.06-.94-.94-2.06-.94 2.06-2.06.94z\"/><path d=\"M17.41 7.96l-1.37-1.37c-.4-.4-.92-.59-1.43-.59-.52 0-1.04.2-1.43.59L10.3 9.45l-7.72 7.72c-.78.78-.78 2.05 0 2.83L4 21.41c.39.39.9.59 1.41.59.51 0 1.02-.2 1.41-.59l7.78-7.78 2.81-2.81c.8-.78.8-2.07 0-2.86zM5.41 20L4 18.59l7.72-7.72 1.47 1.35L5.41 20z\"/>\n",
              "  </svg>\n",
              "      </button>\n",
              "      \n",
              "  <style>\n",
              "    .colab-df-container {\n",
              "      display:flex;\n",
              "      flex-wrap:wrap;\n",
              "      gap: 12px;\n",
              "    }\n",
              "\n",
              "    .colab-df-convert {\n",
              "      background-color: #E8F0FE;\n",
              "      border: none;\n",
              "      border-radius: 50%;\n",
              "      cursor: pointer;\n",
              "      display: none;\n",
              "      fill: #1967D2;\n",
              "      height: 32px;\n",
              "      padding: 0 0 0 0;\n",
              "      width: 32px;\n",
              "    }\n",
              "\n",
              "    .colab-df-convert:hover {\n",
              "      background-color: #E2EBFA;\n",
              "      box-shadow: 0px 1px 2px rgba(60, 64, 67, 0.3), 0px 1px 3px 1px rgba(60, 64, 67, 0.15);\n",
              "      fill: #174EA6;\n",
              "    }\n",
              "\n",
              "    [theme=dark] .colab-df-convert {\n",
              "      background-color: #3B4455;\n",
              "      fill: #D2E3FC;\n",
              "    }\n",
              "\n",
              "    [theme=dark] .colab-df-convert:hover {\n",
              "      background-color: #434B5C;\n",
              "      box-shadow: 0px 1px 3px 1px rgba(0, 0, 0, 0.15);\n",
              "      filter: drop-shadow(0px 1px 2px rgba(0, 0, 0, 0.3));\n",
              "      fill: #FFFFFF;\n",
              "    }\n",
              "  </style>\n",
              "\n",
              "      <script>\n",
              "        const buttonEl =\n",
              "          document.querySelector('#df-de638156-84cc-46bb-8786-4e3ec1fb00ab button.colab-df-convert');\n",
              "        buttonEl.style.display =\n",
              "          google.colab.kernel.accessAllowed ? 'block' : 'none';\n",
              "\n",
              "        async function convertToInteractive(key) {\n",
              "          const element = document.querySelector('#df-de638156-84cc-46bb-8786-4e3ec1fb00ab');\n",
              "          const dataTable =\n",
              "            await google.colab.kernel.invokeFunction('convertToInteractive',\n",
              "                                                     [key], {});\n",
              "          if (!dataTable) return;\n",
              "\n",
              "          const docLinkHtml = 'Like what you see? Visit the ' +\n",
              "            '<a target=\"_blank\" href=https://colab.research.google.com/notebooks/data_table.ipynb>data table notebook</a>'\n",
              "            + ' to learn more about interactive tables.';\n",
              "          element.innerHTML = '';\n",
              "          dataTable['output_type'] = 'display_data';\n",
              "          await google.colab.output.renderOutput(dataTable, element);\n",
              "          const docLink = document.createElement('div');\n",
              "          docLink.innerHTML = docLinkHtml;\n",
              "          element.appendChild(docLink);\n",
              "        }\n",
              "      </script>\n",
              "    </div>\n",
              "  </div>\n",
              "  "
            ]
          },
          "metadata": {},
          "execution_count": 91
        }
      ]
    },
    {
      "cell_type": "code",
      "source": [
        "# Compare ROI extected from whole brain model to the actual ROI trained on ROI; also compare ROI AD to ROI YA\n",
        "\n",
        "\n",
        "for groups in [[(\"Nucleus Accumbens: Adolescent ROI on roi v Adolsecent ROI on WB\", as_nacc, bmap2_3ad)], \n",
        "               [(\"Nucleus Accumbens: Young Adult ROI on roi v ROI on WB\", ya_nacc, bmap2_3ya)], \n",
        "               [(\"Nucleus Accumbens: Adolescent v Young Adult\", as_nacc, ya_nacc)]]:\n",
        "  \n",
        "  for group, roi, roiwb in groups:\n",
        "\n",
        "    t_value, p_value = stats.ttest_ind(roi, roiwb)\n",
        "\n",
        "    print(f'Test statistic is {t_value}')\n",
        "\n",
        "    print(f'p-value for two tailed test is {p_value}')\n",
        "\n",
        "    alpha = 0.05\n",
        "\n",
        "    if p_value <= alpha:\n",
        "      print(f'{group} Conclusion: Since p-value  {p_value}  < alpha {alpha}, We reject the null hypothesis H0.')# \\\n",
        "      #\\nSo we conclude Young Adults and Adolescents may not regulate the same at the Anterior Insula. \\\n",
        "      #\\ni.e., μ1 = μ2 at {alpha} level of significance.')\n",
        "\n",
        "    else:\n",
        "\n",
        "      print(f'{group} Conclusion: Since p-value{p_value} > alpha {alpha},We do not reject the null hypothesis H0.')\n",
        "      #\\n and therefore the whole brain model may not capture the significance of the Anterior Insula for both Young Adults and \\\n",
        "      #\\n Adolescents')"
      ],
      "metadata": {
        "colab": {
          "base_uri": "https://localhost:8080/"
        },
        "id": "jetUWyUwVAYa",
        "outputId": "94ea7841-a474-47f4-ea7a-ffb3086ed025"
      },
      "execution_count": null,
      "outputs": [
        {
          "output_type": "stream",
          "name": "stdout",
          "text": [
            "Test statistic is -4.7142927595035875\n",
            "p-value for two tailed test is 2.4257921783996097e-06\n",
            "Nucleus Accumbens: Adolescent ROI on roi v Adolsecent ROI on WB Conclusion: Since p-value  2.4257921783996097e-06  < alpha 0.05, We reject the null hypothesis H0.\n",
            "Test statistic is 1.0262842648984607\n",
            "p-value for two tailed test is 0.30475782134402185\n",
            "Nucleus Accumbens: Young Adult ROI on roi v ROI on WB Conclusion: Since p-value0.30475782134402185 > alpha 0.05,We do not reject the null hypothesis H0.\n",
            "Test statistic is -5.129363095217912\n",
            "p-value for two tailed test is 2.9076972280392665e-07\n",
            "Nucleus Accumbens: Adolescent v Young Adult Conclusion: Since p-value  2.9076972280392665e-07  < alpha 0.05, We reject the null hypothesis H0.\n"
          ]
        }
      ]
    },
    {
      "cell_type": "markdown",
      "source": [
        "###Anterior Cingulate Cortex Analysis Between Adolescent and Young Adult 2 Sample t-test"
      ],
      "metadata": {
        "id": "_NKG7hmbk2IV"
      }
    },
    {
      "cell_type": "code",
      "source": [
        "# Load in the mask indices for mask overlay to create bmaps of a specific Region of interest\n",
        "roi_path_ind = 1 # get mask data for region of interest\n",
        "mask_roi = 'acc_aal' #'acc_aal', 'anterior_insula_aal', 'mPFC', 'nacc_aal', \n",
        "indices_mask_roi = load_mask_indices(data_path_dict, mask_roi, roi_path_ind)\n",
        "\n",
        "previous_bmap_ya = metric_ya['bmap2_3'][0]\n",
        "bmap2ya = previous_bmap_ya.reshape(79 * 95 * 79)\n",
        "bmap2_3ya = np.zeros((79, 95, 79))\n",
        "bmap2_3ya = bmap2_3ya.reshape(79 * 95 * 79)\n",
        "bmap2_3ya[indices_mask_roi] = bmap2ya[indices_mask_roi]\n",
        "\n",
        "bmap2_3ya"
      ],
      "metadata": {
        "colab": {
          "base_uri": "https://localhost:8080/"
        },
        "id": "Tm988hthlFGo",
        "outputId": "04864c96-356a-47b5-817e-292539a7fe2a"
      },
      "execution_count": null,
      "outputs": [
        {
          "output_type": "stream",
          "name": "stdout",
          "text": [
            "mask shape: (79, 95, 79)\n"
          ]
        },
        {
          "output_type": "execute_result",
          "data": {
            "text/plain": [
              "array([0., 0., 0., ..., 0., 0., 0.])"
            ]
          },
          "metadata": {},
          "execution_count": 93
        }
      ]
    },
    {
      "cell_type": "code",
      "source": [
        "# Load in the mask indices for mask overlay to create bmaps of a specific Region of interest\n",
        "roi_path_ind = 1 # get mask data for region of interest\n",
        "mask_roi = 'acc_aal' #'acc_aal', 'anterior_insula_aal', 'mPFC', 'nacc_aal', \n",
        "indices_mask_roi = load_mask_indices(data_path_dict, mask_roi, roi_path_ind)\n",
        "\n",
        "previous_bmap_ad = metric_ad['bmap2_3'][0]\n",
        "bmap2ad = previous_bmap_ad.reshape(79 * 95 * 79)\n",
        "bmap2_3ad = np.zeros((79, 95, 79))\n",
        "bmap2_3ad = bmap2_3ad.reshape(79 * 95 * 79)\n",
        "bmap2_3ad[indices_mask_roi] = bmap2ad[indices_mask_roi]\n",
        "\n",
        "bmap2_3ad"
      ],
      "metadata": {
        "colab": {
          "base_uri": "https://localhost:8080/"
        },
        "id": "vved7lp7lFLa",
        "outputId": "17414026-0c7f-48f2-e65c-865769004bc2"
      },
      "execution_count": null,
      "outputs": [
        {
          "output_type": "stream",
          "name": "stdout",
          "text": [
            "mask shape: (79, 95, 79)\n"
          ]
        },
        {
          "output_type": "execute_result",
          "data": {
            "text/plain": [
              "array([0., 0., 0., ..., 0., 0., 0.])"
            ]
          },
          "metadata": {},
          "execution_count": 94
        }
      ]
    },
    {
      "cell_type": "markdown",
      "source": [
        ">> Anterior Cingulate Cortex Summary"
      ],
      "metadata": {
        "id": "6xEMnCQitejG"
      }
    },
    {
      "cell_type": "code",
      "source": [
        "dictionary_values = {'YA': bmap2_3ya, 'AD':bmap2_3ad}\n",
        "summary_df = pd.DataFrame(dictionary_values)\n",
        "summary_df.describe()"
      ],
      "metadata": {
        "colab": {
          "base_uri": "https://localhost:8080/",
          "height": 300
        },
        "id": "5cWMi6rvteth",
        "outputId": "4131fd77-07a5-4bae-9fc3-69b845db65de"
      },
      "execution_count": null,
      "outputs": [
        {
          "output_type": "execute_result",
          "data": {
            "text/plain": [
              "                  YA             AD\n",
              "count  592895.000000  592895.000000\n",
              "mean        0.184045       0.068333\n",
              "std         4.413037       3.392045\n",
              "min      -129.489010    -131.767059\n",
              "25%         0.000000       0.000000\n",
              "50%         0.000000       0.000000\n",
              "75%         0.000000       0.000000\n",
              "max       193.834653     175.091233"
            ],
            "text/html": [
              "\n",
              "  <div id=\"df-8341149d-eaf9-448b-ba41-74858db5c508\">\n",
              "    <div class=\"colab-df-container\">\n",
              "      <div>\n",
              "<style scoped>\n",
              "    .dataframe tbody tr th:only-of-type {\n",
              "        vertical-align: middle;\n",
              "    }\n",
              "\n",
              "    .dataframe tbody tr th {\n",
              "        vertical-align: top;\n",
              "    }\n",
              "\n",
              "    .dataframe thead th {\n",
              "        text-align: right;\n",
              "    }\n",
              "</style>\n",
              "<table border=\"1\" class=\"dataframe\">\n",
              "  <thead>\n",
              "    <tr style=\"text-align: right;\">\n",
              "      <th></th>\n",
              "      <th>YA</th>\n",
              "      <th>AD</th>\n",
              "    </tr>\n",
              "  </thead>\n",
              "  <tbody>\n",
              "    <tr>\n",
              "      <th>count</th>\n",
              "      <td>592895.000000</td>\n",
              "      <td>592895.000000</td>\n",
              "    </tr>\n",
              "    <tr>\n",
              "      <th>mean</th>\n",
              "      <td>0.184045</td>\n",
              "      <td>0.068333</td>\n",
              "    </tr>\n",
              "    <tr>\n",
              "      <th>std</th>\n",
              "      <td>4.413037</td>\n",
              "      <td>3.392045</td>\n",
              "    </tr>\n",
              "    <tr>\n",
              "      <th>min</th>\n",
              "      <td>-129.489010</td>\n",
              "      <td>-131.767059</td>\n",
              "    </tr>\n",
              "    <tr>\n",
              "      <th>25%</th>\n",
              "      <td>0.000000</td>\n",
              "      <td>0.000000</td>\n",
              "    </tr>\n",
              "    <tr>\n",
              "      <th>50%</th>\n",
              "      <td>0.000000</td>\n",
              "      <td>0.000000</td>\n",
              "    </tr>\n",
              "    <tr>\n",
              "      <th>75%</th>\n",
              "      <td>0.000000</td>\n",
              "      <td>0.000000</td>\n",
              "    </tr>\n",
              "    <tr>\n",
              "      <th>max</th>\n",
              "      <td>193.834653</td>\n",
              "      <td>175.091233</td>\n",
              "    </tr>\n",
              "  </tbody>\n",
              "</table>\n",
              "</div>\n",
              "      <button class=\"colab-df-convert\" onclick=\"convertToInteractive('df-8341149d-eaf9-448b-ba41-74858db5c508')\"\n",
              "              title=\"Convert this dataframe to an interactive table.\"\n",
              "              style=\"display:none;\">\n",
              "        \n",
              "  <svg xmlns=\"http://www.w3.org/2000/svg\" height=\"24px\"viewBox=\"0 0 24 24\"\n",
              "       width=\"24px\">\n",
              "    <path d=\"M0 0h24v24H0V0z\" fill=\"none\"/>\n",
              "    <path d=\"M18.56 5.44l.94 2.06.94-2.06 2.06-.94-2.06-.94-.94-2.06-.94 2.06-2.06.94zm-11 1L8.5 8.5l.94-2.06 2.06-.94-2.06-.94L8.5 2.5l-.94 2.06-2.06.94zm10 10l.94 2.06.94-2.06 2.06-.94-2.06-.94-.94-2.06-.94 2.06-2.06.94z\"/><path d=\"M17.41 7.96l-1.37-1.37c-.4-.4-.92-.59-1.43-.59-.52 0-1.04.2-1.43.59L10.3 9.45l-7.72 7.72c-.78.78-.78 2.05 0 2.83L4 21.41c.39.39.9.59 1.41.59.51 0 1.02-.2 1.41-.59l7.78-7.78 2.81-2.81c.8-.78.8-2.07 0-2.86zM5.41 20L4 18.59l7.72-7.72 1.47 1.35L5.41 20z\"/>\n",
              "  </svg>\n",
              "      </button>\n",
              "      \n",
              "  <style>\n",
              "    .colab-df-container {\n",
              "      display:flex;\n",
              "      flex-wrap:wrap;\n",
              "      gap: 12px;\n",
              "    }\n",
              "\n",
              "    .colab-df-convert {\n",
              "      background-color: #E8F0FE;\n",
              "      border: none;\n",
              "      border-radius: 50%;\n",
              "      cursor: pointer;\n",
              "      display: none;\n",
              "      fill: #1967D2;\n",
              "      height: 32px;\n",
              "      padding: 0 0 0 0;\n",
              "      width: 32px;\n",
              "    }\n",
              "\n",
              "    .colab-df-convert:hover {\n",
              "      background-color: #E2EBFA;\n",
              "      box-shadow: 0px 1px 2px rgba(60, 64, 67, 0.3), 0px 1px 3px 1px rgba(60, 64, 67, 0.15);\n",
              "      fill: #174EA6;\n",
              "    }\n",
              "\n",
              "    [theme=dark] .colab-df-convert {\n",
              "      background-color: #3B4455;\n",
              "      fill: #D2E3FC;\n",
              "    }\n",
              "\n",
              "    [theme=dark] .colab-df-convert:hover {\n",
              "      background-color: #434B5C;\n",
              "      box-shadow: 0px 1px 3px 1px rgba(0, 0, 0, 0.15);\n",
              "      filter: drop-shadow(0px 1px 2px rgba(0, 0, 0, 0.3));\n",
              "      fill: #FFFFFF;\n",
              "    }\n",
              "  </style>\n",
              "\n",
              "      <script>\n",
              "        const buttonEl =\n",
              "          document.querySelector('#df-8341149d-eaf9-448b-ba41-74858db5c508 button.colab-df-convert');\n",
              "        buttonEl.style.display =\n",
              "          google.colab.kernel.accessAllowed ? 'block' : 'none';\n",
              "\n",
              "        async function convertToInteractive(key) {\n",
              "          const element = document.querySelector('#df-8341149d-eaf9-448b-ba41-74858db5c508');\n",
              "          const dataTable =\n",
              "            await google.colab.kernel.invokeFunction('convertToInteractive',\n",
              "                                                     [key], {});\n",
              "          if (!dataTable) return;\n",
              "\n",
              "          const docLinkHtml = 'Like what you see? Visit the ' +\n",
              "            '<a target=\"_blank\" href=https://colab.research.google.com/notebooks/data_table.ipynb>data table notebook</a>'\n",
              "            + ' to learn more about interactive tables.';\n",
              "          element.innerHTML = '';\n",
              "          dataTable['output_type'] = 'display_data';\n",
              "          await google.colab.output.renderOutput(dataTable, element);\n",
              "          const docLink = document.createElement('div');\n",
              "          docLink.innerHTML = docLinkHtml;\n",
              "          element.appendChild(docLink);\n",
              "        }\n",
              "      </script>\n",
              "    </div>\n",
              "  </div>\n",
              "  "
            ]
          },
          "metadata": {},
          "execution_count": 95
        }
      ]
    },
    {
      "cell_type": "code",
      "source": [
        "t_value, p_value = stats.ttest_ind(bmap2_3ya, bmap2_3ad)\n",
        "\n",
        "print(f'Test statistic is {t_value}')\n",
        "\n",
        "print(f'p-value for two tailed test is {p_value}')\n",
        "\n",
        "alpha = 0.05\n",
        "\n",
        "if p_value <= alpha:\n",
        "  print(f'Conclusion: Since p-value  {p_value}  < alpha {alpha}, We reject the null hypothesis H0. \\\n",
        "  \\nSo we conclude Young Adults and Adolescents may not regulate the same at the Ant. Cingulate Cortex. \\\n",
        "  \\ni.e., μ1 = μ2 at {alpha} level of significance.')\n",
        "\n",
        "else:\n",
        "\n",
        "  print(f'Conclusion: Since p-value{p_value} > alpha {alpha},We do not reject the null hypothesis H0.\\\n",
        "  \\n and therefore the Ant. Cingulate Cortex may play an equal role in regulation for both Young Adults and \\\n",
        "  \\n Adolescents')"
      ],
      "metadata": {
        "colab": {
          "base_uri": "https://localhost:8080/"
        },
        "id": "Ed7FEnQslFP5",
        "outputId": "bb7cc1aa-f4c1-4611-965f-24806fd83af5"
      },
      "execution_count": null,
      "outputs": [
        {
          "output_type": "stream",
          "name": "stdout",
          "text": [
            "Test statistic is 16.00730451382578\n",
            "p-value for two tailed test is 1.1522281988282325e-57\n",
            "Conclusion: Since p-value  1.1522281988282325e-57  < alpha 0.05, We reject the null hypothesis H0.   \n",
            "So we conclude Young Adults and Adolescents may not regulate the same at the Ant. Cingulate Cortex.   \n",
            "i.e., μ1 = μ2 at 0.05 level of significance.\n"
          ]
        }
      ]
    },
    {
      "cell_type": "markdown",
      "source": [
        ">> Compare ROI"
      ],
      "metadata": {
        "id": "0QR4fJoCU55F"
      }
    },
    {
      "cell_type": "code",
      "source": [
        "dictionary_values = {'YA': ya_acc, 'AD':as_acc}\n",
        "summary_df = pd.DataFrame(dictionary_values)\n",
        "summary_df.describe()"
      ],
      "metadata": {
        "colab": {
          "base_uri": "https://localhost:8080/",
          "height": 300
        },
        "id": "16iilcCChZnt",
        "outputId": "e5db55f1-8809-4643-aed3-8af4a3e5410a"
      },
      "execution_count": null,
      "outputs": [
        {
          "output_type": "execute_result",
          "data": {
            "text/plain": [
              "                  YA             AD\n",
              "count  592895.000000  592895.000000\n",
              "mean        0.087415       0.019391\n",
              "std         2.845394       1.922507\n",
              "min      -114.438557    -111.246738\n",
              "25%         0.000000       0.000000\n",
              "50%         0.000000       0.000000\n",
              "75%         0.000000       0.000000\n",
              "max       200.427386      86.794137"
            ],
            "text/html": [
              "\n",
              "  <div id=\"df-66865d7b-d433-4680-a148-03cb129eae62\">\n",
              "    <div class=\"colab-df-container\">\n",
              "      <div>\n",
              "<style scoped>\n",
              "    .dataframe tbody tr th:only-of-type {\n",
              "        vertical-align: middle;\n",
              "    }\n",
              "\n",
              "    .dataframe tbody tr th {\n",
              "        vertical-align: top;\n",
              "    }\n",
              "\n",
              "    .dataframe thead th {\n",
              "        text-align: right;\n",
              "    }\n",
              "</style>\n",
              "<table border=\"1\" class=\"dataframe\">\n",
              "  <thead>\n",
              "    <tr style=\"text-align: right;\">\n",
              "      <th></th>\n",
              "      <th>YA</th>\n",
              "      <th>AD</th>\n",
              "    </tr>\n",
              "  </thead>\n",
              "  <tbody>\n",
              "    <tr>\n",
              "      <th>count</th>\n",
              "      <td>592895.000000</td>\n",
              "      <td>592895.000000</td>\n",
              "    </tr>\n",
              "    <tr>\n",
              "      <th>mean</th>\n",
              "      <td>0.087415</td>\n",
              "      <td>0.019391</td>\n",
              "    </tr>\n",
              "    <tr>\n",
              "      <th>std</th>\n",
              "      <td>2.845394</td>\n",
              "      <td>1.922507</td>\n",
              "    </tr>\n",
              "    <tr>\n",
              "      <th>min</th>\n",
              "      <td>-114.438557</td>\n",
              "      <td>-111.246738</td>\n",
              "    </tr>\n",
              "    <tr>\n",
              "      <th>25%</th>\n",
              "      <td>0.000000</td>\n",
              "      <td>0.000000</td>\n",
              "    </tr>\n",
              "    <tr>\n",
              "      <th>50%</th>\n",
              "      <td>0.000000</td>\n",
              "      <td>0.000000</td>\n",
              "    </tr>\n",
              "    <tr>\n",
              "      <th>75%</th>\n",
              "      <td>0.000000</td>\n",
              "      <td>0.000000</td>\n",
              "    </tr>\n",
              "    <tr>\n",
              "      <th>max</th>\n",
              "      <td>200.427386</td>\n",
              "      <td>86.794137</td>\n",
              "    </tr>\n",
              "  </tbody>\n",
              "</table>\n",
              "</div>\n",
              "      <button class=\"colab-df-convert\" onclick=\"convertToInteractive('df-66865d7b-d433-4680-a148-03cb129eae62')\"\n",
              "              title=\"Convert this dataframe to an interactive table.\"\n",
              "              style=\"display:none;\">\n",
              "        \n",
              "  <svg xmlns=\"http://www.w3.org/2000/svg\" height=\"24px\"viewBox=\"0 0 24 24\"\n",
              "       width=\"24px\">\n",
              "    <path d=\"M0 0h24v24H0V0z\" fill=\"none\"/>\n",
              "    <path d=\"M18.56 5.44l.94 2.06.94-2.06 2.06-.94-2.06-.94-.94-2.06-.94 2.06-2.06.94zm-11 1L8.5 8.5l.94-2.06 2.06-.94-2.06-.94L8.5 2.5l-.94 2.06-2.06.94zm10 10l.94 2.06.94-2.06 2.06-.94-2.06-.94-.94-2.06-.94 2.06-2.06.94z\"/><path d=\"M17.41 7.96l-1.37-1.37c-.4-.4-.92-.59-1.43-.59-.52 0-1.04.2-1.43.59L10.3 9.45l-7.72 7.72c-.78.78-.78 2.05 0 2.83L4 21.41c.39.39.9.59 1.41.59.51 0 1.02-.2 1.41-.59l7.78-7.78 2.81-2.81c.8-.78.8-2.07 0-2.86zM5.41 20L4 18.59l7.72-7.72 1.47 1.35L5.41 20z\"/>\n",
              "  </svg>\n",
              "      </button>\n",
              "      \n",
              "  <style>\n",
              "    .colab-df-container {\n",
              "      display:flex;\n",
              "      flex-wrap:wrap;\n",
              "      gap: 12px;\n",
              "    }\n",
              "\n",
              "    .colab-df-convert {\n",
              "      background-color: #E8F0FE;\n",
              "      border: none;\n",
              "      border-radius: 50%;\n",
              "      cursor: pointer;\n",
              "      display: none;\n",
              "      fill: #1967D2;\n",
              "      height: 32px;\n",
              "      padding: 0 0 0 0;\n",
              "      width: 32px;\n",
              "    }\n",
              "\n",
              "    .colab-df-convert:hover {\n",
              "      background-color: #E2EBFA;\n",
              "      box-shadow: 0px 1px 2px rgba(60, 64, 67, 0.3), 0px 1px 3px 1px rgba(60, 64, 67, 0.15);\n",
              "      fill: #174EA6;\n",
              "    }\n",
              "\n",
              "    [theme=dark] .colab-df-convert {\n",
              "      background-color: #3B4455;\n",
              "      fill: #D2E3FC;\n",
              "    }\n",
              "\n",
              "    [theme=dark] .colab-df-convert:hover {\n",
              "      background-color: #434B5C;\n",
              "      box-shadow: 0px 1px 3px 1px rgba(0, 0, 0, 0.15);\n",
              "      filter: drop-shadow(0px 1px 2px rgba(0, 0, 0, 0.3));\n",
              "      fill: #FFFFFF;\n",
              "    }\n",
              "  </style>\n",
              "\n",
              "      <script>\n",
              "        const buttonEl =\n",
              "          document.querySelector('#df-66865d7b-d433-4680-a148-03cb129eae62 button.colab-df-convert');\n",
              "        buttonEl.style.display =\n",
              "          google.colab.kernel.accessAllowed ? 'block' : 'none';\n",
              "\n",
              "        async function convertToInteractive(key) {\n",
              "          const element = document.querySelector('#df-66865d7b-d433-4680-a148-03cb129eae62');\n",
              "          const dataTable =\n",
              "            await google.colab.kernel.invokeFunction('convertToInteractive',\n",
              "                                                     [key], {});\n",
              "          if (!dataTable) return;\n",
              "\n",
              "          const docLinkHtml = 'Like what you see? Visit the ' +\n",
              "            '<a target=\"_blank\" href=https://colab.research.google.com/notebooks/data_table.ipynb>data table notebook</a>'\n",
              "            + ' to learn more about interactive tables.';\n",
              "          element.innerHTML = '';\n",
              "          dataTable['output_type'] = 'display_data';\n",
              "          await google.colab.output.renderOutput(dataTable, element);\n",
              "          const docLink = document.createElement('div');\n",
              "          docLink.innerHTML = docLinkHtml;\n",
              "          element.appendChild(docLink);\n",
              "        }\n",
              "      </script>\n",
              "    </div>\n",
              "  </div>\n",
              "  "
            ]
          },
          "metadata": {},
          "execution_count": 97
        }
      ]
    },
    {
      "cell_type": "code",
      "source": [
        "# Compare ROI extected from whole brain model to the actual ROI trained on ROI; also compare ROI AD to ROI YA\n",
        "\n",
        "\n",
        "for groups in [[(\"Ant. Cingulate Cortex: Adolescent ROI on roi v Adolsecent ROI on WB\", as_acc, bmap2_3ad)], \n",
        "               [(\"Ant. Cingulate Cortex: Young Adult ROI on roi v ROI on WB\", ya_acc, bmap2_3ya)], \n",
        "               [(\"Ant. Cingulate Cortex: Adolescent v Young Adult\", as_acc, ya_acc)]]:\n",
        "  \n",
        "  for group, roi, roiwb in groups:\n",
        "\n",
        "    t_value, p_value = stats.ttest_ind(roi, roiwb)\n",
        "\n",
        "    print(f'Test statistic is {t_value}')\n",
        "\n",
        "    print(f'p-value for two tailed test is {p_value}')\n",
        "\n",
        "    alpha = 0.05\n",
        "\n",
        "    if p_value <= alpha:\n",
        "      print(f'{group} Conclusion: Since p-value  {p_value}  < alpha {alpha}, We reject the null hypothesis H0.')# \\\n",
        "      #\\nSo we conclude Young Adults and Adolescents may not regulate the same at the Anterior Insula. \\\n",
        "      #\\ni.e., μ1 = μ2 at {alpha} level of significance.')\n",
        "\n",
        "    else:\n",
        "\n",
        "      print(f'{group} Conclusion: Since p-value{p_value} > alpha {alpha},We do not reject the null hypothesis H0.')\n",
        "      #\\n and therefore the whole brain model may not capture the significance of the Anterior Insula for both Young Adults and \\\n",
        "      #\\n Adolescents')"
      ],
      "metadata": {
        "colab": {
          "base_uri": "https://localhost:8080/"
        },
        "id": "-KbYDXxRU7aa",
        "outputId": "76c1e8ac-f21d-41af-acb0-e668d05fc04d"
      },
      "execution_count": null,
      "outputs": [
        {
          "output_type": "stream",
          "name": "stdout",
          "text": [
            "Test statistic is -9.665537088107062\n",
            "p-value for two tailed test is 4.231928995393069e-22\n",
            "Ant. Cingulate Cortex: Adolescent ROI on roi v Adolsecent ROI on WB Conclusion: Since p-value  4.231928995393069e-22  < alpha 0.05, We reject the null hypothesis H0.\n",
            "Test statistic is -14.170105060205996\n",
            "p-value for two tailed test is 1.4149985848613655e-45\n",
            "Ant. Cingulate Cortex: Young Adult ROI on roi v ROI on WB Conclusion: Since p-value  1.4149985848613655e-45  < alpha 0.05, We reject the null hypothesis H0.\n",
            "Test statistic is -15.252899351931468\n",
            "p-value for two tailed test is 1.5930483772663191e-52\n",
            "Ant. Cingulate Cortex: Adolescent v Young Adult Conclusion: Since p-value  1.5930483772663191e-52  < alpha 0.05, We reject the null hypothesis H0.\n"
          ]
        }
      ]
    },
    {
      "cell_type": "markdown",
      "source": [
        "###Anterior Insula (Right) Analysis Between Adolescent and Young Adult 2 Sample t-test"
      ],
      "metadata": {
        "id": "VH_DnQ-nk2Tg"
      }
    },
    {
      "cell_type": "code",
      "source": [
        "# Load in the mask indices for mask overlay to create bmaps of a specific Region of interest\n",
        "roi_path_ind = 1 # get mask data for region of interest\n",
        "mask_roi = 'anterior_insula_aal' #'acc_aal', 'anterior_insula_aal', 'mPFC', 'nacc_aal', \n",
        "indices_mask_roi = load_mask_indices(data_path_dict, mask_roi, roi_path_ind)\n",
        "\n",
        "previous_bmap_ya = metric_ya['bmap2_3'][0]\n",
        "bmap2ya = previous_bmap_ya.reshape(79 * 95 * 79)\n",
        "bmap2_3ya = np.zeros((79, 95, 79))\n",
        "bmap2_3ya = bmap2_3ya.reshape(79 * 95 * 79)\n",
        "bmap2_3ya[indices_mask_roi] = bmap2ya[indices_mask_roi]\n",
        "\n",
        "bmap2_3ya"
      ],
      "metadata": {
        "colab": {
          "base_uri": "https://localhost:8080/"
        },
        "id": "RZsg9Wu6lFzh",
        "outputId": "dbee792b-d988-42a8-d9c9-fb525a3f361c"
      },
      "execution_count": null,
      "outputs": [
        {
          "output_type": "stream",
          "name": "stdout",
          "text": [
            "mask shape: (79, 95, 79)\n"
          ]
        },
        {
          "output_type": "execute_result",
          "data": {
            "text/plain": [
              "array([0., 0., 0., ..., 0., 0., 0.])"
            ]
          },
          "metadata": {},
          "execution_count": 99
        }
      ]
    },
    {
      "cell_type": "code",
      "source": [
        "# Load in the mask indices for mask overlay to create bmaps of a specific Region of interest\n",
        "roi_path_ind = 1 # get mask data for region of interest\n",
        "mask_roi = 'anterior_insula_aal' #'acc_aal', 'anterior_insula_aal', 'mPFC', 'nacc_aal', \n",
        "indices_mask_roi = load_mask_indices(data_path_dict, mask_roi, roi_path_ind)\n",
        "\n",
        "previous_bmap_ad = metric_ad['bmap2_3'][0]\n",
        "bmap2ad = previous_bmap_ad.reshape(79 * 95 * 79)\n",
        "bmap2_3ad = np.zeros((79, 95, 79))\n",
        "bmap2_3ad = bmap2_3ad.reshape(79 * 95 * 79)\n",
        "bmap2_3ad[indices_mask_roi] = bmap2ad[indices_mask_roi]\n",
        "\n",
        "bmap2_3ad"
      ],
      "metadata": {
        "colab": {
          "base_uri": "https://localhost:8080/"
        },
        "id": "P2bjDWiklF37",
        "outputId": "41610cad-5c24-49ed-dd31-cae55a3ce0e1"
      },
      "execution_count": null,
      "outputs": [
        {
          "output_type": "stream",
          "name": "stdout",
          "text": [
            "mask shape: (79, 95, 79)\n"
          ]
        },
        {
          "output_type": "execute_result",
          "data": {
            "text/plain": [
              "array([0., 0., 0., ..., 0., 0., 0.])"
            ]
          },
          "metadata": {},
          "execution_count": 100
        }
      ]
    },
    {
      "cell_type": "markdown",
      "source": [
        ">> Anterior Insula Summary"
      ],
      "metadata": {
        "id": "nOISMj-Jtp8_"
      }
    },
    {
      "cell_type": "code",
      "source": [
        "dictionary_values = {'YA': bmap2_3ya, 'AD':bmap2_3ad}\n",
        "summary_df = pd.DataFrame(dictionary_values)\n",
        "summary_df.describe()"
      ],
      "metadata": {
        "colab": {
          "base_uri": "https://localhost:8080/",
          "height": 300
        },
        "id": "qnYy1pqttqI0",
        "outputId": "70a66b4e-e985-4642-bc71-21830b8d7890"
      },
      "execution_count": null,
      "outputs": [
        {
          "output_type": "execute_result",
          "data": {
            "text/plain": [
              "                  YA             AD\n",
              "count  592895.000000  592895.000000\n",
              "mean        0.002755       0.002354\n",
              "std         0.826459       0.845693\n",
              "min       -89.954536    -108.797203\n",
              "25%         0.000000       0.000000\n",
              "50%         0.000000       0.000000\n",
              "75%         0.000000       0.000000\n",
              "max       105.864693     123.564931"
            ],
            "text/html": [
              "\n",
              "  <div id=\"df-cac831eb-a646-44e2-9b3e-970174b0dca4\">\n",
              "    <div class=\"colab-df-container\">\n",
              "      <div>\n",
              "<style scoped>\n",
              "    .dataframe tbody tr th:only-of-type {\n",
              "        vertical-align: middle;\n",
              "    }\n",
              "\n",
              "    .dataframe tbody tr th {\n",
              "        vertical-align: top;\n",
              "    }\n",
              "\n",
              "    .dataframe thead th {\n",
              "        text-align: right;\n",
              "    }\n",
              "</style>\n",
              "<table border=\"1\" class=\"dataframe\">\n",
              "  <thead>\n",
              "    <tr style=\"text-align: right;\">\n",
              "      <th></th>\n",
              "      <th>YA</th>\n",
              "      <th>AD</th>\n",
              "    </tr>\n",
              "  </thead>\n",
              "  <tbody>\n",
              "    <tr>\n",
              "      <th>count</th>\n",
              "      <td>592895.000000</td>\n",
              "      <td>592895.000000</td>\n",
              "    </tr>\n",
              "    <tr>\n",
              "      <th>mean</th>\n",
              "      <td>0.002755</td>\n",
              "      <td>0.002354</td>\n",
              "    </tr>\n",
              "    <tr>\n",
              "      <th>std</th>\n",
              "      <td>0.826459</td>\n",
              "      <td>0.845693</td>\n",
              "    </tr>\n",
              "    <tr>\n",
              "      <th>min</th>\n",
              "      <td>-89.954536</td>\n",
              "      <td>-108.797203</td>\n",
              "    </tr>\n",
              "    <tr>\n",
              "      <th>25%</th>\n",
              "      <td>0.000000</td>\n",
              "      <td>0.000000</td>\n",
              "    </tr>\n",
              "    <tr>\n",
              "      <th>50%</th>\n",
              "      <td>0.000000</td>\n",
              "      <td>0.000000</td>\n",
              "    </tr>\n",
              "    <tr>\n",
              "      <th>75%</th>\n",
              "      <td>0.000000</td>\n",
              "      <td>0.000000</td>\n",
              "    </tr>\n",
              "    <tr>\n",
              "      <th>max</th>\n",
              "      <td>105.864693</td>\n",
              "      <td>123.564931</td>\n",
              "    </tr>\n",
              "  </tbody>\n",
              "</table>\n",
              "</div>\n",
              "      <button class=\"colab-df-convert\" onclick=\"convertToInteractive('df-cac831eb-a646-44e2-9b3e-970174b0dca4')\"\n",
              "              title=\"Convert this dataframe to an interactive table.\"\n",
              "              style=\"display:none;\">\n",
              "        \n",
              "  <svg xmlns=\"http://www.w3.org/2000/svg\" height=\"24px\"viewBox=\"0 0 24 24\"\n",
              "       width=\"24px\">\n",
              "    <path d=\"M0 0h24v24H0V0z\" fill=\"none\"/>\n",
              "    <path d=\"M18.56 5.44l.94 2.06.94-2.06 2.06-.94-2.06-.94-.94-2.06-.94 2.06-2.06.94zm-11 1L8.5 8.5l.94-2.06 2.06-.94-2.06-.94L8.5 2.5l-.94 2.06-2.06.94zm10 10l.94 2.06.94-2.06 2.06-.94-2.06-.94-.94-2.06-.94 2.06-2.06.94z\"/><path d=\"M17.41 7.96l-1.37-1.37c-.4-.4-.92-.59-1.43-.59-.52 0-1.04.2-1.43.59L10.3 9.45l-7.72 7.72c-.78.78-.78 2.05 0 2.83L4 21.41c.39.39.9.59 1.41.59.51 0 1.02-.2 1.41-.59l7.78-7.78 2.81-2.81c.8-.78.8-2.07 0-2.86zM5.41 20L4 18.59l7.72-7.72 1.47 1.35L5.41 20z\"/>\n",
              "  </svg>\n",
              "      </button>\n",
              "      \n",
              "  <style>\n",
              "    .colab-df-container {\n",
              "      display:flex;\n",
              "      flex-wrap:wrap;\n",
              "      gap: 12px;\n",
              "    }\n",
              "\n",
              "    .colab-df-convert {\n",
              "      background-color: #E8F0FE;\n",
              "      border: none;\n",
              "      border-radius: 50%;\n",
              "      cursor: pointer;\n",
              "      display: none;\n",
              "      fill: #1967D2;\n",
              "      height: 32px;\n",
              "      padding: 0 0 0 0;\n",
              "      width: 32px;\n",
              "    }\n",
              "\n",
              "    .colab-df-convert:hover {\n",
              "      background-color: #E2EBFA;\n",
              "      box-shadow: 0px 1px 2px rgba(60, 64, 67, 0.3), 0px 1px 3px 1px rgba(60, 64, 67, 0.15);\n",
              "      fill: #174EA6;\n",
              "    }\n",
              "\n",
              "    [theme=dark] .colab-df-convert {\n",
              "      background-color: #3B4455;\n",
              "      fill: #D2E3FC;\n",
              "    }\n",
              "\n",
              "    [theme=dark] .colab-df-convert:hover {\n",
              "      background-color: #434B5C;\n",
              "      box-shadow: 0px 1px 3px 1px rgba(0, 0, 0, 0.15);\n",
              "      filter: drop-shadow(0px 1px 2px rgba(0, 0, 0, 0.3));\n",
              "      fill: #FFFFFF;\n",
              "    }\n",
              "  </style>\n",
              "\n",
              "      <script>\n",
              "        const buttonEl =\n",
              "          document.querySelector('#df-cac831eb-a646-44e2-9b3e-970174b0dca4 button.colab-df-convert');\n",
              "        buttonEl.style.display =\n",
              "          google.colab.kernel.accessAllowed ? 'block' : 'none';\n",
              "\n",
              "        async function convertToInteractive(key) {\n",
              "          const element = document.querySelector('#df-cac831eb-a646-44e2-9b3e-970174b0dca4');\n",
              "          const dataTable =\n",
              "            await google.colab.kernel.invokeFunction('convertToInteractive',\n",
              "                                                     [key], {});\n",
              "          if (!dataTable) return;\n",
              "\n",
              "          const docLinkHtml = 'Like what you see? Visit the ' +\n",
              "            '<a target=\"_blank\" href=https://colab.research.google.com/notebooks/data_table.ipynb>data table notebook</a>'\n",
              "            + ' to learn more about interactive tables.';\n",
              "          element.innerHTML = '';\n",
              "          dataTable['output_type'] = 'display_data';\n",
              "          await google.colab.output.renderOutput(dataTable, element);\n",
              "          const docLink = document.createElement('div');\n",
              "          docLink.innerHTML = docLinkHtml;\n",
              "          element.appendChild(docLink);\n",
              "        }\n",
              "      </script>\n",
              "    </div>\n",
              "  </div>\n",
              "  "
            ]
          },
          "metadata": {},
          "execution_count": 101
        }
      ]
    },
    {
      "cell_type": "code",
      "source": [
        "t_value, p_value = stats.ttest_ind(bmap2_3ya, bmap2_3ad)\n",
        "\n",
        "print(f'Test statistic is {t_value}')\n",
        "\n",
        "print(f'p-value for two tailed test is {p_value}')\n",
        "\n",
        "alpha = 0.05\n",
        "\n",
        "if p_value <= alpha:\n",
        "  print(f'Conclusion: Since p-value  {p_value}  < alpha {alpha}, We reject the null hypothesis H0. \\\n",
        "  \\nSo we conclude Young Adults and Adolescents may not regulate the same at the Anterior Insula. \\\n",
        "  \\ni.e., μ1 = μ2 at {alpha} level of significance.')\n",
        "\n",
        "else:\n",
        "\n",
        "  print(f'Conclusion: Since p-value{p_value} > alpha {alpha},We do not reject the null hypothesis H0.\\\n",
        "  \\n and therefore the Anterior Insula may play an equal role in regulation for both Young Adults and \\\n",
        "  \\n Adolescents')"
      ],
      "metadata": {
        "colab": {
          "base_uri": "https://localhost:8080/"
        },
        "id": "AlK53tBxlF8X",
        "outputId": "d3193c45-30ff-4998-fb8d-714a2164eb6c"
      },
      "execution_count": null,
      "outputs": [
        {
          "output_type": "stream",
          "name": "stdout",
          "text": [
            "Test statistic is 0.26110837009428334\n",
            "p-value for two tailed test is 0.794008982469996\n",
            "Conclusion: Since p-value0.794008982469996 > alpha 0.05,We do not reject the null hypothesis H0.  \n",
            " and therefore the Anterior Insula may play an equal role in regulation for both Young Adults and   \n",
            " Adolescents\n"
          ]
        }
      ]
    },
    {
      "cell_type": "markdown",
      "source": [
        ">> Compare ROIs"
      ],
      "metadata": {
        "id": "e0uEEb62T7PZ"
      }
    },
    {
      "cell_type": "code",
      "source": [
        "dictionary_values = {'YA': ya_ai, 'AD':as_ai}\n",
        "summary_df = pd.DataFrame(dictionary_values)\n",
        "summary_df.describe()"
      ],
      "metadata": {
        "colab": {
          "base_uri": "https://localhost:8080/",
          "height": 300
        },
        "id": "AOHRXlHlhGVA",
        "outputId": "3d24d138-f87b-4786-b9d8-794036c2ef4e"
      },
      "execution_count": null,
      "outputs": [
        {
          "output_type": "execute_result",
          "data": {
            "text/plain": [
              "                  YA             AD\n",
              "count  592895.000000  592895.000000\n",
              "mean        0.004822       0.000844\n",
              "std         0.535734       0.370333\n",
              "min       -56.906490     -54.966174\n",
              "25%         0.000000       0.000000\n",
              "50%         0.000000       0.000000\n",
              "75%         0.000000       0.000000\n",
              "max        76.517413      47.493690"
            ],
            "text/html": [
              "\n",
              "  <div id=\"df-e886f8c9-966a-4ea9-873c-f93ab50d0d99\">\n",
              "    <div class=\"colab-df-container\">\n",
              "      <div>\n",
              "<style scoped>\n",
              "    .dataframe tbody tr th:only-of-type {\n",
              "        vertical-align: middle;\n",
              "    }\n",
              "\n",
              "    .dataframe tbody tr th {\n",
              "        vertical-align: top;\n",
              "    }\n",
              "\n",
              "    .dataframe thead th {\n",
              "        text-align: right;\n",
              "    }\n",
              "</style>\n",
              "<table border=\"1\" class=\"dataframe\">\n",
              "  <thead>\n",
              "    <tr style=\"text-align: right;\">\n",
              "      <th></th>\n",
              "      <th>YA</th>\n",
              "      <th>AD</th>\n",
              "    </tr>\n",
              "  </thead>\n",
              "  <tbody>\n",
              "    <tr>\n",
              "      <th>count</th>\n",
              "      <td>592895.000000</td>\n",
              "      <td>592895.000000</td>\n",
              "    </tr>\n",
              "    <tr>\n",
              "      <th>mean</th>\n",
              "      <td>0.004822</td>\n",
              "      <td>0.000844</td>\n",
              "    </tr>\n",
              "    <tr>\n",
              "      <th>std</th>\n",
              "      <td>0.535734</td>\n",
              "      <td>0.370333</td>\n",
              "    </tr>\n",
              "    <tr>\n",
              "      <th>min</th>\n",
              "      <td>-56.906490</td>\n",
              "      <td>-54.966174</td>\n",
              "    </tr>\n",
              "    <tr>\n",
              "      <th>25%</th>\n",
              "      <td>0.000000</td>\n",
              "      <td>0.000000</td>\n",
              "    </tr>\n",
              "    <tr>\n",
              "      <th>50%</th>\n",
              "      <td>0.000000</td>\n",
              "      <td>0.000000</td>\n",
              "    </tr>\n",
              "    <tr>\n",
              "      <th>75%</th>\n",
              "      <td>0.000000</td>\n",
              "      <td>0.000000</td>\n",
              "    </tr>\n",
              "    <tr>\n",
              "      <th>max</th>\n",
              "      <td>76.517413</td>\n",
              "      <td>47.493690</td>\n",
              "    </tr>\n",
              "  </tbody>\n",
              "</table>\n",
              "</div>\n",
              "      <button class=\"colab-df-convert\" onclick=\"convertToInteractive('df-e886f8c9-966a-4ea9-873c-f93ab50d0d99')\"\n",
              "              title=\"Convert this dataframe to an interactive table.\"\n",
              "              style=\"display:none;\">\n",
              "        \n",
              "  <svg xmlns=\"http://www.w3.org/2000/svg\" height=\"24px\"viewBox=\"0 0 24 24\"\n",
              "       width=\"24px\">\n",
              "    <path d=\"M0 0h24v24H0V0z\" fill=\"none\"/>\n",
              "    <path d=\"M18.56 5.44l.94 2.06.94-2.06 2.06-.94-2.06-.94-.94-2.06-.94 2.06-2.06.94zm-11 1L8.5 8.5l.94-2.06 2.06-.94-2.06-.94L8.5 2.5l-.94 2.06-2.06.94zm10 10l.94 2.06.94-2.06 2.06-.94-2.06-.94-.94-2.06-.94 2.06-2.06.94z\"/><path d=\"M17.41 7.96l-1.37-1.37c-.4-.4-.92-.59-1.43-.59-.52 0-1.04.2-1.43.59L10.3 9.45l-7.72 7.72c-.78.78-.78 2.05 0 2.83L4 21.41c.39.39.9.59 1.41.59.51 0 1.02-.2 1.41-.59l7.78-7.78 2.81-2.81c.8-.78.8-2.07 0-2.86zM5.41 20L4 18.59l7.72-7.72 1.47 1.35L5.41 20z\"/>\n",
              "  </svg>\n",
              "      </button>\n",
              "      \n",
              "  <style>\n",
              "    .colab-df-container {\n",
              "      display:flex;\n",
              "      flex-wrap:wrap;\n",
              "      gap: 12px;\n",
              "    }\n",
              "\n",
              "    .colab-df-convert {\n",
              "      background-color: #E8F0FE;\n",
              "      border: none;\n",
              "      border-radius: 50%;\n",
              "      cursor: pointer;\n",
              "      display: none;\n",
              "      fill: #1967D2;\n",
              "      height: 32px;\n",
              "      padding: 0 0 0 0;\n",
              "      width: 32px;\n",
              "    }\n",
              "\n",
              "    .colab-df-convert:hover {\n",
              "      background-color: #E2EBFA;\n",
              "      box-shadow: 0px 1px 2px rgba(60, 64, 67, 0.3), 0px 1px 3px 1px rgba(60, 64, 67, 0.15);\n",
              "      fill: #174EA6;\n",
              "    }\n",
              "\n",
              "    [theme=dark] .colab-df-convert {\n",
              "      background-color: #3B4455;\n",
              "      fill: #D2E3FC;\n",
              "    }\n",
              "\n",
              "    [theme=dark] .colab-df-convert:hover {\n",
              "      background-color: #434B5C;\n",
              "      box-shadow: 0px 1px 3px 1px rgba(0, 0, 0, 0.15);\n",
              "      filter: drop-shadow(0px 1px 2px rgba(0, 0, 0, 0.3));\n",
              "      fill: #FFFFFF;\n",
              "    }\n",
              "  </style>\n",
              "\n",
              "      <script>\n",
              "        const buttonEl =\n",
              "          document.querySelector('#df-e886f8c9-966a-4ea9-873c-f93ab50d0d99 button.colab-df-convert');\n",
              "        buttonEl.style.display =\n",
              "          google.colab.kernel.accessAllowed ? 'block' : 'none';\n",
              "\n",
              "        async function convertToInteractive(key) {\n",
              "          const element = document.querySelector('#df-e886f8c9-966a-4ea9-873c-f93ab50d0d99');\n",
              "          const dataTable =\n",
              "            await google.colab.kernel.invokeFunction('convertToInteractive',\n",
              "                                                     [key], {});\n",
              "          if (!dataTable) return;\n",
              "\n",
              "          const docLinkHtml = 'Like what you see? Visit the ' +\n",
              "            '<a target=\"_blank\" href=https://colab.research.google.com/notebooks/data_table.ipynb>data table notebook</a>'\n",
              "            + ' to learn more about interactive tables.';\n",
              "          element.innerHTML = '';\n",
              "          dataTable['output_type'] = 'display_data';\n",
              "          await google.colab.output.renderOutput(dataTable, element);\n",
              "          const docLink = document.createElement('div');\n",
              "          docLink.innerHTML = docLinkHtml;\n",
              "          element.appendChild(docLink);\n",
              "        }\n",
              "      </script>\n",
              "    </div>\n",
              "  </div>\n",
              "  "
            ]
          },
          "metadata": {},
          "execution_count": 103
        }
      ]
    },
    {
      "cell_type": "code",
      "source": [
        "# Compare ROI extected from whole brain model to the actual ROI trained on ROI; also compare ROI AD to ROI YA\n",
        "\n",
        "for groups in [[(\"Anterior Insula: Adolescent ROI on roi v Adolsecent ROI on WB\", as_ai, bmap2_3ad)], \n",
        "               [(\"Anterior Insula: Young Adult ROI on roi v ROI on WB\", ya_ai, bmap2_3ya)], \n",
        "               [(\"Anterior Insula: Adolescent v Young Adult\", as_ai, ya_ai)]]:\n",
        "  \n",
        "  for group, roi, roiwb in groups:\n",
        "\n",
        "    t_value, p_value = stats.ttest_ind(roi, roiwb)\n",
        "\n",
        "    print(f'Test statistic is {t_value}')\n",
        "\n",
        "    print(f'p-value for two tailed test is {p_value}')\n",
        "\n",
        "    alpha = 0.05\n",
        "\n",
        "    if p_value <= alpha:\n",
        "      print(f'{group} Conclusion: Since p-value  {p_value}  < alpha {alpha}, We reject the null hypothesis H0.')# \\\n",
        "      #\\nSo we conclude Young Adults and Adolescents may not regulate the same at the Anterior Insula. \\\n",
        "      #\\ni.e., μ1 = μ2 at {alpha} level of significance.')\n",
        "\n",
        "    else:\n",
        "\n",
        "      print(f'{group} Conclusion: Since p-value{p_value} > alpha {alpha},We do not reject the null hypothesis H0.')\n",
        "      #\\n and therefore the whole brain model may not capture the significance of the Anterior Insula for both Young Adults and \\\n",
        "      #\\n Adolescents')"
      ],
      "metadata": {
        "colab": {
          "base_uri": "https://localhost:8080/"
        },
        "id": "kaz-oApJU1ZP",
        "outputId": "86549e53-2cea-44ff-8d4a-91b16445466b"
      },
      "execution_count": null,
      "outputs": [
        {
          "output_type": "stream",
          "name": "stdout",
          "text": [
            "Test statistic is -1.2594990036590081\n",
            "p-value for two tailed test is 0.20785039778226308\n",
            "Anterior Insula: Adolescent ROI on roi v Adolsecent ROI on WB Conclusion: Since p-value0.20785039778226308 > alpha 0.05,We do not reject the null hypothesis H0.\n",
            "Test statistic is 1.6156799811654987\n",
            "p-value for two tailed test is 0.1061637874118177\n",
            "Anterior Insula: Young Adult ROI on roi v ROI on WB Conclusion: Since p-value0.1061637874118177 > alpha 0.05,We do not reject the null hypothesis H0.\n",
            "Test statistic is -4.7028609836986455\n",
            "p-value for two tailed test is 2.565699092117999e-06\n",
            "Anterior Insula: Adolescent v Young Adult Conclusion: Since p-value  2.565699092117999e-06  < alpha 0.05, We reject the null hypothesis H0.\n"
          ]
        }
      ]
    },
    {
      "cell_type": "markdown",
      "source": [
        "###Create Tables"
      ],
      "metadata": {
        "id": "gIL1mi-wnXCT"
      }
    },
    {
      "cell_type": "code",
      "source": [
        "import pandas as pd\n",
        "dictionary = {\"y\": {\"Region\": 'Whole Brain Beta Maps', \"Test Statistic\":62.00712, \"p-value\":0.0, \"alpha\":0.5, \"Hypothesis\": \"Reject Null H0\"},\n",
        "              \"yf\": {\"Region\": \"Medial Prefrontal Cortex from Whole Brain Beta Map\", \"Test Statistic\":-4.13170, \"p-value\":'3.6011e-5', \"alpha\":0.5,\"Hypothesis\": \"Reject Null H0\"},\n",
        "              \"hgfj\": {\"Region\":\"Nucleus Accumbens from Whole Brain Beta Map\",\"Test Statistic\":-1.44904, \"p-value\": 0.14733, \"alpha\":0.5, \"Hypothesis\": \"Fail to Reject Null H0\"},\n",
        "              \"fdh\": {\"Region\":\"Anterior Cingulate Cortex from Whole Brain Beta Map\",\"Test Statistic\":16.00730, \"p-value\":'1.15223e-57', \"alpha\":0.5, \"Hypothesis\": \"Reject Null H0\"},\n",
        "              \"hfg\": {\"Region\":\"Anterior Insula (Right) from Whole Brain Beta Map\",\"Test Statistic\":0.26111, \"p-value\":0.79401, \"alpha\":0.5, \"Hypothesis\": \"Fail to Reject Null H0\"}\n",
        "              }\n",
        "\n",
        "df = pd.DataFrame(dictionary)\n",
        "dff= df.T"
      ],
      "metadata": {
        "id": "nFtukYO8nWfC"
      },
      "execution_count": null,
      "outputs": []
    },
    {
      "cell_type": "code",
      "source": [
        "import plotly.graph_objects as go\n",
        "import pandas as pd\n",
        "import plotly.io as pio\n",
        "\n",
        "fig = go.Figure(data=[go.Table(\n",
        "    header=dict(values=dff.columns,\n",
        "                fill_color='#96c6e2',\n",
        "                align='center'),\n",
        "    cells=dict(values=[dff['Region'],dff['Test Statistic'], dff['p-value'], dff['alpha'],dff['Hypothesis']],\n",
        "               fill_color='#eaeaf2',\n",
        "               align='left'))\n",
        "])\n",
        "\n",
        "fig.update_layout(\n",
        "    height=650,\n",
        "    width = 800,\n",
        "    title_text=\"Two Tailed T-Test Between Beta Maps for Young Adults and Adolescents\",\n",
        "    title_x=0.5\n",
        ")\n",
        "\n",
        "fig.show()"
      ],
      "metadata": {
        "colab": {
          "base_uri": "https://localhost:8080/",
          "height": 667
        },
        "id": "_K62_80lpqvR",
        "outputId": "e0c2c48c-f119-4396-c85f-9a8ecc62ecbe"
      },
      "execution_count": null,
      "outputs": [
        {
          "output_type": "display_data",
          "data": {
            "text/html": [
              "<html>\n",
              "<head><meta charset=\"utf-8\" /></head>\n",
              "<body>\n",
              "    <div>            <script src=\"https://cdnjs.cloudflare.com/ajax/libs/mathjax/2.7.5/MathJax.js?config=TeX-AMS-MML_SVG\"></script><script type=\"text/javascript\">if (window.MathJax) {MathJax.Hub.Config({SVG: {font: \"STIX-Web\"}});}</script>                <script type=\"text/javascript\">window.PlotlyConfig = {MathJaxConfig: 'local'};</script>\n",
              "        <script src=\"https://cdn.plot.ly/plotly-2.8.3.min.js\"></script>                <div id=\"f6561b67-1042-441d-94c9-6666b3a265ae\" class=\"plotly-graph-div\" style=\"height:650px; width:800px;\"></div>            <script type=\"text/javascript\">                                    window.PLOTLYENV=window.PLOTLYENV || {};                                    if (document.getElementById(\"f6561b67-1042-441d-94c9-6666b3a265ae\")) {                    Plotly.newPlot(                        \"f6561b67-1042-441d-94c9-6666b3a265ae\",                        [{\"cells\":{\"align\":\"left\",\"fill\":{\"color\":\"#eaeaf2\"},\"values\":[[\"Whole Brain Beta Maps\",\"Medial Prefrontal Cortex from Whole Brain Beta Map\",\"Nucleus Accumbens from Whole Brain Beta Map\",\"Anterior Cingulate Cortex from Whole Brain Beta Map\",\"Anterior Insula (Right) from Whole Brain Beta Map\"],[62.00712,-4.1317,-1.44904,16.0073,0.26111],[0.0,\"3.6011e-5\",0.14733,\"1.15223e-57\",0.79401],[0.5,0.5,0.5,0.5,0.5],[\"Reject Null H0\",\"Reject Null H0\",\"Fail to Reject Null H0\",\"Reject Null H0\",\"Fail to Reject Null H0\"]]},\"header\":{\"align\":\"center\",\"fill\":{\"color\":\"#96c6e2\"},\"values\":[\"Region\",\"Test Statistic\",\"p-value\",\"alpha\",\"Hypothesis\"]},\"type\":\"table\"}],                        {\"template\":{\"data\":{\"bar\":[{\"error_x\":{\"color\":\"#2a3f5f\"},\"error_y\":{\"color\":\"#2a3f5f\"},\"marker\":{\"line\":{\"color\":\"#E5ECF6\",\"width\":0.5},\"pattern\":{\"fillmode\":\"overlay\",\"size\":10,\"solidity\":0.2}},\"type\":\"bar\"}],\"barpolar\":[{\"marker\":{\"line\":{\"color\":\"#E5ECF6\",\"width\":0.5},\"pattern\":{\"fillmode\":\"overlay\",\"size\":10,\"solidity\":0.2}},\"type\":\"barpolar\"}],\"carpet\":[{\"aaxis\":{\"endlinecolor\":\"#2a3f5f\",\"gridcolor\":\"white\",\"linecolor\":\"white\",\"minorgridcolor\":\"white\",\"startlinecolor\":\"#2a3f5f\"},\"baxis\":{\"endlinecolor\":\"#2a3f5f\",\"gridcolor\":\"white\",\"linecolor\":\"white\",\"minorgridcolor\":\"white\",\"startlinecolor\":\"#2a3f5f\"},\"type\":\"carpet\"}],\"choropleth\":[{\"colorbar\":{\"outlinewidth\":0,\"ticks\":\"\"},\"type\":\"choropleth\"}],\"contour\":[{\"colorbar\":{\"outlinewidth\":0,\"ticks\":\"\"},\"colorscale\":[[0.0,\"#0d0887\"],[0.1111111111111111,\"#46039f\"],[0.2222222222222222,\"#7201a8\"],[0.3333333333333333,\"#9c179e\"],[0.4444444444444444,\"#bd3786\"],[0.5555555555555556,\"#d8576b\"],[0.6666666666666666,\"#ed7953\"],[0.7777777777777778,\"#fb9f3a\"],[0.8888888888888888,\"#fdca26\"],[1.0,\"#f0f921\"]],\"type\":\"contour\"}],\"contourcarpet\":[{\"colorbar\":{\"outlinewidth\":0,\"ticks\":\"\"},\"type\":\"contourcarpet\"}],\"heatmap\":[{\"colorbar\":{\"outlinewidth\":0,\"ticks\":\"\"},\"colorscale\":[[0.0,\"#0d0887\"],[0.1111111111111111,\"#46039f\"],[0.2222222222222222,\"#7201a8\"],[0.3333333333333333,\"#9c179e\"],[0.4444444444444444,\"#bd3786\"],[0.5555555555555556,\"#d8576b\"],[0.6666666666666666,\"#ed7953\"],[0.7777777777777778,\"#fb9f3a\"],[0.8888888888888888,\"#fdca26\"],[1.0,\"#f0f921\"]],\"type\":\"heatmap\"}],\"heatmapgl\":[{\"colorbar\":{\"outlinewidth\":0,\"ticks\":\"\"},\"colorscale\":[[0.0,\"#0d0887\"],[0.1111111111111111,\"#46039f\"],[0.2222222222222222,\"#7201a8\"],[0.3333333333333333,\"#9c179e\"],[0.4444444444444444,\"#bd3786\"],[0.5555555555555556,\"#d8576b\"],[0.6666666666666666,\"#ed7953\"],[0.7777777777777778,\"#fb9f3a\"],[0.8888888888888888,\"#fdca26\"],[1.0,\"#f0f921\"]],\"type\":\"heatmapgl\"}],\"histogram\":[{\"marker\":{\"pattern\":{\"fillmode\":\"overlay\",\"size\":10,\"solidity\":0.2}},\"type\":\"histogram\"}],\"histogram2d\":[{\"colorbar\":{\"outlinewidth\":0,\"ticks\":\"\"},\"colorscale\":[[0.0,\"#0d0887\"],[0.1111111111111111,\"#46039f\"],[0.2222222222222222,\"#7201a8\"],[0.3333333333333333,\"#9c179e\"],[0.4444444444444444,\"#bd3786\"],[0.5555555555555556,\"#d8576b\"],[0.6666666666666666,\"#ed7953\"],[0.7777777777777778,\"#fb9f3a\"],[0.8888888888888888,\"#fdca26\"],[1.0,\"#f0f921\"]],\"type\":\"histogram2d\"}],\"histogram2dcontour\":[{\"colorbar\":{\"outlinewidth\":0,\"ticks\":\"\"},\"colorscale\":[[0.0,\"#0d0887\"],[0.1111111111111111,\"#46039f\"],[0.2222222222222222,\"#7201a8\"],[0.3333333333333333,\"#9c179e\"],[0.4444444444444444,\"#bd3786\"],[0.5555555555555556,\"#d8576b\"],[0.6666666666666666,\"#ed7953\"],[0.7777777777777778,\"#fb9f3a\"],[0.8888888888888888,\"#fdca26\"],[1.0,\"#f0f921\"]],\"type\":\"histogram2dcontour\"}],\"mesh3d\":[{\"colorbar\":{\"outlinewidth\":0,\"ticks\":\"\"},\"type\":\"mesh3d\"}],\"parcoords\":[{\"line\":{\"colorbar\":{\"outlinewidth\":0,\"ticks\":\"\"}},\"type\":\"parcoords\"}],\"pie\":[{\"automargin\":true,\"type\":\"pie\"}],\"scatter\":[{\"marker\":{\"colorbar\":{\"outlinewidth\":0,\"ticks\":\"\"}},\"type\":\"scatter\"}],\"scatter3d\":[{\"line\":{\"colorbar\":{\"outlinewidth\":0,\"ticks\":\"\"}},\"marker\":{\"colorbar\":{\"outlinewidth\":0,\"ticks\":\"\"}},\"type\":\"scatter3d\"}],\"scattercarpet\":[{\"marker\":{\"colorbar\":{\"outlinewidth\":0,\"ticks\":\"\"}},\"type\":\"scattercarpet\"}],\"scattergeo\":[{\"marker\":{\"colorbar\":{\"outlinewidth\":0,\"ticks\":\"\"}},\"type\":\"scattergeo\"}],\"scattergl\":[{\"marker\":{\"colorbar\":{\"outlinewidth\":0,\"ticks\":\"\"}},\"type\":\"scattergl\"}],\"scattermapbox\":[{\"marker\":{\"colorbar\":{\"outlinewidth\":0,\"ticks\":\"\"}},\"type\":\"scattermapbox\"}],\"scatterpolar\":[{\"marker\":{\"colorbar\":{\"outlinewidth\":0,\"ticks\":\"\"}},\"type\":\"scatterpolar\"}],\"scatterpolargl\":[{\"marker\":{\"colorbar\":{\"outlinewidth\":0,\"ticks\":\"\"}},\"type\":\"scatterpolargl\"}],\"scatterternary\":[{\"marker\":{\"colorbar\":{\"outlinewidth\":0,\"ticks\":\"\"}},\"type\":\"scatterternary\"}],\"surface\":[{\"colorbar\":{\"outlinewidth\":0,\"ticks\":\"\"},\"colorscale\":[[0.0,\"#0d0887\"],[0.1111111111111111,\"#46039f\"],[0.2222222222222222,\"#7201a8\"],[0.3333333333333333,\"#9c179e\"],[0.4444444444444444,\"#bd3786\"],[0.5555555555555556,\"#d8576b\"],[0.6666666666666666,\"#ed7953\"],[0.7777777777777778,\"#fb9f3a\"],[0.8888888888888888,\"#fdca26\"],[1.0,\"#f0f921\"]],\"type\":\"surface\"}],\"table\":[{\"cells\":{\"fill\":{\"color\":\"#EBF0F8\"},\"line\":{\"color\":\"white\"}},\"header\":{\"fill\":{\"color\":\"#C8D4E3\"},\"line\":{\"color\":\"white\"}},\"type\":\"table\"}]},\"layout\":{\"annotationdefaults\":{\"arrowcolor\":\"#2a3f5f\",\"arrowhead\":0,\"arrowwidth\":1},\"autotypenumbers\":\"strict\",\"coloraxis\":{\"colorbar\":{\"outlinewidth\":0,\"ticks\":\"\"}},\"colorscale\":{\"diverging\":[[0,\"#8e0152\"],[0.1,\"#c51b7d\"],[0.2,\"#de77ae\"],[0.3,\"#f1b6da\"],[0.4,\"#fde0ef\"],[0.5,\"#f7f7f7\"],[0.6,\"#e6f5d0\"],[0.7,\"#b8e186\"],[0.8,\"#7fbc41\"],[0.9,\"#4d9221\"],[1,\"#276419\"]],\"sequential\":[[0.0,\"#0d0887\"],[0.1111111111111111,\"#46039f\"],[0.2222222222222222,\"#7201a8\"],[0.3333333333333333,\"#9c179e\"],[0.4444444444444444,\"#bd3786\"],[0.5555555555555556,\"#d8576b\"],[0.6666666666666666,\"#ed7953\"],[0.7777777777777778,\"#fb9f3a\"],[0.8888888888888888,\"#fdca26\"],[1.0,\"#f0f921\"]],\"sequentialminus\":[[0.0,\"#0d0887\"],[0.1111111111111111,\"#46039f\"],[0.2222222222222222,\"#7201a8\"],[0.3333333333333333,\"#9c179e\"],[0.4444444444444444,\"#bd3786\"],[0.5555555555555556,\"#d8576b\"],[0.6666666666666666,\"#ed7953\"],[0.7777777777777778,\"#fb9f3a\"],[0.8888888888888888,\"#fdca26\"],[1.0,\"#f0f921\"]]},\"colorway\":[\"#636efa\",\"#EF553B\",\"#00cc96\",\"#ab63fa\",\"#FFA15A\",\"#19d3f3\",\"#FF6692\",\"#B6E880\",\"#FF97FF\",\"#FECB52\"],\"font\":{\"color\":\"#2a3f5f\"},\"geo\":{\"bgcolor\":\"white\",\"lakecolor\":\"white\",\"landcolor\":\"#E5ECF6\",\"showlakes\":true,\"showland\":true,\"subunitcolor\":\"white\"},\"hoverlabel\":{\"align\":\"left\"},\"hovermode\":\"closest\",\"mapbox\":{\"style\":\"light\"},\"paper_bgcolor\":\"white\",\"plot_bgcolor\":\"#E5ECF6\",\"polar\":{\"angularaxis\":{\"gridcolor\":\"white\",\"linecolor\":\"white\",\"ticks\":\"\"},\"bgcolor\":\"#E5ECF6\",\"radialaxis\":{\"gridcolor\":\"white\",\"linecolor\":\"white\",\"ticks\":\"\"}},\"scene\":{\"xaxis\":{\"backgroundcolor\":\"#E5ECF6\",\"gridcolor\":\"white\",\"gridwidth\":2,\"linecolor\":\"white\",\"showbackground\":true,\"ticks\":\"\",\"zerolinecolor\":\"white\"},\"yaxis\":{\"backgroundcolor\":\"#E5ECF6\",\"gridcolor\":\"white\",\"gridwidth\":2,\"linecolor\":\"white\",\"showbackground\":true,\"ticks\":\"\",\"zerolinecolor\":\"white\"},\"zaxis\":{\"backgroundcolor\":\"#E5ECF6\",\"gridcolor\":\"white\",\"gridwidth\":2,\"linecolor\":\"white\",\"showbackground\":true,\"ticks\":\"\",\"zerolinecolor\":\"white\"}},\"shapedefaults\":{\"line\":{\"color\":\"#2a3f5f\"}},\"ternary\":{\"aaxis\":{\"gridcolor\":\"white\",\"linecolor\":\"white\",\"ticks\":\"\"},\"baxis\":{\"gridcolor\":\"white\",\"linecolor\":\"white\",\"ticks\":\"\"},\"bgcolor\":\"#E5ECF6\",\"caxis\":{\"gridcolor\":\"white\",\"linecolor\":\"white\",\"ticks\":\"\"}},\"title\":{\"x\":0.05},\"xaxis\":{\"automargin\":true,\"gridcolor\":\"white\",\"linecolor\":\"white\",\"ticks\":\"\",\"title\":{\"standoff\":15},\"zerolinecolor\":\"white\",\"zerolinewidth\":2},\"yaxis\":{\"automargin\":true,\"gridcolor\":\"white\",\"linecolor\":\"white\",\"ticks\":\"\",\"title\":{\"standoff\":15},\"zerolinecolor\":\"white\",\"zerolinewidth\":2}}},\"title\":{\"text\":\"Two Tailed T-Test Between Beta Maps for Young Adults and Adolescents\",\"x\":0.5},\"height\":650,\"width\":800},                        {\"responsive\": true}                    ).then(function(){\n",
              "                            \n",
              "var gd = document.getElementById('f6561b67-1042-441d-94c9-6666b3a265ae');\n",
              "var x = new MutationObserver(function (mutations, observer) {{\n",
              "        var display = window.getComputedStyle(gd).display;\n",
              "        if (!display || display === 'none') {{\n",
              "            console.log([gd, 'removed!']);\n",
              "            Plotly.purge(gd);\n",
              "            observer.disconnect();\n",
              "        }}\n",
              "}});\n",
              "\n",
              "// Listen for the removal of the full notebook cells\n",
              "var notebookContainer = gd.closest('#notebook-container');\n",
              "if (notebookContainer) {{\n",
              "    x.observe(notebookContainer, {childList: true});\n",
              "}}\n",
              "\n",
              "// Listen for the clearing of the current output cell\n",
              "var outputEl = gd.closest('.output');\n",
              "if (outputEl) {{\n",
              "    x.observe(outputEl, {childList: true});\n",
              "}}\n",
              "\n",
              "                        })                };                            </script>        </div>\n",
              "</body>\n",
              "</html>"
            ]
          },
          "metadata": {}
        }
      ]
    },
    {
      "cell_type": "code",
      "source": [
        "import pandas as pd\n",
        "dictionary = {\n",
        "              \"yf\": {\"Region\": \"Medial Prefrontal Cortex Beta map from Whole Brain versus Medial Prefrontal Cortex Beta Map \", \"Test Statistic\":-7.4762, \"p-value\":'7.660351e-14', \"alpha\":0.5,\"Hypothesis\": \"Reject Null H0\"},\n",
        "              \"hgfj\": {\"Region\":\"Nucleus Accumbens Beta map from Whole Brain versus Nucleus Accumbens Beta Map\",\"Test Statistic\":-4.714293, \"p-value\": '2.42579e-06', \"alpha\":0.5, \"Hypothesis\": \"Reject Null H0\"},\n",
        "              \"fdh\": {\"Region\":\"Anterior Cingulate Cortex Beta map from Whole Brain versus Anterior Cingulate Cortex Beta map\",\"Test Statistic\":-9.66554, \"p-value\":'4.23193e-22', \"alpha\":0.5, \"Hypothesis\": \"Reject Null H0\"},\n",
        "              \"hfg\": {\"Region\":\"Anterior Insula (Right) Beta map from Whole Brain versus Anterior Insula Beta map\",\"Test Statistic\":-1.25950, \"p-value\":0.20785, \"alpha\":0.5, \"Hypothesis\": \"Fail to Reject Null H0\"}\n",
        "              }\n",
        "\n",
        "df = pd.DataFrame(dictionary)\n",
        "dff= df.T\n",
        "\n",
        "import plotly.graph_objects as go\n",
        "import pandas as pd\n",
        "import plotly.io as pio\n",
        "\n",
        "fig = go.Figure(data=[go.Table(\n",
        "    header=dict(values=dff.columns,\n",
        "                fill_color='#96c6e2',\n",
        "                align='center'),\n",
        "    cells=dict(values=[dff['Region'],dff['Test Statistic'], dff['p-value'], dff['alpha'],dff['Hypothesis']],\n",
        "               fill_color='#eaeaf2',\n",
        "               align='left'))\n",
        "])\n",
        "\n",
        "fig.update_layout(\n",
        "    height=650,\n",
        "    width = 900,\n",
        "    title_text=\"Two Tailed T-Test Between ROI Beta Maps in Adolescents\",\n",
        "    title_x=0.5\n",
        ")\n",
        "\n",
        "fig.show()"
      ],
      "metadata": {
        "colab": {
          "base_uri": "https://localhost:8080/",
          "height": 667
        },
        "id": "fMm0d4iOatNH",
        "outputId": "f0d06ab8-8514-45e5-b241-09d431be7115"
      },
      "execution_count": null,
      "outputs": [
        {
          "output_type": "display_data",
          "data": {
            "text/html": [
              "<html>\n",
              "<head><meta charset=\"utf-8\" /></head>\n",
              "<body>\n",
              "    <div>            <script src=\"https://cdnjs.cloudflare.com/ajax/libs/mathjax/2.7.5/MathJax.js?config=TeX-AMS-MML_SVG\"></script><script type=\"text/javascript\">if (window.MathJax) {MathJax.Hub.Config({SVG: {font: \"STIX-Web\"}});}</script>                <script type=\"text/javascript\">window.PlotlyConfig = {MathJaxConfig: 'local'};</script>\n",
              "        <script src=\"https://cdn.plot.ly/plotly-2.8.3.min.js\"></script>                <div id=\"2fc11f2e-8025-4471-9cb9-ff8978050ca0\" class=\"plotly-graph-div\" style=\"height:650px; width:900px;\"></div>            <script type=\"text/javascript\">                                    window.PLOTLYENV=window.PLOTLYENV || {};                                    if (document.getElementById(\"2fc11f2e-8025-4471-9cb9-ff8978050ca0\")) {                    Plotly.newPlot(                        \"2fc11f2e-8025-4471-9cb9-ff8978050ca0\",                        [{\"cells\":{\"align\":\"left\",\"fill\":{\"color\":\"#eaeaf2\"},\"values\":[[\"Medial Prefrontal Cortex Beta map from Whole Brain versus Medial Prefrontal Cortex Beta Map \",\"Nucleus Accumbens Beta map from Whole Brain versus Nucleus Accumbens Beta Map\",\"Anterior Cingulate Cortex Beta map from Whole Brain versus Anterior Cingulate Cortex Beta map\",\"Anterior Insula (Right) Beta map from Whole Brain versus Anterior Insula Beta map\"],[-7.4762,-4.714293,-9.66554,-1.2595],[\"7.660351e-14\",\"2.42579e-06\",\"4.23193e-22\",0.20785],[0.5,0.5,0.5,0.5],[\"Reject Null H0\",\"Reject Null H0\",\"Reject Null H0\",\"Fail to Reject Null H0\"]]},\"header\":{\"align\":\"center\",\"fill\":{\"color\":\"#96c6e2\"},\"values\":[\"Region\",\"Test Statistic\",\"p-value\",\"alpha\",\"Hypothesis\"]},\"type\":\"table\"}],                        {\"template\":{\"data\":{\"bar\":[{\"error_x\":{\"color\":\"#2a3f5f\"},\"error_y\":{\"color\":\"#2a3f5f\"},\"marker\":{\"line\":{\"color\":\"#E5ECF6\",\"width\":0.5},\"pattern\":{\"fillmode\":\"overlay\",\"size\":10,\"solidity\":0.2}},\"type\":\"bar\"}],\"barpolar\":[{\"marker\":{\"line\":{\"color\":\"#E5ECF6\",\"width\":0.5},\"pattern\":{\"fillmode\":\"overlay\",\"size\":10,\"solidity\":0.2}},\"type\":\"barpolar\"}],\"carpet\":[{\"aaxis\":{\"endlinecolor\":\"#2a3f5f\",\"gridcolor\":\"white\",\"linecolor\":\"white\",\"minorgridcolor\":\"white\",\"startlinecolor\":\"#2a3f5f\"},\"baxis\":{\"endlinecolor\":\"#2a3f5f\",\"gridcolor\":\"white\",\"linecolor\":\"white\",\"minorgridcolor\":\"white\",\"startlinecolor\":\"#2a3f5f\"},\"type\":\"carpet\"}],\"choropleth\":[{\"colorbar\":{\"outlinewidth\":0,\"ticks\":\"\"},\"type\":\"choropleth\"}],\"contour\":[{\"colorbar\":{\"outlinewidth\":0,\"ticks\":\"\"},\"colorscale\":[[0.0,\"#0d0887\"],[0.1111111111111111,\"#46039f\"],[0.2222222222222222,\"#7201a8\"],[0.3333333333333333,\"#9c179e\"],[0.4444444444444444,\"#bd3786\"],[0.5555555555555556,\"#d8576b\"],[0.6666666666666666,\"#ed7953\"],[0.7777777777777778,\"#fb9f3a\"],[0.8888888888888888,\"#fdca26\"],[1.0,\"#f0f921\"]],\"type\":\"contour\"}],\"contourcarpet\":[{\"colorbar\":{\"outlinewidth\":0,\"ticks\":\"\"},\"type\":\"contourcarpet\"}],\"heatmap\":[{\"colorbar\":{\"outlinewidth\":0,\"ticks\":\"\"},\"colorscale\":[[0.0,\"#0d0887\"],[0.1111111111111111,\"#46039f\"],[0.2222222222222222,\"#7201a8\"],[0.3333333333333333,\"#9c179e\"],[0.4444444444444444,\"#bd3786\"],[0.5555555555555556,\"#d8576b\"],[0.6666666666666666,\"#ed7953\"],[0.7777777777777778,\"#fb9f3a\"],[0.8888888888888888,\"#fdca26\"],[1.0,\"#f0f921\"]],\"type\":\"heatmap\"}],\"heatmapgl\":[{\"colorbar\":{\"outlinewidth\":0,\"ticks\":\"\"},\"colorscale\":[[0.0,\"#0d0887\"],[0.1111111111111111,\"#46039f\"],[0.2222222222222222,\"#7201a8\"],[0.3333333333333333,\"#9c179e\"],[0.4444444444444444,\"#bd3786\"],[0.5555555555555556,\"#d8576b\"],[0.6666666666666666,\"#ed7953\"],[0.7777777777777778,\"#fb9f3a\"],[0.8888888888888888,\"#fdca26\"],[1.0,\"#f0f921\"]],\"type\":\"heatmapgl\"}],\"histogram\":[{\"marker\":{\"pattern\":{\"fillmode\":\"overlay\",\"size\":10,\"solidity\":0.2}},\"type\":\"histogram\"}],\"histogram2d\":[{\"colorbar\":{\"outlinewidth\":0,\"ticks\":\"\"},\"colorscale\":[[0.0,\"#0d0887\"],[0.1111111111111111,\"#46039f\"],[0.2222222222222222,\"#7201a8\"],[0.3333333333333333,\"#9c179e\"],[0.4444444444444444,\"#bd3786\"],[0.5555555555555556,\"#d8576b\"],[0.6666666666666666,\"#ed7953\"],[0.7777777777777778,\"#fb9f3a\"],[0.8888888888888888,\"#fdca26\"],[1.0,\"#f0f921\"]],\"type\":\"histogram2d\"}],\"histogram2dcontour\":[{\"colorbar\":{\"outlinewidth\":0,\"ticks\":\"\"},\"colorscale\":[[0.0,\"#0d0887\"],[0.1111111111111111,\"#46039f\"],[0.2222222222222222,\"#7201a8\"],[0.3333333333333333,\"#9c179e\"],[0.4444444444444444,\"#bd3786\"],[0.5555555555555556,\"#d8576b\"],[0.6666666666666666,\"#ed7953\"],[0.7777777777777778,\"#fb9f3a\"],[0.8888888888888888,\"#fdca26\"],[1.0,\"#f0f921\"]],\"type\":\"histogram2dcontour\"}],\"mesh3d\":[{\"colorbar\":{\"outlinewidth\":0,\"ticks\":\"\"},\"type\":\"mesh3d\"}],\"parcoords\":[{\"line\":{\"colorbar\":{\"outlinewidth\":0,\"ticks\":\"\"}},\"type\":\"parcoords\"}],\"pie\":[{\"automargin\":true,\"type\":\"pie\"}],\"scatter\":[{\"marker\":{\"colorbar\":{\"outlinewidth\":0,\"ticks\":\"\"}},\"type\":\"scatter\"}],\"scatter3d\":[{\"line\":{\"colorbar\":{\"outlinewidth\":0,\"ticks\":\"\"}},\"marker\":{\"colorbar\":{\"outlinewidth\":0,\"ticks\":\"\"}},\"type\":\"scatter3d\"}],\"scattercarpet\":[{\"marker\":{\"colorbar\":{\"outlinewidth\":0,\"ticks\":\"\"}},\"type\":\"scattercarpet\"}],\"scattergeo\":[{\"marker\":{\"colorbar\":{\"outlinewidth\":0,\"ticks\":\"\"}},\"type\":\"scattergeo\"}],\"scattergl\":[{\"marker\":{\"colorbar\":{\"outlinewidth\":0,\"ticks\":\"\"}},\"type\":\"scattergl\"}],\"scattermapbox\":[{\"marker\":{\"colorbar\":{\"outlinewidth\":0,\"ticks\":\"\"}},\"type\":\"scattermapbox\"}],\"scatterpolar\":[{\"marker\":{\"colorbar\":{\"outlinewidth\":0,\"ticks\":\"\"}},\"type\":\"scatterpolar\"}],\"scatterpolargl\":[{\"marker\":{\"colorbar\":{\"outlinewidth\":0,\"ticks\":\"\"}},\"type\":\"scatterpolargl\"}],\"scatterternary\":[{\"marker\":{\"colorbar\":{\"outlinewidth\":0,\"ticks\":\"\"}},\"type\":\"scatterternary\"}],\"surface\":[{\"colorbar\":{\"outlinewidth\":0,\"ticks\":\"\"},\"colorscale\":[[0.0,\"#0d0887\"],[0.1111111111111111,\"#46039f\"],[0.2222222222222222,\"#7201a8\"],[0.3333333333333333,\"#9c179e\"],[0.4444444444444444,\"#bd3786\"],[0.5555555555555556,\"#d8576b\"],[0.6666666666666666,\"#ed7953\"],[0.7777777777777778,\"#fb9f3a\"],[0.8888888888888888,\"#fdca26\"],[1.0,\"#f0f921\"]],\"type\":\"surface\"}],\"table\":[{\"cells\":{\"fill\":{\"color\":\"#EBF0F8\"},\"line\":{\"color\":\"white\"}},\"header\":{\"fill\":{\"color\":\"#C8D4E3\"},\"line\":{\"color\":\"white\"}},\"type\":\"table\"}]},\"layout\":{\"annotationdefaults\":{\"arrowcolor\":\"#2a3f5f\",\"arrowhead\":0,\"arrowwidth\":1},\"autotypenumbers\":\"strict\",\"coloraxis\":{\"colorbar\":{\"outlinewidth\":0,\"ticks\":\"\"}},\"colorscale\":{\"diverging\":[[0,\"#8e0152\"],[0.1,\"#c51b7d\"],[0.2,\"#de77ae\"],[0.3,\"#f1b6da\"],[0.4,\"#fde0ef\"],[0.5,\"#f7f7f7\"],[0.6,\"#e6f5d0\"],[0.7,\"#b8e186\"],[0.8,\"#7fbc41\"],[0.9,\"#4d9221\"],[1,\"#276419\"]],\"sequential\":[[0.0,\"#0d0887\"],[0.1111111111111111,\"#46039f\"],[0.2222222222222222,\"#7201a8\"],[0.3333333333333333,\"#9c179e\"],[0.4444444444444444,\"#bd3786\"],[0.5555555555555556,\"#d8576b\"],[0.6666666666666666,\"#ed7953\"],[0.7777777777777778,\"#fb9f3a\"],[0.8888888888888888,\"#fdca26\"],[1.0,\"#f0f921\"]],\"sequentialminus\":[[0.0,\"#0d0887\"],[0.1111111111111111,\"#46039f\"],[0.2222222222222222,\"#7201a8\"],[0.3333333333333333,\"#9c179e\"],[0.4444444444444444,\"#bd3786\"],[0.5555555555555556,\"#d8576b\"],[0.6666666666666666,\"#ed7953\"],[0.7777777777777778,\"#fb9f3a\"],[0.8888888888888888,\"#fdca26\"],[1.0,\"#f0f921\"]]},\"colorway\":[\"#636efa\",\"#EF553B\",\"#00cc96\",\"#ab63fa\",\"#FFA15A\",\"#19d3f3\",\"#FF6692\",\"#B6E880\",\"#FF97FF\",\"#FECB52\"],\"font\":{\"color\":\"#2a3f5f\"},\"geo\":{\"bgcolor\":\"white\",\"lakecolor\":\"white\",\"landcolor\":\"#E5ECF6\",\"showlakes\":true,\"showland\":true,\"subunitcolor\":\"white\"},\"hoverlabel\":{\"align\":\"left\"},\"hovermode\":\"closest\",\"mapbox\":{\"style\":\"light\"},\"paper_bgcolor\":\"white\",\"plot_bgcolor\":\"#E5ECF6\",\"polar\":{\"angularaxis\":{\"gridcolor\":\"white\",\"linecolor\":\"white\",\"ticks\":\"\"},\"bgcolor\":\"#E5ECF6\",\"radialaxis\":{\"gridcolor\":\"white\",\"linecolor\":\"white\",\"ticks\":\"\"}},\"scene\":{\"xaxis\":{\"backgroundcolor\":\"#E5ECF6\",\"gridcolor\":\"white\",\"gridwidth\":2,\"linecolor\":\"white\",\"showbackground\":true,\"ticks\":\"\",\"zerolinecolor\":\"white\"},\"yaxis\":{\"backgroundcolor\":\"#E5ECF6\",\"gridcolor\":\"white\",\"gridwidth\":2,\"linecolor\":\"white\",\"showbackground\":true,\"ticks\":\"\",\"zerolinecolor\":\"white\"},\"zaxis\":{\"backgroundcolor\":\"#E5ECF6\",\"gridcolor\":\"white\",\"gridwidth\":2,\"linecolor\":\"white\",\"showbackground\":true,\"ticks\":\"\",\"zerolinecolor\":\"white\"}},\"shapedefaults\":{\"line\":{\"color\":\"#2a3f5f\"}},\"ternary\":{\"aaxis\":{\"gridcolor\":\"white\",\"linecolor\":\"white\",\"ticks\":\"\"},\"baxis\":{\"gridcolor\":\"white\",\"linecolor\":\"white\",\"ticks\":\"\"},\"bgcolor\":\"#E5ECF6\",\"caxis\":{\"gridcolor\":\"white\",\"linecolor\":\"white\",\"ticks\":\"\"}},\"title\":{\"x\":0.05},\"xaxis\":{\"automargin\":true,\"gridcolor\":\"white\",\"linecolor\":\"white\",\"ticks\":\"\",\"title\":{\"standoff\":15},\"zerolinecolor\":\"white\",\"zerolinewidth\":2},\"yaxis\":{\"automargin\":true,\"gridcolor\":\"white\",\"linecolor\":\"white\",\"ticks\":\"\",\"title\":{\"standoff\":15},\"zerolinecolor\":\"white\",\"zerolinewidth\":2}}},\"title\":{\"text\":\"Two Tailed T-Test Between ROI Beta Maps in Adolescents\",\"x\":0.5},\"height\":650,\"width\":900},                        {\"responsive\": true}                    ).then(function(){\n",
              "                            \n",
              "var gd = document.getElementById('2fc11f2e-8025-4471-9cb9-ff8978050ca0');\n",
              "var x = new MutationObserver(function (mutations, observer) {{\n",
              "        var display = window.getComputedStyle(gd).display;\n",
              "        if (!display || display === 'none') {{\n",
              "            console.log([gd, 'removed!']);\n",
              "            Plotly.purge(gd);\n",
              "            observer.disconnect();\n",
              "        }}\n",
              "}});\n",
              "\n",
              "// Listen for the removal of the full notebook cells\n",
              "var notebookContainer = gd.closest('#notebook-container');\n",
              "if (notebookContainer) {{\n",
              "    x.observe(notebookContainer, {childList: true});\n",
              "}}\n",
              "\n",
              "// Listen for the clearing of the current output cell\n",
              "var outputEl = gd.closest('.output');\n",
              "if (outputEl) {{\n",
              "    x.observe(outputEl, {childList: true});\n",
              "}}\n",
              "\n",
              "                        })                };                            </script>        </div>\n",
              "</body>\n",
              "</html>"
            ]
          },
          "metadata": {}
        }
      ]
    },
    {
      "cell_type": "code",
      "source": [
        "import pandas as pd\n",
        "dictionary = {\n",
        "              \"yf\": {\"Region\": \"Medial Prefrontal Cortex Beta map from Whole Brain versus Medial Prefrontal Cortex Beta Map \", \"Test Statistic\":-1.77004, \"p-value\": 0.07672, \"alpha\":0.5,\"Hypothesis\": \"Fail to Reject Null H0\"},\n",
        "              \"hgfj\": {\"Region\":\"Nucleus Accumbens Beta map from Whole Brain versus Nucleus Accumbens Beta Map\",\"Test Statistic\":1.02629, \"p-value\": 0.30476, \"alpha\":0.5, \"Hypothesis\": \"Fail to Reject Null H0\"},\n",
        "              \"fdh\": {\"Region\":\"Anterior Cingulate Cortex Beta map from Whole Brain versus Anterior Cingulate Cortex Beta map\",\"Test Statistic\":-14.17011, \"p-value\":'1.414999e-45', \"alpha\":0.5, \"Hypothesis\": \"Reject Null H0\"},\n",
        "              \"hfg\": {\"Region\":\"Anterior Insula (Right) Beta map from Whole Brain versus Anterior Insula Beta map\",\"Test Statistic\":1.615678, \"p-value\":0.10616, \"alpha\":0.5, \"Hypothesis\": \"Fail to Reject Null H0\"}\n",
        "              }\n",
        "\n",
        "df = pd.DataFrame(dictionary)\n",
        "dff= df.T\n",
        "\n",
        "import plotly.graph_objects as go\n",
        "import pandas as pd\n",
        "import plotly.io as pio\n",
        "\n",
        "fig = go.Figure(data=[go.Table(\n",
        "    header=dict(values=dff.columns,\n",
        "                fill_color='#96c6e2',\n",
        "                align='center'),\n",
        "    cells=dict(values=[dff['Region'],dff['Test Statistic'], dff['p-value'], dff['alpha'],dff['Hypothesis']],\n",
        "               fill_color='#eaeaf2',\n",
        "               align='left'))\n",
        "])\n",
        "\n",
        "fig.update_layout(\n",
        "    height=650,\n",
        "    width = 900,\n",
        "    title_text=\"Two Tailed T-Test Between ROI Beta Maps in Young Adults\",\n",
        "    title_x=0.5\n",
        ")\n",
        "\n",
        "fig.show()"
      ],
      "metadata": {
        "colab": {
          "base_uri": "https://localhost:8080/",
          "height": 667
        },
        "id": "2G4H7XpHfem6",
        "outputId": "99ac1e1d-9f9b-4f16-ced2-38a8169611e1"
      },
      "execution_count": null,
      "outputs": [
        {
          "output_type": "display_data",
          "data": {
            "text/html": [
              "<html>\n",
              "<head><meta charset=\"utf-8\" /></head>\n",
              "<body>\n",
              "    <div>            <script src=\"https://cdnjs.cloudflare.com/ajax/libs/mathjax/2.7.5/MathJax.js?config=TeX-AMS-MML_SVG\"></script><script type=\"text/javascript\">if (window.MathJax) {MathJax.Hub.Config({SVG: {font: \"STIX-Web\"}});}</script>                <script type=\"text/javascript\">window.PlotlyConfig = {MathJaxConfig: 'local'};</script>\n",
              "        <script src=\"https://cdn.plot.ly/plotly-2.8.3.min.js\"></script>                <div id=\"124937a4-83c0-4a8b-921d-94e2bbd86bcd\" class=\"plotly-graph-div\" style=\"height:650px; width:900px;\"></div>            <script type=\"text/javascript\">                                    window.PLOTLYENV=window.PLOTLYENV || {};                                    if (document.getElementById(\"124937a4-83c0-4a8b-921d-94e2bbd86bcd\")) {                    Plotly.newPlot(                        \"124937a4-83c0-4a8b-921d-94e2bbd86bcd\",                        [{\"cells\":{\"align\":\"left\",\"fill\":{\"color\":\"#eaeaf2\"},\"values\":[[\"Medial Prefrontal Cortex Beta map from Whole Brain versus Medial Prefrontal Cortex Beta Map \",\"Nucleus Accumbens Beta map from Whole Brain versus Nucleus Accumbens Beta Map\",\"Anterior Cingulate Cortex Beta map from Whole Brain versus Anterior Cingulate Cortex Beta map\",\"Anterior Insula (Right) Beta map from Whole Brain versus Anterior Insula Beta map\"],[-1.77004,1.02629,-14.17011,1.615678],[0.07672,0.30476,\"1.414999e-45\",0.10616],[0.5,0.5,0.5,0.5],[\"Fail to Reject Null H0\",\"Fail to Reject Null H0\",\"Reject Null H0\",\"Fail to Reject Null H0\"]]},\"header\":{\"align\":\"center\",\"fill\":{\"color\":\"#96c6e2\"},\"values\":[\"Region\",\"Test Statistic\",\"p-value\",\"alpha\",\"Hypothesis\"]},\"type\":\"table\"}],                        {\"template\":{\"data\":{\"bar\":[{\"error_x\":{\"color\":\"#2a3f5f\"},\"error_y\":{\"color\":\"#2a3f5f\"},\"marker\":{\"line\":{\"color\":\"#E5ECF6\",\"width\":0.5},\"pattern\":{\"fillmode\":\"overlay\",\"size\":10,\"solidity\":0.2}},\"type\":\"bar\"}],\"barpolar\":[{\"marker\":{\"line\":{\"color\":\"#E5ECF6\",\"width\":0.5},\"pattern\":{\"fillmode\":\"overlay\",\"size\":10,\"solidity\":0.2}},\"type\":\"barpolar\"}],\"carpet\":[{\"aaxis\":{\"endlinecolor\":\"#2a3f5f\",\"gridcolor\":\"white\",\"linecolor\":\"white\",\"minorgridcolor\":\"white\",\"startlinecolor\":\"#2a3f5f\"},\"baxis\":{\"endlinecolor\":\"#2a3f5f\",\"gridcolor\":\"white\",\"linecolor\":\"white\",\"minorgridcolor\":\"white\",\"startlinecolor\":\"#2a3f5f\"},\"type\":\"carpet\"}],\"choropleth\":[{\"colorbar\":{\"outlinewidth\":0,\"ticks\":\"\"},\"type\":\"choropleth\"}],\"contour\":[{\"colorbar\":{\"outlinewidth\":0,\"ticks\":\"\"},\"colorscale\":[[0.0,\"#0d0887\"],[0.1111111111111111,\"#46039f\"],[0.2222222222222222,\"#7201a8\"],[0.3333333333333333,\"#9c179e\"],[0.4444444444444444,\"#bd3786\"],[0.5555555555555556,\"#d8576b\"],[0.6666666666666666,\"#ed7953\"],[0.7777777777777778,\"#fb9f3a\"],[0.8888888888888888,\"#fdca26\"],[1.0,\"#f0f921\"]],\"type\":\"contour\"}],\"contourcarpet\":[{\"colorbar\":{\"outlinewidth\":0,\"ticks\":\"\"},\"type\":\"contourcarpet\"}],\"heatmap\":[{\"colorbar\":{\"outlinewidth\":0,\"ticks\":\"\"},\"colorscale\":[[0.0,\"#0d0887\"],[0.1111111111111111,\"#46039f\"],[0.2222222222222222,\"#7201a8\"],[0.3333333333333333,\"#9c179e\"],[0.4444444444444444,\"#bd3786\"],[0.5555555555555556,\"#d8576b\"],[0.6666666666666666,\"#ed7953\"],[0.7777777777777778,\"#fb9f3a\"],[0.8888888888888888,\"#fdca26\"],[1.0,\"#f0f921\"]],\"type\":\"heatmap\"}],\"heatmapgl\":[{\"colorbar\":{\"outlinewidth\":0,\"ticks\":\"\"},\"colorscale\":[[0.0,\"#0d0887\"],[0.1111111111111111,\"#46039f\"],[0.2222222222222222,\"#7201a8\"],[0.3333333333333333,\"#9c179e\"],[0.4444444444444444,\"#bd3786\"],[0.5555555555555556,\"#d8576b\"],[0.6666666666666666,\"#ed7953\"],[0.7777777777777778,\"#fb9f3a\"],[0.8888888888888888,\"#fdca26\"],[1.0,\"#f0f921\"]],\"type\":\"heatmapgl\"}],\"histogram\":[{\"marker\":{\"pattern\":{\"fillmode\":\"overlay\",\"size\":10,\"solidity\":0.2}},\"type\":\"histogram\"}],\"histogram2d\":[{\"colorbar\":{\"outlinewidth\":0,\"ticks\":\"\"},\"colorscale\":[[0.0,\"#0d0887\"],[0.1111111111111111,\"#46039f\"],[0.2222222222222222,\"#7201a8\"],[0.3333333333333333,\"#9c179e\"],[0.4444444444444444,\"#bd3786\"],[0.5555555555555556,\"#d8576b\"],[0.6666666666666666,\"#ed7953\"],[0.7777777777777778,\"#fb9f3a\"],[0.8888888888888888,\"#fdca26\"],[1.0,\"#f0f921\"]],\"type\":\"histogram2d\"}],\"histogram2dcontour\":[{\"colorbar\":{\"outlinewidth\":0,\"ticks\":\"\"},\"colorscale\":[[0.0,\"#0d0887\"],[0.1111111111111111,\"#46039f\"],[0.2222222222222222,\"#7201a8\"],[0.3333333333333333,\"#9c179e\"],[0.4444444444444444,\"#bd3786\"],[0.5555555555555556,\"#d8576b\"],[0.6666666666666666,\"#ed7953\"],[0.7777777777777778,\"#fb9f3a\"],[0.8888888888888888,\"#fdca26\"],[1.0,\"#f0f921\"]],\"type\":\"histogram2dcontour\"}],\"mesh3d\":[{\"colorbar\":{\"outlinewidth\":0,\"ticks\":\"\"},\"type\":\"mesh3d\"}],\"parcoords\":[{\"line\":{\"colorbar\":{\"outlinewidth\":0,\"ticks\":\"\"}},\"type\":\"parcoords\"}],\"pie\":[{\"automargin\":true,\"type\":\"pie\"}],\"scatter\":[{\"marker\":{\"colorbar\":{\"outlinewidth\":0,\"ticks\":\"\"}},\"type\":\"scatter\"}],\"scatter3d\":[{\"line\":{\"colorbar\":{\"outlinewidth\":0,\"ticks\":\"\"}},\"marker\":{\"colorbar\":{\"outlinewidth\":0,\"ticks\":\"\"}},\"type\":\"scatter3d\"}],\"scattercarpet\":[{\"marker\":{\"colorbar\":{\"outlinewidth\":0,\"ticks\":\"\"}},\"type\":\"scattercarpet\"}],\"scattergeo\":[{\"marker\":{\"colorbar\":{\"outlinewidth\":0,\"ticks\":\"\"}},\"type\":\"scattergeo\"}],\"scattergl\":[{\"marker\":{\"colorbar\":{\"outlinewidth\":0,\"ticks\":\"\"}},\"type\":\"scattergl\"}],\"scattermapbox\":[{\"marker\":{\"colorbar\":{\"outlinewidth\":0,\"ticks\":\"\"}},\"type\":\"scattermapbox\"}],\"scatterpolar\":[{\"marker\":{\"colorbar\":{\"outlinewidth\":0,\"ticks\":\"\"}},\"type\":\"scatterpolar\"}],\"scatterpolargl\":[{\"marker\":{\"colorbar\":{\"outlinewidth\":0,\"ticks\":\"\"}},\"type\":\"scatterpolargl\"}],\"scatterternary\":[{\"marker\":{\"colorbar\":{\"outlinewidth\":0,\"ticks\":\"\"}},\"type\":\"scatterternary\"}],\"surface\":[{\"colorbar\":{\"outlinewidth\":0,\"ticks\":\"\"},\"colorscale\":[[0.0,\"#0d0887\"],[0.1111111111111111,\"#46039f\"],[0.2222222222222222,\"#7201a8\"],[0.3333333333333333,\"#9c179e\"],[0.4444444444444444,\"#bd3786\"],[0.5555555555555556,\"#d8576b\"],[0.6666666666666666,\"#ed7953\"],[0.7777777777777778,\"#fb9f3a\"],[0.8888888888888888,\"#fdca26\"],[1.0,\"#f0f921\"]],\"type\":\"surface\"}],\"table\":[{\"cells\":{\"fill\":{\"color\":\"#EBF0F8\"},\"line\":{\"color\":\"white\"}},\"header\":{\"fill\":{\"color\":\"#C8D4E3\"},\"line\":{\"color\":\"white\"}},\"type\":\"table\"}]},\"layout\":{\"annotationdefaults\":{\"arrowcolor\":\"#2a3f5f\",\"arrowhead\":0,\"arrowwidth\":1},\"autotypenumbers\":\"strict\",\"coloraxis\":{\"colorbar\":{\"outlinewidth\":0,\"ticks\":\"\"}},\"colorscale\":{\"diverging\":[[0,\"#8e0152\"],[0.1,\"#c51b7d\"],[0.2,\"#de77ae\"],[0.3,\"#f1b6da\"],[0.4,\"#fde0ef\"],[0.5,\"#f7f7f7\"],[0.6,\"#e6f5d0\"],[0.7,\"#b8e186\"],[0.8,\"#7fbc41\"],[0.9,\"#4d9221\"],[1,\"#276419\"]],\"sequential\":[[0.0,\"#0d0887\"],[0.1111111111111111,\"#46039f\"],[0.2222222222222222,\"#7201a8\"],[0.3333333333333333,\"#9c179e\"],[0.4444444444444444,\"#bd3786\"],[0.5555555555555556,\"#d8576b\"],[0.6666666666666666,\"#ed7953\"],[0.7777777777777778,\"#fb9f3a\"],[0.8888888888888888,\"#fdca26\"],[1.0,\"#f0f921\"]],\"sequentialminus\":[[0.0,\"#0d0887\"],[0.1111111111111111,\"#46039f\"],[0.2222222222222222,\"#7201a8\"],[0.3333333333333333,\"#9c179e\"],[0.4444444444444444,\"#bd3786\"],[0.5555555555555556,\"#d8576b\"],[0.6666666666666666,\"#ed7953\"],[0.7777777777777778,\"#fb9f3a\"],[0.8888888888888888,\"#fdca26\"],[1.0,\"#f0f921\"]]},\"colorway\":[\"#636efa\",\"#EF553B\",\"#00cc96\",\"#ab63fa\",\"#FFA15A\",\"#19d3f3\",\"#FF6692\",\"#B6E880\",\"#FF97FF\",\"#FECB52\"],\"font\":{\"color\":\"#2a3f5f\"},\"geo\":{\"bgcolor\":\"white\",\"lakecolor\":\"white\",\"landcolor\":\"#E5ECF6\",\"showlakes\":true,\"showland\":true,\"subunitcolor\":\"white\"},\"hoverlabel\":{\"align\":\"left\"},\"hovermode\":\"closest\",\"mapbox\":{\"style\":\"light\"},\"paper_bgcolor\":\"white\",\"plot_bgcolor\":\"#E5ECF6\",\"polar\":{\"angularaxis\":{\"gridcolor\":\"white\",\"linecolor\":\"white\",\"ticks\":\"\"},\"bgcolor\":\"#E5ECF6\",\"radialaxis\":{\"gridcolor\":\"white\",\"linecolor\":\"white\",\"ticks\":\"\"}},\"scene\":{\"xaxis\":{\"backgroundcolor\":\"#E5ECF6\",\"gridcolor\":\"white\",\"gridwidth\":2,\"linecolor\":\"white\",\"showbackground\":true,\"ticks\":\"\",\"zerolinecolor\":\"white\"},\"yaxis\":{\"backgroundcolor\":\"#E5ECF6\",\"gridcolor\":\"white\",\"gridwidth\":2,\"linecolor\":\"white\",\"showbackground\":true,\"ticks\":\"\",\"zerolinecolor\":\"white\"},\"zaxis\":{\"backgroundcolor\":\"#E5ECF6\",\"gridcolor\":\"white\",\"gridwidth\":2,\"linecolor\":\"white\",\"showbackground\":true,\"ticks\":\"\",\"zerolinecolor\":\"white\"}},\"shapedefaults\":{\"line\":{\"color\":\"#2a3f5f\"}},\"ternary\":{\"aaxis\":{\"gridcolor\":\"white\",\"linecolor\":\"white\",\"ticks\":\"\"},\"baxis\":{\"gridcolor\":\"white\",\"linecolor\":\"white\",\"ticks\":\"\"},\"bgcolor\":\"#E5ECF6\",\"caxis\":{\"gridcolor\":\"white\",\"linecolor\":\"white\",\"ticks\":\"\"}},\"title\":{\"x\":0.05},\"xaxis\":{\"automargin\":true,\"gridcolor\":\"white\",\"linecolor\":\"white\",\"ticks\":\"\",\"title\":{\"standoff\":15},\"zerolinecolor\":\"white\",\"zerolinewidth\":2},\"yaxis\":{\"automargin\":true,\"gridcolor\":\"white\",\"linecolor\":\"white\",\"ticks\":\"\",\"title\":{\"standoff\":15},\"zerolinecolor\":\"white\",\"zerolinewidth\":2}}},\"title\":{\"text\":\"Two Tailed T-Test Between ROI Beta Maps in Young Adults\",\"x\":0.5},\"height\":650,\"width\":900},                        {\"responsive\": true}                    ).then(function(){\n",
              "                            \n",
              "var gd = document.getElementById('124937a4-83c0-4a8b-921d-94e2bbd86bcd');\n",
              "var x = new MutationObserver(function (mutations, observer) {{\n",
              "        var display = window.getComputedStyle(gd).display;\n",
              "        if (!display || display === 'none') {{\n",
              "            console.log([gd, 'removed!']);\n",
              "            Plotly.purge(gd);\n",
              "            observer.disconnect();\n",
              "        }}\n",
              "}});\n",
              "\n",
              "// Listen for the removal of the full notebook cells\n",
              "var notebookContainer = gd.closest('#notebook-container');\n",
              "if (notebookContainer) {{\n",
              "    x.observe(notebookContainer, {childList: true});\n",
              "}}\n",
              "\n",
              "// Listen for the clearing of the current output cell\n",
              "var outputEl = gd.closest('.output');\n",
              "if (outputEl) {{\n",
              "    x.observe(outputEl, {childList: true});\n",
              "}}\n",
              "\n",
              "                        })                };                            </script>        </div>\n",
              "</body>\n",
              "</html>"
            ]
          },
          "metadata": {}
        }
      ]
    },
    {
      "cell_type": "code",
      "source": [
        "import pandas as pd\n",
        "dictionary = {\n",
        "              \"yf\": {\"Region\": \"Medial Prefrontal Cortex Beta map\", \"Test Statistic\":-1.05821, \"p-value\": 0.28996, \"alpha\":0.5,\"Hypothesis\": \"Fail to Reject Null H0\"},\n",
        "              \"hgfj\": {\"Region\":\"Nucleus Accumbens Beta map\",\"Test Statistic\":-5.12936, \"p-value\": '2.90770e-07', \"alpha\":0.5, \"Hypothesis\": \"Reject Null H0\"},\n",
        "              \"fdh\": {\"Region\":\"Anterior Cingulate Cortex Beta map\",\"Test Statistic\":-15.25290, \"p-value\":'1.59305e-52', \"alpha\":0.5, \"Hypothesis\": \"Reject Null H0\"},\n",
        "              \"hfg\": {\"Region\":\"Anterior Insula (Right) Beta map\",\"Test Statistic\":-4.70286, \"p-value\":'2.5657e-06', \"alpha\":0.5, \"Hypothesis\": \"Reject Null H0\"}\n",
        "              }\n",
        "\n",
        "df = pd.DataFrame(dictionary)\n",
        "dff= df.T\n",
        "\n",
        "import plotly.graph_objects as go\n",
        "import pandas as pd\n",
        "import plotly.io as pio\n",
        "\n",
        "fig = go.Figure(data=[go.Table(\n",
        "    header=dict(values=dff.columns,\n",
        "                fill_color='#96c6e2',\n",
        "                align='center'),\n",
        "    cells=dict(values=[dff['Region'],dff['Test Statistic'], dff['p-value'], dff['alpha'],dff['Hypothesis']],\n",
        "               fill_color='#eaeaf2',\n",
        "               align='left'))\n",
        "])\n",
        "\n",
        "fig.update_layout(\n",
        "    height=650,\n",
        "    width = 900,\n",
        "    title_text=\"Two Tailed T-Test Between ROI Beta Maps for Young Adults and Adolescents\",\n",
        "    title_x=0.5\n",
        ")\n",
        "\n",
        "fig.show()"
      ],
      "metadata": {
        "colab": {
          "base_uri": "https://localhost:8080/",
          "height": 667
        },
        "id": "doAsL8g3kqo7",
        "outputId": "90ff1fea-b85a-4773-eb5e-d5a2d56c62d1"
      },
      "execution_count": null,
      "outputs": [
        {
          "output_type": "display_data",
          "data": {
            "text/html": [
              "<html>\n",
              "<head><meta charset=\"utf-8\" /></head>\n",
              "<body>\n",
              "    <div>            <script src=\"https://cdnjs.cloudflare.com/ajax/libs/mathjax/2.7.5/MathJax.js?config=TeX-AMS-MML_SVG\"></script><script type=\"text/javascript\">if (window.MathJax) {MathJax.Hub.Config({SVG: {font: \"STIX-Web\"}});}</script>                <script type=\"text/javascript\">window.PlotlyConfig = {MathJaxConfig: 'local'};</script>\n",
              "        <script src=\"https://cdn.plot.ly/plotly-2.8.3.min.js\"></script>                <div id=\"0336d301-ff1b-4dd5-b112-b9d217b5341c\" class=\"plotly-graph-div\" style=\"height:650px; width:900px;\"></div>            <script type=\"text/javascript\">                                    window.PLOTLYENV=window.PLOTLYENV || {};                                    if (document.getElementById(\"0336d301-ff1b-4dd5-b112-b9d217b5341c\")) {                    Plotly.newPlot(                        \"0336d301-ff1b-4dd5-b112-b9d217b5341c\",                        [{\"cells\":{\"align\":\"left\",\"fill\":{\"color\":\"#eaeaf2\"},\"values\":[[\"Medial Prefrontal Cortex Beta map\",\"Nucleus Accumbens Beta map\",\"Anterior Cingulate Cortex Beta map\",\"Anterior Insula (Right) Beta map\"],[-1.05821,-5.12936,-15.2529,-4.70286],[0.28996,\"2.90770e-07\",\"1.59305e-52\",\"2.5657e-06\"],[0.5,0.5,0.5,0.5],[\"Fail to Reject Null H0\",\"Reject Null H0\",\"Reject Null H0\",\"Reject Null H0\"]]},\"header\":{\"align\":\"center\",\"fill\":{\"color\":\"#96c6e2\"},\"values\":[\"Region\",\"Test Statistic\",\"p-value\",\"alpha\",\"Hypothesis\"]},\"type\":\"table\"}],                        {\"template\":{\"data\":{\"bar\":[{\"error_x\":{\"color\":\"#2a3f5f\"},\"error_y\":{\"color\":\"#2a3f5f\"},\"marker\":{\"line\":{\"color\":\"#E5ECF6\",\"width\":0.5},\"pattern\":{\"fillmode\":\"overlay\",\"size\":10,\"solidity\":0.2}},\"type\":\"bar\"}],\"barpolar\":[{\"marker\":{\"line\":{\"color\":\"#E5ECF6\",\"width\":0.5},\"pattern\":{\"fillmode\":\"overlay\",\"size\":10,\"solidity\":0.2}},\"type\":\"barpolar\"}],\"carpet\":[{\"aaxis\":{\"endlinecolor\":\"#2a3f5f\",\"gridcolor\":\"white\",\"linecolor\":\"white\",\"minorgridcolor\":\"white\",\"startlinecolor\":\"#2a3f5f\"},\"baxis\":{\"endlinecolor\":\"#2a3f5f\",\"gridcolor\":\"white\",\"linecolor\":\"white\",\"minorgridcolor\":\"white\",\"startlinecolor\":\"#2a3f5f\"},\"type\":\"carpet\"}],\"choropleth\":[{\"colorbar\":{\"outlinewidth\":0,\"ticks\":\"\"},\"type\":\"choropleth\"}],\"contour\":[{\"colorbar\":{\"outlinewidth\":0,\"ticks\":\"\"},\"colorscale\":[[0.0,\"#0d0887\"],[0.1111111111111111,\"#46039f\"],[0.2222222222222222,\"#7201a8\"],[0.3333333333333333,\"#9c179e\"],[0.4444444444444444,\"#bd3786\"],[0.5555555555555556,\"#d8576b\"],[0.6666666666666666,\"#ed7953\"],[0.7777777777777778,\"#fb9f3a\"],[0.8888888888888888,\"#fdca26\"],[1.0,\"#f0f921\"]],\"type\":\"contour\"}],\"contourcarpet\":[{\"colorbar\":{\"outlinewidth\":0,\"ticks\":\"\"},\"type\":\"contourcarpet\"}],\"heatmap\":[{\"colorbar\":{\"outlinewidth\":0,\"ticks\":\"\"},\"colorscale\":[[0.0,\"#0d0887\"],[0.1111111111111111,\"#46039f\"],[0.2222222222222222,\"#7201a8\"],[0.3333333333333333,\"#9c179e\"],[0.4444444444444444,\"#bd3786\"],[0.5555555555555556,\"#d8576b\"],[0.6666666666666666,\"#ed7953\"],[0.7777777777777778,\"#fb9f3a\"],[0.8888888888888888,\"#fdca26\"],[1.0,\"#f0f921\"]],\"type\":\"heatmap\"}],\"heatmapgl\":[{\"colorbar\":{\"outlinewidth\":0,\"ticks\":\"\"},\"colorscale\":[[0.0,\"#0d0887\"],[0.1111111111111111,\"#46039f\"],[0.2222222222222222,\"#7201a8\"],[0.3333333333333333,\"#9c179e\"],[0.4444444444444444,\"#bd3786\"],[0.5555555555555556,\"#d8576b\"],[0.6666666666666666,\"#ed7953\"],[0.7777777777777778,\"#fb9f3a\"],[0.8888888888888888,\"#fdca26\"],[1.0,\"#f0f921\"]],\"type\":\"heatmapgl\"}],\"histogram\":[{\"marker\":{\"pattern\":{\"fillmode\":\"overlay\",\"size\":10,\"solidity\":0.2}},\"type\":\"histogram\"}],\"histogram2d\":[{\"colorbar\":{\"outlinewidth\":0,\"ticks\":\"\"},\"colorscale\":[[0.0,\"#0d0887\"],[0.1111111111111111,\"#46039f\"],[0.2222222222222222,\"#7201a8\"],[0.3333333333333333,\"#9c179e\"],[0.4444444444444444,\"#bd3786\"],[0.5555555555555556,\"#d8576b\"],[0.6666666666666666,\"#ed7953\"],[0.7777777777777778,\"#fb9f3a\"],[0.8888888888888888,\"#fdca26\"],[1.0,\"#f0f921\"]],\"type\":\"histogram2d\"}],\"histogram2dcontour\":[{\"colorbar\":{\"outlinewidth\":0,\"ticks\":\"\"},\"colorscale\":[[0.0,\"#0d0887\"],[0.1111111111111111,\"#46039f\"],[0.2222222222222222,\"#7201a8\"],[0.3333333333333333,\"#9c179e\"],[0.4444444444444444,\"#bd3786\"],[0.5555555555555556,\"#d8576b\"],[0.6666666666666666,\"#ed7953\"],[0.7777777777777778,\"#fb9f3a\"],[0.8888888888888888,\"#fdca26\"],[1.0,\"#f0f921\"]],\"type\":\"histogram2dcontour\"}],\"mesh3d\":[{\"colorbar\":{\"outlinewidth\":0,\"ticks\":\"\"},\"type\":\"mesh3d\"}],\"parcoords\":[{\"line\":{\"colorbar\":{\"outlinewidth\":0,\"ticks\":\"\"}},\"type\":\"parcoords\"}],\"pie\":[{\"automargin\":true,\"type\":\"pie\"}],\"scatter\":[{\"marker\":{\"colorbar\":{\"outlinewidth\":0,\"ticks\":\"\"}},\"type\":\"scatter\"}],\"scatter3d\":[{\"line\":{\"colorbar\":{\"outlinewidth\":0,\"ticks\":\"\"}},\"marker\":{\"colorbar\":{\"outlinewidth\":0,\"ticks\":\"\"}},\"type\":\"scatter3d\"}],\"scattercarpet\":[{\"marker\":{\"colorbar\":{\"outlinewidth\":0,\"ticks\":\"\"}},\"type\":\"scattercarpet\"}],\"scattergeo\":[{\"marker\":{\"colorbar\":{\"outlinewidth\":0,\"ticks\":\"\"}},\"type\":\"scattergeo\"}],\"scattergl\":[{\"marker\":{\"colorbar\":{\"outlinewidth\":0,\"ticks\":\"\"}},\"type\":\"scattergl\"}],\"scattermapbox\":[{\"marker\":{\"colorbar\":{\"outlinewidth\":0,\"ticks\":\"\"}},\"type\":\"scattermapbox\"}],\"scatterpolar\":[{\"marker\":{\"colorbar\":{\"outlinewidth\":0,\"ticks\":\"\"}},\"type\":\"scatterpolar\"}],\"scatterpolargl\":[{\"marker\":{\"colorbar\":{\"outlinewidth\":0,\"ticks\":\"\"}},\"type\":\"scatterpolargl\"}],\"scatterternary\":[{\"marker\":{\"colorbar\":{\"outlinewidth\":0,\"ticks\":\"\"}},\"type\":\"scatterternary\"}],\"surface\":[{\"colorbar\":{\"outlinewidth\":0,\"ticks\":\"\"},\"colorscale\":[[0.0,\"#0d0887\"],[0.1111111111111111,\"#46039f\"],[0.2222222222222222,\"#7201a8\"],[0.3333333333333333,\"#9c179e\"],[0.4444444444444444,\"#bd3786\"],[0.5555555555555556,\"#d8576b\"],[0.6666666666666666,\"#ed7953\"],[0.7777777777777778,\"#fb9f3a\"],[0.8888888888888888,\"#fdca26\"],[1.0,\"#f0f921\"]],\"type\":\"surface\"}],\"table\":[{\"cells\":{\"fill\":{\"color\":\"#EBF0F8\"},\"line\":{\"color\":\"white\"}},\"header\":{\"fill\":{\"color\":\"#C8D4E3\"},\"line\":{\"color\":\"white\"}},\"type\":\"table\"}]},\"layout\":{\"annotationdefaults\":{\"arrowcolor\":\"#2a3f5f\",\"arrowhead\":0,\"arrowwidth\":1},\"autotypenumbers\":\"strict\",\"coloraxis\":{\"colorbar\":{\"outlinewidth\":0,\"ticks\":\"\"}},\"colorscale\":{\"diverging\":[[0,\"#8e0152\"],[0.1,\"#c51b7d\"],[0.2,\"#de77ae\"],[0.3,\"#f1b6da\"],[0.4,\"#fde0ef\"],[0.5,\"#f7f7f7\"],[0.6,\"#e6f5d0\"],[0.7,\"#b8e186\"],[0.8,\"#7fbc41\"],[0.9,\"#4d9221\"],[1,\"#276419\"]],\"sequential\":[[0.0,\"#0d0887\"],[0.1111111111111111,\"#46039f\"],[0.2222222222222222,\"#7201a8\"],[0.3333333333333333,\"#9c179e\"],[0.4444444444444444,\"#bd3786\"],[0.5555555555555556,\"#d8576b\"],[0.6666666666666666,\"#ed7953\"],[0.7777777777777778,\"#fb9f3a\"],[0.8888888888888888,\"#fdca26\"],[1.0,\"#f0f921\"]],\"sequentialminus\":[[0.0,\"#0d0887\"],[0.1111111111111111,\"#46039f\"],[0.2222222222222222,\"#7201a8\"],[0.3333333333333333,\"#9c179e\"],[0.4444444444444444,\"#bd3786\"],[0.5555555555555556,\"#d8576b\"],[0.6666666666666666,\"#ed7953\"],[0.7777777777777778,\"#fb9f3a\"],[0.8888888888888888,\"#fdca26\"],[1.0,\"#f0f921\"]]},\"colorway\":[\"#636efa\",\"#EF553B\",\"#00cc96\",\"#ab63fa\",\"#FFA15A\",\"#19d3f3\",\"#FF6692\",\"#B6E880\",\"#FF97FF\",\"#FECB52\"],\"font\":{\"color\":\"#2a3f5f\"},\"geo\":{\"bgcolor\":\"white\",\"lakecolor\":\"white\",\"landcolor\":\"#E5ECF6\",\"showlakes\":true,\"showland\":true,\"subunitcolor\":\"white\"},\"hoverlabel\":{\"align\":\"left\"},\"hovermode\":\"closest\",\"mapbox\":{\"style\":\"light\"},\"paper_bgcolor\":\"white\",\"plot_bgcolor\":\"#E5ECF6\",\"polar\":{\"angularaxis\":{\"gridcolor\":\"white\",\"linecolor\":\"white\",\"ticks\":\"\"},\"bgcolor\":\"#E5ECF6\",\"radialaxis\":{\"gridcolor\":\"white\",\"linecolor\":\"white\",\"ticks\":\"\"}},\"scene\":{\"xaxis\":{\"backgroundcolor\":\"#E5ECF6\",\"gridcolor\":\"white\",\"gridwidth\":2,\"linecolor\":\"white\",\"showbackground\":true,\"ticks\":\"\",\"zerolinecolor\":\"white\"},\"yaxis\":{\"backgroundcolor\":\"#E5ECF6\",\"gridcolor\":\"white\",\"gridwidth\":2,\"linecolor\":\"white\",\"showbackground\":true,\"ticks\":\"\",\"zerolinecolor\":\"white\"},\"zaxis\":{\"backgroundcolor\":\"#E5ECF6\",\"gridcolor\":\"white\",\"gridwidth\":2,\"linecolor\":\"white\",\"showbackground\":true,\"ticks\":\"\",\"zerolinecolor\":\"white\"}},\"shapedefaults\":{\"line\":{\"color\":\"#2a3f5f\"}},\"ternary\":{\"aaxis\":{\"gridcolor\":\"white\",\"linecolor\":\"white\",\"ticks\":\"\"},\"baxis\":{\"gridcolor\":\"white\",\"linecolor\":\"white\",\"ticks\":\"\"},\"bgcolor\":\"#E5ECF6\",\"caxis\":{\"gridcolor\":\"white\",\"linecolor\":\"white\",\"ticks\":\"\"}},\"title\":{\"x\":0.05},\"xaxis\":{\"automargin\":true,\"gridcolor\":\"white\",\"linecolor\":\"white\",\"ticks\":\"\",\"title\":{\"standoff\":15},\"zerolinecolor\":\"white\",\"zerolinewidth\":2},\"yaxis\":{\"automargin\":true,\"gridcolor\":\"white\",\"linecolor\":\"white\",\"ticks\":\"\",\"title\":{\"standoff\":15},\"zerolinecolor\":\"white\",\"zerolinewidth\":2}}},\"title\":{\"text\":\"Two Tailed T-Test Between ROI Beta Maps for Young Adults and Adolescents\",\"x\":0.5},\"height\":650,\"width\":900},                        {\"responsive\": true}                    ).then(function(){\n",
              "                            \n",
              "var gd = document.getElementById('0336d301-ff1b-4dd5-b112-b9d217b5341c');\n",
              "var x = new MutationObserver(function (mutations, observer) {{\n",
              "        var display = window.getComputedStyle(gd).display;\n",
              "        if (!display || display === 'none') {{\n",
              "            console.log([gd, 'removed!']);\n",
              "            Plotly.purge(gd);\n",
              "            observer.disconnect();\n",
              "        }}\n",
              "}});\n",
              "\n",
              "// Listen for the removal of the full notebook cells\n",
              "var notebookContainer = gd.closest('#notebook-container');\n",
              "if (notebookContainer) {{\n",
              "    x.observe(notebookContainer, {childList: true});\n",
              "}}\n",
              "\n",
              "// Listen for the clearing of the current output cell\n",
              "var outputEl = gd.closest('.output');\n",
              "if (outputEl) {{\n",
              "    x.observe(outputEl, {childList: true});\n",
              "}}\n",
              "\n",
              "                        })                };                            </script>        </div>\n",
              "</body>\n",
              "</html>"
            ]
          },
          "metadata": {}
        }
      ]
    },
    {
      "cell_type": "markdown",
      "source": [
        ">Fin"
      ],
      "metadata": {
        "id": "VnjpZyP1mVco"
      }
    }
  ]
}